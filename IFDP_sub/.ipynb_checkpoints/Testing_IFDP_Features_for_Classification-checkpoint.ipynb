{
 "cells": [
  {
   "cell_type": "code",
   "execution_count": 44,
   "id": "9bf1b689",
   "metadata": {},
   "outputs": [],
   "source": [
    "import os\n",
    "import pandas as pd\n",
    "import numpy as np"
   ]
  },
  {
   "cell_type": "code",
   "execution_count": 6,
   "id": "67353c4a",
   "metadata": {},
   "outputs": [],
   "source": [
    "os.chdir(r'D:\\subFinder')"
   ]
  },
  {
   "cell_type": "code",
   "execution_count": 7,
   "id": "3bb2c028",
   "metadata": {},
   "outputs": [],
   "source": [
    "# read in the PUL data\n",
    "pul_data = pd.read_csv(r\"Data/Supervised_Sequences/updated_data_filtered.csv\")"
   ]
  },
  {
   "cell_type": "code",
   "execution_count": 8,
   "id": "8cd9f585",
   "metadata": {},
   "outputs": [],
   "source": [
    "pul_data = pul_data.sort_values(\"PULid\")"
   ]
  },
  {
   "cell_type": "code",
   "execution_count": 9,
   "id": "61e3a06c",
   "metadata": {},
   "outputs": [],
   "source": [
    "pul_data = pul_data.reset_index(drop = True)"
   ]
  },
  {
   "cell_type": "code",
   "execution_count": 10,
   "id": "02c761d6",
   "metadata": {},
   "outputs": [],
   "source": [
    "# pul_data"
   ]
  },
  {
   "cell_type": "code",
   "execution_count": 11,
   "id": "74df6f1c",
   "metadata": {},
   "outputs": [],
   "source": [
    "path = r\"D:\\subFinder\\IFDP_sub\\PUL\\EC_out\""
   ]
  },
  {
   "cell_type": "code",
   "execution_count": 40,
   "id": "1721b2eb",
   "metadata": {},
   "outputs": [],
   "source": [
    "catch = []\n",
    "catch_no_preds = []\n",
    "for item in os.listdir(path):\n",
    "    pulid = item.split(\".\")[0]\n",
    "    df = pd.read_csv(path + \"\\\\\" + item)\n",
    "    if df.shape[0] > 0:\n",
    "        ec_string = \",\".join(np.repeat(df[\"EC number\"].values, df[\"counts\"].values))\n",
    "        ec_string_df = pd.DataFrame({\"EC_Sequence\": ec_string, \"PULid\": pulid}, index = [0])\n",
    "        catch.append(ec_string_df)"
   ]
  },
  {
   "cell_type": "code",
   "execution_count": 42,
   "id": "668ab2f7",
   "metadata": {},
   "outputs": [],
   "source": [
    "catch_df = pd.concat(catch)"
   ]
  },
  {
   "cell_type": "code",
   "execution_count": 59,
   "id": "273f0a40",
   "metadata": {},
   "outputs": [],
   "source": [
    "pul_data = pul_data.merge(catch_df)"
   ]
  },
  {
   "cell_type": "code",
   "execution_count": 66,
   "id": "35e0a22d",
   "metadata": {},
   "outputs": [
    {
     "data": {
      "text/html": [
       "<div>\n",
       "<style scoped>\n",
       "    .dataframe tbody tr th:only-of-type {\n",
       "        vertical-align: middle;\n",
       "    }\n",
       "\n",
       "    .dataframe tbody tr th {\n",
       "        vertical-align: top;\n",
       "    }\n",
       "\n",
       "    .dataframe thead th {\n",
       "        text-align: right;\n",
       "    }\n",
       "</style>\n",
       "<table border=\"1\" class=\"dataframe\">\n",
       "  <thead>\n",
       "    <tr style=\"text-align: right;\">\n",
       "      <th></th>\n",
       "      <th>PUL ID</th>\n",
       "      <th>high_level_substr</th>\n",
       "      <th>PULid</th>\n",
       "      <th>sig_gene_seq</th>\n",
       "      <th>EC_Sequence</th>\n",
       "    </tr>\n",
       "  </thead>\n",
       "  <tbody>\n",
       "    <tr>\n",
       "      <th>0</th>\n",
       "      <td>PUL0001</td>\n",
       "      <td>beta-mannan</td>\n",
       "      <td>PUL0001</td>\n",
       "      <td>GH1,8.A.49,null,null,CE2,GH130,GH130,null,3.A....</td>\n",
       "      <td>3.2.1.20,3.2.1.22,3.2.1.23,3.2.1.23,3.2.1.4,3....</td>\n",
       "    </tr>\n",
       "    <tr>\n",
       "      <th>1</th>\n",
       "      <td>PUL0002</td>\n",
       "      <td>beta-glucan</td>\n",
       "      <td>PUL0002</td>\n",
       "      <td>null,GH16</td>\n",
       "      <td>3.2.1.73</td>\n",
       "    </tr>\n",
       "    <tr>\n",
       "      <th>2</th>\n",
       "      <td>PUL0003</td>\n",
       "      <td>xylan</td>\n",
       "      <td>PUL0003</td>\n",
       "      <td>GH30_8,GH43_16|CBM6</td>\n",
       "      <td>3.2.1.136,3.2.1.55</td>\n",
       "    </tr>\n",
       "    <tr>\n",
       "      <th>3</th>\n",
       "      <td>PUL0006</td>\n",
       "      <td>galactan</td>\n",
       "      <td>PUL0006</td>\n",
       "      <td>GH1,HTH_6|SIS,null,null,3.A.1,8.A.59,Response_...</td>\n",
       "      <td>3.2.1.-,3.2.1.37,3.2.1.85,3.2.1.86</td>\n",
       "    </tr>\n",
       "    <tr>\n",
       "      <th>4</th>\n",
       "      <td>PUL0007</td>\n",
       "      <td>galactan</td>\n",
       "      <td>PUL0007</td>\n",
       "      <td>null,null,null,null,GH53,2.A.2,GH42,LacI</td>\n",
       "      <td>3.2.1.23,3.2.1.89</td>\n",
       "    </tr>\n",
       "    <tr>\n",
       "      <th>...</th>\n",
       "      <td>...</td>\n",
       "      <td>...</td>\n",
       "      <td>...</td>\n",
       "      <td>...</td>\n",
       "      <td>...</td>\n",
       "    </tr>\n",
       "    <tr>\n",
       "      <th>326</th>\n",
       "      <td>PUL0596</td>\n",
       "      <td>starch</td>\n",
       "      <td>PUL0596</td>\n",
       "      <td>SBP_bac_1,3.A.1,3.A.1,GH13_36</td>\n",
       "      <td>3.2.1.1</td>\n",
       "    </tr>\n",
       "    <tr>\n",
       "      <th>327</th>\n",
       "      <td>PUL0599</td>\n",
       "      <td>xylan</td>\n",
       "      <td>PUL0599</td>\n",
       "      <td>HTH_AraC|HTH_AraC,dCache_1|HATPase_c,SBP_bac_1...</td>\n",
       "      <td>3.2.1.21,3.2.1.37</td>\n",
       "    </tr>\n",
       "    <tr>\n",
       "      <th>328</th>\n",
       "      <td>PUL0600</td>\n",
       "      <td>galactomannan</td>\n",
       "      <td>PUL0600</td>\n",
       "      <td>null,null,GH130,GH130,null,3.A.1,3.A.1,SBP_bac...</td>\n",
       "      <td>3.2.1.165,3.2.1.20,3.2.1.20,3.2.1.23,3.2.1.37</td>\n",
       "    </tr>\n",
       "    <tr>\n",
       "      <th>329</th>\n",
       "      <td>PUL0601</td>\n",
       "      <td>pectin</td>\n",
       "      <td>PUL0601</td>\n",
       "      <td>null,null,null,null,GntR,GH28,2.A.2,GH105,null...</td>\n",
       "      <td>3.2.1.139,3.2.1.15,3.2.1.15,3.2.1.172,3.2.1.23...</td>\n",
       "    </tr>\n",
       "    <tr>\n",
       "      <th>330</th>\n",
       "      <td>PUL0602</td>\n",
       "      <td>xylan</td>\n",
       "      <td>PUL0602</td>\n",
       "      <td>null,null,null,null,GH10,9.B.28,null,null,null...</td>\n",
       "      <td>3.2.1.131,3.2.1.15,3.2.1.37,3.2.1.37,3.2.1.37,...</td>\n",
       "    </tr>\n",
       "  </tbody>\n",
       "</table>\n",
       "<p>331 rows × 5 columns</p>\n",
       "</div>"
      ],
      "text/plain": [
       "      PUL ID high_level_substr    PULid  \\\n",
       "0    PUL0001       beta-mannan  PUL0001   \n",
       "1    PUL0002       beta-glucan  PUL0002   \n",
       "2    PUL0003             xylan  PUL0003   \n",
       "3    PUL0006          galactan  PUL0006   \n",
       "4    PUL0007          galactan  PUL0007   \n",
       "..       ...               ...      ...   \n",
       "326  PUL0596            starch  PUL0596   \n",
       "327  PUL0599             xylan  PUL0599   \n",
       "328  PUL0600     galactomannan  PUL0600   \n",
       "329  PUL0601            pectin  PUL0601   \n",
       "330  PUL0602             xylan  PUL0602   \n",
       "\n",
       "                                          sig_gene_seq  \\\n",
       "0    GH1,8.A.49,null,null,CE2,GH130,GH130,null,3.A....   \n",
       "1                                            null,GH16   \n",
       "2                                  GH30_8,GH43_16|CBM6   \n",
       "3    GH1,HTH_6|SIS,null,null,3.A.1,8.A.59,Response_...   \n",
       "4             null,null,null,null,GH53,2.A.2,GH42,LacI   \n",
       "..                                                 ...   \n",
       "326                      SBP_bac_1,3.A.1,3.A.1,GH13_36   \n",
       "327  HTH_AraC|HTH_AraC,dCache_1|HATPase_c,SBP_bac_1...   \n",
       "328  null,null,GH130,GH130,null,3.A.1,3.A.1,SBP_bac...   \n",
       "329  null,null,null,null,GntR,GH28,2.A.2,GH105,null...   \n",
       "330  null,null,null,null,GH10,9.B.28,null,null,null...   \n",
       "\n",
       "                                           EC_Sequence  \n",
       "0    3.2.1.20,3.2.1.22,3.2.1.23,3.2.1.23,3.2.1.4,3....  \n",
       "1                                             3.2.1.73  \n",
       "2                                   3.2.1.136,3.2.1.55  \n",
       "3                   3.2.1.-,3.2.1.37,3.2.1.85,3.2.1.86  \n",
       "4                                    3.2.1.23,3.2.1.89  \n",
       "..                                                 ...  \n",
       "326                                            3.2.1.1  \n",
       "327                                  3.2.1.21,3.2.1.37  \n",
       "328      3.2.1.165,3.2.1.20,3.2.1.20,3.2.1.23,3.2.1.37  \n",
       "329  3.2.1.139,3.2.1.15,3.2.1.15,3.2.1.172,3.2.1.23...  \n",
       "330  3.2.1.131,3.2.1.15,3.2.1.37,3.2.1.37,3.2.1.37,...  \n",
       "\n",
       "[331 rows x 5 columns]"
      ]
     },
     "execution_count": 66,
     "metadata": {},
     "output_type": "execute_result"
    }
   ],
   "source": [
    "pul_data"
   ]
  },
  {
   "cell_type": "code",
   "execution_count": 46,
   "id": "c376ee65",
   "metadata": {},
   "outputs": [],
   "source": [
    "# read the mapping tables"
   ]
  },
  {
   "cell_type": "code",
   "execution_count": 47,
   "id": "afd8ee3c",
   "metadata": {},
   "outputs": [],
   "source": [
    "sub_bond = pd.read_excel(r\"D:\\subFinder\\IFDP_sub\\substrate_bond_mapping.xlsx\")"
   ]
  },
  {
   "cell_type": "code",
   "execution_count": 48,
   "id": "a666505a",
   "metadata": {},
   "outputs": [],
   "source": [
    "ec_bond = pd.read_excel(r\"D:\\subFinder\\IFDP_sub\\ec_bond_mapping.xlsx\")"
   ]
  },
  {
   "cell_type": "code",
   "execution_count": 49,
   "id": "4c7b2ed5",
   "metadata": {},
   "outputs": [
    {
     "data": {
      "text/html": [
       "<div>\n",
       "<style scoped>\n",
       "    .dataframe tbody tr th:only-of-type {\n",
       "        vertical-align: middle;\n",
       "    }\n",
       "\n",
       "    .dataframe tbody tr th {\n",
       "        vertical-align: top;\n",
       "    }\n",
       "\n",
       "    .dataframe thead th {\n",
       "        text-align: right;\n",
       "    }\n",
       "</style>\n",
       "<table border=\"1\" class=\"dataframe\">\n",
       "  <thead>\n",
       "    <tr style=\"text-align: right;\">\n",
       "      <th></th>\n",
       "      <th>Fiber</th>\n",
       "      <th>Main bond</th>\n",
       "      <th>side chain bonds</th>\n",
       "    </tr>\n",
       "  </thead>\n",
       "  <tbody>\n",
       "    <tr>\n",
       "      <th>0</th>\n",
       "      <td>Inulin</td>\n",
       "      <td>Fru b2-1 Fru</td>\n",
       "      <td>NaN</td>\n",
       "    </tr>\n",
       "    <tr>\n",
       "      <th>1</th>\n",
       "      <td>Levan</td>\n",
       "      <td>Fru b2-6 Fru</td>\n",
       "      <td>NaN</td>\n",
       "    </tr>\n",
       "    <tr>\n",
       "      <th>2</th>\n",
       "      <td>Beta-glucan</td>\n",
       "      <td>Glu b1-3 Glu\\nGlu b1-4 Glu\\nGlu b1-6 Glu</td>\n",
       "      <td>NaN</td>\n",
       "    </tr>\n",
       "    <tr>\n",
       "      <th>3</th>\n",
       "      <td>Xylan</td>\n",
       "      <td>Xyl b1-4 Xyl</td>\n",
       "      <td>NaN</td>\n",
       "    </tr>\n",
       "    <tr>\n",
       "      <th>4</th>\n",
       "      <td>Glucomannan</td>\n",
       "      <td>Man b1-4 Man\\nMan b1-4 Gal</td>\n",
       "      <td>NaN</td>\n",
       "    </tr>\n",
       "  </tbody>\n",
       "</table>\n",
       "</div>"
      ],
      "text/plain": [
       "         Fiber                                 Main bond side chain bonds\n",
       "0       Inulin                              Fru b2-1 Fru              NaN\n",
       "1        Levan                              Fru b2-6 Fru              NaN\n",
       "2  Beta-glucan  Glu b1-3 Glu\\nGlu b1-4 Glu\\nGlu b1-6 Glu              NaN\n",
       "3        Xylan                              Xyl b1-4 Xyl              NaN\n",
       "4  Glucomannan                Man b1-4 Man\\nMan b1-4 Gal              NaN"
      ]
     },
     "execution_count": 49,
     "metadata": {},
     "output_type": "execute_result"
    }
   ],
   "source": [
    "sub_bond.head()"
   ]
  },
  {
   "cell_type": "code",
   "execution_count": 50,
   "id": "b100d453",
   "metadata": {},
   "outputs": [
    {
     "data": {
      "text/html": [
       "<div>\n",
       "<style scoped>\n",
       "    .dataframe tbody tr th:only-of-type {\n",
       "        vertical-align: middle;\n",
       "    }\n",
       "\n",
       "    .dataframe tbody tr th {\n",
       "        vertical-align: top;\n",
       "    }\n",
       "\n",
       "    .dataframe thead th {\n",
       "        text-align: right;\n",
       "    }\n",
       "</style>\n",
       "<table border=\"1\" class=\"dataframe\">\n",
       "  <thead>\n",
       "    <tr style=\"text-align: right;\">\n",
       "      <th></th>\n",
       "      <th>EC number</th>\n",
       "      <th>Enzyme Name</th>\n",
       "      <th>Linkages Broken</th>\n",
       "    </tr>\n",
       "  </thead>\n",
       "  <tbody>\n",
       "    <tr>\n",
       "      <th>0</th>\n",
       "      <td>3.2.1.1</td>\n",
       "      <td>alpha-amylase</td>\n",
       "      <td>Glc a1-4 Glc</td>\n",
       "    </tr>\n",
       "    <tr>\n",
       "      <th>1</th>\n",
       "      <td>3.2.1.10</td>\n",
       "      <td>oligo-1,6-glucosidase</td>\n",
       "      <td>Glc a1-6 Glc</td>\n",
       "    </tr>\n",
       "    <tr>\n",
       "      <th>2</th>\n",
       "      <td>3.2.1.100</td>\n",
       "      <td>mannan 1,4-mannobiosidase</td>\n",
       "      <td>Man b1-4 Man</td>\n",
       "    </tr>\n",
       "    <tr>\n",
       "      <th>3</th>\n",
       "      <td>3.2.1.101</td>\n",
       "      <td>mannan endo-1,6-alpha-mannosidase</td>\n",
       "      <td>Man a1-6 Man</td>\n",
       "    </tr>\n",
       "    <tr>\n",
       "      <th>4</th>\n",
       "      <td>3.2.1.102</td>\n",
       "      <td>blood-group-substance endo-1,4-beta-galactosidase</td>\n",
       "      <td>Gal b1-4 Gal</td>\n",
       "    </tr>\n",
       "  </tbody>\n",
       "</table>\n",
       "</div>"
      ],
      "text/plain": [
       "   EC number                                        Enzyme Name  \\\n",
       "0    3.2.1.1                                      alpha-amylase   \n",
       "1   3.2.1.10                              oligo-1,6-glucosidase   \n",
       "2  3.2.1.100                          mannan 1,4-mannobiosidase   \n",
       "3  3.2.1.101                  mannan endo-1,6-alpha-mannosidase   \n",
       "4  3.2.1.102  blood-group-substance endo-1,4-beta-galactosidase   \n",
       "\n",
       "  Linkages Broken  \n",
       "0    Glc a1-4 Glc  \n",
       "1    Glc a1-6 Glc  \n",
       "2    Man b1-4 Man  \n",
       "3    Man a1-6 Man  \n",
       "4    Gal b1-4 Gal  "
      ]
     },
     "execution_count": 50,
     "metadata": {},
     "output_type": "execute_result"
    }
   ],
   "source": [
    "ec_bond.head()"
   ]
  },
  {
   "cell_type": "code",
   "execution_count": 51,
   "id": "ba272860",
   "metadata": {},
   "outputs": [],
   "source": [
    "from sklearn.pipeline import Pipeline\n",
    "from sklearn.feature_extraction.text import CountVectorizer\n",
    "from sklearn.model_selection import GridSearchCV"
   ]
  },
  {
   "cell_type": "code",
   "execution_count": 53,
   "id": "a7173fe8",
   "metadata": {},
   "outputs": [],
   "source": [
    "from sklearn.multiclass import OneVsRestClassifier"
   ]
  },
  {
   "cell_type": "code",
   "execution_count": 55,
   "id": "e39b7ef9",
   "metadata": {},
   "outputs": [],
   "source": [
    "from imblearn.ensemble import BalancedRandomForestClassifier"
   ]
  },
  {
   "cell_type": "code",
   "execution_count": 57,
   "id": "75bb2be2",
   "metadata": {},
   "outputs": [],
   "source": [
    "parameters_one_vs_rest = {\"vr__estimator__n_estimators\": [100], \n",
    "                              \"vr__estimator__class_weight\": [\"balanced\"]}"
   ]
  },
  {
   "cell_type": "code",
   "execution_count": 58,
   "id": "e74771d4",
   "metadata": {},
   "outputs": [],
   "source": [
    "clf_one_vs_rest = Pipeline([('vectorizer',CountVectorizer(tokenizer=lambda x: str(x).replace(\"|\", \",\").split(','), \n",
    "                                                              lowercase = False)), \n",
    "                                \n",
    "                                ('vr', OneVsRestClassifier(BalancedRandomForestClassifier(n_jobs = 7)))\n",
    "                                  ])\n",
    "            \n",
    "gs_one_vs_rest = GridSearchCV(clf_one_vs_rest, parameters_one_vs_rest, cv = 10, n_jobs = 7, scoring = \"balanced_accuracy\", verbose = 0)"
   ]
  },
  {
   "cell_type": "code",
   "execution_count": 64,
   "id": "388a6401",
   "metadata": {},
   "outputs": [],
   "source": [
    "to_keep = list(pul_data[\"high_level_substr\"].value_counts()[1:7].index)"
   ]
  },
  {
   "cell_type": "code",
   "execution_count": 65,
   "id": "f2790ae1",
   "metadata": {},
   "outputs": [],
   "source": [
    "pul_data_model  = pul_data[pul_data[\"high_level_substr\"].isin(to_keep)]"
   ]
  },
  {
   "cell_type": "code",
   "execution_count": 67,
   "id": "bd4380a8",
   "metadata": {},
   "outputs": [
    {
     "data": {
      "text/html": [
       "<style>#sk-container-id-1 {color: black;background-color: white;}#sk-container-id-1 pre{padding: 0;}#sk-container-id-1 div.sk-toggleable {background-color: white;}#sk-container-id-1 label.sk-toggleable__label {cursor: pointer;display: block;width: 100%;margin-bottom: 0;padding: 0.3em;box-sizing: border-box;text-align: center;}#sk-container-id-1 label.sk-toggleable__label-arrow:before {content: \"▸\";float: left;margin-right: 0.25em;color: #696969;}#sk-container-id-1 label.sk-toggleable__label-arrow:hover:before {color: black;}#sk-container-id-1 div.sk-estimator:hover label.sk-toggleable__label-arrow:before {color: black;}#sk-container-id-1 div.sk-toggleable__content {max-height: 0;max-width: 0;overflow: hidden;text-align: left;background-color: #f0f8ff;}#sk-container-id-1 div.sk-toggleable__content pre {margin: 0.2em;color: black;border-radius: 0.25em;background-color: #f0f8ff;}#sk-container-id-1 input.sk-toggleable__control:checked~div.sk-toggleable__content {max-height: 200px;max-width: 100%;overflow: auto;}#sk-container-id-1 input.sk-toggleable__control:checked~label.sk-toggleable__label-arrow:before {content: \"▾\";}#sk-container-id-1 div.sk-estimator input.sk-toggleable__control:checked~label.sk-toggleable__label {background-color: #d4ebff;}#sk-container-id-1 div.sk-label input.sk-toggleable__control:checked~label.sk-toggleable__label {background-color: #d4ebff;}#sk-container-id-1 input.sk-hidden--visually {border: 0;clip: rect(1px 1px 1px 1px);clip: rect(1px, 1px, 1px, 1px);height: 1px;margin: -1px;overflow: hidden;padding: 0;position: absolute;width: 1px;}#sk-container-id-1 div.sk-estimator {font-family: monospace;background-color: #f0f8ff;border: 1px dotted black;border-radius: 0.25em;box-sizing: border-box;margin-bottom: 0.5em;}#sk-container-id-1 div.sk-estimator:hover {background-color: #d4ebff;}#sk-container-id-1 div.sk-parallel-item::after {content: \"\";width: 100%;border-bottom: 1px solid gray;flex-grow: 1;}#sk-container-id-1 div.sk-label:hover label.sk-toggleable__label {background-color: #d4ebff;}#sk-container-id-1 div.sk-serial::before {content: \"\";position: absolute;border-left: 1px solid gray;box-sizing: border-box;top: 0;bottom: 0;left: 50%;z-index: 0;}#sk-container-id-1 div.sk-serial {display: flex;flex-direction: column;align-items: center;background-color: white;padding-right: 0.2em;padding-left: 0.2em;position: relative;}#sk-container-id-1 div.sk-item {position: relative;z-index: 1;}#sk-container-id-1 div.sk-parallel {display: flex;align-items: stretch;justify-content: center;background-color: white;position: relative;}#sk-container-id-1 div.sk-item::before, #sk-container-id-1 div.sk-parallel-item::before {content: \"\";position: absolute;border-left: 1px solid gray;box-sizing: border-box;top: 0;bottom: 0;left: 50%;z-index: -1;}#sk-container-id-1 div.sk-parallel-item {display: flex;flex-direction: column;z-index: 1;position: relative;background-color: white;}#sk-container-id-1 div.sk-parallel-item:first-child::after {align-self: flex-end;width: 50%;}#sk-container-id-1 div.sk-parallel-item:last-child::after {align-self: flex-start;width: 50%;}#sk-container-id-1 div.sk-parallel-item:only-child::after {width: 0;}#sk-container-id-1 div.sk-dashed-wrapped {border: 1px dashed gray;margin: 0 0.4em 0.5em 0.4em;box-sizing: border-box;padding-bottom: 0.4em;background-color: white;}#sk-container-id-1 div.sk-label label {font-family: monospace;font-weight: bold;display: inline-block;line-height: 1.2em;}#sk-container-id-1 div.sk-label-container {text-align: center;}#sk-container-id-1 div.sk-container {/* jupyter's `normalize.less` sets `[hidden] { display: none; }` but bootstrap.min.css set `[hidden] { display: none !important; }` so we also need the `!important` here to be able to override the default hidden behavior on the sphinx rendered scikit-learn.org. See: https://github.com/scikit-learn/scikit-learn/issues/21755 */display: inline-block !important;position: relative;}#sk-container-id-1 div.sk-text-repr-fallback {display: none;}</style><div id=\"sk-container-id-1\" class=\"sk-top-container\"><div class=\"sk-text-repr-fallback\"><pre>GridSearchCV(cv=5,\n",
       "             estimator=Pipeline(steps=[(&#x27;vectorizer&#x27;,\n",
       "                                        CountVectorizer(lowercase=False,\n",
       "                                                        tokenizer=&lt;function &lt;lambda&gt; at 0x000002555AC69F70&gt;)),\n",
       "                                       (&#x27;vr&#x27;,\n",
       "                                        OneVsRestClassifier(estimator=BalancedRandomForestClassifier(n_jobs=7)))]),\n",
       "             n_jobs=7,\n",
       "             param_grid={&#x27;vr__estimator__class_weight&#x27;: [&#x27;balanced&#x27;],\n",
       "                         &#x27;vr__estimator__n_estimators&#x27;: [100]},\n",
       "             scoring=&#x27;balanced_accuracy&#x27;)</pre><b>In a Jupyter environment, please rerun this cell to show the HTML representation or trust the notebook. <br />On GitHub, the HTML representation is unable to render, please try loading this page with nbviewer.org.</b></div><div class=\"sk-container\" hidden><div class=\"sk-item sk-dashed-wrapped\"><div class=\"sk-label-container\"><div class=\"sk-label sk-toggleable\"><input class=\"sk-toggleable__control sk-hidden--visually\" id=\"sk-estimator-id-1\" type=\"checkbox\" ><label for=\"sk-estimator-id-1\" class=\"sk-toggleable__label sk-toggleable__label-arrow\">GridSearchCV</label><div class=\"sk-toggleable__content\"><pre>GridSearchCV(cv=5,\n",
       "             estimator=Pipeline(steps=[(&#x27;vectorizer&#x27;,\n",
       "                                        CountVectorizer(lowercase=False,\n",
       "                                                        tokenizer=&lt;function &lt;lambda&gt; at 0x000002555AC69F70&gt;)),\n",
       "                                       (&#x27;vr&#x27;,\n",
       "                                        OneVsRestClassifier(estimator=BalancedRandomForestClassifier(n_jobs=7)))]),\n",
       "             n_jobs=7,\n",
       "             param_grid={&#x27;vr__estimator__class_weight&#x27;: [&#x27;balanced&#x27;],\n",
       "                         &#x27;vr__estimator__n_estimators&#x27;: [100]},\n",
       "             scoring=&#x27;balanced_accuracy&#x27;)</pre></div></div></div><div class=\"sk-parallel\"><div class=\"sk-parallel-item\"><div class=\"sk-item\"><div class=\"sk-label-container\"><div class=\"sk-label sk-toggleable\"><input class=\"sk-toggleable__control sk-hidden--visually\" id=\"sk-estimator-id-2\" type=\"checkbox\" ><label for=\"sk-estimator-id-2\" class=\"sk-toggleable__label sk-toggleable__label-arrow\">estimator: Pipeline</label><div class=\"sk-toggleable__content\"><pre>Pipeline(steps=[(&#x27;vectorizer&#x27;,\n",
       "                 CountVectorizer(lowercase=False,\n",
       "                                 tokenizer=&lt;function &lt;lambda&gt; at 0x000002555AC69F70&gt;)),\n",
       "                (&#x27;vr&#x27;,\n",
       "                 OneVsRestClassifier(estimator=BalancedRandomForestClassifier(n_jobs=7)))])</pre></div></div></div><div class=\"sk-serial\"><div class=\"sk-item\"><div class=\"sk-serial\"><div class=\"sk-item\"><div class=\"sk-estimator sk-toggleable\"><input class=\"sk-toggleable__control sk-hidden--visually\" id=\"sk-estimator-id-3\" type=\"checkbox\" ><label for=\"sk-estimator-id-3\" class=\"sk-toggleable__label sk-toggleable__label-arrow\">CountVectorizer</label><div class=\"sk-toggleable__content\"><pre>CountVectorizer(lowercase=False,\n",
       "                tokenizer=&lt;function &lt;lambda&gt; at 0x000002555AC69F70&gt;)</pre></div></div></div><div class=\"sk-item sk-dashed-wrapped\"><div class=\"sk-label-container\"><div class=\"sk-label sk-toggleable\"><input class=\"sk-toggleable__control sk-hidden--visually\" id=\"sk-estimator-id-4\" type=\"checkbox\" ><label for=\"sk-estimator-id-4\" class=\"sk-toggleable__label sk-toggleable__label-arrow\">vr: OneVsRestClassifier</label><div class=\"sk-toggleable__content\"><pre>OneVsRestClassifier(estimator=BalancedRandomForestClassifier(n_jobs=7))</pre></div></div></div><div class=\"sk-parallel\"><div class=\"sk-parallel-item\"><div class=\"sk-item\"><div class=\"sk-label-container\"><div class=\"sk-label sk-toggleable\"><input class=\"sk-toggleable__control sk-hidden--visually\" id=\"sk-estimator-id-5\" type=\"checkbox\" ><label for=\"sk-estimator-id-5\" class=\"sk-toggleable__label sk-toggleable__label-arrow\">estimator: BalancedRandomForestClassifier</label><div class=\"sk-toggleable__content\"><pre>BalancedRandomForestClassifier(n_jobs=7)</pre></div></div></div><div class=\"sk-serial\"><div class=\"sk-item\"><div class=\"sk-estimator sk-toggleable\"><input class=\"sk-toggleable__control sk-hidden--visually\" id=\"sk-estimator-id-6\" type=\"checkbox\" ><label for=\"sk-estimator-id-6\" class=\"sk-toggleable__label sk-toggleable__label-arrow\">BalancedRandomForestClassifier</label><div class=\"sk-toggleable__content\"><pre>BalancedRandomForestClassifier(n_jobs=7)</pre></div></div></div></div></div></div></div></div></div></div></div></div></div></div></div></div></div>"
      ],
      "text/plain": [
       "GridSearchCV(cv=5,\n",
       "             estimator=Pipeline(steps=[('vectorizer',\n",
       "                                        CountVectorizer(lowercase=False,\n",
       "                                                        tokenizer=<function <lambda> at 0x000002555AC69F70>)),\n",
       "                                       ('vr',\n",
       "                                        OneVsRestClassifier(estimator=BalancedRandomForestClassifier(n_jobs=7)))]),\n",
       "             n_jobs=7,\n",
       "             param_grid={'vr__estimator__class_weight': ['balanced'],\n",
       "                         'vr__estimator__n_estimators': [100]},\n",
       "             scoring='balanced_accuracy')"
      ]
     },
     "execution_count": 67,
     "metadata": {},
     "output_type": "execute_result"
    }
   ],
   "source": [
    "gs_one_vs_rest.fit(pul_data_model[\"EC_Sequence\"], pul_data_model[\"high_level_substr\"])"
   ]
  },
  {
   "cell_type": "code",
   "execution_count": 68,
   "id": "75ef63b7",
   "metadata": {},
   "outputs": [
    {
     "data": {
      "text/plain": [
       "0.7886507936507935"
      ]
     },
     "execution_count": 68,
     "metadata": {},
     "output_type": "execute_result"
    }
   ],
   "source": [
    "gs_one_vs_rest.best_score_"
   ]
  },
  {
   "cell_type": "code",
   "execution_count": 75,
   "id": "1690b179",
   "metadata": {},
   "outputs": [
    {
     "data": {
      "text/plain": [
       "0.057946291846201155"
      ]
     },
     "execution_count": 75,
     "metadata": {},
     "output_type": "execute_result"
    }
   ],
   "source": [
    "gs_one_vs_rest.cv_results_['std_test_score'][0]"
   ]
  },
  {
   "cell_type": "code",
   "execution_count": 69,
   "id": "8c52ef33",
   "metadata": {},
   "outputs": [],
   "source": [
    "clf_one_vs_rest = Pipeline([('vectorizer',CountVectorizer(tokenizer=lambda x: str(x).replace(\"|\", \",\").split(','), \n",
    "                                                              lowercase = False)), \n",
    "                                \n",
    "                                ('vr', OneVsRestClassifier(BalancedRandomForestClassifier(n_jobs = 7)))\n",
    "                                  ])\n",
    "            \n",
    "gs_one_vs_rest = GridSearchCV(clf_one_vs_rest, parameters_one_vs_rest, cv = 10, n_jobs = 7, scoring = \"balanced_accuracy\", verbose = 0)"
   ]
  },
  {
   "cell_type": "code",
   "execution_count": 70,
   "id": "1467668e",
   "metadata": {},
   "outputs": [
    {
     "data": {
      "text/html": [
       "<style>#sk-container-id-2 {color: black;background-color: white;}#sk-container-id-2 pre{padding: 0;}#sk-container-id-2 div.sk-toggleable {background-color: white;}#sk-container-id-2 label.sk-toggleable__label {cursor: pointer;display: block;width: 100%;margin-bottom: 0;padding: 0.3em;box-sizing: border-box;text-align: center;}#sk-container-id-2 label.sk-toggleable__label-arrow:before {content: \"▸\";float: left;margin-right: 0.25em;color: #696969;}#sk-container-id-2 label.sk-toggleable__label-arrow:hover:before {color: black;}#sk-container-id-2 div.sk-estimator:hover label.sk-toggleable__label-arrow:before {color: black;}#sk-container-id-2 div.sk-toggleable__content {max-height: 0;max-width: 0;overflow: hidden;text-align: left;background-color: #f0f8ff;}#sk-container-id-2 div.sk-toggleable__content pre {margin: 0.2em;color: black;border-radius: 0.25em;background-color: #f0f8ff;}#sk-container-id-2 input.sk-toggleable__control:checked~div.sk-toggleable__content {max-height: 200px;max-width: 100%;overflow: auto;}#sk-container-id-2 input.sk-toggleable__control:checked~label.sk-toggleable__label-arrow:before {content: \"▾\";}#sk-container-id-2 div.sk-estimator input.sk-toggleable__control:checked~label.sk-toggleable__label {background-color: #d4ebff;}#sk-container-id-2 div.sk-label input.sk-toggleable__control:checked~label.sk-toggleable__label {background-color: #d4ebff;}#sk-container-id-2 input.sk-hidden--visually {border: 0;clip: rect(1px 1px 1px 1px);clip: rect(1px, 1px, 1px, 1px);height: 1px;margin: -1px;overflow: hidden;padding: 0;position: absolute;width: 1px;}#sk-container-id-2 div.sk-estimator {font-family: monospace;background-color: #f0f8ff;border: 1px dotted black;border-radius: 0.25em;box-sizing: border-box;margin-bottom: 0.5em;}#sk-container-id-2 div.sk-estimator:hover {background-color: #d4ebff;}#sk-container-id-2 div.sk-parallel-item::after {content: \"\";width: 100%;border-bottom: 1px solid gray;flex-grow: 1;}#sk-container-id-2 div.sk-label:hover label.sk-toggleable__label {background-color: #d4ebff;}#sk-container-id-2 div.sk-serial::before {content: \"\";position: absolute;border-left: 1px solid gray;box-sizing: border-box;top: 0;bottom: 0;left: 50%;z-index: 0;}#sk-container-id-2 div.sk-serial {display: flex;flex-direction: column;align-items: center;background-color: white;padding-right: 0.2em;padding-left: 0.2em;position: relative;}#sk-container-id-2 div.sk-item {position: relative;z-index: 1;}#sk-container-id-2 div.sk-parallel {display: flex;align-items: stretch;justify-content: center;background-color: white;position: relative;}#sk-container-id-2 div.sk-item::before, #sk-container-id-2 div.sk-parallel-item::before {content: \"\";position: absolute;border-left: 1px solid gray;box-sizing: border-box;top: 0;bottom: 0;left: 50%;z-index: -1;}#sk-container-id-2 div.sk-parallel-item {display: flex;flex-direction: column;z-index: 1;position: relative;background-color: white;}#sk-container-id-2 div.sk-parallel-item:first-child::after {align-self: flex-end;width: 50%;}#sk-container-id-2 div.sk-parallel-item:last-child::after {align-self: flex-start;width: 50%;}#sk-container-id-2 div.sk-parallel-item:only-child::after {width: 0;}#sk-container-id-2 div.sk-dashed-wrapped {border: 1px dashed gray;margin: 0 0.4em 0.5em 0.4em;box-sizing: border-box;padding-bottom: 0.4em;background-color: white;}#sk-container-id-2 div.sk-label label {font-family: monospace;font-weight: bold;display: inline-block;line-height: 1.2em;}#sk-container-id-2 div.sk-label-container {text-align: center;}#sk-container-id-2 div.sk-container {/* jupyter's `normalize.less` sets `[hidden] { display: none; }` but bootstrap.min.css set `[hidden] { display: none !important; }` so we also need the `!important` here to be able to override the default hidden behavior on the sphinx rendered scikit-learn.org. See: https://github.com/scikit-learn/scikit-learn/issues/21755 */display: inline-block !important;position: relative;}#sk-container-id-2 div.sk-text-repr-fallback {display: none;}</style><div id=\"sk-container-id-2\" class=\"sk-top-container\"><div class=\"sk-text-repr-fallback\"><pre>GridSearchCV(cv=5,\n",
       "             estimator=Pipeline(steps=[(&#x27;vectorizer&#x27;,\n",
       "                                        CountVectorizer(lowercase=False,\n",
       "                                                        tokenizer=&lt;function &lt;lambda&gt; at 0x000002554B0DD5E0&gt;)),\n",
       "                                       (&#x27;vr&#x27;,\n",
       "                                        OneVsRestClassifier(estimator=BalancedRandomForestClassifier(n_jobs=7)))]),\n",
       "             n_jobs=7,\n",
       "             param_grid={&#x27;vr__estimator__class_weight&#x27;: [&#x27;balanced&#x27;],\n",
       "                         &#x27;vr__estimator__n_estimators&#x27;: [100]},\n",
       "             scoring=&#x27;balanced_accuracy&#x27;)</pre><b>In a Jupyter environment, please rerun this cell to show the HTML representation or trust the notebook. <br />On GitHub, the HTML representation is unable to render, please try loading this page with nbviewer.org.</b></div><div class=\"sk-container\" hidden><div class=\"sk-item sk-dashed-wrapped\"><div class=\"sk-label-container\"><div class=\"sk-label sk-toggleable\"><input class=\"sk-toggleable__control sk-hidden--visually\" id=\"sk-estimator-id-7\" type=\"checkbox\" ><label for=\"sk-estimator-id-7\" class=\"sk-toggleable__label sk-toggleable__label-arrow\">GridSearchCV</label><div class=\"sk-toggleable__content\"><pre>GridSearchCV(cv=5,\n",
       "             estimator=Pipeline(steps=[(&#x27;vectorizer&#x27;,\n",
       "                                        CountVectorizer(lowercase=False,\n",
       "                                                        tokenizer=&lt;function &lt;lambda&gt; at 0x000002554B0DD5E0&gt;)),\n",
       "                                       (&#x27;vr&#x27;,\n",
       "                                        OneVsRestClassifier(estimator=BalancedRandomForestClassifier(n_jobs=7)))]),\n",
       "             n_jobs=7,\n",
       "             param_grid={&#x27;vr__estimator__class_weight&#x27;: [&#x27;balanced&#x27;],\n",
       "                         &#x27;vr__estimator__n_estimators&#x27;: [100]},\n",
       "             scoring=&#x27;balanced_accuracy&#x27;)</pre></div></div></div><div class=\"sk-parallel\"><div class=\"sk-parallel-item\"><div class=\"sk-item\"><div class=\"sk-label-container\"><div class=\"sk-label sk-toggleable\"><input class=\"sk-toggleable__control sk-hidden--visually\" id=\"sk-estimator-id-8\" type=\"checkbox\" ><label for=\"sk-estimator-id-8\" class=\"sk-toggleable__label sk-toggleable__label-arrow\">estimator: Pipeline</label><div class=\"sk-toggleable__content\"><pre>Pipeline(steps=[(&#x27;vectorizer&#x27;,\n",
       "                 CountVectorizer(lowercase=False,\n",
       "                                 tokenizer=&lt;function &lt;lambda&gt; at 0x000002554B0DD5E0&gt;)),\n",
       "                (&#x27;vr&#x27;,\n",
       "                 OneVsRestClassifier(estimator=BalancedRandomForestClassifier(n_jobs=7)))])</pre></div></div></div><div class=\"sk-serial\"><div class=\"sk-item\"><div class=\"sk-serial\"><div class=\"sk-item\"><div class=\"sk-estimator sk-toggleable\"><input class=\"sk-toggleable__control sk-hidden--visually\" id=\"sk-estimator-id-9\" type=\"checkbox\" ><label for=\"sk-estimator-id-9\" class=\"sk-toggleable__label sk-toggleable__label-arrow\">CountVectorizer</label><div class=\"sk-toggleable__content\"><pre>CountVectorizer(lowercase=False,\n",
       "                tokenizer=&lt;function &lt;lambda&gt; at 0x000002554B0DD5E0&gt;)</pre></div></div></div><div class=\"sk-item sk-dashed-wrapped\"><div class=\"sk-label-container\"><div class=\"sk-label sk-toggleable\"><input class=\"sk-toggleable__control sk-hidden--visually\" id=\"sk-estimator-id-10\" type=\"checkbox\" ><label for=\"sk-estimator-id-10\" class=\"sk-toggleable__label sk-toggleable__label-arrow\">vr: OneVsRestClassifier</label><div class=\"sk-toggleable__content\"><pre>OneVsRestClassifier(estimator=BalancedRandomForestClassifier(n_jobs=7))</pre></div></div></div><div class=\"sk-parallel\"><div class=\"sk-parallel-item\"><div class=\"sk-item\"><div class=\"sk-label-container\"><div class=\"sk-label sk-toggleable\"><input class=\"sk-toggleable__control sk-hidden--visually\" id=\"sk-estimator-id-11\" type=\"checkbox\" ><label for=\"sk-estimator-id-11\" class=\"sk-toggleable__label sk-toggleable__label-arrow\">estimator: BalancedRandomForestClassifier</label><div class=\"sk-toggleable__content\"><pre>BalancedRandomForestClassifier(n_jobs=7)</pre></div></div></div><div class=\"sk-serial\"><div class=\"sk-item\"><div class=\"sk-estimator sk-toggleable\"><input class=\"sk-toggleable__control sk-hidden--visually\" id=\"sk-estimator-id-12\" type=\"checkbox\" ><label for=\"sk-estimator-id-12\" class=\"sk-toggleable__label sk-toggleable__label-arrow\">BalancedRandomForestClassifier</label><div class=\"sk-toggleable__content\"><pre>BalancedRandomForestClassifier(n_jobs=7)</pre></div></div></div></div></div></div></div></div></div></div></div></div></div></div></div></div></div>"
      ],
      "text/plain": [
       "GridSearchCV(cv=5,\n",
       "             estimator=Pipeline(steps=[('vectorizer',\n",
       "                                        CountVectorizer(lowercase=False,\n",
       "                                                        tokenizer=<function <lambda> at 0x000002554B0DD5E0>)),\n",
       "                                       ('vr',\n",
       "                                        OneVsRestClassifier(estimator=BalancedRandomForestClassifier(n_jobs=7)))]),\n",
       "             n_jobs=7,\n",
       "             param_grid={'vr__estimator__class_weight': ['balanced'],\n",
       "                         'vr__estimator__n_estimators': [100]},\n",
       "             scoring='balanced_accuracy')"
      ]
     },
     "execution_count": 70,
     "metadata": {},
     "output_type": "execute_result"
    }
   ],
   "source": [
    "gs_one_vs_rest.fit(pul_data_model[\"sig_gene_seq\"], pul_data_model[\"high_level_substr\"])"
   ]
  },
  {
   "cell_type": "code",
   "execution_count": 71,
   "id": "742d14f2",
   "metadata": {},
   "outputs": [
    {
     "data": {
      "text/plain": [
       "0.7603174603174604"
      ]
     },
     "execution_count": 71,
     "metadata": {},
     "output_type": "execute_result"
    }
   ],
   "source": [
    "gs_one_vs_rest.best_score_"
   ]
  },
  {
   "cell_type": "code",
   "execution_count": null,
   "id": "a9d730c6",
   "metadata": {},
   "outputs": [],
   "source": [
    "gs_one_vs_rest.cv_results_['std_test_score'][0]"
   ]
  }
 ],
 "metadata": {
  "kernelspec": {
   "display_name": "newone1",
   "language": "python",
   "name": "newone1"
  },
  "language_info": {
   "codemirror_mode": {
    "name": "ipython",
    "version": 3
   },
   "file_extension": ".py",
   "mimetype": "text/x-python",
   "name": "python",
   "nbconvert_exporter": "python",
   "pygments_lexer": "ipython3",
   "version": "3.9.12"
  }
 },
 "nbformat": 4,
 "nbformat_minor": 5
}
