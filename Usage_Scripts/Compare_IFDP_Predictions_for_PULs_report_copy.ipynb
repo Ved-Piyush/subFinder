{
 "cells": [
  {
   "cell_type": "code",
   "execution_count": 1,
   "id": "913479d0",
   "metadata": {},
   "outputs": [],
   "source": [
    "# Do the library imports\n",
    "import pandas as pd\n",
    "import os\n",
    "import numpy as np"
   ]
  },
  {
   "cell_type": "code",
   "execution_count": 2,
   "id": "562d1e49",
   "metadata": {},
   "outputs": [],
   "source": [
    "# Seed value\n",
    "# Apparently you may use different seed values at each stage\n",
    "seed_value= 42\n",
    "\n",
    "# 1. Set the `PYTHONHASHSEED` environment variable at a fixed value\n",
    "import os\n",
    "os.environ['PYTHONHASHSEED']=str(seed_value)\n",
    "\n",
    "# 2. Set the `python` built-in pseudo-random generator at a fixed value\n",
    "import random\n",
    "random.seed(seed_value)\n",
    "\n",
    "# 3. Set the `numpy` pseudo-random generator at a fixed value\n",
    "import numpy as np\n",
    "np.random.seed(seed_value)\n",
    "\n",
    "# # 4. Set the `tensorflow` pseudo-random generator at a fixed value\n",
    "import tensorflow as tf\n",
    "\n",
    "from tqdm.notebook import tqdm\n",
    "tf.random.set_seed(seed_value)\n",
    "# for later versions: \n",
    "# tf.compat.v1.set_random_seed(seed_value)\n",
    "\n",
    "# 5. Configure a new global `tensorflow` session\n",
    "from keras import backend as K\n",
    "session_conf = tf.compat.v1.ConfigProto(intra_op_parallelism_threads=1, inter_op_parallelism_threads=1)\n",
    "sess = tf.compat.v1.Session(graph=tf.compat.v1.get_default_graph(), config=session_conf)\n",
    "K.set_session(sess)"
   ]
  },
  {
   "cell_type": "code",
   "execution_count": 3,
   "id": "67353c4a",
   "metadata": {},
   "outputs": [],
   "source": [
    "# set path\n",
    "os.chdir(r'D:\\subFinder')"
   ]
  },
  {
   "cell_type": "code",
   "execution_count": 4,
   "id": "cec02624",
   "metadata": {},
   "outputs": [],
   "source": [
    "# os.getcwd()"
   ]
  },
  {
   "cell_type": "code",
   "execution_count": 5,
   "id": "3bb2c028",
   "metadata": {},
   "outputs": [],
   "source": [
    "# read in the PUL data from dbcan-PUL\n",
    "pul_data = pd.read_csv(r\"Data/Supervised_Sequences/updated_data_filtered.csv\")"
   ]
  },
  {
   "cell_type": "code",
   "execution_count": 6,
   "id": "8cd9f585",
   "metadata": {},
   "outputs": [],
   "source": [
    "pul_data = pul_data.sort_values(\"PULid\")"
   ]
  },
  {
   "cell_type": "code",
   "execution_count": 7,
   "id": "61e3a06c",
   "metadata": {},
   "outputs": [],
   "source": [
    "pul_data = pul_data.reset_index(drop = True)"
   ]
  },
  {
   "cell_type": "code",
   "execution_count": 8,
   "id": "02c761d6",
   "metadata": {},
   "outputs": [],
   "source": [
    "# pul_data"
   ]
  },
  {
   "cell_type": "code",
   "execution_count": 9,
   "id": "71622b9d",
   "metadata": {},
   "outputs": [],
   "source": [
    "# path where IFDP predictions are\n",
    "path = r\"D:\\subFinder\\IFDP_sub\\PUL\\substrate_out\""
   ]
  },
  {
   "cell_type": "code",
   "execution_count": 10,
   "id": "eacb694e",
   "metadata": {},
   "outputs": [],
   "source": [
    "# loop over IFDP predictions\n",
    "catch = []\n",
    "catch_no_preds = []\n",
    "for item in os.listdir(path):\n",
    "    # get the PUL\n",
    "    pulid = item.split(\".\")[0]\n",
    "    # read the csv file\n",
    "    df = pd.read_csv(path + \"\\\\\" + item)\n",
    "    # find the max abundance\n",
    "    max_abundance = df[\"Relative abundance\"].max()\n",
    "    # if there is no max abundance\n",
    "    # keep that pul id\n",
    "    if np.isnan(max_abundance):\n",
    "        catch_no_preds.append(pulid)  \n",
    "    \n",
    "    # get the substrates corresponding to the max abundance\n",
    "    pred_substrates = df[df[\"Relative abundance\"] == max_abundance]\n",
    "    # get the substrate column\n",
    "    sub_preds = pred_substrates.iloc[:,0]\n",
    "    sub_preds = pd.DataFrame(sub_preds)\n",
    "    sub_preds[\"PULid\"] = pulid\n",
    "    catch.append(sub_preds)"
   ]
  },
  {
   "cell_type": "code",
   "execution_count": 11,
   "id": "b9cc112f",
   "metadata": {},
   "outputs": [
    {
     "data": {
      "text/html": [
       "<div>\n",
       "<style scoped>\n",
       "    .dataframe tbody tr th:only-of-type {\n",
       "        vertical-align: middle;\n",
       "    }\n",
       "\n",
       "    .dataframe tbody tr th {\n",
       "        vertical-align: top;\n",
       "    }\n",
       "\n",
       "    .dataframe thead th {\n",
       "        text-align: right;\n",
       "    }\n",
       "</style>\n",
       "<table border=\"1\" class=\"dataframe\">\n",
       "  <thead>\n",
       "    <tr style=\"text-align: right;\">\n",
       "      <th></th>\n",
       "      <th>Unnamed: 0</th>\n",
       "      <th>PULid</th>\n",
       "    </tr>\n",
       "  </thead>\n",
       "  <tbody>\n",
       "    <tr>\n",
       "      <th>15</th>\n",
       "      <td>Xylan</td>\n",
       "      <td>PUL0602</td>\n",
       "    </tr>\n",
       "    <tr>\n",
       "      <th>16</th>\n",
       "      <td>Arabinoxylan</td>\n",
       "      <td>PUL0602</td>\n",
       "    </tr>\n",
       "  </tbody>\n",
       "</table>\n",
       "</div>"
      ],
      "text/plain": [
       "      Unnamed: 0    PULid\n",
       "15         Xylan  PUL0602\n",
       "16  Arabinoxylan  PUL0602"
      ]
     },
     "execution_count": 11,
     "metadata": {},
     "output_type": "execute_result"
    }
   ],
   "source": [
    "sub_preds"
   ]
  },
  {
   "cell_type": "code",
   "execution_count": 12,
   "id": "f127b1f4",
   "metadata": {},
   "outputs": [
    {
     "data": {
      "text/plain": [
       "105"
      ]
     },
     "execution_count": 12,
     "metadata": {},
     "output_type": "execute_result"
    }
   ],
   "source": [
    "# How many PULs with no substrate\n",
    "len(catch_no_preds)"
   ]
  },
  {
   "cell_type": "code",
   "execution_count": 13,
   "id": "8d12734f",
   "metadata": {},
   "outputs": [],
   "source": [
    "# convert to a dataframe\n",
    "catch_df = pd.concat(catch)"
   ]
  },
  {
   "cell_type": "code",
   "execution_count": 14,
   "id": "00609ed5",
   "metadata": {},
   "outputs": [
    {
     "data": {
      "text/html": [
       "<div>\n",
       "<style scoped>\n",
       "    .dataframe tbody tr th:only-of-type {\n",
       "        vertical-align: middle;\n",
       "    }\n",
       "\n",
       "    .dataframe tbody tr th {\n",
       "        vertical-align: top;\n",
       "    }\n",
       "\n",
       "    .dataframe thead th {\n",
       "        text-align: right;\n",
       "    }\n",
       "</style>\n",
       "<table border=\"1\" class=\"dataframe\">\n",
       "  <thead>\n",
       "    <tr style=\"text-align: right;\">\n",
       "      <th></th>\n",
       "      <th>Unnamed: 0</th>\n",
       "      <th>PULid</th>\n",
       "    </tr>\n",
       "  </thead>\n",
       "  <tbody>\n",
       "    <tr>\n",
       "      <th>16</th>\n",
       "      <td>Arabinoxylan</td>\n",
       "      <td>PUL</td>\n",
       "    </tr>\n",
       "    <tr>\n",
       "      <th>0</th>\n",
       "      <td>Xanthan</td>\n",
       "      <td>PUL0001</td>\n",
       "    </tr>\n",
       "    <tr>\n",
       "      <th>0</th>\n",
       "      <td>Xanthan</td>\n",
       "      <td>PUL0002</td>\n",
       "    </tr>\n",
       "    <tr>\n",
       "      <th>1</th>\n",
       "      <td>Beta-glucan</td>\n",
       "      <td>PUL0002</td>\n",
       "    </tr>\n",
       "    <tr>\n",
       "      <th>2</th>\n",
       "      <td>Cellulose</td>\n",
       "      <td>PUL0002</td>\n",
       "    </tr>\n",
       "  </tbody>\n",
       "</table>\n",
       "</div>"
      ],
      "text/plain": [
       "      Unnamed: 0    PULid\n",
       "16  Arabinoxylan      PUL\n",
       "0       Xanthan   PUL0001\n",
       "0       Xanthan   PUL0002\n",
       "1    Beta-glucan  PUL0002\n",
       "2      Cellulose  PUL0002"
      ]
     },
     "execution_count": 14,
     "metadata": {},
     "output_type": "execute_result"
    }
   ],
   "source": [
    "# take a glimpse\n",
    "catch_df.head()"
   ]
  },
  {
   "cell_type": "code",
   "execution_count": 15,
   "id": "8e20980b",
   "metadata": {},
   "outputs": [],
   "source": [
    "# give descriptive names\n",
    "catch_df.columns = [\"IFDP_high_level_substr\", \"PULid\"]"
   ]
  },
  {
   "cell_type": "code",
   "execution_count": 16,
   "id": "88c8ffb9",
   "metadata": {},
   "outputs": [],
   "source": [
    "# lowercase the substrates\n",
    "catch_df[\"IFDP_high_level_substr\"] = catch_df[\"IFDP_high_level_substr\"].str.lower()"
   ]
  },
  {
   "cell_type": "code",
   "execution_count": 17,
   "id": "45c679d4",
   "metadata": {},
   "outputs": [
    {
     "data": {
      "text/plain": [
       "0.7177615571776156"
      ]
     },
     "execution_count": 17,
     "metadata": {},
     "output_type": "execute_result"
    }
   ],
   "source": [
    "# how much is the coverage of substrates in correspondence with dbcan-PUL\n",
    "len(set(pul_data[\"PULid\"]).intersection(catch_df[\"PULid\"]))/pul_data[\"PULid\"].nunique()"
   ]
  },
  {
   "cell_type": "code",
   "execution_count": 18,
   "id": "c241c40d",
   "metadata": {},
   "outputs": [
    {
     "data": {
      "text/plain": [
       "116"
      ]
     },
     "execution_count": 18,
     "metadata": {},
     "output_type": "execute_result"
    }
   ],
   "source": [
    "# how many puls from dbcan-pul do not have IFDP predictions\n",
    "len(set(pul_data[\"PULid\"]).difference(catch_df[\"PULid\"]))"
   ]
  },
  {
   "cell_type": "code",
   "execution_count": 19,
   "id": "1085ba3a",
   "metadata": {},
   "outputs": [],
   "source": [
    "# catch_df[\"IFDP_high_level_substr\"].value_counts()"
   ]
  },
  {
   "cell_type": "code",
   "execution_count": 20,
   "id": "92aa9db0",
   "metadata": {},
   "outputs": [],
   "source": [
    "# handle the mannan edge case\n",
    "pul_data = pul_data.replace(['beta-mannan', 'alpha-mannan'], 'mannan')"
   ]
  },
  {
   "cell_type": "code",
   "execution_count": 21,
   "id": "d20fca85",
   "metadata": {},
   "outputs": [],
   "source": [
    "## read in the substrate mapping file\n",
    "sub_mapping = pd.read_excel(r\"D:\\subFinder\\IFDP_sub\\substrate_mapping_table_IFDP_dbCAN.xlsx\")"
   ]
  },
  {
   "cell_type": "code",
   "execution_count": 22,
   "id": "1d5c5221",
   "metadata": {},
   "outputs": [],
   "source": [
    "sub_mapping[\"Substrate_dbCAN_seq_dbCAN_PUL_approach\"] = sub_mapping[\"Substrate_dbCAN_seq_dbCAN_PUL_approach\"].map(lambda x: str(x).split(\"/\")[0])"
   ]
  },
  {
   "cell_type": "code",
   "execution_count": 23,
   "id": "a28a9aa4",
   "metadata": {},
   "outputs": [],
   "source": [
    "sub_mapping[\"Substrate_IFDP\"] = sub_mapping[\"Substrate_IFDP\"].str.lower()"
   ]
  },
  {
   "cell_type": "code",
   "execution_count": 24,
   "id": "428521f0",
   "metadata": {},
   "outputs": [],
   "source": [
    "sub_mapping = sub_mapping[sub_mapping[\"Substrate_dbCAN_seq_dbCAN_PUL_approach\"] != \"nan\"]"
   ]
  },
  {
   "cell_type": "code",
   "execution_count": 25,
   "id": "963d2043",
   "metadata": {},
   "outputs": [],
   "source": [
    "sub_mapping = sub_mapping.iloc[:,[0,2]]"
   ]
  },
  {
   "cell_type": "code",
   "execution_count": 26,
   "id": "205f8de0",
   "metadata": {},
   "outputs": [],
   "source": [
    "# handle mannan edge case in the mapping table\n",
    "sub_mapping = sub_mapping.replace(['alpha-mannan&beta-mannan'], 'mannan')"
   ]
  },
  {
   "cell_type": "code",
   "execution_count": 27,
   "id": "f28d6b60",
   "metadata": {},
   "outputs": [
    {
     "data": {
      "text/html": [
       "<div>\n",
       "<style scoped>\n",
       "    .dataframe tbody tr th:only-of-type {\n",
       "        vertical-align: middle;\n",
       "    }\n",
       "\n",
       "    .dataframe tbody tr th {\n",
       "        vertical-align: top;\n",
       "    }\n",
       "\n",
       "    .dataframe thead th {\n",
       "        text-align: right;\n",
       "    }\n",
       "</style>\n",
       "<table border=\"1\" class=\"dataframe\">\n",
       "  <thead>\n",
       "    <tr style=\"text-align: right;\">\n",
       "      <th></th>\n",
       "      <th>Substrate_dbCAN_seq_dbCAN_PUL_approach</th>\n",
       "      <th>Substrate_IFDP</th>\n",
       "    </tr>\n",
       "  </thead>\n",
       "  <tbody>\n",
       "    <tr>\n",
       "      <th>0</th>\n",
       "      <td>alginate</td>\n",
       "      <td>alginate</td>\n",
       "    </tr>\n",
       "    <tr>\n",
       "      <th>1</th>\n",
       "      <td>arabinan</td>\n",
       "      <td>arabinan</td>\n",
       "    </tr>\n",
       "    <tr>\n",
       "      <th>2</th>\n",
       "      <td>arabinogalactan</td>\n",
       "      <td>arabinogalactan</td>\n",
       "    </tr>\n",
       "    <tr>\n",
       "      <th>3</th>\n",
       "      <td>arabinoxylan</td>\n",
       "      <td>arabinoxylan</td>\n",
       "    </tr>\n",
       "    <tr>\n",
       "      <th>4</th>\n",
       "      <td>beta-glucan</td>\n",
       "      <td>beta-glucan</td>\n",
       "    </tr>\n",
       "  </tbody>\n",
       "</table>\n",
       "</div>"
      ],
      "text/plain": [
       "  Substrate_dbCAN_seq_dbCAN_PUL_approach   Substrate_IFDP\n",
       "0                               alginate         alginate\n",
       "1                               arabinan         arabinan\n",
       "2                        arabinogalactan  arabinogalactan\n",
       "3                           arabinoxylan     arabinoxylan\n",
       "4                            beta-glucan      beta-glucan"
      ]
     },
     "execution_count": 27,
     "metadata": {},
     "output_type": "execute_result"
    }
   ],
   "source": [
    "sub_mapping.head()"
   ]
  },
  {
   "cell_type": "code",
   "execution_count": 28,
   "id": "41689985",
   "metadata": {},
   "outputs": [],
   "source": [
    "catch_df = catch_df.merge(pul_data[[\"PULid\", \"high_level_substr\"]])"
   ]
  },
  {
   "cell_type": "code",
   "execution_count": 29,
   "id": "0cb6e647",
   "metadata": {},
   "outputs": [],
   "source": [
    "catch_df.columns = [\"IFDP_high_level_substr\", \"PULid\", \"Verified_high_level_substr\"]"
   ]
  },
  {
   "cell_type": "code",
   "execution_count": 30,
   "id": "6fd9be5c",
   "metadata": {},
   "outputs": [],
   "source": [
    "catch_df = catch_df[[\"PULid\", \"Verified_high_level_substr\", \"IFDP_high_level_substr\"]]"
   ]
  },
  {
   "cell_type": "code",
   "execution_count": 31,
   "id": "03b4518e",
   "metadata": {},
   "outputs": [
    {
     "data": {
      "text/html": [
       "<div>\n",
       "<style scoped>\n",
       "    .dataframe tbody tr th:only-of-type {\n",
       "        vertical-align: middle;\n",
       "    }\n",
       "\n",
       "    .dataframe tbody tr th {\n",
       "        vertical-align: top;\n",
       "    }\n",
       "\n",
       "    .dataframe thead th {\n",
       "        text-align: right;\n",
       "    }\n",
       "</style>\n",
       "<table border=\"1\" class=\"dataframe\">\n",
       "  <thead>\n",
       "    <tr style=\"text-align: right;\">\n",
       "      <th></th>\n",
       "      <th>PULid</th>\n",
       "      <th>Verified_high_level_substr</th>\n",
       "      <th>IFDP_high_level_substr</th>\n",
       "    </tr>\n",
       "  </thead>\n",
       "  <tbody>\n",
       "    <tr>\n",
       "      <th>0</th>\n",
       "      <td>PUL0001</td>\n",
       "      <td>mannan</td>\n",
       "      <td>xanthan</td>\n",
       "    </tr>\n",
       "    <tr>\n",
       "      <th>1</th>\n",
       "      <td>PUL0002</td>\n",
       "      <td>beta-glucan</td>\n",
       "      <td>xanthan</td>\n",
       "    </tr>\n",
       "    <tr>\n",
       "      <th>2</th>\n",
       "      <td>PUL0002</td>\n",
       "      <td>beta-glucan</td>\n",
       "      <td>beta-glucan</td>\n",
       "    </tr>\n",
       "    <tr>\n",
       "      <th>3</th>\n",
       "      <td>PUL0002</td>\n",
       "      <td>beta-glucan</td>\n",
       "      <td>cellulose</td>\n",
       "    </tr>\n",
       "    <tr>\n",
       "      <th>4</th>\n",
       "      <td>PUL0002</td>\n",
       "      <td>beta-glucan</td>\n",
       "      <td>xloglucan</td>\n",
       "    </tr>\n",
       "  </tbody>\n",
       "</table>\n",
       "</div>"
      ],
      "text/plain": [
       "     PULid Verified_high_level_substr IFDP_high_level_substr\n",
       "0  PUL0001                     mannan               xanthan \n",
       "1  PUL0002                beta-glucan               xanthan \n",
       "2  PUL0002                beta-glucan            beta-glucan\n",
       "3  PUL0002                beta-glucan              cellulose\n",
       "4  PUL0002                beta-glucan              xloglucan"
      ]
     },
     "execution_count": 31,
     "metadata": {},
     "output_type": "execute_result"
    }
   ],
   "source": [
    "catch_df.head()"
   ]
  },
  {
   "cell_type": "code",
   "execution_count": 32,
   "id": "4cab40a9",
   "metadata": {},
   "outputs": [
    {
     "data": {
      "text/plain": [
       "0.1292517006802721"
      ]
     },
     "execution_count": 32,
     "metadata": {},
     "output_type": "execute_result"
    }
   ],
   "source": [
    "np.mean(catch_df[\"IFDP_high_level_substr\"] == catch_df[\"Verified_high_level_substr\"])"
   ]
  },
  {
   "cell_type": "code",
   "execution_count": 33,
   "id": "2bafac2f",
   "metadata": {},
   "outputs": [],
   "source": [
    "# do a join to map IFDP substrates using substrate mapping table\n",
    "catch_df = catch_df.merge(sub_mapping, left_on = \"IFDP_high_level_substr\", right_on = \"Substrate_IFDP\", how = \"inner\")"
   ]
  },
  {
   "cell_type": "code",
   "execution_count": 34,
   "id": "6e6219ad",
   "metadata": {},
   "outputs": [
    {
     "data": {
      "text/html": [
       "<div>\n",
       "<style scoped>\n",
       "    .dataframe tbody tr th:only-of-type {\n",
       "        vertical-align: middle;\n",
       "    }\n",
       "\n",
       "    .dataframe tbody tr th {\n",
       "        vertical-align: top;\n",
       "    }\n",
       "\n",
       "    .dataframe thead th {\n",
       "        text-align: right;\n",
       "    }\n",
       "</style>\n",
       "<table border=\"1\" class=\"dataframe\">\n",
       "  <thead>\n",
       "    <tr style=\"text-align: right;\">\n",
       "      <th></th>\n",
       "      <th>PULid</th>\n",
       "      <th>Verified_high_level_substr</th>\n",
       "      <th>IFDP_high_level_substr</th>\n",
       "      <th>Substrate_dbCAN_seq_dbCAN_PUL_approach</th>\n",
       "      <th>Substrate_IFDP</th>\n",
       "    </tr>\n",
       "  </thead>\n",
       "  <tbody>\n",
       "    <tr>\n",
       "      <th>0</th>\n",
       "      <td>PUL0002</td>\n",
       "      <td>beta-glucan</td>\n",
       "      <td>beta-glucan</td>\n",
       "      <td>beta-glucan</td>\n",
       "      <td>beta-glucan</td>\n",
       "    </tr>\n",
       "    <tr>\n",
       "      <th>1</th>\n",
       "      <td>PUL0009</td>\n",
       "      <td>glycosaminoglycan</td>\n",
       "      <td>beta-glucan</td>\n",
       "      <td>beta-glucan</td>\n",
       "      <td>beta-glucan</td>\n",
       "    </tr>\n",
       "    <tr>\n",
       "      <th>2</th>\n",
       "      <td>PUL0011</td>\n",
       "      <td>cellulose</td>\n",
       "      <td>beta-glucan</td>\n",
       "      <td>beta-glucan</td>\n",
       "      <td>beta-glucan</td>\n",
       "    </tr>\n",
       "    <tr>\n",
       "      <th>3</th>\n",
       "      <td>PUL0012</td>\n",
       "      <td>chitin</td>\n",
       "      <td>beta-glucan</td>\n",
       "      <td>beta-glucan</td>\n",
       "      <td>beta-glucan</td>\n",
       "    </tr>\n",
       "    <tr>\n",
       "      <th>4</th>\n",
       "      <td>PUL0024</td>\n",
       "      <td>fructan</td>\n",
       "      <td>beta-glucan</td>\n",
       "      <td>beta-glucan</td>\n",
       "      <td>beta-glucan</td>\n",
       "    </tr>\n",
       "  </tbody>\n",
       "</table>\n",
       "</div>"
      ],
      "text/plain": [
       "     PULid Verified_high_level_substr IFDP_high_level_substr  \\\n",
       "0  PUL0002                beta-glucan            beta-glucan   \n",
       "1  PUL0009          glycosaminoglycan            beta-glucan   \n",
       "2  PUL0011                  cellulose            beta-glucan   \n",
       "3  PUL0012                     chitin            beta-glucan   \n",
       "4  PUL0024                    fructan            beta-glucan   \n",
       "\n",
       "  Substrate_dbCAN_seq_dbCAN_PUL_approach Substrate_IFDP  \n",
       "0                            beta-glucan    beta-glucan  \n",
       "1                            beta-glucan    beta-glucan  \n",
       "2                            beta-glucan    beta-glucan  \n",
       "3                            beta-glucan    beta-glucan  \n",
       "4                            beta-glucan    beta-glucan  "
      ]
     },
     "execution_count": 34,
     "metadata": {},
     "output_type": "execute_result"
    }
   ],
   "source": [
    "# you can see we have the corresponding substrate names from dbcan mapped to ifdp\n",
    "catch_df.head()"
   ]
  },
  {
   "cell_type": "code",
   "execution_count": 35,
   "id": "bfbe39e8",
   "metadata": {},
   "outputs": [
    {
     "data": {
      "text/plain": [
       "1.0"
      ]
     },
     "execution_count": 35,
     "metadata": {},
     "output_type": "execute_result"
    }
   ],
   "source": [
    "np.mean(catch_df[\"IFDP_high_level_substr\"] == catch_df[\"Substrate_IFDP\"])"
   ]
  },
  {
   "cell_type": "code",
   "execution_count": 36,
   "id": "7aaa6a68",
   "metadata": {},
   "outputs": [],
   "source": [
    "catch_df.columns = ['PULid', 'Verified_high_level_substr', 'IFDP_Predicted_high_level_substr', 'IFDP_Predicted_high_level_substr_dbcan_taxonomy', 'IFDP_Predicted_high_level_substr_IFDP_taxonomy']"
   ]
  },
  {
   "cell_type": "code",
   "execution_count": 37,
   "id": "1ba402c4",
   "metadata": {},
   "outputs": [
    {
     "data": {
      "text/plain": [
       "0.22535211267605634"
      ]
     },
     "execution_count": 37,
     "metadata": {},
     "output_type": "execute_result"
    }
   ],
   "source": [
    "np.mean(catch_df['IFDP_Predicted_high_level_substr_dbcan_taxonomy'] == catch_df['Verified_high_level_substr'])"
   ]
  },
  {
   "cell_type": "code",
   "execution_count": 38,
   "id": "096e7b35",
   "metadata": {},
   "outputs": [],
   "source": [
    "# catch_df[\"PULid\"].nunique()"
   ]
  },
  {
   "cell_type": "code",
   "execution_count": 39,
   "id": "882049e5",
   "metadata": {},
   "outputs": [],
   "source": [
    "# catch_df = catch_df[[\"Substrate_dbCAN_seq_dbCAN_PUL_approach\", \"PULid\"]]"
   ]
  },
  {
   "cell_type": "code",
   "execution_count": 40,
   "id": "75b9dec8",
   "metadata": {},
   "outputs": [],
   "source": [
    "# catch_df.columns = [\"Verified_high_level_substr\", \"PULid\"]"
   ]
  },
  {
   "cell_type": "code",
   "execution_count": 41,
   "id": "436a2841",
   "metadata": {},
   "outputs": [],
   "source": [
    "# merged_data = pul_data[[\"PULid\", \"high_level_substr\"]].merge(catch_df)"
   ]
  },
  {
   "cell_type": "code",
   "execution_count": 42,
   "id": "a4860a38",
   "metadata": {},
   "outputs": [],
   "source": [
    "# merged_data.columns = [\"PULid\",\"Verified_high_level_substr\", \"IFDP_high_level_substr\"]"
   ]
  },
  {
   "cell_type": "code",
   "execution_count": 43,
   "id": "c3a62ad8",
   "metadata": {},
   "outputs": [],
   "source": [
    "# merged_data[\"IFDP_high_level_substr\"] = merged_data[\"IFDP_high_level_substr\"].str.lower()"
   ]
  },
  {
   "cell_type": "code",
   "execution_count": 44,
   "id": "655e700d",
   "metadata": {},
   "outputs": [
    {
     "data": {
      "text/plain": [
       "array(['agarose', 'alginate', 'alpha-glucan', 'arabinan',\n",
       "       'arabinogalactan', 'arabinoxylan', 'beta-galactooligosaccharide',\n",
       "       'beta-glucan', 'capsule polysaccharide degradation',\n",
       "       'capsule polysaccharide synthesis', 'carrageenan', 'cellulose',\n",
       "       'chitin', 'fructan', 'galactan', 'galactomannan', 'glucomannan',\n",
       "       'glycogen', 'glycosaminoglycan', 'host glycan', 'mannan', 'pectin',\n",
       "       'starch', 'xylan', 'xyloglucan'], dtype=object)"
      ]
     },
     "execution_count": 44,
     "metadata": {},
     "output_type": "execute_result"
    }
   ],
   "source": [
    "catch_df[\"Verified_high_level_substr\"].sort_values().unique()"
   ]
  },
  {
   "cell_type": "code",
   "execution_count": 45,
   "id": "0ecfd227",
   "metadata": {},
   "outputs": [
    {
     "data": {
      "text/plain": [
       "array(['alginate', 'arabinan', 'arabinogalactan', 'arabinoxylan',\n",
       "       'beta-glucan', 'carrageenan', 'cellulose', 'chitin', 'fructan',\n",
       "       'galactan', 'galactomannan', 'glucomannan', 'host glycan',\n",
       "       'mannan', 'pectin', 'starch', 'xylan', 'xyloglucan'], dtype=object)"
      ]
     },
     "execution_count": 45,
     "metadata": {},
     "output_type": "execute_result"
    }
   ],
   "source": [
    "catch_df['IFDP_Predicted_high_level_substr_dbcan_taxonomy'].sort_values().unique()"
   ]
  },
  {
   "cell_type": "code",
   "execution_count": 46,
   "id": "30044cb7",
   "metadata": {},
   "outputs": [],
   "source": [
    "common = set(catch_df[\"Verified_high_level_substr\"].sort_values().unique()).intersection(catch_df[\"IFDP_Predicted_high_level_substr_dbcan_taxonomy\"].sort_values().unique())"
   ]
  },
  {
   "cell_type": "code",
   "execution_count": 47,
   "id": "0a494031",
   "metadata": {},
   "outputs": [
    {
     "data": {
      "text/plain": [
       "{'alginate',\n",
       " 'arabinan',\n",
       " 'arabinogalactan',\n",
       " 'arabinoxylan',\n",
       " 'beta-glucan',\n",
       " 'carrageenan',\n",
       " 'cellulose',\n",
       " 'chitin',\n",
       " 'fructan',\n",
       " 'galactan',\n",
       " 'galactomannan',\n",
       " 'glucomannan',\n",
       " 'host glycan',\n",
       " 'mannan',\n",
       " 'pectin',\n",
       " 'starch',\n",
       " 'xylan',\n",
       " 'xyloglucan'}"
      ]
     },
     "execution_count": 47,
     "metadata": {},
     "output_type": "execute_result"
    }
   ],
   "source": [
    "common"
   ]
  },
  {
   "cell_type": "code",
   "execution_count": 48,
   "id": "191f5139",
   "metadata": {},
   "outputs": [
    {
     "data": {
      "text/plain": [
       "18"
      ]
     },
     "execution_count": 48,
     "metadata": {},
     "output_type": "execute_result"
    }
   ],
   "source": [
    "len(common)"
   ]
  },
  {
   "cell_type": "code",
   "execution_count": 49,
   "id": "f4a99fa3",
   "metadata": {},
   "outputs": [
    {
     "data": {
      "text/plain": [
       "0.72"
      ]
     },
     "execution_count": 49,
     "metadata": {},
     "output_type": "execute_result"
    }
   ],
   "source": [
    "len(common)/len(catch_df[\"Verified_high_level_substr\"].sort_values().unique())"
   ]
  },
  {
   "cell_type": "code",
   "execution_count": 50,
   "id": "16e23154",
   "metadata": {},
   "outputs": [],
   "source": [
    "uncommon = set(catch_df[\"Verified_high_level_substr\"].sort_values().unique()).difference(catch_df[\"IFDP_Predicted_high_level_substr_dbcan_taxonomy\"].sort_values().unique())"
   ]
  },
  {
   "cell_type": "code",
   "execution_count": 51,
   "id": "b785d90f",
   "metadata": {},
   "outputs": [
    {
     "data": {
      "text/plain": [
       "{'agarose',\n",
       " 'alpha-glucan',\n",
       " 'beta-galactooligosaccharide',\n",
       " 'capsule polysaccharide degradation',\n",
       " 'capsule polysaccharide synthesis',\n",
       " 'glycogen',\n",
       " 'glycosaminoglycan'}"
      ]
     },
     "execution_count": 51,
     "metadata": {},
     "output_type": "execute_result"
    }
   ],
   "source": [
    "uncommon"
   ]
  },
  {
   "cell_type": "code",
   "execution_count": 52,
   "id": "c1bc728f",
   "metadata": {},
   "outputs": [
    {
     "data": {
      "text/plain": [
       "7"
      ]
     },
     "execution_count": 52,
     "metadata": {},
     "output_type": "execute_result"
    }
   ],
   "source": [
    "len(uncommon)"
   ]
  },
  {
   "cell_type": "code",
   "execution_count": 53,
   "id": "ac5fae65",
   "metadata": {},
   "outputs": [],
   "source": [
    "merged_data_common = catch_df[catch_df[\"Verified_high_level_substr\"].isin(common)]"
   ]
  },
  {
   "cell_type": "code",
   "execution_count": 54,
   "id": "bab3dfe8",
   "metadata": {},
   "outputs": [
    {
     "data": {
      "text/plain": [
       "215"
      ]
     },
     "execution_count": 54,
     "metadata": {},
     "output_type": "execute_result"
    }
   ],
   "source": [
    "merged_data_common[\"PULid\"].nunique()"
   ]
  },
  {
   "cell_type": "code",
   "execution_count": 55,
   "id": "93a820a9",
   "metadata": {},
   "outputs": [
    {
     "data": {
      "text/plain": [
       "411"
      ]
     },
     "execution_count": 55,
     "metadata": {},
     "output_type": "execute_result"
    }
   ],
   "source": [
    "pul_data[\"PULid\"].nunique()"
   ]
  },
  {
   "cell_type": "code",
   "execution_count": 56,
   "id": "3e2cf5e4",
   "metadata": {},
   "outputs": [],
   "source": [
    "merged_data_uncommon = catch_df[catch_df[\"Verified_high_level_substr\"].isin(uncommon)]"
   ]
  },
  {
   "cell_type": "code",
   "execution_count": 57,
   "id": "7d09a47f",
   "metadata": {},
   "outputs": [
    {
     "data": {
      "text/plain": [
       "69"
      ]
     },
     "execution_count": 57,
     "metadata": {},
     "output_type": "execute_result"
    }
   ],
   "source": [
    "merged_data_uncommon[\"PULid\"].nunique()"
   ]
  },
  {
   "cell_type": "code",
   "execution_count": 58,
   "id": "8c1ebcfa",
   "metadata": {},
   "outputs": [
    {
     "data": {
      "text/plain": [
       "0.5231143552311436"
      ]
     },
     "execution_count": 58,
     "metadata": {},
     "output_type": "execute_result"
    }
   ],
   "source": [
    "merged_data_common[\"PULid\"].nunique()/pul_data[\"PULid\"].nunique()"
   ]
  },
  {
   "cell_type": "code",
   "execution_count": 59,
   "id": "73b242af",
   "metadata": {},
   "outputs": [],
   "source": [
    "number_of_preds = merged_data_common[\"PULid\"].value_counts()"
   ]
  },
  {
   "cell_type": "code",
   "execution_count": 60,
   "id": "b312ad42",
   "metadata": {},
   "outputs": [],
   "source": [
    "number_of_preds = number_of_preds.reset_index()"
   ]
  },
  {
   "cell_type": "code",
   "execution_count": 61,
   "id": "ae9ea762",
   "metadata": {},
   "outputs": [],
   "source": [
    "number_of_preds.columns = [\"PULid\", \"Num_Preds_from_IFDP\"]"
   ]
  },
  {
   "cell_type": "code",
   "execution_count": 62,
   "id": "d15c32e0",
   "metadata": {},
   "outputs": [],
   "source": [
    "how_many_preds = number_of_preds[\"Num_Preds_from_IFDP\"].value_counts()"
   ]
  },
  {
   "cell_type": "code",
   "execution_count": 63,
   "id": "df3c6448",
   "metadata": {},
   "outputs": [],
   "source": [
    "how_many_preds = how_many_preds.reset_index()"
   ]
  },
  {
   "cell_type": "code",
   "execution_count": 64,
   "id": "dd5997df",
   "metadata": {},
   "outputs": [],
   "source": [
    "how_many_preds.columns = [\"Num_Preds_from_IFDP\", \"Number_of_PULs\"]"
   ]
  },
  {
   "cell_type": "code",
   "execution_count": 65,
   "id": "85f76265",
   "metadata": {},
   "outputs": [
    {
     "data": {
      "text/plain": [
       "0.4883720930232558"
      ]
     },
     "execution_count": 65,
     "metadata": {},
     "output_type": "execute_result"
    }
   ],
   "source": [
    "how_many_preds[how_many_preds[\"Num_Preds_from_IFDP\"] == 1][\"Number_of_PULs\"].values[0]/how_many_preds[\"Number_of_PULs\"].sum()"
   ]
  },
  {
   "cell_type": "code",
   "execution_count": 66,
   "id": "f45abda6",
   "metadata": {},
   "outputs": [
    {
     "data": {
      "text/plain": [
       "0.4883720930232558"
      ]
     },
     "execution_count": 66,
     "metadata": {},
     "output_type": "execute_result"
    }
   ],
   "source": [
    "how_many_preds[how_many_preds[\"Num_Preds_from_IFDP\"] == 1][\"Number_of_PULs\"].values[0]/merged_data_common[\"PULid\"].nunique()"
   ]
  },
  {
   "cell_type": "code",
   "execution_count": 67,
   "id": "af01042e",
   "metadata": {},
   "outputs": [
    {
     "data": {
      "text/plain": [
       "105"
      ]
     },
     "execution_count": 67,
     "metadata": {},
     "output_type": "execute_result"
    }
   ],
   "source": [
    "how_many_preds[how_many_preds[\"Num_Preds_from_IFDP\"] == 1][\"Number_of_PULs\"].values[0]"
   ]
  },
  {
   "cell_type": "code",
   "execution_count": 68,
   "id": "88998820",
   "metadata": {},
   "outputs": [
    {
     "data": {
      "text/plain": [
       "215"
      ]
     },
     "execution_count": 68,
     "metadata": {},
     "output_type": "execute_result"
    }
   ],
   "source": [
    "merged_data_common[\"PULid\"].nunique()"
   ]
  },
  {
   "cell_type": "code",
   "execution_count": 69,
   "id": "1e8e43f2",
   "metadata": {},
   "outputs": [
    {
     "data": {
      "text/plain": [
       "0.4883720930232558"
      ]
     },
     "execution_count": 69,
     "metadata": {},
     "output_type": "execute_result"
    }
   ],
   "source": [
    "105/215"
   ]
  },
  {
   "cell_type": "code",
   "execution_count": 70,
   "id": "bea36e24",
   "metadata": {},
   "outputs": [],
   "source": [
    "# 206/411"
   ]
  },
  {
   "cell_type": "code",
   "execution_count": 71,
   "id": "5cd9a0d8",
   "metadata": {},
   "outputs": [],
   "source": [
    "import matplotlib.pyplot as plt"
   ]
  },
  {
   "cell_type": "code",
   "execution_count": 72,
   "id": "f81a4bb8",
   "metadata": {},
   "outputs": [],
   "source": [
    "# 148-54"
   ]
  },
  {
   "cell_type": "code",
   "execution_count": 73,
   "id": "934f2bcf",
   "metadata": {},
   "outputs": [
    {
     "data": {
      "text/plain": [
       "110"
      ]
     },
     "execution_count": 73,
     "metadata": {},
     "output_type": "execute_result"
    }
   ],
   "source": [
    "215-105"
   ]
  },
  {
   "cell_type": "code",
   "execution_count": 74,
   "id": "a7a4e856",
   "metadata": {},
   "outputs": [
    {
     "data": {
      "text/plain": [
       "0.5116279069767442"
      ]
     },
     "execution_count": 74,
     "metadata": {},
     "output_type": "execute_result"
    }
   ],
   "source": [
    "1-(105/215)"
   ]
  },
  {
   "cell_type": "code",
   "execution_count": 75,
   "id": "8cc971e0",
   "metadata": {},
   "outputs": [],
   "source": [
    "order = how_many_preds[\"Num_Preds_from_IFDP\"].sort_values().values"
   ]
  },
  {
   "cell_type": "code",
   "execution_count": 76,
   "id": "8a200b04",
   "metadata": {},
   "outputs": [
    {
     "data": {
      "image/png": "[encoded data removed]",
      "text/plain": [
       "<Figure size 720x360 with 1 Axes>"
      ]
     },
     "metadata": {
      "needs_background": "light"
     },
     "output_type": "display_data"
    }
   ],
   "source": [
    "plt.figure(figsize = (10,5))\n",
    "plt.bar(how_many_preds[\"Num_Preds_from_IFDP\"], how_many_preds[\"Number_of_PULs\"])\n",
    "plt.xticks(order, fontsize = 15)\n",
    "plt.yticks(fontsize = 15)\n",
    "plt.xlabel(\"Number of Predictions from IFDP\", fontsize = 20)\n",
    "plt.ylabel(\"Number of PULs\", fontsize = 20)\n",
    "# plt.title(\"IFDP makes multiple predictions for \")\n",
    "plt.show()"
   ]
  },
  {
   "cell_type": "code",
   "execution_count": 77,
   "id": "d21535f7",
   "metadata": {},
   "outputs": [],
   "source": [
    "puls_with_single_preds = number_of_preds[number_of_preds[\"Num_Preds_from_IFDP\"] == 1][\"PULid\"].values"
   ]
  },
  {
   "cell_type": "code",
   "execution_count": 78,
   "id": "b5767bcf",
   "metadata": {},
   "outputs": [],
   "source": [
    "puls_with_single_preds_df = merged_data_common[merged_data_common[\"PULid\"].isin(puls_with_single_preds)]"
   ]
  },
  {
   "cell_type": "code",
   "execution_count": 79,
   "id": "365cf64f",
   "metadata": {},
   "outputs": [
    {
     "data": {
      "text/html": [
       "<div>\n",
       "<style scoped>\n",
       "    .dataframe tbody tr th:only-of-type {\n",
       "        vertical-align: middle;\n",
       "    }\n",
       "\n",
       "    .dataframe tbody tr th {\n",
       "        vertical-align: top;\n",
       "    }\n",
       "\n",
       "    .dataframe thead th {\n",
       "        text-align: right;\n",
       "    }\n",
       "</style>\n",
       "<table border=\"1\" class=\"dataframe\">\n",
       "  <thead>\n",
       "    <tr style=\"text-align: right;\">\n",
       "      <th></th>\n",
       "      <th>PULid</th>\n",
       "      <th>Verified_high_level_substr</th>\n",
       "      <th>IFDP_Predicted_high_level_substr</th>\n",
       "      <th>IFDP_Predicted_high_level_substr_dbcan_taxonomy</th>\n",
       "      <th>IFDP_Predicted_high_level_substr_IFDP_taxonomy</th>\n",
       "    </tr>\n",
       "  </thead>\n",
       "  <tbody>\n",
       "    <tr>\n",
       "      <th>17</th>\n",
       "      <td>PUL0220</td>\n",
       "      <td>beta-glucan</td>\n",
       "      <td>beta-glucan</td>\n",
       "      <td>beta-glucan</td>\n",
       "      <td>beta-glucan</td>\n",
       "    </tr>\n",
       "    <tr>\n",
       "      <th>33</th>\n",
       "      <td>PUL0325</td>\n",
       "      <td>beta-glucan</td>\n",
       "      <td>beta-glucan</td>\n",
       "      <td>beta-glucan</td>\n",
       "      <td>beta-glucan</td>\n",
       "    </tr>\n",
       "    <tr>\n",
       "      <th>39</th>\n",
       "      <td>PUL0401</td>\n",
       "      <td>beta-glucan</td>\n",
       "      <td>beta-glucan</td>\n",
       "      <td>beta-glucan</td>\n",
       "      <td>beta-glucan</td>\n",
       "    </tr>\n",
       "    <tr>\n",
       "      <th>42</th>\n",
       "      <td>PUL0406</td>\n",
       "      <td>beta-glucan</td>\n",
       "      <td>beta-glucan</td>\n",
       "      <td>beta-glucan</td>\n",
       "      <td>beta-glucan</td>\n",
       "    </tr>\n",
       "    <tr>\n",
       "      <th>47</th>\n",
       "      <td>PUL0477</td>\n",
       "      <td>beta-glucan</td>\n",
       "      <td>beta-glucan</td>\n",
       "      <td>beta-glucan</td>\n",
       "      <td>beta-glucan</td>\n",
       "    </tr>\n",
       "  </tbody>\n",
       "</table>\n",
       "</div>"
      ],
      "text/plain": [
       "      PULid Verified_high_level_substr IFDP_Predicted_high_level_substr  \\\n",
       "17  PUL0220                beta-glucan                      beta-glucan   \n",
       "33  PUL0325                beta-glucan                      beta-glucan   \n",
       "39  PUL0401                beta-glucan                      beta-glucan   \n",
       "42  PUL0406                beta-glucan                      beta-glucan   \n",
       "47  PUL0477                beta-glucan                      beta-glucan   \n",
       "\n",
       "   IFDP_Predicted_high_level_substr_dbcan_taxonomy  \\\n",
       "17                                     beta-glucan   \n",
       "33                                     beta-glucan   \n",
       "39                                     beta-glucan   \n",
       "42                                     beta-glucan   \n",
       "47                                     beta-glucan   \n",
       "\n",
       "   IFDP_Predicted_high_level_substr_IFDP_taxonomy  \n",
       "17                                    beta-glucan  \n",
       "33                                    beta-glucan  \n",
       "39                                    beta-glucan  \n",
       "42                                    beta-glucan  \n",
       "47                                    beta-glucan  "
      ]
     },
     "execution_count": 79,
     "metadata": {},
     "output_type": "execute_result"
    }
   ],
   "source": [
    "puls_with_single_preds_df.head()"
   ]
  },
  {
   "cell_type": "code",
   "execution_count": 80,
   "id": "afee52da",
   "metadata": {},
   "outputs": [
    {
     "data": {
      "text/plain": [
       "(105, 5)"
      ]
     },
     "execution_count": 80,
     "metadata": {},
     "output_type": "execute_result"
    }
   ],
   "source": [
    "puls_with_single_preds_df.shape"
   ]
  },
  {
   "cell_type": "code",
   "execution_count": 81,
   "id": "20722d2d",
   "metadata": {},
   "outputs": [
    {
     "data": {
      "text/plain": [
       "chitin             17\n",
       "arabinoxylan       16\n",
       "starch             15\n",
       "xyloglucan         14\n",
       "alginate           14\n",
       "beta-glucan         7\n",
       "carrageenan         6\n",
       "fructan             6\n",
       "galactomannan       5\n",
       "arabinogalactan     4\n",
       "pectin              1\n",
       "Name: IFDP_Predicted_high_level_substr_dbcan_taxonomy, dtype: int64"
      ]
     },
     "execution_count": 81,
     "metadata": {},
     "output_type": "execute_result"
    }
   ],
   "source": [
    "puls_with_single_preds_df[\"IFDP_Predicted_high_level_substr_dbcan_taxonomy\"].value_counts()"
   ]
  },
  {
   "cell_type": "code",
   "execution_count": 82,
   "id": "12ee4655",
   "metadata": {},
   "outputs": [],
   "source": [
    "# puls_with_single_preds_df[\"PULid\"].values"
   ]
  },
  {
   "cell_type": "code",
   "execution_count": 83,
   "id": "7284a7d1",
   "metadata": {},
   "outputs": [],
   "source": [
    "# pul_data[\"high_level_substr\"].value_counts()"
   ]
  },
  {
   "cell_type": "code",
   "execution_count": 84,
   "id": "5253d597",
   "metadata": {},
   "outputs": [],
   "source": [
    "single_preds_puls = puls_with_single_preds_df[\"PULid\"].values"
   ]
  },
  {
   "cell_type": "code",
   "execution_count": 85,
   "id": "8490835e",
   "metadata": {},
   "outputs": [],
   "source": [
    "single_pred_og_data = pul_data[pul_data[\"PULid\"].isin(puls_with_single_preds_df[\"PULid\"].values)][\"high_level_substr\"].value_counts()"
   ]
  },
  {
   "cell_type": "code",
   "execution_count": 86,
   "id": "99c85ed3",
   "metadata": {},
   "outputs": [
    {
     "data": {
      "text/html": [
       "<div>\n",
       "<style scoped>\n",
       "    .dataframe tbody tr th:only-of-type {\n",
       "        vertical-align: middle;\n",
       "    }\n",
       "\n",
       "    .dataframe tbody tr th {\n",
       "        vertical-align: top;\n",
       "    }\n",
       "\n",
       "    .dataframe thead th {\n",
       "        text-align: right;\n",
       "    }\n",
       "</style>\n",
       "<table border=\"1\" class=\"dataframe\">\n",
       "  <thead>\n",
       "    <tr style=\"text-align: right;\">\n",
       "      <th></th>\n",
       "      <th>PULid</th>\n",
       "      <th>Verified_high_level_substr</th>\n",
       "      <th>IFDP_Predicted_high_level_substr</th>\n",
       "      <th>IFDP_Predicted_high_level_substr_dbcan_taxonomy</th>\n",
       "      <th>IFDP_Predicted_high_level_substr_IFDP_taxonomy</th>\n",
       "    </tr>\n",
       "  </thead>\n",
       "  <tbody>\n",
       "    <tr>\n",
       "      <th>17</th>\n",
       "      <td>PUL0220</td>\n",
       "      <td>beta-glucan</td>\n",
       "      <td>beta-glucan</td>\n",
       "      <td>beta-glucan</td>\n",
       "      <td>beta-glucan</td>\n",
       "    </tr>\n",
       "    <tr>\n",
       "      <th>33</th>\n",
       "      <td>PUL0325</td>\n",
       "      <td>beta-glucan</td>\n",
       "      <td>beta-glucan</td>\n",
       "      <td>beta-glucan</td>\n",
       "      <td>beta-glucan</td>\n",
       "    </tr>\n",
       "    <tr>\n",
       "      <th>39</th>\n",
       "      <td>PUL0401</td>\n",
       "      <td>beta-glucan</td>\n",
       "      <td>beta-glucan</td>\n",
       "      <td>beta-glucan</td>\n",
       "      <td>beta-glucan</td>\n",
       "    </tr>\n",
       "    <tr>\n",
       "      <th>42</th>\n",
       "      <td>PUL0406</td>\n",
       "      <td>beta-glucan</td>\n",
       "      <td>beta-glucan</td>\n",
       "      <td>beta-glucan</td>\n",
       "      <td>beta-glucan</td>\n",
       "    </tr>\n",
       "    <tr>\n",
       "      <th>47</th>\n",
       "      <td>PUL0477</td>\n",
       "      <td>beta-glucan</td>\n",
       "      <td>beta-glucan</td>\n",
       "      <td>beta-glucan</td>\n",
       "      <td>beta-glucan</td>\n",
       "    </tr>\n",
       "    <tr>\n",
       "      <th>...</th>\n",
       "      <td>...</td>\n",
       "      <td>...</td>\n",
       "      <td>...</td>\n",
       "      <td>...</td>\n",
       "      <td>...</td>\n",
       "    </tr>\n",
       "    <tr>\n",
       "      <th>588</th>\n",
       "      <td>PUL0030</td>\n",
       "      <td>galactomannan</td>\n",
       "      <td>galctomannan</td>\n",
       "      <td>galactomannan</td>\n",
       "      <td>galctomannan</td>\n",
       "    </tr>\n",
       "    <tr>\n",
       "      <th>591</th>\n",
       "      <td>PUL0167</td>\n",
       "      <td>mannan</td>\n",
       "      <td>galctomannan</td>\n",
       "      <td>galactomannan</td>\n",
       "      <td>galctomannan</td>\n",
       "    </tr>\n",
       "    <tr>\n",
       "      <th>593</th>\n",
       "      <td>PUL0175</td>\n",
       "      <td>galactomannan</td>\n",
       "      <td>galctomannan</td>\n",
       "      <td>galactomannan</td>\n",
       "      <td>galctomannan</td>\n",
       "    </tr>\n",
       "    <tr>\n",
       "      <th>594</th>\n",
       "      <td>PUL0178</td>\n",
       "      <td>galactomannan</td>\n",
       "      <td>galctomannan</td>\n",
       "      <td>galactomannan</td>\n",
       "      <td>galctomannan</td>\n",
       "    </tr>\n",
       "    <tr>\n",
       "      <th>600</th>\n",
       "      <td>PUL0488</td>\n",
       "      <td>mannan</td>\n",
       "      <td>galctomannan</td>\n",
       "      <td>galactomannan</td>\n",
       "      <td>galctomannan</td>\n",
       "    </tr>\n",
       "  </tbody>\n",
       "</table>\n",
       "<p>105 rows × 5 columns</p>\n",
       "</div>"
      ],
      "text/plain": [
       "       PULid Verified_high_level_substr IFDP_Predicted_high_level_substr  \\\n",
       "17   PUL0220                beta-glucan                      beta-glucan   \n",
       "33   PUL0325                beta-glucan                      beta-glucan   \n",
       "39   PUL0401                beta-glucan                      beta-glucan   \n",
       "42   PUL0406                beta-glucan                      beta-glucan   \n",
       "47   PUL0477                beta-glucan                      beta-glucan   \n",
       "..       ...                        ...                              ...   \n",
       "588  PUL0030              galactomannan                     galctomannan   \n",
       "591  PUL0167                     mannan                     galctomannan   \n",
       "593  PUL0175              galactomannan                     galctomannan   \n",
       "594  PUL0178              galactomannan                     galctomannan   \n",
       "600  PUL0488                     mannan                     galctomannan   \n",
       "\n",
       "    IFDP_Predicted_high_level_substr_dbcan_taxonomy  \\\n",
       "17                                      beta-glucan   \n",
       "33                                      beta-glucan   \n",
       "39                                      beta-glucan   \n",
       "42                                      beta-glucan   \n",
       "47                                      beta-glucan   \n",
       "..                                              ...   \n",
       "588                                   galactomannan   \n",
       "591                                   galactomannan   \n",
       "593                                   galactomannan   \n",
       "594                                   galactomannan   \n",
       "600                                   galactomannan   \n",
       "\n",
       "    IFDP_Predicted_high_level_substr_IFDP_taxonomy  \n",
       "17                                     beta-glucan  \n",
       "33                                     beta-glucan  \n",
       "39                                     beta-glucan  \n",
       "42                                     beta-glucan  \n",
       "47                                     beta-glucan  \n",
       "..                                             ...  \n",
       "588                                   galctomannan  \n",
       "591                                   galctomannan  \n",
       "593                                   galctomannan  \n",
       "594                                   galctomannan  \n",
       "600                                   galctomannan  \n",
       "\n",
       "[105 rows x 5 columns]"
      ]
     },
     "execution_count": 86,
     "metadata": {},
     "output_type": "execute_result"
    }
   ],
   "source": [
    "puls_with_single_preds_df"
   ]
  },
  {
   "cell_type": "code",
   "execution_count": 87,
   "id": "d3bc7d83",
   "metadata": {},
   "outputs": [
    {
     "data": {
      "text/plain": [
       "0.580952380952381"
      ]
     },
     "execution_count": 87,
     "metadata": {},
     "output_type": "execute_result"
    }
   ],
   "source": [
    "np.mean(puls_with_single_preds_df[\"Verified_high_level_substr\"] == puls_with_single_preds_df[\"IFDP_Predicted_high_level_substr_dbcan_taxonomy\"])"
   ]
  },
  {
   "cell_type": "code",
   "execution_count": 88,
   "id": "d19f7b84",
   "metadata": {},
   "outputs": [],
   "source": [
    "pul_left_data = pul_data[~pul_data[\"PULid\"].isin(single_preds_puls)]"
   ]
  },
  {
   "cell_type": "code",
   "execution_count": 89,
   "id": "8d880436",
   "metadata": {},
   "outputs": [
    {
     "data": {
      "text/plain": [
       "(306, 4)"
      ]
     },
     "execution_count": 89,
     "metadata": {},
     "output_type": "execute_result"
    }
   ],
   "source": [
    "pul_left_data.shape"
   ]
  },
  {
   "cell_type": "code",
   "execution_count": 90,
   "id": "a3bbc6bd",
   "metadata": {},
   "outputs": [
    {
     "data": {
      "text/plain": [
       "alginate           14\n",
       "host glycan        12\n",
       "starch             12\n",
       "chitin              9\n",
       "galactomannan       8\n",
       "mannan              8\n",
       "xyloglucan          6\n",
       "xylan               6\n",
       "fructan             5\n",
       "carrageenan         5\n",
       "pectin              5\n",
       "beta-glucan         5\n",
       "arabinan            3\n",
       "cellulose           2\n",
       "arabinogalactan     2\n",
       "arabinoxylan        1\n",
       "galactan            1\n",
       "glucomannan         1\n",
       "Name: high_level_substr, dtype: int64"
      ]
     },
     "execution_count": 90,
     "metadata": {},
     "output_type": "execute_result"
    }
   ],
   "source": [
    "single_pred_og_data"
   ]
  },
  {
   "cell_type": "code",
   "execution_count": 91,
   "id": "ddc26b26",
   "metadata": {},
   "outputs": [
    {
     "data": {
      "image/png": "[encoded data removed]",
      "text/plain": [
       "<Figure size 720x360 with 1 Axes>"
      ]
     },
     "metadata": {
      "needs_background": "light"
     },
     "output_type": "display_data"
    }
   ],
   "source": [
    "plt.figure(figsize = (10,5))\n",
    "plt.bar(single_pred_og_data.reset_index()[\"index\"], single_pred_og_data.reset_index()[\"high_level_substr\"])\n",
    "plt.xticks(rotation = 90, fontsize = 15)\n",
    "plt.yticks(fontsize = 15)\n",
    "plt.title(\"Frequencies of Experimentally Characterized Substrates for PULs with single IFDP prediction\", fontsize = 15)\n",
    "plt.show()"
   ]
  },
  {
   "cell_type": "code",
   "execution_count": 92,
   "id": "33de68d6",
   "metadata": {},
   "outputs": [],
   "source": [
    "left_freqs = pul_left_data[\"high_level_substr\"].value_counts()"
   ]
  },
  {
   "cell_type": "code",
   "execution_count": 93,
   "id": "a567bc57",
   "metadata": {},
   "outputs": [],
   "source": [
    "left_to_keep = left_freqs[left_freqs.index.isin(single_pred_og_data.index)]"
   ]
  },
  {
   "cell_type": "code",
   "execution_count": 94,
   "id": "4b430f9e",
   "metadata": {},
   "outputs": [
    {
     "data": {
      "text/plain": [
       "pectin             34\n",
       "xylan              29\n",
       "beta-glucan        16\n",
       "cellulose          14\n",
       "galactan            9\n",
       "arabinan            9\n",
       "mannan              8\n",
       "galactomannan       7\n",
       "alginate            7\n",
       "host glycan         7\n",
       "chitin              6\n",
       "arabinoxylan        5\n",
       "starch              4\n",
       "carrageenan         3\n",
       "arabinogalactan     3\n",
       "fructan             2\n",
       "glucomannan         2\n",
       "xyloglucan          1\n",
       "Name: high_level_substr, dtype: int64"
      ]
     },
     "execution_count": 94,
     "metadata": {},
     "output_type": "execute_result"
    }
   ],
   "source": [
    "left_to_keep"
   ]
  },
  {
   "cell_type": "code",
   "execution_count": 95,
   "id": "ec6fdfb6",
   "metadata": {},
   "outputs": [
    {
     "data": {
      "image/png": "[encoded data removed]",
      "text/plain": [
       "<Figure size 720x360 with 1 Axes>"
      ]
     },
     "metadata": {
      "needs_background": "light"
     },
     "output_type": "display_data"
    }
   ],
   "source": [
    "plt.figure(figsize = (10,5))\n",
    "plt.bar(left_to_keep.reset_index()[\"index\"], left_to_keep.reset_index()[\"high_level_substr\"])\n",
    "plt.xticks(rotation = 90, fontsize = 15)\n",
    "plt.yticks(fontsize = 15)\n",
    "plt.title(\"Frequencies of Experimentally Characterized Substrates in the Training Set\", fontsize = 15)\n",
    "plt.show()"
   ]
  },
  {
   "cell_type": "code",
   "execution_count": 96,
   "id": "69652f0e",
   "metadata": {},
   "outputs": [],
   "source": [
    "new_order = list(left_to_keep.iloc[:10].index)"
   ]
  },
  {
   "cell_type": "code",
   "execution_count": 97,
   "id": "8789740a",
   "metadata": {},
   "outputs": [
    {
     "data": {
      "text/plain": [
       "['pectin',\n",
       " 'xylan',\n",
       " 'beta-glucan',\n",
       " 'cellulose',\n",
       " 'galactan',\n",
       " 'arabinan',\n",
       " 'mannan',\n",
       " 'galactomannan',\n",
       " 'alginate',\n",
       " 'host glycan']"
      ]
     },
     "execution_count": 97,
     "metadata": {},
     "output_type": "execute_result"
    }
   ],
   "source": [
    "new_order"
   ]
  },
  {
   "cell_type": "code",
   "execution_count": 98,
   "id": "170803ce",
   "metadata": {},
   "outputs": [
    {
     "data": {
      "text/plain": [
       "alginate           14\n",
       "host glycan        12\n",
       "starch             12\n",
       "chitin              9\n",
       "galactomannan       8\n",
       "mannan              8\n",
       "xyloglucan          6\n",
       "xylan               6\n",
       "fructan             5\n",
       "carrageenan         5\n",
       "pectin              5\n",
       "beta-glucan         5\n",
       "arabinan            3\n",
       "cellulose           2\n",
       "arabinogalactan     2\n",
       "arabinoxylan        1\n",
       "galactan            1\n",
       "glucomannan         1\n",
       "Name: high_level_substr, dtype: int64"
      ]
     },
     "execution_count": 98,
     "metadata": {},
     "output_type": "execute_result"
    }
   ],
   "source": [
    "single_pred_og_data"
   ]
  },
  {
   "cell_type": "code",
   "execution_count": 99,
   "id": "47aa7a1f",
   "metadata": {},
   "outputs": [],
   "source": [
    "single_pred_og_data_test = single_pred_og_data.reset_index()[single_pred_og_data.reset_index()[\"index\"].isin(new_order)]"
   ]
  },
  {
   "cell_type": "code",
   "execution_count": 100,
   "id": "b43b0943",
   "metadata": {},
   "outputs": [
    {
     "data": {
      "text/html": [
       "<div>\n",
       "<style scoped>\n",
       "    .dataframe tbody tr th:only-of-type {\n",
       "        vertical-align: middle;\n",
       "    }\n",
       "\n",
       "    .dataframe tbody tr th {\n",
       "        vertical-align: top;\n",
       "    }\n",
       "\n",
       "    .dataframe thead th {\n",
       "        text-align: right;\n",
       "    }\n",
       "</style>\n",
       "<table border=\"1\" class=\"dataframe\">\n",
       "  <thead>\n",
       "    <tr style=\"text-align: right;\">\n",
       "      <th></th>\n",
       "      <th>index</th>\n",
       "      <th>high_level_substr</th>\n",
       "    </tr>\n",
       "  </thead>\n",
       "  <tbody>\n",
       "    <tr>\n",
       "      <th>0</th>\n",
       "      <td>alginate</td>\n",
       "      <td>14</td>\n",
       "    </tr>\n",
       "    <tr>\n",
       "      <th>1</th>\n",
       "      <td>host glycan</td>\n",
       "      <td>12</td>\n",
       "    </tr>\n",
       "    <tr>\n",
       "      <th>4</th>\n",
       "      <td>galactomannan</td>\n",
       "      <td>8</td>\n",
       "    </tr>\n",
       "    <tr>\n",
       "      <th>5</th>\n",
       "      <td>mannan</td>\n",
       "      <td>8</td>\n",
       "    </tr>\n",
       "    <tr>\n",
       "      <th>7</th>\n",
       "      <td>xylan</td>\n",
       "      <td>6</td>\n",
       "    </tr>\n",
       "    <tr>\n",
       "      <th>10</th>\n",
       "      <td>pectin</td>\n",
       "      <td>5</td>\n",
       "    </tr>\n",
       "    <tr>\n",
       "      <th>11</th>\n",
       "      <td>beta-glucan</td>\n",
       "      <td>5</td>\n",
       "    </tr>\n",
       "    <tr>\n",
       "      <th>12</th>\n",
       "      <td>arabinan</td>\n",
       "      <td>3</td>\n",
       "    </tr>\n",
       "    <tr>\n",
       "      <th>13</th>\n",
       "      <td>cellulose</td>\n",
       "      <td>2</td>\n",
       "    </tr>\n",
       "    <tr>\n",
       "      <th>16</th>\n",
       "      <td>galactan</td>\n",
       "      <td>1</td>\n",
       "    </tr>\n",
       "  </tbody>\n",
       "</table>\n",
       "</div>"
      ],
      "text/plain": [
       "            index  high_level_substr\n",
       "0        alginate                 14\n",
       "1     host glycan                 12\n",
       "4   galactomannan                  8\n",
       "5          mannan                  8\n",
       "7           xylan                  6\n",
       "10         pectin                  5\n",
       "11    beta-glucan                  5\n",
       "12       arabinan                  3\n",
       "13      cellulose                  2\n",
       "16       galactan                  1"
      ]
     },
     "execution_count": 100,
     "metadata": {},
     "output_type": "execute_result"
    }
   ],
   "source": [
    "single_pred_og_data_test"
   ]
  },
  {
   "cell_type": "code",
   "execution_count": 101,
   "id": "acfe2fd0",
   "metadata": {},
   "outputs": [
    {
     "data": {
      "image/png": "[encoded data removed]",
      "text/plain": [
       "<Figure size 720x360 with 1 Axes>"
      ]
     },
     "metadata": {
      "needs_background": "light"
     },
     "output_type": "display_data"
    }
   ],
   "source": [
    "plt.figure(figsize = (10,5))\n",
    "plt.bar(single_pred_og_data_test[\"index\"], single_pred_og_data_test[\"high_level_substr\"])\n",
    "plt.xticks(rotation = 90, fontsize = 15)\n",
    "plt.yticks(fontsize = 15)\n",
    "plt.title(\"Frequencies of Experimentally Characterized Substrates for PULs in the Test set\", fontsize = 15)\n",
    "plt.show()"
   ]
  },
  {
   "cell_type": "code",
   "execution_count": 102,
   "id": "fab5b6bf",
   "metadata": {},
   "outputs": [],
   "source": [
    "test_set = puls_with_single_preds_df[puls_with_single_preds_df[\"Verified_high_level_substr\"].isin(new_order)]"
   ]
  },
  {
   "cell_type": "code",
   "execution_count": 103,
   "id": "a0f86b5f",
   "metadata": {},
   "outputs": [],
   "source": [
    "test_set_puls = test_set[\"PULid\"].values"
   ]
  },
  {
   "cell_type": "code",
   "execution_count": 104,
   "id": "4662fd1d",
   "metadata": {},
   "outputs": [],
   "source": [
    "X_test = pul_data[pul_data[\"PULid\"].isin(test_set_puls)][\"sig_gene_seq\"]"
   ]
  },
  {
   "cell_type": "code",
   "execution_count": 105,
   "id": "a724cae4",
   "metadata": {},
   "outputs": [],
   "source": [
    "y_test = pul_data[pul_data[\"PULid\"].isin(test_set_puls)][\"high_level_substr\"].values"
   ]
  },
  {
   "cell_type": "code",
   "execution_count": 106,
   "id": "36d85d5f",
   "metadata": {},
   "outputs": [
    {
     "data": {
      "text/plain": [
       "array(['xylan', 'xylan', 'arabinan', 'alginate', 'galactomannan',\n",
       "       'alginate', 'alginate', 'alginate', 'alginate', 'alginate',\n",
       "       'alginate', 'cellulose', 'host glycan', 'host glycan', 'arabinan',\n",
       "       'alginate', 'alginate', 'alginate', 'mannan', 'mannan', 'mannan',\n",
       "       'mannan', 'host glycan', 'galactomannan', 'galactomannan',\n",
       "       'galactomannan', 'pectin', 'host glycan', 'alginate',\n",
       "       'host glycan', 'host glycan', 'host glycan', 'galactomannan',\n",
       "       'galactomannan', 'beta-glucan', 'host glycan', 'cellulose',\n",
       "       'galactomannan', 'alginate', 'beta-glucan', 'xylan', 'xylan',\n",
       "       'mannan', 'mannan', 'xylan', 'galactan', 'alginate', 'beta-glucan',\n",
       "       'beta-glucan', 'host glycan', 'host glycan', 'host glycan',\n",
       "       'beta-glucan', 'pectin', 'mannan', 'pectin', 'arabinan', 'xylan',\n",
       "       'host glycan', 'mannan', 'pectin', 'pectin', 'alginate',\n",
       "       'galactomannan'], dtype=object)"
      ]
     },
     "execution_count": 106,
     "metadata": {},
     "output_type": "execute_result"
    }
   ],
   "source": [
    "y_test"
   ]
  },
  {
   "cell_type": "code",
   "execution_count": 107,
   "id": "85ce3924",
   "metadata": {},
   "outputs": [
    {
     "data": {
      "text/plain": [
       "(64,)"
      ]
     },
     "execution_count": 107,
     "metadata": {},
     "output_type": "execute_result"
    }
   ],
   "source": [
    "X_test.shape"
   ]
  },
  {
   "cell_type": "code",
   "execution_count": 108,
   "id": "5f2644d2",
   "metadata": {},
   "outputs": [],
   "source": [
    "test_seqs = np.array([test_item.replace(\"|\", \",\").replace(\",\", \" \") for test_item in X_test.values])"
   ]
  },
  {
   "cell_type": "code",
   "execution_count": 109,
   "id": "7bf1f28f",
   "metadata": {},
   "outputs": [
    {
     "data": {
      "text/plain": [
       "64"
      ]
     },
     "execution_count": 109,
     "metadata": {},
     "output_type": "execute_result"
    }
   ],
   "source": [
    "single_pred_og_data[single_pred_og_data.index.isin(new_order)].values.sum()"
   ]
  },
  {
   "cell_type": "code",
   "execution_count": 110,
   "id": "3d196b02",
   "metadata": {},
   "outputs": [],
   "source": [
    "to_model_data = pul_left_data[pul_left_data[\"high_level_substr\"].isin(new_order)]"
   ]
  },
  {
   "cell_type": "code",
   "execution_count": 111,
   "id": "aa7b3f1c",
   "metadata": {},
   "outputs": [
    {
     "data": {
      "text/plain": [
       "(140, 4)"
      ]
     },
     "execution_count": 111,
     "metadata": {},
     "output_type": "execute_result"
    }
   ],
   "source": [
    "to_model_data.shape"
   ]
  },
  {
   "cell_type": "code",
   "execution_count": 112,
   "id": "f03423c7",
   "metadata": {},
   "outputs": [
    {
     "data": {
      "text/plain": [
       "pectin           34\n",
       "xylan            29\n",
       "beta-glucan      16\n",
       "cellulose        14\n",
       "galactan          9\n",
       "arabinan          9\n",
       "mannan            8\n",
       "host glycan       7\n",
       "alginate          7\n",
       "galactomannan     7\n",
       "Name: high_level_substr, dtype: int64"
      ]
     },
     "execution_count": 112,
     "metadata": {},
     "output_type": "execute_result"
    }
   ],
   "source": [
    "to_model_data[\"high_level_substr\"].value_counts()"
   ]
  },
  {
   "cell_type": "code",
   "execution_count": 113,
   "id": "6fb991c1",
   "metadata": {},
   "outputs": [
    {
     "data": {
      "image/png": "[encoded data removed]",
      "text/plain": [
       "<Figure size 720x360 with 1 Axes>"
      ]
     },
     "metadata": {
      "needs_background": "light"
     },
     "output_type": "display_data"
    }
   ],
   "source": [
    "plt.figure(figsize = (10,5))\n",
    "plt.bar(to_model_data[\"high_level_substr\"].value_counts().reset_index()[\"index\"], to_model_data[\"high_level_substr\"].value_counts().reset_index()[\"high_level_substr\"])\n",
    "plt.xticks(rotation = 90, fontsize = 15)\n",
    "plt.yticks(fontsize = 15)\n",
    "plt.title(\"Frequencies of Experimentally Characterized Substrates for PULs in Train Set (for the chosen substrates)\", fontsize = 15)\n",
    "plt.show()"
   ]
  },
  {
   "cell_type": "code",
   "execution_count": 114,
   "id": "5c6ab2d0",
   "metadata": {},
   "outputs": [],
   "source": [
    "from Codes.Model_architectures import simple_lstm, attention_lstm_model, non_recurrent_attention_model"
   ]
  },
  {
   "cell_type": "code",
   "execution_count": 115,
   "id": "bd99e5d0",
   "metadata": {},
   "outputs": [],
   "source": [
    "import gensim"
   ]
  },
  {
   "cell_type": "code",
   "execution_count": 116,
   "id": "4e5d6835",
   "metadata": {},
   "outputs": [],
   "source": [
    "model_sg =gensim.models.word2vec.Word2Vec.load(r\"Embedding_Models_10_12//word2vec_sg_vec_50\") "
   ]
  },
  {
   "cell_type": "code",
   "execution_count": 117,
   "id": "7f8ee467",
   "metadata": {},
   "outputs": [],
   "source": [
    "# model_sg =gensim.models.word2vec.Word2Vec.load(r\"Embedding_Models_10_12//word2vec_sg_vec_100\") "
   ]
  },
  {
   "cell_type": "code",
   "execution_count": 118,
   "id": "70cefe51",
   "metadata": {},
   "outputs": [],
   "source": [
    "# import tensorflow as tf"
   ]
  },
  {
   "cell_type": "code",
   "execution_count": 119,
   "id": "1f4a0d0d",
   "metadata": {},
   "outputs": [],
   "source": [
    "def non_recurrent_attention_model(num_classes, training, model_cbow): \n",
    "    padding_vector = np.zeros((1, model_cbow.wv.vectors.shape[1]))\n",
    "    unknown_vector = np.zeros((1, model_cbow.wv.vectors.shape[1]))\n",
    "    weight_vectors = np.vstack((padding_vector, unknown_vector))\n",
    "    weight_vectors = np.vstack((weight_vectors, model_cbow.wv.vectors))\n",
    "    embedding_layer = tf.keras.layers.Embedding(len(weight_vectors),\n",
    "                            weight_vectors.shape[1],\n",
    "                            weights=[weight_vectors],\n",
    "                            mask_zero = False,\n",
    "                            trainable=False)\n",
    "    \n",
    "    vectorize_layer = tf.keras.layers.TextVectorization(\n",
    "                     output_mode='int',\n",
    "                     vocabulary=model_cbow.wv.index_to_key, \n",
    "                     standardize = None)\n",
    "    input_layer = tf.keras.layers.Input(shape = (1,), dtype = tf.string)\n",
    "\n",
    "    vectorize = vectorize_layer(input_layer)\n",
    "\n",
    "    vectorize.shape\n",
    "\n",
    "    emb_output = embedding_layer(vectorize)\n",
    "\n",
    "    emb_output.shape\n",
    "\n",
    "    x_a = tf.keras.layers.Dense(emb_output.get_shape()[-1]//2, kernel_initializer = 'glorot_uniform', activation=\"tanh\", name=\"tanh_mlp\")(emb_output) \n",
    "    \n",
    "    x_a = tf.keras.layers.Dropout(0.5)(x_a, training = training)\n",
    "    \n",
    "    x_a = tf.keras.layers.Dense(1, kernel_initializer = 'glorot_uniform', activation='linear', name=\"word-level_context\")(x_a)\n",
    "\n",
    "    x_a = tf.keras.layers.Flatten()(x_a)\n",
    "\n",
    "    att_out = tf.keras.layers.Activation('softmax')(x_a) \n",
    "\n",
    "    x_a2 = tf.keras.layers.RepeatVector(emb_output.get_shape()[-1])(att_out)\n",
    "\n",
    "    x_a2 = tf.keras.layers.Permute([2,1])(x_a2)\n",
    "\n",
    "    out = tf.keras.layers.Multiply()([emb_output,x_a2])\n",
    "    \n",
    "    out = tf.keras.layers.Lambda(lambda x : tf.math.reduce_sum(x, axis = 1), name='expectation_over_words')(out)\n",
    "\n",
    "    dropout_layer = tf.keras.layers.Dropout(0.65)(out, training = training)\n",
    "\n",
    "    pred_head = tf.keras.layers.Dense(num_classes)\n",
    "\n",
    "    pred_output = pred_head(dropout_layer)\n",
    "\n",
    "    model = tf.keras.models.Model(input_layer, pred_output)\n",
    "    \n",
    "    model.compile(loss = tf.keras.losses.SparseCategoricalCrossentropy(from_logits=True), \n",
    "                 optimizer = tf.keras.optimizers.Adam(learning_rate = 1e-2), \n",
    "                 metrics= \"accuracy\")\n",
    "    \n",
    "    return model"
   ]
  },
  {
   "cell_type": "code",
   "execution_count": 120,
   "id": "b358c01a",
   "metadata": {},
   "outputs": [],
   "source": [
    "model_dl = non_recurrent_attention_model(len(new_order), False, model_sg)"
   ]
  },
  {
   "cell_type": "code",
   "execution_count": 121,
   "id": "362cdf64",
   "metadata": {},
   "outputs": [
    {
     "name": "stdout",
     "output_type": "stream",
     "text": [
      "Model: \"model\"\n",
      "__________________________________________________________________________________________________\n",
      " Layer (type)                   Output Shape         Param #     Connected to                     \n",
      "==================================================================================================\n",
      " input_1 (InputLayer)           [(None, 1)]          0           []                               \n",
      "                                                                                                  \n",
      " text_vectorization (TextVector  (None, None)        0           ['input_1[0][0]']                \n",
      " ization)                                                                                         \n",
      "                                                                                                  \n",
      " embedding (Embedding)          (None, None, 50)     68800       ['text_vectorization[0][0]']     \n",
      "                                                                                                  \n",
      " tanh_mlp (Dense)               (None, None, 25)     1275        ['embedding[0][0]']              \n",
      "                                                                                                  \n",
      " dropout (Dropout)              (None, None, 25)     0           ['tanh_mlp[0][0]']               \n",
      "                                                                                                  \n",
      " word-level_context (Dense)     (None, None, 1)      26          ['dropout[0][0]']                \n",
      "                                                                                                  \n",
      " flatten (Flatten)              (None, None)         0           ['word-level_context[0][0]']     \n",
      "                                                                                                  \n",
      " activation (Activation)        (None, None)         0           ['flatten[0][0]']                \n",
      "                                                                                                  \n",
      " repeat_vector (RepeatVector)   (None, 50, None)     0           ['activation[0][0]']             \n",
      "                                                                                                  \n",
      " permute (Permute)              (None, None, 50)     0           ['repeat_vector[0][0]']          \n",
      "                                                                                                  \n",
      " multiply (Multiply)            (None, None, 50)     0           ['embedding[0][0]',              \n",
      "                                                                  'permute[0][0]']                \n",
      "                                                                                                  \n",
      " expectation_over_words (Lambda  (None, 50)          0           ['multiply[0][0]']               \n",
      " )                                                                                                \n",
      "                                                                                                  \n",
      " dropout_1 (Dropout)            (None, 50)           0           ['expectation_over_words[0][0]'] \n",
      "                                                                                                  \n",
      " dense (Dense)                  (None, 10)           510         ['dropout_1[0][0]']              \n",
      "                                                                                                  \n",
      "==================================================================================================\n",
      "Total params: 70,611\n",
      "Trainable params: 1,811\n",
      "Non-trainable params: 68,800\n",
      "__________________________________________________________________________________________________\n"
     ]
    }
   ],
   "source": [
    "model_dl.summary()"
   ]
  },
  {
   "cell_type": "code",
   "execution_count": 122,
   "id": "f9b9ee3e",
   "metadata": {},
   "outputs": [],
   "source": [
    "from sklearn.model_selection import train_test_split"
   ]
  },
  {
   "cell_type": "code",
   "execution_count": 123,
   "id": "d0ef6492",
   "metadata": {},
   "outputs": [],
   "source": [
    "from sklearn.preprocessing import LabelEncoder"
   ]
  },
  {
   "cell_type": "code",
   "execution_count": 124,
   "id": "6f2da99c",
   "metadata": {},
   "outputs": [],
   "source": [
    "le = LabelEncoder()"
   ]
  },
  {
   "cell_type": "code",
   "execution_count": 125,
   "id": "d5cb08e8",
   "metadata": {},
   "outputs": [],
   "source": [
    "X_train, X_valid, y_train, y_valid = train_test_split(to_model_data[\"sig_gene_seq\"], to_model_data[\"high_level_substr\"], \n",
    "                                                                  stratify = to_model_data[\"high_level_substr\"],\n",
    "                                                                  test_size = 0.10, random_state = 42)\n",
    "            \n",
    "train_seqs = np.array([train_item.replace(\"|\", \",\").replace(\",\", \" \") for train_item in X_train])\n",
    "valid_seqs = np.array([valid_item.replace(\"|\", \",\").replace(\",\", \" \") for valid_item in X_valid])\n",
    "# test_seqs = np.array([test_item.replace(\"|\", \",\").replace(\",\", \" \") for test_item in X_test[\"sig_gene_seq\"].values])"
   ]
  },
  {
   "cell_type": "code",
   "execution_count": 126,
   "id": "43d4cd7b",
   "metadata": {},
   "outputs": [
    {
     "data": {
      "text/html": [
       "<style>#sk-container-id-1 {color: black;background-color: white;}#sk-container-id-1 pre{padding: 0;}#sk-container-id-1 div.sk-toggleable {background-color: white;}#sk-container-id-1 label.sk-toggleable__label {cursor: pointer;display: block;width: 100%;margin-bottom: 0;padding: 0.3em;box-sizing: border-box;text-align: center;}#sk-container-id-1 label.sk-toggleable__label-arrow:before {content: \"▸\";float: left;margin-right: 0.25em;color: #696969;}#sk-container-id-1 label.sk-toggleable__label-arrow:hover:before {color: black;}#sk-container-id-1 div.sk-estimator:hover label.sk-toggleable__label-arrow:before {color: black;}#sk-container-id-1 div.sk-toggleable__content {max-height: 0;max-width: 0;overflow: hidden;text-align: left;background-color: #f0f8ff;}#sk-container-id-1 div.sk-toggleable__content pre {margin: 0.2em;color: black;border-radius: 0.25em;background-color: #f0f8ff;}#sk-container-id-1 input.sk-toggleable__control:checked~div.sk-toggleable__content {max-height: 200px;max-width: 100%;overflow: auto;}#sk-container-id-1 input.sk-toggleable__control:checked~label.sk-toggleable__label-arrow:before {content: \"▾\";}#sk-container-id-1 div.sk-estimator input.sk-toggleable__control:checked~label.sk-toggleable__label {background-color: #d4ebff;}#sk-container-id-1 div.sk-label input.sk-toggleable__control:checked~label.sk-toggleable__label {background-color: #d4ebff;}#sk-container-id-1 input.sk-hidden--visually {border: 0;clip: rect(1px 1px 1px 1px);clip: rect(1px, 1px, 1px, 1px);height: 1px;margin: -1px;overflow: hidden;padding: 0;position: absolute;width: 1px;}#sk-container-id-1 div.sk-estimator {font-family: monospace;background-color: #f0f8ff;border: 1px dotted black;border-radius: 0.25em;box-sizing: border-box;margin-bottom: 0.5em;}#sk-container-id-1 div.sk-estimator:hover {background-color: #d4ebff;}#sk-container-id-1 div.sk-parallel-item::after {content: \"\";width: 100%;border-bottom: 1px solid gray;flex-grow: 1;}#sk-container-id-1 div.sk-label:hover label.sk-toggleable__label {background-color: #d4ebff;}#sk-container-id-1 div.sk-serial::before {content: \"\";position: absolute;border-left: 1px solid gray;box-sizing: border-box;top: 0;bottom: 0;left: 50%;z-index: 0;}#sk-container-id-1 div.sk-serial {display: flex;flex-direction: column;align-items: center;background-color: white;padding-right: 0.2em;padding-left: 0.2em;position: relative;}#sk-container-id-1 div.sk-item {position: relative;z-index: 1;}#sk-container-id-1 div.sk-parallel {display: flex;align-items: stretch;justify-content: center;background-color: white;position: relative;}#sk-container-id-1 div.sk-item::before, #sk-container-id-1 div.sk-parallel-item::before {content: \"\";position: absolute;border-left: 1px solid gray;box-sizing: border-box;top: 0;bottom: 0;left: 50%;z-index: -1;}#sk-container-id-1 div.sk-parallel-item {display: flex;flex-direction: column;z-index: 1;position: relative;background-color: white;}#sk-container-id-1 div.sk-parallel-item:first-child::after {align-self: flex-end;width: 50%;}#sk-container-id-1 div.sk-parallel-item:last-child::after {align-self: flex-start;width: 50%;}#sk-container-id-1 div.sk-parallel-item:only-child::after {width: 0;}#sk-container-id-1 div.sk-dashed-wrapped {border: 1px dashed gray;margin: 0 0.4em 0.5em 0.4em;box-sizing: border-box;padding-bottom: 0.4em;background-color: white;}#sk-container-id-1 div.sk-label label {font-family: monospace;font-weight: bold;display: inline-block;line-height: 1.2em;}#sk-container-id-1 div.sk-label-container {text-align: center;}#sk-container-id-1 div.sk-container {/* jupyter's `normalize.less` sets `[hidden] { display: none; }` but bootstrap.min.css set `[hidden] { display: none !important; }` so we also need the `!important` here to be able to override the default hidden behavior on the sphinx rendered scikit-learn.org. See: https://github.com/scikit-learn/scikit-learn/issues/21755 */display: inline-block !important;position: relative;}#sk-container-id-1 div.sk-text-repr-fallback {display: none;}</style><div id=\"sk-container-id-1\" class=\"sk-top-container\"><div class=\"sk-text-repr-fallback\"><pre>LabelEncoder()</pre><b>In a Jupyter environment, please rerun this cell to show the HTML representation or trust the notebook. <br />On GitHub, the HTML representation is unable to render, please try loading this page with nbviewer.org.</b></div><div class=\"sk-container\" hidden><div class=\"sk-item\"><div class=\"sk-estimator sk-toggleable\"><input class=\"sk-toggleable__control sk-hidden--visually\" id=\"sk-estimator-id-1\" type=\"checkbox\" checked><label for=\"sk-estimator-id-1\" class=\"sk-toggleable__label sk-toggleable__label-arrow\">LabelEncoder</label><div class=\"sk-toggleable__content\"><pre>LabelEncoder()</pre></div></div></div></div></div>"
      ],
      "text/plain": [
       "LabelEncoder()"
      ]
     },
     "execution_count": 126,
     "metadata": {},
     "output_type": "execute_result"
    }
   ],
   "source": [
    "le.fit(y_train.values.reshape(-1,1).ravel())"
   ]
  },
  {
   "cell_type": "code",
   "execution_count": 127,
   "id": "013b7937",
   "metadata": {},
   "outputs": [],
   "source": [
    "y_train = le.transform(y_train.values.reshape(-1,1).ravel())\n",
    "            # y_train = y_train.toarray()\n",
    "            \n",
    "y_valid = le.transform(y_valid.values.reshape(-1,1).ravel())\n",
    "            # y_valid = y_valid.toarray()\n",
    "            \n",
    "y_train_df = pd.DataFrame(y_train)\n",
    "            \n",
    "weights = y_train_df[0].value_counts()/y_train_df[0].value_counts().sum()\n",
    "            \n",
    "weights = 1/weights\n",
    "            \n",
    "# weights = 1/(y_train.sum(0)/y_train.sum(0).sum())\n",
    "class_weights = dict(weights)"
   ]
  },
  {
   "cell_type": "code",
   "execution_count": 128,
   "id": "6b3af93c",
   "metadata": {},
   "outputs": [],
   "source": [
    "y_test = le.transform(y_test)"
   ]
  },
  {
   "cell_type": "code",
   "execution_count": 129,
   "id": "d2c6ef11",
   "metadata": {},
   "outputs": [],
   "source": [
    "import tensorflow as tf"
   ]
  },
  {
   "cell_type": "code",
   "execution_count": 130,
   "id": "2e7eeac0",
   "metadata": {
    "scrolled": false
   },
   "outputs": [
    {
     "name": "stdout",
     "output_type": "stream",
     "text": [
      "Epoch 1/2000\n",
      "126/126 [==============================] - 3s 14ms/step - loss: 20.2262 - accuracy: 0.3492 - val_loss: 1.1957 - val_accuracy: 0.7857\n",
      "Epoch 2/2000\n",
      "126/126 [==============================] - 1s 11ms/step - loss: 9.2610 - accuracy: 0.7698 - val_loss: 1.0006 - val_accuracy: 0.7143\n",
      "Epoch 3/2000\n",
      "126/126 [==============================] - 1s 10ms/step - loss: 6.4395 - accuracy: 0.8175 - val_loss: 1.0461 - val_accuracy: 0.7143\n",
      "Epoch 4/2000\n",
      "126/126 [==============================] - 1s 10ms/step - loss: 5.3413 - accuracy: 0.8571 - val_loss: 0.9675 - val_accuracy: 0.7857\n",
      "Epoch 5/2000\n",
      "126/126 [==============================] - 1s 10ms/step - loss: 4.1498 - accuracy: 0.8968 - val_loss: 1.0035 - val_accuracy: 0.7857\n",
      "Epoch 6/2000\n",
      "126/126 [==============================] - 1s 10ms/step - loss: 4.2472 - accuracy: 0.8889 - val_loss: 1.0106 - val_accuracy: 0.7857\n",
      "Epoch 7/2000\n",
      "126/126 [==============================] - 1s 10ms/step - loss: 3.5151 - accuracy: 0.9048 - val_loss: 1.0484 - val_accuracy: 0.7857\n",
      "Epoch 8/2000\n",
      "126/126 [==============================] - 1s 10ms/step - loss: 3.1911 - accuracy: 0.9127 - val_loss: 0.9974 - val_accuracy: 0.7143\n",
      "Epoch 9/2000\n",
      "126/126 [==============================] - 1s 10ms/step - loss: 3.0066 - accuracy: 0.9048 - val_loss: 1.2336 - val_accuracy: 0.7143\n",
      "Epoch 10/2000\n",
      "126/126 [==============================] - 1s 10ms/step - loss: 2.9553 - accuracy: 0.9048 - val_loss: 1.1527 - val_accuracy: 0.7143\n",
      "Epoch 11/2000\n",
      "126/126 [==============================] - 1s 10ms/step - loss: 2.8790 - accuracy: 0.9048 - val_loss: 1.3831 - val_accuracy: 0.5714\n"
     ]
    },
    {
     "data": {
      "text/plain": [
       "<keras.callbacks.History at 0x16abf9bdfa0>"
      ]
     },
     "execution_count": 130,
     "metadata": {},
     "output_type": "execute_result"
    }
   ],
   "source": [
    "model_dl.fit(train_seqs, y_train, validation_data = (valid_seqs, y_valid), batch_size = 1, epochs = 2000, \n",
    "                                     callbacks  = tf.keras.callbacks.EarlyStopping(monitor = \"val_accuracy\", patience = 10,\n",
    "                                                                                   restore_best_weights=True), \n",
    "                                     validation_batch_size=1, verbose = 1, shuffle = True, class_weight = class_weights)"
   ]
  },
  {
   "cell_type": "code",
   "execution_count": 131,
   "id": "0ad0efe4",
   "metadata": {},
   "outputs": [
    {
     "name": "stdout",
     "output_type": "stream",
     "text": [
      "1/1 [==============================] - 0s 224ms/step - loss: 1.2016 - accuracy: 0.7857\n"
     ]
    },
    {
     "data": {
      "text/plain": [
       "[1.201589584350586, 0.7857142686843872]"
      ]
     },
     "execution_count": 131,
     "metadata": {},
     "output_type": "execute_result"
    }
   ],
   "source": [
    "model_dl.evaluate(valid_seqs, y_valid)"
   ]
  },
  {
   "cell_type": "code",
   "execution_count": 132,
   "id": "b497b51a",
   "metadata": {},
   "outputs": [
    {
     "name": "stdout",
     "output_type": "stream",
     "text": [
      "2/2 [==============================] - 0s 10ms/step - loss: 1.4699 - accuracy: 0.5312\n"
     ]
    },
    {
     "data": {
      "text/plain": [
       "[1.469853162765503, 0.53125]"
      ]
     },
     "execution_count": 132,
     "metadata": {},
     "output_type": "execute_result"
    }
   ],
   "source": [
    "model_dl.evaluate(test_seqs, y_test)"
   ]
  },
  {
   "cell_type": "code",
   "execution_count": 133,
   "id": "092a97dd",
   "metadata": {},
   "outputs": [
    {
     "name": "stdout",
     "output_type": "stream",
     "text": [
      "2/2 [==============================] - 0s 7ms/step\n"
     ]
    }
   ],
   "source": [
    "y_test_pred = le.inverse_transform(model_dl.predict(test_seqs).argmax(1))"
   ]
  },
  {
   "cell_type": "code",
   "execution_count": 134,
   "id": "989f1d86",
   "metadata": {},
   "outputs": [
    {
     "data": {
      "text/plain": [
       "0.53125"
      ]
     },
     "execution_count": 134,
     "metadata": {},
     "output_type": "execute_result"
    }
   ],
   "source": [
    "np.mean(le.inverse_transform(y_test) == y_test_pred)"
   ]
  },
  {
   "cell_type": "code",
   "execution_count": 135,
   "id": "946ea2de",
   "metadata": {},
   "outputs": [],
   "source": [
    "actual_subs = le.inverse_transform(y_test)"
   ]
  },
  {
   "cell_type": "code",
   "execution_count": 136,
   "id": "65479763",
   "metadata": {},
   "outputs": [],
   "source": [
    "predicted_ifdp_subs = y_test_pred"
   ]
  },
  {
   "cell_type": "code",
   "execution_count": 137,
   "id": "ab00d5c6",
   "metadata": {},
   "outputs": [],
   "source": [
    "common_order = set(actual_subs).union(predicted_ifdp_subs)"
   ]
  },
  {
   "cell_type": "code",
   "execution_count": 138,
   "id": "c4ee3b59",
   "metadata": {},
   "outputs": [],
   "source": [
    "from sklearn.metrics import confusion_matrix"
   ]
  },
  {
   "cell_type": "code",
   "execution_count": 139,
   "id": "2aa3b454",
   "metadata": {},
   "outputs": [],
   "source": [
    "cm = confusion_matrix(actual_subs, predicted_ifdp_subs, normalize = \"true\", labels = list(common_order))"
   ]
  },
  {
   "cell_type": "code",
   "execution_count": 140,
   "id": "c37a5bf1",
   "metadata": {},
   "outputs": [],
   "source": [
    "df_cm = pd.DataFrame(cm, index = list(common_order), columns= list(common_order))"
   ]
  },
  {
   "cell_type": "code",
   "execution_count": 141,
   "id": "14357ab9",
   "metadata": {},
   "outputs": [],
   "source": [
    "import seaborn as sns"
   ]
  },
  {
   "cell_type": "code",
   "execution_count": 142,
   "id": "4691b544",
   "metadata": {},
   "outputs": [
    {
     "data": {
      "image/png": "[encoded data removed]",
      "text/plain": [
       "<Figure size 720x720 with 2 Axes>"
      ]
     },
     "metadata": {
      "needs_background": "light"
     },
     "output_type": "display_data"
    }
   ],
   "source": [
    "plt.figure(figsize = (10,10))\n",
    "sns.heatmap(df_cm, annot=True)\n",
    "plt.xticks(fontsize = 15, rotation = 90)\n",
    "plt.yticks(fontsize = 15,  rotation = 0)\n",
    "plt.ylabel(\"Verified High Level Substrate\", fontsize = 20)\n",
    "plt.xlabel(\"IFDP High Level Substrate\", fontsize = 20)\n",
    "plt.show()"
   ]
  },
  {
   "cell_type": "code",
   "execution_count": 143,
   "id": "41b33c17",
   "metadata": {},
   "outputs": [
    {
     "data": {
      "text/plain": [
       "0.359375"
      ]
     },
     "execution_count": 143,
     "metadata": {},
     "output_type": "execute_result"
    }
   ],
   "source": [
    "np.mean(test_set[\"Verified_high_level_substr\"] == test_set[\"IFDP_Predicted_high_level_substr_dbcan_taxonomy\"])"
   ]
  },
  {
   "cell_type": "code",
   "execution_count": 144,
   "id": "edd91b63",
   "metadata": {},
   "outputs": [
    {
     "data": {
      "text/plain": [
       "(64, 5)"
      ]
     },
     "execution_count": 144,
     "metadata": {},
     "output_type": "execute_result"
    }
   ],
   "source": [
    "test_set.shape"
   ]
  },
  {
   "cell_type": "code",
   "execution_count": 145,
   "id": "e28704ff",
   "metadata": {},
   "outputs": [],
   "source": [
    "vec_size = model_sg.wv.vectors.shape[1]"
   ]
  },
  {
   "cell_type": "code",
   "execution_count": 146,
   "id": "92a2ff60",
   "metadata": {},
   "outputs": [],
   "source": [
    "X_train,  y_train = to_model_data[\"sig_gene_seq\"], to_model_data[\"high_level_substr\"].values"
   ]
  },
  {
   "cell_type": "code",
   "execution_count": 147,
   "id": "d62c96ba",
   "metadata": {},
   "outputs": [],
   "source": [
    "vocab = model_sg.wv.index_to_key\n",
    "X_train_doc_vectors = []\n",
    "    \n",
    "for train_item in X_train.values:\n",
    "    train_item = train_item.replace(\"|\", \",\").split(\",\")\n",
    "    word_vectors = []\n",
    "    for word in train_item: \n",
    "        if word in vocab:\n",
    "            word_vectors.append(model_sg.wv.get_vector(word).reshape(1,-1).tolist()[0])\n",
    "        else:\n",
    "            word_vectors.append(np.zeros((1,vec_size)).reshape(1,-1).tolist()[0])\n",
    "                \n",
    "                \n",
    "    if len(word_vectors) == 0: \n",
    "        X_train_doc_vectors.append(np.zeros((1,vec_size)).tolist()[0])\n",
    "    else:\n",
    "        X_train_doc_vectors.append(np.array(word_vectors).mean(0).tolist())    "
   ]
  },
  {
   "cell_type": "code",
   "execution_count": 148,
   "id": "4655b82d",
   "metadata": {},
   "outputs": [],
   "source": [
    "# np.array(X_train_doc_vectors).shape"
   ]
  },
  {
   "cell_type": "code",
   "execution_count": 149,
   "id": "47edd914",
   "metadata": {},
   "outputs": [],
   "source": [
    "X_test_doc_vectors = []\n",
    "    \n",
    "for test_item in X_test.values:\n",
    "    test_item = test_item.replace(\"|\", \",\").split(\",\")\n",
    "    word_vectors = []\n",
    "    for word in test_item: \n",
    "        if word in vocab:\n",
    "            word_vectors.append(model_sg.wv.get_vector(word).reshape(1,-1).tolist()[0])\n",
    "        else:\n",
    "            word_vectors.append(np.zeros((1,vec_size)).reshape(1,-1).tolist()[0])\n",
    "                        \n",
    "    if len(word_vectors) == 0: \n",
    "        X_test_doc_vectors.append(np.zeros((1,vec_size)).tolist()[0])\n",
    "    else:\n",
    "        X_test_doc_vectors.append(np.array(word_vectors).mean(0).tolist())    \n",
    "                "
   ]
  },
  {
   "cell_type": "code",
   "execution_count": 150,
   "id": "7ed88fac",
   "metadata": {},
   "outputs": [],
   "source": [
    "from sklearn.pipeline import Pipeline"
   ]
  },
  {
   "cell_type": "code",
   "execution_count": 151,
   "id": "79c9dcc3",
   "metadata": {},
   "outputs": [],
   "source": [
    "from sklearn.multiclass import OneVsRestClassifier"
   ]
  },
  {
   "cell_type": "code",
   "execution_count": 152,
   "id": "6c79cf56",
   "metadata": {},
   "outputs": [],
   "source": [
    "from sklearn.model_selection import GridSearchCV"
   ]
  },
  {
   "cell_type": "code",
   "execution_count": 153,
   "id": "49533785",
   "metadata": {},
   "outputs": [],
   "source": [
    "from imblearn.ensemble import BalancedRandomForestClassifier"
   ]
  },
  {
   "cell_type": "code",
   "execution_count": 154,
   "id": "a99ac6d2",
   "metadata": {},
   "outputs": [],
   "source": [
    "parameters_one_vs_rest = {\"vr__estimator__n_estimators\": [100, 300, 500], \n",
    "                              \"vr__estimator__class_weight\": [\"balanced\"]}"
   ]
  },
  {
   "cell_type": "code",
   "execution_count": 155,
   "id": "7bf32712",
   "metadata": {},
   "outputs": [],
   "source": [
    "clf_one_vs_rest = Pipeline([('vr', OneVsRestClassifier(BalancedRandomForestClassifier(n_jobs = 7, random_state = 84)))\n",
    "                                                ])\n",
    "gs_one_vs_rest = GridSearchCV(clf_one_vs_rest, parameters_one_vs_rest, cv = 5, n_jobs = 7, scoring = \"balanced_accuracy\", verbose = 0)"
   ]
  },
  {
   "cell_type": "code",
   "execution_count": 156,
   "id": "17e42e61",
   "metadata": {},
   "outputs": [],
   "source": [
    "# parameters_one_vs_rest = {\"vr__n_estimators\": [100, 300, 500], \n",
    "#                               \"vr__class_weight\": [\"balanced\"]}"
   ]
  },
  {
   "cell_type": "code",
   "execution_count": 157,
   "id": "238f19a2",
   "metadata": {},
   "outputs": [],
   "source": [
    "# clf_one_vs_rest = Pipeline([('vr', BalancedRandomForestClassifier(n_jobs = 7))\n",
    "#                                                 ])\n",
    "# gs_one_vs_rest = GridSearchCV(clf_one_vs_rest, parameters_one_vs_rest, cv = 5, n_jobs = 7, scoring = \"balanced_accuracy\", verbose = 0)"
   ]
  },
  {
   "cell_type": "code",
   "execution_count": 158,
   "id": "02371ca1",
   "metadata": {},
   "outputs": [
    {
     "data": {
      "text/html": [
       "<style>#sk-container-id-2 {color: black;background-color: white;}#sk-container-id-2 pre{padding: 0;}#sk-container-id-2 div.sk-toggleable {background-color: white;}#sk-container-id-2 label.sk-toggleable__label {cursor: pointer;display: block;width: 100%;margin-bottom: 0;padding: 0.3em;box-sizing: border-box;text-align: center;}#sk-container-id-2 label.sk-toggleable__label-arrow:before {content: \"▸\";float: left;margin-right: 0.25em;color: #696969;}#sk-container-id-2 label.sk-toggleable__label-arrow:hover:before {color: black;}#sk-container-id-2 div.sk-estimator:hover label.sk-toggleable__label-arrow:before {color: black;}#sk-container-id-2 div.sk-toggleable__content {max-height: 0;max-width: 0;overflow: hidden;text-align: left;background-color: #f0f8ff;}#sk-container-id-2 div.sk-toggleable__content pre {margin: 0.2em;color: black;border-radius: 0.25em;background-color: #f0f8ff;}#sk-container-id-2 input.sk-toggleable__control:checked~div.sk-toggleable__content {max-height: 200px;max-width: 100%;overflow: auto;}#sk-container-id-2 input.sk-toggleable__control:checked~label.sk-toggleable__label-arrow:before {content: \"▾\";}#sk-container-id-2 div.sk-estimator input.sk-toggleable__control:checked~label.sk-toggleable__label {background-color: #d4ebff;}#sk-container-id-2 div.sk-label input.sk-toggleable__control:checked~label.sk-toggleable__label {background-color: #d4ebff;}#sk-container-id-2 input.sk-hidden--visually {border: 0;clip: rect(1px 1px 1px 1px);clip: rect(1px, 1px, 1px, 1px);height: 1px;margin: -1px;overflow: hidden;padding: 0;position: absolute;width: 1px;}#sk-container-id-2 div.sk-estimator {font-family: monospace;background-color: #f0f8ff;border: 1px dotted black;border-radius: 0.25em;box-sizing: border-box;margin-bottom: 0.5em;}#sk-container-id-2 div.sk-estimator:hover {background-color: #d4ebff;}#sk-container-id-2 div.sk-parallel-item::after {content: \"\";width: 100%;border-bottom: 1px solid gray;flex-grow: 1;}#sk-container-id-2 div.sk-label:hover label.sk-toggleable__label {background-color: #d4ebff;}#sk-container-id-2 div.sk-serial::before {content: \"\";position: absolute;border-left: 1px solid gray;box-sizing: border-box;top: 0;bottom: 0;left: 50%;z-index: 0;}#sk-container-id-2 div.sk-serial {display: flex;flex-direction: column;align-items: center;background-color: white;padding-right: 0.2em;padding-left: 0.2em;position: relative;}#sk-container-id-2 div.sk-item {position: relative;z-index: 1;}#sk-container-id-2 div.sk-parallel {display: flex;align-items: stretch;justify-content: center;background-color: white;position: relative;}#sk-container-id-2 div.sk-item::before, #sk-container-id-2 div.sk-parallel-item::before {content: \"\";position: absolute;border-left: 1px solid gray;box-sizing: border-box;top: 0;bottom: 0;left: 50%;z-index: -1;}#sk-container-id-2 div.sk-parallel-item {display: flex;flex-direction: column;z-index: 1;position: relative;background-color: white;}#sk-container-id-2 div.sk-parallel-item:first-child::after {align-self: flex-end;width: 50%;}#sk-container-id-2 div.sk-parallel-item:last-child::after {align-self: flex-start;width: 50%;}#sk-container-id-2 div.sk-parallel-item:only-child::after {width: 0;}#sk-container-id-2 div.sk-dashed-wrapped {border: 1px dashed gray;margin: 0 0.4em 0.5em 0.4em;box-sizing: border-box;padding-bottom: 0.4em;background-color: white;}#sk-container-id-2 div.sk-label label {font-family: monospace;font-weight: bold;display: inline-block;line-height: 1.2em;}#sk-container-id-2 div.sk-label-container {text-align: center;}#sk-container-id-2 div.sk-container {/* jupyter's `normalize.less` sets `[hidden] { display: none; }` but bootstrap.min.css set `[hidden] { display: none !important; }` so we also need the `!important` here to be able to override the default hidden behavior on the sphinx rendered scikit-learn.org. See: https://github.com/scikit-learn/scikit-learn/issues/21755 */display: inline-block !important;position: relative;}#sk-container-id-2 div.sk-text-repr-fallback {display: none;}</style><div id=\"sk-container-id-2\" class=\"sk-top-container\"><div class=\"sk-text-repr-fallback\"><pre>GridSearchCV(cv=5,\n",
       "             estimator=Pipeline(steps=[(&#x27;vr&#x27;,\n",
       "                                        OneVsRestClassifier(estimator=BalancedRandomForestClassifier(n_jobs=7,\n",
       "                                                                                                     random_state=84)))]),\n",
       "             n_jobs=7,\n",
       "             param_grid={&#x27;vr__estimator__class_weight&#x27;: [&#x27;balanced&#x27;],\n",
       "                         &#x27;vr__estimator__n_estimators&#x27;: [100, 300, 500]},\n",
       "             scoring=&#x27;balanced_accuracy&#x27;)</pre><b>In a Jupyter environment, please rerun this cell to show the HTML representation or trust the notebook. <br />On GitHub, the HTML representation is unable to render, please try loading this page with nbviewer.org.</b></div><div class=\"sk-container\" hidden><div class=\"sk-item sk-dashed-wrapped\"><div class=\"sk-label-container\"><div class=\"sk-label sk-toggleable\"><input class=\"sk-toggleable__control sk-hidden--visually\" id=\"sk-estimator-id-2\" type=\"checkbox\" ><label for=\"sk-estimator-id-2\" class=\"sk-toggleable__label sk-toggleable__label-arrow\">GridSearchCV</label><div class=\"sk-toggleable__content\"><pre>GridSearchCV(cv=5,\n",
       "             estimator=Pipeline(steps=[(&#x27;vr&#x27;,\n",
       "                                        OneVsRestClassifier(estimator=BalancedRandomForestClassifier(n_jobs=7,\n",
       "                                                                                                     random_state=84)))]),\n",
       "             n_jobs=7,\n",
       "             param_grid={&#x27;vr__estimator__class_weight&#x27;: [&#x27;balanced&#x27;],\n",
       "                         &#x27;vr__estimator__n_estimators&#x27;: [100, 300, 500]},\n",
       "             scoring=&#x27;balanced_accuracy&#x27;)</pre></div></div></div><div class=\"sk-parallel\"><div class=\"sk-parallel-item\"><div class=\"sk-item\"><div class=\"sk-label-container\"><div class=\"sk-label sk-toggleable\"><input class=\"sk-toggleable__control sk-hidden--visually\" id=\"sk-estimator-id-3\" type=\"checkbox\" ><label for=\"sk-estimator-id-3\" class=\"sk-toggleable__label sk-toggleable__label-arrow\">estimator: Pipeline</label><div class=\"sk-toggleable__content\"><pre>Pipeline(steps=[(&#x27;vr&#x27;,\n",
       "                 OneVsRestClassifier(estimator=BalancedRandomForestClassifier(n_jobs=7,\n",
       "                                                                              random_state=84)))])</pre></div></div></div><div class=\"sk-serial\"><div class=\"sk-item\"><div class=\"sk-serial\"><div class=\"sk-item sk-dashed-wrapped\"><div class=\"sk-label-container\"><div class=\"sk-label sk-toggleable\"><input class=\"sk-toggleable__control sk-hidden--visually\" id=\"sk-estimator-id-4\" type=\"checkbox\" ><label for=\"sk-estimator-id-4\" class=\"sk-toggleable__label sk-toggleable__label-arrow\">vr: OneVsRestClassifier</label><div class=\"sk-toggleable__content\"><pre>OneVsRestClassifier(estimator=BalancedRandomForestClassifier(n_jobs=7,\n",
       "                                                             random_state=84))</pre></div></div></div><div class=\"sk-parallel\"><div class=\"sk-parallel-item\"><div class=\"sk-item\"><div class=\"sk-label-container\"><div class=\"sk-label sk-toggleable\"><input class=\"sk-toggleable__control sk-hidden--visually\" id=\"sk-estimator-id-5\" type=\"checkbox\" ><label for=\"sk-estimator-id-5\" class=\"sk-toggleable__label sk-toggleable__label-arrow\">estimator: BalancedRandomForestClassifier</label><div class=\"sk-toggleable__content\"><pre>BalancedRandomForestClassifier(n_jobs=7, random_state=84)</pre></div></div></div><div class=\"sk-serial\"><div class=\"sk-item\"><div class=\"sk-estimator sk-toggleable\"><input class=\"sk-toggleable__control sk-hidden--visually\" id=\"sk-estimator-id-6\" type=\"checkbox\" ><label for=\"sk-estimator-id-6\" class=\"sk-toggleable__label sk-toggleable__label-arrow\">BalancedRandomForestClassifier</label><div class=\"sk-toggleable__content\"><pre>BalancedRandomForestClassifier(n_jobs=7, random_state=84)</pre></div></div></div></div></div></div></div></div></div></div></div></div></div></div></div></div></div>"
      ],
      "text/plain": [
       "GridSearchCV(cv=5,\n",
       "             estimator=Pipeline(steps=[('vr',\n",
       "                                        OneVsRestClassifier(estimator=BalancedRandomForestClassifier(n_jobs=7,\n",
       "                                                                                                     random_state=84)))]),\n",
       "             n_jobs=7,\n",
       "             param_grid={'vr__estimator__class_weight': ['balanced'],\n",
       "                         'vr__estimator__n_estimators': [100, 300, 500]},\n",
       "             scoring='balanced_accuracy')"
      ]
     },
     "execution_count": 158,
     "metadata": {},
     "output_type": "execute_result"
    }
   ],
   "source": [
    "gs_one_vs_rest.fit(np.array(X_train_doc_vectors), y_train)"
   ]
  },
  {
   "cell_type": "code",
   "execution_count": 159,
   "id": "b9b3ecf9",
   "metadata": {},
   "outputs": [
    {
     "data": {
      "text/plain": [
       "0.6614285714285715"
      ]
     },
     "execution_count": 159,
     "metadata": {},
     "output_type": "execute_result"
    }
   ],
   "source": [
    "gs_one_vs_rest.best_score_"
   ]
  },
  {
   "cell_type": "code",
   "execution_count": 160,
   "id": "76461690",
   "metadata": {},
   "outputs": [
    {
     "data": {
      "text/plain": [
       "{'vr__estimator__class_weight': 'balanced', 'vr__estimator__n_estimators': 300}"
      ]
     },
     "execution_count": 160,
     "metadata": {},
     "output_type": "execute_result"
    }
   ],
   "source": [
    "gs_one_vs_rest.best_params_"
   ]
  },
  {
   "cell_type": "code",
   "execution_count": 161,
   "id": "cf304951",
   "metadata": {},
   "outputs": [],
   "source": [
    "y_test_pred = gs_one_vs_rest.predict(np.array(X_test_doc_vectors))"
   ]
  },
  {
   "cell_type": "code",
   "execution_count": 162,
   "id": "f1d104fe",
   "metadata": {},
   "outputs": [
    {
     "data": {
      "text/plain": [
       "array(['host glycan', 'xylan', 'xylan', 'alginate', 'mannan', 'alginate',\n",
       "       'alginate', 'alginate', 'alginate', 'alginate', 'alginate',\n",
       "       'host glycan', 'host glycan', 'host glycan', 'arabinan',\n",
       "       'alginate', 'alginate', 'alginate', 'host glycan', 'mannan',\n",
       "       'mannan', 'mannan', 'host glycan', 'mannan', 'mannan',\n",
       "       'host glycan', 'pectin', 'host glycan', 'alginate',\n",
       "       'galactomannan', 'galactomannan', 'host glycan', 'galactomannan',\n",
       "       'galactan', 'beta-glucan', 'mannan', 'arabinan', 'galactan',\n",
       "       'alginate', 'beta-glucan', 'arabinan', 'xylan', 'mannan', 'mannan',\n",
       "       'arabinan', 'host glycan', 'alginate', 'beta-glucan',\n",
       "       'beta-glucan', 'beta-glucan', 'mannan', 'mannan', 'beta-glucan',\n",
       "       'pectin', 'cellulose', 'pectin', 'xylan', 'xylan', 'host glycan',\n",
       "       'mannan', 'pectin', 'xylan', 'alginate', 'galactomannan'],\n",
       "      dtype='<U13')"
      ]
     },
     "execution_count": 162,
     "metadata": {},
     "output_type": "execute_result"
    }
   ],
   "source": [
    "y_test_pred"
   ]
  },
  {
   "cell_type": "code",
   "execution_count": 163,
   "id": "3f52beec",
   "metadata": {},
   "outputs": [
    {
     "data": {
      "text/plain": [
       "0.640625"
      ]
     },
     "execution_count": 163,
     "metadata": {},
     "output_type": "execute_result"
    }
   ],
   "source": [
    "np.mean(le.inverse_transform(y_test) == y_test_pred)"
   ]
  },
  {
   "cell_type": "code",
   "execution_count": 164,
   "id": "fcf034e7",
   "metadata": {},
   "outputs": [],
   "source": [
    "actual_subs = le.inverse_transform(y_test)"
   ]
  },
  {
   "cell_type": "code",
   "execution_count": 165,
   "id": "a187ff27",
   "metadata": {},
   "outputs": [],
   "source": [
    "predicted_ifdp_subs = y_test_pred"
   ]
  },
  {
   "cell_type": "code",
   "execution_count": 166,
   "id": "180d2903",
   "metadata": {},
   "outputs": [],
   "source": [
    "common_order = set(actual_subs).union(predicted_ifdp_subs)"
   ]
  },
  {
   "cell_type": "code",
   "execution_count": 167,
   "id": "67af6ad2",
   "metadata": {},
   "outputs": [],
   "source": [
    "from sklearn.metrics import confusion_matrix"
   ]
  },
  {
   "cell_type": "code",
   "execution_count": 168,
   "id": "c578bf84",
   "metadata": {},
   "outputs": [],
   "source": [
    "cm = confusion_matrix(actual_subs, predicted_ifdp_subs, normalize = \"true\", labels = list(common_order))"
   ]
  },
  {
   "cell_type": "code",
   "execution_count": 169,
   "id": "7d99d059",
   "metadata": {},
   "outputs": [],
   "source": [
    "df_cm = pd.DataFrame(cm, index = list(common_order), columns= list(common_order))"
   ]
  },
  {
   "cell_type": "code",
   "execution_count": 170,
   "id": "4c674db4",
   "metadata": {},
   "outputs": [],
   "source": [
    "import seaborn as sns"
   ]
  },
  {
   "cell_type": "code",
   "execution_count": 171,
   "id": "c7d95b73",
   "metadata": {},
   "outputs": [
    {
     "data": {
      "text/plain": [
       "pectin           34\n",
       "xylan            29\n",
       "beta-glucan      16\n",
       "cellulose        14\n",
       "arabinan          9\n",
       "galactan          9\n",
       "mannan            8\n",
       "alginate          7\n",
       "galactomannan     7\n",
       "host glycan       7\n",
       "dtype: int64"
      ]
     },
     "execution_count": 171,
     "metadata": {},
     "output_type": "execute_result"
    }
   ],
   "source": [
    "pd.DataFrame(y_train).value_counts()"
   ]
  },
  {
   "cell_type": "code",
   "execution_count": 172,
   "id": "e5b7f1d4",
   "metadata": {},
   "outputs": [
    {
     "data": {
      "text/plain": [
       "64"
      ]
     },
     "execution_count": 172,
     "metadata": {},
     "output_type": "execute_result"
    }
   ],
   "source": [
    "pd.DataFrame(actual_subs).value_counts().sum()"
   ]
  },
  {
   "cell_type": "code",
   "execution_count": 173,
   "id": "11641839",
   "metadata": {},
   "outputs": [
    {
     "data": {
      "image/png": "[encoded data removed]",
      "text/plain": [
       "<Figure size 720x720 with 2 Axes>"
      ]
     },
     "metadata": {
      "needs_background": "light"
     },
     "output_type": "display_data"
    }
   ],
   "source": [
    "plt.figure(figsize = (10,10))\n",
    "sns.heatmap(df_cm, annot=True)\n",
    "plt.xticks(fontsize = 15, rotation = 90)\n",
    "plt.yticks(fontsize = 15,  rotation = 0)\n",
    "plt.ylabel(\"Verified High Level Substrate\", fontsize = 20)\n",
    "plt.xlabel(\"SubFinder Predicted High Level Substrate\", fontsize = 20)\n",
    "plt.show()"
   ]
  },
  {
   "cell_type": "code",
   "execution_count": 174,
   "id": "314cc8b5",
   "metadata": {},
   "outputs": [],
   "source": [
    "predicted_ifdp_subs = test_set[\"IFDP_Predicted_high_level_substr_dbcan_taxonomy\"].values"
   ]
  },
  {
   "cell_type": "code",
   "execution_count": 175,
   "id": "6e9782e1",
   "metadata": {},
   "outputs": [],
   "source": [
    "actual_subs = test_set[\"Verified_high_level_substr\"].values"
   ]
  },
  {
   "cell_type": "code",
   "execution_count": 176,
   "id": "e53b4553",
   "metadata": {},
   "outputs": [],
   "source": [
    "common_order = set(actual_subs).union(predicted_ifdp_subs)"
   ]
  },
  {
   "cell_type": "code",
   "execution_count": 177,
   "id": "c769106d",
   "metadata": {},
   "outputs": [],
   "source": [
    "cm = confusion_matrix(actual_subs, predicted_ifdp_subs, normalize = \"true\", labels = list(common_order))"
   ]
  },
  {
   "cell_type": "code",
   "execution_count": 178,
   "id": "1a35c394",
   "metadata": {},
   "outputs": [],
   "source": [
    "df_cm = pd.DataFrame(cm, index = list(common_order), columns= list(common_order))"
   ]
  },
  {
   "cell_type": "code",
   "execution_count": 179,
   "id": "e2c082d8",
   "metadata": {},
   "outputs": [
    {
     "data": {
      "image/png": "[encoded data removed]",
      "text/plain": [
       "<Figure size 720x720 with 2 Axes>"
      ]
     },
     "metadata": {
      "needs_background": "light"
     },
     "output_type": "display_data"
    }
   ],
   "source": [
    "plt.figure(figsize = (10,10))\n",
    "sns.heatmap(df_cm, annot=True)\n",
    "plt.xticks(fontsize = 15, rotation = 90)\n",
    "plt.yticks(fontsize = 15,  rotation = 0)\n",
    "plt.ylabel(\"Verified High Level Substrate\", fontsize = 20)\n",
    "plt.xlabel(\"IFDP High Level Substrate\", fontsize = 20)\n",
    "plt.show()"
   ]
  }
 ],
 "metadata": {
  "kernelspec": {
   "display_name": "newone1",
   "language": "python",
   "name": "newone1"
  },
  "language_info": {
   "codemirror_mode": {
    "name": "ipython",
    "version": 3
   },
   "file_extension": ".py",
   "mimetype": "text/x-python",
   "name": "python",
   "nbconvert_exporter": "python",
   "pygments_lexer": "ipython3",
   "version": "3.9.12"
  }
 },
 "nbformat": 4,
 "nbformat_minor": 5
}
