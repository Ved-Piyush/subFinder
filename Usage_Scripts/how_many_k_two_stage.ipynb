{
 "cells": [
  {
   "cell_type": "code",
   "execution_count": 1,
   "id": "23659b5e",
   "metadata": {},
   "outputs": [],
   "source": [
    "import os"
   ]
  },
  {
   "cell_type": "code",
   "execution_count": 2,
   "id": "5226ae22",
   "metadata": {},
   "outputs": [],
   "source": [
    "os.chdir(r'D:\\subFinder')"
   ]
  },
  {
   "cell_type": "code",
   "execution_count": 3,
   "id": "d7aa97e5",
   "metadata": {},
   "outputs": [],
   "source": [
    "## In this script we will train supervised models\n",
    "# library imports\n",
    "import pandas as pd\n",
    "import gensim\n",
    "from Codes.Supervised_Trainer import run_end_to_end\n",
    "from sklearn.model_selection import StratifiedKFold\n",
    "from tqdm.notebook import tqdm\n",
    "from imblearn.ensemble import BalancedRandomForestClassifier\n",
    "from sklearn.metrics import confusion_matrix, accuracy_score\n",
    "from sklearn.metrics import classification_report\n",
    "import numpy as np\n",
    "from sklearn.pipeline import Pipeline\n",
    "from sklearn.feature_extraction.text import CountVectorizer\n",
    "from sklearn.model_selection import GridSearchCV\n",
    "import pandas as pd\n",
    "import matplotlib.pyplot as plt\n",
    "import seaborn as sns\n",
    "from sklearn.multiclass import OneVsRestClassifier\n",
    "import plotly.express as px"
   ]
  },
  {
   "cell_type": "code",
   "execution_count": 4,
   "id": "a1e84f28",
   "metadata": {},
   "outputs": [],
   "source": [
    "\n",
    "# ## read the data\n",
    "# # sup_data_path = r\"Data/Supervised_Sequences/dbCAN-PUL_07-01-2022.xlsx\"\n",
    "# new_path = r\"D:\\subFinder\\Data\\Supervised_Sequences\\Table S1.xls\"\n",
    "# data = pd.read_excel(new_path)\n",
    "# data[\"updated_substrate (09/01/2022)\"] = data[\"updated_substrate (09/01/2022)\"].str.strip()\n",
    "# data[\"updated_substrate (09/01/2022)\"] = data[\"updated_substrate (09/01/2022)\"].str.strip()\n",
    "\n",
    "\n",
    "# ## removing the catch all classes\n",
    "# ## for example multiple substrates and others \n",
    "# old_data = pd.read_csv('Data/Supervised_Sequences/pul_seq_low_high_substr_year_corrected.tsv', sep = \"\\t\")\n",
    "\n",
    "# old_data[\"high_level_substr\"] = old_data[\"high_level_substr\"].str.strip()\n",
    "\n",
    "# bad_puls = old_data[old_data[\"high_level_substr\"].isin([\"multiple_substrates\", \"mono/di/trisaccharide\", \"-\", \"human milk oligosaccharide\", \n",
    "#                                             \"glycoprotein\", \"plant polysaccharide\", \"cellobiose\"])][\"PULid\"].values\n",
    "\n",
    "\n",
    "# data = data[~data[\"PUL ID\"].isin(bad_puls)]\n",
    "\n",
    "# data = data[[\"PUL ID\", \"updated_substrate (09/01/2022)\"]]\n",
    "# data = pd.merge(data, old_data[[\"PULid\",\"sig_gene_seq\"]], left_on = [\"PUL ID\"], right_on = [\"PULid\"], how = \"left\")\n",
    "# data.columns = [\"PUL ID\", \"high_level_substr\", \"PULid\", \"sig_gene_seq\"]\n",
    "\n",
    "# data = data[~data[\"PUL ID\"].isin(bad_puls)]\n"
   ]
  },
  {
   "cell_type": "code",
   "execution_count": 5,
   "id": "21b2f9ce",
   "metadata": {},
   "outputs": [],
   "source": [
    "## read the data\n",
    "# sup_data_path = r\"Data/Supervised_Sequences/dbCAN-PUL_07-01-2022.xlsx\"\n",
    "# new_sup_data_with_nulls = pd.read_csv(r\"D:\\subFinder\\Data\\Supervised_Sequences\\supervised_seq_with_null.tsv\", sep = \"\\t\", \n",
    "#                                       header = None)\n",
    "# new_sup_data_with_nulls.columns = [\"PUL ID\", \"sequence\"]"
   ]
  },
  {
   "cell_type": "code",
   "execution_count": 6,
   "id": "e908e9f2",
   "metadata": {},
   "outputs": [],
   "source": [
    "# data = pd.merge(data, new_sup_data_with_nulls, on = [\"PUL ID\"], how = \"left\")\n",
    "# data = data.drop([\"sig_gene_seq\"],1)\n",
    "# data.columns = ['PUL ID', 'high_level_substr', 'PULid', 'sig_gene_seq']"
   ]
  },
  {
   "cell_type": "code",
   "execution_count": 7,
   "id": "1ef9f663",
   "metadata": {},
   "outputs": [],
   "source": [
    "# data.to_csv(r\"Data/Supervised_Sequences/updated_data_filtered.csv\", index = False)"
   ]
  },
  {
   "cell_type": "code",
   "execution_count": 8,
   "id": "1b7ecaa7",
   "metadata": {},
   "outputs": [],
   "source": [
    "data = pd.read_csv(r\"Data/Supervised_Sequences/updated_data_filtered.csv\")"
   ]
  },
  {
   "cell_type": "code",
   "execution_count": 9,
   "id": "9c3135ca",
   "metadata": {},
   "outputs": [
    {
     "data": {
      "text/plain": [
       "capsule polysaccharide synthesis      106\n",
       "pectin                                 39\n",
       "xylan                                  35\n",
       "beta-glucan                            21\n",
       "alginate                               21\n",
       "host glycan                            19\n",
       "cellulose                              16\n",
       "starch                                 16\n",
       "chitin                                 15\n",
       "galactomannan                          15\n",
       "glycosaminoglycan                      14\n",
       "arabinan                               12\n",
       "galactan                               10\n",
       "alpha-mannan                            8\n",
       "beta-mannan                             8\n",
       "carrageenan                             8\n",
       "xyloglucan                              7\n",
       "fructan                                 7\n",
       "arabinoxylan                            6\n",
       "agarose                                 6\n",
       "arabinogalactan                         5\n",
       "capsule polysaccharide degradation      4\n",
       "beta-galactooligosaccharide             4\n",
       "glucomannan                             3\n",
       "glycogen                                3\n",
       "alpha-glucan                            3\n",
       "Name: high_level_substr, dtype: int64"
      ]
     },
     "execution_count": 9,
     "metadata": {},
     "output_type": "execute_result"
    }
   ],
   "source": [
    "data[\"high_level_substr\"].value_counts()"
   ]
  },
  {
   "cell_type": "code",
   "execution_count": 10,
   "id": "e97d90d5",
   "metadata": {},
   "outputs": [],
   "source": [
    "data = data[data[\"high_level_substr\"] != \"capsule polysaccharide synthesis\"]"
   ]
  },
  {
   "cell_type": "code",
   "execution_count": 11,
   "id": "5d081d85",
   "metadata": {},
   "outputs": [
    {
     "data": {
      "text/plain": [
       "pectin                                39\n",
       "xylan                                 35\n",
       "beta-glucan                           21\n",
       "alginate                              21\n",
       "host glycan                           19\n",
       "cellulose                             16\n",
       "starch                                16\n",
       "chitin                                15\n",
       "galactomannan                         15\n",
       "glycosaminoglycan                     14\n",
       "arabinan                              12\n",
       "galactan                              10\n",
       "alpha-mannan                           8\n",
       "beta-mannan                            8\n",
       "carrageenan                            8\n",
       "xyloglucan                             7\n",
       "fructan                                7\n",
       "arabinoxylan                           6\n",
       "agarose                                6\n",
       "arabinogalactan                        5\n",
       "capsule polysaccharide degradation     4\n",
       "beta-galactooligosaccharide            4\n",
       "glucomannan                            3\n",
       "glycogen                               3\n",
       "alpha-glucan                           3\n",
       "Name: high_level_substr, dtype: int64"
      ]
     },
     "execution_count": 11,
     "metadata": {},
     "output_type": "execute_result"
    }
   ],
   "source": [
    "data[\"high_level_substr\"].value_counts()"
   ]
  },
  {
   "cell_type": "code",
   "execution_count": 12,
   "id": "7baac4be",
   "metadata": {},
   "outputs": [
    {
     "data": {
      "text/html": [
       "<div>\n",
       "<style scoped>\n",
       "    .dataframe tbody tr th:only-of-type {\n",
       "        vertical-align: middle;\n",
       "    }\n",
       "\n",
       "    .dataframe tbody tr th {\n",
       "        vertical-align: top;\n",
       "    }\n",
       "\n",
       "    .dataframe thead th {\n",
       "        text-align: right;\n",
       "    }\n",
       "</style>\n",
       "<table border=\"1\" class=\"dataframe\">\n",
       "  <thead>\n",
       "    <tr style=\"text-align: right;\">\n",
       "      <th></th>\n",
       "      <th>PUL ID</th>\n",
       "      <th>high_level_substr</th>\n",
       "      <th>PULid</th>\n",
       "      <th>sig_gene_seq</th>\n",
       "    </tr>\n",
       "  </thead>\n",
       "  <tbody>\n",
       "    <tr>\n",
       "      <th>0</th>\n",
       "      <td>PUL0225</td>\n",
       "      <td>agarose</td>\n",
       "      <td>PUL0225</td>\n",
       "      <td>HTH_8,GH16,GH117|GH117,GH2,GH2,null,null,null,...</td>\n",
       "    </tr>\n",
       "    <tr>\n",
       "      <th>1</th>\n",
       "      <td>PUL0459</td>\n",
       "      <td>agarose</td>\n",
       "      <td>PUL0459</td>\n",
       "      <td>GH2,2.A.21,null,null,3.D.1,null,GH96,GH96,null...</td>\n",
       "    </tr>\n",
       "    <tr>\n",
       "      <th>2</th>\n",
       "      <td>PUL0607</td>\n",
       "      <td>agarose</td>\n",
       "      <td>PUL0607</td>\n",
       "      <td>GH2,GH141,GH105|GH154,null,null,null,1.B.14,nu...</td>\n",
       "    </tr>\n",
       "    <tr>\n",
       "      <th>3</th>\n",
       "      <td>PUL0651</td>\n",
       "      <td>agarose</td>\n",
       "      <td>PUL0651</td>\n",
       "      <td>GH16_16|CBM6|CBM6,3.D.1,GH50,null,null,null,nu...</td>\n",
       "    </tr>\n",
       "    <tr>\n",
       "      <th>4</th>\n",
       "      <td>PUL0652</td>\n",
       "      <td>agarose</td>\n",
       "      <td>PUL0652</td>\n",
       "      <td>GH2,2.A.21,null,null,3.D.1,null,GH96,GH96,null...</td>\n",
       "    </tr>\n",
       "  </tbody>\n",
       "</table>\n",
       "</div>"
      ],
      "text/plain": [
       "    PUL ID high_level_substr    PULid  \\\n",
       "0  PUL0225           agarose  PUL0225   \n",
       "1  PUL0459           agarose  PUL0459   \n",
       "2  PUL0607           agarose  PUL0607   \n",
       "3  PUL0651           agarose  PUL0651   \n",
       "4  PUL0652           agarose  PUL0652   \n",
       "\n",
       "                                        sig_gene_seq  \n",
       "0  HTH_8,GH16,GH117|GH117,GH2,GH2,null,null,null,...  \n",
       "1  GH2,2.A.21,null,null,3.D.1,null,GH96,GH96,null...  \n",
       "2  GH2,GH141,GH105|GH154,null,null,null,1.B.14,nu...  \n",
       "3  GH16_16|CBM6|CBM6,3.D.1,GH50,null,null,null,nu...  \n",
       "4  GH2,2.A.21,null,null,3.D.1,null,GH96,GH96,null...  "
      ]
     },
     "execution_count": 12,
     "metadata": {},
     "output_type": "execute_result"
    }
   ],
   "source": [
    "data.head()"
   ]
  },
  {
   "cell_type": "code",
   "execution_count": 13,
   "id": "245f8935",
   "metadata": {},
   "outputs": [],
   "source": [
    "model =gensim.models.word2vec.Word2Vec.load(r\"Embedding_Models_10_12//word2vec_sg_vec_50\") "
   ]
  },
  {
   "cell_type": "code",
   "execution_count": 14,
   "id": "53356bcd",
   "metadata": {},
   "outputs": [],
   "source": [
    "vec_size = model.wv.vectors.shape[1]"
   ]
  },
  {
   "cell_type": "code",
   "execution_count": 15,
   "id": "2a28ee1f",
   "metadata": {},
   "outputs": [],
   "source": [
    "vocab = model.wv.index_to_key\n",
    "X_train_doc_vectors = []\n",
    "    \n",
    "for train_item in data[\"sig_gene_seq\"].values:\n",
    "    train_item = train_item.replace(\"|\", \",\").split(\",\")\n",
    "    word_vectors = []\n",
    "    for word in train_item: \n",
    "        if word in vocab:\n",
    "            word_vectors.append(model.wv.get_vector(word).reshape(1,-1).tolist()[0])\n",
    "        else:\n",
    "            word_vectors.append(np.zeros((1,vec_size)).reshape(1,-1).tolist()[0])\n",
    "                \n",
    "                \n",
    "    if len(word_vectors) == 0: \n",
    "        X_train_doc_vectors.append(np.zeros((1,vec_size)).tolist()[0])\n",
    "    else:\n",
    "        X_train_doc_vectors.append(np.array(word_vectors).mean(0).tolist())    "
   ]
  },
  {
   "cell_type": "code",
   "execution_count": 16,
   "id": "99e63949",
   "metadata": {},
   "outputs": [],
   "source": [
    "data_word2vec_features = pd.DataFrame(X_train_doc_vectors)"
   ]
  },
  {
   "cell_type": "code",
   "execution_count": 17,
   "id": "39b5ab68",
   "metadata": {},
   "outputs": [
    {
     "data": {
      "text/plain": [
       "(305, 50)"
      ]
     },
     "execution_count": 17,
     "metadata": {},
     "output_type": "execute_result"
    }
   ],
   "source": [
    "data_word2vec_features.shape"
   ]
  },
  {
   "cell_type": "code",
   "execution_count": 18,
   "id": "f59b770f",
   "metadata": {},
   "outputs": [],
   "source": [
    "data_word2vec_features[\"high_level_substr\"] = data[\"high_level_substr\"].values"
   ]
  },
  {
   "cell_type": "code",
   "execution_count": 19,
   "id": "c18d8a37",
   "metadata": {},
   "outputs": [
    {
     "data": {
      "text/plain": [
       "(305, 51)"
      ]
     },
     "execution_count": 19,
     "metadata": {},
     "output_type": "execute_result"
    }
   ],
   "source": [
    "data_word2vec_features.shape"
   ]
  },
  {
   "cell_type": "code",
   "execution_count": 20,
   "id": "51b85e44",
   "metadata": {},
   "outputs": [],
   "source": [
    "top_k = 6"
   ]
  },
  {
   "cell_type": "code",
   "execution_count": 21,
   "id": "87545cb8",
   "metadata": {},
   "outputs": [],
   "source": [
    "# data_word2vec_features[\"high_level_substr\"].value_counts()"
   ]
  },
  {
   "cell_type": "code",
   "execution_count": 22,
   "id": "7132f3d2",
   "metadata": {},
   "outputs": [],
   "source": [
    "order = list(data_word2vec_features[\"high_level_substr\"].value_counts().index[:top_k])"
   ]
  },
  {
   "cell_type": "code",
   "execution_count": 23,
   "id": "b8164bca",
   "metadata": {},
   "outputs": [
    {
     "data": {
      "text/plain": [
       "['pectin', 'xylan', 'beta-glucan', 'alginate', 'host glycan', 'cellulose']"
      ]
     },
     "execution_count": 23,
     "metadata": {},
     "output_type": "execute_result"
    }
   ],
   "source": [
    "order"
   ]
  },
  {
   "cell_type": "code",
   "execution_count": 24,
   "id": "4f67d4f2",
   "metadata": {},
   "outputs": [],
   "source": [
    "data_known = data_word2vec_features[data_word2vec_features[\"high_level_substr\"].isin(order)]"
   ]
  },
  {
   "cell_type": "code",
   "execution_count": 25,
   "id": "817a587a",
   "metadata": {},
   "outputs": [
    {
     "data": {
      "text/plain": [
       "pectin         39\n",
       "xylan          35\n",
       "alginate       21\n",
       "beta-glucan    21\n",
       "host glycan    19\n",
       "cellulose      16\n",
       "Name: high_level_substr, dtype: int64"
      ]
     },
     "execution_count": 25,
     "metadata": {},
     "output_type": "execute_result"
    }
   ],
   "source": [
    "data_known[\"high_level_substr\"].value_counts()"
   ]
  },
  {
   "cell_type": "code",
   "execution_count": 26,
   "id": "014fa8d8",
   "metadata": {},
   "outputs": [],
   "source": [
    "data_binary = data_word2vec_features.copy()"
   ]
  },
  {
   "cell_type": "code",
   "execution_count": 27,
   "id": "9fbea3b5",
   "metadata": {},
   "outputs": [],
   "source": [
    "data_binary[\"high_level_substr\"] = [1 if substr in order else 0 for substr in data_binary[\"high_level_substr\"].values ]"
   ]
  },
  {
   "cell_type": "code",
   "execution_count": 28,
   "id": "89b8c8c7",
   "metadata": {},
   "outputs": [
    {
     "data": {
      "text/plain": [
       "0    154\n",
       "1    151\n",
       "Name: high_level_substr, dtype: int64"
      ]
     },
     "execution_count": 28,
     "metadata": {},
     "output_type": "execute_result"
    }
   ],
   "source": [
    "data_binary[\"high_level_substr\"].value_counts()"
   ]
  },
  {
   "cell_type": "code",
   "execution_count": 29,
   "id": "bd6c0c79",
   "metadata": {},
   "outputs": [
    {
     "data": {
      "text/html": [
       "<div>\n",
       "<style scoped>\n",
       "    .dataframe tbody tr th:only-of-type {\n",
       "        vertical-align: middle;\n",
       "    }\n",
       "\n",
       "    .dataframe tbody tr th {\n",
       "        vertical-align: top;\n",
       "    }\n",
       "\n",
       "    .dataframe thead th {\n",
       "        text-align: right;\n",
       "    }\n",
       "</style>\n",
       "<table border=\"1\" class=\"dataframe\">\n",
       "  <thead>\n",
       "    <tr style=\"text-align: right;\">\n",
       "      <th></th>\n",
       "      <th>0</th>\n",
       "      <th>1</th>\n",
       "      <th>2</th>\n",
       "      <th>3</th>\n",
       "      <th>4</th>\n",
       "      <th>5</th>\n",
       "      <th>6</th>\n",
       "      <th>7</th>\n",
       "      <th>8</th>\n",
       "      <th>9</th>\n",
       "      <th>...</th>\n",
       "      <th>41</th>\n",
       "      <th>42</th>\n",
       "      <th>43</th>\n",
       "      <th>44</th>\n",
       "      <th>45</th>\n",
       "      <th>46</th>\n",
       "      <th>47</th>\n",
       "      <th>48</th>\n",
       "      <th>49</th>\n",
       "      <th>high_level_substr</th>\n",
       "    </tr>\n",
       "  </thead>\n",
       "  <tbody>\n",
       "    <tr>\n",
       "      <th>0</th>\n",
       "      <td>0.037022</td>\n",
       "      <td>0.096767</td>\n",
       "      <td>-0.227681</td>\n",
       "      <td>-0.006453</td>\n",
       "      <td>-0.043833</td>\n",
       "      <td>-0.013980</td>\n",
       "      <td>-0.008269</td>\n",
       "      <td>-0.070898</td>\n",
       "      <td>0.320912</td>\n",
       "      <td>-0.018026</td>\n",
       "      <td>...</td>\n",
       "      <td>-0.029483</td>\n",
       "      <td>0.045026</td>\n",
       "      <td>0.015840</td>\n",
       "      <td>0.443409</td>\n",
       "      <td>0.094321</td>\n",
       "      <td>0.071063</td>\n",
       "      <td>-0.159338</td>\n",
       "      <td>0.294635</td>\n",
       "      <td>-0.181751</td>\n",
       "      <td>0</td>\n",
       "    </tr>\n",
       "    <tr>\n",
       "      <th>1</th>\n",
       "      <td>0.049152</td>\n",
       "      <td>-0.046727</td>\n",
       "      <td>-0.144296</td>\n",
       "      <td>0.040357</td>\n",
       "      <td>-0.075020</td>\n",
       "      <td>0.027528</td>\n",
       "      <td>-0.070809</td>\n",
       "      <td>-0.075547</td>\n",
       "      <td>0.239210</td>\n",
       "      <td>-0.087588</td>\n",
       "      <td>...</td>\n",
       "      <td>-0.076889</td>\n",
       "      <td>0.042951</td>\n",
       "      <td>-0.010935</td>\n",
       "      <td>0.398090</td>\n",
       "      <td>0.086530</td>\n",
       "      <td>0.081082</td>\n",
       "      <td>-0.140815</td>\n",
       "      <td>0.234765</td>\n",
       "      <td>0.011882</td>\n",
       "      <td>0</td>\n",
       "    </tr>\n",
       "    <tr>\n",
       "      <th>2</th>\n",
       "      <td>0.080058</td>\n",
       "      <td>0.036239</td>\n",
       "      <td>-0.279857</td>\n",
       "      <td>-0.103433</td>\n",
       "      <td>-0.031680</td>\n",
       "      <td>-0.134837</td>\n",
       "      <td>-0.088696</td>\n",
       "      <td>-0.183014</td>\n",
       "      <td>0.390651</td>\n",
       "      <td>0.067783</td>\n",
       "      <td>...</td>\n",
       "      <td>-0.073715</td>\n",
       "      <td>-0.019282</td>\n",
       "      <td>0.040661</td>\n",
       "      <td>0.495272</td>\n",
       "      <td>0.115414</td>\n",
       "      <td>0.094785</td>\n",
       "      <td>-0.193025</td>\n",
       "      <td>0.313092</td>\n",
       "      <td>-0.231872</td>\n",
       "      <td>0</td>\n",
       "    </tr>\n",
       "    <tr>\n",
       "      <th>3</th>\n",
       "      <td>0.025613</td>\n",
       "      <td>-0.013311</td>\n",
       "      <td>-0.226365</td>\n",
       "      <td>0.010680</td>\n",
       "      <td>-0.038133</td>\n",
       "      <td>-0.001303</td>\n",
       "      <td>-0.026180</td>\n",
       "      <td>-0.074462</td>\n",
       "      <td>0.265601</td>\n",
       "      <td>-0.054598</td>\n",
       "      <td>...</td>\n",
       "      <td>-0.125292</td>\n",
       "      <td>0.078908</td>\n",
       "      <td>0.004267</td>\n",
       "      <td>0.406671</td>\n",
       "      <td>0.147508</td>\n",
       "      <td>0.070374</td>\n",
       "      <td>-0.165711</td>\n",
       "      <td>0.306010</td>\n",
       "      <td>-0.131544</td>\n",
       "      <td>0</td>\n",
       "    </tr>\n",
       "    <tr>\n",
       "      <th>4</th>\n",
       "      <td>0.048035</td>\n",
       "      <td>-0.050749</td>\n",
       "      <td>-0.141770</td>\n",
       "      <td>0.055018</td>\n",
       "      <td>-0.080822</td>\n",
       "      <td>0.031671</td>\n",
       "      <td>-0.068789</td>\n",
       "      <td>-0.077496</td>\n",
       "      <td>0.242281</td>\n",
       "      <td>-0.085786</td>\n",
       "      <td>...</td>\n",
       "      <td>-0.085498</td>\n",
       "      <td>0.042685</td>\n",
       "      <td>-0.002505</td>\n",
       "      <td>0.389463</td>\n",
       "      <td>0.092116</td>\n",
       "      <td>0.092337</td>\n",
       "      <td>-0.129655</td>\n",
       "      <td>0.234087</td>\n",
       "      <td>0.011324</td>\n",
       "      <td>0</td>\n",
       "    </tr>\n",
       "  </tbody>\n",
       "</table>\n",
       "<p>5 rows × 51 columns</p>\n",
       "</div>"
      ],
      "text/plain": [
       "          0         1         2         3         4         5         6  \\\n",
       "0  0.037022  0.096767 -0.227681 -0.006453 -0.043833 -0.013980 -0.008269   \n",
       "1  0.049152 -0.046727 -0.144296  0.040357 -0.075020  0.027528 -0.070809   \n",
       "2  0.080058  0.036239 -0.279857 -0.103433 -0.031680 -0.134837 -0.088696   \n",
       "3  0.025613 -0.013311 -0.226365  0.010680 -0.038133 -0.001303 -0.026180   \n",
       "4  0.048035 -0.050749 -0.141770  0.055018 -0.080822  0.031671 -0.068789   \n",
       "\n",
       "          7         8         9  ...        41        42        43        44  \\\n",
       "0 -0.070898  0.320912 -0.018026  ... -0.029483  0.045026  0.015840  0.443409   \n",
       "1 -0.075547  0.239210 -0.087588  ... -0.076889  0.042951 -0.010935  0.398090   \n",
       "2 -0.183014  0.390651  0.067783  ... -0.073715 -0.019282  0.040661  0.495272   \n",
       "3 -0.074462  0.265601 -0.054598  ... -0.125292  0.078908  0.004267  0.406671   \n",
       "4 -0.077496  0.242281 -0.085786  ... -0.085498  0.042685 -0.002505  0.389463   \n",
       "\n",
       "         45        46        47        48        49  high_level_substr  \n",
       "0  0.094321  0.071063 -0.159338  0.294635 -0.181751                  0  \n",
       "1  0.086530  0.081082 -0.140815  0.234765  0.011882                  0  \n",
       "2  0.115414  0.094785 -0.193025  0.313092 -0.231872                  0  \n",
       "3  0.147508  0.070374 -0.165711  0.306010 -0.131544                  0  \n",
       "4  0.092116  0.092337 -0.129655  0.234087  0.011324                  0  \n",
       "\n",
       "[5 rows x 51 columns]"
      ]
     },
     "execution_count": 29,
     "metadata": {},
     "output_type": "execute_result"
    }
   ],
   "source": [
    "data_binary.head()"
   ]
  },
  {
   "cell_type": "code",
   "execution_count": 30,
   "id": "c201dbd3",
   "metadata": {},
   "outputs": [],
   "source": [
    "parameters_known = {\"vr__estimator__n_estimators\": [100, 300, 500], \n",
    "                              \"vr__estimator__class_weight\": [\"balanced\"]}"
   ]
  },
  {
   "cell_type": "code",
   "execution_count": 31,
   "id": "3fa69b60",
   "metadata": {},
   "outputs": [],
   "source": [
    "## train the known model first\n",
    "\n",
    "clf_known = Pipeline([('vr', OneVsRestClassifier(BalancedRandomForestClassifier(n_jobs = 7)))\n",
    "                                                ])\n",
    "gs_known = GridSearchCV(clf_known, parameters_known, cv = 5, n_jobs = 7, scoring = \"accuracy\", verbose = 0)"
   ]
  },
  {
   "cell_type": "code",
   "execution_count": 32,
   "id": "00047100",
   "metadata": {},
   "outputs": [
    {
     "data": {
      "text/html": [
       "<style>#sk-container-id-1 {color: black;background-color: white;}#sk-container-id-1 pre{padding: 0;}#sk-container-id-1 div.sk-toggleable {background-color: white;}#sk-container-id-1 label.sk-toggleable__label {cursor: pointer;display: block;width: 100%;margin-bottom: 0;padding: 0.3em;box-sizing: border-box;text-align: center;}#sk-container-id-1 label.sk-toggleable__label-arrow:before {content: \"▸\";float: left;margin-right: 0.25em;color: #696969;}#sk-container-id-1 label.sk-toggleable__label-arrow:hover:before {color: black;}#sk-container-id-1 div.sk-estimator:hover label.sk-toggleable__label-arrow:before {color: black;}#sk-container-id-1 div.sk-toggleable__content {max-height: 0;max-width: 0;overflow: hidden;text-align: left;background-color: #f0f8ff;}#sk-container-id-1 div.sk-toggleable__content pre {margin: 0.2em;color: black;border-radius: 0.25em;background-color: #f0f8ff;}#sk-container-id-1 input.sk-toggleable__control:checked~div.sk-toggleable__content {max-height: 200px;max-width: 100%;overflow: auto;}#sk-container-id-1 input.sk-toggleable__control:checked~label.sk-toggleable__label-arrow:before {content: \"▾\";}#sk-container-id-1 div.sk-estimator input.sk-toggleable__control:checked~label.sk-toggleable__label {background-color: #d4ebff;}#sk-container-id-1 div.sk-label input.sk-toggleable__control:checked~label.sk-toggleable__label {background-color: #d4ebff;}#sk-container-id-1 input.sk-hidden--visually {border: 0;clip: rect(1px 1px 1px 1px);clip: rect(1px, 1px, 1px, 1px);height: 1px;margin: -1px;overflow: hidden;padding: 0;position: absolute;width: 1px;}#sk-container-id-1 div.sk-estimator {font-family: monospace;background-color: #f0f8ff;border: 1px dotted black;border-radius: 0.25em;box-sizing: border-box;margin-bottom: 0.5em;}#sk-container-id-1 div.sk-estimator:hover {background-color: #d4ebff;}#sk-container-id-1 div.sk-parallel-item::after {content: \"\";width: 100%;border-bottom: 1px solid gray;flex-grow: 1;}#sk-container-id-1 div.sk-label:hover label.sk-toggleable__label {background-color: #d4ebff;}#sk-container-id-1 div.sk-serial::before {content: \"\";position: absolute;border-left: 1px solid gray;box-sizing: border-box;top: 0;bottom: 0;left: 50%;z-index: 0;}#sk-container-id-1 div.sk-serial {display: flex;flex-direction: column;align-items: center;background-color: white;padding-right: 0.2em;padding-left: 0.2em;position: relative;}#sk-container-id-1 div.sk-item {position: relative;z-index: 1;}#sk-container-id-1 div.sk-parallel {display: flex;align-items: stretch;justify-content: center;background-color: white;position: relative;}#sk-container-id-1 div.sk-item::before, #sk-container-id-1 div.sk-parallel-item::before {content: \"\";position: absolute;border-left: 1px solid gray;box-sizing: border-box;top: 0;bottom: 0;left: 50%;z-index: -1;}#sk-container-id-1 div.sk-parallel-item {display: flex;flex-direction: column;z-index: 1;position: relative;background-color: white;}#sk-container-id-1 div.sk-parallel-item:first-child::after {align-self: flex-end;width: 50%;}#sk-container-id-1 div.sk-parallel-item:last-child::after {align-self: flex-start;width: 50%;}#sk-container-id-1 div.sk-parallel-item:only-child::after {width: 0;}#sk-container-id-1 div.sk-dashed-wrapped {border: 1px dashed gray;margin: 0 0.4em 0.5em 0.4em;box-sizing: border-box;padding-bottom: 0.4em;background-color: white;}#sk-container-id-1 div.sk-label label {font-family: monospace;font-weight: bold;display: inline-block;line-height: 1.2em;}#sk-container-id-1 div.sk-label-container {text-align: center;}#sk-container-id-1 div.sk-container {/* jupyter's `normalize.less` sets `[hidden] { display: none; }` but bootstrap.min.css set `[hidden] { display: none !important; }` so we also need the `!important` here to be able to override the default hidden behavior on the sphinx rendered scikit-learn.org. See: https://github.com/scikit-learn/scikit-learn/issues/21755 */display: inline-block !important;position: relative;}#sk-container-id-1 div.sk-text-repr-fallback {display: none;}</style><div id=\"sk-container-id-1\" class=\"sk-top-container\"><div class=\"sk-text-repr-fallback\"><pre>GridSearchCV(cv=5,\n",
       "             estimator=Pipeline(steps=[(&#x27;vr&#x27;,\n",
       "                                        OneVsRestClassifier(estimator=BalancedRandomForestClassifier(n_jobs=7)))]),\n",
       "             n_jobs=7,\n",
       "             param_grid={&#x27;vr__estimator__class_weight&#x27;: [&#x27;balanced&#x27;],\n",
       "                         &#x27;vr__estimator__n_estimators&#x27;: [100, 300, 500]},\n",
       "             scoring=&#x27;accuracy&#x27;)</pre><b>In a Jupyter environment, please rerun this cell to show the HTML representation or trust the notebook. <br />On GitHub, the HTML representation is unable to render, please try loading this page with nbviewer.org.</b></div><div class=\"sk-container\" hidden><div class=\"sk-item sk-dashed-wrapped\"><div class=\"sk-label-container\"><div class=\"sk-label sk-toggleable\"><input class=\"sk-toggleable__control sk-hidden--visually\" id=\"sk-estimator-id-1\" type=\"checkbox\" ><label for=\"sk-estimator-id-1\" class=\"sk-toggleable__label sk-toggleable__label-arrow\">GridSearchCV</label><div class=\"sk-toggleable__content\"><pre>GridSearchCV(cv=5,\n",
       "             estimator=Pipeline(steps=[(&#x27;vr&#x27;,\n",
       "                                        OneVsRestClassifier(estimator=BalancedRandomForestClassifier(n_jobs=7)))]),\n",
       "             n_jobs=7,\n",
       "             param_grid={&#x27;vr__estimator__class_weight&#x27;: [&#x27;balanced&#x27;],\n",
       "                         &#x27;vr__estimator__n_estimators&#x27;: [100, 300, 500]},\n",
       "             scoring=&#x27;accuracy&#x27;)</pre></div></div></div><div class=\"sk-parallel\"><div class=\"sk-parallel-item\"><div class=\"sk-item\"><div class=\"sk-label-container\"><div class=\"sk-label sk-toggleable\"><input class=\"sk-toggleable__control sk-hidden--visually\" id=\"sk-estimator-id-2\" type=\"checkbox\" ><label for=\"sk-estimator-id-2\" class=\"sk-toggleable__label sk-toggleable__label-arrow\">estimator: Pipeline</label><div class=\"sk-toggleable__content\"><pre>Pipeline(steps=[(&#x27;vr&#x27;,\n",
       "                 OneVsRestClassifier(estimator=BalancedRandomForestClassifier(n_jobs=7)))])</pre></div></div></div><div class=\"sk-serial\"><div class=\"sk-item\"><div class=\"sk-serial\"><div class=\"sk-item sk-dashed-wrapped\"><div class=\"sk-label-container\"><div class=\"sk-label sk-toggleable\"><input class=\"sk-toggleable__control sk-hidden--visually\" id=\"sk-estimator-id-3\" type=\"checkbox\" ><label for=\"sk-estimator-id-3\" class=\"sk-toggleable__label sk-toggleable__label-arrow\">vr: OneVsRestClassifier</label><div class=\"sk-toggleable__content\"><pre>OneVsRestClassifier(estimator=BalancedRandomForestClassifier(n_jobs=7))</pre></div></div></div><div class=\"sk-parallel\"><div class=\"sk-parallel-item\"><div class=\"sk-item\"><div class=\"sk-label-container\"><div class=\"sk-label sk-toggleable\"><input class=\"sk-toggleable__control sk-hidden--visually\" id=\"sk-estimator-id-4\" type=\"checkbox\" ><label for=\"sk-estimator-id-4\" class=\"sk-toggleable__label sk-toggleable__label-arrow\">estimator: BalancedRandomForestClassifier</label><div class=\"sk-toggleable__content\"><pre>BalancedRandomForestClassifier(n_jobs=7)</pre></div></div></div><div class=\"sk-serial\"><div class=\"sk-item\"><div class=\"sk-estimator sk-toggleable\"><input class=\"sk-toggleable__control sk-hidden--visually\" id=\"sk-estimator-id-5\" type=\"checkbox\" ><label for=\"sk-estimator-id-5\" class=\"sk-toggleable__label sk-toggleable__label-arrow\">BalancedRandomForestClassifier</label><div class=\"sk-toggleable__content\"><pre>BalancedRandomForestClassifier(n_jobs=7)</pre></div></div></div></div></div></div></div></div></div></div></div></div></div></div></div></div></div>"
      ],
      "text/plain": [
       "GridSearchCV(cv=5,\n",
       "             estimator=Pipeline(steps=[('vr',\n",
       "                                        OneVsRestClassifier(estimator=BalancedRandomForestClassifier(n_jobs=7)))]),\n",
       "             n_jobs=7,\n",
       "             param_grid={'vr__estimator__class_weight': ['balanced'],\n",
       "                         'vr__estimator__n_estimators': [100, 300, 500]},\n",
       "             scoring='accuracy')"
      ]
     },
     "execution_count": 32,
     "metadata": {},
     "output_type": "execute_result"
    }
   ],
   "source": [
    "gs_known.fit(data_known.iloc[:,:50], data_known.iloc[:,-1])"
   ]
  },
  {
   "cell_type": "code",
   "execution_count": 33,
   "id": "b1065156",
   "metadata": {},
   "outputs": [
    {
     "data": {
      "text/plain": [
       "0.7948387096774194"
      ]
     },
     "execution_count": 33,
     "metadata": {},
     "output_type": "execute_result"
    }
   ],
   "source": [
    "gs_known.best_score_"
   ]
  },
  {
   "cell_type": "code",
   "execution_count": 34,
   "id": "2fee9b1a",
   "metadata": {},
   "outputs": [],
   "source": [
    "parameters_binary = {\"vr__estimator__n_estimators\": [100, 300, 500], \n",
    "                              \"vr__estimator__class_weight\": [\"balanced\"]}"
   ]
  },
  {
   "cell_type": "code",
   "execution_count": 35,
   "id": "e144e144",
   "metadata": {},
   "outputs": [],
   "source": [
    "## train the known model first\n",
    "\n",
    "clf_binary = Pipeline([('vr', OneVsRestClassifier(BalancedRandomForestClassifier(n_jobs = 7)))\n",
    "                                                ])\n",
    "gs_binary = GridSearchCV(clf_binary, parameters_binary, cv = 5, n_jobs = 7, scoring = \"accuracy\", verbose = 0)"
   ]
  },
  {
   "cell_type": "code",
   "execution_count": 36,
   "id": "b6c9f7e6",
   "metadata": {},
   "outputs": [
    {
     "data": {
      "text/html": [
       "<style>#sk-container-id-2 {color: black;background-color: white;}#sk-container-id-2 pre{padding: 0;}#sk-container-id-2 div.sk-toggleable {background-color: white;}#sk-container-id-2 label.sk-toggleable__label {cursor: pointer;display: block;width: 100%;margin-bottom: 0;padding: 0.3em;box-sizing: border-box;text-align: center;}#sk-container-id-2 label.sk-toggleable__label-arrow:before {content: \"▸\";float: left;margin-right: 0.25em;color: #696969;}#sk-container-id-2 label.sk-toggleable__label-arrow:hover:before {color: black;}#sk-container-id-2 div.sk-estimator:hover label.sk-toggleable__label-arrow:before {color: black;}#sk-container-id-2 div.sk-toggleable__content {max-height: 0;max-width: 0;overflow: hidden;text-align: left;background-color: #f0f8ff;}#sk-container-id-2 div.sk-toggleable__content pre {margin: 0.2em;color: black;border-radius: 0.25em;background-color: #f0f8ff;}#sk-container-id-2 input.sk-toggleable__control:checked~div.sk-toggleable__content {max-height: 200px;max-width: 100%;overflow: auto;}#sk-container-id-2 input.sk-toggleable__control:checked~label.sk-toggleable__label-arrow:before {content: \"▾\";}#sk-container-id-2 div.sk-estimator input.sk-toggleable__control:checked~label.sk-toggleable__label {background-color: #d4ebff;}#sk-container-id-2 div.sk-label input.sk-toggleable__control:checked~label.sk-toggleable__label {background-color: #d4ebff;}#sk-container-id-2 input.sk-hidden--visually {border: 0;clip: rect(1px 1px 1px 1px);clip: rect(1px, 1px, 1px, 1px);height: 1px;margin: -1px;overflow: hidden;padding: 0;position: absolute;width: 1px;}#sk-container-id-2 div.sk-estimator {font-family: monospace;background-color: #f0f8ff;border: 1px dotted black;border-radius: 0.25em;box-sizing: border-box;margin-bottom: 0.5em;}#sk-container-id-2 div.sk-estimator:hover {background-color: #d4ebff;}#sk-container-id-2 div.sk-parallel-item::after {content: \"\";width: 100%;border-bottom: 1px solid gray;flex-grow: 1;}#sk-container-id-2 div.sk-label:hover label.sk-toggleable__label {background-color: #d4ebff;}#sk-container-id-2 div.sk-serial::before {content: \"\";position: absolute;border-left: 1px solid gray;box-sizing: border-box;top: 0;bottom: 0;left: 50%;z-index: 0;}#sk-container-id-2 div.sk-serial {display: flex;flex-direction: column;align-items: center;background-color: white;padding-right: 0.2em;padding-left: 0.2em;position: relative;}#sk-container-id-2 div.sk-item {position: relative;z-index: 1;}#sk-container-id-2 div.sk-parallel {display: flex;align-items: stretch;justify-content: center;background-color: white;position: relative;}#sk-container-id-2 div.sk-item::before, #sk-container-id-2 div.sk-parallel-item::before {content: \"\";position: absolute;border-left: 1px solid gray;box-sizing: border-box;top: 0;bottom: 0;left: 50%;z-index: -1;}#sk-container-id-2 div.sk-parallel-item {display: flex;flex-direction: column;z-index: 1;position: relative;background-color: white;}#sk-container-id-2 div.sk-parallel-item:first-child::after {align-self: flex-end;width: 50%;}#sk-container-id-2 div.sk-parallel-item:last-child::after {align-self: flex-start;width: 50%;}#sk-container-id-2 div.sk-parallel-item:only-child::after {width: 0;}#sk-container-id-2 div.sk-dashed-wrapped {border: 1px dashed gray;margin: 0 0.4em 0.5em 0.4em;box-sizing: border-box;padding-bottom: 0.4em;background-color: white;}#sk-container-id-2 div.sk-label label {font-family: monospace;font-weight: bold;display: inline-block;line-height: 1.2em;}#sk-container-id-2 div.sk-label-container {text-align: center;}#sk-container-id-2 div.sk-container {/* jupyter's `normalize.less` sets `[hidden] { display: none; }` but bootstrap.min.css set `[hidden] { display: none !important; }` so we also need the `!important` here to be able to override the default hidden behavior on the sphinx rendered scikit-learn.org. See: https://github.com/scikit-learn/scikit-learn/issues/21755 */display: inline-block !important;position: relative;}#sk-container-id-2 div.sk-text-repr-fallback {display: none;}</style><div id=\"sk-container-id-2\" class=\"sk-top-container\"><div class=\"sk-text-repr-fallback\"><pre>GridSearchCV(cv=5,\n",
       "             estimator=Pipeline(steps=[(&#x27;vr&#x27;,\n",
       "                                        OneVsRestClassifier(estimator=BalancedRandomForestClassifier(n_jobs=7)))]),\n",
       "             n_jobs=7,\n",
       "             param_grid={&#x27;vr__estimator__class_weight&#x27;: [&#x27;balanced&#x27;],\n",
       "                         &#x27;vr__estimator__n_estimators&#x27;: [100, 300, 500]},\n",
       "             scoring=&#x27;accuracy&#x27;)</pre><b>In a Jupyter environment, please rerun this cell to show the HTML representation or trust the notebook. <br />On GitHub, the HTML representation is unable to render, please try loading this page with nbviewer.org.</b></div><div class=\"sk-container\" hidden><div class=\"sk-item sk-dashed-wrapped\"><div class=\"sk-label-container\"><div class=\"sk-label sk-toggleable\"><input class=\"sk-toggleable__control sk-hidden--visually\" id=\"sk-estimator-id-6\" type=\"checkbox\" ><label for=\"sk-estimator-id-6\" class=\"sk-toggleable__label sk-toggleable__label-arrow\">GridSearchCV</label><div class=\"sk-toggleable__content\"><pre>GridSearchCV(cv=5,\n",
       "             estimator=Pipeline(steps=[(&#x27;vr&#x27;,\n",
       "                                        OneVsRestClassifier(estimator=BalancedRandomForestClassifier(n_jobs=7)))]),\n",
       "             n_jobs=7,\n",
       "             param_grid={&#x27;vr__estimator__class_weight&#x27;: [&#x27;balanced&#x27;],\n",
       "                         &#x27;vr__estimator__n_estimators&#x27;: [100, 300, 500]},\n",
       "             scoring=&#x27;accuracy&#x27;)</pre></div></div></div><div class=\"sk-parallel\"><div class=\"sk-parallel-item\"><div class=\"sk-item\"><div class=\"sk-label-container\"><div class=\"sk-label sk-toggleable\"><input class=\"sk-toggleable__control sk-hidden--visually\" id=\"sk-estimator-id-7\" type=\"checkbox\" ><label for=\"sk-estimator-id-7\" class=\"sk-toggleable__label sk-toggleable__label-arrow\">estimator: Pipeline</label><div class=\"sk-toggleable__content\"><pre>Pipeline(steps=[(&#x27;vr&#x27;,\n",
       "                 OneVsRestClassifier(estimator=BalancedRandomForestClassifier(n_jobs=7)))])</pre></div></div></div><div class=\"sk-serial\"><div class=\"sk-item\"><div class=\"sk-serial\"><div class=\"sk-item sk-dashed-wrapped\"><div class=\"sk-label-container\"><div class=\"sk-label sk-toggleable\"><input class=\"sk-toggleable__control sk-hidden--visually\" id=\"sk-estimator-id-8\" type=\"checkbox\" ><label for=\"sk-estimator-id-8\" class=\"sk-toggleable__label sk-toggleable__label-arrow\">vr: OneVsRestClassifier</label><div class=\"sk-toggleable__content\"><pre>OneVsRestClassifier(estimator=BalancedRandomForestClassifier(n_jobs=7))</pre></div></div></div><div class=\"sk-parallel\"><div class=\"sk-parallel-item\"><div class=\"sk-item\"><div class=\"sk-label-container\"><div class=\"sk-label sk-toggleable\"><input class=\"sk-toggleable__control sk-hidden--visually\" id=\"sk-estimator-id-9\" type=\"checkbox\" ><label for=\"sk-estimator-id-9\" class=\"sk-toggleable__label sk-toggleable__label-arrow\">estimator: BalancedRandomForestClassifier</label><div class=\"sk-toggleable__content\"><pre>BalancedRandomForestClassifier(n_jobs=7)</pre></div></div></div><div class=\"sk-serial\"><div class=\"sk-item\"><div class=\"sk-estimator sk-toggleable\"><input class=\"sk-toggleable__control sk-hidden--visually\" id=\"sk-estimator-id-10\" type=\"checkbox\" ><label for=\"sk-estimator-id-10\" class=\"sk-toggleable__label sk-toggleable__label-arrow\">BalancedRandomForestClassifier</label><div class=\"sk-toggleable__content\"><pre>BalancedRandomForestClassifier(n_jobs=7)</pre></div></div></div></div></div></div></div></div></div></div></div></div></div></div></div></div></div>"
      ],
      "text/plain": [
       "GridSearchCV(cv=5,\n",
       "             estimator=Pipeline(steps=[('vr',\n",
       "                                        OneVsRestClassifier(estimator=BalancedRandomForestClassifier(n_jobs=7)))]),\n",
       "             n_jobs=7,\n",
       "             param_grid={'vr__estimator__class_weight': ['balanced'],\n",
       "                         'vr__estimator__n_estimators': [100, 300, 500]},\n",
       "             scoring='accuracy')"
      ]
     },
     "execution_count": 36,
     "metadata": {},
     "output_type": "execute_result"
    }
   ],
   "source": [
    "gs_binary.fit(data_binary.iloc[:,:50], data_binary.iloc[:,-1])"
   ]
  },
  {
   "cell_type": "code",
   "execution_count": 37,
   "id": "9e21c1c9",
   "metadata": {},
   "outputs": [
    {
     "data": {
      "text/plain": [
       "0.6032786885245902"
      ]
     },
     "execution_count": 37,
     "metadata": {},
     "output_type": "execute_result"
    }
   ],
   "source": [
    "gs_binary.best_score_"
   ]
  },
  {
   "cell_type": "code",
   "execution_count": 45,
   "id": "cca63658",
   "metadata": {},
   "outputs": [
    {
     "data": {
      "application/vnd.jupyter.widget-view+json": {
       "model_id": "645f1a98401f4e8cbb449f30381b1da5",
       "version_major": 2,
       "version_minor": 0
      },
      "text/plain": [
       "  0%|          | 0/9 [00:00<?, ?it/s]"
      ]
     },
     "metadata": {},
     "output_type": "display_data"
    }
   ],
   "source": [
    "score_known = []\n",
    "score_binary = []\n",
    "for top_k in tqdm(range(2, 11)): \n",
    "    order = list(data_word2vec_features[\"high_level_substr\"].value_counts().index[:top_k])\n",
    "    data_known = data_word2vec_features[data_word2vec_features[\"high_level_substr\"].isin(order)]\n",
    "    data_binary = data_word2vec_features.copy()\n",
    "    data_binary[\"high_level_substr\"] = [1 if substr in order else 0 for substr in data_binary[\"high_level_substr\"].values ]\n",
    "    parameters_known = {\"vr__estimator__n_estimators\": [100], \n",
    "                              \"vr__estimator__class_weight\": [\"balanced\"]}\n",
    "    clf_known = Pipeline([('vr', OneVsRestClassifier(BalancedRandomForestClassifier(n_jobs = 7)))\n",
    "                                                ])\n",
    "    gs_known = GridSearchCV(clf_known, parameters_known, cv = 5, n_jobs = 7, scoring = \"accuracy\", verbose = 0)\n",
    "    gs_known.fit(data_known.iloc[:,:50], data_known.iloc[:,-1])\n",
    "    score_known.append(gs_known.best_score_)\n",
    "    \n",
    "    parameters_binary = {\"vr__estimator__n_estimators\": [100], \n",
    "                              \"vr__estimator__class_weight\": [\"balanced\"]}\n",
    "    \n",
    "    clf_binary = Pipeline([('vr', OneVsRestClassifier(BalancedRandomForestClassifier(n_jobs = 7)))\n",
    "                                                ])\n",
    "    gs_binary = GridSearchCV(clf_binary, parameters_binary, cv = 5, n_jobs = 7, scoring = \"accuracy\", verbose = 0)\n",
    "    gs_binary.fit(data_binary.iloc[:,:50], data_binary.iloc[:,-1])\n",
    "    score_binary.append(gs_binary.best_score_)"
   ]
  },
  {
   "cell_type": "code",
   "execution_count": 51,
   "id": "578f1c8c",
   "metadata": {},
   "outputs": [],
   "source": [
    "known_df = pd.DataFrame(score_known)"
   ]
  },
  {
   "cell_type": "code",
   "execution_count": 54,
   "id": "528f32fe",
   "metadata": {},
   "outputs": [
    {
     "data": {
      "text/plain": [
       "[0.8557377049180326,\n",
       " 0.7639344262295082,\n",
       " 0.659016393442623,\n",
       " 0.580327868852459,\n",
       " 0.6,\n",
       " 0.5245901639344263,\n",
       " 0.4950819672131148,\n",
       " 0.43934426229508194,\n",
       " 0.521311475409836]"
      ]
     },
     "execution_count": 54,
     "metadata": {},
     "output_type": "execute_result"
    }
   ],
   "source": [
    "score_binary"
   ]
  },
  {
   "cell_type": "code",
   "execution_count": 52,
   "id": "2d07bcb3",
   "metadata": {},
   "outputs": [
    {
     "data": {
      "text/html": [
       "<div>\n",
       "<style scoped>\n",
       "    .dataframe tbody tr th:only-of-type {\n",
       "        vertical-align: middle;\n",
       "    }\n",
       "\n",
       "    .dataframe tbody tr th {\n",
       "        vertical-align: top;\n",
       "    }\n",
       "\n",
       "    .dataframe thead th {\n",
       "        text-align: right;\n",
       "    }\n",
       "</style>\n",
       "<table border=\"1\" class=\"dataframe\">\n",
       "  <thead>\n",
       "    <tr style=\"text-align: right;\">\n",
       "      <th></th>\n",
       "      <th>0</th>\n",
       "    </tr>\n",
       "  </thead>\n",
       "  <tbody>\n",
       "    <tr>\n",
       "      <th>0</th>\n",
       "      <td>0.848571</td>\n",
       "    </tr>\n",
       "    <tr>\n",
       "      <th>1</th>\n",
       "      <td>0.831579</td>\n",
       "    </tr>\n",
       "    <tr>\n",
       "      <th>2</th>\n",
       "      <td>0.853986</td>\n",
       "    </tr>\n",
       "    <tr>\n",
       "      <th>3</th>\n",
       "      <td>0.807407</td>\n",
       "    </tr>\n",
       "    <tr>\n",
       "      <th>4</th>\n",
       "      <td>0.774839</td>\n",
       "    </tr>\n",
       "    <tr>\n",
       "      <th>5</th>\n",
       "      <td>0.783779</td>\n",
       "    </tr>\n",
       "    <tr>\n",
       "      <th>6</th>\n",
       "      <td>0.763063</td>\n",
       "    </tr>\n",
       "    <tr>\n",
       "      <th>7</th>\n",
       "      <td>0.705128</td>\n",
       "    </tr>\n",
       "    <tr>\n",
       "      <th>8</th>\n",
       "      <td>0.654042</td>\n",
       "    </tr>\n",
       "  </tbody>\n",
       "</table>\n",
       "</div>"
      ],
      "text/plain": [
       "          0\n",
       "0  0.848571\n",
       "1  0.831579\n",
       "2  0.853986\n",
       "3  0.807407\n",
       "4  0.774839\n",
       "5  0.783779\n",
       "6  0.763063\n",
       "7  0.705128\n",
       "8  0.654042"
      ]
     },
     "execution_count": 52,
     "metadata": {},
     "output_type": "execute_result"
    }
   ],
   "source": [
    "known_df"
   ]
  },
  {
   "cell_type": "code",
   "execution_count": 53,
   "id": "46eb59bd",
   "metadata": {},
   "outputs": [
    {
     "data": {
      "text/plain": [
       "[2, 3, 4, 5, 6, 7, 8, 9, 10]"
      ]
     },
     "execution_count": 53,
     "metadata": {},
     "output_type": "execute_result"
    }
   ],
   "source": [
    "list(range(2,11))"
   ]
  },
  {
   "cell_type": "code",
   "execution_count": 56,
   "id": "59fa20e6",
   "metadata": {},
   "outputs": [],
   "source": [
    "known_df = pd.DataFrame(score_known)\n",
    "known_df[\"num_classes\"] = list(range(2,11))\n",
    "known_df.columns = [\"known_cv_avg_accuracy\", \"num_classes\"]\n",
    "known_df[\"binary_cv_avg_accuracy\"] = score_binary"
   ]
  },
  {
   "cell_type": "code",
   "execution_count": 59,
   "id": "58884b9b",
   "metadata": {},
   "outputs": [],
   "source": [
    "known_df_melt = known_df.melt(id_vars = \"num_classes\")"
   ]
  },
  {
   "cell_type": "code",
   "execution_count": 63,
   "id": "d51e8678",
   "metadata": {},
   "outputs": [],
   "source": [
    "known_df_melt.columns = [\"num_substrates\", \"model_type\", \"avg_accuracy\"]"
   ]
  },
  {
   "cell_type": "code",
   "execution_count": 65,
   "id": "16fffd5a",
   "metadata": {},
   "outputs": [
    {
     "data": {
      "text/html": [
       "<div>\n",
       "<style scoped>\n",
       "    .dataframe tbody tr th:only-of-type {\n",
       "        vertical-align: middle;\n",
       "    }\n",
       "\n",
       "    .dataframe tbody tr th {\n",
       "        vertical-align: top;\n",
       "    }\n",
       "\n",
       "    .dataframe thead th {\n",
       "        text-align: right;\n",
       "    }\n",
       "</style>\n",
       "<table border=\"1\" class=\"dataframe\">\n",
       "  <thead>\n",
       "    <tr style=\"text-align: right;\">\n",
       "      <th></th>\n",
       "      <th>num_substrates</th>\n",
       "      <th>model_type</th>\n",
       "      <th>avg_accuracy</th>\n",
       "    </tr>\n",
       "  </thead>\n",
       "  <tbody>\n",
       "    <tr>\n",
       "      <th>0</th>\n",
       "      <td>2</td>\n",
       "      <td>known_cv_avg_accuracy</td>\n",
       "      <td>0.848571</td>\n",
       "    </tr>\n",
       "    <tr>\n",
       "      <th>1</th>\n",
       "      <td>3</td>\n",
       "      <td>known_cv_avg_accuracy</td>\n",
       "      <td>0.831579</td>\n",
       "    </tr>\n",
       "    <tr>\n",
       "      <th>2</th>\n",
       "      <td>4</td>\n",
       "      <td>known_cv_avg_accuracy</td>\n",
       "      <td>0.853986</td>\n",
       "    </tr>\n",
       "    <tr>\n",
       "      <th>3</th>\n",
       "      <td>5</td>\n",
       "      <td>known_cv_avg_accuracy</td>\n",
       "      <td>0.807407</td>\n",
       "    </tr>\n",
       "    <tr>\n",
       "      <th>4</th>\n",
       "      <td>6</td>\n",
       "      <td>known_cv_avg_accuracy</td>\n",
       "      <td>0.774839</td>\n",
       "    </tr>\n",
       "    <tr>\n",
       "      <th>5</th>\n",
       "      <td>7</td>\n",
       "      <td>known_cv_avg_accuracy</td>\n",
       "      <td>0.783779</td>\n",
       "    </tr>\n",
       "    <tr>\n",
       "      <th>6</th>\n",
       "      <td>8</td>\n",
       "      <td>known_cv_avg_accuracy</td>\n",
       "      <td>0.763063</td>\n",
       "    </tr>\n",
       "    <tr>\n",
       "      <th>7</th>\n",
       "      <td>9</td>\n",
       "      <td>known_cv_avg_accuracy</td>\n",
       "      <td>0.705128</td>\n",
       "    </tr>\n",
       "    <tr>\n",
       "      <th>8</th>\n",
       "      <td>10</td>\n",
       "      <td>known_cv_avg_accuracy</td>\n",
       "      <td>0.654042</td>\n",
       "    </tr>\n",
       "    <tr>\n",
       "      <th>9</th>\n",
       "      <td>2</td>\n",
       "      <td>binary_cv_avg_accuracy</td>\n",
       "      <td>0.855738</td>\n",
       "    </tr>\n",
       "    <tr>\n",
       "      <th>10</th>\n",
       "      <td>3</td>\n",
       "      <td>binary_cv_avg_accuracy</td>\n",
       "      <td>0.763934</td>\n",
       "    </tr>\n",
       "    <tr>\n",
       "      <th>11</th>\n",
       "      <td>4</td>\n",
       "      <td>binary_cv_avg_accuracy</td>\n",
       "      <td>0.659016</td>\n",
       "    </tr>\n",
       "    <tr>\n",
       "      <th>12</th>\n",
       "      <td>5</td>\n",
       "      <td>binary_cv_avg_accuracy</td>\n",
       "      <td>0.580328</td>\n",
       "    </tr>\n",
       "    <tr>\n",
       "      <th>13</th>\n",
       "      <td>6</td>\n",
       "      <td>binary_cv_avg_accuracy</td>\n",
       "      <td>0.600000</td>\n",
       "    </tr>\n",
       "    <tr>\n",
       "      <th>14</th>\n",
       "      <td>7</td>\n",
       "      <td>binary_cv_avg_accuracy</td>\n",
       "      <td>0.524590</td>\n",
       "    </tr>\n",
       "    <tr>\n",
       "      <th>15</th>\n",
       "      <td>8</td>\n",
       "      <td>binary_cv_avg_accuracy</td>\n",
       "      <td>0.495082</td>\n",
       "    </tr>\n",
       "    <tr>\n",
       "      <th>16</th>\n",
       "      <td>9</td>\n",
       "      <td>binary_cv_avg_accuracy</td>\n",
       "      <td>0.439344</td>\n",
       "    </tr>\n",
       "    <tr>\n",
       "      <th>17</th>\n",
       "      <td>10</td>\n",
       "      <td>binary_cv_avg_accuracy</td>\n",
       "      <td>0.521311</td>\n",
       "    </tr>\n",
       "  </tbody>\n",
       "</table>\n",
       "</div>"
      ],
      "text/plain": [
       "    num_substrates              model_type  avg_accuracy\n",
       "0                2   known_cv_avg_accuracy      0.848571\n",
       "1                3   known_cv_avg_accuracy      0.831579\n",
       "2                4   known_cv_avg_accuracy      0.853986\n",
       "3                5   known_cv_avg_accuracy      0.807407\n",
       "4                6   known_cv_avg_accuracy      0.774839\n",
       "5                7   known_cv_avg_accuracy      0.783779\n",
       "6                8   known_cv_avg_accuracy      0.763063\n",
       "7                9   known_cv_avg_accuracy      0.705128\n",
       "8               10   known_cv_avg_accuracy      0.654042\n",
       "9                2  binary_cv_avg_accuracy      0.855738\n",
       "10               3  binary_cv_avg_accuracy      0.763934\n",
       "11               4  binary_cv_avg_accuracy      0.659016\n",
       "12               5  binary_cv_avg_accuracy      0.580328\n",
       "13               6  binary_cv_avg_accuracy      0.600000\n",
       "14               7  binary_cv_avg_accuracy      0.524590\n",
       "15               8  binary_cv_avg_accuracy      0.495082\n",
       "16               9  binary_cv_avg_accuracy      0.439344\n",
       "17              10  binary_cv_avg_accuracy      0.521311"
      ]
     },
     "execution_count": 65,
     "metadata": {},
     "output_type": "execute_result"
    }
   ],
   "source": [
    "known_df_melt"
   ]
  },
  {
   "cell_type": "code",
   "execution_count": 68,
   "id": "5e02fddd",
   "metadata": {},
   "outputs": [
    {
     "data": {
      "application/vnd.plotly.v1+json": {
       "config": {
        "plotlyServerURL": "https://plot.ly"
       },
       "data": [
        {
         "hovertemplate": "Known or Binary Model=known_cv_avg_accuracy<br>Number of Substrate Categories=%{x}<br>Average Accuracy=%{y}<extra></extra>",
         "legendgroup": "known_cv_avg_accuracy",
         "line": {
          "color": "#636efa",
          "dash": "solid",
          "width": 4
         },
         "marker": {
          "size": 8,
          "symbol": "circle"
         },
         "mode": "markers+lines",
         "name": "known_cv_avg_accuracy",
         "orientation": "v",
         "showlegend": true,
         "type": "scatter",
         "x": [
          2,
          3,
          4,
          5,
          6,
          7,
          8,
          9,
          10
         ],
         "xaxis": "x",
         "y": [
          0.8485714285714285,
          0.8315789473684211,
          0.8539855072463768,
          0.8074074074074075,
          0.7748387096774193,
          0.7837789661319072,
          0.763063063063063,
          0.7051282051282052,
          0.6540420819490588
         ],
         "yaxis": "y"
        },
        {
         "hovertemplate": "Known or Binary Model=binary_cv_avg_accuracy<br>Number of Substrate Categories=%{x}<br>Average Accuracy=%{y}<extra></extra>",
         "legendgroup": "binary_cv_avg_accuracy",
         "line": {
          "color": "#EF553B",
          "dash": "solid",
          "width": 4
         },
         "marker": {
          "size": 8,
          "symbol": "circle"
         },
         "mode": "markers+lines",
         "name": "binary_cv_avg_accuracy",
         "orientation": "v",
         "showlegend": true,
         "type": "scatter",
         "x": [
          2,
          3,
          4,
          5,
          6,
          7,
          8,
          9,
          10
         ],
         "xaxis": "x",
         "y": [
          0.8557377049180326,
          0.7639344262295082,
          0.659016393442623,
          0.580327868852459,
          0.6,
          0.5245901639344263,
          0.4950819672131148,
          0.43934426229508194,
          0.521311475409836
         ],
         "yaxis": "y"
        }
       ],
       "layout": {
        "font": {
         "family": "Arial Black"
        },
        "legend": {
         "title": {
          "text": "Known or Binary Model"
         },
         "tracegroupgap": 0
        },
        "template": {
         "data": {
          "bar": [
           {
            "error_x": {
             "color": "#2a3f5f"
            },
            "error_y": {
             "color": "#2a3f5f"
            },
            "marker": {
             "line": {
              "color": "#E5ECF6",
              "width": 0.5
             },
             "pattern": {
              "fillmode": "overlay",
              "size": 10,
              "solidity": 0.2
             }
            },
            "type": "bar"
           }
          ],
          "barpolar": [
           {
            "marker": {
             "line": {
              "color": "#E5ECF6",
              "width": 0.5
             },
             "pattern": {
              "fillmode": "overlay",
              "size": 10,
              "solidity": 0.2
             }
            },
            "type": "barpolar"
           }
          ],
          "carpet": [
           {
            "aaxis": {
             "endlinecolor": "#2a3f5f",
             "gridcolor": "white",
             "linecolor": "white",
             "minorgridcolor": "white",
             "startlinecolor": "#2a3f5f"
            },
            "baxis": {
             "endlinecolor": "#2a3f5f",
             "gridcolor": "white",
             "linecolor": "white",
             "minorgridcolor": "white",
             "startlinecolor": "#2a3f5f"
            },
            "type": "carpet"
           }
          ],
          "choropleth": [
           {
            "colorbar": {
             "outlinewidth": 0,
             "ticks": ""
            },
            "type": "choropleth"
           }
          ],
          "contour": [
           {
            "colorbar": {
             "outlinewidth": 0,
             "ticks": ""
            },
            "colorscale": [
             [
              0,
              "#0d0887"
             ],
             [
              0.1111111111111111,
              "#46039f"
             ],
             [
              0.2222222222222222,
              "#7201a8"
             ],
             [
              0.3333333333333333,
              "#9c179e"
             ],
             [
              0.4444444444444444,
              "#bd3786"
             ],
             [
              0.5555555555555556,
              "#d8576b"
             ],
             [
              0.6666666666666666,
              "#ed7953"
             ],
             [
              0.7777777777777778,
              "#fb9f3a"
             ],
             [
              0.8888888888888888,
              "#fdca26"
             ],
             [
              1,
              "#f0f921"
             ]
            ],
            "type": "contour"
           }
          ],
          "contourcarpet": [
           {
            "colorbar": {
             "outlinewidth": 0,
             "ticks": ""
            },
            "type": "contourcarpet"
           }
          ],
          "heatmap": [
           {
            "colorbar": {
             "outlinewidth": 0,
             "ticks": ""
            },
            "colorscale": [
             [
              0,
              "#0d0887"
             ],
             [
              0.1111111111111111,
              "#46039f"
             ],
             [
              0.2222222222222222,
              "#7201a8"
             ],
             [
              0.3333333333333333,
              "#9c179e"
             ],
             [
              0.4444444444444444,
              "#bd3786"
             ],
             [
              0.5555555555555556,
              "#d8576b"
             ],
             [
              0.6666666666666666,
              "#ed7953"
             ],
             [
              0.7777777777777778,
              "#fb9f3a"
             ],
             [
              0.8888888888888888,
              "#fdca26"
             ],
             [
              1,
              "#f0f921"
             ]
            ],
            "type": "heatmap"
           }
          ],
          "heatmapgl": [
           {
            "colorbar": {
             "outlinewidth": 0,
             "ticks": ""
            },
            "colorscale": [
             [
              0,
              "#0d0887"
             ],
             [
              0.1111111111111111,
              "#46039f"
             ],
             [
              0.2222222222222222,
              "#7201a8"
             ],
             [
              0.3333333333333333,
              "#9c179e"
             ],
             [
              0.4444444444444444,
              "#bd3786"
             ],
             [
              0.5555555555555556,
              "#d8576b"
             ],
             [
              0.6666666666666666,
              "#ed7953"
             ],
             [
              0.7777777777777778,
              "#fb9f3a"
             ],
             [
              0.8888888888888888,
              "#fdca26"
             ],
             [
              1,
              "#f0f921"
             ]
            ],
            "type": "heatmapgl"
           }
          ],
          "histogram": [
           {
            "marker": {
             "pattern": {
              "fillmode": "overlay",
              "size": 10,
              "solidity": 0.2
             }
            },
            "type": "histogram"
           }
          ],
          "histogram2d": [
           {
            "colorbar": {
             "outlinewidth": 0,
             "ticks": ""
            },
            "colorscale": [
             [
              0,
              "#0d0887"
             ],
             [
              0.1111111111111111,
              "#46039f"
             ],
             [
              0.2222222222222222,
              "#7201a8"
             ],
             [
              0.3333333333333333,
              "#9c179e"
             ],
             [
              0.4444444444444444,
              "#bd3786"
             ],
             [
              0.5555555555555556,
              "#d8576b"
             ],
             [
              0.6666666666666666,
              "#ed7953"
             ],
             [
              0.7777777777777778,
              "#fb9f3a"
             ],
             [
              0.8888888888888888,
              "#fdca26"
             ],
             [
              1,
              "#f0f921"
             ]
            ],
            "type": "histogram2d"
           }
          ],
          "histogram2dcontour": [
           {
            "colorbar": {
             "outlinewidth": 0,
             "ticks": ""
            },
            "colorscale": [
             [
              0,
              "#0d0887"
             ],
             [
              0.1111111111111111,
              "#46039f"
             ],
             [
              0.2222222222222222,
              "#7201a8"
             ],
             [
              0.3333333333333333,
              "#9c179e"
             ],
             [
              0.4444444444444444,
              "#bd3786"
             ],
             [
              0.5555555555555556,
              "#d8576b"
             ],
             [
              0.6666666666666666,
              "#ed7953"
             ],
             [
              0.7777777777777778,
              "#fb9f3a"
             ],
             [
              0.8888888888888888,
              "#fdca26"
             ],
             [
              1,
              "#f0f921"
             ]
            ],
            "type": "histogram2dcontour"
           }
          ],
          "mesh3d": [
           {
            "colorbar": {
             "outlinewidth": 0,
             "ticks": ""
            },
            "type": "mesh3d"
           }
          ],
          "parcoords": [
           {
            "line": {
             "colorbar": {
              "outlinewidth": 0,
              "ticks": ""
             }
            },
            "type": "parcoords"
           }
          ],
          "pie": [
           {
            "automargin": true,
            "type": "pie"
           }
          ],
          "scatter": [
           {
            "fillpattern": {
             "fillmode": "overlay",
             "size": 10,
             "solidity": 0.2
            },
            "type": "scatter"
           }
          ],
          "scatter3d": [
           {
            "line": {
             "colorbar": {
              "outlinewidth": 0,
              "ticks": ""
             }
            },
            "marker": {
             "colorbar": {
              "outlinewidth": 0,
              "ticks": ""
             }
            },
            "type": "scatter3d"
           }
          ],
          "scattercarpet": [
           {
            "marker": {
             "colorbar": {
              "outlinewidth": 0,
              "ticks": ""
             }
            },
            "type": "scattercarpet"
           }
          ],
          "scattergeo": [
           {
            "marker": {
             "colorbar": {
              "outlinewidth": 0,
              "ticks": ""
             }
            },
            "type": "scattergeo"
           }
          ],
          "scattergl": [
           {
            "marker": {
             "colorbar": {
              "outlinewidth": 0,
              "ticks": ""
             }
            },
            "type": "scattergl"
           }
          ],
          "scattermapbox": [
           {
            "marker": {
             "colorbar": {
              "outlinewidth": 0,
              "ticks": ""
             }
            },
            "type": "scattermapbox"
           }
          ],
          "scatterpolar": [
           {
            "marker": {
             "colorbar": {
              "outlinewidth": 0,
              "ticks": ""
             }
            },
            "type": "scatterpolar"
           }
          ],
          "scatterpolargl": [
           {
            "marker": {
             "colorbar": {
              "outlinewidth": 0,
              "ticks": ""
             }
            },
            "type": "scatterpolargl"
           }
          ],
          "scatterternary": [
           {
            "marker": {
             "colorbar": {
              "outlinewidth": 0,
              "ticks": ""
             }
            },
            "type": "scatterternary"
           }
          ],
          "surface": [
           {
            "colorbar": {
             "outlinewidth": 0,
             "ticks": ""
            },
            "colorscale": [
             [
              0,
              "#0d0887"
             ],
             [
              0.1111111111111111,
              "#46039f"
             ],
             [
              0.2222222222222222,
              "#7201a8"
             ],
             [
              0.3333333333333333,
              "#9c179e"
             ],
             [
              0.4444444444444444,
              "#bd3786"
             ],
             [
              0.5555555555555556,
              "#d8576b"
             ],
             [
              0.6666666666666666,
              "#ed7953"
             ],
             [
              0.7777777777777778,
              "#fb9f3a"
             ],
             [
              0.8888888888888888,
              "#fdca26"
             ],
             [
              1,
              "#f0f921"
             ]
            ],
            "type": "surface"
           }
          ],
          "table": [
           {
            "cells": {
             "fill": {
              "color": "#EBF0F8"
             },
             "line": {
              "color": "white"
             }
            },
            "header": {
             "fill": {
              "color": "#C8D4E3"
             },
             "line": {
              "color": "white"
             }
            },
            "type": "table"
           }
          ]
         },
         "layout": {
          "annotationdefaults": {
           "arrowcolor": "#2a3f5f",
           "arrowhead": 0,
           "arrowwidth": 1
          },
          "autotypenumbers": "strict",
          "coloraxis": {
           "colorbar": {
            "outlinewidth": 0,
            "ticks": ""
           }
          },
          "colorscale": {
           "diverging": [
            [
             0,
             "#8e0152"
            ],
            [
             0.1,
             "#c51b7d"
            ],
            [
             0.2,
             "#de77ae"
            ],
            [
             0.3,
             "#f1b6da"
            ],
            [
             0.4,
             "#fde0ef"
            ],
            [
             0.5,
             "#f7f7f7"
            ],
            [
             0.6,
             "#e6f5d0"
            ],
            [
             0.7,
             "#b8e186"
            ],
            [
             0.8,
             "#7fbc41"
            ],
            [
             0.9,
             "#4d9221"
            ],
            [
             1,
             "#276419"
            ]
           ],
           "sequential": [
            [
             0,
             "#0d0887"
            ],
            [
             0.1111111111111111,
             "#46039f"
            ],
            [
             0.2222222222222222,
             "#7201a8"
            ],
            [
             0.3333333333333333,
             "#9c179e"
            ],
            [
             0.4444444444444444,
             "#bd3786"
            ],
            [
             0.5555555555555556,
             "#d8576b"
            ],
            [
             0.6666666666666666,
             "#ed7953"
            ],
            [
             0.7777777777777778,
             "#fb9f3a"
            ],
            [
             0.8888888888888888,
             "#fdca26"
            ],
            [
             1,
             "#f0f921"
            ]
           ],
           "sequentialminus": [
            [
             0,
             "#0d0887"
            ],
            [
             0.1111111111111111,
             "#46039f"
            ],
            [
             0.2222222222222222,
             "#7201a8"
            ],
            [
             0.3333333333333333,
             "#9c179e"
            ],
            [
             0.4444444444444444,
             "#bd3786"
            ],
            [
             0.5555555555555556,
             "#d8576b"
            ],
            [
             0.6666666666666666,
             "#ed7953"
            ],
            [
             0.7777777777777778,
             "#fb9f3a"
            ],
            [
             0.8888888888888888,
             "#fdca26"
            ],
            [
             1,
             "#f0f921"
            ]
           ]
          },
          "colorway": [
           "#636efa",
           "#EF553B",
           "#00cc96",
           "#ab63fa",
           "#FFA15A",
           "#19d3f3",
           "#FF6692",
           "#B6E880",
           "#FF97FF",
           "#FECB52"
          ],
          "font": {
           "color": "#2a3f5f"
          },
          "geo": {
           "bgcolor": "white",
           "lakecolor": "white",
           "landcolor": "#E5ECF6",
           "showlakes": true,
           "showland": true,
           "subunitcolor": "white"
          },
          "hoverlabel": {
           "align": "left"
          },
          "hovermode": "closest",
          "mapbox": {
           "style": "light"
          },
          "paper_bgcolor": "white",
          "plot_bgcolor": "#E5ECF6",
          "polar": {
           "angularaxis": {
            "gridcolor": "white",
            "linecolor": "white",
            "ticks": ""
           },
           "bgcolor": "#E5ECF6",
           "radialaxis": {
            "gridcolor": "white",
            "linecolor": "white",
            "ticks": ""
           }
          },
          "scene": {
           "xaxis": {
            "backgroundcolor": "#E5ECF6",
            "gridcolor": "white",
            "gridwidth": 2,
            "linecolor": "white",
            "showbackground": true,
            "ticks": "",
            "zerolinecolor": "white"
           },
           "yaxis": {
            "backgroundcolor": "#E5ECF6",
            "gridcolor": "white",
            "gridwidth": 2,
            "linecolor": "white",
            "showbackground": true,
            "ticks": "",
            "zerolinecolor": "white"
           },
           "zaxis": {
            "backgroundcolor": "#E5ECF6",
            "gridcolor": "white",
            "gridwidth": 2,
            "linecolor": "white",
            "showbackground": true,
            "ticks": "",
            "zerolinecolor": "white"
           }
          },
          "shapedefaults": {
           "line": {
            "color": "#2a3f5f"
           }
          },
          "ternary": {
           "aaxis": {
            "gridcolor": "white",
            "linecolor": "white",
            "ticks": ""
           },
           "baxis": {
            "gridcolor": "white",
            "linecolor": "white",
            "ticks": ""
           },
           "bgcolor": "#E5ECF6",
           "caxis": {
            "gridcolor": "white",
            "linecolor": "white",
            "ticks": ""
           }
          },
          "title": {
           "x": 0.05
          },
          "xaxis": {
           "automargin": true,
           "gridcolor": "white",
           "linecolor": "white",
           "ticks": "",
           "title": {
            "standoff": 15
           },
           "zerolinecolor": "white",
           "zerolinewidth": 2
          },
          "yaxis": {
           "automargin": true,
           "gridcolor": "white",
           "linecolor": "white",
           "ticks": "",
           "title": {
            "standoff": 15
           },
           "zerolinecolor": "white",
           "zerolinewidth": 2
          }
         }
        },
        "title": {
         "font": {
          "family": "Arial Black"
         },
         "text": "Comparing subFinder without Others with a Known-Unknown Model"
        },
        "xaxis": {
         "anchor": "y",
         "domain": [
          0,
          1
         ],
         "tickfont": {
          "family": "Arial Black"
         },
         "title": {
          "font": {
           "family": "Arial Black"
          },
          "text": "Number of Substrate Categories"
         }
        },
        "yaxis": {
         "anchor": "x",
         "domain": [
          0,
          1
         ],
         "tickfont": {
          "family": "Arial Black"
         },
         "title": {
          "font": {
           "family": "Arial Black"
          },
          "text": "Average Accuracy"
         }
        }
       }
      },
      "text/html": [
       "<div>                            <div id=\"0555b0d9-1c47-45eb-bf98-b9528b42d712\" class=\"plotly-graph-div\" style=\"height:525px; width:100%;\"></div>            <script type=\"text/javascript\">                require([\"plotly\"], function(Plotly) {                    window.PLOTLYENV=window.PLOTLYENV || {};                                    if (document.getElementById(\"0555b0d9-1c47-45eb-bf98-b9528b42d712\")) {                    Plotly.newPlot(                        \"0555b0d9-1c47-45eb-bf98-b9528b42d712\",                        [{\"hovertemplate\":\"Known or Binary Model=known_cv_avg_accuracy<br>Number of Substrate Categories=%{x}<br>Average Accuracy=%{y}<extra></extra>\",\"legendgroup\":\"known_cv_avg_accuracy\",\"line\":{\"color\":\"#636efa\",\"dash\":\"solid\",\"width\":4},\"marker\":{\"symbol\":\"circle\",\"size\":8},\"mode\":\"markers+lines\",\"name\":\"known_cv_avg_accuracy\",\"orientation\":\"v\",\"showlegend\":true,\"x\":[2,3,4,5,6,7,8,9,10],\"xaxis\":\"x\",\"y\":[0.8485714285714285,0.8315789473684211,0.8539855072463768,0.8074074074074075,0.7748387096774193,0.7837789661319072,0.763063063063063,0.7051282051282052,0.6540420819490588],\"yaxis\":\"y\",\"type\":\"scatter\"},{\"hovertemplate\":\"Known or Binary Model=binary_cv_avg_accuracy<br>Number of Substrate Categories=%{x}<br>Average Accuracy=%{y}<extra></extra>\",\"legendgroup\":\"binary_cv_avg_accuracy\",\"line\":{\"color\":\"#EF553B\",\"dash\":\"solid\",\"width\":4},\"marker\":{\"symbol\":\"circle\",\"size\":8},\"mode\":\"markers+lines\",\"name\":\"binary_cv_avg_accuracy\",\"orientation\":\"v\",\"showlegend\":true,\"x\":[2,3,4,5,6,7,8,9,10],\"xaxis\":\"x\",\"y\":[0.8557377049180326,0.7639344262295082,0.659016393442623,0.580327868852459,0.6,0.5245901639344263,0.4950819672131148,0.43934426229508194,0.521311475409836],\"yaxis\":\"y\",\"type\":\"scatter\"}],                        {\"template\":{\"data\":{\"histogram2dcontour\":[{\"type\":\"histogram2dcontour\",\"colorbar\":{\"outlinewidth\":0,\"ticks\":\"\"},\"colorscale\":[[0.0,\"#0d0887\"],[0.1111111111111111,\"#46039f\"],[0.2222222222222222,\"#7201a8\"],[0.3333333333333333,\"#9c179e\"],[0.4444444444444444,\"#bd3786\"],[0.5555555555555556,\"#d8576b\"],[0.6666666666666666,\"#ed7953\"],[0.7777777777777778,\"#fb9f3a\"],[0.8888888888888888,\"#fdca26\"],[1.0,\"#f0f921\"]]}],\"choropleth\":[{\"type\":\"choropleth\",\"colorbar\":{\"outlinewidth\":0,\"ticks\":\"\"}}],\"histogram2d\":[{\"type\":\"histogram2d\",\"colorbar\":{\"outlinewidth\":0,\"ticks\":\"\"},\"colorscale\":[[0.0,\"#0d0887\"],[0.1111111111111111,\"#46039f\"],[0.2222222222222222,\"#7201a8\"],[0.3333333333333333,\"#9c179e\"],[0.4444444444444444,\"#bd3786\"],[0.5555555555555556,\"#d8576b\"],[0.6666666666666666,\"#ed7953\"],[0.7777777777777778,\"#fb9f3a\"],[0.8888888888888888,\"#fdca26\"],[1.0,\"#f0f921\"]]}],\"heatmap\":[{\"type\":\"heatmap\",\"colorbar\":{\"outlinewidth\":0,\"ticks\":\"\"},\"colorscale\":[[0.0,\"#0d0887\"],[0.1111111111111111,\"#46039f\"],[0.2222222222222222,\"#7201a8\"],[0.3333333333333333,\"#9c179e\"],[0.4444444444444444,\"#bd3786\"],[0.5555555555555556,\"#d8576b\"],[0.6666666666666666,\"#ed7953\"],[0.7777777777777778,\"#fb9f3a\"],[0.8888888888888888,\"#fdca26\"],[1.0,\"#f0f921\"]]}],\"heatmapgl\":[{\"type\":\"heatmapgl\",\"colorbar\":{\"outlinewidth\":0,\"ticks\":\"\"},\"colorscale\":[[0.0,\"#0d0887\"],[0.1111111111111111,\"#46039f\"],[0.2222222222222222,\"#7201a8\"],[0.3333333333333333,\"#9c179e\"],[0.4444444444444444,\"#bd3786\"],[0.5555555555555556,\"#d8576b\"],[0.6666666666666666,\"#ed7953\"],[0.7777777777777778,\"#fb9f3a\"],[0.8888888888888888,\"#fdca26\"],[1.0,\"#f0f921\"]]}],\"contourcarpet\":[{\"type\":\"contourcarpet\",\"colorbar\":{\"outlinewidth\":0,\"ticks\":\"\"}}],\"contour\":[{\"type\":\"contour\",\"colorbar\":{\"outlinewidth\":0,\"ticks\":\"\"},\"colorscale\":[[0.0,\"#0d0887\"],[0.1111111111111111,\"#46039f\"],[0.2222222222222222,\"#7201a8\"],[0.3333333333333333,\"#9c179e\"],[0.4444444444444444,\"#bd3786\"],[0.5555555555555556,\"#d8576b\"],[0.6666666666666666,\"#ed7953\"],[0.7777777777777778,\"#fb9f3a\"],[0.8888888888888888,\"#fdca26\"],[1.0,\"#f0f921\"]]}],\"surface\":[{\"type\":\"surface\",\"colorbar\":{\"outlinewidth\":0,\"ticks\":\"\"},\"colorscale\":[[0.0,\"#0d0887\"],[0.1111111111111111,\"#46039f\"],[0.2222222222222222,\"#7201a8\"],[0.3333333333333333,\"#9c179e\"],[0.4444444444444444,\"#bd3786\"],[0.5555555555555556,\"#d8576b\"],[0.6666666666666666,\"#ed7953\"],[0.7777777777777778,\"#fb9f3a\"],[0.8888888888888888,\"#fdca26\"],[1.0,\"#f0f921\"]]}],\"mesh3d\":[{\"type\":\"mesh3d\",\"colorbar\":{\"outlinewidth\":0,\"ticks\":\"\"}}],\"scatter\":[{\"fillpattern\":{\"fillmode\":\"overlay\",\"size\":10,\"solidity\":0.2},\"type\":\"scatter\"}],\"parcoords\":[{\"type\":\"parcoords\",\"line\":{\"colorbar\":{\"outlinewidth\":0,\"ticks\":\"\"}}}],\"scatterpolargl\":[{\"type\":\"scatterpolargl\",\"marker\":{\"colorbar\":{\"outlinewidth\":0,\"ticks\":\"\"}}}],\"bar\":[{\"error_x\":{\"color\":\"#2a3f5f\"},\"error_y\":{\"color\":\"#2a3f5f\"},\"marker\":{\"line\":{\"color\":\"#E5ECF6\",\"width\":0.5},\"pattern\":{\"fillmode\":\"overlay\",\"size\":10,\"solidity\":0.2}},\"type\":\"bar\"}],\"scattergeo\":[{\"type\":\"scattergeo\",\"marker\":{\"colorbar\":{\"outlinewidth\":0,\"ticks\":\"\"}}}],\"scatterpolar\":[{\"type\":\"scatterpolar\",\"marker\":{\"colorbar\":{\"outlinewidth\":0,\"ticks\":\"\"}}}],\"histogram\":[{\"marker\":{\"pattern\":{\"fillmode\":\"overlay\",\"size\":10,\"solidity\":0.2}},\"type\":\"histogram\"}],\"scattergl\":[{\"type\":\"scattergl\",\"marker\":{\"colorbar\":{\"outlinewidth\":0,\"ticks\":\"\"}}}],\"scatter3d\":[{\"type\":\"scatter3d\",\"line\":{\"colorbar\":{\"outlinewidth\":0,\"ticks\":\"\"}},\"marker\":{\"colorbar\":{\"outlinewidth\":0,\"ticks\":\"\"}}}],\"scattermapbox\":[{\"type\":\"scattermapbox\",\"marker\":{\"colorbar\":{\"outlinewidth\":0,\"ticks\":\"\"}}}],\"scatterternary\":[{\"type\":\"scatterternary\",\"marker\":{\"colorbar\":{\"outlinewidth\":0,\"ticks\":\"\"}}}],\"scattercarpet\":[{\"type\":\"scattercarpet\",\"marker\":{\"colorbar\":{\"outlinewidth\":0,\"ticks\":\"\"}}}],\"carpet\":[{\"aaxis\":{\"endlinecolor\":\"#2a3f5f\",\"gridcolor\":\"white\",\"linecolor\":\"white\",\"minorgridcolor\":\"white\",\"startlinecolor\":\"#2a3f5f\"},\"baxis\":{\"endlinecolor\":\"#2a3f5f\",\"gridcolor\":\"white\",\"linecolor\":\"white\",\"minorgridcolor\":\"white\",\"startlinecolor\":\"#2a3f5f\"},\"type\":\"carpet\"}],\"table\":[{\"cells\":{\"fill\":{\"color\":\"#EBF0F8\"},\"line\":{\"color\":\"white\"}},\"header\":{\"fill\":{\"color\":\"#C8D4E3\"},\"line\":{\"color\":\"white\"}},\"type\":\"table\"}],\"barpolar\":[{\"marker\":{\"line\":{\"color\":\"#E5ECF6\",\"width\":0.5},\"pattern\":{\"fillmode\":\"overlay\",\"size\":10,\"solidity\":0.2}},\"type\":\"barpolar\"}],\"pie\":[{\"automargin\":true,\"type\":\"pie\"}]},\"layout\":{\"autotypenumbers\":\"strict\",\"colorway\":[\"#636efa\",\"#EF553B\",\"#00cc96\",\"#ab63fa\",\"#FFA15A\",\"#19d3f3\",\"#FF6692\",\"#B6E880\",\"#FF97FF\",\"#FECB52\"],\"font\":{\"color\":\"#2a3f5f\"},\"hovermode\":\"closest\",\"hoverlabel\":{\"align\":\"left\"},\"paper_bgcolor\":\"white\",\"plot_bgcolor\":\"#E5ECF6\",\"polar\":{\"bgcolor\":\"#E5ECF6\",\"angularaxis\":{\"gridcolor\":\"white\",\"linecolor\":\"white\",\"ticks\":\"\"},\"radialaxis\":{\"gridcolor\":\"white\",\"linecolor\":\"white\",\"ticks\":\"\"}},\"ternary\":{\"bgcolor\":\"#E5ECF6\",\"aaxis\":{\"gridcolor\":\"white\",\"linecolor\":\"white\",\"ticks\":\"\"},\"baxis\":{\"gridcolor\":\"white\",\"linecolor\":\"white\",\"ticks\":\"\"},\"caxis\":{\"gridcolor\":\"white\",\"linecolor\":\"white\",\"ticks\":\"\"}},\"coloraxis\":{\"colorbar\":{\"outlinewidth\":0,\"ticks\":\"\"}},\"colorscale\":{\"sequential\":[[0.0,\"#0d0887\"],[0.1111111111111111,\"#46039f\"],[0.2222222222222222,\"#7201a8\"],[0.3333333333333333,\"#9c179e\"],[0.4444444444444444,\"#bd3786\"],[0.5555555555555556,\"#d8576b\"],[0.6666666666666666,\"#ed7953\"],[0.7777777777777778,\"#fb9f3a\"],[0.8888888888888888,\"#fdca26\"],[1.0,\"#f0f921\"]],\"sequentialminus\":[[0.0,\"#0d0887\"],[0.1111111111111111,\"#46039f\"],[0.2222222222222222,\"#7201a8\"],[0.3333333333333333,\"#9c179e\"],[0.4444444444444444,\"#bd3786\"],[0.5555555555555556,\"#d8576b\"],[0.6666666666666666,\"#ed7953\"],[0.7777777777777778,\"#fb9f3a\"],[0.8888888888888888,\"#fdca26\"],[1.0,\"#f0f921\"]],\"diverging\":[[0,\"#8e0152\"],[0.1,\"#c51b7d\"],[0.2,\"#de77ae\"],[0.3,\"#f1b6da\"],[0.4,\"#fde0ef\"],[0.5,\"#f7f7f7\"],[0.6,\"#e6f5d0\"],[0.7,\"#b8e186\"],[0.8,\"#7fbc41\"],[0.9,\"#4d9221\"],[1,\"#276419\"]]},\"xaxis\":{\"gridcolor\":\"white\",\"linecolor\":\"white\",\"ticks\":\"\",\"title\":{\"standoff\":15},\"zerolinecolor\":\"white\",\"automargin\":true,\"zerolinewidth\":2},\"yaxis\":{\"gridcolor\":\"white\",\"linecolor\":\"white\",\"ticks\":\"\",\"title\":{\"standoff\":15},\"zerolinecolor\":\"white\",\"automargin\":true,\"zerolinewidth\":2},\"scene\":{\"xaxis\":{\"backgroundcolor\":\"#E5ECF6\",\"gridcolor\":\"white\",\"linecolor\":\"white\",\"showbackground\":true,\"ticks\":\"\",\"zerolinecolor\":\"white\",\"gridwidth\":2},\"yaxis\":{\"backgroundcolor\":\"#E5ECF6\",\"gridcolor\":\"white\",\"linecolor\":\"white\",\"showbackground\":true,\"ticks\":\"\",\"zerolinecolor\":\"white\",\"gridwidth\":2},\"zaxis\":{\"backgroundcolor\":\"#E5ECF6\",\"gridcolor\":\"white\",\"linecolor\":\"white\",\"showbackground\":true,\"ticks\":\"\",\"zerolinecolor\":\"white\",\"gridwidth\":2}},\"shapedefaults\":{\"line\":{\"color\":\"#2a3f5f\"}},\"annotationdefaults\":{\"arrowcolor\":\"#2a3f5f\",\"arrowhead\":0,\"arrowwidth\":1},\"geo\":{\"bgcolor\":\"white\",\"landcolor\":\"#E5ECF6\",\"subunitcolor\":\"white\",\"showland\":true,\"showlakes\":true,\"lakecolor\":\"white\"},\"title\":{\"x\":0.05},\"mapbox\":{\"style\":\"light\"}}},\"xaxis\":{\"anchor\":\"y\",\"domain\":[0.0,1.0],\"title\":{\"text\":\"Number of Substrate Categories\",\"font\":{\"family\":\"Arial Black\"}},\"tickfont\":{\"family\":\"Arial Black\"}},\"yaxis\":{\"anchor\":\"x\",\"domain\":[0.0,1.0],\"title\":{\"text\":\"Average Accuracy\",\"font\":{\"family\":\"Arial Black\"}},\"tickfont\":{\"family\":\"Arial Black\"}},\"legend\":{\"title\":{\"text\":\"Known or Binary Model\"},\"tracegroupgap\":0},\"title\":{\"text\":\"Comparing subFinder without Others with a Known-Unknown Model\",\"font\":{\"family\":\"Arial Black\"}},\"font\":{\"family\":\"Arial Black\"}},                        {\"responsive\": true}                    ).then(function(){\n",
       "                            \n",
       "var gd = document.getElementById('0555b0d9-1c47-45eb-bf98-b9528b42d712');\n",
       "var x = new MutationObserver(function (mutations, observer) {{\n",
       "        var display = window.getComputedStyle(gd).display;\n",
       "        if (!display || display === 'none') {{\n",
       "            console.log([gd, 'removed!']);\n",
       "            Plotly.purge(gd);\n",
       "            observer.disconnect();\n",
       "        }}\n",
       "}});\n",
       "\n",
       "// Listen for the removal of the full notebook cells\n",
       "var notebookContainer = gd.closest('#notebook-container');\n",
       "if (notebookContainer) {{\n",
       "    x.observe(notebookContainer, {childList: true});\n",
       "}}\n",
       "\n",
       "// Listen for the clearing of the current output cell\n",
       "var outputEl = gd.closest('.output');\n",
       "if (outputEl) {{\n",
       "    x.observe(outputEl, {childList: true});\n",
       "}}\n",
       "\n",
       "                        })                };                });            </script>        </div>"
      ]
     },
     "metadata": {},
     "output_type": "display_data"
    }
   ],
   "source": [
    "fig = px.line(known_df_melt, x=\"num_substrates\", y=\"avg_accuracy\", color = \"model_type\",\n",
    "              markers=True, \n",
    "#               title=\"Avg ten fold cross validation accuracy for Word2Vec + BRF method with and without the Others category\", \n",
    "             labels={\n",
    "                     \"num_substrates\": \"Number of Substrate Categories\",\n",
    "                     \"avg_accuracy\": \"Average Accuracy\",\n",
    "                     \"model_type\": \"Known or Binary Model\"\n",
    "                 }, \n",
    "             title=\"Comparing subFinder without Others with a Known-Unknown Model\")\n",
    "fig.update_traces(line=dict(width=4), marker=dict(size=8))\n",
    "# fig.write_html(\"results_by_k_new_sup_new_unsup_for_word2vec_sg.html\")\n",
    "fig.update_yaxes(tickfont_family=\"Arial Black\", title_font_family=\"Arial Black\")\n",
    "fig.update_xaxes(tickfont_family=\"Arial Black\", title_font_family=\"Arial Black\")\n",
    "fig.update_layout(\n",
    "    font_family=\"Arial Black\",\n",
    "#     font_color=\"blue\",\n",
    "    title_font_family=\"Arial Black\")\n",
    "fig.write_html(\"Known_MOdel_with_Binary_Model.html\")\n",
    "#     title_font_color=\"red\",\n",
    "#     legend_title_font_color=\"green\"\n",
    "fig.show()"
   ]
  }
 ],
 "metadata": {
  "kernelspec": {
   "display_name": "newone1",
   "language": "python",
   "name": "newone1"
  },
  "language_info": {
   "codemirror_mode": {
    "name": "ipython",
    "version": 3
   },
   "file_extension": ".py",
   "mimetype": "text/x-python",
   "name": "python",
   "nbconvert_exporter": "python",
   "pygments_lexer": "ipython3",
   "version": "3.9.12"
  }
 },
 "nbformat": 4,
 "nbformat_minor": 5
}
