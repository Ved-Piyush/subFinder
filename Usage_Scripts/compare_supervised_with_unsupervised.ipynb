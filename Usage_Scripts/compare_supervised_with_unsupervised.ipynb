{
 "cells": [
  {
   "cell_type": "code",
   "execution_count": 3,
   "id": "224e7515",
   "metadata": {},
   "outputs": [],
   "source": [
    "import pandas as pd\n",
    "import numpy as np"
   ]
  },
  {
   "cell_type": "code",
   "execution_count": 4,
   "id": "bfc31ef5",
   "metadata": {},
   "outputs": [],
   "source": [
    "new_path = r\"D:\\subFinder\\Data\\Supervised_Sequences\\updated_data_filtered.csv\""
   ]
  },
  {
   "cell_type": "code",
   "execution_count": 6,
   "id": "a60f3fe7",
   "metadata": {},
   "outputs": [
    {
     "data": {
      "text/plain": [
       "(411, 4)"
      ]
     },
     "execution_count": 6,
     "metadata": {},
     "output_type": "execute_result"
    }
   ],
   "source": [
    "data = pd.read_csv(new_path)\n",
    "\n",
    "# degrad_synth.head()\n",
    "\n",
    "data.shape\n"
   ]
  },
  {
   "cell_type": "code",
   "execution_count": 7,
   "id": "dcf4ae49",
   "metadata": {},
   "outputs": [
    {
     "data": {
      "text/html": [
       "<div>\n",
       "<style scoped>\n",
       "    .dataframe tbody tr th:only-of-type {\n",
       "        vertical-align: middle;\n",
       "    }\n",
       "\n",
       "    .dataframe tbody tr th {\n",
       "        vertical-align: top;\n",
       "    }\n",
       "\n",
       "    .dataframe thead th {\n",
       "        text-align: right;\n",
       "    }\n",
       "</style>\n",
       "<table border=\"1\" class=\"dataframe\">\n",
       "  <thead>\n",
       "    <tr style=\"text-align: right;\">\n",
       "      <th></th>\n",
       "      <th>PUL ID</th>\n",
       "      <th>high_level_substr</th>\n",
       "      <th>PULid</th>\n",
       "      <th>sig_gene_seq</th>\n",
       "    </tr>\n",
       "  </thead>\n",
       "  <tbody>\n",
       "    <tr>\n",
       "      <th>0</th>\n",
       "      <td>PUL0225</td>\n",
       "      <td>agarose</td>\n",
       "      <td>PUL0225</td>\n",
       "      <td>HTH_8,GH16,GH117|GH117,GH2,GH2,null,null,null,...</td>\n",
       "    </tr>\n",
       "    <tr>\n",
       "      <th>1</th>\n",
       "      <td>PUL0459</td>\n",
       "      <td>agarose</td>\n",
       "      <td>PUL0459</td>\n",
       "      <td>GH2,2.A.21,null,null,3.D.1,null,GH96,GH96,null...</td>\n",
       "    </tr>\n",
       "    <tr>\n",
       "      <th>2</th>\n",
       "      <td>PUL0607</td>\n",
       "      <td>agarose</td>\n",
       "      <td>PUL0607</td>\n",
       "      <td>GH2,GH141,GH105|GH154,null,null,null,1.B.14,nu...</td>\n",
       "    </tr>\n",
       "    <tr>\n",
       "      <th>3</th>\n",
       "      <td>PUL0651</td>\n",
       "      <td>agarose</td>\n",
       "      <td>PUL0651</td>\n",
       "      <td>GH16_16|CBM6|CBM6,3.D.1,GH50,null,null,null,nu...</td>\n",
       "    </tr>\n",
       "    <tr>\n",
       "      <th>4</th>\n",
       "      <td>PUL0652</td>\n",
       "      <td>agarose</td>\n",
       "      <td>PUL0652</td>\n",
       "      <td>GH2,2.A.21,null,null,3.D.1,null,GH96,GH96,null...</td>\n",
       "    </tr>\n",
       "  </tbody>\n",
       "</table>\n",
       "</div>"
      ],
      "text/plain": [
       "    PUL ID high_level_substr    PULid  \\\n",
       "0  PUL0225           agarose  PUL0225   \n",
       "1  PUL0459           agarose  PUL0459   \n",
       "2  PUL0607           agarose  PUL0607   \n",
       "3  PUL0651           agarose  PUL0651   \n",
       "4  PUL0652           agarose  PUL0652   \n",
       "\n",
       "                                        sig_gene_seq  \n",
       "0  HTH_8,GH16,GH117|GH117,GH2,GH2,null,null,null,...  \n",
       "1  GH2,2.A.21,null,null,3.D.1,null,GH96,GH96,null...  \n",
       "2  GH2,GH141,GH105|GH154,null,null,null,1.B.14,nu...  \n",
       "3  GH16_16|CBM6|CBM6,3.D.1,GH50,null,null,null,nu...  \n",
       "4  GH2,2.A.21,null,null,3.D.1,null,GH96,GH96,null...  "
      ]
     },
     "execution_count": 7,
     "metadata": {},
     "output_type": "execute_result"
    }
   ],
   "source": [
    "\n",
    "# load the data - new data that was provided\n",
    "# data = pd.read_csv(r\"pul_seq_low_high_substr_year_corrected.csv\")\n",
    "\n",
    "data.head()\n"
   ]
  },
  {
   "cell_type": "code",
   "execution_count": 8,
   "id": "169b6ea9",
   "metadata": {},
   "outputs": [],
   "source": [
    "sup_genes = np.unique([gene for seq in data[\"sig_gene_seq\"] for gene in seq.replace(\"|\", \",\").split(\",\")])"
   ]
  },
  {
   "cell_type": "code",
   "execution_count": 9,
   "id": "f8e1b33a",
   "metadata": {},
   "outputs": [
    {
     "data": {
      "text/plain": [
       "353"
      ]
     },
     "execution_count": 9,
     "metadata": {},
     "output_type": "execute_result"
    }
   ],
   "source": [
    "len(sup_genes)"
   ]
  },
  {
   "cell_type": "code",
   "execution_count": 10,
   "id": "95f95010",
   "metadata": {},
   "outputs": [],
   "source": [
    "unsupervised_data = pd.read_csv(r\"D:\\subFinder\\Data\\Output\\Unsupervised_10_12\\all_unsupervised.csv\")"
   ]
  },
  {
   "cell_type": "code",
   "execution_count": 11,
   "id": "d18b2208",
   "metadata": {},
   "outputs": [
    {
     "data": {
      "text/plain": [
       "(999923, 2)"
      ]
     },
     "execution_count": 11,
     "metadata": {},
     "output_type": "execute_result"
    }
   ],
   "source": [
    "unsupervised_data.shape"
   ]
  },
  {
   "cell_type": "code",
   "execution_count": 12,
   "id": "1e844fd5",
   "metadata": {},
   "outputs": [],
   "source": [
    "unsupervised_data = unsupervised_data.drop_duplicates()"
   ]
  },
  {
   "cell_type": "code",
   "execution_count": 8,
   "id": "862771f1",
   "metadata": {},
   "outputs": [],
   "source": [
    "# unsup_genes = np.unique([gene for seq in unsupervised_data[\"sequence\"].values for gene in seq.split(\",\")])"
   ]
  },
  {
   "cell_type": "code",
   "execution_count": 13,
   "id": "d0821225",
   "metadata": {},
   "outputs": [],
   "source": [
    "unsup_genes = np.unique([gene for seq in unsupervised_data[\"sequence\"].values for gene in seq.replace(\"|\", \",\").split(\",\")])"
   ]
  },
  {
   "cell_type": "code",
   "execution_count": 14,
   "id": "628ababb",
   "metadata": {},
   "outputs": [
    {
     "data": {
      "text/plain": [
       "1505"
      ]
     },
     "execution_count": 14,
     "metadata": {},
     "output_type": "execute_result"
    }
   ],
   "source": [
    "len(unsup_genes)"
   ]
  },
  {
   "cell_type": "code",
   "execution_count": 15,
   "id": "f1181967",
   "metadata": {},
   "outputs": [
    {
     "data": {
      "text/plain": [
       "1155"
      ]
     },
     "execution_count": 15,
     "metadata": {},
     "output_type": "execute_result"
    }
   ],
   "source": [
    "len(set(unsup_genes).difference(sup_genes))"
   ]
  },
  {
   "cell_type": "code",
   "execution_count": 16,
   "id": "6ec4bdca",
   "metadata": {},
   "outputs": [
    {
     "data": {
      "text/plain": [
       "350"
      ]
     },
     "execution_count": 16,
     "metadata": {},
     "output_type": "execute_result"
    }
   ],
   "source": [
    "len(set(unsup_genes).intersection(sup_genes))"
   ]
  },
  {
   "cell_type": "code",
   "execution_count": 17,
   "id": "8356b11b",
   "metadata": {},
   "outputs": [
    {
     "data": {
      "text/plain": [
       "1087"
      ]
     },
     "execution_count": 17,
     "metadata": {},
     "output_type": "execute_result"
    }
   ],
   "source": [
    "1433- 346"
   ]
  },
  {
   "cell_type": "code",
   "execution_count": 18,
   "id": "be81a1d8",
   "metadata": {},
   "outputs": [],
   "source": [
    "from matplotlib_venn import venn2"
   ]
  },
  {
   "cell_type": "code",
   "execution_count": 19,
   "id": "d4ae0e13",
   "metadata": {},
   "outputs": [],
   "source": [
    "import matplotlib.pyplot as plt"
   ]
  },
  {
   "cell_type": "code",
   "execution_count": 20,
   "id": "4db2190e",
   "metadata": {},
   "outputs": [],
   "source": [
    "plt.rcParams[\"font.weight\"] = \"bold\""
   ]
  },
  {
   "cell_type": "code",
   "execution_count": 21,
   "id": "6d057eb0",
   "metadata": {},
   "outputs": [
    {
     "data": {
      "image/png": "[encoded data removed]",
      "text/plain": [
       "<Figure size 504x504 with 1 Axes>"
      ]
     },
     "metadata": {},
     "output_type": "display_data"
    }
   ],
   "source": [
    "# Use the venn2 function\n",
    "plt.figure(figsize = (7,7))\n",
    "venn2(subsets = (1505, 353, 350), set_labels = ('Unsupervised Sequences', 'Supervised Sequences'))\n",
    "plt.title(\"Number of Genes for Supervised & Unsupervised Sequences\", weight = \"bold\", fontsize=14)\n",
    "plt.show()"
   ]
  },
  {
   "cell_type": "code",
   "execution_count": 11,
   "id": "36e1a627",
   "metadata": {},
   "outputs": [],
   "source": [
    "uhgg_data = pd.read_csv(r\"D:\\subFinder\\Data\\Output\\Unsupervised\\output_UHGG.csv\")"
   ]
  },
  {
   "cell_type": "code",
   "execution_count": 12,
   "id": "a2f36717",
   "metadata": {},
   "outputs": [],
   "source": [
    "uhgg_genes = np.unique([gene for seq in uhgg_data[\"sequence\"].values for gene in seq.split(\",\")])"
   ]
  },
  {
   "cell_type": "code",
   "execution_count": 13,
   "id": "810d42da",
   "metadata": {},
   "outputs": [
    {
     "data": {
      "text/plain": [
       "2415"
      ]
     },
     "execution_count": 13,
     "metadata": {},
     "output_type": "execute_result"
    }
   ],
   "source": [
    "len(uhgg_genes)"
   ]
  },
  {
   "cell_type": "code",
   "execution_count": 19,
   "id": "e853344a",
   "metadata": {},
   "outputs": [],
   "source": [
    "# uhgg_genes = np.unique([gene for seq in uhgg_data[\"sequence\"].values for gene in seq.replace(\"|\", \",\").split(\",\")])"
   ]
  },
  {
   "cell_type": "code",
   "execution_count": 20,
   "id": "73c15ec0",
   "metadata": {},
   "outputs": [
    {
     "data": {
      "text/plain": [
       "840"
      ]
     },
     "execution_count": 20,
     "metadata": {},
     "output_type": "execute_result"
    }
   ],
   "source": [
    "len(set(uhgg_genes).difference(sup_genes))"
   ]
  },
  {
   "cell_type": "code",
   "execution_count": null,
   "id": "d1097020",
   "metadata": {},
   "outputs": [],
   "source": [
    "len(set(uhgg_genes).difference(sup_genes))"
   ]
  },
  {
   "cell_type": "code",
   "execution_count": 15,
   "id": "eb985295",
   "metadata": {},
   "outputs": [
    {
     "data": {
      "text/plain": [
       "276"
      ]
     },
     "execution_count": 15,
     "metadata": {},
     "output_type": "execute_result"
    }
   ],
   "source": [
    "len(set(sup_genes).difference(unsup_genes))"
   ]
  }
 ],
 "metadata": {
  "kernelspec": {
   "display_name": "newone1",
   "language": "python",
   "name": "newone1"
  },
  "language_info": {
   "codemirror_mode": {
    "name": "ipython",
    "version": 3
   },
   "file_extension": ".py",
   "mimetype": "text/x-python",
   "name": "python",
   "nbconvert_exporter": "python",
   "pygments_lexer": "ipython3",
   "version": "3.9.12"
  }
 },
 "nbformat": 4,
 "nbformat_minor": 5
}
