{
 "cells": [
  {
   "cell_type": "code",
   "execution_count": 92,
   "id": "913479d0",
   "metadata": {},
   "outputs": [],
   "source": [
    "import pandas as pd"
   ]
  },
  {
   "cell_type": "code",
   "execution_count": 93,
   "id": "9bf1b689",
   "metadata": {},
   "outputs": [],
   "source": [
    "import os"
   ]
  },
  {
   "cell_type": "code",
   "execution_count": 94,
   "id": "9f99cbf7",
   "metadata": {},
   "outputs": [],
   "source": [
    "import numpy as np"
   ]
  },
  {
   "cell_type": "code",
   "execution_count": 95,
   "id": "67353c4a",
   "metadata": {},
   "outputs": [],
   "source": [
    "os.chdir(r'D:\\subFinder')"
   ]
  },
  {
   "cell_type": "code",
   "execution_count": 96,
   "id": "3bb2c028",
   "metadata": {},
   "outputs": [],
   "source": [
    "# read in the PUL data\n",
    "pul_data = pd.read_csv(r\"Data/Supervised_Sequences/updated_data_filtered.csv\")"
   ]
  },
  {
   "cell_type": "code",
   "execution_count": 97,
   "id": "8cd9f585",
   "metadata": {},
   "outputs": [],
   "source": [
    "pul_data = pul_data.sort_values(\"PULid\")"
   ]
  },
  {
   "cell_type": "code",
   "execution_count": 98,
   "id": "61e3a06c",
   "metadata": {},
   "outputs": [],
   "source": [
    "pul_data = pul_data.reset_index(drop = True)"
   ]
  },
  {
   "cell_type": "code",
   "execution_count": 99,
   "id": "02c761d6",
   "metadata": {},
   "outputs": [],
   "source": [
    "# pul_data"
   ]
  },
  {
   "cell_type": "code",
   "execution_count": 100,
   "id": "71622b9d",
   "metadata": {},
   "outputs": [],
   "source": [
    "path = r\"D:\\subFinder\\IFDP_sub\\PUL\\substrate_out\""
   ]
  },
  {
   "cell_type": "code",
   "execution_count": 101,
   "id": "eacb694e",
   "metadata": {},
   "outputs": [],
   "source": [
    "catch = []\n",
    "catch_no_preds = []\n",
    "for item in os.listdir(path):\n",
    "    pulid = item.split(\".\")[0]\n",
    "    df = pd.read_csv(path + \"\\\\\" + item)\n",
    "#     print(df.shape)\n",
    "#     df = df.sort_values(df.columns[1], ascending = False)\n",
    "    max_abundance = df[\"Relative abundance\"].max()\n",
    "    if np.isnan(max_abundance):\n",
    "        catch_no_preds.append(pulid)  \n",
    "#     print(max_abundance)\n",
    "    pred_substrates = df[df[\"Relative abundance\"] == max_abundance]\n",
    "    sub_preds = pred_substrates.iloc[:,0]\n",
    "    sub_preds = pd.DataFrame(sub_preds)\n",
    "    sub_preds[\"PULid\"] = pulid\n",
    "    catch.append(sub_preds)"
   ]
  },
  {
   "cell_type": "code",
   "execution_count": 102,
   "id": "f127b1f4",
   "metadata": {},
   "outputs": [
    {
     "data": {
      "text/plain": [
       "105"
      ]
     },
     "execution_count": 102,
     "metadata": {},
     "output_type": "execute_result"
    }
   ],
   "source": [
    "len(catch_no_preds)"
   ]
  },
  {
   "cell_type": "code",
   "execution_count": 103,
   "id": "8d12734f",
   "metadata": {},
   "outputs": [],
   "source": [
    "catch_df = pd.concat(catch)"
   ]
  },
  {
   "cell_type": "code",
   "execution_count": 104,
   "id": "00609ed5",
   "metadata": {},
   "outputs": [
    {
     "data": {
      "text/html": [
       "<div>\n",
       "<style scoped>\n",
       "    .dataframe tbody tr th:only-of-type {\n",
       "        vertical-align: middle;\n",
       "    }\n",
       "\n",
       "    .dataframe tbody tr th {\n",
       "        vertical-align: top;\n",
       "    }\n",
       "\n",
       "    .dataframe thead th {\n",
       "        text-align: right;\n",
       "    }\n",
       "</style>\n",
       "<table border=\"1\" class=\"dataframe\">\n",
       "  <thead>\n",
       "    <tr style=\"text-align: right;\">\n",
       "      <th></th>\n",
       "      <th>Unnamed: 0</th>\n",
       "      <th>PULid</th>\n",
       "    </tr>\n",
       "  </thead>\n",
       "  <tbody>\n",
       "    <tr>\n",
       "      <th>16</th>\n",
       "      <td>Arabinoxylan</td>\n",
       "      <td>PUL</td>\n",
       "    </tr>\n",
       "    <tr>\n",
       "      <th>0</th>\n",
       "      <td>Xanthan</td>\n",
       "      <td>PUL0001</td>\n",
       "    </tr>\n",
       "    <tr>\n",
       "      <th>0</th>\n",
       "      <td>Xanthan</td>\n",
       "      <td>PUL0002</td>\n",
       "    </tr>\n",
       "    <tr>\n",
       "      <th>1</th>\n",
       "      <td>Beta-glucan</td>\n",
       "      <td>PUL0002</td>\n",
       "    </tr>\n",
       "    <tr>\n",
       "      <th>2</th>\n",
       "      <td>Cellulose</td>\n",
       "      <td>PUL0002</td>\n",
       "    </tr>\n",
       "    <tr>\n",
       "      <th>...</th>\n",
       "      <td>...</td>\n",
       "      <td>...</td>\n",
       "    </tr>\n",
       "    <tr>\n",
       "      <th>15</th>\n",
       "      <td>Xylan</td>\n",
       "      <td>PUL0599</td>\n",
       "    </tr>\n",
       "    <tr>\n",
       "      <th>16</th>\n",
       "      <td>Arabinoxylan</td>\n",
       "      <td>PUL0599</td>\n",
       "    </tr>\n",
       "    <tr>\n",
       "      <th>17</th>\n",
       "      <td>Resistant starch</td>\n",
       "      <td>PUL0600</td>\n",
       "    </tr>\n",
       "    <tr>\n",
       "      <th>15</th>\n",
       "      <td>Xylan</td>\n",
       "      <td>PUL0602</td>\n",
       "    </tr>\n",
       "    <tr>\n",
       "      <th>16</th>\n",
       "      <td>Arabinoxylan</td>\n",
       "      <td>PUL0602</td>\n",
       "    </tr>\n",
       "  </tbody>\n",
       "</table>\n",
       "<p>1353 rows × 2 columns</p>\n",
       "</div>"
      ],
      "text/plain": [
       "          Unnamed: 0    PULid\n",
       "16      Arabinoxylan      PUL\n",
       "0           Xanthan   PUL0001\n",
       "0           Xanthan   PUL0002\n",
       "1        Beta-glucan  PUL0002\n",
       "2          Cellulose  PUL0002\n",
       "..               ...      ...\n",
       "15             Xylan  PUL0599\n",
       "16      Arabinoxylan  PUL0599\n",
       "17  Resistant starch  PUL0600\n",
       "15             Xylan  PUL0602\n",
       "16      Arabinoxylan  PUL0602\n",
       "\n",
       "[1353 rows x 2 columns]"
      ]
     },
     "execution_count": 104,
     "metadata": {},
     "output_type": "execute_result"
    }
   ],
   "source": [
    "catch_df"
   ]
  },
  {
   "cell_type": "code",
   "execution_count": 105,
   "id": "8e20980b",
   "metadata": {},
   "outputs": [],
   "source": [
    "catch_df.columns = [\"IFDP_high_level_substr\", \"PULid\"]"
   ]
  },
  {
   "cell_type": "code",
   "execution_count": 106,
   "id": "88c8ffb9",
   "metadata": {},
   "outputs": [],
   "source": [
    "catch_df[\"IFDP_high_level_substr\"] = catch_df[\"IFDP_high_level_substr\"].str.lower()"
   ]
  },
  {
   "cell_type": "code",
   "execution_count": 107,
   "id": "45c679d4",
   "metadata": {},
   "outputs": [
    {
     "data": {
      "text/plain": [
       "0.7177615571776156"
      ]
     },
     "execution_count": 107,
     "metadata": {},
     "output_type": "execute_result"
    }
   ],
   "source": [
    "len(set(pul_data[\"PULid\"]).intersection(catch_df[\"PULid\"]))/pul_data[\"PULid\"].nunique()"
   ]
  },
  {
   "cell_type": "code",
   "execution_count": 108,
   "id": "c241c40d",
   "metadata": {},
   "outputs": [
    {
     "data": {
      "text/plain": [
       "116"
      ]
     },
     "execution_count": 108,
     "metadata": {},
     "output_type": "execute_result"
    }
   ],
   "source": [
    "len(set(pul_data[\"PULid\"]).difference(catch_df[\"PULid\"]))"
   ]
  },
  {
   "cell_type": "code",
   "execution_count": 109,
   "id": "1085ba3a",
   "metadata": {},
   "outputs": [],
   "source": [
    "# catch_df[\"IFDP_high_level_substr\"].value_counts()"
   ]
  },
  {
   "cell_type": "code",
   "execution_count": 110,
   "id": "d20fca85",
   "metadata": {},
   "outputs": [],
   "source": [
    "## read in the substrate mapping file\n",
    "sub_mapping = pd.read_excel(r\"D:\\subFinder\\IFDP_sub\\substrate_mapping_table_IFDP_dbCAN.xlsx\")"
   ]
  },
  {
   "cell_type": "code",
   "execution_count": 111,
   "id": "1d5c5221",
   "metadata": {},
   "outputs": [],
   "source": [
    "sub_mapping[\"Substrate_dbCAN_seq_dbCAN_PUL_approach\"] = sub_mapping[\"Substrate_dbCAN_seq_dbCAN_PUL_approach\"].map(lambda x: str(x).split(\"/\")[0])"
   ]
  },
  {
   "cell_type": "code",
   "execution_count": 112,
   "id": "a28a9aa4",
   "metadata": {},
   "outputs": [],
   "source": [
    "sub_mapping[\"Substrate_IFDP\"] = sub_mapping[\"Substrate_IFDP\"].str.lower()"
   ]
  },
  {
   "cell_type": "code",
   "execution_count": 113,
   "id": "428521f0",
   "metadata": {},
   "outputs": [],
   "source": [
    "sub_mapping = sub_mapping[sub_mapping[\"Substrate_dbCAN_seq_dbCAN_PUL_approach\"] != \"nan\"]"
   ]
  },
  {
   "cell_type": "code",
   "execution_count": 114,
   "id": "963d2043",
   "metadata": {},
   "outputs": [],
   "source": [
    "sub_mapping = sub_mapping.iloc[:,[0,2]]"
   ]
  },
  {
   "cell_type": "code",
   "execution_count": 115,
   "id": "92aa9db0",
   "metadata": {},
   "outputs": [],
   "source": [
    "pul_data = pul_data.replace(['beta-mannan', 'alpha-mannan'], 'mannan')"
   ]
  },
  {
   "cell_type": "code",
   "execution_count": 116,
   "id": "205f8de0",
   "metadata": {},
   "outputs": [],
   "source": [
    "sub_mapping = sub_mapping.replace(['alpha-mannan&beta-mannan'], 'mannan')"
   ]
  },
  {
   "cell_type": "code",
   "execution_count": 117,
   "id": "2bafac2f",
   "metadata": {},
   "outputs": [],
   "source": [
    "catch_df = catch_df.merge(sub_mapping, left_on = \"IFDP_high_level_substr\", right_on = \"Substrate_IFDP\", how = \"inner\")"
   ]
  },
  {
   "cell_type": "code",
   "execution_count": 118,
   "id": "6e6219ad",
   "metadata": {},
   "outputs": [
    {
     "data": {
      "text/html": [
       "<div>\n",
       "<style scoped>\n",
       "    .dataframe tbody tr th:only-of-type {\n",
       "        vertical-align: middle;\n",
       "    }\n",
       "\n",
       "    .dataframe tbody tr th {\n",
       "        vertical-align: top;\n",
       "    }\n",
       "\n",
       "    .dataframe thead th {\n",
       "        text-align: right;\n",
       "    }\n",
       "</style>\n",
       "<table border=\"1\" class=\"dataframe\">\n",
       "  <thead>\n",
       "    <tr style=\"text-align: right;\">\n",
       "      <th></th>\n",
       "      <th>IFDP_high_level_substr</th>\n",
       "      <th>PULid</th>\n",
       "      <th>Substrate_dbCAN_seq_dbCAN_PUL_approach</th>\n",
       "      <th>Substrate_IFDP</th>\n",
       "    </tr>\n",
       "  </thead>\n",
       "  <tbody>\n",
       "    <tr>\n",
       "      <th>0</th>\n",
       "      <td>arabinoxylan</td>\n",
       "      <td>PUL</td>\n",
       "      <td>arabinoxylan</td>\n",
       "      <td>arabinoxylan</td>\n",
       "    </tr>\n",
       "    <tr>\n",
       "      <th>1</th>\n",
       "      <td>arabinoxylan</td>\n",
       "      <td>PUL0003</td>\n",
       "      <td>arabinoxylan</td>\n",
       "      <td>arabinoxylan</td>\n",
       "    </tr>\n",
       "    <tr>\n",
       "      <th>2</th>\n",
       "      <td>arabinoxylan</td>\n",
       "      <td>PUL0006</td>\n",
       "      <td>arabinoxylan</td>\n",
       "      <td>arabinoxylan</td>\n",
       "    </tr>\n",
       "    <tr>\n",
       "      <th>3</th>\n",
       "      <td>arabinoxylan</td>\n",
       "      <td>PUL0010</td>\n",
       "      <td>arabinoxylan</td>\n",
       "      <td>arabinoxylan</td>\n",
       "    </tr>\n",
       "    <tr>\n",
       "      <th>4</th>\n",
       "      <td>arabinoxylan</td>\n",
       "      <td>PUL0013</td>\n",
       "      <td>arabinoxylan</td>\n",
       "      <td>arabinoxylan</td>\n",
       "    </tr>\n",
       "    <tr>\n",
       "      <th>...</th>\n",
       "      <td>...</td>\n",
       "      <td>...</td>\n",
       "      <td>...</td>\n",
       "      <td>...</td>\n",
       "    </tr>\n",
       "    <tr>\n",
       "      <th>1121</th>\n",
       "      <td>arabinan</td>\n",
       "      <td>PUL0532</td>\n",
       "      <td>arabinan</td>\n",
       "      <td>arabinan</td>\n",
       "    </tr>\n",
       "    <tr>\n",
       "      <th>1122</th>\n",
       "      <td>arabinan</td>\n",
       "      <td>PUL0541</td>\n",
       "      <td>arabinan</td>\n",
       "      <td>arabinan</td>\n",
       "    </tr>\n",
       "    <tr>\n",
       "      <th>1123</th>\n",
       "      <td>arabinan</td>\n",
       "      <td>PUL0546</td>\n",
       "      <td>arabinan</td>\n",
       "      <td>arabinan</td>\n",
       "    </tr>\n",
       "    <tr>\n",
       "      <th>1124</th>\n",
       "      <td>arabinan</td>\n",
       "      <td>PUL0563</td>\n",
       "      <td>arabinan</td>\n",
       "      <td>arabinan</td>\n",
       "    </tr>\n",
       "    <tr>\n",
       "      <th>1125</th>\n",
       "      <td>arabinan</td>\n",
       "      <td>PUL0594</td>\n",
       "      <td>arabinan</td>\n",
       "      <td>arabinan</td>\n",
       "    </tr>\n",
       "  </tbody>\n",
       "</table>\n",
       "<p>1126 rows × 4 columns</p>\n",
       "</div>"
      ],
      "text/plain": [
       "     IFDP_high_level_substr    PULid Substrate_dbCAN_seq_dbCAN_PUL_approach  \\\n",
       "0              arabinoxylan      PUL                           arabinoxylan   \n",
       "1              arabinoxylan  PUL0003                           arabinoxylan   \n",
       "2              arabinoxylan  PUL0006                           arabinoxylan   \n",
       "3              arabinoxylan  PUL0010                           arabinoxylan   \n",
       "4              arabinoxylan  PUL0013                           arabinoxylan   \n",
       "...                     ...      ...                                    ...   \n",
       "1121               arabinan  PUL0532                               arabinan   \n",
       "1122               arabinan  PUL0541                               arabinan   \n",
       "1123               arabinan  PUL0546                               arabinan   \n",
       "1124               arabinan  PUL0563                               arabinan   \n",
       "1125               arabinan  PUL0594                               arabinan   \n",
       "\n",
       "     Substrate_IFDP  \n",
       "0      arabinoxylan  \n",
       "1      arabinoxylan  \n",
       "2      arabinoxylan  \n",
       "3      arabinoxylan  \n",
       "4      arabinoxylan  \n",
       "...             ...  \n",
       "1121       arabinan  \n",
       "1122       arabinan  \n",
       "1123       arabinan  \n",
       "1124       arabinan  \n",
       "1125       arabinan  \n",
       "\n",
       "[1126 rows x 4 columns]"
      ]
     },
     "execution_count": 118,
     "metadata": {},
     "output_type": "execute_result"
    }
   ],
   "source": [
    "catch_df.dropna()"
   ]
  },
  {
   "cell_type": "code",
   "execution_count": 119,
   "id": "096e7b35",
   "metadata": {},
   "outputs": [
    {
     "data": {
      "text/plain": [
       "469"
      ]
     },
     "execution_count": 119,
     "metadata": {},
     "output_type": "execute_result"
    }
   ],
   "source": [
    "catch_df[\"PULid\"].nunique()"
   ]
  },
  {
   "cell_type": "code",
   "execution_count": 120,
   "id": "882049e5",
   "metadata": {},
   "outputs": [],
   "source": [
    "catch_df = catch_df[[\"Substrate_dbCAN_seq_dbCAN_PUL_approach\", \"PULid\"]]"
   ]
  },
  {
   "cell_type": "code",
   "execution_count": 121,
   "id": "75b9dec8",
   "metadata": {},
   "outputs": [],
   "source": [
    "catch_df.columns = [\"IFDP_high_level_substr\", \"PULid\"]"
   ]
  },
  {
   "cell_type": "code",
   "execution_count": 122,
   "id": "436a2841",
   "metadata": {},
   "outputs": [],
   "source": [
    "merged_data = pul_data[[\"PULid\", \"high_level_substr\"]].merge(catch_df)"
   ]
  },
  {
   "cell_type": "code",
   "execution_count": 123,
   "id": "a4860a38",
   "metadata": {},
   "outputs": [],
   "source": [
    "merged_data.columns = [\"PULid\",\"Verified_high_level_substr\", \"IFDP_high_level_substr\"]"
   ]
  },
  {
   "cell_type": "code",
   "execution_count": 124,
   "id": "c3a62ad8",
   "metadata": {},
   "outputs": [],
   "source": [
    "merged_data[\"IFDP_high_level_substr\"] = merged_data[\"IFDP_high_level_substr\"].str.lower()"
   ]
  },
  {
   "cell_type": "code",
   "execution_count": 125,
   "id": "655e700d",
   "metadata": {},
   "outputs": [
    {
     "data": {
      "text/plain": [
       "array(['agarose', 'alginate', 'alpha-glucan', 'arabinan',\n",
       "       'arabinogalactan', 'arabinoxylan', 'beta-galactooligosaccharide',\n",
       "       'beta-glucan', 'capsule polysaccharide degradation',\n",
       "       'capsule polysaccharide synthesis', 'carrageenan', 'cellulose',\n",
       "       'chitin', 'fructan', 'galactan', 'galactomannan', 'glucomannan',\n",
       "       'glycogen', 'glycosaminoglycan', 'host glycan', 'mannan', 'pectin',\n",
       "       'starch', 'xylan', 'xyloglucan'], dtype=object)"
      ]
     },
     "execution_count": 125,
     "metadata": {},
     "output_type": "execute_result"
    }
   ],
   "source": [
    "merged_data[\"Verified_high_level_substr\"].sort_values().unique()"
   ]
  },
  {
   "cell_type": "code",
   "execution_count": 126,
   "id": "0ecfd227",
   "metadata": {},
   "outputs": [
    {
     "data": {
      "text/plain": [
       "array(['alginate', 'arabinan', 'arabinogalactan', 'arabinoxylan',\n",
       "       'beta-glucan', 'carrageenan', 'cellulose', 'chitin', 'fructan',\n",
       "       'galactan', 'galactomannan', 'glucomannan', 'host glycan',\n",
       "       'mannan', 'pectin', 'starch', 'xylan', 'xyloglucan'], dtype=object)"
      ]
     },
     "execution_count": 126,
     "metadata": {},
     "output_type": "execute_result"
    }
   ],
   "source": [
    "merged_data[\"IFDP_high_level_substr\"].sort_values().unique()"
   ]
  },
  {
   "cell_type": "code",
   "execution_count": 127,
   "id": "30044cb7",
   "metadata": {},
   "outputs": [],
   "source": [
    "common = set(merged_data[\"Verified_high_level_substr\"].sort_values().unique()).intersection(merged_data[\"IFDP_high_level_substr\"].sort_values().unique())"
   ]
  },
  {
   "cell_type": "code",
   "execution_count": 128,
   "id": "0a494031",
   "metadata": {},
   "outputs": [
    {
     "data": {
      "text/plain": [
       "{'alginate',\n",
       " 'arabinan',\n",
       " 'arabinogalactan',\n",
       " 'arabinoxylan',\n",
       " 'beta-glucan',\n",
       " 'carrageenan',\n",
       " 'cellulose',\n",
       " 'chitin',\n",
       " 'fructan',\n",
       " 'galactan',\n",
       " 'galactomannan',\n",
       " 'glucomannan',\n",
       " 'host glycan',\n",
       " 'mannan',\n",
       " 'pectin',\n",
       " 'starch',\n",
       " 'xylan',\n",
       " 'xyloglucan'}"
      ]
     },
     "execution_count": 128,
     "metadata": {},
     "output_type": "execute_result"
    }
   ],
   "source": [
    "common"
   ]
  },
  {
   "cell_type": "code",
   "execution_count": 129,
   "id": "191f5139",
   "metadata": {},
   "outputs": [
    {
     "data": {
      "text/plain": [
       "18"
      ]
     },
     "execution_count": 129,
     "metadata": {},
     "output_type": "execute_result"
    }
   ],
   "source": [
    "len(common)"
   ]
  },
  {
   "cell_type": "code",
   "execution_count": 130,
   "id": "f4a99fa3",
   "metadata": {},
   "outputs": [
    {
     "data": {
      "text/plain": [
       "0.72"
      ]
     },
     "execution_count": 130,
     "metadata": {},
     "output_type": "execute_result"
    }
   ],
   "source": [
    "len(common)/len(merged_data[\"Verified_high_level_substr\"].sort_values().unique())"
   ]
  },
  {
   "cell_type": "code",
   "execution_count": 131,
   "id": "16e23154",
   "metadata": {},
   "outputs": [],
   "source": [
    "uncommon = set(merged_data[\"Verified_high_level_substr\"].sort_values().unique()).difference(merged_data[\"IFDP_high_level_substr\"].sort_values().unique())"
   ]
  },
  {
   "cell_type": "code",
   "execution_count": 132,
   "id": "b785d90f",
   "metadata": {},
   "outputs": [
    {
     "data": {
      "text/plain": [
       "{'agarose',\n",
       " 'alpha-glucan',\n",
       " 'beta-galactooligosaccharide',\n",
       " 'capsule polysaccharide degradation',\n",
       " 'capsule polysaccharide synthesis',\n",
       " 'glycogen',\n",
       " 'glycosaminoglycan'}"
      ]
     },
     "execution_count": 132,
     "metadata": {},
     "output_type": "execute_result"
    }
   ],
   "source": [
    "uncommon"
   ]
  },
  {
   "cell_type": "code",
   "execution_count": 133,
   "id": "c1bc728f",
   "metadata": {},
   "outputs": [
    {
     "data": {
      "text/plain": [
       "7"
      ]
     },
     "execution_count": 133,
     "metadata": {},
     "output_type": "execute_result"
    }
   ],
   "source": [
    "len(uncommon)"
   ]
  },
  {
   "cell_type": "code",
   "execution_count": 134,
   "id": "ac5fae65",
   "metadata": {},
   "outputs": [],
   "source": [
    "merged_data_common = merged_data[merged_data[\"Verified_high_level_substr\"].isin(common)]"
   ]
  },
  {
   "cell_type": "code",
   "execution_count": 135,
   "id": "bab3dfe8",
   "metadata": {},
   "outputs": [
    {
     "data": {
      "text/plain": [
       "215"
      ]
     },
     "execution_count": 135,
     "metadata": {},
     "output_type": "execute_result"
    }
   ],
   "source": [
    "merged_data_common[\"PULid\"].nunique()"
   ]
  },
  {
   "cell_type": "code",
   "execution_count": 136,
   "id": "93a820a9",
   "metadata": {},
   "outputs": [
    {
     "data": {
      "text/plain": [
       "411"
      ]
     },
     "execution_count": 136,
     "metadata": {},
     "output_type": "execute_result"
    }
   ],
   "source": [
    "pul_data[\"PULid\"].nunique()"
   ]
  },
  {
   "cell_type": "code",
   "execution_count": 137,
   "id": "3e2cf5e4",
   "metadata": {},
   "outputs": [],
   "source": [
    "merged_data_uncommon = merged_data[merged_data[\"Verified_high_level_substr\"].isin(uncommon)]"
   ]
  },
  {
   "cell_type": "code",
   "execution_count": 138,
   "id": "7d09a47f",
   "metadata": {},
   "outputs": [
    {
     "data": {
      "text/plain": [
       "69"
      ]
     },
     "execution_count": 138,
     "metadata": {},
     "output_type": "execute_result"
    }
   ],
   "source": [
    "merged_data_uncommon[\"PULid\"].nunique()"
   ]
  },
  {
   "cell_type": "code",
   "execution_count": 139,
   "id": "8c1ebcfa",
   "metadata": {},
   "outputs": [
    {
     "data": {
      "text/plain": [
       "0.5231143552311436"
      ]
     },
     "execution_count": 139,
     "metadata": {},
     "output_type": "execute_result"
    }
   ],
   "source": [
    "merged_data_common[\"PULid\"].nunique()/pul_data[\"PULid\"].nunique()"
   ]
  },
  {
   "cell_type": "code",
   "execution_count": 140,
   "id": "73b242af",
   "metadata": {},
   "outputs": [],
   "source": [
    "number_of_preds = merged_data_common[\"PULid\"].value_counts()"
   ]
  },
  {
   "cell_type": "code",
   "execution_count": 141,
   "id": "b312ad42",
   "metadata": {},
   "outputs": [],
   "source": [
    "number_of_preds = number_of_preds.reset_index()"
   ]
  },
  {
   "cell_type": "code",
   "execution_count": 142,
   "id": "ae9ea762",
   "metadata": {},
   "outputs": [],
   "source": [
    "number_of_preds.columns = [\"PULid\", \"Num_Preds_from_IFDP\"]"
   ]
  },
  {
   "cell_type": "code",
   "execution_count": 143,
   "id": "d15c32e0",
   "metadata": {},
   "outputs": [],
   "source": [
    "how_many_preds = number_of_preds[\"Num_Preds_from_IFDP\"].value_counts()"
   ]
  },
  {
   "cell_type": "code",
   "execution_count": 144,
   "id": "df3c6448",
   "metadata": {},
   "outputs": [],
   "source": [
    "how_many_preds = how_many_preds.reset_index()"
   ]
  },
  {
   "cell_type": "code",
   "execution_count": 145,
   "id": "dd5997df",
   "metadata": {},
   "outputs": [],
   "source": [
    "how_many_preds.columns = [\"Num_Preds_from_IFDP\", \"Number_of_PULs\"]"
   ]
  },
  {
   "cell_type": "code",
   "execution_count": 146,
   "id": "85f76265",
   "metadata": {},
   "outputs": [
    {
     "data": {
      "text/plain": [
       "0.4883720930232558"
      ]
     },
     "execution_count": 146,
     "metadata": {},
     "output_type": "execute_result"
    }
   ],
   "source": [
    "how_many_preds[how_many_preds[\"Num_Preds_from_IFDP\"] == 1][\"Number_of_PULs\"].values[0]/how_many_preds[\"Number_of_PULs\"].sum()"
   ]
  },
  {
   "cell_type": "code",
   "execution_count": 147,
   "id": "f45abda6",
   "metadata": {},
   "outputs": [
    {
     "data": {
      "text/plain": [
       "0.4883720930232558"
      ]
     },
     "execution_count": 147,
     "metadata": {},
     "output_type": "execute_result"
    }
   ],
   "source": [
    "how_many_preds[how_many_preds[\"Num_Preds_from_IFDP\"] == 1][\"Number_of_PULs\"].values[0]/merged_data_common[\"PULid\"].nunique()"
   ]
  },
  {
   "cell_type": "code",
   "execution_count": 148,
   "id": "af01042e",
   "metadata": {},
   "outputs": [
    {
     "data": {
      "text/plain": [
       "105"
      ]
     },
     "execution_count": 148,
     "metadata": {},
     "output_type": "execute_result"
    }
   ],
   "source": [
    "how_many_preds[how_many_preds[\"Num_Preds_from_IFDP\"] == 1][\"Number_of_PULs\"].values[0]"
   ]
  },
  {
   "cell_type": "code",
   "execution_count": 149,
   "id": "88998820",
   "metadata": {},
   "outputs": [
    {
     "data": {
      "text/plain": [
       "215"
      ]
     },
     "execution_count": 149,
     "metadata": {},
     "output_type": "execute_result"
    }
   ],
   "source": [
    "merged_data_common[\"PULid\"].nunique()"
   ]
  },
  {
   "cell_type": "code",
   "execution_count": 150,
   "id": "1e8e43f2",
   "metadata": {},
   "outputs": [
    {
     "data": {
      "text/plain": [
       "0.4883720930232558"
      ]
     },
     "execution_count": 150,
     "metadata": {},
     "output_type": "execute_result"
    }
   ],
   "source": [
    "105/215"
   ]
  },
  {
   "cell_type": "code",
   "execution_count": 151,
   "id": "bea36e24",
   "metadata": {},
   "outputs": [],
   "source": [
    "# 206/411"
   ]
  },
  {
   "cell_type": "code",
   "execution_count": 152,
   "id": "5cd9a0d8",
   "metadata": {},
   "outputs": [],
   "source": [
    "import matplotlib.pyplot as plt"
   ]
  },
  {
   "cell_type": "code",
   "execution_count": 153,
   "id": "f81a4bb8",
   "metadata": {},
   "outputs": [],
   "source": [
    "# 148-54"
   ]
  },
  {
   "cell_type": "code",
   "execution_count": 154,
   "id": "934f2bcf",
   "metadata": {},
   "outputs": [
    {
     "data": {
      "text/plain": [
       "110"
      ]
     },
     "execution_count": 154,
     "metadata": {},
     "output_type": "execute_result"
    }
   ],
   "source": [
    "215-105"
   ]
  },
  {
   "cell_type": "code",
   "execution_count": 155,
   "id": "a7a4e856",
   "metadata": {},
   "outputs": [
    {
     "data": {
      "text/plain": [
       "0.5116279069767442"
      ]
     },
     "execution_count": 155,
     "metadata": {},
     "output_type": "execute_result"
    }
   ],
   "source": [
    "1-(105/215)"
   ]
  },
  {
   "cell_type": "code",
   "execution_count": 156,
   "id": "8cc971e0",
   "metadata": {},
   "outputs": [],
   "source": [
    "order = how_many_preds[\"Num_Preds_from_IFDP\"].sort_values().values"
   ]
  },
  {
   "cell_type": "code",
   "execution_count": 157,
   "id": "8a200b04",
   "metadata": {},
   "outputs": [
    {
     "data": {
      "image/png": "[encoded data removed]",
      "text/plain": [
       "<Figure size 720x360 with 1 Axes>"
      ]
     },
     "metadata": {
      "needs_background": "light"
     },
     "output_type": "display_data"
    }
   ],
   "source": [
    "plt.figure(figsize = (10,5))\n",
    "plt.bar(how_many_preds[\"Num_Preds_from_IFDP\"], how_many_preds[\"Number_of_PULs\"])\n",
    "plt.xticks(order, fontsize = 15)\n",
    "plt.yticks(fontsize = 15)\n",
    "plt.xlabel(\"Number of Predictions from IFDP\", fontsize = 20)\n",
    "plt.ylabel(\"Number of PULs\", fontsize = 20)\n",
    "# plt.title(\"IFDP makes multiple predictions for \")\n",
    "plt.show()"
   ]
  },
  {
   "cell_type": "code",
   "execution_count": 158,
   "id": "d21535f7",
   "metadata": {},
   "outputs": [],
   "source": [
    "puls_with_single_preds = number_of_preds[number_of_preds[\"Num_Preds_from_IFDP\"] == 1][\"PULid\"].values"
   ]
  },
  {
   "cell_type": "code",
   "execution_count": 159,
   "id": "b5767bcf",
   "metadata": {},
   "outputs": [],
   "source": [
    "puls_with_single_preds_df = merged_data_common[merged_data_common[\"PULid\"].isin(puls_with_single_preds)]"
   ]
  },
  {
   "cell_type": "code",
   "execution_count": 160,
   "id": "365cf64f",
   "metadata": {},
   "outputs": [
    {
     "data": {
      "text/html": [
       "<div>\n",
       "<style scoped>\n",
       "    .dataframe tbody tr th:only-of-type {\n",
       "        vertical-align: middle;\n",
       "    }\n",
       "\n",
       "    .dataframe tbody tr th {\n",
       "        vertical-align: top;\n",
       "    }\n",
       "\n",
       "    .dataframe thead th {\n",
       "        text-align: right;\n",
       "    }\n",
       "</style>\n",
       "<table border=\"1\" class=\"dataframe\">\n",
       "  <thead>\n",
       "    <tr style=\"text-align: right;\">\n",
       "      <th></th>\n",
       "      <th>PULid</th>\n",
       "      <th>Verified_high_level_substr</th>\n",
       "      <th>IFDP_high_level_substr</th>\n",
       "    </tr>\n",
       "  </thead>\n",
       "  <tbody>\n",
       "    <tr>\n",
       "      <th>3</th>\n",
       "      <td>PUL0003</td>\n",
       "      <td>xylan</td>\n",
       "      <td>arabinoxylan</td>\n",
       "    </tr>\n",
       "    <tr>\n",
       "      <th>17</th>\n",
       "      <td>PUL0008</td>\n",
       "      <td>fructan</td>\n",
       "      <td>fructan</td>\n",
       "    </tr>\n",
       "    <tr>\n",
       "      <th>21</th>\n",
       "      <td>PUL0010</td>\n",
       "      <td>xylan</td>\n",
       "      <td>arabinoxylan</td>\n",
       "    </tr>\n",
       "    <tr>\n",
       "      <th>30</th>\n",
       "      <td>PUL0013</td>\n",
       "      <td>arabinan</td>\n",
       "      <td>arabinoxylan</td>\n",
       "    </tr>\n",
       "    <tr>\n",
       "      <th>42</th>\n",
       "      <td>PUL0027</td>\n",
       "      <td>alginate</td>\n",
       "      <td>alginate</td>\n",
       "    </tr>\n",
       "  </tbody>\n",
       "</table>\n",
       "</div>"
      ],
      "text/plain": [
       "      PULid Verified_high_level_substr IFDP_high_level_substr\n",
       "3   PUL0003                      xylan           arabinoxylan\n",
       "17  PUL0008                    fructan                fructan\n",
       "21  PUL0010                      xylan           arabinoxylan\n",
       "30  PUL0013                   arabinan           arabinoxylan\n",
       "42  PUL0027                   alginate               alginate"
      ]
     },
     "execution_count": 160,
     "metadata": {},
     "output_type": "execute_result"
    }
   ],
   "source": [
    "puls_with_single_preds_df.head()"
   ]
  },
  {
   "cell_type": "code",
   "execution_count": 161,
   "id": "20722d2d",
   "metadata": {},
   "outputs": [
    {
     "data": {
      "text/plain": [
       "chitin             17\n",
       "arabinoxylan       16\n",
       "starch             15\n",
       "alginate           14\n",
       "xyloglucan         14\n",
       "beta-glucan         7\n",
       "fructan             6\n",
       "carrageenan         6\n",
       "galactomannan       5\n",
       "arabinogalactan     4\n",
       "pectin              1\n",
       "Name: IFDP_high_level_substr, dtype: int64"
      ]
     },
     "execution_count": 161,
     "metadata": {},
     "output_type": "execute_result"
    }
   ],
   "source": [
    "puls_with_single_preds_df[\"IFDP_high_level_substr\"].value_counts()"
   ]
  },
  {
   "cell_type": "code",
   "execution_count": 180,
   "id": "0d299cb3",
   "metadata": {},
   "outputs": [],
   "source": [
    "# puls_with_single_preds_df[\"PULid\"].values"
   ]
  },
  {
   "cell_type": "code",
   "execution_count": 179,
   "id": "d2fbca4d",
   "metadata": {},
   "outputs": [],
   "source": [
    "# pul_data[\"high_level_substr\"].value_counts()"
   ]
  },
  {
   "cell_type": "code",
   "execution_count": 183,
   "id": "3eebcd11",
   "metadata": {},
   "outputs": [],
   "source": [
    "single_preds_puls = puls_with_single_preds_df[\"PULid\"].values"
   ]
  },
  {
   "cell_type": "code",
   "execution_count": 184,
   "id": "7b223a7f",
   "metadata": {},
   "outputs": [],
   "source": [
    "single_pred_og_data = pul_data[pul_data[\"PULid\"].isin(puls_with_single_preds_df[\"PULid\"].values)][\"high_level_substr\"].value_counts()"
   ]
  },
  {
   "cell_type": "code",
   "execution_count": 235,
   "id": "134bc7f9",
   "metadata": {},
   "outputs": [
    {
     "data": {
      "text/html": [
       "<div>\n",
       "<style scoped>\n",
       "    .dataframe tbody tr th:only-of-type {\n",
       "        vertical-align: middle;\n",
       "    }\n",
       "\n",
       "    .dataframe tbody tr th {\n",
       "        vertical-align: top;\n",
       "    }\n",
       "\n",
       "    .dataframe thead th {\n",
       "        text-align: right;\n",
       "    }\n",
       "</style>\n",
       "<table border=\"1\" class=\"dataframe\">\n",
       "  <thead>\n",
       "    <tr style=\"text-align: right;\">\n",
       "      <th></th>\n",
       "      <th>PULid</th>\n",
       "      <th>Verified_high_level_substr</th>\n",
       "      <th>IFDP_high_level_substr</th>\n",
       "    </tr>\n",
       "  </thead>\n",
       "  <tbody>\n",
       "    <tr>\n",
       "      <th>3</th>\n",
       "      <td>PUL0003</td>\n",
       "      <td>xylan</td>\n",
       "      <td>arabinoxylan</td>\n",
       "    </tr>\n",
       "    <tr>\n",
       "      <th>17</th>\n",
       "      <td>PUL0008</td>\n",
       "      <td>fructan</td>\n",
       "      <td>fructan</td>\n",
       "    </tr>\n",
       "    <tr>\n",
       "      <th>21</th>\n",
       "      <td>PUL0010</td>\n",
       "      <td>xylan</td>\n",
       "      <td>arabinoxylan</td>\n",
       "    </tr>\n",
       "    <tr>\n",
       "      <th>30</th>\n",
       "      <td>PUL0013</td>\n",
       "      <td>arabinan</td>\n",
       "      <td>arabinoxylan</td>\n",
       "    </tr>\n",
       "    <tr>\n",
       "      <th>42</th>\n",
       "      <td>PUL0027</td>\n",
       "      <td>alginate</td>\n",
       "      <td>alginate</td>\n",
       "    </tr>\n",
       "    <tr>\n",
       "      <th>...</th>\n",
       "      <td>...</td>\n",
       "      <td>...</td>\n",
       "      <td>...</td>\n",
       "    </tr>\n",
       "    <tr>\n",
       "      <th>617</th>\n",
       "      <td>PUL0572</td>\n",
       "      <td>alginate</td>\n",
       "      <td>alginate</td>\n",
       "    </tr>\n",
       "    <tr>\n",
       "      <th>621</th>\n",
       "      <td>PUL0581</td>\n",
       "      <td>fructan</td>\n",
       "      <td>fructan</td>\n",
       "    </tr>\n",
       "    <tr>\n",
       "      <th>629</th>\n",
       "      <td>PUL0595</td>\n",
       "      <td>starch</td>\n",
       "      <td>starch</td>\n",
       "    </tr>\n",
       "    <tr>\n",
       "      <th>630</th>\n",
       "      <td>PUL0596</td>\n",
       "      <td>starch</td>\n",
       "      <td>starch</td>\n",
       "    </tr>\n",
       "    <tr>\n",
       "      <th>636</th>\n",
       "      <td>PUL0600</td>\n",
       "      <td>galactomannan</td>\n",
       "      <td>starch</td>\n",
       "    </tr>\n",
       "  </tbody>\n",
       "</table>\n",
       "<p>105 rows × 3 columns</p>\n",
       "</div>"
      ],
      "text/plain": [
       "       PULid Verified_high_level_substr IFDP_high_level_substr\n",
       "3    PUL0003                      xylan           arabinoxylan\n",
       "17   PUL0008                    fructan                fructan\n",
       "21   PUL0010                      xylan           arabinoxylan\n",
       "30   PUL0013                   arabinan           arabinoxylan\n",
       "42   PUL0027                   alginate               alginate\n",
       "..       ...                        ...                    ...\n",
       "617  PUL0572                   alginate               alginate\n",
       "621  PUL0581                    fructan                fructan\n",
       "629  PUL0595                     starch                 starch\n",
       "630  PUL0596                     starch                 starch\n",
       "636  PUL0600              galactomannan                 starch\n",
       "\n",
       "[105 rows x 3 columns]"
      ]
     },
     "execution_count": 235,
     "metadata": {},
     "output_type": "execute_result"
    }
   ],
   "source": [
    "puls_with_single_preds_df"
   ]
  },
  {
   "cell_type": "code",
   "execution_count": 185,
   "id": "f5e75071",
   "metadata": {},
   "outputs": [],
   "source": [
    "pul_left_data = pul_data[~pul_data[\"PULid\"].isin(single_preds_puls)]"
   ]
  },
  {
   "cell_type": "code",
   "execution_count": 186,
   "id": "6994af43",
   "metadata": {},
   "outputs": [
    {
     "data": {
      "text/plain": [
       "(306, 4)"
      ]
     },
     "execution_count": 186,
     "metadata": {},
     "output_type": "execute_result"
    }
   ],
   "source": [
    "pul_left_data.shape"
   ]
  },
  {
   "cell_type": "code",
   "execution_count": 188,
   "id": "06ee6f37",
   "metadata": {},
   "outputs": [
    {
     "data": {
      "text/plain": [
       "alginate           14\n",
       "host glycan        12\n",
       "starch             12\n",
       "chitin              9\n",
       "galactomannan       8\n",
       "mannan              8\n",
       "xyloglucan          6\n",
       "xylan               6\n",
       "fructan             5\n",
       "carrageenan         5\n",
       "pectin              5\n",
       "beta-glucan         5\n",
       "arabinan            3\n",
       "cellulose           2\n",
       "arabinogalactan     2\n",
       "arabinoxylan        1\n",
       "galactan            1\n",
       "glucomannan         1\n",
       "Name: high_level_substr, dtype: int64"
      ]
     },
     "execution_count": 188,
     "metadata": {},
     "output_type": "execute_result"
    }
   ],
   "source": [
    "single_pred_og_data"
   ]
  },
  {
   "cell_type": "code",
   "execution_count": 193,
   "id": "4f5b4f84",
   "metadata": {},
   "outputs": [],
   "source": [
    "left_freqs = pul_left_data[\"high_level_substr\"].value_counts()"
   ]
  },
  {
   "cell_type": "code",
   "execution_count": 196,
   "id": "0353d4ab",
   "metadata": {},
   "outputs": [],
   "source": [
    "left_to_keep = left_freqs[left_freqs.index.isin(single_pred_og_data.index)]"
   ]
  },
  {
   "cell_type": "code",
   "execution_count": 197,
   "id": "31f4e08d",
   "metadata": {},
   "outputs": [
    {
     "data": {
      "text/plain": [
       "pectin             34\n",
       "xylan              29\n",
       "beta-glucan        16\n",
       "cellulose          14\n",
       "galactan            9\n",
       "arabinan            9\n",
       "mannan              8\n",
       "galactomannan       7\n",
       "alginate            7\n",
       "host glycan         7\n",
       "chitin              6\n",
       "arabinoxylan        5\n",
       "starch              4\n",
       "carrageenan         3\n",
       "arabinogalactan     3\n",
       "fructan             2\n",
       "glucomannan         2\n",
       "xyloglucan          1\n",
       "Name: high_level_substr, dtype: int64"
      ]
     },
     "execution_count": 197,
     "metadata": {},
     "output_type": "execute_result"
    }
   ],
   "source": [
    "left_to_keep"
   ]
  },
  {
   "cell_type": "code",
   "execution_count": 201,
   "id": "a8088165",
   "metadata": {},
   "outputs": [],
   "source": [
    "new_order = list(left_to_keep.iloc[:7].index)"
   ]
  },
  {
   "cell_type": "code",
   "execution_count": 202,
   "id": "5d994ca0",
   "metadata": {},
   "outputs": [
    {
     "data": {
      "text/plain": [
       "['pectin',\n",
       " 'xylan',\n",
       " 'beta-glucan',\n",
       " 'cellulose',\n",
       " 'galactan',\n",
       " 'arabinan',\n",
       " 'mannan']"
      ]
     },
     "execution_count": 202,
     "metadata": {},
     "output_type": "execute_result"
    }
   ],
   "source": [
    "new_order"
   ]
  },
  {
   "cell_type": "code",
   "execution_count": 393,
   "id": "ed1efaac",
   "metadata": {},
   "outputs": [],
   "source": [
    "test_set = puls_with_single_preds_df[puls_with_single_preds_df[\"Verified_high_level_substr\"].isin(new_order)]"
   ]
  },
  {
   "cell_type": "code",
   "execution_count": 364,
   "id": "a6c6362a",
   "metadata": {},
   "outputs": [],
   "source": [
    "test_set_puls = test_set[\"PULid\"].values"
   ]
  },
  {
   "cell_type": "code",
   "execution_count": 394,
   "id": "0e4c237b",
   "metadata": {},
   "outputs": [],
   "source": [
    "X_test = pul_data[pul_data[\"PULid\"].isin(test_set_puls)][\"sig_gene_seq\"]"
   ]
  },
  {
   "cell_type": "code",
   "execution_count": 395,
   "id": "5080d7f7",
   "metadata": {},
   "outputs": [],
   "source": [
    "y_test = pul_data[pul_data[\"PULid\"].isin(test_set_puls)][\"high_level_substr\"].values"
   ]
  },
  {
   "cell_type": "code",
   "execution_count": 396,
   "id": "fd274dc4",
   "metadata": {},
   "outputs": [
    {
     "data": {
      "text/plain": [
       "array(['xylan', 'xylan', 'arabinan', 'cellulose', 'arabinan', 'mannan',\n",
       "       'mannan', 'mannan', 'mannan', 'pectin', 'beta-glucan', 'cellulose',\n",
       "       'beta-glucan', 'xylan', 'xylan', 'mannan', 'mannan', 'xylan',\n",
       "       'galactan', 'beta-glucan', 'beta-glucan', 'beta-glucan', 'pectin',\n",
       "       'mannan', 'pectin', 'arabinan', 'xylan', 'mannan', 'pectin',\n",
       "       'pectin'], dtype=object)"
      ]
     },
     "execution_count": 396,
     "metadata": {},
     "output_type": "execute_result"
    }
   ],
   "source": [
    "y_test"
   ]
  },
  {
   "cell_type": "code",
   "execution_count": 397,
   "id": "80676c95",
   "metadata": {},
   "outputs": [],
   "source": [
    "test_seqs = np.array([test_item.replace(\"|\", \",\").replace(\",\", \" \") for test_item in X_test.values])"
   ]
  },
  {
   "cell_type": "code",
   "execution_count": 398,
   "id": "619bbe1e",
   "metadata": {},
   "outputs": [
    {
     "data": {
      "text/plain": [
       "30"
      ]
     },
     "execution_count": 398,
     "metadata": {},
     "output_type": "execute_result"
    }
   ],
   "source": [
    "single_pred_og_data[single_pred_og_data.index.isin(new_order)].values.sum()"
   ]
  },
  {
   "cell_type": "code",
   "execution_count": 399,
   "id": "0dafbe9d",
   "metadata": {},
   "outputs": [],
   "source": [
    "to_model_data = pul_left_data[pul_left_data[\"high_level_substr\"].isin(new_order)]"
   ]
  },
  {
   "cell_type": "code",
   "execution_count": 400,
   "id": "c545f54e",
   "metadata": {},
   "outputs": [
    {
     "data": {
      "text/plain": [
       "(119, 4)"
      ]
     },
     "execution_count": 400,
     "metadata": {},
     "output_type": "execute_result"
    }
   ],
   "source": [
    "to_model_data.shape"
   ]
  },
  {
   "cell_type": "code",
   "execution_count": 209,
   "id": "668b6895",
   "metadata": {},
   "outputs": [
    {
     "data": {
      "text/plain": [
       "pectin         34\n",
       "xylan          29\n",
       "beta-glucan    16\n",
       "cellulose      14\n",
       "galactan        9\n",
       "arabinan        9\n",
       "mannan          8\n",
       "Name: high_level_substr, dtype: int64"
      ]
     },
     "execution_count": 209,
     "metadata": {},
     "output_type": "execute_result"
    }
   ],
   "source": [
    "to_model_data[\"high_level_substr\"].value_counts()"
   ]
  },
  {
   "cell_type": "code",
   "execution_count": 483,
   "id": "dde8bca4",
   "metadata": {},
   "outputs": [],
   "source": [
    "from Codes.Model_architectures import simple_lstm, attention_lstm_model, non_recurrent_attention_model"
   ]
  },
  {
   "cell_type": "code",
   "execution_count": 484,
   "id": "4bea51f8",
   "metadata": {},
   "outputs": [],
   "source": [
    "import gensim"
   ]
  },
  {
   "cell_type": "code",
   "execution_count": 512,
   "id": "8122d229",
   "metadata": {},
   "outputs": [],
   "source": [
    "model_sg =gensim.models.word2vec.Word2Vec.load(r\"Embedding_Models_10_12//word2vec_sg\") "
   ]
  },
  {
   "cell_type": "code",
   "execution_count": 513,
   "id": "0d2edd89",
   "metadata": {},
   "outputs": [],
   "source": [
    "model_dl = non_recurrent_attention_model(len(new_order), False, model_sg)"
   ]
  },
  {
   "cell_type": "code",
   "execution_count": 514,
   "id": "4217bb66",
   "metadata": {},
   "outputs": [
    {
     "name": "stdout",
     "output_type": "stream",
     "text": [
      "Model: \"model_20\"\n",
      "__________________________________________________________________________________________________\n",
      " Layer (type)                   Output Shape         Param #     Connected to                     \n",
      "==================================================================================================\n",
      " input_21 (InputLayer)          [(None, 1)]          0           []                               \n",
      "                                                                                                  \n",
      " text_vectorization_20 (TextVec  (None, None)        0           ['input_21[0][0]']               \n",
      " torization)                                                                                      \n",
      "                                                                                                  \n",
      " embedding_20 (Embedding)       (None, None, 300)    417000      ['text_vectorization_20[0][0]']  \n",
      "                                                                                                  \n",
      " tanh_mlp (Dense)               (None, None, 150)    45150       ['embedding_20[0][0]']           \n",
      "                                                                                                  \n",
      " dropout_38 (Dropout)           (None, None, 150)    0           ['tanh_mlp[0][0]']               \n",
      "                                                                                                  \n",
      " word-level_context (Dense)     (None, None, 1)      151         ['dropout_38[0][0]']             \n",
      "                                                                                                  \n",
      " flatten_18 (Flatten)           (None, None)         0           ['word-level_context[0][0]']     \n",
      "                                                                                                  \n",
      " activation_18 (Activation)     (None, None)         0           ['flatten_18[0][0]']             \n",
      "                                                                                                  \n",
      " repeat_vector_18 (RepeatVector  (None, 300, None)   0           ['activation_18[0][0]']          \n",
      " )                                                                                                \n",
      "                                                                                                  \n",
      " permute_18 (Permute)           (None, None, 300)    0           ['repeat_vector_18[0][0]']       \n",
      "                                                                                                  \n",
      " multiply_18 (Multiply)         (None, None, 300)    0           ['embedding_20[0][0]',           \n",
      "                                                                  'permute_18[0][0]']             \n",
      "                                                                                                  \n",
      " expectation_over_words (Lambda  (None, 300)         0           ['multiply_18[0][0]']            \n",
      " )                                                                                                \n",
      "                                                                                                  \n",
      " dropout_39 (Dropout)           (None, 300)          0           ['expectation_over_words[0][0]'] \n",
      "                                                                                                  \n",
      " dense_20 (Dense)               (None, 7)            2107        ['dropout_39[0][0]']             \n",
      "                                                                                                  \n",
      "==================================================================================================\n",
      "Total params: 464,408\n",
      "Trainable params: 47,408\n",
      "Non-trainable params: 417,000\n",
      "__________________________________________________________________________________________________\n"
     ]
    }
   ],
   "source": [
    "model_dl.summary()"
   ]
  },
  {
   "cell_type": "code",
   "execution_count": 502,
   "id": "5075a540",
   "metadata": {},
   "outputs": [],
   "source": [
    "from sklearn.model_selection import train_test_split"
   ]
  },
  {
   "cell_type": "code",
   "execution_count": 503,
   "id": "31634d59",
   "metadata": {},
   "outputs": [],
   "source": [
    "from sklearn.preprocessing import LabelEncoder"
   ]
  },
  {
   "cell_type": "code",
   "execution_count": 515,
   "id": "b56b7f62",
   "metadata": {},
   "outputs": [],
   "source": [
    "le = LabelEncoder()"
   ]
  },
  {
   "cell_type": "code",
   "execution_count": 516,
   "id": "c3b28899",
   "metadata": {},
   "outputs": [],
   "source": [
    "X_train, X_valid, y_train, y_valid = train_test_split(to_model_data[\"sig_gene_seq\"], to_model_data[\"high_level_substr\"], \n",
    "                                                                  stratify = to_model_data[\"high_level_substr\"],\n",
    "                                                                  test_size = 0.15)\n",
    "            \n",
    "train_seqs = np.array([train_item.replace(\"|\", \",\").replace(\",\", \" \") for train_item in X_train])\n",
    "valid_seqs = np.array([valid_item.replace(\"|\", \",\").replace(\",\", \" \") for valid_item in X_valid])\n",
    "# test_seqs = np.array([test_item.replace(\"|\", \",\").replace(\",\", \" \") for test_item in X_test[\"sig_gene_seq\"].values])"
   ]
  },
  {
   "cell_type": "code",
   "execution_count": 517,
   "id": "3f04d830",
   "metadata": {},
   "outputs": [
    {
     "data": {
      "text/html": [
       "<style>#sk-container-id-17 {color: black;background-color: white;}#sk-container-id-17 pre{padding: 0;}#sk-container-id-17 div.sk-toggleable {background-color: white;}#sk-container-id-17 label.sk-toggleable__label {cursor: pointer;display: block;width: 100%;margin-bottom: 0;padding: 0.3em;box-sizing: border-box;text-align: center;}#sk-container-id-17 label.sk-toggleable__label-arrow:before {content: \"▸\";float: left;margin-right: 0.25em;color: #696969;}#sk-container-id-17 label.sk-toggleable__label-arrow:hover:before {color: black;}#sk-container-id-17 div.sk-estimator:hover label.sk-toggleable__label-arrow:before {color: black;}#sk-container-id-17 div.sk-toggleable__content {max-height: 0;max-width: 0;overflow: hidden;text-align: left;background-color: #f0f8ff;}#sk-container-id-17 div.sk-toggleable__content pre {margin: 0.2em;color: black;border-radius: 0.25em;background-color: #f0f8ff;}#sk-container-id-17 input.sk-toggleable__control:checked~div.sk-toggleable__content {max-height: 200px;max-width: 100%;overflow: auto;}#sk-container-id-17 input.sk-toggleable__control:checked~label.sk-toggleable__label-arrow:before {content: \"▾\";}#sk-container-id-17 div.sk-estimator input.sk-toggleable__control:checked~label.sk-toggleable__label {background-color: #d4ebff;}#sk-container-id-17 div.sk-label input.sk-toggleable__control:checked~label.sk-toggleable__label {background-color: #d4ebff;}#sk-container-id-17 input.sk-hidden--visually {border: 0;clip: rect(1px 1px 1px 1px);clip: rect(1px, 1px, 1px, 1px);height: 1px;margin: -1px;overflow: hidden;padding: 0;position: absolute;width: 1px;}#sk-container-id-17 div.sk-estimator {font-family: monospace;background-color: #f0f8ff;border: 1px dotted black;border-radius: 0.25em;box-sizing: border-box;margin-bottom: 0.5em;}#sk-container-id-17 div.sk-estimator:hover {background-color: #d4ebff;}#sk-container-id-17 div.sk-parallel-item::after {content: \"\";width: 100%;border-bottom: 1px solid gray;flex-grow: 1;}#sk-container-id-17 div.sk-label:hover label.sk-toggleable__label {background-color: #d4ebff;}#sk-container-id-17 div.sk-serial::before {content: \"\";position: absolute;border-left: 1px solid gray;box-sizing: border-box;top: 0;bottom: 0;left: 50%;z-index: 0;}#sk-container-id-17 div.sk-serial {display: flex;flex-direction: column;align-items: center;background-color: white;padding-right: 0.2em;padding-left: 0.2em;position: relative;}#sk-container-id-17 div.sk-item {position: relative;z-index: 1;}#sk-container-id-17 div.sk-parallel {display: flex;align-items: stretch;justify-content: center;background-color: white;position: relative;}#sk-container-id-17 div.sk-item::before, #sk-container-id-17 div.sk-parallel-item::before {content: \"\";position: absolute;border-left: 1px solid gray;box-sizing: border-box;top: 0;bottom: 0;left: 50%;z-index: -1;}#sk-container-id-17 div.sk-parallel-item {display: flex;flex-direction: column;z-index: 1;position: relative;background-color: white;}#sk-container-id-17 div.sk-parallel-item:first-child::after {align-self: flex-end;width: 50%;}#sk-container-id-17 div.sk-parallel-item:last-child::after {align-self: flex-start;width: 50%;}#sk-container-id-17 div.sk-parallel-item:only-child::after {width: 0;}#sk-container-id-17 div.sk-dashed-wrapped {border: 1px dashed gray;margin: 0 0.4em 0.5em 0.4em;box-sizing: border-box;padding-bottom: 0.4em;background-color: white;}#sk-container-id-17 div.sk-label label {font-family: monospace;font-weight: bold;display: inline-block;line-height: 1.2em;}#sk-container-id-17 div.sk-label-container {text-align: center;}#sk-container-id-17 div.sk-container {/* jupyter's `normalize.less` sets `[hidden] { display: none; }` but bootstrap.min.css set `[hidden] { display: none !important; }` so we also need the `!important` here to be able to override the default hidden behavior on the sphinx rendered scikit-learn.org. See: https://github.com/scikit-learn/scikit-learn/issues/21755 */display: inline-block !important;position: relative;}#sk-container-id-17 div.sk-text-repr-fallback {display: none;}</style><div id=\"sk-container-id-17\" class=\"sk-top-container\"><div class=\"sk-text-repr-fallback\"><pre>LabelEncoder()</pre><b>In a Jupyter environment, please rerun this cell to show the HTML representation or trust the notebook. <br />On GitHub, the HTML representation is unable to render, please try loading this page with nbviewer.org.</b></div><div class=\"sk-container\" hidden><div class=\"sk-item\"><div class=\"sk-estimator sk-toggleable\"><input class=\"sk-toggleable__control sk-hidden--visually\" id=\"sk-estimator-id-21\" type=\"checkbox\" checked><label for=\"sk-estimator-id-21\" class=\"sk-toggleable__label sk-toggleable__label-arrow\">LabelEncoder</label><div class=\"sk-toggleable__content\"><pre>LabelEncoder()</pre></div></div></div></div></div>"
      ],
      "text/plain": [
       "LabelEncoder()"
      ]
     },
     "execution_count": 517,
     "metadata": {},
     "output_type": "execute_result"
    }
   ],
   "source": [
    "le.fit(y_train.values.reshape(-1,1).ravel())"
   ]
  },
  {
   "cell_type": "code",
   "execution_count": 518,
   "id": "586a8ea7",
   "metadata": {},
   "outputs": [],
   "source": [
    "y_train = le.transform(y_train.values.reshape(-1,1).ravel())\n",
    "            # y_train = y_train.toarray()\n",
    "            \n",
    "y_valid = le.transform(y_valid.values.reshape(-1,1).ravel())\n",
    "            # y_valid = y_valid.toarray()\n",
    "            \n",
    "y_train_df = pd.DataFrame(y_train)\n",
    "            \n",
    "weights = y_train_df[0].value_counts()/y_train_df[0].value_counts().sum()\n",
    "            \n",
    "weights = 1/weights\n",
    "            \n",
    "# weights = 1/(y_train.sum(0)/y_train.sum(0).sum())\n",
    "class_weights = dict(weights)"
   ]
  },
  {
   "cell_type": "code",
   "execution_count": 466,
   "id": "91d37334",
   "metadata": {},
   "outputs": [
    {
     "ename": "TypeError",
     "evalue": "ufunc 'isnan' not supported for the input types, and the inputs could not be safely coerced to any supported types according to the casting rule ''safe''",
     "output_type": "error",
     "traceback": [
      "\u001b[1;31m---------------------------------------------------------------------------\u001b[0m",
      "\u001b[1;31mTypeError\u001b[0m                                 Traceback (most recent call last)",
      "Input \u001b[1;32mIn [466]\u001b[0m, in \u001b[0;36m<cell line: 1>\u001b[1;34m()\u001b[0m\n\u001b[1;32m----> 1\u001b[0m y_test \u001b[38;5;241m=\u001b[39m \u001b[43mle\u001b[49m\u001b[38;5;241;43m.\u001b[39;49m\u001b[43mtransform\u001b[49m\u001b[43m(\u001b[49m\u001b[43my_test\u001b[49m\u001b[43m)\u001b[49m\n",
      "File \u001b[1;32m~\\.conda\\envs\\newone1\\lib\\site-packages\\sklearn\\preprocessing\\_label.py:138\u001b[0m, in \u001b[0;36mLabelEncoder.transform\u001b[1;34m(self, y)\u001b[0m\n\u001b[0;32m    135\u001b[0m \u001b[38;5;28;01mif\u001b[39;00m _num_samples(y) \u001b[38;5;241m==\u001b[39m \u001b[38;5;241m0\u001b[39m:\n\u001b[0;32m    136\u001b[0m     \u001b[38;5;28;01mreturn\u001b[39;00m np\u001b[38;5;241m.\u001b[39marray([])\n\u001b[1;32m--> 138\u001b[0m \u001b[38;5;28;01mreturn\u001b[39;00m \u001b[43m_encode\u001b[49m\u001b[43m(\u001b[49m\u001b[43my\u001b[49m\u001b[43m,\u001b[49m\u001b[43m \u001b[49m\u001b[43muniques\u001b[49m\u001b[38;5;241;43m=\u001b[39;49m\u001b[38;5;28;43mself\u001b[39;49m\u001b[38;5;241;43m.\u001b[39;49m\u001b[43mclasses_\u001b[49m\u001b[43m)\u001b[49m\n",
      "File \u001b[1;32m~\\.conda\\envs\\newone1\\lib\\site-packages\\sklearn\\utils\\_encode.py:229\u001b[0m, in \u001b[0;36m_encode\u001b[1;34m(values, uniques, check_unknown)\u001b[0m\n\u001b[0;32m    227\u001b[0m \u001b[38;5;28;01melse\u001b[39;00m:\n\u001b[0;32m    228\u001b[0m     \u001b[38;5;28;01mif\u001b[39;00m check_unknown:\n\u001b[1;32m--> 229\u001b[0m         diff \u001b[38;5;241m=\u001b[39m \u001b[43m_check_unknown\u001b[49m\u001b[43m(\u001b[49m\u001b[43mvalues\u001b[49m\u001b[43m,\u001b[49m\u001b[43m \u001b[49m\u001b[43muniques\u001b[49m\u001b[43m)\u001b[49m\n\u001b[0;32m    230\u001b[0m         \u001b[38;5;28;01mif\u001b[39;00m diff:\n\u001b[0;32m    231\u001b[0m             \u001b[38;5;28;01mraise\u001b[39;00m \u001b[38;5;167;01mValueError\u001b[39;00m(\u001b[38;5;124mf\u001b[39m\u001b[38;5;124m\"\u001b[39m\u001b[38;5;124my contains previously unseen labels: \u001b[39m\u001b[38;5;132;01m{\u001b[39;00m\u001b[38;5;28mstr\u001b[39m(diff)\u001b[38;5;132;01m}\u001b[39;00m\u001b[38;5;124m\"\u001b[39m)\n",
      "File \u001b[1;32m~\\.conda\\envs\\newone1\\lib\\site-packages\\sklearn\\utils\\_encode.py:303\u001b[0m, in \u001b[0;36m_check_unknown\u001b[1;34m(values, known_values, return_mask)\u001b[0m\n\u001b[0;32m    300\u001b[0m         valid_mask \u001b[38;5;241m=\u001b[39m np\u001b[38;5;241m.\u001b[39mones(\u001b[38;5;28mlen\u001b[39m(values), dtype\u001b[38;5;241m=\u001b[39m\u001b[38;5;28mbool\u001b[39m)\n\u001b[0;32m    302\u001b[0m \u001b[38;5;66;03m# check for nans in the known_values\u001b[39;00m\n\u001b[1;32m--> 303\u001b[0m \u001b[38;5;28;01mif\u001b[39;00m \u001b[43mnp\u001b[49m\u001b[38;5;241;43m.\u001b[39;49m\u001b[43misnan\u001b[49m\u001b[43m(\u001b[49m\u001b[43mknown_values\u001b[49m\u001b[43m)\u001b[49m\u001b[38;5;241m.\u001b[39many():\n\u001b[0;32m    304\u001b[0m     diff_is_nan \u001b[38;5;241m=\u001b[39m np\u001b[38;5;241m.\u001b[39misnan(diff)\n\u001b[0;32m    305\u001b[0m     \u001b[38;5;28;01mif\u001b[39;00m diff_is_nan\u001b[38;5;241m.\u001b[39many():\n\u001b[0;32m    306\u001b[0m         \u001b[38;5;66;03m# removes nan from valid_mask\u001b[39;00m\n",
      "\u001b[1;31mTypeError\u001b[0m: ufunc 'isnan' not supported for the input types, and the inputs could not be safely coerced to any supported types according to the casting rule ''safe''"
     ]
    }
   ],
   "source": [
    "y_test = le.transform(y_test)"
   ]
  },
  {
   "cell_type": "code",
   "execution_count": 508,
   "id": "c88587ec",
   "metadata": {},
   "outputs": [],
   "source": [
    "import tensorflow as tf"
   ]
  },
  {
   "cell_type": "code",
   "execution_count": 519,
   "id": "39671681",
   "metadata": {
    "scrolled": false
   },
   "outputs": [
    {
     "name": "stdout",
     "output_type": "stream",
     "text": [
      "Epoch 1/2000\n",
      "101/101 [==============================] - 2s 15ms/step - loss: 12.6817 - accuracy: 0.3465 - val_loss: 1.5099 - val_accuracy: 0.5556\n",
      "Epoch 2/2000\n",
      "101/101 [==============================] - 1s 14ms/step - loss: 9.0018 - accuracy: 0.7921 - val_loss: 1.2149 - val_accuracy: 0.7222\n",
      "Epoch 3/2000\n",
      "101/101 [==============================] - 1s 12ms/step - loss: 6.4061 - accuracy: 0.8614 - val_loss: 1.0925 - val_accuracy: 0.6667\n",
      "Epoch 4/2000\n",
      "101/101 [==============================] - 1s 12ms/step - loss: 4.8850 - accuracy: 0.8713 - val_loss: 0.9998 - val_accuracy: 0.7778\n",
      "Epoch 5/2000\n",
      "101/101 [==============================] - 1s 12ms/step - loss: 3.8975 - accuracy: 0.8812 - val_loss: 0.9954 - val_accuracy: 0.7778\n",
      "Epoch 6/2000\n",
      "101/101 [==============================] - 1s 12ms/step - loss: 3.2193 - accuracy: 0.8911 - val_loss: 0.9962 - val_accuracy: 0.7222\n",
      "Epoch 7/2000\n",
      "101/101 [==============================] - 1s 13ms/step - loss: 2.6087 - accuracy: 0.9208 - val_loss: 1.0264 - val_accuracy: 0.7222\n",
      "Epoch 8/2000\n",
      "101/101 [==============================] - 1s 12ms/step - loss: 2.2898 - accuracy: 0.9109 - val_loss: 1.0240 - val_accuracy: 0.7222\n",
      "Epoch 9/2000\n",
      "101/101 [==============================] - 1s 13ms/step - loss: 1.9724 - accuracy: 0.9406 - val_loss: 1.0473 - val_accuracy: 0.7222\n",
      "Epoch 10/2000\n",
      "101/101 [==============================] - 1s 13ms/step - loss: 1.7888 - accuracy: 0.9307 - val_loss: 1.0736 - val_accuracy: 0.7222\n",
      "Epoch 11/2000\n",
      "101/101 [==============================] - 1s 12ms/step - loss: 1.6637 - accuracy: 0.9505 - val_loss: 1.1019 - val_accuracy: 0.7222\n",
      "Epoch 12/2000\n",
      "101/101 [==============================] - 1s 12ms/step - loss: 1.5289 - accuracy: 0.9505 - val_loss: 1.1248 - val_accuracy: 0.7222\n",
      "Epoch 13/2000\n",
      "101/101 [==============================] - 1s 12ms/step - loss: 1.4368 - accuracy: 0.9406 - val_loss: 1.1506 - val_accuracy: 0.7222\n",
      "Epoch 14/2000\n",
      "101/101 [==============================] - 1s 12ms/step - loss: 1.3688 - accuracy: 0.9307 - val_loss: 1.1728 - val_accuracy: 0.7222\n"
     ]
    },
    {
     "data": {
      "text/plain": [
       "<keras.callbacks.History at 0x135d0c0ad30>"
      ]
     },
     "execution_count": 519,
     "metadata": {},
     "output_type": "execute_result"
    }
   ],
   "source": [
    "model_dl.fit(train_seqs, y_train, validation_data = (valid_seqs, y_valid), batch_size = 1, epochs = 2000, \n",
    "                                     callbacks  = tf.keras.callbacks.EarlyStopping(monitor = \"val_accuracy\", patience = 10,\n",
    "                                                                                   restore_best_weights=True, mode = \"max\"), \n",
    "                                     validation_batch_size=1, verbose = 1, shuffle = True, class_weight = class_weights)"
   ]
  },
  {
   "cell_type": "code",
   "execution_count": 520,
   "id": "1575a173",
   "metadata": {},
   "outputs": [
    {
     "name": "stdout",
     "output_type": "stream",
     "text": [
      "1/1 [==============================] - 0s 213ms/step - loss: 1.0512 - accuracy: 0.7778\n"
     ]
    },
    {
     "data": {
      "text/plain": [
       "[1.0512267351150513, 0.7777777910232544]"
      ]
     },
     "execution_count": 520,
     "metadata": {},
     "output_type": "execute_result"
    }
   ],
   "source": [
    "model_dl.evaluate(valid_seqs, y_valid)"
   ]
  },
  {
   "cell_type": "code",
   "execution_count": 521,
   "id": "44f589c6",
   "metadata": {},
   "outputs": [
    {
     "name": "stdout",
     "output_type": "stream",
     "text": [
      "1/1 [==============================] - 0s 38ms/step - loss: 1.6783 - accuracy: 0.5333\n"
     ]
    },
    {
     "data": {
      "text/plain": [
       "[1.678315281867981, 0.5333333611488342]"
      ]
     },
     "execution_count": 521,
     "metadata": {},
     "output_type": "execute_result"
    }
   ],
   "source": [
    "model_dl.evaluate(test_seqs, y_test)"
   ]
  },
  {
   "cell_type": "code",
   "execution_count": 287,
   "id": "2cf5ecc6",
   "metadata": {},
   "outputs": [
    {
     "name": "stdout",
     "output_type": "stream",
     "text": [
      "1/1 [==============================] - 0s 39ms/step\n"
     ]
    },
    {
     "data": {
      "text/plain": [
       "array(['xylan', 'xylan', 'xylan', 'xylan', 'arabinan', 'pectin', 'xylan',\n",
       "       'mannan', 'mannan', 'pectin', 'beta-glucan', 'xylan',\n",
       "       'beta-glucan', 'arabinan', 'xylan', 'xylan', 'mannan', 'xylan',\n",
       "       'beta-glucan', 'beta-glucan', 'beta-glucan', 'beta-glucan',\n",
       "       'pectin', 'cellulose', 'pectin', 'xylan', 'xylan', 'xylan',\n",
       "       'pectin', 'pectin'], dtype=object)"
      ]
     },
     "execution_count": 287,
     "metadata": {},
     "output_type": "execute_result"
    }
   ],
   "source": [
    "y_test_pred = le.inverse_transform(model_dl.predict(test_seqs).argmax(1))"
   ]
  },
  {
   "cell_type": "code",
   "execution_count": 426,
   "id": "085815c4",
   "metadata": {},
   "outputs": [
    {
     "data": {
      "text/plain": [
       "0.2"
      ]
     },
     "execution_count": 426,
     "metadata": {},
     "output_type": "execute_result"
    }
   ],
   "source": [
    "np.mean(test_set[\"Verified_high_level_substr\"] == test_set[\"IFDP_high_level_substr\"])"
   ]
  },
  {
   "cell_type": "code",
   "execution_count": 299,
   "id": "e4f4d324",
   "metadata": {},
   "outputs": [
    {
     "data": {
      "text/plain": [
       "(30, 3)"
      ]
     },
     "execution_count": 299,
     "metadata": {},
     "output_type": "execute_result"
    }
   ],
   "source": [
    "test_set.shape"
   ]
  },
  {
   "cell_type": "code",
   "execution_count": 311,
   "id": "147f938a",
   "metadata": {},
   "outputs": [],
   "source": [
    "vec_size = model_sg.wv.vectors.shape[1]"
   ]
  },
  {
   "cell_type": "code",
   "execution_count": 318,
   "id": "e0c92c55",
   "metadata": {},
   "outputs": [],
   "source": [
    "X_train,  y_train = to_model_data[\"sig_gene_seq\"], to_model_data[\"high_level_substr\"].values"
   ]
  },
  {
   "cell_type": "code",
   "execution_count": 336,
   "id": "95d54401",
   "metadata": {},
   "outputs": [],
   "source": [
    "vocab = model_sg.wv.index_to_key\n",
    "X_train_doc_vectors = []\n",
    "    \n",
    "for train_item in X_train.values:\n",
    "    train_item = train_item.replace(\"|\", \",\").split(\",\")\n",
    "    word_vectors = []\n",
    "    for word in train_item: \n",
    "        if word in vocab:\n",
    "            word_vectors.append(model_sg.wv.get_vector(word).reshape(1,-1).tolist()[0])\n",
    "        else:\n",
    "            word_vectors.append(np.zeros((1,vec_size)).reshape(1,-1).tolist()[0])\n",
    "                \n",
    "                \n",
    "    if len(word_vectors) == 0: \n",
    "        X_train_doc_vectors.append(np.zeros((1,vec_size)).tolist()[0])\n",
    "    else:\n",
    "        X_train_doc_vectors.append(np.array(word_vectors).mean(0).tolist())    "
   ]
  },
  {
   "cell_type": "code",
   "execution_count": 339,
   "id": "8056bcb8",
   "metadata": {},
   "outputs": [],
   "source": [
    "# np.array(X_train_doc_vectors).shape"
   ]
  },
  {
   "cell_type": "code",
   "execution_count": 340,
   "id": "e11f4f49",
   "metadata": {},
   "outputs": [],
   "source": [
    "X_test_doc_vectors = []\n",
    "    \n",
    "for test_item in X_test.values:\n",
    "    test_item = test_item.replace(\"|\", \",\").split(\",\")\n",
    "    word_vectors = []\n",
    "    for word in test_item: \n",
    "        if word in vocab:\n",
    "            word_vectors.append(model_sg.wv.get_vector(word).reshape(1,-1).tolist()[0])\n",
    "        else:\n",
    "            word_vectors.append(np.zeros((1,vec_size)).reshape(1,-1).tolist()[0])\n",
    "                        \n",
    "    if len(word_vectors) == 0: \n",
    "        X_test_doc_vectors.append(np.zeros((1,vec_size)).tolist()[0])\n",
    "    else:\n",
    "        X_test_doc_vectors.append(np.array(word_vectors).mean(0).tolist())    \n",
    "                "
   ]
  },
  {
   "cell_type": "code",
   "execution_count": 322,
   "id": "bfc3a7c7",
   "metadata": {},
   "outputs": [],
   "source": [
    "from sklearn.pipeline import Pipeline"
   ]
  },
  {
   "cell_type": "code",
   "execution_count": 323,
   "id": "a554c17b",
   "metadata": {},
   "outputs": [],
   "source": [
    "from sklearn.multiclass import OneVsRestClassifier"
   ]
  },
  {
   "cell_type": "code",
   "execution_count": 324,
   "id": "ca651cf3",
   "metadata": {},
   "outputs": [],
   "source": [
    "from sklearn.model_selection import GridSearchCV"
   ]
  },
  {
   "cell_type": "code",
   "execution_count": 325,
   "id": "c6de3fae",
   "metadata": {},
   "outputs": [],
   "source": [
    "from imblearn.ensemble import BalancedRandomForestClassifier"
   ]
  },
  {
   "cell_type": "code",
   "execution_count": 327,
   "id": "89c32aab",
   "metadata": {},
   "outputs": [],
   "source": [
    "parameters_one_vs_rest = {\"vr__estimator__n_estimators\": [100, 300, 500], \n",
    "                              \"vr__estimator__class_weight\": [\"balanced\"]}"
   ]
  },
  {
   "cell_type": "code",
   "execution_count": 328,
   "id": "e747efb6",
   "metadata": {},
   "outputs": [],
   "source": [
    "clf_one_vs_rest = Pipeline([('vr', OneVsRestClassifier(BalancedRandomForestClassifier(n_jobs = 7)))\n",
    "                                                ])\n",
    "gs_one_vs_rest = GridSearchCV(clf_one_vs_rest, parameters_one_vs_rest, cv = 5, n_jobs = 7, scoring = \"balanced_accuracy\", verbose = 0)"
   ]
  },
  {
   "cell_type": "code",
   "execution_count": 341,
   "id": "58c73a4f",
   "metadata": {},
   "outputs": [
    {
     "data": {
      "text/html": [
       "<style>#sk-container-id-6 {color: black;background-color: white;}#sk-container-id-6 pre{padding: 0;}#sk-container-id-6 div.sk-toggleable {background-color: white;}#sk-container-id-6 label.sk-toggleable__label {cursor: pointer;display: block;width: 100%;margin-bottom: 0;padding: 0.3em;box-sizing: border-box;text-align: center;}#sk-container-id-6 label.sk-toggleable__label-arrow:before {content: \"▸\";float: left;margin-right: 0.25em;color: #696969;}#sk-container-id-6 label.sk-toggleable__label-arrow:hover:before {color: black;}#sk-container-id-6 div.sk-estimator:hover label.sk-toggleable__label-arrow:before {color: black;}#sk-container-id-6 div.sk-toggleable__content {max-height: 0;max-width: 0;overflow: hidden;text-align: left;background-color: #f0f8ff;}#sk-container-id-6 div.sk-toggleable__content pre {margin: 0.2em;color: black;border-radius: 0.25em;background-color: #f0f8ff;}#sk-container-id-6 input.sk-toggleable__control:checked~div.sk-toggleable__content {max-height: 200px;max-width: 100%;overflow: auto;}#sk-container-id-6 input.sk-toggleable__control:checked~label.sk-toggleable__label-arrow:before {content: \"▾\";}#sk-container-id-6 div.sk-estimator input.sk-toggleable__control:checked~label.sk-toggleable__label {background-color: #d4ebff;}#sk-container-id-6 div.sk-label input.sk-toggleable__control:checked~label.sk-toggleable__label {background-color: #d4ebff;}#sk-container-id-6 input.sk-hidden--visually {border: 0;clip: rect(1px 1px 1px 1px);clip: rect(1px, 1px, 1px, 1px);height: 1px;margin: -1px;overflow: hidden;padding: 0;position: absolute;width: 1px;}#sk-container-id-6 div.sk-estimator {font-family: monospace;background-color: #f0f8ff;border: 1px dotted black;border-radius: 0.25em;box-sizing: border-box;margin-bottom: 0.5em;}#sk-container-id-6 div.sk-estimator:hover {background-color: #d4ebff;}#sk-container-id-6 div.sk-parallel-item::after {content: \"\";width: 100%;border-bottom: 1px solid gray;flex-grow: 1;}#sk-container-id-6 div.sk-label:hover label.sk-toggleable__label {background-color: #d4ebff;}#sk-container-id-6 div.sk-serial::before {content: \"\";position: absolute;border-left: 1px solid gray;box-sizing: border-box;top: 0;bottom: 0;left: 50%;z-index: 0;}#sk-container-id-6 div.sk-serial {display: flex;flex-direction: column;align-items: center;background-color: white;padding-right: 0.2em;padding-left: 0.2em;position: relative;}#sk-container-id-6 div.sk-item {position: relative;z-index: 1;}#sk-container-id-6 div.sk-parallel {display: flex;align-items: stretch;justify-content: center;background-color: white;position: relative;}#sk-container-id-6 div.sk-item::before, #sk-container-id-6 div.sk-parallel-item::before {content: \"\";position: absolute;border-left: 1px solid gray;box-sizing: border-box;top: 0;bottom: 0;left: 50%;z-index: -1;}#sk-container-id-6 div.sk-parallel-item {display: flex;flex-direction: column;z-index: 1;position: relative;background-color: white;}#sk-container-id-6 div.sk-parallel-item:first-child::after {align-self: flex-end;width: 50%;}#sk-container-id-6 div.sk-parallel-item:last-child::after {align-self: flex-start;width: 50%;}#sk-container-id-6 div.sk-parallel-item:only-child::after {width: 0;}#sk-container-id-6 div.sk-dashed-wrapped {border: 1px dashed gray;margin: 0 0.4em 0.5em 0.4em;box-sizing: border-box;padding-bottom: 0.4em;background-color: white;}#sk-container-id-6 div.sk-label label {font-family: monospace;font-weight: bold;display: inline-block;line-height: 1.2em;}#sk-container-id-6 div.sk-label-container {text-align: center;}#sk-container-id-6 div.sk-container {/* jupyter's `normalize.less` sets `[hidden] { display: none; }` but bootstrap.min.css set `[hidden] { display: none !important; }` so we also need the `!important` here to be able to override the default hidden behavior on the sphinx rendered scikit-learn.org. See: https://github.com/scikit-learn/scikit-learn/issues/21755 */display: inline-block !important;position: relative;}#sk-container-id-6 div.sk-text-repr-fallback {display: none;}</style><div id=\"sk-container-id-6\" class=\"sk-top-container\"><div class=\"sk-text-repr-fallback\"><pre>GridSearchCV(cv=5,\n",
       "             estimator=Pipeline(steps=[(&#x27;vr&#x27;,\n",
       "                                        OneVsRestClassifier(estimator=BalancedRandomForestClassifier(n_jobs=7)))]),\n",
       "             n_jobs=7,\n",
       "             param_grid={&#x27;vr__estimator__class_weight&#x27;: [&#x27;balanced&#x27;],\n",
       "                         &#x27;vr__estimator__n_estimators&#x27;: [100]},\n",
       "             scoring=&#x27;balanced_accuracy&#x27;)</pre><b>In a Jupyter environment, please rerun this cell to show the HTML representation or trust the notebook. <br />On GitHub, the HTML representation is unable to render, please try loading this page with nbviewer.org.</b></div><div class=\"sk-container\" hidden><div class=\"sk-item sk-dashed-wrapped\"><div class=\"sk-label-container\"><div class=\"sk-label sk-toggleable\"><input class=\"sk-toggleable__control sk-hidden--visually\" id=\"sk-estimator-id-6\" type=\"checkbox\" ><label for=\"sk-estimator-id-6\" class=\"sk-toggleable__label sk-toggleable__label-arrow\">GridSearchCV</label><div class=\"sk-toggleable__content\"><pre>GridSearchCV(cv=5,\n",
       "             estimator=Pipeline(steps=[(&#x27;vr&#x27;,\n",
       "                                        OneVsRestClassifier(estimator=BalancedRandomForestClassifier(n_jobs=7)))]),\n",
       "             n_jobs=7,\n",
       "             param_grid={&#x27;vr__estimator__class_weight&#x27;: [&#x27;balanced&#x27;],\n",
       "                         &#x27;vr__estimator__n_estimators&#x27;: [100]},\n",
       "             scoring=&#x27;balanced_accuracy&#x27;)</pre></div></div></div><div class=\"sk-parallel\"><div class=\"sk-parallel-item\"><div class=\"sk-item\"><div class=\"sk-label-container\"><div class=\"sk-label sk-toggleable\"><input class=\"sk-toggleable__control sk-hidden--visually\" id=\"sk-estimator-id-7\" type=\"checkbox\" ><label for=\"sk-estimator-id-7\" class=\"sk-toggleable__label sk-toggleable__label-arrow\">estimator: Pipeline</label><div class=\"sk-toggleable__content\"><pre>Pipeline(steps=[(&#x27;vr&#x27;,\n",
       "                 OneVsRestClassifier(estimator=BalancedRandomForestClassifier(n_jobs=7)))])</pre></div></div></div><div class=\"sk-serial\"><div class=\"sk-item\"><div class=\"sk-serial\"><div class=\"sk-item sk-dashed-wrapped\"><div class=\"sk-label-container\"><div class=\"sk-label sk-toggleable\"><input class=\"sk-toggleable__control sk-hidden--visually\" id=\"sk-estimator-id-8\" type=\"checkbox\" ><label for=\"sk-estimator-id-8\" class=\"sk-toggleable__label sk-toggleable__label-arrow\">vr: OneVsRestClassifier</label><div class=\"sk-toggleable__content\"><pre>OneVsRestClassifier(estimator=BalancedRandomForestClassifier(n_jobs=7))</pre></div></div></div><div class=\"sk-parallel\"><div class=\"sk-parallel-item\"><div class=\"sk-item\"><div class=\"sk-label-container\"><div class=\"sk-label sk-toggleable\"><input class=\"sk-toggleable__control sk-hidden--visually\" id=\"sk-estimator-id-9\" type=\"checkbox\" ><label for=\"sk-estimator-id-9\" class=\"sk-toggleable__label sk-toggleable__label-arrow\">estimator: BalancedRandomForestClassifier</label><div class=\"sk-toggleable__content\"><pre>BalancedRandomForestClassifier(n_jobs=7)</pre></div></div></div><div class=\"sk-serial\"><div class=\"sk-item\"><div class=\"sk-estimator sk-toggleable\"><input class=\"sk-toggleable__control sk-hidden--visually\" id=\"sk-estimator-id-10\" type=\"checkbox\" ><label for=\"sk-estimator-id-10\" class=\"sk-toggleable__label sk-toggleable__label-arrow\">BalancedRandomForestClassifier</label><div class=\"sk-toggleable__content\"><pre>BalancedRandomForestClassifier(n_jobs=7)</pre></div></div></div></div></div></div></div></div></div></div></div></div></div></div></div></div></div>"
      ],
      "text/plain": [
       "GridSearchCV(cv=5,\n",
       "             estimator=Pipeline(steps=[('vr',\n",
       "                                        OneVsRestClassifier(estimator=BalancedRandomForestClassifier(n_jobs=7)))]),\n",
       "             n_jobs=7,\n",
       "             param_grid={'vr__estimator__class_weight': ['balanced'],\n",
       "                         'vr__estimator__n_estimators': [100]},\n",
       "             scoring='balanced_accuracy')"
      ]
     },
     "execution_count": 341,
     "metadata": {},
     "output_type": "execute_result"
    }
   ],
   "source": [
    "gs_one_vs_rest.fit(np.array(X_train_doc_vectors), y_train)"
   ]
  },
  {
   "cell_type": "code",
   "execution_count": 342,
   "id": "7a654c62",
   "metadata": {},
   "outputs": [
    {
     "data": {
      "text/plain": [
       "0.7051700680272109"
      ]
     },
     "execution_count": 342,
     "metadata": {},
     "output_type": "execute_result"
    }
   ],
   "source": [
    "gs_one_vs_rest.best_score_"
   ]
  },
  {
   "cell_type": "code",
   "execution_count": 346,
   "id": "af98569c",
   "metadata": {},
   "outputs": [],
   "source": [
    "y_test_pred = gs_one_vs_rest.predict(np.array(X_test_doc_vectors))"
   ]
  },
  {
   "cell_type": "code",
   "execution_count": 349,
   "id": "e50f3d7a",
   "metadata": {},
   "outputs": [
    {
     "data": {
      "text/plain": [
       "array(['cellulose', 'xylan', 'xylan', 'xylan', 'arabinan', 'mannan',\n",
       "       'xylan', 'mannan', 'mannan', 'pectin', 'beta-glucan', 'xylan',\n",
       "       'beta-glucan', 'arabinan', 'xylan', 'xylan', 'mannan', 'xylan',\n",
       "       'mannan', 'mannan', 'mannan', 'beta-glucan', 'pectin', 'mannan',\n",
       "       'pectin', 'cellulose', 'xylan', 'xylan', 'pectin', 'xylan'],\n",
       "      dtype='<U11')"
      ]
     },
     "execution_count": 349,
     "metadata": {},
     "output_type": "execute_result"
    }
   ],
   "source": [
    "y_test_pred"
   ]
  },
  {
   "cell_type": "code",
   "execution_count": 350,
   "id": "80dc82b1",
   "metadata": {},
   "outputs": [
    {
     "data": {
      "text/plain": [
       "array([6, 6, 0, 2, 0, 4, 4, 4, 4, 5, 1, 2, 1, 6, 6, 4, 4, 6, 3, 1, 1, 1,\n",
       "       5, 4, 5, 0, 6, 4, 5, 5])"
      ]
     },
     "execution_count": 350,
     "metadata": {},
     "output_type": "execute_result"
    }
   ],
   "source": [
    "y_test"
   ]
  },
  {
   "cell_type": "code",
   "execution_count": 351,
   "id": "238c264d",
   "metadata": {},
   "outputs": [
    {
     "data": {
      "text/plain": [
       "0.5666666666666667"
      ]
     },
     "execution_count": 351,
     "metadata": {},
     "output_type": "execute_result"
    }
   ],
   "source": [
    "np.mean(le.inverse_transform(y_test) == y_test_pred)"
   ]
  },
  {
   "cell_type": "code",
   "execution_count": 162,
   "id": "547234aa",
   "metadata": {},
   "outputs": [],
   "source": [
    "import numpy as np"
   ]
  },
  {
   "cell_type": "code",
   "execution_count": 163,
   "id": "ed519966",
   "metadata": {},
   "outputs": [
    {
     "data": {
      "text/plain": [
       "0.580952380952381"
      ]
     },
     "execution_count": 163,
     "metadata": {},
     "output_type": "execute_result"
    }
   ],
   "source": [
    "np.mean(puls_with_single_preds_df[\"IFDP_high_level_substr\"] == puls_with_single_preds_df[\"Verified_high_level_substr\"])"
   ]
  },
  {
   "cell_type": "code",
   "execution_count": 164,
   "id": "946ea2de",
   "metadata": {},
   "outputs": [],
   "source": [
    "actual_subs = puls_with_single_preds_df[\"Verified_high_level_substr\"].values"
   ]
  },
  {
   "cell_type": "code",
   "execution_count": 165,
   "id": "65479763",
   "metadata": {},
   "outputs": [],
   "source": [
    "predicted_ifdp_subs = puls_with_single_preds_df[\"IFDP_high_level_substr\"].values"
   ]
  },
  {
   "cell_type": "code",
   "execution_count": 166,
   "id": "ab00d5c6",
   "metadata": {},
   "outputs": [],
   "source": [
    "common_order = set(actual_subs).union(predicted_ifdp_subs)"
   ]
  },
  {
   "cell_type": "code",
   "execution_count": 167,
   "id": "67af6ad2",
   "metadata": {},
   "outputs": [],
   "source": [
    "from sklearn.metrics import confusion_matrix"
   ]
  },
  {
   "cell_type": "code",
   "execution_count": 168,
   "id": "2aa3b454",
   "metadata": {},
   "outputs": [],
   "source": [
    "cm = confusion_matrix(actual_subs, predicted_ifdp_subs, normalize = \"true\", labels = list(common_order))"
   ]
  },
  {
   "cell_type": "code",
   "execution_count": 169,
   "id": "c37a5bf1",
   "metadata": {},
   "outputs": [],
   "source": [
    "df_cm = pd.DataFrame(cm, index = list(common_order), columns= list(common_order))"
   ]
  },
  {
   "cell_type": "code",
   "execution_count": 170,
   "id": "4c674db4",
   "metadata": {},
   "outputs": [],
   "source": [
    "import seaborn as sns"
   ]
  },
  {
   "cell_type": "code",
   "execution_count": 171,
   "id": "0da59a91",
   "metadata": {},
   "outputs": [
    {
     "data": {
      "text/plain": [
       "pectin         39\n",
       "xylan          35\n",
       "beta-glucan    21\n",
       "alginate       21\n",
       "host glycan    19\n",
       "starch         16\n",
       "mannan         16\n",
       "Name: high_level_substr, dtype: int64"
      ]
     },
     "execution_count": 171,
     "metadata": {},
     "output_type": "execute_result"
    }
   ],
   "source": [
    "pul_data[\"high_level_substr\"].value_counts()[1:8]"
   ]
  },
  {
   "cell_type": "code",
   "execution_count": 172,
   "id": "4691b544",
   "metadata": {},
   "outputs": [
    {
     "data": {
      "image/png": "[encoded data removed]",
      "text/plain": [
       "<Figure size 720x720 with 2 Axes>"
      ]
     },
     "metadata": {
      "needs_background": "light"
     },
     "output_type": "display_data"
    }
   ],
   "source": [
    "plt.figure(figsize = (10,10))\n",
    "sns.heatmap(df_cm, annot=True)\n",
    "plt.xticks(fontsize = 15)\n",
    "plt.yticks(fontsize = 15)\n",
    "plt.ylabel(\"Verified High Level Substrate\", fontsize = 20)\n",
    "plt.xlabel(\"IFDP High Level Substrate\", fontsize = 20)\n",
    "plt.show()"
   ]
  }
 ],
 "metadata": {
  "kernelspec": {
   "display_name": "newone1",
   "language": "python",
   "name": "newone1"
  },
  "language_info": {
   "codemirror_mode": {
    "name": "ipython",
    "version": 3
   },
   "file_extension": ".py",
   "mimetype": "text/x-python",
   "name": "python",
   "nbconvert_exporter": "python",
   "pygments_lexer": "ipython3",
   "version": "3.9.12"
  }
 },
 "nbformat": 4,
 "nbformat_minor": 5
}
