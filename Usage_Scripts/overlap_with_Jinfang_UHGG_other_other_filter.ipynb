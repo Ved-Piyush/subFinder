{
 "cells": [
  {
   "cell_type": "code",
   "execution_count": 1,
   "id": "e8d713e1",
   "metadata": {},
   "outputs": [],
   "source": [
    "import os\n",
    "\n",
    "os.chdir(r'D:\\subFinder')"
   ]
  },
  {
   "cell_type": "code",
   "execution_count": 2,
   "id": "ee6c814e",
   "metadata": {},
   "outputs": [],
   "source": [
    "import pandas as pd\n",
    "import gensim\n",
    "from Codes.Supervised_Trainer import run_end_to_end\n",
    "import plotly.express as px\n",
    "import matplotlib.pyplot as plt\n",
    "import numpy as np"
   ]
  },
  {
   "cell_type": "code",
   "execution_count": 112,
   "id": "d6251427",
   "metadata": {},
   "outputs": [],
   "source": [
    "# jf_marine = pd.read_csv(r\"D:\\subFinder\\Data\\Jinfang_Preds\\tmp.marine.clean\", sep = \"\\t\", header = None)"
   ]
  },
  {
   "cell_type": "code",
   "execution_count": 113,
   "id": "e2e527b1",
   "metadata": {},
   "outputs": [],
   "source": [
    "# jf_oral = pd.read_csv(r\"D:\\subFinder\\Data\\Jinfang_Preds\\tmp.oral.clean\", sep = \"\\t\", header = None)"
   ]
  },
  {
   "cell_type": "code",
   "execution_count": 114,
   "id": "9ea35372",
   "metadata": {},
   "outputs": [],
   "source": [
    "# jf_rumen = pd.read_csv(r\"D:\\subFinder\\Data\\Jinfang_Preds\\tmp.rumen.clean\", sep = \"\\t\", header = None)"
   ]
  },
  {
   "cell_type": "code",
   "execution_count": 3,
   "id": "8ea5a786",
   "metadata": {},
   "outputs": [],
   "source": [
    "jf_uhgg = pd.read_csv(r\"D:\\subFinder\\Data\\Jinfang_Preds\\tmp.uhgg.clean\", sep = \"\\t\", header = None)"
   ]
  },
  {
   "cell_type": "code",
   "execution_count": 116,
   "id": "cdde4f19",
   "metadata": {},
   "outputs": [],
   "source": [
    "# jf_all = pd.concat([jf_marine, jf_oral, jf_rumen, jf_uhgg], 0, ignore_index = True)"
   ]
  },
  {
   "cell_type": "code",
   "execution_count": 117,
   "id": "bedfabcf",
   "metadata": {},
   "outputs": [],
   "source": [
    "# jf_all = jf_all[[1,2,3,4]]"
   ]
  },
  {
   "cell_type": "code",
   "execution_count": 4,
   "id": "224f899f",
   "metadata": {},
   "outputs": [],
   "source": [
    "jf_uhgg = jf_uhgg[[1,2,3,4]]"
   ]
  },
  {
   "cell_type": "code",
   "execution_count": 5,
   "id": "f39a7518",
   "metadata": {},
   "outputs": [],
   "source": [
    "jf_uhgg.columns = [\"cgc_id\", \"sig_gene_seq\", \"PULid\", \"high_level_substr\"]"
   ]
  },
  {
   "cell_type": "code",
   "execution_count": 6,
   "id": "c029ea05",
   "metadata": {},
   "outputs": [
    {
     "data": {
      "text/html": [
       "<div>\n",
       "<style scoped>\n",
       "    .dataframe tbody tr th:only-of-type {\n",
       "        vertical-align: middle;\n",
       "    }\n",
       "\n",
       "    .dataframe tbody tr th {\n",
       "        vertical-align: top;\n",
       "    }\n",
       "\n",
       "    .dataframe thead th {\n",
       "        text-align: right;\n",
       "    }\n",
       "</style>\n",
       "<table border=\"1\" class=\"dataframe\">\n",
       "  <thead>\n",
       "    <tr style=\"text-align: right;\">\n",
       "      <th></th>\n",
       "      <th>cgc_id</th>\n",
       "      <th>sig_gene_seq</th>\n",
       "      <th>PULid</th>\n",
       "      <th>high_level_substr</th>\n",
       "    </tr>\n",
       "  </thead>\n",
       "  <tbody>\n",
       "    <tr>\n",
       "      <th>0</th>\n",
       "      <td>MGYG000000001_14|CGC1</td>\n",
       "      <td>CBM34|GH77|GH13|GH13_39,GT35,GT5,null,null,GH1...</td>\n",
       "      <td>X</td>\n",
       "      <td>alpha-glucan</td>\n",
       "    </tr>\n",
       "    <tr>\n",
       "      <th>1</th>\n",
       "      <td>MGYG000000002_3|CGC1</td>\n",
       "      <td>9.A.11.1.1,9.A.11.1.1,null,9.A.11.1.1,Aminotra...</td>\n",
       "      <td>X</td>\n",
       "      <td>starch</td>\n",
       "    </tr>\n",
       "    <tr>\n",
       "      <th>2</th>\n",
       "      <td>MGYG000000003_2|CGC3</td>\n",
       "      <td>1.B.14.6.1,GH130,2.A.21.3.19,HTH_AraC+HTH_AraC...</td>\n",
       "      <td>X</td>\n",
       "      <td>beta-mannan</td>\n",
       "    </tr>\n",
       "    <tr>\n",
       "      <th>3</th>\n",
       "      <td>MGYG000000003_2|CGC11</td>\n",
       "      <td>PL12|PL12_2,PL12|PL12_2,PL13,null,1.B.14.6.1,n...</td>\n",
       "      <td>X</td>\n",
       "      <td>host glycan</td>\n",
       "    </tr>\n",
       "    <tr>\n",
       "      <th>4</th>\n",
       "      <td>MGYG000000007_1|CGC1</td>\n",
       "      <td>GH13_31|GH13,GH13|CBM34|GH13_20,3.A.1.1.20,3.A...</td>\n",
       "      <td>X</td>\n",
       "      <td>starch</td>\n",
       "    </tr>\n",
       "  </tbody>\n",
       "</table>\n",
       "</div>"
      ],
      "text/plain": [
       "                  cgc_id                                       sig_gene_seq  \\\n",
       "0  MGYG000000001_14|CGC1  CBM34|GH77|GH13|GH13_39,GT35,GT5,null,null,GH1...   \n",
       "1   MGYG000000002_3|CGC1  9.A.11.1.1,9.A.11.1.1,null,9.A.11.1.1,Aminotra...   \n",
       "2   MGYG000000003_2|CGC3  1.B.14.6.1,GH130,2.A.21.3.19,HTH_AraC+HTH_AraC...   \n",
       "3  MGYG000000003_2|CGC11  PL12|PL12_2,PL12|PL12_2,PL13,null,1.B.14.6.1,n...   \n",
       "4   MGYG000000007_1|CGC1  GH13_31|GH13,GH13|CBM34|GH13_20,3.A.1.1.20,3.A...   \n",
       "\n",
       "  PULid high_level_substr  \n",
       "0     X      alpha-glucan  \n",
       "1     X            starch  \n",
       "2     X       beta-mannan  \n",
       "3     X       host glycan  \n",
       "4     X            starch  "
      ]
     },
     "execution_count": 6,
     "metadata": {},
     "output_type": "execute_result"
    }
   ],
   "source": [
    "jf_uhgg.head()"
   ]
  },
  {
   "cell_type": "code",
   "execution_count": 7,
   "id": "dd6cc26c",
   "metadata": {},
   "outputs": [],
   "source": [
    "jf_uhgg = jf_uhgg.drop_duplicates(\"cgc_id\")"
   ]
  },
  {
   "cell_type": "code",
   "execution_count": 8,
   "id": "ce507303",
   "metadata": {},
   "outputs": [
    {
     "data": {
      "text/plain": [
       "(27195, 4)"
      ]
     },
     "execution_count": 8,
     "metadata": {},
     "output_type": "execute_result"
    }
   ],
   "source": [
    "jf_uhgg.shape"
   ]
  },
  {
   "cell_type": "code",
   "execution_count": 9,
   "id": "8d65d918",
   "metadata": {},
   "outputs": [
    {
     "data": {
      "text/plain": [
       "27195"
      ]
     },
     "execution_count": 9,
     "metadata": {},
     "output_type": "execute_result"
    }
   ],
   "source": [
    "jf_uhgg[\"cgc_id\"].nunique()"
   ]
  },
  {
   "cell_type": "code",
   "execution_count": 10,
   "id": "d7a76602",
   "metadata": {},
   "outputs": [],
   "source": [
    "jf_uhgg.columns = [\"cgc_id\", \"sig_gene_seq\", \"PULid\", \"JF_high_level_substr\"]"
   ]
  },
  {
   "cell_type": "code",
   "execution_count": 11,
   "id": "5007ecfc",
   "metadata": {},
   "outputs": [],
   "source": [
    "## read subfinder output\n",
    "subfinder_uhgg = pd.read_csv(r\"Data/Output/Predictions/Predictions_UHGG_with_probability_and_p_values_Blast_Style_new_sup_new_unsup.csv\")"
   ]
  },
  {
   "cell_type": "code",
   "execution_count": 12,
   "id": "0769fd84",
   "metadata": {},
   "outputs": [
    {
     "data": {
      "text/plain": [
       "(470888, 4)"
      ]
     },
     "execution_count": 12,
     "metadata": {},
     "output_type": "execute_result"
    }
   ],
   "source": [
    "subfinder_uhgg.shape"
   ]
  },
  {
   "cell_type": "code",
   "execution_count": 13,
   "id": "026f17ad",
   "metadata": {},
   "outputs": [
    {
     "data": {
      "text/plain": [
       "58861"
      ]
     },
     "execution_count": 13,
     "metadata": {},
     "output_type": "execute_result"
    }
   ],
   "source": [
    "subfinder_uhgg[\"sequence\"].nunique()"
   ]
  },
  {
   "cell_type": "code",
   "execution_count": 14,
   "id": "00fea272",
   "metadata": {},
   "outputs": [
    {
     "data": {
      "text/html": [
       "<div>\n",
       "<style scoped>\n",
       "    .dataframe tbody tr th:only-of-type {\n",
       "        vertical-align: middle;\n",
       "    }\n",
       "\n",
       "    .dataframe tbody tr th {\n",
       "        vertical-align: top;\n",
       "    }\n",
       "\n",
       "    .dataframe thead th {\n",
       "        text-align: right;\n",
       "    }\n",
       "</style>\n",
       "<table border=\"1\" class=\"dataframe\">\n",
       "  <thead>\n",
       "    <tr style=\"text-align: right;\">\n",
       "      <th></th>\n",
       "      <th>sequence</th>\n",
       "      <th>substrate</th>\n",
       "      <th>probability_score</th>\n",
       "      <th>p_value</th>\n",
       "    </tr>\n",
       "  </thead>\n",
       "  <tbody>\n",
       "    <tr>\n",
       "      <th>0</th>\n",
       "      <td>1.A.1,2.A.9,null,9.B.168,1.A.62,GT51,9.B.186</td>\n",
       "      <td>alginate</td>\n",
       "      <td>0.198667</td>\n",
       "      <td>0.999969</td>\n",
       "    </tr>\n",
       "    <tr>\n",
       "      <th>1</th>\n",
       "      <td>1.A.1,2.A.9,null,9.B.168,1.A.62,GT51,9.B.186</td>\n",
       "      <td>beta-glucan</td>\n",
       "      <td>0.262000</td>\n",
       "      <td>0.999969</td>\n",
       "    </tr>\n",
       "    <tr>\n",
       "      <th>2</th>\n",
       "      <td>1.A.1,2.A.9,null,9.B.168,1.A.62,GT51,9.B.186</td>\n",
       "      <td>capsule polysaccharide synthesis</td>\n",
       "      <td>0.262667</td>\n",
       "      <td>0.999969</td>\n",
       "    </tr>\n",
       "    <tr>\n",
       "      <th>3</th>\n",
       "      <td>1.A.1,2.A.9,null,9.B.168,1.A.62,GT51,9.B.186</td>\n",
       "      <td>cellulose</td>\n",
       "      <td>0.314667</td>\n",
       "      <td>0.999969</td>\n",
       "    </tr>\n",
       "    <tr>\n",
       "      <th>4</th>\n",
       "      <td>1.A.1,2.A.9,null,9.B.168,1.A.62,GT51,9.B.186</td>\n",
       "      <td>host glycan</td>\n",
       "      <td>0.257333</td>\n",
       "      <td>0.999969</td>\n",
       "    </tr>\n",
       "  </tbody>\n",
       "</table>\n",
       "</div>"
      ],
      "text/plain": [
       "                                       sequence  \\\n",
       "0  1.A.1,2.A.9,null,9.B.168,1.A.62,GT51,9.B.186   \n",
       "1  1.A.1,2.A.9,null,9.B.168,1.A.62,GT51,9.B.186   \n",
       "2  1.A.1,2.A.9,null,9.B.168,1.A.62,GT51,9.B.186   \n",
       "3  1.A.1,2.A.9,null,9.B.168,1.A.62,GT51,9.B.186   \n",
       "4  1.A.1,2.A.9,null,9.B.168,1.A.62,GT51,9.B.186   \n",
       "\n",
       "                          substrate  probability_score   p_value  \n",
       "0                          alginate           0.198667  0.999969  \n",
       "1                       beta-glucan           0.262000  0.999969  \n",
       "2  capsule polysaccharide synthesis           0.262667  0.999969  \n",
       "3                         cellulose           0.314667  0.999969  \n",
       "4                       host glycan           0.257333  0.999969  "
      ]
     },
     "execution_count": 14,
     "metadata": {},
     "output_type": "execute_result"
    }
   ],
   "source": [
    "subfinder_uhgg.head()"
   ]
  },
  {
   "cell_type": "code",
   "execution_count": 15,
   "id": "7a968047",
   "metadata": {},
   "outputs": [],
   "source": [
    "subfinder_uhgg.columns = [\"sequence\", \"subFinder_high_level_substr\", \"probability_score\", \"p_value\"]"
   ]
  },
  {
   "cell_type": "code",
   "execution_count": 16,
   "id": "b859b868",
   "metadata": {},
   "outputs": [
    {
     "data": {
      "text/plain": [
       "58861"
      ]
     },
     "execution_count": 16,
     "metadata": {},
     "output_type": "execute_result"
    }
   ],
   "source": [
    "len(subfinder_uhgg.groupby('sequence')['probability_score'].idxmax().values)"
   ]
  },
  {
   "cell_type": "code",
   "execution_count": 17,
   "id": "ec033834",
   "metadata": {},
   "outputs": [],
   "source": [
    "subfinder_uhgg_preds = subfinder_uhgg.iloc[subfinder_uhgg.groupby('sequence')['probability_score'].idxmax().values,:]"
   ]
  },
  {
   "cell_type": "code",
   "execution_count": 18,
   "id": "09cdf2a5",
   "metadata": {},
   "outputs": [],
   "source": [
    "subfinder_uhgg_preds = subfinder_uhgg_preds.reset_index(drop = True)"
   ]
  },
  {
   "cell_type": "code",
   "execution_count": 19,
   "id": "6cbfed87",
   "metadata": {},
   "outputs": [
    {
     "data": {
      "text/html": [
       "<div>\n",
       "<style scoped>\n",
       "    .dataframe tbody tr th:only-of-type {\n",
       "        vertical-align: middle;\n",
       "    }\n",
       "\n",
       "    .dataframe tbody tr th {\n",
       "        vertical-align: top;\n",
       "    }\n",
       "\n",
       "    .dataframe thead th {\n",
       "        text-align: right;\n",
       "    }\n",
       "</style>\n",
       "<table border=\"1\" class=\"dataframe\">\n",
       "  <thead>\n",
       "    <tr style=\"text-align: right;\">\n",
       "      <th></th>\n",
       "      <th>sequence</th>\n",
       "      <th>subFinder_high_level_substr</th>\n",
       "      <th>probability_score</th>\n",
       "      <th>p_value</th>\n",
       "    </tr>\n",
       "  </thead>\n",
       "  <tbody>\n",
       "    <tr>\n",
       "      <th>0</th>\n",
       "      <td>1.A.1,2.A.9,null,9.B.168,1.A.62,GT51,9.B.186</td>\n",
       "      <td>starch</td>\n",
       "      <td>0.338000</td>\n",
       "      <td>0.999969</td>\n",
       "    </tr>\n",
       "    <tr>\n",
       "      <th>1</th>\n",
       "      <td>1.A.1,2.A.9,null,null,9.B.168,1.A.62,GT51,9.B.186</td>\n",
       "      <td>pectin</td>\n",
       "      <td>0.319333</td>\n",
       "      <td>0.999969</td>\n",
       "    </tr>\n",
       "    <tr>\n",
       "      <th>2</th>\n",
       "      <td>1.A.1,9.B.10,null,null,AA10</td>\n",
       "      <td>beta-glucan</td>\n",
       "      <td>0.316000</td>\n",
       "      <td>0.999969</td>\n",
       "    </tr>\n",
       "    <tr>\n",
       "      <th>3</th>\n",
       "      <td>1.A.1,9.B.143,GH13_20</td>\n",
       "      <td>starch</td>\n",
       "      <td>0.433333</td>\n",
       "      <td>0.999512</td>\n",
       "    </tr>\n",
       "    <tr>\n",
       "      <th>4</th>\n",
       "      <td>1.A.1,9.B.23,null,9.A.40,GH12</td>\n",
       "      <td>cellulose</td>\n",
       "      <td>0.327333</td>\n",
       "      <td>0.999969</td>\n",
       "    </tr>\n",
       "  </tbody>\n",
       "</table>\n",
       "</div>"
      ],
      "text/plain": [
       "                                            sequence  \\\n",
       "0       1.A.1,2.A.9,null,9.B.168,1.A.62,GT51,9.B.186   \n",
       "1  1.A.1,2.A.9,null,null,9.B.168,1.A.62,GT51,9.B.186   \n",
       "2                        1.A.1,9.B.10,null,null,AA10   \n",
       "3                              1.A.1,9.B.143,GH13_20   \n",
       "4                      1.A.1,9.B.23,null,9.A.40,GH12   \n",
       "\n",
       "  subFinder_high_level_substr  probability_score   p_value  \n",
       "0                      starch           0.338000  0.999969  \n",
       "1                      pectin           0.319333  0.999969  \n",
       "2                 beta-glucan           0.316000  0.999969  \n",
       "3                      starch           0.433333  0.999512  \n",
       "4                   cellulose           0.327333  0.999969  "
      ]
     },
     "execution_count": 19,
     "metadata": {},
     "output_type": "execute_result"
    }
   ],
   "source": [
    "subfinder_uhgg_preds.head()"
   ]
  },
  {
   "cell_type": "code",
   "execution_count": 20,
   "id": "aef3adbd",
   "metadata": {},
   "outputs": [
    {
     "data": {
      "text/html": [
       "<div>\n",
       "<style scoped>\n",
       "    .dataframe tbody tr th:only-of-type {\n",
       "        vertical-align: middle;\n",
       "    }\n",
       "\n",
       "    .dataframe tbody tr th {\n",
       "        vertical-align: top;\n",
       "    }\n",
       "\n",
       "    .dataframe thead th {\n",
       "        text-align: right;\n",
       "    }\n",
       "</style>\n",
       "<table border=\"1\" class=\"dataframe\">\n",
       "  <thead>\n",
       "    <tr style=\"text-align: right;\">\n",
       "      <th></th>\n",
       "      <th>sequence</th>\n",
       "      <th>subFinder_high_level_substr</th>\n",
       "      <th>probability_score</th>\n",
       "      <th>p_value</th>\n",
       "    </tr>\n",
       "  </thead>\n",
       "  <tbody>\n",
       "    <tr>\n",
       "      <th>0</th>\n",
       "      <td>1.A.1,2.A.9,null,9.B.168,1.A.62,GT51,9.B.186</td>\n",
       "      <td>starch</td>\n",
       "      <td>0.338000</td>\n",
       "      <td>0.999969</td>\n",
       "    </tr>\n",
       "    <tr>\n",
       "      <th>1</th>\n",
       "      <td>1.A.1,2.A.9,null,null,9.B.168,1.A.62,GT51,9.B.186</td>\n",
       "      <td>pectin</td>\n",
       "      <td>0.319333</td>\n",
       "      <td>0.999969</td>\n",
       "    </tr>\n",
       "    <tr>\n",
       "      <th>2</th>\n",
       "      <td>1.A.1,9.B.10,null,null,AA10</td>\n",
       "      <td>beta-glucan</td>\n",
       "      <td>0.316000</td>\n",
       "      <td>0.999969</td>\n",
       "    </tr>\n",
       "    <tr>\n",
       "      <th>3</th>\n",
       "      <td>1.A.1,9.B.143,GH13_20</td>\n",
       "      <td>starch</td>\n",
       "      <td>0.433333</td>\n",
       "      <td>0.999512</td>\n",
       "    </tr>\n",
       "    <tr>\n",
       "      <th>4</th>\n",
       "      <td>1.A.1,9.B.23,null,9.A.40,GH12</td>\n",
       "      <td>cellulose</td>\n",
       "      <td>0.327333</td>\n",
       "      <td>0.999969</td>\n",
       "    </tr>\n",
       "    <tr>\n",
       "      <th>...</th>\n",
       "      <td>...</td>\n",
       "      <td>...</td>\n",
       "      <td>...</td>\n",
       "      <td>...</td>\n",
       "    </tr>\n",
       "    <tr>\n",
       "      <th>58856</th>\n",
       "      <td>SLH,null,GH36,GH36,1.B.52,GH94,LacI,null,3.A.7</td>\n",
       "      <td>starch</td>\n",
       "      <td>0.512000</td>\n",
       "      <td>0.303619</td>\n",
       "    </tr>\n",
       "    <tr>\n",
       "      <th>58857</th>\n",
       "      <td>SLH|CBM54,GH2,HTH_5,3.A.1,3.A.1</td>\n",
       "      <td>starch</td>\n",
       "      <td>0.444000</td>\n",
       "      <td>0.996307</td>\n",
       "    </tr>\n",
       "    <tr>\n",
       "      <th>58858</th>\n",
       "      <td>SLH|CBM54|GH26|CBM27|CBM23,null,1.B.52</td>\n",
       "      <td>cellulose</td>\n",
       "      <td>0.502667</td>\n",
       "      <td>0.500000</td>\n",
       "    </tr>\n",
       "    <tr>\n",
       "      <th>58859</th>\n",
       "      <td>SLH|GH25,2.A.7</td>\n",
       "      <td>starch</td>\n",
       "      <td>0.318000</td>\n",
       "      <td>0.999969</td>\n",
       "    </tr>\n",
       "    <tr>\n",
       "      <th>58860</th>\n",
       "      <td>SLH|SLH|SLH,null,3.D.1</td>\n",
       "      <td>starch</td>\n",
       "      <td>0.390667</td>\n",
       "      <td>0.999969</td>\n",
       "    </tr>\n",
       "  </tbody>\n",
       "</table>\n",
       "<p>58861 rows × 4 columns</p>\n",
       "</div>"
      ],
      "text/plain": [
       "                                                sequence  \\\n",
       "0           1.A.1,2.A.9,null,9.B.168,1.A.62,GT51,9.B.186   \n",
       "1      1.A.1,2.A.9,null,null,9.B.168,1.A.62,GT51,9.B.186   \n",
       "2                            1.A.1,9.B.10,null,null,AA10   \n",
       "3                                  1.A.1,9.B.143,GH13_20   \n",
       "4                          1.A.1,9.B.23,null,9.A.40,GH12   \n",
       "...                                                  ...   \n",
       "58856     SLH,null,GH36,GH36,1.B.52,GH94,LacI,null,3.A.7   \n",
       "58857                    SLH|CBM54,GH2,HTH_5,3.A.1,3.A.1   \n",
       "58858             SLH|CBM54|GH26|CBM27|CBM23,null,1.B.52   \n",
       "58859                                     SLH|GH25,2.A.7   \n",
       "58860                             SLH|SLH|SLH,null,3.D.1   \n",
       "\n",
       "      subFinder_high_level_substr  probability_score   p_value  \n",
       "0                          starch           0.338000  0.999969  \n",
       "1                          pectin           0.319333  0.999969  \n",
       "2                     beta-glucan           0.316000  0.999969  \n",
       "3                          starch           0.433333  0.999512  \n",
       "4                       cellulose           0.327333  0.999969  \n",
       "...                           ...                ...       ...  \n",
       "58856                      starch           0.512000  0.303619  \n",
       "58857                      starch           0.444000  0.996307  \n",
       "58858                   cellulose           0.502667  0.500000  \n",
       "58859                      starch           0.318000  0.999969  \n",
       "58860                      starch           0.390667  0.999969  \n",
       "\n",
       "[58861 rows x 4 columns]"
      ]
     },
     "execution_count": 20,
     "metadata": {},
     "output_type": "execute_result"
    }
   ],
   "source": [
    "subfinder_uhgg_preds"
   ]
  },
  {
   "cell_type": "code",
   "execution_count": 21,
   "id": "e77aa9d9",
   "metadata": {},
   "outputs": [],
   "source": [
    "to_keep = subfinder_uhgg_preds[\"subFinder_high_level_substr\"].unique()"
   ]
  },
  {
   "cell_type": "code",
   "execution_count": 22,
   "id": "30678fdd",
   "metadata": {},
   "outputs": [],
   "source": [
    "uhgg_data = pd.read_csv(r\"Data/Output/Unsupervised_10_12/output_UHGG.csv\")"
   ]
  },
  {
   "cell_type": "code",
   "execution_count": 23,
   "id": "d7153699",
   "metadata": {},
   "outputs": [],
   "source": [
    "uhgg_data = uhgg_data.drop_duplicates(\"sequence\")"
   ]
  },
  {
   "cell_type": "code",
   "execution_count": 24,
   "id": "043bbd1f",
   "metadata": {},
   "outputs": [],
   "source": [
    "subfinder_uhgg_preds = subfinder_uhgg_preds.merge(uhgg_data, how = \"left\", on = \"sequence\")"
   ]
  },
  {
   "cell_type": "code",
   "execution_count": 25,
   "id": "c3f885d7",
   "metadata": {},
   "outputs": [
    {
     "data": {
      "text/plain": [
       "(58861, 5)"
      ]
     },
     "execution_count": 25,
     "metadata": {},
     "output_type": "execute_result"
    }
   ],
   "source": [
    "subfinder_uhgg_preds.shape"
   ]
  },
  {
   "cell_type": "code",
   "execution_count": 26,
   "id": "713e0fcb",
   "metadata": {},
   "outputs": [
    {
     "data": {
      "text/html": [
       "<div>\n",
       "<style scoped>\n",
       "    .dataframe tbody tr th:only-of-type {\n",
       "        vertical-align: middle;\n",
       "    }\n",
       "\n",
       "    .dataframe tbody tr th {\n",
       "        vertical-align: top;\n",
       "    }\n",
       "\n",
       "    .dataframe thead th {\n",
       "        text-align: right;\n",
       "    }\n",
       "</style>\n",
       "<table border=\"1\" class=\"dataframe\">\n",
       "  <thead>\n",
       "    <tr style=\"text-align: right;\">\n",
       "      <th></th>\n",
       "      <th>sequence</th>\n",
       "      <th>subFinder_high_level_substr</th>\n",
       "      <th>probability_score</th>\n",
       "      <th>p_value</th>\n",
       "      <th>cgc_id</th>\n",
       "    </tr>\n",
       "  </thead>\n",
       "  <tbody>\n",
       "    <tr>\n",
       "      <th>0</th>\n",
       "      <td>1.A.1,2.A.9,null,9.B.168,1.A.62,GT51,9.B.186</td>\n",
       "      <td>starch</td>\n",
       "      <td>0.338000</td>\n",
       "      <td>0.999969</td>\n",
       "      <td>MGYG000001364_9|CGC5</td>\n",
       "    </tr>\n",
       "    <tr>\n",
       "      <th>1</th>\n",
       "      <td>1.A.1,2.A.9,null,null,9.B.168,1.A.62,GT51,9.B.186</td>\n",
       "      <td>pectin</td>\n",
       "      <td>0.319333</td>\n",
       "      <td>0.999969</td>\n",
       "      <td>MGYG000003693_29|CGC2</td>\n",
       "    </tr>\n",
       "    <tr>\n",
       "      <th>2</th>\n",
       "      <td>1.A.1,9.B.10,null,null,AA10</td>\n",
       "      <td>beta-glucan</td>\n",
       "      <td>0.316000</td>\n",
       "      <td>0.999969</td>\n",
       "      <td>MGYG000001436_2|CGC28</td>\n",
       "    </tr>\n",
       "    <tr>\n",
       "      <th>3</th>\n",
       "      <td>1.A.1,9.B.143,GH13_20</td>\n",
       "      <td>starch</td>\n",
       "      <td>0.433333</td>\n",
       "      <td>0.999512</td>\n",
       "      <td>MGYG000000173_1|CGC1</td>\n",
       "    </tr>\n",
       "    <tr>\n",
       "      <th>4</th>\n",
       "      <td>1.A.1,9.B.23,null,9.A.40,GH12</td>\n",
       "      <td>cellulose</td>\n",
       "      <td>0.327333</td>\n",
       "      <td>0.999969</td>\n",
       "      <td>MGYG000000227_6|CGC6</td>\n",
       "    </tr>\n",
       "  </tbody>\n",
       "</table>\n",
       "</div>"
      ],
      "text/plain": [
       "                                            sequence  \\\n",
       "0       1.A.1,2.A.9,null,9.B.168,1.A.62,GT51,9.B.186   \n",
       "1  1.A.1,2.A.9,null,null,9.B.168,1.A.62,GT51,9.B.186   \n",
       "2                        1.A.1,9.B.10,null,null,AA10   \n",
       "3                              1.A.1,9.B.143,GH13_20   \n",
       "4                      1.A.1,9.B.23,null,9.A.40,GH12   \n",
       "\n",
       "  subFinder_high_level_substr  probability_score   p_value  \\\n",
       "0                      starch           0.338000  0.999969   \n",
       "1                      pectin           0.319333  0.999969   \n",
       "2                 beta-glucan           0.316000  0.999969   \n",
       "3                      starch           0.433333  0.999512   \n",
       "4                   cellulose           0.327333  0.999969   \n",
       "\n",
       "                  cgc_id  \n",
       "0   MGYG000001364_9|CGC5  \n",
       "1  MGYG000003693_29|CGC2  \n",
       "2  MGYG000001436_2|CGC28  \n",
       "3   MGYG000000173_1|CGC1  \n",
       "4   MGYG000000227_6|CGC6  "
      ]
     },
     "execution_count": 26,
     "metadata": {},
     "output_type": "execute_result"
    }
   ],
   "source": [
    "subfinder_uhgg_preds.head()"
   ]
  },
  {
   "cell_type": "code",
   "execution_count": 28,
   "id": "c0d9695c",
   "metadata": {},
   "outputs": [
    {
     "data": {
      "text/plain": [
       "19760"
      ]
     },
     "execution_count": 28,
     "metadata": {},
     "output_type": "execute_result"
    }
   ],
   "source": [
    "len(set(subfinder_uhgg_preds[\"cgc_id\"]).intersection(jf_uhgg[\"cgc_id\"]))"
   ]
  },
  {
   "cell_type": "code",
   "execution_count": 29,
   "id": "2d2833d1",
   "metadata": {},
   "outputs": [],
   "source": [
    "jf_uhgg_to_kepp = jf_uhgg[jf_uhgg[\"cgc_id\"].isin(subfinder_uhgg_preds[\"cgc_id\"])]"
   ]
  },
  {
   "cell_type": "code",
   "execution_count": 30,
   "id": "b04272d4",
   "metadata": {},
   "outputs": [],
   "source": [
    "# jf_uhgg_to_kepp = jf_uhgg[jf_uhgg[\"JF_high_level_substr\"].isin(to_keep)]"
   ]
  },
  {
   "cell_type": "code",
   "execution_count": 31,
   "id": "55e4f85a",
   "metadata": {},
   "outputs": [],
   "source": [
    "overlapped = subfinder_uhgg_preds.merge(jf_uhgg_to_kepp[[\"cgc_id\", \"JF_high_level_substr\"]], how = \"inner\", on = [\"cgc_id\"])"
   ]
  },
  {
   "cell_type": "code",
   "execution_count": 32,
   "id": "81f15a51",
   "metadata": {},
   "outputs": [
    {
     "data": {
      "text/html": [
       "<div>\n",
       "<style scoped>\n",
       "    .dataframe tbody tr th:only-of-type {\n",
       "        vertical-align: middle;\n",
       "    }\n",
       "\n",
       "    .dataframe tbody tr th {\n",
       "        vertical-align: top;\n",
       "    }\n",
       "\n",
       "    .dataframe thead th {\n",
       "        text-align: right;\n",
       "    }\n",
       "</style>\n",
       "<table border=\"1\" class=\"dataframe\">\n",
       "  <thead>\n",
       "    <tr style=\"text-align: right;\">\n",
       "      <th></th>\n",
       "      <th>sequence</th>\n",
       "      <th>subFinder_high_level_substr</th>\n",
       "      <th>probability_score</th>\n",
       "      <th>p_value</th>\n",
       "      <th>cgc_id</th>\n",
       "      <th>JF_high_level_substr</th>\n",
       "    </tr>\n",
       "  </thead>\n",
       "  <tbody>\n",
       "    <tr>\n",
       "      <th>0</th>\n",
       "      <td>1.A.1,CE4,3.A.1,3.A.1,3.A.1,Peripla_BP_2,3.A.1</td>\n",
       "      <td>starch</td>\n",
       "      <td>0.414000</td>\n",
       "      <td>0.999969</td>\n",
       "      <td>MGYG000003723_14|CGC2</td>\n",
       "      <td>arabinan</td>\n",
       "    </tr>\n",
       "    <tr>\n",
       "      <th>1</th>\n",
       "      <td>1.A.1,GGDEF,GH32,null,null,GH36,2.A.2,GH2</td>\n",
       "      <td>pectin</td>\n",
       "      <td>0.562667</td>\n",
       "      <td>0.000488</td>\n",
       "      <td>MGYG000000325_14|CGC1</td>\n",
       "      <td>alpha-galactan</td>\n",
       "    </tr>\n",
       "    <tr>\n",
       "      <th>2</th>\n",
       "      <td>1.A.1,GH13_31,HTH_AraC,8.A.59,SBP_bac_1,3.A.1,...</td>\n",
       "      <td>starch</td>\n",
       "      <td>0.722667</td>\n",
       "      <td>0.000000</td>\n",
       "      <td>MGYG000000735_30|CGC1</td>\n",
       "      <td>starch</td>\n",
       "    </tr>\n",
       "    <tr>\n",
       "      <th>3</th>\n",
       "      <td>1.A.1,GH42,LacI,2.A.2,GH36,GntR,null,3.A.1,3.A...</td>\n",
       "      <td>starch</td>\n",
       "      <td>0.602667</td>\n",
       "      <td>0.000000</td>\n",
       "      <td>MGYG000002286_4|CGC3</td>\n",
       "      <td>alpha-galactan</td>\n",
       "    </tr>\n",
       "    <tr>\n",
       "      <th>4</th>\n",
       "      <td>1.A.1,null,null,3.D.4,3.D.4,null,null,2.A.47,n...</td>\n",
       "      <td>capsule polysaccharide synthesis</td>\n",
       "      <td>0.707333</td>\n",
       "      <td>0.000000</td>\n",
       "      <td>MGYG000003387_5|CGC5</td>\n",
       "      <td>capsule polysaccharide synthesis</td>\n",
       "    </tr>\n",
       "  </tbody>\n",
       "</table>\n",
       "</div>"
      ],
      "text/plain": [
       "                                            sequence  \\\n",
       "0     1.A.1,CE4,3.A.1,3.A.1,3.A.1,Peripla_BP_2,3.A.1   \n",
       "1          1.A.1,GGDEF,GH32,null,null,GH36,2.A.2,GH2   \n",
       "2  1.A.1,GH13_31,HTH_AraC,8.A.59,SBP_bac_1,3.A.1,...   \n",
       "3  1.A.1,GH42,LacI,2.A.2,GH36,GntR,null,3.A.1,3.A...   \n",
       "4  1.A.1,null,null,3.D.4,3.D.4,null,null,2.A.47,n...   \n",
       "\n",
       "        subFinder_high_level_substr  probability_score   p_value  \\\n",
       "0                            starch           0.414000  0.999969   \n",
       "1                            pectin           0.562667  0.000488   \n",
       "2                            starch           0.722667  0.000000   \n",
       "3                            starch           0.602667  0.000000   \n",
       "4  capsule polysaccharide synthesis           0.707333  0.000000   \n",
       "\n",
       "                  cgc_id              JF_high_level_substr  \n",
       "0  MGYG000003723_14|CGC2                          arabinan  \n",
       "1  MGYG000000325_14|CGC1                    alpha-galactan  \n",
       "2  MGYG000000735_30|CGC1                            starch  \n",
       "3   MGYG000002286_4|CGC3                    alpha-galactan  \n",
       "4   MGYG000003387_5|CGC5  capsule polysaccharide synthesis  "
      ]
     },
     "execution_count": 32,
     "metadata": {},
     "output_type": "execute_result"
    }
   ],
   "source": [
    "overlapped.head()"
   ]
  },
  {
   "cell_type": "code",
   "execution_count": 33,
   "id": "0ed2669e",
   "metadata": {},
   "outputs": [
    {
     "data": {
      "text/plain": [
       "(19760, 6)"
      ]
     },
     "execution_count": 33,
     "metadata": {},
     "output_type": "execute_result"
    }
   ],
   "source": [
    "overlapped.shape"
   ]
  },
  {
   "cell_type": "code",
   "execution_count": 34,
   "id": "8f8c425a",
   "metadata": {},
   "outputs": [
    {
     "data": {
      "text/plain": [
       "0.42773279352226723"
      ]
     },
     "execution_count": 34,
     "metadata": {},
     "output_type": "execute_result"
    }
   ],
   "source": [
    "np.mean(overlapped[\"subFinder_high_level_substr\"] == overlapped[\"JF_high_level_substr\"])"
   ]
  },
  {
   "cell_type": "code",
   "execution_count": 145,
   "id": "9bb67f56",
   "metadata": {},
   "outputs": [
    {
     "data": {
      "image/png": "[encoded data removed]",
      "text/plain": [
       "<Figure size 432x288 with 1 Axes>"
      ]
     },
     "metadata": {
      "needs_background": "light"
     },
     "output_type": "display_data"
    }
   ],
   "source": [
    "plt.hist(overlapped[\"p_value\"])\n",
    "plt.show()"
   ]
  },
  {
   "cell_type": "code",
   "execution_count": 146,
   "id": "73ba85b8",
   "metadata": {},
   "outputs": [],
   "source": [
    "thresholded = subfinder_uhgg_preds[subfinder_uhgg_preds[\"p_value\"] <= 0.2]"
   ]
  },
  {
   "cell_type": "code",
   "execution_count": 147,
   "id": "3763fe4d",
   "metadata": {},
   "outputs": [],
   "source": [
    "thresholded_overlapped = thresholded.merge(jf_uhgg_to_kepp[[\"cgc_id\", \"JF_high_level_substr\"]], how = \"inner\", on = [\"cgc_id\"])"
   ]
  },
  {
   "cell_type": "code",
   "execution_count": 148,
   "id": "083f721e",
   "metadata": {},
   "outputs": [
    {
     "data": {
      "text/plain": [
       "(8188, 6)"
      ]
     },
     "execution_count": 148,
     "metadata": {},
     "output_type": "execute_result"
    }
   ],
   "source": [
    "thresholded_overlapped.shape"
   ]
  },
  {
   "cell_type": "code",
   "execution_count": 149,
   "id": "588737f4",
   "metadata": {},
   "outputs": [
    {
     "data": {
      "text/plain": [
       "0.8544211040547142"
      ]
     },
     "execution_count": 149,
     "metadata": {},
     "output_type": "execute_result"
    }
   ],
   "source": [
    "np.mean(thresholded_overlapped[\"subFinder_high_level_substr\"] == thresholded_overlapped[\"JF_high_level_substr\"])"
   ]
  }
 ],
 "metadata": {
  "kernelspec": {
   "display_name": "newone1",
   "language": "python",
   "name": "newone1"
  },
  "language_info": {
   "codemirror_mode": {
    "name": "ipython",
    "version": 3
   },
   "file_extension": ".py",
   "mimetype": "text/x-python",
   "name": "python",
   "nbconvert_exporter": "python",
   "pygments_lexer": "ipython3",
   "version": "3.9.12"
  }
 },
 "nbformat": 4,
 "nbformat_minor": 5
}
