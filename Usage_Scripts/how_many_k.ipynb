{
 "cells": [
  {
   "cell_type": "code",
   "execution_count": 1,
   "id": "bc825ff3",
   "metadata": {},
   "outputs": [],
   "source": [
    "import os"
   ]
  },
  {
   "cell_type": "code",
   "execution_count": 2,
   "id": "85ac9347",
   "metadata": {},
   "outputs": [],
   "source": [
    "os.chdir(r'D:\\subFinder')"
   ]
  },
  {
   "cell_type": "code",
   "execution_count": 3,
   "id": "19aee683",
   "metadata": {},
   "outputs": [],
   "source": [
    "## In this script we will train supervised models\n",
    "# library imports\n",
    "import pandas as pd\n",
    "import gensim\n",
    "from Codes.Supervised_Trainer import run_end_to_end\n",
    "from sklearn.model_selection import StratifiedKFold\n",
    "from tqdm.notebook import tqdm\n",
    "from imblearn.ensemble import BalancedRandomForestClassifier\n",
    "from sklearn.metrics import confusion_matrix, accuracy_score\n",
    "from sklearn.metrics import classification_report\n",
    "import numpy as np\n",
    "from sklearn.pipeline import Pipeline\n",
    "from sklearn.feature_extraction.text import CountVectorizer\n",
    "from sklearn.model_selection import GridSearchCV\n",
    "import pandas as pd\n",
    "import matplotlib.pyplot as plt\n",
    "import seaborn as sns\n",
    "from sklearn.multiclass import OneVsRestClassifier\n"
   ]
  },
  {
   "cell_type": "code",
   "execution_count": 4,
   "id": "78a57bd9",
   "metadata": {},
   "outputs": [],
   "source": [
    "\n",
    "## read the data\n",
    "# sup_data_path = r\"Data/Supervised_Sequences/dbCAN-PUL_07-01-2022.xlsx\"\n",
    "new_path = r\"D:\\subFinder\\Data\\Supervised_Sequences\\Table S1.xls\"\n",
    "data = pd.read_excel(new_path)\n",
    "data[\"updated_substrate (09/01/2022)\"] = data[\"updated_substrate (09/01/2022)\"].str.strip()\n",
    "data[\"updated_substrate (09/01/2022)\"] = data[\"updated_substrate (09/01/2022)\"].str.strip()\n",
    "\n",
    "\n",
    "## removing the catch all classes\n",
    "## for example multiple substrates and others \n",
    "old_data = pd.read_csv('Data/Supervised_Sequences/pul_seq_low_high_substr_year_corrected.tsv', sep = \"\\t\")\n",
    "\n",
    "old_data[\"high_level_substr\"] = old_data[\"high_level_substr\"].str.strip()\n",
    "\n",
    "bad_puls = old_data[old_data[\"high_level_substr\"].isin([\"multiple_substrates\", \"mono/di/trisaccharide\", \"-\", \"human milk oligosaccharide\", \n",
    "                                            \"glycoprotein\", \"plant polysaccharide\", \"cellobiose\"])][\"PULid\"].values\n",
    "\n",
    "\n",
    "data = data[~data[\"PUL ID\"].isin(bad_puls)]\n",
    "\n",
    "data = data[[\"PUL ID\", \"updated_substrate (09/01/2022)\"]]\n",
    "data = pd.merge(data, old_data[[\"PULid\",\"sig_gene_seq\"]], left_on = [\"PUL ID\"], right_on = [\"PULid\"], how = \"left\")\n",
    "data.columns = [\"PUL ID\", \"high_level_substr\", \"PULid\", \"sig_gene_seq\"]\n",
    "\n",
    "data = data[~data[\"PUL ID\"].isin(bad_puls)]\n"
   ]
  },
  {
   "cell_type": "code",
   "execution_count": 5,
   "id": "03f2807e",
   "metadata": {},
   "outputs": [],
   "source": [
    "\n",
    "top_k = 10\n",
    "K = 5\n",
    "known_unknown = False\n",
    "\n",
    "\n",
    "## Doc2Vec_DM model\n",
    "model_dm =  gensim.models.doc2vec.Doc2Vec.load(r\"Embedding_Models//doc2vec_dm\") \n",
    "model_dbow = gensim.models.doc2vec.Doc2Vec.load(r\"Embedding_Models//doc2vec_dbow\") \n",
    "model_cbow =gensim.models.word2vec.Word2Vec.load(r\"Embedding_Models//word2vec_cbow\") \n",
    "model_sg =gensim.models.word2vec.Word2Vec.load(r\"Embedding_Models//word2vec_sg\") \n",
    "model_fasttext_sg =gensim.models.word2vec.Word2Vec.load(r\"Embedding_Models//fasttext_sg\") \n",
    "model_fasttext_cbow =gensim.models.word2vec.Word2Vec.load(r\"Embedding_Models//fasttext_cbow\") \n"
   ]
  },
  {
   "cell_type": "code",
   "execution_count": null,
   "id": "3b44f3ad",
   "metadata": {
    "scrolled": true
   },
   "outputs": [
    {
     "data": {
      "application/vnd.jupyter.widget-view+json": {
       "model_id": "29eb4e6cd618433a8930db41bf78cfa6",
       "version_major": 2,
       "version_minor": 0
      },
      "text/plain": [
       "  0%|          | 0/13 [00:00<?, ?it/s]"
      ]
     },
     "metadata": {},
     "output_type": "display_data"
    }
   ],
   "source": [
    "overall_catch = []\n",
    "for top_k in tqdm(range(2,15)):\n",
    "    for featurizer in [\"countvectorizer\", \"doc2vec_dbow\", \"doc2vec_dm\", \"word2vec_cbow\", \"word2vec_sg\", \"fasttext_sg\", \"fasttext_cbow\"]:\n",
    "        if featurizer == \"countvectorizer\":\n",
    "            avg_acc, avg_class_acc, std_err_avg_acc, std_err_avg_classwise_acc, overall_report,  model, params_best, fig, fig2, fig3 = run_end_to_end(top_k, data, featurizer, K, known_unknown, None)\n",
    "        elif featurizer == \"doc2vec_dbow\":\n",
    "            avg_acc, avg_class_acc, std_err_avg_acc, std_err_avg_classwise_acc, overall_report,  model, params_best, fig, fig2, fig3 = run_end_to_end(top_k, data, featurizer, K, known_unknown, model_dbow)\n",
    "        elif featurizer == \"doc2vec_dm\":\n",
    "            avg_acc, avg_class_acc, std_err_avg_acc, std_err_avg_classwise_acc, overall_report,  model, params_best, fig, fig2, fig3 = run_end_to_end(top_k, data, featurizer, K, known_unknown, model_dm)\n",
    "        elif featurizer == \"word2vec_cbow\":\n",
    "            avg_acc, avg_class_acc, std_err_avg_acc, std_err_avg_classwise_acc, overall_report,  model, params_best, fig, fig2, fig3 = run_end_to_end(top_k, data, featurizer, K, known_unknown, model_cbow)            \n",
    "        elif featurizer == \"word2vec_sg\":\n",
    "            avg_acc, avg_class_acc, std_err_avg_acc, std_err_avg_classwise_acc, overall_report,  model, params_best, fig, fig2, fig3 = run_end_to_end(top_k, data, featurizer, K, known_unknown, model_sg)\n",
    "        elif featurizer == \"fasttext_sg\":\n",
    "            avg_acc, avg_class_acc, std_err_avg_acc, std_err_avg_classwise_acc, overall_report,  model, params_best, fig, fig2, fig3 = run_end_to_end(top_k, data, featurizer, K, known_unknown, model_fasttext_sg)      \n",
    "        elif featurizer == \"fasttext_cbow\":\n",
    "            avg_acc, avg_class_acc, std_err_avg_acc, std_err_avg_classwise_acc, overall_report,  model, params_best, fig, fig2, fig3 = run_end_to_end(top_k, data, featurizer, K, known_unknown, model_fasttext_cbow)   \n",
    "        \n",
    "        overall_catch.append([top_k, featurizer, avg_acc, avg_class_acc, std_err_avg_acc, std_err_avg_classwise_acc, \n",
    "                             overall_report[\"precision\"], overall_report[\"recall\"], overall_report[\"f1-score\"]])"
   ]
  },
  {
   "cell_type": "code",
   "execution_count": null,
   "id": "f5c2f3e7",
   "metadata": {},
   "outputs": [],
   "source": [
    "model = None"
   ]
  },
  {
   "cell_type": "code",
   "execution_count": null,
   "id": "b218f766",
   "metadata": {},
   "outputs": [],
   "source": [
    "if model is None"
   ]
  }
 ],
 "metadata": {
  "kernelspec": {
   "display_name": "newone1",
   "language": "python",
   "name": "newone1"
  },
  "language_info": {
   "codemirror_mode": {
    "name": "ipython",
    "version": 3
   },
   "file_extension": ".py",
   "mimetype": "text/x-python",
   "name": "python",
   "nbconvert_exporter": "python",
   "pygments_lexer": "ipython3",
   "version": "3.9.12"
  }
 },
 "nbformat": 4,
 "nbformat_minor": 5
}
