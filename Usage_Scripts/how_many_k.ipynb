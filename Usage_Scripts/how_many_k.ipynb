{
 "cells": [
  {
   "cell_type": "code",
   "execution_count": 1,
   "id": "23659b5e",
   "metadata": {},
   "outputs": [],
   "source": [
    "import os"
   ]
  },
  {
   "cell_type": "code",
   "execution_count": 2,
   "id": "5226ae22",
   "metadata": {},
   "outputs": [],
   "source": [
    "os.chdir(r'D:\\subFinder')"
   ]
  },
  {
   "cell_type": "code",
   "execution_count": 3,
   "id": "d7aa97e5",
   "metadata": {},
   "outputs": [],
   "source": [
    "## In this script we will train supervised models\n",
    "# library imports\n",
    "import pandas as pd\n",
    "import gensim\n",
    "from Codes.Supervised_Trainer import run_end_to_end\n",
    "from sklearn.model_selection import StratifiedKFold\n",
    "from tqdm.notebook import tqdm\n",
    "from imblearn.ensemble import BalancedRandomForestClassifier\n",
    "from sklearn.metrics import confusion_matrix, accuracy_score\n",
    "from sklearn.metrics import classification_report\n",
    "import numpy as np\n",
    "from sklearn.pipeline import Pipeline\n",
    "from sklearn.feature_extraction.text import CountVectorizer\n",
    "from sklearn.model_selection import GridSearchCV\n",
    "import pandas as pd\n",
    "import matplotlib.pyplot as plt\n",
    "import seaborn as sns\n",
    "from sklearn.multiclass import OneVsRestClassifier\n",
    "import plotly.express as px"
   ]
  },
  {
   "cell_type": "code",
   "execution_count": 35,
   "id": "a1e84f28",
   "metadata": {},
   "outputs": [],
   "source": [
    "\n",
    "## read the data\n",
    "# sup_data_path = r\"Data/Supervised_Sequences/dbCAN-PUL_07-01-2022.xlsx\"\n",
    "new_path = r\"D:\\subFinder\\Data\\Supervised_Sequences\\Table S1.xls\"\n",
    "data = pd.read_excel(new_path)\n",
    "data[\"updated_substrate (09/01/2022)\"] = data[\"updated_substrate (09/01/2022)\"].str.strip()\n",
    "data[\"updated_substrate (09/01/2022)\"] = data[\"updated_substrate (09/01/2022)\"].str.strip()\n",
    "\n",
    "\n",
    "## removing the catch all classes\n",
    "## for example multiple substrates and others \n",
    "old_data = pd.read_csv('Data/Supervised_Sequences/pul_seq_low_high_substr_year_corrected.tsv', sep = \"\\t\")\n",
    "\n",
    "old_data[\"high_level_substr\"] = old_data[\"high_level_substr\"].str.strip()\n",
    "\n",
    "bad_puls = old_data[old_data[\"high_level_substr\"].isin([\"multiple_substrates\", \"mono/di/trisaccharide\", \"-\", \"human milk oligosaccharide\", \n",
    "                                            \"glycoprotein\", \"plant polysaccharide\", \"cellobiose\"])][\"PULid\"].values\n",
    "\n",
    "\n",
    "data = data[~data[\"PUL ID\"].isin(bad_puls)]\n",
    "\n",
    "data = data[[\"PUL ID\", \"updated_substrate (09/01/2022)\"]]\n",
    "data = pd.merge(data, old_data[[\"PULid\",\"sig_gene_seq\"]], left_on = [\"PUL ID\"], right_on = [\"PULid\"], how = \"left\")\n",
    "data.columns = [\"PUL ID\", \"high_level_substr\", \"PULid\", \"sig_gene_seq\"]\n",
    "\n",
    "data = data[~data[\"PUL ID\"].isin(bad_puls)]\n"
   ]
  },
  {
   "cell_type": "code",
   "execution_count": 36,
   "id": "21b2f9ce",
   "metadata": {},
   "outputs": [],
   "source": [
    "## read the data\n",
    "# sup_data_path = r\"Data/Supervised_Sequences/dbCAN-PUL_07-01-2022.xlsx\"\n",
    "new_sup_data_with_nulls = pd.read_csv(r\"D:\\subFinder\\Data\\Supervised_Sequences\\supervised_seq_with_null.tsv\", sep = \"\\t\", \n",
    "                                      header = None)\n",
    "new_sup_data_with_nulls.columns = [\"PUL ID\", \"sequence\"]"
   ]
  },
  {
   "cell_type": "code",
   "execution_count": 37,
   "id": "e908e9f2",
   "metadata": {},
   "outputs": [
    {
     "name": "stderr",
     "output_type": "stream",
     "text": [
      "C:\\Users\\vedpi\\AppData\\Local\\Temp\\ipykernel_9812\\282975859.py:2: FutureWarning:\n",
      "\n",
      "In a future version of pandas all arguments of DataFrame.drop except for the argument 'labels' will be keyword-only.\n",
      "\n"
     ]
    }
   ],
   "source": [
    "data = pd.merge(data, new_sup_data_with_nulls, on = [\"PUL ID\"], how = \"left\")\n",
    "data = data.drop([\"sig_gene_seq\"],1)\n",
    "data.columns = ['PUL ID', 'high_level_substr', 'PULid', 'sig_gene_seq']"
   ]
  },
  {
   "cell_type": "code",
   "execution_count": 38,
   "id": "1ef9f663",
   "metadata": {},
   "outputs": [],
   "source": [
    "data.to_csv(r\"Data/Supervised_Sequences/updated_data_filtered.csv\", index = False)"
   ]
  },
  {
   "cell_type": "code",
   "execution_count": 39,
   "id": "9c3135ca",
   "metadata": {},
   "outputs": [
    {
     "data": {
      "text/plain": [
       "capsule polysaccharide synthesis      106\n",
       "pectin                                 39\n",
       "xylan                                  35\n",
       "beta-glucan                            21\n",
       "alginate                               21\n",
       "host glycan                            19\n",
       "cellulose                              16\n",
       "starch                                 16\n",
       "chitin                                 15\n",
       "galactomannan                          15\n",
       "glycosaminoglycan                      14\n",
       "arabinan                               12\n",
       "galactan                               10\n",
       "alpha-mannan                            8\n",
       "beta-mannan                             8\n",
       "carrageenan                             8\n",
       "xyloglucan                              7\n",
       "fructan                                 7\n",
       "arabinoxylan                            6\n",
       "agarose                                 6\n",
       "arabinogalactan                         5\n",
       "capsule polysaccharide degradation      4\n",
       "beta-galactooligosaccharide             4\n",
       "glucomannan                             3\n",
       "glycogen                                3\n",
       "alpha-glucan                            3\n",
       "Name: high_level_substr, dtype: int64"
      ]
     },
     "execution_count": 39,
     "metadata": {},
     "output_type": "execute_result"
    }
   ],
   "source": [
    "data[\"high_level_substr\"].value_counts()"
   ]
  },
  {
   "cell_type": "code",
   "execution_count": 4,
   "id": "9963c3de",
   "metadata": {},
   "outputs": [
    {
     "ename": "KeyboardInterrupt",
     "evalue": "",
     "output_type": "error",
     "traceback": [
      "\u001b[1;31m---------------------------------------------------------------------------\u001b[0m",
      "\u001b[1;31mKeyboardInterrupt\u001b[0m                         Traceback (most recent call last)",
      "Input \u001b[1;32mIn [4]\u001b[0m, in \u001b[0;36m<cell line: 11>\u001b[1;34m()\u001b[0m\n\u001b[0;32m      9\u001b[0m model_cbow \u001b[38;5;241m=\u001b[39mgensim\u001b[38;5;241m.\u001b[39mmodels\u001b[38;5;241m.\u001b[39mword2vec\u001b[38;5;241m.\u001b[39mWord2Vec\u001b[38;5;241m.\u001b[39mload(\u001b[38;5;124mr\u001b[39m\u001b[38;5;124m\"\u001b[39m\u001b[38;5;124mEmbedding_Models_10_12//word2vec_cbow\u001b[39m\u001b[38;5;124m\"\u001b[39m) \n\u001b[0;32m     10\u001b[0m model_sg \u001b[38;5;241m=\u001b[39mgensim\u001b[38;5;241m.\u001b[39mmodels\u001b[38;5;241m.\u001b[39mword2vec\u001b[38;5;241m.\u001b[39mWord2Vec\u001b[38;5;241m.\u001b[39mload(\u001b[38;5;124mr\u001b[39m\u001b[38;5;124m\"\u001b[39m\u001b[38;5;124mEmbedding_Models_10_12//word2vec_sg\u001b[39m\u001b[38;5;124m\"\u001b[39m) \n\u001b[1;32m---> 11\u001b[0m model_fasttext_sg \u001b[38;5;241m=\u001b[39m\u001b[43mgensim\u001b[49m\u001b[38;5;241;43m.\u001b[39;49m\u001b[43mmodels\u001b[49m\u001b[38;5;241;43m.\u001b[39;49m\u001b[43mword2vec\u001b[49m\u001b[38;5;241;43m.\u001b[39;49m\u001b[43mWord2Vec\u001b[49m\u001b[38;5;241;43m.\u001b[39;49m\u001b[43mload\u001b[49m\u001b[43m(\u001b[49m\u001b[38;5;124;43mr\u001b[39;49m\u001b[38;5;124;43m\"\u001b[39;49m\u001b[38;5;124;43mEmbedding_Models_10_12//fasttext_sg\u001b[39;49m\u001b[38;5;124;43m\"\u001b[39;49m\u001b[43m)\u001b[49m \n\u001b[0;32m     12\u001b[0m model_fasttext_cbow \u001b[38;5;241m=\u001b[39mgensim\u001b[38;5;241m.\u001b[39mmodels\u001b[38;5;241m.\u001b[39mword2vec\u001b[38;5;241m.\u001b[39mWord2Vec\u001b[38;5;241m.\u001b[39mload(\u001b[38;5;124mr\u001b[39m\u001b[38;5;124m\"\u001b[39m\u001b[38;5;124mEmbedding_Models_10_12//fasttext_cbow\u001b[39m\u001b[38;5;124m\"\u001b[39m)\n",
      "File \u001b[1;32m~\\.conda\\envs\\newone1\\lib\\site-packages\\gensim\\models\\word2vec.py:1939\u001b[0m, in \u001b[0;36mWord2Vec.load\u001b[1;34m(cls, rethrow, *args, **kwargs)\u001b[0m\n\u001b[0;32m   1920\u001b[0m \u001b[38;5;124;03m\"\"\"Load a previously saved :class:`~gensim.models.word2vec.Word2Vec` model.\u001b[39;00m\n\u001b[0;32m   1921\u001b[0m \n\u001b[0;32m   1922\u001b[0m \u001b[38;5;124;03mSee Also\u001b[39;00m\n\u001b[1;32m   (...)\u001b[0m\n\u001b[0;32m   1936\u001b[0m \n\u001b[0;32m   1937\u001b[0m \u001b[38;5;124;03m\"\"\"\u001b[39;00m\n\u001b[0;32m   1938\u001b[0m \u001b[38;5;28;01mtry\u001b[39;00m:\n\u001b[1;32m-> 1939\u001b[0m     model \u001b[38;5;241m=\u001b[39m \u001b[38;5;28msuper\u001b[39m(Word2Vec, \u001b[38;5;28mcls\u001b[39m)\u001b[38;5;241m.\u001b[39mload(\u001b[38;5;241m*\u001b[39margs, \u001b[38;5;241m*\u001b[39m\u001b[38;5;241m*\u001b[39mkwargs)\n\u001b[0;32m   1940\u001b[0m     \u001b[38;5;28;01mif\u001b[39;00m \u001b[38;5;129;01mnot\u001b[39;00m \u001b[38;5;28misinstance\u001b[39m(model, Word2Vec):\n\u001b[0;32m   1941\u001b[0m         rethrow \u001b[38;5;241m=\u001b[39m \u001b[38;5;28;01mTrue\u001b[39;00m\n",
      "File \u001b[1;32m~\\.conda\\envs\\newone1\\lib\\site-packages\\gensim\\utils.py:487\u001b[0m, in \u001b[0;36mSaveLoad.load\u001b[1;34m(cls, fname, mmap)\u001b[0m\n\u001b[0;32m    484\u001b[0m compress, subname \u001b[38;5;241m=\u001b[39m SaveLoad\u001b[38;5;241m.\u001b[39m_adapt_by_suffix(fname)\n\u001b[0;32m    486\u001b[0m obj \u001b[38;5;241m=\u001b[39m unpickle(fname)\n\u001b[1;32m--> 487\u001b[0m \u001b[43mobj\u001b[49m\u001b[38;5;241;43m.\u001b[39;49m\u001b[43m_load_specials\u001b[49m\u001b[43m(\u001b[49m\u001b[43mfname\u001b[49m\u001b[43m,\u001b[49m\u001b[43m \u001b[49m\u001b[43mmmap\u001b[49m\u001b[43m,\u001b[49m\u001b[43m \u001b[49m\u001b[43mcompress\u001b[49m\u001b[43m,\u001b[49m\u001b[43m \u001b[49m\u001b[43msubname\u001b[49m\u001b[43m)\u001b[49m\n\u001b[0;32m    488\u001b[0m obj\u001b[38;5;241m.\u001b[39madd_lifecycle_event(\u001b[38;5;124m\"\u001b[39m\u001b[38;5;124mloaded\u001b[39m\u001b[38;5;124m\"\u001b[39m, fname\u001b[38;5;241m=\u001b[39mfname)\n\u001b[0;32m    489\u001b[0m \u001b[38;5;28;01mreturn\u001b[39;00m obj\n",
      "File \u001b[1;32m~\\.conda\\envs\\newone1\\lib\\site-packages\\gensim\\models\\fasttext.py:641\u001b[0m, in \u001b[0;36mFastText._load_specials\u001b[1;34m(self, *args, **kwargs)\u001b[0m\n\u001b[0;32m    639\u001b[0m \u001b[38;5;28;01mdef\u001b[39;00m \u001b[38;5;21m_load_specials\u001b[39m(\u001b[38;5;28mself\u001b[39m, \u001b[38;5;241m*\u001b[39margs, \u001b[38;5;241m*\u001b[39m\u001b[38;5;241m*\u001b[39mkwargs):\n\u001b[0;32m    640\u001b[0m     \u001b[38;5;124;03m\"\"\"Handle special requirements of `.load()` protocol, usually up-converting older versions.\"\"\"\u001b[39;00m\n\u001b[1;32m--> 641\u001b[0m     \u001b[38;5;28msuper\u001b[39m(FastText, \u001b[38;5;28mself\u001b[39m)\u001b[38;5;241m.\u001b[39m_load_specials(\u001b[38;5;241m*\u001b[39margs, \u001b[38;5;241m*\u001b[39m\u001b[38;5;241m*\u001b[39mkwargs)\n\u001b[0;32m    642\u001b[0m     \u001b[38;5;28;01mif\u001b[39;00m \u001b[38;5;28mhasattr\u001b[39m(\u001b[38;5;28mself\u001b[39m, \u001b[38;5;124m'\u001b[39m\u001b[38;5;124mbucket\u001b[39m\u001b[38;5;124m'\u001b[39m):\n\u001b[0;32m    643\u001b[0m         \u001b[38;5;66;03m# should only exist in one place: the wv subcomponent\u001b[39;00m\n\u001b[0;32m    644\u001b[0m         \u001b[38;5;28mself\u001b[39m\u001b[38;5;241m.\u001b[39mwv\u001b[38;5;241m.\u001b[39mbucket \u001b[38;5;241m=\u001b[39m \u001b[38;5;28mself\u001b[39m\u001b[38;5;241m.\u001b[39mbucket\n",
      "File \u001b[1;32m~\\.conda\\envs\\newone1\\lib\\site-packages\\gensim\\models\\word2vec.py:1955\u001b[0m, in \u001b[0;36mWord2Vec._load_specials\u001b[1;34m(self, *args, **kwargs)\u001b[0m\n\u001b[0;32m   1953\u001b[0m \u001b[38;5;28;01mdef\u001b[39;00m \u001b[38;5;21m_load_specials\u001b[39m(\u001b[38;5;28mself\u001b[39m, \u001b[38;5;241m*\u001b[39margs, \u001b[38;5;241m*\u001b[39m\u001b[38;5;241m*\u001b[39mkwargs):\n\u001b[0;32m   1954\u001b[0m     \u001b[38;5;124;03m\"\"\"Handle special requirements of `.load()` protocol, usually up-converting older versions.\"\"\"\u001b[39;00m\n\u001b[1;32m-> 1955\u001b[0m     \u001b[38;5;28msuper\u001b[39m(Word2Vec, \u001b[38;5;28mself\u001b[39m)\u001b[38;5;241m.\u001b[39m_load_specials(\u001b[38;5;241m*\u001b[39margs, \u001b[38;5;241m*\u001b[39m\u001b[38;5;241m*\u001b[39mkwargs)\n\u001b[0;32m   1956\u001b[0m     \u001b[38;5;66;03m# for backward compatibility, add/rearrange properties from prior versions\u001b[39;00m\n\u001b[0;32m   1957\u001b[0m     \u001b[38;5;28;01mif\u001b[39;00m \u001b[38;5;129;01mnot\u001b[39;00m \u001b[38;5;28mhasattr\u001b[39m(\u001b[38;5;28mself\u001b[39m, \u001b[38;5;124m'\u001b[39m\u001b[38;5;124mns_exponent\u001b[39m\u001b[38;5;124m'\u001b[39m):\n",
      "File \u001b[1;32m~\\.conda\\envs\\newone1\\lib\\site-packages\\gensim\\utils.py:518\u001b[0m, in \u001b[0;36mSaveLoad._load_specials\u001b[1;34m(self, fname, mmap, compress, subname)\u001b[0m\n\u001b[0;32m    516\u001b[0m     logger\u001b[38;5;241m.\u001b[39minfo(\u001b[38;5;124m\"\u001b[39m\u001b[38;5;124mloading \u001b[39m\u001b[38;5;132;01m%s\u001b[39;00m\u001b[38;5;124m recursively from \u001b[39m\u001b[38;5;132;01m%s\u001b[39;00m\u001b[38;5;124m.* with mmap=\u001b[39m\u001b[38;5;132;01m%s\u001b[39;00m\u001b[38;5;124m\"\u001b[39m, attrib, cfname, mmap)\n\u001b[0;32m    517\u001b[0m     \u001b[38;5;28;01mwith\u001b[39;00m ignore_deprecation_warning():\n\u001b[1;32m--> 518\u001b[0m         \u001b[38;5;28;43mgetattr\u001b[39;49m\u001b[43m(\u001b[49m\u001b[38;5;28;43mself\u001b[39;49m\u001b[43m,\u001b[49m\u001b[43m \u001b[49m\u001b[43mattrib\u001b[49m\u001b[43m)\u001b[49m\u001b[38;5;241;43m.\u001b[39;49m\u001b[43m_load_specials\u001b[49m\u001b[43m(\u001b[49m\u001b[43mcfname\u001b[49m\u001b[43m,\u001b[49m\u001b[43m \u001b[49m\u001b[43mmmap\u001b[49m\u001b[43m,\u001b[49m\u001b[43m \u001b[49m\u001b[43mcompress\u001b[49m\u001b[43m,\u001b[49m\u001b[43m \u001b[49m\u001b[43msubname\u001b[49m\u001b[43m)\u001b[49m\n\u001b[0;32m    520\u001b[0m \u001b[38;5;28;01mfor\u001b[39;00m attrib \u001b[38;5;129;01min\u001b[39;00m \u001b[38;5;28mgetattr\u001b[39m(\u001b[38;5;28mself\u001b[39m, \u001b[38;5;124m'\u001b[39m\u001b[38;5;124m__numpys\u001b[39m\u001b[38;5;124m'\u001b[39m, []):\n\u001b[0;32m    521\u001b[0m     logger\u001b[38;5;241m.\u001b[39minfo(\u001b[38;5;124m\"\u001b[39m\u001b[38;5;124mloading \u001b[39m\u001b[38;5;132;01m%s\u001b[39;00m\u001b[38;5;124m from \u001b[39m\u001b[38;5;132;01m%s\u001b[39;00m\u001b[38;5;124m with mmap=\u001b[39m\u001b[38;5;132;01m%s\u001b[39;00m\u001b[38;5;124m\"\u001b[39m, attrib, subname(fname, attrib), mmap)\n",
      "File \u001b[1;32m~\\.conda\\envs\\newone1\\lib\\site-packages\\gensim\\models\\fasttext.py:1005\u001b[0m, in \u001b[0;36mFastTextKeyedVectors._load_specials\u001b[1;34m(self, *args, **kwargs)\u001b[0m\n\u001b[0;32m   1003\u001b[0m \u001b[38;5;28;01mdef\u001b[39;00m \u001b[38;5;21m_load_specials\u001b[39m(\u001b[38;5;28mself\u001b[39m, \u001b[38;5;241m*\u001b[39margs, \u001b[38;5;241m*\u001b[39m\u001b[38;5;241m*\u001b[39mkwargs):\n\u001b[0;32m   1004\u001b[0m     \u001b[38;5;124;03m\"\"\"Handle special requirements of `.load()` protocol, usually up-converting older versions.\"\"\"\u001b[39;00m\n\u001b[1;32m-> 1005\u001b[0m     \u001b[38;5;28msuper\u001b[39m(FastTextKeyedVectors, \u001b[38;5;28mself\u001b[39m)\u001b[38;5;241m.\u001b[39m_load_specials(\u001b[38;5;241m*\u001b[39margs, \u001b[38;5;241m*\u001b[39m\u001b[38;5;241m*\u001b[39mkwargs)\n\u001b[0;32m   1006\u001b[0m     \u001b[38;5;28;01mif\u001b[39;00m \u001b[38;5;129;01mnot\u001b[39;00m \u001b[38;5;28misinstance\u001b[39m(\u001b[38;5;28mself\u001b[39m, FastTextKeyedVectors):\n\u001b[0;32m   1007\u001b[0m         \u001b[38;5;28;01mraise\u001b[39;00m \u001b[38;5;167;01mTypeError\u001b[39;00m(\u001b[38;5;124m\"\u001b[39m\u001b[38;5;124mLoaded object of type \u001b[39m\u001b[38;5;132;01m%s\u001b[39;00m\u001b[38;5;124m, not expected FastTextKeyedVectors\u001b[39m\u001b[38;5;124m\"\u001b[39m \u001b[38;5;241m%\u001b[39m \u001b[38;5;28mtype\u001b[39m(\u001b[38;5;28mself\u001b[39m))\n",
      "File \u001b[1;32m~\\.conda\\envs\\newone1\\lib\\site-packages\\gensim\\models\\keyedvectors.py:264\u001b[0m, in \u001b[0;36mKeyedVectors._load_specials\u001b[1;34m(self, *args, **kwargs)\u001b[0m\n\u001b[0;32m    262\u001b[0m \u001b[38;5;28;01mdef\u001b[39;00m \u001b[38;5;21m_load_specials\u001b[39m(\u001b[38;5;28mself\u001b[39m, \u001b[38;5;241m*\u001b[39margs, \u001b[38;5;241m*\u001b[39m\u001b[38;5;241m*\u001b[39mkwargs):\n\u001b[0;32m    263\u001b[0m     \u001b[38;5;124;03m\"\"\"Handle special requirements of `.load()` protocol, usually up-converting older versions.\"\"\"\u001b[39;00m\n\u001b[1;32m--> 264\u001b[0m     \u001b[38;5;28msuper\u001b[39m(KeyedVectors, \u001b[38;5;28mself\u001b[39m)\u001b[38;5;241m.\u001b[39m_load_specials(\u001b[38;5;241m*\u001b[39margs, \u001b[38;5;241m*\u001b[39m\u001b[38;5;241m*\u001b[39mkwargs)\n\u001b[0;32m    265\u001b[0m     \u001b[38;5;28;01mif\u001b[39;00m \u001b[38;5;28mhasattr\u001b[39m(\u001b[38;5;28mself\u001b[39m, \u001b[38;5;124m'\u001b[39m\u001b[38;5;124mdoctags\u001b[39m\u001b[38;5;124m'\u001b[39m):\n\u001b[0;32m    266\u001b[0m         \u001b[38;5;28mself\u001b[39m\u001b[38;5;241m.\u001b[39m_upconvert_old_d2vkv()\n",
      "File \u001b[1;32m~\\.conda\\envs\\newone1\\lib\\site-packages\\gensim\\utils.py:529\u001b[0m, in \u001b[0;36mSaveLoad._load_specials\u001b[1;34m(self, fname, mmap, compress, subname)\u001b[0m\n\u001b[0;32m    527\u001b[0m     val \u001b[38;5;241m=\u001b[39m np\u001b[38;5;241m.\u001b[39mload(subname(fname, attrib))[\u001b[38;5;124m'\u001b[39m\u001b[38;5;124mval\u001b[39m\u001b[38;5;124m'\u001b[39m]\n\u001b[0;32m    528\u001b[0m \u001b[38;5;28;01melse\u001b[39;00m:\n\u001b[1;32m--> 529\u001b[0m     val \u001b[38;5;241m=\u001b[39m \u001b[43mnp\u001b[49m\u001b[38;5;241;43m.\u001b[39;49m\u001b[43mload\u001b[49m\u001b[43m(\u001b[49m\u001b[43msubname\u001b[49m\u001b[43m(\u001b[49m\u001b[43mfname\u001b[49m\u001b[43m,\u001b[49m\u001b[43m \u001b[49m\u001b[43mattrib\u001b[49m\u001b[43m)\u001b[49m\u001b[43m,\u001b[49m\u001b[43m \u001b[49m\u001b[43mmmap_mode\u001b[49m\u001b[38;5;241;43m=\u001b[39;49m\u001b[43mmmap\u001b[49m\u001b[43m)\u001b[49m\n\u001b[0;32m    531\u001b[0m \u001b[38;5;28;01mwith\u001b[39;00m ignore_deprecation_warning():\n\u001b[0;32m    532\u001b[0m     \u001b[38;5;28msetattr\u001b[39m(\u001b[38;5;28mself\u001b[39m, attrib, val)\n",
      "File \u001b[1;32m~\\.conda\\envs\\newone1\\lib\\site-packages\\numpy\\lib\\npyio.py:430\u001b[0m, in \u001b[0;36mload\u001b[1;34m(file, mmap_mode, allow_pickle, fix_imports, encoding)\u001b[0m\n\u001b[0;32m    428\u001b[0m         \u001b[38;5;28;01mreturn\u001b[39;00m \u001b[38;5;28mformat\u001b[39m\u001b[38;5;241m.\u001b[39mopen_memmap(file, mode\u001b[38;5;241m=\u001b[39mmmap_mode)\n\u001b[0;32m    429\u001b[0m     \u001b[38;5;28;01melse\u001b[39;00m:\n\u001b[1;32m--> 430\u001b[0m         \u001b[38;5;28;01mreturn\u001b[39;00m \u001b[38;5;28;43mformat\u001b[39;49m\u001b[38;5;241;43m.\u001b[39;49m\u001b[43mread_array\u001b[49m\u001b[43m(\u001b[49m\u001b[43mfid\u001b[49m\u001b[43m,\u001b[49m\u001b[43m \u001b[49m\u001b[43mallow_pickle\u001b[49m\u001b[38;5;241;43m=\u001b[39;49m\u001b[43mallow_pickle\u001b[49m\u001b[43m,\u001b[49m\n\u001b[0;32m    431\u001b[0m \u001b[43m                                 \u001b[49m\u001b[43mpickle_kwargs\u001b[49m\u001b[38;5;241;43m=\u001b[39;49m\u001b[43mpickle_kwargs\u001b[49m\u001b[43m)\u001b[49m\n\u001b[0;32m    432\u001b[0m \u001b[38;5;28;01melse\u001b[39;00m:\n\u001b[0;32m    433\u001b[0m     \u001b[38;5;66;03m# Try a pickle\u001b[39;00m\n\u001b[0;32m    434\u001b[0m     \u001b[38;5;28;01mif\u001b[39;00m \u001b[38;5;129;01mnot\u001b[39;00m allow_pickle:\n",
      "File \u001b[1;32m~\\.conda\\envs\\newone1\\lib\\site-packages\\numpy\\lib\\format.py:756\u001b[0m, in \u001b[0;36mread_array\u001b[1;34m(fp, allow_pickle, pickle_kwargs)\u001b[0m\n\u001b[0;32m    753\u001b[0m \u001b[38;5;28;01melse\u001b[39;00m:\n\u001b[0;32m    754\u001b[0m     \u001b[38;5;28;01mif\u001b[39;00m isfileobj(fp):\n\u001b[0;32m    755\u001b[0m         \u001b[38;5;66;03m# We can use the fast fromfile() function.\u001b[39;00m\n\u001b[1;32m--> 756\u001b[0m         array \u001b[38;5;241m=\u001b[39m \u001b[43mnumpy\u001b[49m\u001b[38;5;241;43m.\u001b[39;49m\u001b[43mfromfile\u001b[49m\u001b[43m(\u001b[49m\u001b[43mfp\u001b[49m\u001b[43m,\u001b[49m\u001b[43m \u001b[49m\u001b[43mdtype\u001b[49m\u001b[38;5;241;43m=\u001b[39;49m\u001b[43mdtype\u001b[49m\u001b[43m,\u001b[49m\u001b[43m \u001b[49m\u001b[43mcount\u001b[49m\u001b[38;5;241;43m=\u001b[39;49m\u001b[43mcount\u001b[49m\u001b[43m)\u001b[49m\n\u001b[0;32m    757\u001b[0m     \u001b[38;5;28;01melse\u001b[39;00m:\n\u001b[0;32m    758\u001b[0m         \u001b[38;5;66;03m# This is not a real file. We have to read it the\u001b[39;00m\n\u001b[0;32m    759\u001b[0m         \u001b[38;5;66;03m# memory-intensive way.\u001b[39;00m\n\u001b[1;32m   (...)\u001b[0m\n\u001b[0;32m    767\u001b[0m         \u001b[38;5;66;03m# not correctly instantiate zero-width string dtypes; see\u001b[39;00m\n\u001b[0;32m    768\u001b[0m         \u001b[38;5;66;03m# https://github.com/numpy/numpy/pull/6430\u001b[39;00m\n\u001b[0;32m    769\u001b[0m         array \u001b[38;5;241m=\u001b[39m numpy\u001b[38;5;241m.\u001b[39mndarray(count, dtype\u001b[38;5;241m=\u001b[39mdtype)\n",
      "\u001b[1;31mKeyboardInterrupt\u001b[0m: "
     ]
    }
   ],
   "source": [
    "\n",
    "# top_k = 10\n",
    "K = 5\n",
    "known_unknown = False\n",
    "\n",
    "\n",
    "## Doc2Vec_DM model\n",
    "model_dm =  gensim.models.doc2vec.Doc2Vec.load(r\"Embedding_Models_10_12//doc2vec_dm\") \n",
    "model_dbow = gensim.models.doc2vec.Doc2Vec.load(r\"Embedding_Models_10_12//doc2vec_dbow\") \n",
    "model_cbow =gensim.models.word2vec.Word2Vec.load(r\"Embedding_Models_10_12//word2vec_cbow\") \n",
    "model_sg =gensim.models.word2vec.Word2Vec.load(r\"Embedding_Models_10_12//word2vec_sg\") \n",
    "model_fasttext_sg =gensim.models.word2vec.Word2Vec.load(r\"Embedding_Models_10_12//fasttext_sg\") \n",
    "model_fasttext_cbow =gensim.models.word2vec.Word2Vec.load(r\"Embedding_Models_10_12//fasttext_cbow\") \n"
   ]
  },
  {
   "cell_type": "code",
   "execution_count": 9,
   "id": "a0adb0d7",
   "metadata": {
    "scrolled": true
   },
   "outputs": [
    {
     "data": {
      "application/vnd.jupyter.widget-view+json": {
       "model_id": "5ccc91bb4ec041a59679a2bd681ca679",
       "version_major": 2,
       "version_minor": 0
      },
      "text/plain": [
       "  0%|          | 0/14 [00:00<?, ?it/s]"
      ]
     },
     "metadata": {},
     "output_type": "display_data"
    },
    {
     "name": "stdout",
     "output_type": "stream",
     "text": [
      "Currently running for featurizer lstm_with_attention with 2 number of classes.\n",
      "Currently running for featurizer just_attention with 2 number of classes.\n",
      "Currently running for featurizer vanilla_lstm with 2 number of classes.\n",
      "Currently running for featurizer countvectorizer with 2 number of classes.\n",
      "Currently running for featurizer doc2vec_dbow with 2 number of classes.\n",
      "Currently running for featurizer doc2vec_dm with 2 number of classes.\n",
      "Currently running for featurizer word2vec_cbow with 2 number of classes.\n",
      "Currently running for featurizer word2vec_sg with 2 number of classes.\n",
      "Currently running for featurizer fasttext_sg with 2 number of classes.\n",
      "Currently running for featurizer fasttext_cbow with 2 number of classes.\n",
      "Currently running for featurizer lstm_with_attention with 3 number of classes.\n",
      "Currently running for featurizer just_attention with 3 number of classes.\n",
      "Currently running for featurizer vanilla_lstm with 3 number of classes.\n",
      "Currently running for featurizer countvectorizer with 3 number of classes.\n",
      "Currently running for featurizer doc2vec_dbow with 3 number of classes.\n",
      "Currently running for featurizer doc2vec_dm with 3 number of classes.\n",
      "Currently running for featurizer word2vec_cbow with 3 number of classes.\n",
      "Currently running for featurizer word2vec_sg with 3 number of classes.\n",
      "Currently running for featurizer fasttext_sg with 3 number of classes.\n",
      "Currently running for featurizer fasttext_cbow with 3 number of classes.\n",
      "Currently running for featurizer lstm_with_attention with 4 number of classes.\n",
      "Currently running for featurizer just_attention with 4 number of classes.\n",
      "Currently running for featurizer vanilla_lstm with 4 number of classes.\n",
      "Currently running for featurizer countvectorizer with 4 number of classes.\n",
      "Currently running for featurizer doc2vec_dbow with 4 number of classes.\n",
      "Currently running for featurizer doc2vec_dm with 4 number of classes.\n",
      "Currently running for featurizer word2vec_cbow with 4 number of classes.\n",
      "Currently running for featurizer word2vec_sg with 4 number of classes.\n",
      "Currently running for featurizer fasttext_sg with 4 number of classes.\n",
      "Currently running for featurizer fasttext_cbow with 4 number of classes.\n",
      "Currently running for featurizer lstm_with_attention with 5 number of classes.\n",
      "Currently running for featurizer just_attention with 5 number of classes.\n",
      "Currently running for featurizer vanilla_lstm with 5 number of classes.\n",
      "Currently running for featurizer countvectorizer with 5 number of classes.\n",
      "Currently running for featurizer doc2vec_dbow with 5 number of classes.\n",
      "Currently running for featurizer doc2vec_dm with 5 number of classes.\n",
      "Currently running for featurizer word2vec_cbow with 5 number of classes.\n",
      "Currently running for featurizer word2vec_sg with 5 number of classes.\n",
      "Currently running for featurizer fasttext_sg with 5 number of classes.\n",
      "Currently running for featurizer fasttext_cbow with 5 number of classes.\n",
      "Currently running for featurizer lstm_with_attention with 6 number of classes.\n",
      "Currently running for featurizer just_attention with 6 number of classes.\n",
      "Currently running for featurizer vanilla_lstm with 6 number of classes.\n",
      "Currently running for featurizer countvectorizer with 6 number of classes.\n",
      "Currently running for featurizer doc2vec_dbow with 6 number of classes.\n",
      "Currently running for featurizer doc2vec_dm with 6 number of classes.\n",
      "Currently running for featurizer word2vec_cbow with 6 number of classes.\n",
      "Currently running for featurizer word2vec_sg with 6 number of classes.\n",
      "Currently running for featurizer fasttext_sg with 6 number of classes.\n",
      "Currently running for featurizer fasttext_cbow with 6 number of classes.\n",
      "Currently running for featurizer lstm_with_attention with 7 number of classes.\n",
      "Currently running for featurizer just_attention with 7 number of classes.\n",
      "Currently running for featurizer vanilla_lstm with 7 number of classes.\n",
      "Currently running for featurizer countvectorizer with 7 number of classes.\n",
      "Currently running for featurizer doc2vec_dbow with 7 number of classes.\n",
      "Currently running for featurizer doc2vec_dm with 7 number of classes.\n",
      "Currently running for featurizer word2vec_cbow with 7 number of classes.\n",
      "Currently running for featurizer word2vec_sg with 7 number of classes.\n",
      "Currently running for featurizer fasttext_sg with 7 number of classes.\n",
      "Currently running for featurizer fasttext_cbow with 7 number of classes.\n",
      "Currently running for featurizer lstm_with_attention with 8 number of classes.\n",
      "Currently running for featurizer just_attention with 8 number of classes.\n",
      "Currently running for featurizer vanilla_lstm with 8 number of classes.\n",
      "Currently running for featurizer countvectorizer with 8 number of classes.\n",
      "Currently running for featurizer doc2vec_dbow with 8 number of classes.\n",
      "Currently running for featurizer doc2vec_dm with 8 number of classes.\n",
      "Currently running for featurizer word2vec_cbow with 8 number of classes.\n",
      "Currently running for featurizer word2vec_sg with 8 number of classes.\n",
      "Currently running for featurizer fasttext_sg with 8 number of classes.\n",
      "Currently running for featurizer fasttext_cbow with 8 number of classes.\n",
      "Currently running for featurizer lstm_with_attention with 9 number of classes.\n",
      "Currently running for featurizer just_attention with 9 number of classes.\n",
      "Currently running for featurizer vanilla_lstm with 9 number of classes.\n",
      "Currently running for featurizer countvectorizer with 9 number of classes.\n"
     ]
    },
    {
     "name": "stderr",
     "output_type": "stream",
     "text": [
      "C:\\Users\\vedpi\\.conda\\envs\\newone1\\lib\\site-packages\\sklearn\\metrics\\_classification.py:1327: UndefinedMetricWarning: Precision and F-score are ill-defined and being set to 0.0 in labels with no predicted samples. Use `zero_division` parameter to control this behavior.\n",
      "  _warn_prf(average, modifier, msg_start, len(result))\n",
      "C:\\Users\\vedpi\\.conda\\envs\\newone1\\lib\\site-packages\\sklearn\\metrics\\_classification.py:1327: UndefinedMetricWarning: Precision and F-score are ill-defined and being set to 0.0 in labels with no predicted samples. Use `zero_division` parameter to control this behavior.\n",
      "  _warn_prf(average, modifier, msg_start, len(result))\n",
      "C:\\Users\\vedpi\\.conda\\envs\\newone1\\lib\\site-packages\\sklearn\\metrics\\_classification.py:1327: UndefinedMetricWarning: Precision and F-score are ill-defined and being set to 0.0 in labels with no predicted samples. Use `zero_division` parameter to control this behavior.\n",
      "  _warn_prf(average, modifier, msg_start, len(result))\n",
      "C:\\Users\\vedpi\\.conda\\envs\\newone1\\lib\\site-packages\\sklearn\\metrics\\_classification.py:1327: UndefinedMetricWarning: Precision and F-score are ill-defined and being set to 0.0 in labels with no predicted samples. Use `zero_division` parameter to control this behavior.\n",
      "  _warn_prf(average, modifier, msg_start, len(result))\n",
      "C:\\Users\\vedpi\\.conda\\envs\\newone1\\lib\\site-packages\\sklearn\\metrics\\_classification.py:1327: UndefinedMetricWarning: Precision and F-score are ill-defined and being set to 0.0 in labels with no predicted samples. Use `zero_division` parameter to control this behavior.\n",
      "  _warn_prf(average, modifier, msg_start, len(result))\n",
      "C:\\Users\\vedpi\\.conda\\envs\\newone1\\lib\\site-packages\\sklearn\\metrics\\_classification.py:1327: UndefinedMetricWarning: Precision and F-score are ill-defined and being set to 0.0 in labels with no predicted samples. Use `zero_division` parameter to control this behavior.\n",
      "  _warn_prf(average, modifier, msg_start, len(result))\n"
     ]
    },
    {
     "name": "stdout",
     "output_type": "stream",
     "text": [
      "Currently running for featurizer doc2vec_dbow with 9 number of classes.\n",
      "Currently running for featurizer doc2vec_dm with 9 number of classes.\n",
      "Currently running for featurizer word2vec_cbow with 9 number of classes.\n",
      "Currently running for featurizer word2vec_sg with 9 number of classes.\n",
      "Currently running for featurizer fasttext_sg with 9 number of classes.\n",
      "Currently running for featurizer fasttext_cbow with 9 number of classes.\n",
      "Currently running for featurizer lstm_with_attention with 10 number of classes.\n",
      "Currently running for featurizer just_attention with 10 number of classes.\n",
      "Currently running for featurizer vanilla_lstm with 10 number of classes.\n"
     ]
    },
    {
     "name": "stderr",
     "output_type": "stream",
     "text": [
      "C:\\Users\\vedpi\\.conda\\envs\\newone1\\lib\\site-packages\\sklearn\\metrics\\_classification.py:1327: UndefinedMetricWarning: Precision and F-score are ill-defined and being set to 0.0 in labels with no predicted samples. Use `zero_division` parameter to control this behavior.\n",
      "  _warn_prf(average, modifier, msg_start, len(result))\n",
      "C:\\Users\\vedpi\\.conda\\envs\\newone1\\lib\\site-packages\\sklearn\\metrics\\_classification.py:1327: UndefinedMetricWarning: Precision and F-score are ill-defined and being set to 0.0 in labels with no predicted samples. Use `zero_division` parameter to control this behavior.\n",
      "  _warn_prf(average, modifier, msg_start, len(result))\n",
      "C:\\Users\\vedpi\\.conda\\envs\\newone1\\lib\\site-packages\\sklearn\\metrics\\_classification.py:1327: UndefinedMetricWarning: Precision and F-score are ill-defined and being set to 0.0 in labels with no predicted samples. Use `zero_division` parameter to control this behavior.\n",
      "  _warn_prf(average, modifier, msg_start, len(result))\n"
     ]
    },
    {
     "name": "stdout",
     "output_type": "stream",
     "text": [
      "Currently running for featurizer countvectorizer with 10 number of classes.\n"
     ]
    },
    {
     "name": "stderr",
     "output_type": "stream",
     "text": [
      "C:\\Users\\vedpi\\.conda\\envs\\newone1\\lib\\site-packages\\sklearn\\metrics\\_classification.py:1327: UndefinedMetricWarning: Precision and F-score are ill-defined and being set to 0.0 in labels with no predicted samples. Use `zero_division` parameter to control this behavior.\n",
      "  _warn_prf(average, modifier, msg_start, len(result))\n",
      "C:\\Users\\vedpi\\.conda\\envs\\newone1\\lib\\site-packages\\sklearn\\metrics\\_classification.py:1327: UndefinedMetricWarning: Precision and F-score are ill-defined and being set to 0.0 in labels with no predicted samples. Use `zero_division` parameter to control this behavior.\n",
      "  _warn_prf(average, modifier, msg_start, len(result))\n",
      "C:\\Users\\vedpi\\.conda\\envs\\newone1\\lib\\site-packages\\sklearn\\metrics\\_classification.py:1327: UndefinedMetricWarning: Precision and F-score are ill-defined and being set to 0.0 in labels with no predicted samples. Use `zero_division` parameter to control this behavior.\n",
      "  _warn_prf(average, modifier, msg_start, len(result))\n"
     ]
    },
    {
     "name": "stdout",
     "output_type": "stream",
     "text": [
      "Currently running for featurizer doc2vec_dbow with 10 number of classes.\n",
      "Currently running for featurizer doc2vec_dm with 10 number of classes.\n",
      "Currently running for featurizer word2vec_cbow with 10 number of classes.\n",
      "Currently running for featurizer word2vec_sg with 10 number of classes.\n",
      "Currently running for featurizer fasttext_sg with 10 number of classes.\n",
      "Currently running for featurizer fasttext_cbow with 10 number of classes.\n",
      "Currently running for featurizer lstm_with_attention with 11 number of classes.\n",
      "Currently running for featurizer just_attention with 11 number of classes.\n"
     ]
    },
    {
     "name": "stderr",
     "output_type": "stream",
     "text": [
      "C:\\Users\\vedpi\\.conda\\envs\\newone1\\lib\\site-packages\\sklearn\\metrics\\_classification.py:1327: UndefinedMetricWarning: Precision and F-score are ill-defined and being set to 0.0 in labels with no predicted samples. Use `zero_division` parameter to control this behavior.\n",
      "  _warn_prf(average, modifier, msg_start, len(result))\n",
      "C:\\Users\\vedpi\\.conda\\envs\\newone1\\lib\\site-packages\\sklearn\\metrics\\_classification.py:1327: UndefinedMetricWarning: Precision and F-score are ill-defined and being set to 0.0 in labels with no predicted samples. Use `zero_division` parameter to control this behavior.\n",
      "  _warn_prf(average, modifier, msg_start, len(result))\n",
      "C:\\Users\\vedpi\\.conda\\envs\\newone1\\lib\\site-packages\\sklearn\\metrics\\_classification.py:1327: UndefinedMetricWarning: Precision and F-score are ill-defined and being set to 0.0 in labels with no predicted samples. Use `zero_division` parameter to control this behavior.\n",
      "  _warn_prf(average, modifier, msg_start, len(result))\n"
     ]
    },
    {
     "name": "stdout",
     "output_type": "stream",
     "text": [
      "Currently running for featurizer vanilla_lstm with 11 number of classes.\n",
      "Currently running for featurizer countvectorizer with 11 number of classes.\n",
      "Currently running for featurizer doc2vec_dbow with 11 number of classes.\n",
      "Currently running for featurizer doc2vec_dm with 11 number of classes.\n",
      "Currently running for featurizer word2vec_cbow with 11 number of classes.\n",
      "Currently running for featurizer word2vec_sg with 11 number of classes.\n",
      "Currently running for featurizer fasttext_sg with 11 number of classes.\n",
      "Currently running for featurizer fasttext_cbow with 11 number of classes.\n",
      "Currently running for featurizer lstm_with_attention with 12 number of classes.\n"
     ]
    },
    {
     "name": "stderr",
     "output_type": "stream",
     "text": [
      "C:\\Users\\vedpi\\.conda\\envs\\newone1\\lib\\site-packages\\sklearn\\metrics\\_classification.py:1327: UndefinedMetricWarning: Precision and F-score are ill-defined and being set to 0.0 in labels with no predicted samples. Use `zero_division` parameter to control this behavior.\n",
      "  _warn_prf(average, modifier, msg_start, len(result))\n",
      "C:\\Users\\vedpi\\.conda\\envs\\newone1\\lib\\site-packages\\sklearn\\metrics\\_classification.py:1327: UndefinedMetricWarning: Precision and F-score are ill-defined and being set to 0.0 in labels with no predicted samples. Use `zero_division` parameter to control this behavior.\n",
      "  _warn_prf(average, modifier, msg_start, len(result))\n",
      "C:\\Users\\vedpi\\.conda\\envs\\newone1\\lib\\site-packages\\sklearn\\metrics\\_classification.py:1327: UndefinedMetricWarning: Precision and F-score are ill-defined and being set to 0.0 in labels with no predicted samples. Use `zero_division` parameter to control this behavior.\n",
      "  _warn_prf(average, modifier, msg_start, len(result))\n"
     ]
    },
    {
     "name": "stdout",
     "output_type": "stream",
     "text": [
      "Currently running for featurizer just_attention with 12 number of classes.\n",
      "Currently running for featurizer vanilla_lstm with 12 number of classes.\n"
     ]
    },
    {
     "name": "stderr",
     "output_type": "stream",
     "text": [
      "C:\\Users\\vedpi\\.conda\\envs\\newone1\\lib\\site-packages\\sklearn\\metrics\\_classification.py:1327: UndefinedMetricWarning: Precision and F-score are ill-defined and being set to 0.0 in labels with no predicted samples. Use `zero_division` parameter to control this behavior.\n",
      "  _warn_prf(average, modifier, msg_start, len(result))\n",
      "C:\\Users\\vedpi\\.conda\\envs\\newone1\\lib\\site-packages\\sklearn\\metrics\\_classification.py:1327: UndefinedMetricWarning: Precision and F-score are ill-defined and being set to 0.0 in labels with no predicted samples. Use `zero_division` parameter to control this behavior.\n",
      "  _warn_prf(average, modifier, msg_start, len(result))\n",
      "C:\\Users\\vedpi\\.conda\\envs\\newone1\\lib\\site-packages\\sklearn\\metrics\\_classification.py:1327: UndefinedMetricWarning: Precision and F-score are ill-defined and being set to 0.0 in labels with no predicted samples. Use `zero_division` parameter to control this behavior.\n",
      "  _warn_prf(average, modifier, msg_start, len(result))\n"
     ]
    },
    {
     "name": "stdout",
     "output_type": "stream",
     "text": [
      "Currently running for featurizer countvectorizer with 12 number of classes.\n"
     ]
    },
    {
     "name": "stderr",
     "output_type": "stream",
     "text": [
      "C:\\Users\\vedpi\\.conda\\envs\\newone1\\lib\\site-packages\\sklearn\\metrics\\_classification.py:1327: UndefinedMetricWarning: Precision and F-score are ill-defined and being set to 0.0 in labels with no predicted samples. Use `zero_division` parameter to control this behavior.\n",
      "  _warn_prf(average, modifier, msg_start, len(result))\n",
      "C:\\Users\\vedpi\\.conda\\envs\\newone1\\lib\\site-packages\\sklearn\\metrics\\_classification.py:1327: UndefinedMetricWarning: Precision and F-score are ill-defined and being set to 0.0 in labels with no predicted samples. Use `zero_division` parameter to control this behavior.\n",
      "  _warn_prf(average, modifier, msg_start, len(result))\n",
      "C:\\Users\\vedpi\\.conda\\envs\\newone1\\lib\\site-packages\\sklearn\\metrics\\_classification.py:1327: UndefinedMetricWarning: Precision and F-score are ill-defined and being set to 0.0 in labels with no predicted samples. Use `zero_division` parameter to control this behavior.\n",
      "  _warn_prf(average, modifier, msg_start, len(result))\n"
     ]
    },
    {
     "name": "stdout",
     "output_type": "stream",
     "text": [
      "Currently running for featurizer doc2vec_dbow with 12 number of classes.\n",
      "Currently running for featurizer doc2vec_dm with 12 number of classes.\n",
      "Currently running for featurizer word2vec_cbow with 12 number of classes.\n"
     ]
    },
    {
     "name": "stderr",
     "output_type": "stream",
     "text": [
      "C:\\Users\\vedpi\\.conda\\envs\\newone1\\lib\\site-packages\\sklearn\\metrics\\_classification.py:1327: UndefinedMetricWarning: Precision and F-score are ill-defined and being set to 0.0 in labels with no predicted samples. Use `zero_division` parameter to control this behavior.\n",
      "  _warn_prf(average, modifier, msg_start, len(result))\n",
      "C:\\Users\\vedpi\\.conda\\envs\\newone1\\lib\\site-packages\\sklearn\\metrics\\_classification.py:1327: UndefinedMetricWarning: Precision and F-score are ill-defined and being set to 0.0 in labels with no predicted samples. Use `zero_division` parameter to control this behavior.\n",
      "  _warn_prf(average, modifier, msg_start, len(result))\n",
      "C:\\Users\\vedpi\\.conda\\envs\\newone1\\lib\\site-packages\\sklearn\\metrics\\_classification.py:1327: UndefinedMetricWarning: Precision and F-score are ill-defined and being set to 0.0 in labels with no predicted samples. Use `zero_division` parameter to control this behavior.\n",
      "  _warn_prf(average, modifier, msg_start, len(result))\n"
     ]
    },
    {
     "name": "stdout",
     "output_type": "stream",
     "text": [
      "Currently running for featurizer word2vec_sg with 12 number of classes.\n",
      "Currently running for featurizer fasttext_sg with 12 number of classes.\n",
      "Currently running for featurizer fasttext_cbow with 12 number of classes.\n"
     ]
    },
    {
     "name": "stderr",
     "output_type": "stream",
     "text": [
      "C:\\Users\\vedpi\\.conda\\envs\\newone1\\lib\\site-packages\\sklearn\\metrics\\_classification.py:1327: UndefinedMetricWarning: Precision and F-score are ill-defined and being set to 0.0 in labels with no predicted samples. Use `zero_division` parameter to control this behavior.\n",
      "  _warn_prf(average, modifier, msg_start, len(result))\n",
      "C:\\Users\\vedpi\\.conda\\envs\\newone1\\lib\\site-packages\\sklearn\\metrics\\_classification.py:1327: UndefinedMetricWarning: Precision and F-score are ill-defined and being set to 0.0 in labels with no predicted samples. Use `zero_division` parameter to control this behavior.\n",
      "  _warn_prf(average, modifier, msg_start, len(result))\n",
      "C:\\Users\\vedpi\\.conda\\envs\\newone1\\lib\\site-packages\\sklearn\\metrics\\_classification.py:1327: UndefinedMetricWarning: Precision and F-score are ill-defined and being set to 0.0 in labels with no predicted samples. Use `zero_division` parameter to control this behavior.\n",
      "  _warn_prf(average, modifier, msg_start, len(result))\n"
     ]
    },
    {
     "name": "stdout",
     "output_type": "stream",
     "text": [
      "Currently running for featurizer lstm_with_attention with 13 number of classes.\n",
      "Currently running for featurizer just_attention with 13 number of classes.\n",
      "Currently running for featurizer vanilla_lstm with 13 number of classes.\n"
     ]
    },
    {
     "name": "stderr",
     "output_type": "stream",
     "text": [
      "C:\\Users\\vedpi\\.conda\\envs\\newone1\\lib\\site-packages\\sklearn\\metrics\\_classification.py:1327: UndefinedMetricWarning: Precision and F-score are ill-defined and being set to 0.0 in labels with no predicted samples. Use `zero_division` parameter to control this behavior.\n",
      "  _warn_prf(average, modifier, msg_start, len(result))\n",
      "C:\\Users\\vedpi\\.conda\\envs\\newone1\\lib\\site-packages\\sklearn\\metrics\\_classification.py:1327: UndefinedMetricWarning: Precision and F-score are ill-defined and being set to 0.0 in labels with no predicted samples. Use `zero_division` parameter to control this behavior.\n",
      "  _warn_prf(average, modifier, msg_start, len(result))\n",
      "C:\\Users\\vedpi\\.conda\\envs\\newone1\\lib\\site-packages\\sklearn\\metrics\\_classification.py:1327: UndefinedMetricWarning: Precision and F-score are ill-defined and being set to 0.0 in labels with no predicted samples. Use `zero_division` parameter to control this behavior.\n",
      "  _warn_prf(average, modifier, msg_start, len(result))\n",
      "C:\\Users\\vedpi\\.conda\\envs\\newone1\\lib\\site-packages\\sklearn\\metrics\\_classification.py:1327: UndefinedMetricWarning: Precision and F-score are ill-defined and being set to 0.0 in labels with no predicted samples. Use `zero_division` parameter to control this behavior.\n",
      "  _warn_prf(average, modifier, msg_start, len(result))\n",
      "C:\\Users\\vedpi\\.conda\\envs\\newone1\\lib\\site-packages\\sklearn\\metrics\\_classification.py:1327: UndefinedMetricWarning: Precision and F-score are ill-defined and being set to 0.0 in labels with no predicted samples. Use `zero_division` parameter to control this behavior.\n",
      "  _warn_prf(average, modifier, msg_start, len(result))\n",
      "C:\\Users\\vedpi\\.conda\\envs\\newone1\\lib\\site-packages\\sklearn\\metrics\\_classification.py:1327: UndefinedMetricWarning: Precision and F-score are ill-defined and being set to 0.0 in labels with no predicted samples. Use `zero_division` parameter to control this behavior.\n",
      "  _warn_prf(average, modifier, msg_start, len(result))\n"
     ]
    },
    {
     "name": "stdout",
     "output_type": "stream",
     "text": [
      "Currently running for featurizer countvectorizer with 13 number of classes.\n"
     ]
    },
    {
     "name": "stderr",
     "output_type": "stream",
     "text": [
      "C:\\Users\\vedpi\\.conda\\envs\\newone1\\lib\\site-packages\\joblib\\externals\\loky\\process_executor.py:702: UserWarning: A worker stopped while some jobs were given to the executor. This can be caused by a too short worker timeout or by a memory leak.\n",
      "  warnings.warn(\n",
      "C:\\Users\\vedpi\\.conda\\envs\\newone1\\lib\\site-packages\\sklearn\\metrics\\_classification.py:1327: UndefinedMetricWarning: Precision and F-score are ill-defined and being set to 0.0 in labels with no predicted samples. Use `zero_division` parameter to control this behavior.\n",
      "  _warn_prf(average, modifier, msg_start, len(result))\n",
      "C:\\Users\\vedpi\\.conda\\envs\\newone1\\lib\\site-packages\\sklearn\\metrics\\_classification.py:1327: UndefinedMetricWarning: Precision and F-score are ill-defined and being set to 0.0 in labels with no predicted samples. Use `zero_division` parameter to control this behavior.\n",
      "  _warn_prf(average, modifier, msg_start, len(result))\n",
      "C:\\Users\\vedpi\\.conda\\envs\\newone1\\lib\\site-packages\\sklearn\\metrics\\_classification.py:1327: UndefinedMetricWarning: Precision and F-score are ill-defined and being set to 0.0 in labels with no predicted samples. Use `zero_division` parameter to control this behavior.\n",
      "  _warn_prf(average, modifier, msg_start, len(result))\n",
      "C:\\Users\\vedpi\\.conda\\envs\\newone1\\lib\\site-packages\\sklearn\\metrics\\_classification.py:1327: UndefinedMetricWarning: Precision and F-score are ill-defined and being set to 0.0 in labels with no predicted samples. Use `zero_division` parameter to control this behavior.\n",
      "  _warn_prf(average, modifier, msg_start, len(result))\n",
      "C:\\Users\\vedpi\\.conda\\envs\\newone1\\lib\\site-packages\\sklearn\\metrics\\_classification.py:1327: UndefinedMetricWarning: Precision and F-score are ill-defined and being set to 0.0 in labels with no predicted samples. Use `zero_division` parameter to control this behavior.\n",
      "  _warn_prf(average, modifier, msg_start, len(result))\n",
      "C:\\Users\\vedpi\\.conda\\envs\\newone1\\lib\\site-packages\\sklearn\\metrics\\_classification.py:1327: UndefinedMetricWarning: Precision and F-score are ill-defined and being set to 0.0 in labels with no predicted samples. Use `zero_division` parameter to control this behavior.\n",
      "  _warn_prf(average, modifier, msg_start, len(result))\n",
      "C:\\Users\\vedpi\\.conda\\envs\\newone1\\lib\\site-packages\\sklearn\\metrics\\_classification.py:1327: UndefinedMetricWarning: Precision and F-score are ill-defined and being set to 0.0 in labels with no predicted samples. Use `zero_division` parameter to control this behavior.\n",
      "  _warn_prf(average, modifier, msg_start, len(result))\n",
      "C:\\Users\\vedpi\\.conda\\envs\\newone1\\lib\\site-packages\\sklearn\\metrics\\_classification.py:1327: UndefinedMetricWarning: Precision and F-score are ill-defined and being set to 0.0 in labels with no predicted samples. Use `zero_division` parameter to control this behavior.\n",
      "  _warn_prf(average, modifier, msg_start, len(result))\n",
      "C:\\Users\\vedpi\\.conda\\envs\\newone1\\lib\\site-packages\\sklearn\\metrics\\_classification.py:1327: UndefinedMetricWarning: Precision and F-score are ill-defined and being set to 0.0 in labels with no predicted samples. Use `zero_division` parameter to control this behavior.\n",
      "  _warn_prf(average, modifier, msg_start, len(result))\n"
     ]
    },
    {
     "name": "stdout",
     "output_type": "stream",
     "text": [
      "Currently running for featurizer doc2vec_dbow with 13 number of classes.\n"
     ]
    },
    {
     "name": "stderr",
     "output_type": "stream",
     "text": [
      "C:\\Users\\vedpi\\.conda\\envs\\newone1\\lib\\site-packages\\sklearn\\metrics\\_classification.py:1327: UndefinedMetricWarning: Precision and F-score are ill-defined and being set to 0.0 in labels with no predicted samples. Use `zero_division` parameter to control this behavior.\n",
      "  _warn_prf(average, modifier, msg_start, len(result))\n",
      "C:\\Users\\vedpi\\.conda\\envs\\newone1\\lib\\site-packages\\sklearn\\metrics\\_classification.py:1327: UndefinedMetricWarning: Precision and F-score are ill-defined and being set to 0.0 in labels with no predicted samples. Use `zero_division` parameter to control this behavior.\n",
      "  _warn_prf(average, modifier, msg_start, len(result))\n",
      "C:\\Users\\vedpi\\.conda\\envs\\newone1\\lib\\site-packages\\sklearn\\metrics\\_classification.py:1327: UndefinedMetricWarning: Precision and F-score are ill-defined and being set to 0.0 in labels with no predicted samples. Use `zero_division` parameter to control this behavior.\n",
      "  _warn_prf(average, modifier, msg_start, len(result))\n"
     ]
    },
    {
     "name": "stdout",
     "output_type": "stream",
     "text": [
      "Currently running for featurizer doc2vec_dm with 13 number of classes.\n",
      "Currently running for featurizer word2vec_cbow with 13 number of classes.\n"
     ]
    },
    {
     "name": "stderr",
     "output_type": "stream",
     "text": [
      "C:\\Users\\vedpi\\.conda\\envs\\newone1\\lib\\site-packages\\sklearn\\metrics\\_classification.py:1327: UndefinedMetricWarning: Precision and F-score are ill-defined and being set to 0.0 in labels with no predicted samples. Use `zero_division` parameter to control this behavior.\n",
      "  _warn_prf(average, modifier, msg_start, len(result))\n",
      "C:\\Users\\vedpi\\.conda\\envs\\newone1\\lib\\site-packages\\sklearn\\metrics\\_classification.py:1327: UndefinedMetricWarning: Precision and F-score are ill-defined and being set to 0.0 in labels with no predicted samples. Use `zero_division` parameter to control this behavior.\n",
      "  _warn_prf(average, modifier, msg_start, len(result))\n",
      "C:\\Users\\vedpi\\.conda\\envs\\newone1\\lib\\site-packages\\sklearn\\metrics\\_classification.py:1327: UndefinedMetricWarning: Precision and F-score are ill-defined and being set to 0.0 in labels with no predicted samples. Use `zero_division` parameter to control this behavior.\n",
      "  _warn_prf(average, modifier, msg_start, len(result))\n",
      "C:\\Users\\vedpi\\.conda\\envs\\newone1\\lib\\site-packages\\sklearn\\metrics\\_classification.py:1327: UndefinedMetricWarning: Precision and F-score are ill-defined and being set to 0.0 in labels with no predicted samples. Use `zero_division` parameter to control this behavior.\n",
      "  _warn_prf(average, modifier, msg_start, len(result))\n",
      "C:\\Users\\vedpi\\.conda\\envs\\newone1\\lib\\site-packages\\sklearn\\metrics\\_classification.py:1327: UndefinedMetricWarning: Precision and F-score are ill-defined and being set to 0.0 in labels with no predicted samples. Use `zero_division` parameter to control this behavior.\n",
      "  _warn_prf(average, modifier, msg_start, len(result))\n",
      "C:\\Users\\vedpi\\.conda\\envs\\newone1\\lib\\site-packages\\sklearn\\metrics\\_classification.py:1327: UndefinedMetricWarning: Precision and F-score are ill-defined and being set to 0.0 in labels with no predicted samples. Use `zero_division` parameter to control this behavior.\n",
      "  _warn_prf(average, modifier, msg_start, len(result))\n"
     ]
    },
    {
     "name": "stdout",
     "output_type": "stream",
     "text": [
      "Currently running for featurizer word2vec_sg with 13 number of classes.\n"
     ]
    },
    {
     "name": "stderr",
     "output_type": "stream",
     "text": [
      "C:\\Users\\vedpi\\.conda\\envs\\newone1\\lib\\site-packages\\sklearn\\metrics\\_classification.py:1327: UndefinedMetricWarning: Precision and F-score are ill-defined and being set to 0.0 in labels with no predicted samples. Use `zero_division` parameter to control this behavior.\n",
      "  _warn_prf(average, modifier, msg_start, len(result))\n",
      "C:\\Users\\vedpi\\.conda\\envs\\newone1\\lib\\site-packages\\sklearn\\metrics\\_classification.py:1327: UndefinedMetricWarning: Precision and F-score are ill-defined and being set to 0.0 in labels with no predicted samples. Use `zero_division` parameter to control this behavior.\n",
      "  _warn_prf(average, modifier, msg_start, len(result))\n",
      "C:\\Users\\vedpi\\.conda\\envs\\newone1\\lib\\site-packages\\sklearn\\metrics\\_classification.py:1327: UndefinedMetricWarning: Precision and F-score are ill-defined and being set to 0.0 in labels with no predicted samples. Use `zero_division` parameter to control this behavior.\n",
      "  _warn_prf(average, modifier, msg_start, len(result))\n"
     ]
    },
    {
     "name": "stdout",
     "output_type": "stream",
     "text": [
      "Currently running for featurizer fasttext_sg with 13 number of classes.\n"
     ]
    },
    {
     "name": "stderr",
     "output_type": "stream",
     "text": [
      "C:\\Users\\vedpi\\.conda\\envs\\newone1\\lib\\site-packages\\sklearn\\metrics\\_classification.py:1327: UndefinedMetricWarning: Precision and F-score are ill-defined and being set to 0.0 in labels with no predicted samples. Use `zero_division` parameter to control this behavior.\n",
      "  _warn_prf(average, modifier, msg_start, len(result))\n",
      "C:\\Users\\vedpi\\.conda\\envs\\newone1\\lib\\site-packages\\sklearn\\metrics\\_classification.py:1327: UndefinedMetricWarning: Precision and F-score are ill-defined and being set to 0.0 in labels with no predicted samples. Use `zero_division` parameter to control this behavior.\n",
      "  _warn_prf(average, modifier, msg_start, len(result))\n",
      "C:\\Users\\vedpi\\.conda\\envs\\newone1\\lib\\site-packages\\sklearn\\metrics\\_classification.py:1327: UndefinedMetricWarning: Precision and F-score are ill-defined and being set to 0.0 in labels with no predicted samples. Use `zero_division` parameter to control this behavior.\n",
      "  _warn_prf(average, modifier, msg_start, len(result))\n"
     ]
    },
    {
     "name": "stdout",
     "output_type": "stream",
     "text": [
      "Currently running for featurizer fasttext_cbow with 13 number of classes.\n"
     ]
    },
    {
     "name": "stderr",
     "output_type": "stream",
     "text": [
      "C:\\Users\\vedpi\\.conda\\envs\\newone1\\lib\\site-packages\\sklearn\\metrics\\_classification.py:1327: UndefinedMetricWarning: Precision and F-score are ill-defined and being set to 0.0 in labels with no predicted samples. Use `zero_division` parameter to control this behavior.\n",
      "  _warn_prf(average, modifier, msg_start, len(result))\n",
      "C:\\Users\\vedpi\\.conda\\envs\\newone1\\lib\\site-packages\\sklearn\\metrics\\_classification.py:1327: UndefinedMetricWarning: Precision and F-score are ill-defined and being set to 0.0 in labels with no predicted samples. Use `zero_division` parameter to control this behavior.\n",
      "  _warn_prf(average, modifier, msg_start, len(result))\n",
      "C:\\Users\\vedpi\\.conda\\envs\\newone1\\lib\\site-packages\\sklearn\\metrics\\_classification.py:1327: UndefinedMetricWarning: Precision and F-score are ill-defined and being set to 0.0 in labels with no predicted samples. Use `zero_division` parameter to control this behavior.\n",
      "  _warn_prf(average, modifier, msg_start, len(result))\n",
      "C:\\Users\\vedpi\\.conda\\envs\\newone1\\lib\\site-packages\\sklearn\\metrics\\_classification.py:1327: UndefinedMetricWarning: Precision and F-score are ill-defined and being set to 0.0 in labels with no predicted samples. Use `zero_division` parameter to control this behavior.\n",
      "  _warn_prf(average, modifier, msg_start, len(result))\n",
      "C:\\Users\\vedpi\\.conda\\envs\\newone1\\lib\\site-packages\\sklearn\\metrics\\_classification.py:1327: UndefinedMetricWarning: Precision and F-score are ill-defined and being set to 0.0 in labels with no predicted samples. Use `zero_division` parameter to control this behavior.\n",
      "  _warn_prf(average, modifier, msg_start, len(result))\n",
      "C:\\Users\\vedpi\\.conda\\envs\\newone1\\lib\\site-packages\\sklearn\\metrics\\_classification.py:1327: UndefinedMetricWarning: Precision and F-score are ill-defined and being set to 0.0 in labels with no predicted samples. Use `zero_division` parameter to control this behavior.\n",
      "  _warn_prf(average, modifier, msg_start, len(result))\n"
     ]
    },
    {
     "name": "stdout",
     "output_type": "stream",
     "text": [
      "Currently running for featurizer lstm_with_attention with 14 number of classes.\n"
     ]
    },
    {
     "name": "stderr",
     "output_type": "stream",
     "text": [
      "C:\\Users\\vedpi\\.conda\\envs\\newone1\\lib\\site-packages\\sklearn\\metrics\\_classification.py:1327: UndefinedMetricWarning: Precision and F-score are ill-defined and being set to 0.0 in labels with no predicted samples. Use `zero_division` parameter to control this behavior.\n",
      "  _warn_prf(average, modifier, msg_start, len(result))\n",
      "C:\\Users\\vedpi\\.conda\\envs\\newone1\\lib\\site-packages\\sklearn\\metrics\\_classification.py:1327: UndefinedMetricWarning: Precision and F-score are ill-defined and being set to 0.0 in labels with no predicted samples. Use `zero_division` parameter to control this behavior.\n",
      "  _warn_prf(average, modifier, msg_start, len(result))\n",
      "C:\\Users\\vedpi\\.conda\\envs\\newone1\\lib\\site-packages\\sklearn\\metrics\\_classification.py:1327: UndefinedMetricWarning: Precision and F-score are ill-defined and being set to 0.0 in labels with no predicted samples. Use `zero_division` parameter to control this behavior.\n",
      "  _warn_prf(average, modifier, msg_start, len(result))\n"
     ]
    },
    {
     "name": "stdout",
     "output_type": "stream",
     "text": [
      "Currently running for featurizer just_attention with 14 number of classes.\n"
     ]
    },
    {
     "name": "stderr",
     "output_type": "stream",
     "text": [
      "C:\\Users\\vedpi\\.conda\\envs\\newone1\\lib\\site-packages\\sklearn\\metrics\\_classification.py:1327: UndefinedMetricWarning: Precision and F-score are ill-defined and being set to 0.0 in labels with no predicted samples. Use `zero_division` parameter to control this behavior.\n",
      "  _warn_prf(average, modifier, msg_start, len(result))\n",
      "C:\\Users\\vedpi\\.conda\\envs\\newone1\\lib\\site-packages\\sklearn\\metrics\\_classification.py:1327: UndefinedMetricWarning: Precision and F-score are ill-defined and being set to 0.0 in labels with no predicted samples. Use `zero_division` parameter to control this behavior.\n",
      "  _warn_prf(average, modifier, msg_start, len(result))\n",
      "C:\\Users\\vedpi\\.conda\\envs\\newone1\\lib\\site-packages\\sklearn\\metrics\\_classification.py:1327: UndefinedMetricWarning: Precision and F-score are ill-defined and being set to 0.0 in labels with no predicted samples. Use `zero_division` parameter to control this behavior.\n",
      "  _warn_prf(average, modifier, msg_start, len(result))\n"
     ]
    },
    {
     "name": "stdout",
     "output_type": "stream",
     "text": [
      "Currently running for featurizer vanilla_lstm with 14 number of classes.\n"
     ]
    },
    {
     "name": "stderr",
     "output_type": "stream",
     "text": [
      "C:\\Users\\vedpi\\.conda\\envs\\newone1\\lib\\site-packages\\sklearn\\metrics\\_classification.py:1327: UndefinedMetricWarning: Precision and F-score are ill-defined and being set to 0.0 in labels with no predicted samples. Use `zero_division` parameter to control this behavior.\n",
      "  _warn_prf(average, modifier, msg_start, len(result))\n",
      "C:\\Users\\vedpi\\.conda\\envs\\newone1\\lib\\site-packages\\sklearn\\metrics\\_classification.py:1327: UndefinedMetricWarning: Precision and F-score are ill-defined and being set to 0.0 in labels with no predicted samples. Use `zero_division` parameter to control this behavior.\n",
      "  _warn_prf(average, modifier, msg_start, len(result))\n",
      "C:\\Users\\vedpi\\.conda\\envs\\newone1\\lib\\site-packages\\sklearn\\metrics\\_classification.py:1327: UndefinedMetricWarning: Precision and F-score are ill-defined and being set to 0.0 in labels with no predicted samples. Use `zero_division` parameter to control this behavior.\n",
      "  _warn_prf(average, modifier, msg_start, len(result))\n",
      "C:\\Users\\vedpi\\.conda\\envs\\newone1\\lib\\site-packages\\sklearn\\metrics\\_classification.py:1327: UndefinedMetricWarning: Precision and F-score are ill-defined and being set to 0.0 in labels with no predicted samples. Use `zero_division` parameter to control this behavior.\n",
      "  _warn_prf(average, modifier, msg_start, len(result))\n",
      "C:\\Users\\vedpi\\.conda\\envs\\newone1\\lib\\site-packages\\sklearn\\metrics\\_classification.py:1327: UndefinedMetricWarning: Precision and F-score are ill-defined and being set to 0.0 in labels with no predicted samples. Use `zero_division` parameter to control this behavior.\n",
      "  _warn_prf(average, modifier, msg_start, len(result))\n",
      "C:\\Users\\vedpi\\.conda\\envs\\newone1\\lib\\site-packages\\sklearn\\metrics\\_classification.py:1327: UndefinedMetricWarning: Precision and F-score are ill-defined and being set to 0.0 in labels with no predicted samples. Use `zero_division` parameter to control this behavior.\n",
      "  _warn_prf(average, modifier, msg_start, len(result))\n"
     ]
    },
    {
     "name": "stdout",
     "output_type": "stream",
     "text": [
      "Currently running for featurizer countvectorizer with 14 number of classes.\n"
     ]
    },
    {
     "name": "stderr",
     "output_type": "stream",
     "text": [
      "C:\\Users\\vedpi\\.conda\\envs\\newone1\\lib\\site-packages\\sklearn\\metrics\\_classification.py:1327: UndefinedMetricWarning: Precision and F-score are ill-defined and being set to 0.0 in labels with no predicted samples. Use `zero_division` parameter to control this behavior.\n",
      "  _warn_prf(average, modifier, msg_start, len(result))\n",
      "C:\\Users\\vedpi\\.conda\\envs\\newone1\\lib\\site-packages\\sklearn\\metrics\\_classification.py:1327: UndefinedMetricWarning: Precision and F-score are ill-defined and being set to 0.0 in labels with no predicted samples. Use `zero_division` parameter to control this behavior.\n",
      "  _warn_prf(average, modifier, msg_start, len(result))\n",
      "C:\\Users\\vedpi\\.conda\\envs\\newone1\\lib\\site-packages\\sklearn\\metrics\\_classification.py:1327: UndefinedMetricWarning: Precision and F-score are ill-defined and being set to 0.0 in labels with no predicted samples. Use `zero_division` parameter to control this behavior.\n",
      "  _warn_prf(average, modifier, msg_start, len(result))\n",
      "C:\\Users\\vedpi\\.conda\\envs\\newone1\\lib\\site-packages\\sklearn\\metrics\\_classification.py:1327: UndefinedMetricWarning: Precision and F-score are ill-defined and being set to 0.0 in labels with no predicted samples. Use `zero_division` parameter to control this behavior.\n",
      "  _warn_prf(average, modifier, msg_start, len(result))\n",
      "C:\\Users\\vedpi\\.conda\\envs\\newone1\\lib\\site-packages\\sklearn\\metrics\\_classification.py:1327: UndefinedMetricWarning: Precision and F-score are ill-defined and being set to 0.0 in labels with no predicted samples. Use `zero_division` parameter to control this behavior.\n",
      "  _warn_prf(average, modifier, msg_start, len(result))\n",
      "C:\\Users\\vedpi\\.conda\\envs\\newone1\\lib\\site-packages\\sklearn\\metrics\\_classification.py:1327: UndefinedMetricWarning: Precision and F-score are ill-defined and being set to 0.0 in labels with no predicted samples. Use `zero_division` parameter to control this behavior.\n",
      "  _warn_prf(average, modifier, msg_start, len(result))\n",
      "C:\\Users\\vedpi\\.conda\\envs\\newone1\\lib\\site-packages\\sklearn\\metrics\\_classification.py:1327: UndefinedMetricWarning: Precision and F-score are ill-defined and being set to 0.0 in labels with no predicted samples. Use `zero_division` parameter to control this behavior.\n",
      "  _warn_prf(average, modifier, msg_start, len(result))\n",
      "C:\\Users\\vedpi\\.conda\\envs\\newone1\\lib\\site-packages\\sklearn\\metrics\\_classification.py:1327: UndefinedMetricWarning: Precision and F-score are ill-defined and being set to 0.0 in labels with no predicted samples. Use `zero_division` parameter to control this behavior.\n",
      "  _warn_prf(average, modifier, msg_start, len(result))\n",
      "C:\\Users\\vedpi\\.conda\\envs\\newone1\\lib\\site-packages\\sklearn\\metrics\\_classification.py:1327: UndefinedMetricWarning: Precision and F-score are ill-defined and being set to 0.0 in labels with no predicted samples. Use `zero_division` parameter to control this behavior.\n",
      "  _warn_prf(average, modifier, msg_start, len(result))\n"
     ]
    },
    {
     "name": "stdout",
     "output_type": "stream",
     "text": [
      "Currently running for featurizer doc2vec_dbow with 14 number of classes.\n"
     ]
    },
    {
     "name": "stderr",
     "output_type": "stream",
     "text": [
      "C:\\Users\\vedpi\\.conda\\envs\\newone1\\lib\\site-packages\\sklearn\\metrics\\_classification.py:1327: UndefinedMetricWarning: Precision and F-score are ill-defined and being set to 0.0 in labels with no predicted samples. Use `zero_division` parameter to control this behavior.\n",
      "  _warn_prf(average, modifier, msg_start, len(result))\n",
      "C:\\Users\\vedpi\\.conda\\envs\\newone1\\lib\\site-packages\\sklearn\\metrics\\_classification.py:1327: UndefinedMetricWarning: Precision and F-score are ill-defined and being set to 0.0 in labels with no predicted samples. Use `zero_division` parameter to control this behavior.\n",
      "  _warn_prf(average, modifier, msg_start, len(result))\n",
      "C:\\Users\\vedpi\\.conda\\envs\\newone1\\lib\\site-packages\\sklearn\\metrics\\_classification.py:1327: UndefinedMetricWarning: Precision and F-score are ill-defined and being set to 0.0 in labels with no predicted samples. Use `zero_division` parameter to control this behavior.\n",
      "  _warn_prf(average, modifier, msg_start, len(result))\n"
     ]
    },
    {
     "name": "stdout",
     "output_type": "stream",
     "text": [
      "Currently running for featurizer doc2vec_dm with 14 number of classes.\n"
     ]
    },
    {
     "name": "stderr",
     "output_type": "stream",
     "text": [
      "C:\\Users\\vedpi\\.conda\\envs\\newone1\\lib\\site-packages\\sklearn\\metrics\\_classification.py:1327: UndefinedMetricWarning: Precision and F-score are ill-defined and being set to 0.0 in labels with no predicted samples. Use `zero_division` parameter to control this behavior.\n",
      "  _warn_prf(average, modifier, msg_start, len(result))\n",
      "C:\\Users\\vedpi\\.conda\\envs\\newone1\\lib\\site-packages\\sklearn\\metrics\\_classification.py:1327: UndefinedMetricWarning: Precision and F-score are ill-defined and being set to 0.0 in labels with no predicted samples. Use `zero_division` parameter to control this behavior.\n",
      "  _warn_prf(average, modifier, msg_start, len(result))\n",
      "C:\\Users\\vedpi\\.conda\\envs\\newone1\\lib\\site-packages\\sklearn\\metrics\\_classification.py:1327: UndefinedMetricWarning: Precision and F-score are ill-defined and being set to 0.0 in labels with no predicted samples. Use `zero_division` parameter to control this behavior.\n",
      "  _warn_prf(average, modifier, msg_start, len(result))\n",
      "C:\\Users\\vedpi\\.conda\\envs\\newone1\\lib\\site-packages\\sklearn\\metrics\\_classification.py:1327: UndefinedMetricWarning: Precision and F-score are ill-defined and being set to 0.0 in labels with no predicted samples. Use `zero_division` parameter to control this behavior.\n",
      "  _warn_prf(average, modifier, msg_start, len(result))\n",
      "C:\\Users\\vedpi\\.conda\\envs\\newone1\\lib\\site-packages\\sklearn\\metrics\\_classification.py:1327: UndefinedMetricWarning: Precision and F-score are ill-defined and being set to 0.0 in labels with no predicted samples. Use `zero_division` parameter to control this behavior.\n",
      "  _warn_prf(average, modifier, msg_start, len(result))\n",
      "C:\\Users\\vedpi\\.conda\\envs\\newone1\\lib\\site-packages\\sklearn\\metrics\\_classification.py:1327: UndefinedMetricWarning: Precision and F-score are ill-defined and being set to 0.0 in labels with no predicted samples. Use `zero_division` parameter to control this behavior.\n",
      "  _warn_prf(average, modifier, msg_start, len(result))\n"
     ]
    },
    {
     "name": "stdout",
     "output_type": "stream",
     "text": [
      "Currently running for featurizer word2vec_cbow with 14 number of classes.\n"
     ]
    },
    {
     "name": "stderr",
     "output_type": "stream",
     "text": [
      "C:\\Users\\vedpi\\.conda\\envs\\newone1\\lib\\site-packages\\sklearn\\metrics\\_classification.py:1327: UndefinedMetricWarning: Precision and F-score are ill-defined and being set to 0.0 in labels with no predicted samples. Use `zero_division` parameter to control this behavior.\n",
      "  _warn_prf(average, modifier, msg_start, len(result))\n",
      "C:\\Users\\vedpi\\.conda\\envs\\newone1\\lib\\site-packages\\sklearn\\metrics\\_classification.py:1327: UndefinedMetricWarning: Precision and F-score are ill-defined and being set to 0.0 in labels with no predicted samples. Use `zero_division` parameter to control this behavior.\n",
      "  _warn_prf(average, modifier, msg_start, len(result))\n",
      "C:\\Users\\vedpi\\.conda\\envs\\newone1\\lib\\site-packages\\sklearn\\metrics\\_classification.py:1327: UndefinedMetricWarning: Precision and F-score are ill-defined and being set to 0.0 in labels with no predicted samples. Use `zero_division` parameter to control this behavior.\n",
      "  _warn_prf(average, modifier, msg_start, len(result))\n",
      "C:\\Users\\vedpi\\.conda\\envs\\newone1\\lib\\site-packages\\sklearn\\metrics\\_classification.py:1327: UndefinedMetricWarning: Precision and F-score are ill-defined and being set to 0.0 in labels with no predicted samples. Use `zero_division` parameter to control this behavior.\n",
      "  _warn_prf(average, modifier, msg_start, len(result))\n",
      "C:\\Users\\vedpi\\.conda\\envs\\newone1\\lib\\site-packages\\sklearn\\metrics\\_classification.py:1327: UndefinedMetricWarning: Precision and F-score are ill-defined and being set to 0.0 in labels with no predicted samples. Use `zero_division` parameter to control this behavior.\n",
      "  _warn_prf(average, modifier, msg_start, len(result))\n",
      "C:\\Users\\vedpi\\.conda\\envs\\newone1\\lib\\site-packages\\sklearn\\metrics\\_classification.py:1327: UndefinedMetricWarning: Precision and F-score are ill-defined and being set to 0.0 in labels with no predicted samples. Use `zero_division` parameter to control this behavior.\n",
      "  _warn_prf(average, modifier, msg_start, len(result))\n"
     ]
    },
    {
     "name": "stdout",
     "output_type": "stream",
     "text": [
      "Currently running for featurizer word2vec_sg with 14 number of classes.\n"
     ]
    },
    {
     "name": "stderr",
     "output_type": "stream",
     "text": [
      "C:\\Users\\vedpi\\.conda\\envs\\newone1\\lib\\site-packages\\sklearn\\metrics\\_classification.py:1327: UndefinedMetricWarning: Precision and F-score are ill-defined and being set to 0.0 in labels with no predicted samples. Use `zero_division` parameter to control this behavior.\n",
      "  _warn_prf(average, modifier, msg_start, len(result))\n",
      "C:\\Users\\vedpi\\.conda\\envs\\newone1\\lib\\site-packages\\sklearn\\metrics\\_classification.py:1327: UndefinedMetricWarning: Precision and F-score are ill-defined and being set to 0.0 in labels with no predicted samples. Use `zero_division` parameter to control this behavior.\n",
      "  _warn_prf(average, modifier, msg_start, len(result))\n",
      "C:\\Users\\vedpi\\.conda\\envs\\newone1\\lib\\site-packages\\sklearn\\metrics\\_classification.py:1327: UndefinedMetricWarning: Precision and F-score are ill-defined and being set to 0.0 in labels with no predicted samples. Use `zero_division` parameter to control this behavior.\n",
      "  _warn_prf(average, modifier, msg_start, len(result))\n",
      "C:\\Users\\vedpi\\.conda\\envs\\newone1\\lib\\site-packages\\sklearn\\metrics\\_classification.py:1327: UndefinedMetricWarning: Precision and F-score are ill-defined and being set to 0.0 in labels with no predicted samples. Use `zero_division` parameter to control this behavior.\n",
      "  _warn_prf(average, modifier, msg_start, len(result))\n",
      "C:\\Users\\vedpi\\.conda\\envs\\newone1\\lib\\site-packages\\sklearn\\metrics\\_classification.py:1327: UndefinedMetricWarning: Precision and F-score are ill-defined and being set to 0.0 in labels with no predicted samples. Use `zero_division` parameter to control this behavior.\n",
      "  _warn_prf(average, modifier, msg_start, len(result))\n",
      "C:\\Users\\vedpi\\.conda\\envs\\newone1\\lib\\site-packages\\sklearn\\metrics\\_classification.py:1327: UndefinedMetricWarning: Precision and F-score are ill-defined and being set to 0.0 in labels with no predicted samples. Use `zero_division` parameter to control this behavior.\n",
      "  _warn_prf(average, modifier, msg_start, len(result))\n"
     ]
    },
    {
     "name": "stdout",
     "output_type": "stream",
     "text": [
      "Currently running for featurizer fasttext_sg with 14 number of classes.\n"
     ]
    },
    {
     "name": "stderr",
     "output_type": "stream",
     "text": [
      "C:\\Users\\vedpi\\.conda\\envs\\newone1\\lib\\site-packages\\sklearn\\metrics\\_classification.py:1327: UndefinedMetricWarning: Precision and F-score are ill-defined and being set to 0.0 in labels with no predicted samples. Use `zero_division` parameter to control this behavior.\n",
      "  _warn_prf(average, modifier, msg_start, len(result))\n",
      "C:\\Users\\vedpi\\.conda\\envs\\newone1\\lib\\site-packages\\sklearn\\metrics\\_classification.py:1327: UndefinedMetricWarning: Precision and F-score are ill-defined and being set to 0.0 in labels with no predicted samples. Use `zero_division` parameter to control this behavior.\n",
      "  _warn_prf(average, modifier, msg_start, len(result))\n",
      "C:\\Users\\vedpi\\.conda\\envs\\newone1\\lib\\site-packages\\sklearn\\metrics\\_classification.py:1327: UndefinedMetricWarning: Precision and F-score are ill-defined and being set to 0.0 in labels with no predicted samples. Use `zero_division` parameter to control this behavior.\n",
      "  _warn_prf(average, modifier, msg_start, len(result))\n",
      "C:\\Users\\vedpi\\.conda\\envs\\newone1\\lib\\site-packages\\sklearn\\metrics\\_classification.py:1327: UndefinedMetricWarning: Precision and F-score are ill-defined and being set to 0.0 in labels with no predicted samples. Use `zero_division` parameter to control this behavior.\n",
      "  _warn_prf(average, modifier, msg_start, len(result))\n",
      "C:\\Users\\vedpi\\.conda\\envs\\newone1\\lib\\site-packages\\sklearn\\metrics\\_classification.py:1327: UndefinedMetricWarning: Precision and F-score are ill-defined and being set to 0.0 in labels with no predicted samples. Use `zero_division` parameter to control this behavior.\n",
      "  _warn_prf(average, modifier, msg_start, len(result))\n",
      "C:\\Users\\vedpi\\.conda\\envs\\newone1\\lib\\site-packages\\sklearn\\metrics\\_classification.py:1327: UndefinedMetricWarning: Precision and F-score are ill-defined and being set to 0.0 in labels with no predicted samples. Use `zero_division` parameter to control this behavior.\n",
      "  _warn_prf(average, modifier, msg_start, len(result))\n",
      "C:\\Users\\vedpi\\.conda\\envs\\newone1\\lib\\site-packages\\sklearn\\metrics\\_classification.py:1327: UndefinedMetricWarning: Precision and F-score are ill-defined and being set to 0.0 in labels with no predicted samples. Use `zero_division` parameter to control this behavior.\n",
      "  _warn_prf(average, modifier, msg_start, len(result))\n",
      "C:\\Users\\vedpi\\.conda\\envs\\newone1\\lib\\site-packages\\sklearn\\metrics\\_classification.py:1327: UndefinedMetricWarning: Precision and F-score are ill-defined and being set to 0.0 in labels with no predicted samples. Use `zero_division` parameter to control this behavior.\n",
      "  _warn_prf(average, modifier, msg_start, len(result))\n",
      "C:\\Users\\vedpi\\.conda\\envs\\newone1\\lib\\site-packages\\sklearn\\metrics\\_classification.py:1327: UndefinedMetricWarning: Precision and F-score are ill-defined and being set to 0.0 in labels with no predicted samples. Use `zero_division` parameter to control this behavior.\n",
      "  _warn_prf(average, modifier, msg_start, len(result))\n"
     ]
    },
    {
     "name": "stdout",
     "output_type": "stream",
     "text": [
      "Currently running for featurizer fasttext_cbow with 14 number of classes.\n"
     ]
    },
    {
     "name": "stderr",
     "output_type": "stream",
     "text": [
      "C:\\Users\\vedpi\\.conda\\envs\\newone1\\lib\\site-packages\\sklearn\\metrics\\_classification.py:1327: UndefinedMetricWarning: Precision and F-score are ill-defined and being set to 0.0 in labels with no predicted samples. Use `zero_division` parameter to control this behavior.\n",
      "  _warn_prf(average, modifier, msg_start, len(result))\n",
      "C:\\Users\\vedpi\\.conda\\envs\\newone1\\lib\\site-packages\\sklearn\\metrics\\_classification.py:1327: UndefinedMetricWarning: Precision and F-score are ill-defined and being set to 0.0 in labels with no predicted samples. Use `zero_division` parameter to control this behavior.\n",
      "  _warn_prf(average, modifier, msg_start, len(result))\n",
      "C:\\Users\\vedpi\\.conda\\envs\\newone1\\lib\\site-packages\\sklearn\\metrics\\_classification.py:1327: UndefinedMetricWarning: Precision and F-score are ill-defined and being set to 0.0 in labels with no predicted samples. Use `zero_division` parameter to control this behavior.\n",
      "  _warn_prf(average, modifier, msg_start, len(result))\n",
      "C:\\Users\\vedpi\\.conda\\envs\\newone1\\lib\\site-packages\\sklearn\\metrics\\_classification.py:1327: UndefinedMetricWarning: Precision and F-score are ill-defined and being set to 0.0 in labels with no predicted samples. Use `zero_division` parameter to control this behavior.\n",
      "  _warn_prf(average, modifier, msg_start, len(result))\n",
      "C:\\Users\\vedpi\\.conda\\envs\\newone1\\lib\\site-packages\\sklearn\\metrics\\_classification.py:1327: UndefinedMetricWarning: Precision and F-score are ill-defined and being set to 0.0 in labels with no predicted samples. Use `zero_division` parameter to control this behavior.\n",
      "  _warn_prf(average, modifier, msg_start, len(result))\n",
      "C:\\Users\\vedpi\\.conda\\envs\\newone1\\lib\\site-packages\\sklearn\\metrics\\_classification.py:1327: UndefinedMetricWarning: Precision and F-score are ill-defined and being set to 0.0 in labels with no predicted samples. Use `zero_division` parameter to control this behavior.\n",
      "  _warn_prf(average, modifier, msg_start, len(result))\n",
      "C:\\Users\\vedpi\\.conda\\envs\\newone1\\lib\\site-packages\\sklearn\\metrics\\_classification.py:1327: UndefinedMetricWarning: Precision and F-score are ill-defined and being set to 0.0 in labels with no predicted samples. Use `zero_division` parameter to control this behavior.\n",
      "  _warn_prf(average, modifier, msg_start, len(result))\n",
      "C:\\Users\\vedpi\\.conda\\envs\\newone1\\lib\\site-packages\\sklearn\\metrics\\_classification.py:1327: UndefinedMetricWarning: Precision and F-score are ill-defined and being set to 0.0 in labels with no predicted samples. Use `zero_division` parameter to control this behavior.\n",
      "  _warn_prf(average, modifier, msg_start, len(result))\n",
      "C:\\Users\\vedpi\\.conda\\envs\\newone1\\lib\\site-packages\\sklearn\\metrics\\_classification.py:1327: UndefinedMetricWarning: Precision and F-score are ill-defined and being set to 0.0 in labels with no predicted samples. Use `zero_division` parameter to control this behavior.\n",
      "  _warn_prf(average, modifier, msg_start, len(result))\n"
     ]
    },
    {
     "name": "stdout",
     "output_type": "stream",
     "text": [
      "Currently running for featurizer lstm_with_attention with 15 number of classes.\n"
     ]
    },
    {
     "name": "stderr",
     "output_type": "stream",
     "text": [
      "C:\\Users\\vedpi\\.conda\\envs\\newone1\\lib\\site-packages\\sklearn\\metrics\\_classification.py:1327: UndefinedMetricWarning: Precision and F-score are ill-defined and being set to 0.0 in labels with no predicted samples. Use `zero_division` parameter to control this behavior.\n",
      "  _warn_prf(average, modifier, msg_start, len(result))\n",
      "C:\\Users\\vedpi\\.conda\\envs\\newone1\\lib\\site-packages\\sklearn\\metrics\\_classification.py:1327: UndefinedMetricWarning: Precision and F-score are ill-defined and being set to 0.0 in labels with no predicted samples. Use `zero_division` parameter to control this behavior.\n",
      "  _warn_prf(average, modifier, msg_start, len(result))\n",
      "C:\\Users\\vedpi\\.conda\\envs\\newone1\\lib\\site-packages\\sklearn\\metrics\\_classification.py:1327: UndefinedMetricWarning: Precision and F-score are ill-defined and being set to 0.0 in labels with no predicted samples. Use `zero_division` parameter to control this behavior.\n",
      "  _warn_prf(average, modifier, msg_start, len(result))\n",
      "C:\\Users\\vedpi\\.conda\\envs\\newone1\\lib\\site-packages\\sklearn\\metrics\\_classification.py:1327: UndefinedMetricWarning: Precision and F-score are ill-defined and being set to 0.0 in labels with no predicted samples. Use `zero_division` parameter to control this behavior.\n",
      "  _warn_prf(average, modifier, msg_start, len(result))\n",
      "C:\\Users\\vedpi\\.conda\\envs\\newone1\\lib\\site-packages\\sklearn\\metrics\\_classification.py:1327: UndefinedMetricWarning: Precision and F-score are ill-defined and being set to 0.0 in labels with no predicted samples. Use `zero_division` parameter to control this behavior.\n",
      "  _warn_prf(average, modifier, msg_start, len(result))\n",
      "C:\\Users\\vedpi\\.conda\\envs\\newone1\\lib\\site-packages\\sklearn\\metrics\\_classification.py:1327: UndefinedMetricWarning: Precision and F-score are ill-defined and being set to 0.0 in labels with no predicted samples. Use `zero_division` parameter to control this behavior.\n",
      "  _warn_prf(average, modifier, msg_start, len(result))\n",
      "C:\\Users\\vedpi\\.conda\\envs\\newone1\\lib\\site-packages\\sklearn\\metrics\\_classification.py:1327: UndefinedMetricWarning: Precision and F-score are ill-defined and being set to 0.0 in labels with no predicted samples. Use `zero_division` parameter to control this behavior.\n",
      "  _warn_prf(average, modifier, msg_start, len(result))\n",
      "C:\\Users\\vedpi\\.conda\\envs\\newone1\\lib\\site-packages\\sklearn\\metrics\\_classification.py:1327: UndefinedMetricWarning: Precision and F-score are ill-defined and being set to 0.0 in labels with no predicted samples. Use `zero_division` parameter to control this behavior.\n",
      "  _warn_prf(average, modifier, msg_start, len(result))\n",
      "C:\\Users\\vedpi\\.conda\\envs\\newone1\\lib\\site-packages\\sklearn\\metrics\\_classification.py:1327: UndefinedMetricWarning: Precision and F-score are ill-defined and being set to 0.0 in labels with no predicted samples. Use `zero_division` parameter to control this behavior.\n",
      "  _warn_prf(average, modifier, msg_start, len(result))\n",
      "C:\\Users\\vedpi\\.conda\\envs\\newone1\\lib\\site-packages\\sklearn\\metrics\\_classification.py:1327: UndefinedMetricWarning: Precision and F-score are ill-defined and being set to 0.0 in labels with no predicted samples. Use `zero_division` parameter to control this behavior.\n",
      "  _warn_prf(average, modifier, msg_start, len(result))\n",
      "C:\\Users\\vedpi\\.conda\\envs\\newone1\\lib\\site-packages\\sklearn\\metrics\\_classification.py:1327: UndefinedMetricWarning: Precision and F-score are ill-defined and being set to 0.0 in labels with no predicted samples. Use `zero_division` parameter to control this behavior.\n",
      "  _warn_prf(average, modifier, msg_start, len(result))\n",
      "C:\\Users\\vedpi\\.conda\\envs\\newone1\\lib\\site-packages\\sklearn\\metrics\\_classification.py:1327: UndefinedMetricWarning: Precision and F-score are ill-defined and being set to 0.0 in labels with no predicted samples. Use `zero_division` parameter to control this behavior.\n",
      "  _warn_prf(average, modifier, msg_start, len(result))\n"
     ]
    },
    {
     "name": "stdout",
     "output_type": "stream",
     "text": [
      "Currently running for featurizer just_attention with 15 number of classes.\n"
     ]
    },
    {
     "name": "stderr",
     "output_type": "stream",
     "text": [
      "C:\\Users\\vedpi\\.conda\\envs\\newone1\\lib\\site-packages\\sklearn\\metrics\\_classification.py:1327: UndefinedMetricWarning: Precision and F-score are ill-defined and being set to 0.0 in labels with no predicted samples. Use `zero_division` parameter to control this behavior.\n",
      "  _warn_prf(average, modifier, msg_start, len(result))\n",
      "C:\\Users\\vedpi\\.conda\\envs\\newone1\\lib\\site-packages\\sklearn\\metrics\\_classification.py:1327: UndefinedMetricWarning: Precision and F-score are ill-defined and being set to 0.0 in labels with no predicted samples. Use `zero_division` parameter to control this behavior.\n",
      "  _warn_prf(average, modifier, msg_start, len(result))\n",
      "C:\\Users\\vedpi\\.conda\\envs\\newone1\\lib\\site-packages\\sklearn\\metrics\\_classification.py:1327: UndefinedMetricWarning: Precision and F-score are ill-defined and being set to 0.0 in labels with no predicted samples. Use `zero_division` parameter to control this behavior.\n",
      "  _warn_prf(average, modifier, msg_start, len(result))\n",
      "C:\\Users\\vedpi\\.conda\\envs\\newone1\\lib\\site-packages\\sklearn\\metrics\\_classification.py:1327: UndefinedMetricWarning: Precision and F-score are ill-defined and being set to 0.0 in labels with no predicted samples. Use `zero_division` parameter to control this behavior.\n",
      "  _warn_prf(average, modifier, msg_start, len(result))\n",
      "C:\\Users\\vedpi\\.conda\\envs\\newone1\\lib\\site-packages\\sklearn\\metrics\\_classification.py:1327: UndefinedMetricWarning: Precision and F-score are ill-defined and being set to 0.0 in labels with no predicted samples. Use `zero_division` parameter to control this behavior.\n",
      "  _warn_prf(average, modifier, msg_start, len(result))\n",
      "C:\\Users\\vedpi\\.conda\\envs\\newone1\\lib\\site-packages\\sklearn\\metrics\\_classification.py:1327: UndefinedMetricWarning: Precision and F-score are ill-defined and being set to 0.0 in labels with no predicted samples. Use `zero_division` parameter to control this behavior.\n",
      "  _warn_prf(average, modifier, msg_start, len(result))\n"
     ]
    },
    {
     "name": "stdout",
     "output_type": "stream",
     "text": [
      "Currently running for featurizer vanilla_lstm with 15 number of classes.\n"
     ]
    },
    {
     "name": "stderr",
     "output_type": "stream",
     "text": [
      "C:\\Users\\vedpi\\.conda\\envs\\newone1\\lib\\site-packages\\sklearn\\metrics\\_classification.py:1327: UndefinedMetricWarning: Precision and F-score are ill-defined and being set to 0.0 in labels with no predicted samples. Use `zero_division` parameter to control this behavior.\n",
      "  _warn_prf(average, modifier, msg_start, len(result))\n",
      "C:\\Users\\vedpi\\.conda\\envs\\newone1\\lib\\site-packages\\sklearn\\metrics\\_classification.py:1327: UndefinedMetricWarning: Precision and F-score are ill-defined and being set to 0.0 in labels with no predicted samples. Use `zero_division` parameter to control this behavior.\n",
      "  _warn_prf(average, modifier, msg_start, len(result))\n",
      "C:\\Users\\vedpi\\.conda\\envs\\newone1\\lib\\site-packages\\sklearn\\metrics\\_classification.py:1327: UndefinedMetricWarning: Precision and F-score are ill-defined and being set to 0.0 in labels with no predicted samples. Use `zero_division` parameter to control this behavior.\n",
      "  _warn_prf(average, modifier, msg_start, len(result))\n",
      "C:\\Users\\vedpi\\.conda\\envs\\newone1\\lib\\site-packages\\sklearn\\metrics\\_classification.py:1327: UndefinedMetricWarning: Precision and F-score are ill-defined and being set to 0.0 in labels with no predicted samples. Use `zero_division` parameter to control this behavior.\n",
      "  _warn_prf(average, modifier, msg_start, len(result))\n",
      "C:\\Users\\vedpi\\.conda\\envs\\newone1\\lib\\site-packages\\sklearn\\metrics\\_classification.py:1327: UndefinedMetricWarning: Precision and F-score are ill-defined and being set to 0.0 in labels with no predicted samples. Use `zero_division` parameter to control this behavior.\n",
      "  _warn_prf(average, modifier, msg_start, len(result))\n",
      "C:\\Users\\vedpi\\.conda\\envs\\newone1\\lib\\site-packages\\sklearn\\metrics\\_classification.py:1327: UndefinedMetricWarning: Precision and F-score are ill-defined and being set to 0.0 in labels with no predicted samples. Use `zero_division` parameter to control this behavior.\n",
      "  _warn_prf(average, modifier, msg_start, len(result))\n",
      "C:\\Users\\vedpi\\.conda\\envs\\newone1\\lib\\site-packages\\sklearn\\metrics\\_classification.py:1327: UndefinedMetricWarning: Precision and F-score are ill-defined and being set to 0.0 in labels with no predicted samples. Use `zero_division` parameter to control this behavior.\n",
      "  _warn_prf(average, modifier, msg_start, len(result))\n",
      "C:\\Users\\vedpi\\.conda\\envs\\newone1\\lib\\site-packages\\sklearn\\metrics\\_classification.py:1327: UndefinedMetricWarning: Precision and F-score are ill-defined and being set to 0.0 in labels with no predicted samples. Use `zero_division` parameter to control this behavior.\n",
      "  _warn_prf(average, modifier, msg_start, len(result))\n",
      "C:\\Users\\vedpi\\.conda\\envs\\newone1\\lib\\site-packages\\sklearn\\metrics\\_classification.py:1327: UndefinedMetricWarning: Precision and F-score are ill-defined and being set to 0.0 in labels with no predicted samples. Use `zero_division` parameter to control this behavior.\n",
      "  _warn_prf(average, modifier, msg_start, len(result))\n"
     ]
    },
    {
     "name": "stdout",
     "output_type": "stream",
     "text": [
      "Currently running for featurizer countvectorizer with 15 number of classes.\n"
     ]
    },
    {
     "name": "stderr",
     "output_type": "stream",
     "text": [
      "C:\\Users\\vedpi\\.conda\\envs\\newone1\\lib\\site-packages\\sklearn\\metrics\\_classification.py:1327: UndefinedMetricWarning: Precision and F-score are ill-defined and being set to 0.0 in labels with no predicted samples. Use `zero_division` parameter to control this behavior.\n",
      "  _warn_prf(average, modifier, msg_start, len(result))\n",
      "C:\\Users\\vedpi\\.conda\\envs\\newone1\\lib\\site-packages\\sklearn\\metrics\\_classification.py:1327: UndefinedMetricWarning: Precision and F-score are ill-defined and being set to 0.0 in labels with no predicted samples. Use `zero_division` parameter to control this behavior.\n",
      "  _warn_prf(average, modifier, msg_start, len(result))\n",
      "C:\\Users\\vedpi\\.conda\\envs\\newone1\\lib\\site-packages\\sklearn\\metrics\\_classification.py:1327: UndefinedMetricWarning: Precision and F-score are ill-defined and being set to 0.0 in labels with no predicted samples. Use `zero_division` parameter to control this behavior.\n",
      "  _warn_prf(average, modifier, msg_start, len(result))\n",
      "C:\\Users\\vedpi\\.conda\\envs\\newone1\\lib\\site-packages\\sklearn\\metrics\\_classification.py:1327: UndefinedMetricWarning: Precision and F-score are ill-defined and being set to 0.0 in labels with no predicted samples. Use `zero_division` parameter to control this behavior.\n",
      "  _warn_prf(average, modifier, msg_start, len(result))\n",
      "C:\\Users\\vedpi\\.conda\\envs\\newone1\\lib\\site-packages\\sklearn\\metrics\\_classification.py:1327: UndefinedMetricWarning: Precision and F-score are ill-defined and being set to 0.0 in labels with no predicted samples. Use `zero_division` parameter to control this behavior.\n",
      "  _warn_prf(average, modifier, msg_start, len(result))\n",
      "C:\\Users\\vedpi\\.conda\\envs\\newone1\\lib\\site-packages\\sklearn\\metrics\\_classification.py:1327: UndefinedMetricWarning: Precision and F-score are ill-defined and being set to 0.0 in labels with no predicted samples. Use `zero_division` parameter to control this behavior.\n",
      "  _warn_prf(average, modifier, msg_start, len(result))\n",
      "C:\\Users\\vedpi\\.conda\\envs\\newone1\\lib\\site-packages\\sklearn\\metrics\\_classification.py:1327: UndefinedMetricWarning: Precision and F-score are ill-defined and being set to 0.0 in labels with no predicted samples. Use `zero_division` parameter to control this behavior.\n",
      "  _warn_prf(average, modifier, msg_start, len(result))\n",
      "C:\\Users\\vedpi\\.conda\\envs\\newone1\\lib\\site-packages\\sklearn\\metrics\\_classification.py:1327: UndefinedMetricWarning: Precision and F-score are ill-defined and being set to 0.0 in labels with no predicted samples. Use `zero_division` parameter to control this behavior.\n",
      "  _warn_prf(average, modifier, msg_start, len(result))\n",
      "C:\\Users\\vedpi\\.conda\\envs\\newone1\\lib\\site-packages\\sklearn\\metrics\\_classification.py:1327: UndefinedMetricWarning: Precision and F-score are ill-defined and being set to 0.0 in labels with no predicted samples. Use `zero_division` parameter to control this behavior.\n",
      "  _warn_prf(average, modifier, msg_start, len(result))\n",
      "C:\\Users\\vedpi\\.conda\\envs\\newone1\\lib\\site-packages\\sklearn\\metrics\\_classification.py:1327: UndefinedMetricWarning: Precision and F-score are ill-defined and being set to 0.0 in labels with no predicted samples. Use `zero_division` parameter to control this behavior.\n",
      "  _warn_prf(average, modifier, msg_start, len(result))\n",
      "C:\\Users\\vedpi\\.conda\\envs\\newone1\\lib\\site-packages\\sklearn\\metrics\\_classification.py:1327: UndefinedMetricWarning: Precision and F-score are ill-defined and being set to 0.0 in labels with no predicted samples. Use `zero_division` parameter to control this behavior.\n",
      "  _warn_prf(average, modifier, msg_start, len(result))\n",
      "C:\\Users\\vedpi\\.conda\\envs\\newone1\\lib\\site-packages\\sklearn\\metrics\\_classification.py:1327: UndefinedMetricWarning: Precision and F-score are ill-defined and being set to 0.0 in labels with no predicted samples. Use `zero_division` parameter to control this behavior.\n",
      "  _warn_prf(average, modifier, msg_start, len(result))\n"
     ]
    },
    {
     "name": "stdout",
     "output_type": "stream",
     "text": [
      "Currently running for featurizer doc2vec_dbow with 15 number of classes.\n"
     ]
    },
    {
     "name": "stderr",
     "output_type": "stream",
     "text": [
      "C:\\Users\\vedpi\\.conda\\envs\\newone1\\lib\\site-packages\\sklearn\\metrics\\_classification.py:1327: UndefinedMetricWarning: Precision and F-score are ill-defined and being set to 0.0 in labels with no predicted samples. Use `zero_division` parameter to control this behavior.\n",
      "  _warn_prf(average, modifier, msg_start, len(result))\n",
      "C:\\Users\\vedpi\\.conda\\envs\\newone1\\lib\\site-packages\\sklearn\\metrics\\_classification.py:1327: UndefinedMetricWarning: Precision and F-score are ill-defined and being set to 0.0 in labels with no predicted samples. Use `zero_division` parameter to control this behavior.\n",
      "  _warn_prf(average, modifier, msg_start, len(result))\n",
      "C:\\Users\\vedpi\\.conda\\envs\\newone1\\lib\\site-packages\\sklearn\\metrics\\_classification.py:1327: UndefinedMetricWarning: Precision and F-score are ill-defined and being set to 0.0 in labels with no predicted samples. Use `zero_division` parameter to control this behavior.\n",
      "  _warn_prf(average, modifier, msg_start, len(result))\n",
      "C:\\Users\\vedpi\\.conda\\envs\\newone1\\lib\\site-packages\\sklearn\\metrics\\_classification.py:1327: UndefinedMetricWarning: Precision and F-score are ill-defined and being set to 0.0 in labels with no predicted samples. Use `zero_division` parameter to control this behavior.\n",
      "  _warn_prf(average, modifier, msg_start, len(result))\n",
      "C:\\Users\\vedpi\\.conda\\envs\\newone1\\lib\\site-packages\\sklearn\\metrics\\_classification.py:1327: UndefinedMetricWarning: Precision and F-score are ill-defined and being set to 0.0 in labels with no predicted samples. Use `zero_division` parameter to control this behavior.\n",
      "  _warn_prf(average, modifier, msg_start, len(result))\n",
      "C:\\Users\\vedpi\\.conda\\envs\\newone1\\lib\\site-packages\\sklearn\\metrics\\_classification.py:1327: UndefinedMetricWarning: Precision and F-score are ill-defined and being set to 0.0 in labels with no predicted samples. Use `zero_division` parameter to control this behavior.\n",
      "  _warn_prf(average, modifier, msg_start, len(result))\n",
      "C:\\Users\\vedpi\\.conda\\envs\\newone1\\lib\\site-packages\\sklearn\\metrics\\_classification.py:1327: UndefinedMetricWarning: Precision and F-score are ill-defined and being set to 0.0 in labels with no predicted samples. Use `zero_division` parameter to control this behavior.\n",
      "  _warn_prf(average, modifier, msg_start, len(result))\n",
      "C:\\Users\\vedpi\\.conda\\envs\\newone1\\lib\\site-packages\\sklearn\\metrics\\_classification.py:1327: UndefinedMetricWarning: Precision and F-score are ill-defined and being set to 0.0 in labels with no predicted samples. Use `zero_division` parameter to control this behavior.\n",
      "  _warn_prf(average, modifier, msg_start, len(result))\n",
      "C:\\Users\\vedpi\\.conda\\envs\\newone1\\lib\\site-packages\\sklearn\\metrics\\_classification.py:1327: UndefinedMetricWarning: Precision and F-score are ill-defined and being set to 0.0 in labels with no predicted samples. Use `zero_division` parameter to control this behavior.\n",
      "  _warn_prf(average, modifier, msg_start, len(result))\n",
      "C:\\Users\\vedpi\\.conda\\envs\\newone1\\lib\\site-packages\\sklearn\\metrics\\_classification.py:1327: UndefinedMetricWarning: Precision and F-score are ill-defined and being set to 0.0 in labels with no predicted samples. Use `zero_division` parameter to control this behavior.\n",
      "  _warn_prf(average, modifier, msg_start, len(result))\n",
      "C:\\Users\\vedpi\\.conda\\envs\\newone1\\lib\\site-packages\\sklearn\\metrics\\_classification.py:1327: UndefinedMetricWarning: Precision and F-score are ill-defined and being set to 0.0 in labels with no predicted samples. Use `zero_division` parameter to control this behavior.\n",
      "  _warn_prf(average, modifier, msg_start, len(result))\n",
      "C:\\Users\\vedpi\\.conda\\envs\\newone1\\lib\\site-packages\\sklearn\\metrics\\_classification.py:1327: UndefinedMetricWarning: Precision and F-score are ill-defined and being set to 0.0 in labels with no predicted samples. Use `zero_division` parameter to control this behavior.\n",
      "  _warn_prf(average, modifier, msg_start, len(result))\n"
     ]
    },
    {
     "name": "stdout",
     "output_type": "stream",
     "text": [
      "Currently running for featurizer doc2vec_dm with 15 number of classes.\n"
     ]
    },
    {
     "name": "stderr",
     "output_type": "stream",
     "text": [
      "C:\\Users\\vedpi\\.conda\\envs\\newone1\\lib\\site-packages\\sklearn\\metrics\\_classification.py:1327: UndefinedMetricWarning: Precision and F-score are ill-defined and being set to 0.0 in labels with no predicted samples. Use `zero_division` parameter to control this behavior.\n",
      "  _warn_prf(average, modifier, msg_start, len(result))\n",
      "C:\\Users\\vedpi\\.conda\\envs\\newone1\\lib\\site-packages\\sklearn\\metrics\\_classification.py:1327: UndefinedMetricWarning: Precision and F-score are ill-defined and being set to 0.0 in labels with no predicted samples. Use `zero_division` parameter to control this behavior.\n",
      "  _warn_prf(average, modifier, msg_start, len(result))\n",
      "C:\\Users\\vedpi\\.conda\\envs\\newone1\\lib\\site-packages\\sklearn\\metrics\\_classification.py:1327: UndefinedMetricWarning: Precision and F-score are ill-defined and being set to 0.0 in labels with no predicted samples. Use `zero_division` parameter to control this behavior.\n",
      "  _warn_prf(average, modifier, msg_start, len(result))\n"
     ]
    },
    {
     "name": "stdout",
     "output_type": "stream",
     "text": [
      "Currently running for featurizer word2vec_cbow with 15 number of classes.\n"
     ]
    },
    {
     "name": "stderr",
     "output_type": "stream",
     "text": [
      "C:\\Users\\vedpi\\.conda\\envs\\newone1\\lib\\site-packages\\sklearn\\metrics\\_classification.py:1327: UndefinedMetricWarning: Precision and F-score are ill-defined and being set to 0.0 in labels with no predicted samples. Use `zero_division` parameter to control this behavior.\n",
      "  _warn_prf(average, modifier, msg_start, len(result))\n",
      "C:\\Users\\vedpi\\.conda\\envs\\newone1\\lib\\site-packages\\sklearn\\metrics\\_classification.py:1327: UndefinedMetricWarning: Precision and F-score are ill-defined and being set to 0.0 in labels with no predicted samples. Use `zero_division` parameter to control this behavior.\n",
      "  _warn_prf(average, modifier, msg_start, len(result))\n",
      "C:\\Users\\vedpi\\.conda\\envs\\newone1\\lib\\site-packages\\sklearn\\metrics\\_classification.py:1327: UndefinedMetricWarning: Precision and F-score are ill-defined and being set to 0.0 in labels with no predicted samples. Use `zero_division` parameter to control this behavior.\n",
      "  _warn_prf(average, modifier, msg_start, len(result))\n",
      "C:\\Users\\vedpi\\.conda\\envs\\newone1\\lib\\site-packages\\sklearn\\metrics\\_classification.py:1327: UndefinedMetricWarning: Precision and F-score are ill-defined and being set to 0.0 in labels with no predicted samples. Use `zero_division` parameter to control this behavior.\n",
      "  _warn_prf(average, modifier, msg_start, len(result))\n",
      "C:\\Users\\vedpi\\.conda\\envs\\newone1\\lib\\site-packages\\sklearn\\metrics\\_classification.py:1327: UndefinedMetricWarning: Precision and F-score are ill-defined and being set to 0.0 in labels with no predicted samples. Use `zero_division` parameter to control this behavior.\n",
      "  _warn_prf(average, modifier, msg_start, len(result))\n",
      "C:\\Users\\vedpi\\.conda\\envs\\newone1\\lib\\site-packages\\sklearn\\metrics\\_classification.py:1327: UndefinedMetricWarning: Precision and F-score are ill-defined and being set to 0.0 in labels with no predicted samples. Use `zero_division` parameter to control this behavior.\n",
      "  _warn_prf(average, modifier, msg_start, len(result))\n",
      "C:\\Users\\vedpi\\.conda\\envs\\newone1\\lib\\site-packages\\sklearn\\metrics\\_classification.py:1327: UndefinedMetricWarning: Precision and F-score are ill-defined and being set to 0.0 in labels with no predicted samples. Use `zero_division` parameter to control this behavior.\n",
      "  _warn_prf(average, modifier, msg_start, len(result))\n",
      "C:\\Users\\vedpi\\.conda\\envs\\newone1\\lib\\site-packages\\sklearn\\metrics\\_classification.py:1327: UndefinedMetricWarning: Precision and F-score are ill-defined and being set to 0.0 in labels with no predicted samples. Use `zero_division` parameter to control this behavior.\n",
      "  _warn_prf(average, modifier, msg_start, len(result))\n",
      "C:\\Users\\vedpi\\.conda\\envs\\newone1\\lib\\site-packages\\sklearn\\metrics\\_classification.py:1327: UndefinedMetricWarning: Precision and F-score are ill-defined and being set to 0.0 in labels with no predicted samples. Use `zero_division` parameter to control this behavior.\n",
      "  _warn_prf(average, modifier, msg_start, len(result))\n"
     ]
    },
    {
     "name": "stdout",
     "output_type": "stream",
     "text": [
      "Currently running for featurizer word2vec_sg with 15 number of classes.\n"
     ]
    },
    {
     "name": "stderr",
     "output_type": "stream",
     "text": [
      "C:\\Users\\vedpi\\.conda\\envs\\newone1\\lib\\site-packages\\sklearn\\metrics\\_classification.py:1327: UndefinedMetricWarning: Precision and F-score are ill-defined and being set to 0.0 in labels with no predicted samples. Use `zero_division` parameter to control this behavior.\n",
      "  _warn_prf(average, modifier, msg_start, len(result))\n",
      "C:\\Users\\vedpi\\.conda\\envs\\newone1\\lib\\site-packages\\sklearn\\metrics\\_classification.py:1327: UndefinedMetricWarning: Precision and F-score are ill-defined and being set to 0.0 in labels with no predicted samples. Use `zero_division` parameter to control this behavior.\n",
      "  _warn_prf(average, modifier, msg_start, len(result))\n",
      "C:\\Users\\vedpi\\.conda\\envs\\newone1\\lib\\site-packages\\sklearn\\metrics\\_classification.py:1327: UndefinedMetricWarning: Precision and F-score are ill-defined and being set to 0.0 in labels with no predicted samples. Use `zero_division` parameter to control this behavior.\n",
      "  _warn_prf(average, modifier, msg_start, len(result))\n",
      "C:\\Users\\vedpi\\.conda\\envs\\newone1\\lib\\site-packages\\sklearn\\metrics\\_classification.py:1327: UndefinedMetricWarning: Precision and F-score are ill-defined and being set to 0.0 in labels with no predicted samples. Use `zero_division` parameter to control this behavior.\n",
      "  _warn_prf(average, modifier, msg_start, len(result))\n",
      "C:\\Users\\vedpi\\.conda\\envs\\newone1\\lib\\site-packages\\sklearn\\metrics\\_classification.py:1327: UndefinedMetricWarning: Precision and F-score are ill-defined and being set to 0.0 in labels with no predicted samples. Use `zero_division` parameter to control this behavior.\n",
      "  _warn_prf(average, modifier, msg_start, len(result))\n",
      "C:\\Users\\vedpi\\.conda\\envs\\newone1\\lib\\site-packages\\sklearn\\metrics\\_classification.py:1327: UndefinedMetricWarning: Precision and F-score are ill-defined and being set to 0.0 in labels with no predicted samples. Use `zero_division` parameter to control this behavior.\n",
      "  _warn_prf(average, modifier, msg_start, len(result))\n"
     ]
    },
    {
     "name": "stdout",
     "output_type": "stream",
     "text": [
      "Currently running for featurizer fasttext_sg with 15 number of classes.\n"
     ]
    },
    {
     "name": "stderr",
     "output_type": "stream",
     "text": [
      "C:\\Users\\vedpi\\.conda\\envs\\newone1\\lib\\site-packages\\sklearn\\metrics\\_classification.py:1327: UndefinedMetricWarning: Precision and F-score are ill-defined and being set to 0.0 in labels with no predicted samples. Use `zero_division` parameter to control this behavior.\n",
      "  _warn_prf(average, modifier, msg_start, len(result))\n",
      "C:\\Users\\vedpi\\.conda\\envs\\newone1\\lib\\site-packages\\sklearn\\metrics\\_classification.py:1327: UndefinedMetricWarning: Precision and F-score are ill-defined and being set to 0.0 in labels with no predicted samples. Use `zero_division` parameter to control this behavior.\n",
      "  _warn_prf(average, modifier, msg_start, len(result))\n",
      "C:\\Users\\vedpi\\.conda\\envs\\newone1\\lib\\site-packages\\sklearn\\metrics\\_classification.py:1327: UndefinedMetricWarning: Precision and F-score are ill-defined and being set to 0.0 in labels with no predicted samples. Use `zero_division` parameter to control this behavior.\n",
      "  _warn_prf(average, modifier, msg_start, len(result))\n",
      "C:\\Users\\vedpi\\.conda\\envs\\newone1\\lib\\site-packages\\sklearn\\metrics\\_classification.py:1327: UndefinedMetricWarning: Precision and F-score are ill-defined and being set to 0.0 in labels with no predicted samples. Use `zero_division` parameter to control this behavior.\n",
      "  _warn_prf(average, modifier, msg_start, len(result))\n",
      "C:\\Users\\vedpi\\.conda\\envs\\newone1\\lib\\site-packages\\sklearn\\metrics\\_classification.py:1327: UndefinedMetricWarning: Precision and F-score are ill-defined and being set to 0.0 in labels with no predicted samples. Use `zero_division` parameter to control this behavior.\n",
      "  _warn_prf(average, modifier, msg_start, len(result))\n",
      "C:\\Users\\vedpi\\.conda\\envs\\newone1\\lib\\site-packages\\sklearn\\metrics\\_classification.py:1327: UndefinedMetricWarning: Precision and F-score are ill-defined and being set to 0.0 in labels with no predicted samples. Use `zero_division` parameter to control this behavior.\n",
      "  _warn_prf(average, modifier, msg_start, len(result))\n",
      "C:\\Users\\vedpi\\.conda\\envs\\newone1\\lib\\site-packages\\sklearn\\metrics\\_classification.py:1327: UndefinedMetricWarning: Precision and F-score are ill-defined and being set to 0.0 in labels with no predicted samples. Use `zero_division` parameter to control this behavior.\n",
      "  _warn_prf(average, modifier, msg_start, len(result))\n",
      "C:\\Users\\vedpi\\.conda\\envs\\newone1\\lib\\site-packages\\sklearn\\metrics\\_classification.py:1327: UndefinedMetricWarning: Precision and F-score are ill-defined and being set to 0.0 in labels with no predicted samples. Use `zero_division` parameter to control this behavior.\n",
      "  _warn_prf(average, modifier, msg_start, len(result))\n",
      "C:\\Users\\vedpi\\.conda\\envs\\newone1\\lib\\site-packages\\sklearn\\metrics\\_classification.py:1327: UndefinedMetricWarning: Precision and F-score are ill-defined and being set to 0.0 in labels with no predicted samples. Use `zero_division` parameter to control this behavior.\n",
      "  _warn_prf(average, modifier, msg_start, len(result))\n"
     ]
    },
    {
     "name": "stdout",
     "output_type": "stream",
     "text": [
      "Currently running for featurizer fasttext_cbow with 15 number of classes.\n"
     ]
    },
    {
     "name": "stderr",
     "output_type": "stream",
     "text": [
      "C:\\Users\\vedpi\\.conda\\envs\\newone1\\lib\\site-packages\\sklearn\\metrics\\_classification.py:1327: UndefinedMetricWarning: Precision and F-score are ill-defined and being set to 0.0 in labels with no predicted samples. Use `zero_division` parameter to control this behavior.\n",
      "  _warn_prf(average, modifier, msg_start, len(result))\n",
      "C:\\Users\\vedpi\\.conda\\envs\\newone1\\lib\\site-packages\\sklearn\\metrics\\_classification.py:1327: UndefinedMetricWarning: Precision and F-score are ill-defined and being set to 0.0 in labels with no predicted samples. Use `zero_division` parameter to control this behavior.\n",
      "  _warn_prf(average, modifier, msg_start, len(result))\n",
      "C:\\Users\\vedpi\\.conda\\envs\\newone1\\lib\\site-packages\\sklearn\\metrics\\_classification.py:1327: UndefinedMetricWarning: Precision and F-score are ill-defined and being set to 0.0 in labels with no predicted samples. Use `zero_division` parameter to control this behavior.\n",
      "  _warn_prf(average, modifier, msg_start, len(result))\n",
      "C:\\Users\\vedpi\\.conda\\envs\\newone1\\lib\\site-packages\\sklearn\\metrics\\_classification.py:1327: UndefinedMetricWarning: Precision and F-score are ill-defined and being set to 0.0 in labels with no predicted samples. Use `zero_division` parameter to control this behavior.\n",
      "  _warn_prf(average, modifier, msg_start, len(result))\n",
      "C:\\Users\\vedpi\\.conda\\envs\\newone1\\lib\\site-packages\\sklearn\\metrics\\_classification.py:1327: UndefinedMetricWarning: Precision and F-score are ill-defined and being set to 0.0 in labels with no predicted samples. Use `zero_division` parameter to control this behavior.\n",
      "  _warn_prf(average, modifier, msg_start, len(result))\n",
      "C:\\Users\\vedpi\\.conda\\envs\\newone1\\lib\\site-packages\\sklearn\\metrics\\_classification.py:1327: UndefinedMetricWarning: Precision and F-score are ill-defined and being set to 0.0 in labels with no predicted samples. Use `zero_division` parameter to control this behavior.\n",
      "  _warn_prf(average, modifier, msg_start, len(result))\n",
      "C:\\Users\\vedpi\\.conda\\envs\\newone1\\lib\\site-packages\\sklearn\\metrics\\_classification.py:1327: UndefinedMetricWarning: Precision and F-score are ill-defined and being set to 0.0 in labels with no predicted samples. Use `zero_division` parameter to control this behavior.\n",
      "  _warn_prf(average, modifier, msg_start, len(result))\n",
      "C:\\Users\\vedpi\\.conda\\envs\\newone1\\lib\\site-packages\\sklearn\\metrics\\_classification.py:1327: UndefinedMetricWarning: Precision and F-score are ill-defined and being set to 0.0 in labels with no predicted samples. Use `zero_division` parameter to control this behavior.\n",
      "  _warn_prf(average, modifier, msg_start, len(result))\n",
      "C:\\Users\\vedpi\\.conda\\envs\\newone1\\lib\\site-packages\\sklearn\\metrics\\_classification.py:1327: UndefinedMetricWarning: Precision and F-score are ill-defined and being set to 0.0 in labels with no predicted samples. Use `zero_division` parameter to control this behavior.\n",
      "  _warn_prf(average, modifier, msg_start, len(result))\n",
      "C:\\Users\\vedpi\\.conda\\envs\\newone1\\lib\\site-packages\\sklearn\\metrics\\_classification.py:1327: UndefinedMetricWarning: Precision and F-score are ill-defined and being set to 0.0 in labels with no predicted samples. Use `zero_division` parameter to control this behavior.\n",
      "  _warn_prf(average, modifier, msg_start, len(result))\n",
      "C:\\Users\\vedpi\\.conda\\envs\\newone1\\lib\\site-packages\\sklearn\\metrics\\_classification.py:1327: UndefinedMetricWarning: Precision and F-score are ill-defined and being set to 0.0 in labels with no predicted samples. Use `zero_division` parameter to control this behavior.\n",
      "  _warn_prf(average, modifier, msg_start, len(result))\n",
      "C:\\Users\\vedpi\\.conda\\envs\\newone1\\lib\\site-packages\\sklearn\\metrics\\_classification.py:1327: UndefinedMetricWarning: Precision and F-score are ill-defined and being set to 0.0 in labels with no predicted samples. Use `zero_division` parameter to control this behavior.\n",
      "  _warn_prf(average, modifier, msg_start, len(result))\n"
     ]
    }
   ],
   "source": [
    "overall_catch = []\n",
    "for top_k in tqdm(range(2,16)):\n",
    "    for featurizer in [\"lstm_with_attention\", \"just_attention\", \"vanilla_lstm\", \"countvectorizer\", \"doc2vec_dbow\", \"doc2vec_dm\", \"word2vec_cbow\", \"word2vec_sg\", \"fasttext_sg\",\n",
    "                       \"fasttext_cbow\"]:\n",
    "        print(\"Currently running for featurizer \"+ featurizer + \" with \" + str(top_k) + \" number of classes.\")\n",
    "        if featurizer == \"countvectorizer\":\n",
    "            avg_acc, avg_class_acc, std_err_avg_acc, std_err_avg_classwise_acc, overall_report,  model, params_best, fig, fig2, fig3 = run_end_to_end(top_k, data, featurizer, K, known_unknown, None)\n",
    "        elif featurizer == \"doc2vec_dbow\":\n",
    "            avg_acc, avg_class_acc, std_err_avg_acc, std_err_avg_classwise_acc, overall_report,  model, params_best, fig, fig2, fig3 = run_end_to_end(top_k, data, featurizer, K, known_unknown, model_dbow)\n",
    "        elif featurizer == \"doc2vec_dm\":\n",
    "            avg_acc, avg_class_acc, std_err_avg_acc, std_err_avg_classwise_acc, overall_report,  model, params_best, fig, fig2, fig3 = run_end_to_end(top_k, data, featurizer, K, known_unknown, model_dm)\n",
    "        elif featurizer == \"word2vec_cbow\":\n",
    "            avg_acc, avg_class_acc, std_err_avg_acc, std_err_avg_classwise_acc, overall_report,  model, params_best, fig, fig2, fig3 = run_end_to_end(top_k, data, featurizer, K, known_unknown, model_cbow)            \n",
    "        elif featurizer == \"word2vec_sg\":\n",
    "            avg_acc, avg_class_acc, std_err_avg_acc, std_err_avg_classwise_acc, overall_report,  model, params_best, fig, fig2, fig3 = run_end_to_end(top_k, data, featurizer, K, known_unknown, model_sg)\n",
    "        elif featurizer == \"fasttext_sg\":\n",
    "            avg_acc, avg_class_acc, std_err_avg_acc, std_err_avg_classwise_acc, overall_report,  model, params_best, fig, fig2, fig3 = run_end_to_end(top_k, data, featurizer, K, known_unknown, model_fasttext_sg)      \n",
    "        elif featurizer == \"fasttext_cbow\":\n",
    "            avg_acc, avg_class_acc, std_err_avg_acc, std_err_avg_classwise_acc, overall_report,  model, params_best, fig, fig2, fig3 = run_end_to_end(top_k, data, featurizer, K, known_unknown, model_fasttext_cbow)  \n",
    "            \n",
    "        elif featurizer == \"lstm_with_attention\": \n",
    "            avg_acc, avg_class_acc, std_err_avg_acc, std_err_avg_classwise_acc, overall_report,  model, params_best, fig, fig2, fig3 = run_end_to_end(top_k, data, featurizer, K, known_unknown, model_sg)\n",
    "        \n",
    "        elif featurizer == \"just_attention\": \n",
    "            avg_acc, avg_class_acc, std_err_avg_acc, std_err_avg_classwise_acc, overall_report,  model, params_best, fig, fig2, fig3 = run_end_to_end(top_k, data, featurizer, K, known_unknown, model_sg)        \n",
    "        \n",
    "        elif featurizer == \"vanilla_lstm\": \n",
    "            avg_acc, avg_class_acc, std_err_avg_acc, std_err_avg_classwise_acc, overall_report,  model, params_best, fig, fig2, fig3 = run_end_to_end(top_k, data, featurizer, K, known_unknown, model_sg)        \n",
    "        \n",
    "        else:\n",
    "            pass\n",
    "        \n",
    "        overall_catch.append([top_k, featurizer, avg_acc, avg_class_acc, std_err_avg_acc, std_err_avg_classwise_acc, \n",
    "                             overall_report[\"precision\"], overall_report[\"recall\"], overall_report[\"f1-score\"]])\n",
    "        \n",
    "        plt.close('all')"
   ]
  },
  {
   "cell_type": "code",
   "execution_count": 10,
   "id": "ea8ed398",
   "metadata": {},
   "outputs": [],
   "source": [
    "overall_catch = pd.DataFrame(overall_catch)"
   ]
  },
  {
   "cell_type": "code",
   "execution_count": 11,
   "id": "4820e44e",
   "metadata": {},
   "outputs": [],
   "source": [
    "overall_catch.columns = [\"num_substrates\", \"feature_method\", \"avg_accuracy\", \"avg_classwise_acc\",\n",
    "                         \"std_err_avg_acc\", \"std_err_avg_classwise_acc\", \"avg_precision\", \"avg_recall\", \"avg_f1_score\"]"
   ]
  },
  {
   "cell_type": "code",
   "execution_count": 12,
   "id": "7b7fc225",
   "metadata": {},
   "outputs": [
    {
     "data": {
      "text/html": [
       "<div>\n",
       "<style scoped>\n",
       "    .dataframe tbody tr th:only-of-type {\n",
       "        vertical-align: middle;\n",
       "    }\n",
       "\n",
       "    .dataframe tbody tr th {\n",
       "        vertical-align: top;\n",
       "    }\n",
       "\n",
       "    .dataframe thead th {\n",
       "        text-align: right;\n",
       "    }\n",
       "</style>\n",
       "<table border=\"1\" class=\"dataframe\">\n",
       "  <thead>\n",
       "    <tr style=\"text-align: right;\">\n",
       "      <th></th>\n",
       "      <th>num_substrates</th>\n",
       "      <th>feature_method</th>\n",
       "      <th>avg_accuracy</th>\n",
       "      <th>avg_classwise_acc</th>\n",
       "      <th>std_err_avg_acc</th>\n",
       "      <th>std_err_avg_classwise_acc</th>\n",
       "      <th>avg_precision</th>\n",
       "      <th>avg_recall</th>\n",
       "      <th>avg_f1_score</th>\n",
       "    </tr>\n",
       "  </thead>\n",
       "  <tbody>\n",
       "    <tr>\n",
       "      <th>0</th>\n",
       "      <td>2</td>\n",
       "      <td>lstm_with_attention</td>\n",
       "      <td>0.993103</td>\n",
       "      <td>0.995238</td>\n",
       "      <td>0.013793</td>\n",
       "      <td>0.009524</td>\n",
       "      <td>0.988889</td>\n",
       "      <td>0.995238</td>\n",
       "      <td>0.991679</td>\n",
       "    </tr>\n",
       "    <tr>\n",
       "      <th>1</th>\n",
       "      <td>2</td>\n",
       "      <td>just_attention</td>\n",
       "      <td>0.986207</td>\n",
       "      <td>0.980952</td>\n",
       "      <td>0.016893</td>\n",
       "      <td>0.027766</td>\n",
       "      <td>0.984541</td>\n",
       "      <td>0.980952</td>\n",
       "      <td>0.981764</td>\n",
       "    </tr>\n",
       "    <tr>\n",
       "      <th>2</th>\n",
       "      <td>2</td>\n",
       "      <td>vanilla_lstm</td>\n",
       "      <td>0.986207</td>\n",
       "      <td>0.975000</td>\n",
       "      <td>0.027586</td>\n",
       "      <td>0.050000</td>\n",
       "      <td>0.991304</td>\n",
       "      <td>0.975000</td>\n",
       "      <td>0.981169</td>\n",
       "    </tr>\n",
       "    <tr>\n",
       "      <th>3</th>\n",
       "      <td>2</td>\n",
       "      <td>countvectorizer</td>\n",
       "      <td>0.993103</td>\n",
       "      <td>0.995238</td>\n",
       "      <td>0.013793</td>\n",
       "      <td>0.009524</td>\n",
       "      <td>0.988889</td>\n",
       "      <td>0.995238</td>\n",
       "      <td>0.991679</td>\n",
       "    </tr>\n",
       "    <tr>\n",
       "      <th>4</th>\n",
       "      <td>2</td>\n",
       "      <td>doc2vec_dbow</td>\n",
       "      <td>0.903448</td>\n",
       "      <td>0.846429</td>\n",
       "      <td>0.040213</td>\n",
       "      <td>0.066459</td>\n",
       "      <td>0.914024</td>\n",
       "      <td>0.846429</td>\n",
       "      <td>0.866599</td>\n",
       "    </tr>\n",
       "    <tr>\n",
       "      <th>5</th>\n",
       "      <td>2</td>\n",
       "      <td>doc2vec_dm</td>\n",
       "      <td>0.993103</td>\n",
       "      <td>0.995238</td>\n",
       "      <td>0.013793</td>\n",
       "      <td>0.009524</td>\n",
       "      <td>0.988889</td>\n",
       "      <td>0.995238</td>\n",
       "      <td>0.991679</td>\n",
       "    </tr>\n",
       "    <tr>\n",
       "      <th>6</th>\n",
       "      <td>2</td>\n",
       "      <td>word2vec_cbow</td>\n",
       "      <td>1.000000</td>\n",
       "      <td>1.000000</td>\n",
       "      <td>0.000000</td>\n",
       "      <td>0.000000</td>\n",
       "      <td>1.000000</td>\n",
       "      <td>1.000000</td>\n",
       "      <td>1.000000</td>\n",
       "    </tr>\n",
       "    <tr>\n",
       "      <th>7</th>\n",
       "      <td>2</td>\n",
       "      <td>word2vec_sg</td>\n",
       "      <td>1.000000</td>\n",
       "      <td>1.000000</td>\n",
       "      <td>0.000000</td>\n",
       "      <td>0.000000</td>\n",
       "      <td>1.000000</td>\n",
       "      <td>1.000000</td>\n",
       "      <td>1.000000</td>\n",
       "    </tr>\n",
       "    <tr>\n",
       "      <th>8</th>\n",
       "      <td>2</td>\n",
       "      <td>fasttext_sg</td>\n",
       "      <td>1.000000</td>\n",
       "      <td>1.000000</td>\n",
       "      <td>0.000000</td>\n",
       "      <td>0.000000</td>\n",
       "      <td>1.000000</td>\n",
       "      <td>1.000000</td>\n",
       "      <td>1.000000</td>\n",
       "    </tr>\n",
       "    <tr>\n",
       "      <th>9</th>\n",
       "      <td>2</td>\n",
       "      <td>fasttext_cbow</td>\n",
       "      <td>1.000000</td>\n",
       "      <td>1.000000</td>\n",
       "      <td>0.000000</td>\n",
       "      <td>0.000000</td>\n",
       "      <td>1.000000</td>\n",
       "      <td>1.000000</td>\n",
       "      <td>1.000000</td>\n",
       "    </tr>\n",
       "  </tbody>\n",
       "</table>\n",
       "</div>"
      ],
      "text/plain": [
       "   num_substrates       feature_method  avg_accuracy  avg_classwise_acc  \\\n",
       "0               2  lstm_with_attention      0.993103           0.995238   \n",
       "1               2       just_attention      0.986207           0.980952   \n",
       "2               2         vanilla_lstm      0.986207           0.975000   \n",
       "3               2      countvectorizer      0.993103           0.995238   \n",
       "4               2         doc2vec_dbow      0.903448           0.846429   \n",
       "5               2           doc2vec_dm      0.993103           0.995238   \n",
       "6               2        word2vec_cbow      1.000000           1.000000   \n",
       "7               2          word2vec_sg      1.000000           1.000000   \n",
       "8               2          fasttext_sg      1.000000           1.000000   \n",
       "9               2        fasttext_cbow      1.000000           1.000000   \n",
       "\n",
       "   std_err_avg_acc  std_err_avg_classwise_acc  avg_precision  avg_recall  \\\n",
       "0         0.013793                   0.009524       0.988889    0.995238   \n",
       "1         0.016893                   0.027766       0.984541    0.980952   \n",
       "2         0.027586                   0.050000       0.991304    0.975000   \n",
       "3         0.013793                   0.009524       0.988889    0.995238   \n",
       "4         0.040213                   0.066459       0.914024    0.846429   \n",
       "5         0.013793                   0.009524       0.988889    0.995238   \n",
       "6         0.000000                   0.000000       1.000000    1.000000   \n",
       "7         0.000000                   0.000000       1.000000    1.000000   \n",
       "8         0.000000                   0.000000       1.000000    1.000000   \n",
       "9         0.000000                   0.000000       1.000000    1.000000   \n",
       "\n",
       "   avg_f1_score  \n",
       "0      0.991679  \n",
       "1      0.981764  \n",
       "2      0.981169  \n",
       "3      0.991679  \n",
       "4      0.866599  \n",
       "5      0.991679  \n",
       "6      1.000000  \n",
       "7      1.000000  \n",
       "8      1.000000  \n",
       "9      1.000000  "
      ]
     },
     "execution_count": 12,
     "metadata": {},
     "output_type": "execute_result"
    }
   ],
   "source": [
    "overall_catch.head(10)"
   ]
  },
  {
   "cell_type": "code",
   "execution_count": 13,
   "id": "f55e2ad0",
   "metadata": {},
   "outputs": [],
   "source": [
    "overall_catch.to_csv(r\"Data\\Output\\Experiments\\results_by_k_new_sup_new_unsup.csv\", index = False)"
   ]
  },
  {
   "cell_type": "code",
   "execution_count": 14,
   "id": "de93c5b2",
   "metadata": {},
   "outputs": [],
   "source": [
    "keep_the_best = overall_catch.loc[overall_catch.groupby('num_substrates')['avg_classwise_acc'].idxmax()]"
   ]
  },
  {
   "cell_type": "code",
   "execution_count": 15,
   "id": "5ef0e8ef",
   "metadata": {},
   "outputs": [
    {
     "data": {
      "text/html": [
       "<div>\n",
       "<style scoped>\n",
       "    .dataframe tbody tr th:only-of-type {\n",
       "        vertical-align: middle;\n",
       "    }\n",
       "\n",
       "    .dataframe tbody tr th {\n",
       "        vertical-align: top;\n",
       "    }\n",
       "\n",
       "    .dataframe thead th {\n",
       "        text-align: right;\n",
       "    }\n",
       "</style>\n",
       "<table border=\"1\" class=\"dataframe\">\n",
       "  <thead>\n",
       "    <tr style=\"text-align: right;\">\n",
       "      <th></th>\n",
       "      <th>num_substrates</th>\n",
       "      <th>feature_method</th>\n",
       "      <th>avg_accuracy</th>\n",
       "      <th>avg_classwise_acc</th>\n",
       "      <th>std_err_avg_acc</th>\n",
       "      <th>std_err_avg_classwise_acc</th>\n",
       "      <th>avg_precision</th>\n",
       "      <th>avg_recall</th>\n",
       "      <th>avg_f1_score</th>\n",
       "    </tr>\n",
       "  </thead>\n",
       "  <tbody>\n",
       "    <tr>\n",
       "      <th>6</th>\n",
       "      <td>2</td>\n",
       "      <td>word2vec_cbow</td>\n",
       "      <td>1.000000</td>\n",
       "      <td>1.000000</td>\n",
       "      <td>0.000000</td>\n",
       "      <td>0.000000</td>\n",
       "      <td>1.000000</td>\n",
       "      <td>1.000000</td>\n",
       "      <td>1.000000</td>\n",
       "    </tr>\n",
       "    <tr>\n",
       "      <th>11</th>\n",
       "      <td>3</td>\n",
       "      <td>just_attention</td>\n",
       "      <td>0.972222</td>\n",
       "      <td>0.959921</td>\n",
       "      <td>0.035136</td>\n",
       "      <td>0.049187</td>\n",
       "      <td>0.963239</td>\n",
       "      <td>0.959921</td>\n",
       "      <td>0.960952</td>\n",
       "    </tr>\n",
       "    <tr>\n",
       "      <th>21</th>\n",
       "      <td>4</td>\n",
       "      <td>just_attention</td>\n",
       "      <td>0.955244</td>\n",
       "      <td>0.920357</td>\n",
       "      <td>0.033133</td>\n",
       "      <td>0.075099</td>\n",
       "      <td>0.948223</td>\n",
       "      <td>0.920357</td>\n",
       "      <td>0.919260</td>\n",
       "    </tr>\n",
       "    <tr>\n",
       "      <th>37</th>\n",
       "      <td>5</td>\n",
       "      <td>word2vec_sg</td>\n",
       "      <td>0.941414</td>\n",
       "      <td>0.912143</td>\n",
       "      <td>0.011152</td>\n",
       "      <td>0.025213</td>\n",
       "      <td>0.934166</td>\n",
       "      <td>0.912143</td>\n",
       "      <td>0.916241</td>\n",
       "    </tr>\n",
       "    <tr>\n",
       "      <th>41</th>\n",
       "      <td>6</td>\n",
       "      <td>just_attention</td>\n",
       "      <td>0.917177</td>\n",
       "      <td>0.887262</td>\n",
       "      <td>0.047069</td>\n",
       "      <td>0.060823</td>\n",
       "      <td>0.916077</td>\n",
       "      <td>0.887262</td>\n",
       "      <td>0.886452</td>\n",
       "    </tr>\n",
       "    <tr>\n",
       "      <th>59</th>\n",
       "      <td>7</td>\n",
       "      <td>fasttext_cbow</td>\n",
       "      <td>0.891101</td>\n",
       "      <td>0.840204</td>\n",
       "      <td>0.042013</td>\n",
       "      <td>0.055496</td>\n",
       "      <td>0.866911</td>\n",
       "      <td>0.840204</td>\n",
       "      <td>0.838203</td>\n",
       "    </tr>\n",
       "    <tr>\n",
       "      <th>69</th>\n",
       "      <td>8</td>\n",
       "      <td>fasttext_cbow</td>\n",
       "      <td>0.889899</td>\n",
       "      <td>0.852887</td>\n",
       "      <td>0.026815</td>\n",
       "      <td>0.037904</td>\n",
       "      <td>0.863402</td>\n",
       "      <td>0.852887</td>\n",
       "      <td>0.845943</td>\n",
       "    </tr>\n",
       "    <tr>\n",
       "      <th>79</th>\n",
       "      <td>9</td>\n",
       "      <td>fasttext_cbow</td>\n",
       "      <td>0.861283</td>\n",
       "      <td>0.810551</td>\n",
       "      <td>0.045091</td>\n",
       "      <td>0.058169</td>\n",
       "      <td>0.821851</td>\n",
       "      <td>0.810551</td>\n",
       "      <td>0.794874</td>\n",
       "    </tr>\n",
       "    <tr>\n",
       "      <th>82</th>\n",
       "      <td>10</td>\n",
       "      <td>vanilla_lstm</td>\n",
       "      <td>0.844699</td>\n",
       "      <td>0.774929</td>\n",
       "      <td>0.045598</td>\n",
       "      <td>0.073001</td>\n",
       "      <td>0.799777</td>\n",
       "      <td>0.774929</td>\n",
       "      <td>0.769170</td>\n",
       "    </tr>\n",
       "    <tr>\n",
       "      <th>90</th>\n",
       "      <td>11</td>\n",
       "      <td>lstm_with_attention</td>\n",
       "      <td>0.829563</td>\n",
       "      <td>0.764437</td>\n",
       "      <td>0.029498</td>\n",
       "      <td>0.033298</td>\n",
       "      <td>0.794837</td>\n",
       "      <td>0.764437</td>\n",
       "      <td>0.760923</td>\n",
       "    </tr>\n",
       "    <tr>\n",
       "      <th>107</th>\n",
       "      <td>12</td>\n",
       "      <td>word2vec_sg</td>\n",
       "      <td>0.799301</td>\n",
       "      <td>0.718829</td>\n",
       "      <td>0.018770</td>\n",
       "      <td>0.023727</td>\n",
       "      <td>0.715711</td>\n",
       "      <td>0.718829</td>\n",
       "      <td>0.695259</td>\n",
       "    </tr>\n",
       "    <tr>\n",
       "      <th>110</th>\n",
       "      <td>13</td>\n",
       "      <td>lstm_with_attention</td>\n",
       "      <td>0.766901</td>\n",
       "      <td>0.676960</td>\n",
       "      <td>0.025859</td>\n",
       "      <td>0.026376</td>\n",
       "      <td>0.704433</td>\n",
       "      <td>0.676960</td>\n",
       "      <td>0.660041</td>\n",
       "    </tr>\n",
       "    <tr>\n",
       "      <th>127</th>\n",
       "      <td>14</td>\n",
       "      <td>word2vec_sg</td>\n",
       "      <td>0.760787</td>\n",
       "      <td>0.684626</td>\n",
       "      <td>0.036090</td>\n",
       "      <td>0.037680</td>\n",
       "      <td>0.681125</td>\n",
       "      <td>0.684626</td>\n",
       "      <td>0.644097</td>\n",
       "    </tr>\n",
       "    <tr>\n",
       "      <th>137</th>\n",
       "      <td>15</td>\n",
       "      <td>word2vec_sg</td>\n",
       "      <td>0.763380</td>\n",
       "      <td>0.674460</td>\n",
       "      <td>0.024232</td>\n",
       "      <td>0.050926</td>\n",
       "      <td>0.680021</td>\n",
       "      <td>0.674460</td>\n",
       "      <td>0.642164</td>\n",
       "    </tr>\n",
       "  </tbody>\n",
       "</table>\n",
       "</div>"
      ],
      "text/plain": [
       "     num_substrates       feature_method  avg_accuracy  avg_classwise_acc  \\\n",
       "6                 2        word2vec_cbow      1.000000           1.000000   \n",
       "11                3       just_attention      0.972222           0.959921   \n",
       "21                4       just_attention      0.955244           0.920357   \n",
       "37                5          word2vec_sg      0.941414           0.912143   \n",
       "41                6       just_attention      0.917177           0.887262   \n",
       "59                7        fasttext_cbow      0.891101           0.840204   \n",
       "69                8        fasttext_cbow      0.889899           0.852887   \n",
       "79                9        fasttext_cbow      0.861283           0.810551   \n",
       "82               10         vanilla_lstm      0.844699           0.774929   \n",
       "90               11  lstm_with_attention      0.829563           0.764437   \n",
       "107              12          word2vec_sg      0.799301           0.718829   \n",
       "110              13  lstm_with_attention      0.766901           0.676960   \n",
       "127              14          word2vec_sg      0.760787           0.684626   \n",
       "137              15          word2vec_sg      0.763380           0.674460   \n",
       "\n",
       "     std_err_avg_acc  std_err_avg_classwise_acc  avg_precision  avg_recall  \\\n",
       "6           0.000000                   0.000000       1.000000    1.000000   \n",
       "11          0.035136                   0.049187       0.963239    0.959921   \n",
       "21          0.033133                   0.075099       0.948223    0.920357   \n",
       "37          0.011152                   0.025213       0.934166    0.912143   \n",
       "41          0.047069                   0.060823       0.916077    0.887262   \n",
       "59          0.042013                   0.055496       0.866911    0.840204   \n",
       "69          0.026815                   0.037904       0.863402    0.852887   \n",
       "79          0.045091                   0.058169       0.821851    0.810551   \n",
       "82          0.045598                   0.073001       0.799777    0.774929   \n",
       "90          0.029498                   0.033298       0.794837    0.764437   \n",
       "107         0.018770                   0.023727       0.715711    0.718829   \n",
       "110         0.025859                   0.026376       0.704433    0.676960   \n",
       "127         0.036090                   0.037680       0.681125    0.684626   \n",
       "137         0.024232                   0.050926       0.680021    0.674460   \n",
       "\n",
       "     avg_f1_score  \n",
       "6        1.000000  \n",
       "11       0.960952  \n",
       "21       0.919260  \n",
       "37       0.916241  \n",
       "41       0.886452  \n",
       "59       0.838203  \n",
       "69       0.845943  \n",
       "79       0.794874  \n",
       "82       0.769170  \n",
       "90       0.760923  \n",
       "107      0.695259  \n",
       "110      0.660041  \n",
       "127      0.644097  \n",
       "137      0.642164  "
      ]
     },
     "execution_count": 15,
     "metadata": {},
     "output_type": "execute_result"
    }
   ],
   "source": [
    "keep_the_best"
   ]
  },
  {
   "cell_type": "code",
   "execution_count": 16,
   "id": "47058330",
   "metadata": {},
   "outputs": [
    {
     "data": {
      "text/plain": [
       "word2vec_sg            4\n",
       "just_attention         3\n",
       "fasttext_cbow          3\n",
       "lstm_with_attention    2\n",
       "word2vec_cbow          1\n",
       "vanilla_lstm           1\n",
       "Name: feature_method, dtype: int64"
      ]
     },
     "execution_count": 16,
     "metadata": {},
     "output_type": "execute_result"
    }
   ],
   "source": [
    "keep_the_best[\"feature_method\"].value_counts()"
   ]
  },
  {
   "cell_type": "code",
   "execution_count": 17,
   "id": "fff86c52",
   "metadata": {},
   "outputs": [],
   "source": [
    "melt_best = keep_the_best.melt(id_vars=['num_substrates'], value_vars=['avg_accuracy', 'avg_classwise_acc', \"avg_precision\", \"avg_f1_score\"])"
   ]
  },
  {
   "cell_type": "code",
   "execution_count": 18,
   "id": "23403a7c",
   "metadata": {},
   "outputs": [],
   "source": [
    "# melt_best = keep_the_best.melt(id_vars=['num_substrates'], value_vars=['avg_accuracy', 'avg_classwise_acc'])"
   ]
  },
  {
   "cell_type": "code",
   "execution_count": 19,
   "id": "d5755bdf",
   "metadata": {},
   "outputs": [],
   "source": [
    "melt_best.columns = ['num_substrates', 'metric_name', 'metric_value']"
   ]
  },
  {
   "cell_type": "code",
   "execution_count": 20,
   "id": "aa7230e4",
   "metadata": {},
   "outputs": [
    {
     "data": {
      "image/png": "[encoded data removed]",
      "text/plain": [
       "<Figure size 720x360 with 1 Axes>"
      ]
     },
     "metadata": {
      "needs_background": "light"
     },
     "output_type": "display_data"
    }
   ],
   "source": [
    "plt.figure(figsize = (10,5))\n",
    "sns.lineplot(data=melt_best, x=\"num_substrates\", y=\"metric_value\", hue=\"metric_name\",  marker=\"o\")\n",
    "plt.title(\"Plot of classification metrics by number of substrates in the model\", fontsize = 20 ,weight = \"bold\")\n",
    "plt.xlabel(\"Number of Substrates\",  weight = \"bold\", fontsize = 20)\n",
    "plt.ylabel(\"Metric Value\", weight = \"bold\", fontsize = 20)\n",
    "plt.xticks(range(5,15), weight = \"bold\", fontsize = 15)\n",
    "plt.yticks(weight = \"bold\", fontsize = 15, rotation = 0)\n",
    "plt.show()"
   ]
  },
  {
   "cell_type": "code",
   "execution_count": 21,
   "id": "92fec1ac",
   "metadata": {},
   "outputs": [
    {
     "data": {
      "text/html": [
       "<div>\n",
       "<style scoped>\n",
       "    .dataframe tbody tr th:only-of-type {\n",
       "        vertical-align: middle;\n",
       "    }\n",
       "\n",
       "    .dataframe tbody tr th {\n",
       "        vertical-align: top;\n",
       "    }\n",
       "\n",
       "    .dataframe thead th {\n",
       "        text-align: right;\n",
       "    }\n",
       "</style>\n",
       "<table border=\"1\" class=\"dataframe\">\n",
       "  <thead>\n",
       "    <tr style=\"text-align: right;\">\n",
       "      <th></th>\n",
       "      <th>num_substrates</th>\n",
       "      <th>feature_method</th>\n",
       "      <th>avg_accuracy</th>\n",
       "      <th>avg_classwise_acc</th>\n",
       "      <th>std_err_avg_acc</th>\n",
       "      <th>std_err_avg_classwise_acc</th>\n",
       "      <th>avg_precision</th>\n",
       "      <th>avg_recall</th>\n",
       "      <th>avg_f1_score</th>\n",
       "    </tr>\n",
       "  </thead>\n",
       "  <tbody>\n",
       "    <tr>\n",
       "      <th>0</th>\n",
       "      <td>2</td>\n",
       "      <td>lstm_with_attention</td>\n",
       "      <td>0.993103</td>\n",
       "      <td>0.995238</td>\n",
       "      <td>0.013793</td>\n",
       "      <td>0.009524</td>\n",
       "      <td>0.988889</td>\n",
       "      <td>0.995238</td>\n",
       "      <td>0.991679</td>\n",
       "    </tr>\n",
       "    <tr>\n",
       "      <th>1</th>\n",
       "      <td>2</td>\n",
       "      <td>just_attention</td>\n",
       "      <td>0.986207</td>\n",
       "      <td>0.980952</td>\n",
       "      <td>0.016893</td>\n",
       "      <td>0.027766</td>\n",
       "      <td>0.984541</td>\n",
       "      <td>0.980952</td>\n",
       "      <td>0.981764</td>\n",
       "    </tr>\n",
       "    <tr>\n",
       "      <th>2</th>\n",
       "      <td>2</td>\n",
       "      <td>vanilla_lstm</td>\n",
       "      <td>0.986207</td>\n",
       "      <td>0.975000</td>\n",
       "      <td>0.027586</td>\n",
       "      <td>0.050000</td>\n",
       "      <td>0.991304</td>\n",
       "      <td>0.975000</td>\n",
       "      <td>0.981169</td>\n",
       "    </tr>\n",
       "    <tr>\n",
       "      <th>3</th>\n",
       "      <td>2</td>\n",
       "      <td>countvectorizer</td>\n",
       "      <td>0.993103</td>\n",
       "      <td>0.995238</td>\n",
       "      <td>0.013793</td>\n",
       "      <td>0.009524</td>\n",
       "      <td>0.988889</td>\n",
       "      <td>0.995238</td>\n",
       "      <td>0.991679</td>\n",
       "    </tr>\n",
       "    <tr>\n",
       "      <th>4</th>\n",
       "      <td>2</td>\n",
       "      <td>doc2vec_dbow</td>\n",
       "      <td>0.903448</td>\n",
       "      <td>0.846429</td>\n",
       "      <td>0.040213</td>\n",
       "      <td>0.066459</td>\n",
       "      <td>0.914024</td>\n",
       "      <td>0.846429</td>\n",
       "      <td>0.866599</td>\n",
       "    </tr>\n",
       "    <tr>\n",
       "      <th>5</th>\n",
       "      <td>2</td>\n",
       "      <td>doc2vec_dm</td>\n",
       "      <td>0.993103</td>\n",
       "      <td>0.995238</td>\n",
       "      <td>0.013793</td>\n",
       "      <td>0.009524</td>\n",
       "      <td>0.988889</td>\n",
       "      <td>0.995238</td>\n",
       "      <td>0.991679</td>\n",
       "    </tr>\n",
       "    <tr>\n",
       "      <th>6</th>\n",
       "      <td>2</td>\n",
       "      <td>word2vec_cbow</td>\n",
       "      <td>1.000000</td>\n",
       "      <td>1.000000</td>\n",
       "      <td>0.000000</td>\n",
       "      <td>0.000000</td>\n",
       "      <td>1.000000</td>\n",
       "      <td>1.000000</td>\n",
       "      <td>1.000000</td>\n",
       "    </tr>\n",
       "    <tr>\n",
       "      <th>7</th>\n",
       "      <td>2</td>\n",
       "      <td>word2vec_sg</td>\n",
       "      <td>1.000000</td>\n",
       "      <td>1.000000</td>\n",
       "      <td>0.000000</td>\n",
       "      <td>0.000000</td>\n",
       "      <td>1.000000</td>\n",
       "      <td>1.000000</td>\n",
       "      <td>1.000000</td>\n",
       "    </tr>\n",
       "    <tr>\n",
       "      <th>8</th>\n",
       "      <td>2</td>\n",
       "      <td>fasttext_sg</td>\n",
       "      <td>1.000000</td>\n",
       "      <td>1.000000</td>\n",
       "      <td>0.000000</td>\n",
       "      <td>0.000000</td>\n",
       "      <td>1.000000</td>\n",
       "      <td>1.000000</td>\n",
       "      <td>1.000000</td>\n",
       "    </tr>\n",
       "    <tr>\n",
       "      <th>9</th>\n",
       "      <td>2</td>\n",
       "      <td>fasttext_cbow</td>\n",
       "      <td>1.000000</td>\n",
       "      <td>1.000000</td>\n",
       "      <td>0.000000</td>\n",
       "      <td>0.000000</td>\n",
       "      <td>1.000000</td>\n",
       "      <td>1.000000</td>\n",
       "      <td>1.000000</td>\n",
       "    </tr>\n",
       "    <tr>\n",
       "      <th>10</th>\n",
       "      <td>3</td>\n",
       "      <td>lstm_with_attention</td>\n",
       "      <td>0.944444</td>\n",
       "      <td>0.908333</td>\n",
       "      <td>0.017568</td>\n",
       "      <td>0.030258</td>\n",
       "      <td>0.922631</td>\n",
       "      <td>0.908333</td>\n",
       "      <td>0.910077</td>\n",
       "    </tr>\n",
       "    <tr>\n",
       "      <th>11</th>\n",
       "      <td>3</td>\n",
       "      <td>just_attention</td>\n",
       "      <td>0.972222</td>\n",
       "      <td>0.959921</td>\n",
       "      <td>0.035136</td>\n",
       "      <td>0.049187</td>\n",
       "      <td>0.963239</td>\n",
       "      <td>0.959921</td>\n",
       "      <td>0.960952</td>\n",
       "    </tr>\n",
       "    <tr>\n",
       "      <th>12</th>\n",
       "      <td>3</td>\n",
       "      <td>vanilla_lstm</td>\n",
       "      <td>0.933333</td>\n",
       "      <td>0.891667</td>\n",
       "      <td>0.013608</td>\n",
       "      <td>0.026190</td>\n",
       "      <td>0.914007</td>\n",
       "      <td>0.891667</td>\n",
       "      <td>0.890607</td>\n",
       "    </tr>\n",
       "    <tr>\n",
       "      <th>13</th>\n",
       "      <td>3</td>\n",
       "      <td>countvectorizer</td>\n",
       "      <td>0.933333</td>\n",
       "      <td>0.899206</td>\n",
       "      <td>0.051520</td>\n",
       "      <td>0.071367</td>\n",
       "      <td>0.900661</td>\n",
       "      <td>0.899206</td>\n",
       "      <td>0.896072</td>\n",
       "    </tr>\n",
       "    <tr>\n",
       "      <th>14</th>\n",
       "      <td>3</td>\n",
       "      <td>doc2vec_dbow</td>\n",
       "      <td>0.838889</td>\n",
       "      <td>0.764971</td>\n",
       "      <td>0.040825</td>\n",
       "      <td>0.086345</td>\n",
       "      <td>0.788143</td>\n",
       "      <td>0.764971</td>\n",
       "      <td>0.764339</td>\n",
       "    </tr>\n",
       "    <tr>\n",
       "      <th>15</th>\n",
       "      <td>3</td>\n",
       "      <td>doc2vec_dm</td>\n",
       "      <td>0.966667</td>\n",
       "      <td>0.946429</td>\n",
       "      <td>0.027217</td>\n",
       "      <td>0.042592</td>\n",
       "      <td>0.956229</td>\n",
       "      <td>0.946429</td>\n",
       "      <td>0.948081</td>\n",
       "    </tr>\n",
       "    <tr>\n",
       "      <th>16</th>\n",
       "      <td>3</td>\n",
       "      <td>word2vec_cbow</td>\n",
       "      <td>0.933333</td>\n",
       "      <td>0.891667</td>\n",
       "      <td>0.028328</td>\n",
       "      <td>0.049858</td>\n",
       "      <td>0.895779</td>\n",
       "      <td>0.891667</td>\n",
       "      <td>0.892894</td>\n",
       "    </tr>\n",
       "    <tr>\n",
       "      <th>17</th>\n",
       "      <td>3</td>\n",
       "      <td>word2vec_sg</td>\n",
       "      <td>0.961111</td>\n",
       "      <td>0.936905</td>\n",
       "      <td>0.013608</td>\n",
       "      <td>0.023987</td>\n",
       "      <td>0.939021</td>\n",
       "      <td>0.936905</td>\n",
       "      <td>0.936268</td>\n",
       "    </tr>\n",
       "    <tr>\n",
       "      <th>18</th>\n",
       "      <td>3</td>\n",
       "      <td>fasttext_sg</td>\n",
       "      <td>0.944444</td>\n",
       "      <td>0.908333</td>\n",
       "      <td>0.024845</td>\n",
       "      <td>0.042691</td>\n",
       "      <td>0.916150</td>\n",
       "      <td>0.908333</td>\n",
       "      <td>0.910218</td>\n",
       "    </tr>\n",
       "    <tr>\n",
       "      <th>19</th>\n",
       "      <td>3</td>\n",
       "      <td>fasttext_cbow</td>\n",
       "      <td>0.950000</td>\n",
       "      <td>0.920238</td>\n",
       "      <td>0.020787</td>\n",
       "      <td>0.034215</td>\n",
       "      <td>0.924471</td>\n",
       "      <td>0.920238</td>\n",
       "      <td>0.918254</td>\n",
       "    </tr>\n",
       "    <tr>\n",
       "      <th>20</th>\n",
       "      <td>4</td>\n",
       "      <td>lstm_with_attention</td>\n",
       "      <td>0.925488</td>\n",
       "      <td>0.883750</td>\n",
       "      <td>0.021830</td>\n",
       "      <td>0.049921</td>\n",
       "      <td>0.899057</td>\n",
       "      <td>0.883750</td>\n",
       "      <td>0.880046</td>\n",
       "    </tr>\n",
       "    <tr>\n",
       "      <th>21</th>\n",
       "      <td>4</td>\n",
       "      <td>just_attention</td>\n",
       "      <td>0.955244</td>\n",
       "      <td>0.920357</td>\n",
       "      <td>0.033133</td>\n",
       "      <td>0.075099</td>\n",
       "      <td>0.948223</td>\n",
       "      <td>0.920357</td>\n",
       "      <td>0.919260</td>\n",
       "    </tr>\n",
       "    <tr>\n",
       "      <th>22</th>\n",
       "      <td>4</td>\n",
       "      <td>vanilla_lstm</td>\n",
       "      <td>0.915610</td>\n",
       "      <td>0.868571</td>\n",
       "      <td>0.018780</td>\n",
       "      <td>0.036393</td>\n",
       "      <td>0.891526</td>\n",
       "      <td>0.868571</td>\n",
       "      <td>0.868618</td>\n",
       "    </tr>\n",
       "    <tr>\n",
       "      <th>23</th>\n",
       "      <td>4</td>\n",
       "      <td>countvectorizer</td>\n",
       "      <td>0.885732</td>\n",
       "      <td>0.819583</td>\n",
       "      <td>0.033180</td>\n",
       "      <td>0.067836</td>\n",
       "      <td>0.840703</td>\n",
       "      <td>0.819583</td>\n",
       "      <td>0.814673</td>\n",
       "    </tr>\n",
       "    <tr>\n",
       "      <th>24</th>\n",
       "      <td>4</td>\n",
       "      <td>doc2vec_dbow</td>\n",
       "      <td>0.796098</td>\n",
       "      <td>0.673788</td>\n",
       "      <td>0.063725</td>\n",
       "      <td>0.106159</td>\n",
       "      <td>0.726116</td>\n",
       "      <td>0.673788</td>\n",
       "      <td>0.688135</td>\n",
       "    </tr>\n",
       "    <tr>\n",
       "      <th>25</th>\n",
       "      <td>4</td>\n",
       "      <td>doc2vec_dm</td>\n",
       "      <td>0.915244</td>\n",
       "      <td>0.865000</td>\n",
       "      <td>0.037647</td>\n",
       "      <td>0.078204</td>\n",
       "      <td>0.877716</td>\n",
       "      <td>0.865000</td>\n",
       "      <td>0.860729</td>\n",
       "    </tr>\n",
       "    <tr>\n",
       "      <th>26</th>\n",
       "      <td>4</td>\n",
       "      <td>word2vec_cbow</td>\n",
       "      <td>0.920610</td>\n",
       "      <td>0.871786</td>\n",
       "      <td>0.023380</td>\n",
       "      <td>0.050142</td>\n",
       "      <td>0.880882</td>\n",
       "      <td>0.871786</td>\n",
       "      <td>0.868793</td>\n",
       "    </tr>\n",
       "    <tr>\n",
       "      <th>27</th>\n",
       "      <td>4</td>\n",
       "      <td>word2vec_sg</td>\n",
       "      <td>0.930488</td>\n",
       "      <td>0.885536</td>\n",
       "      <td>0.028665</td>\n",
       "      <td>0.054974</td>\n",
       "      <td>0.890247</td>\n",
       "      <td>0.885536</td>\n",
       "      <td>0.883177</td>\n",
       "    </tr>\n",
       "    <tr>\n",
       "      <th>28</th>\n",
       "      <td>4</td>\n",
       "      <td>fasttext_sg</td>\n",
       "      <td>0.930488</td>\n",
       "      <td>0.888036</td>\n",
       "      <td>0.028665</td>\n",
       "      <td>0.058811</td>\n",
       "      <td>0.901497</td>\n",
       "      <td>0.888036</td>\n",
       "      <td>0.883724</td>\n",
       "    </tr>\n",
       "    <tr>\n",
       "      <th>29</th>\n",
       "      <td>4</td>\n",
       "      <td>fasttext_cbow</td>\n",
       "      <td>0.915854</td>\n",
       "      <td>0.870893</td>\n",
       "      <td>0.047426</td>\n",
       "      <td>0.085550</td>\n",
       "      <td>0.865703</td>\n",
       "      <td>0.870893</td>\n",
       "      <td>0.862984</td>\n",
       "    </tr>\n",
       "  </tbody>\n",
       "</table>\n",
       "</div>"
      ],
      "text/plain": [
       "    num_substrates       feature_method  avg_accuracy  avg_classwise_acc  \\\n",
       "0                2  lstm_with_attention      0.993103           0.995238   \n",
       "1                2       just_attention      0.986207           0.980952   \n",
       "2                2         vanilla_lstm      0.986207           0.975000   \n",
       "3                2      countvectorizer      0.993103           0.995238   \n",
       "4                2         doc2vec_dbow      0.903448           0.846429   \n",
       "5                2           doc2vec_dm      0.993103           0.995238   \n",
       "6                2        word2vec_cbow      1.000000           1.000000   \n",
       "7                2          word2vec_sg      1.000000           1.000000   \n",
       "8                2          fasttext_sg      1.000000           1.000000   \n",
       "9                2        fasttext_cbow      1.000000           1.000000   \n",
       "10               3  lstm_with_attention      0.944444           0.908333   \n",
       "11               3       just_attention      0.972222           0.959921   \n",
       "12               3         vanilla_lstm      0.933333           0.891667   \n",
       "13               3      countvectorizer      0.933333           0.899206   \n",
       "14               3         doc2vec_dbow      0.838889           0.764971   \n",
       "15               3           doc2vec_dm      0.966667           0.946429   \n",
       "16               3        word2vec_cbow      0.933333           0.891667   \n",
       "17               3          word2vec_sg      0.961111           0.936905   \n",
       "18               3          fasttext_sg      0.944444           0.908333   \n",
       "19               3        fasttext_cbow      0.950000           0.920238   \n",
       "20               4  lstm_with_attention      0.925488           0.883750   \n",
       "21               4       just_attention      0.955244           0.920357   \n",
       "22               4         vanilla_lstm      0.915610           0.868571   \n",
       "23               4      countvectorizer      0.885732           0.819583   \n",
       "24               4         doc2vec_dbow      0.796098           0.673788   \n",
       "25               4           doc2vec_dm      0.915244           0.865000   \n",
       "26               4        word2vec_cbow      0.920610           0.871786   \n",
       "27               4          word2vec_sg      0.930488           0.885536   \n",
       "28               4          fasttext_sg      0.930488           0.888036   \n",
       "29               4        fasttext_cbow      0.915854           0.870893   \n",
       "\n",
       "    std_err_avg_acc  std_err_avg_classwise_acc  avg_precision  avg_recall  \\\n",
       "0          0.013793                   0.009524       0.988889    0.995238   \n",
       "1          0.016893                   0.027766       0.984541    0.980952   \n",
       "2          0.027586                   0.050000       0.991304    0.975000   \n",
       "3          0.013793                   0.009524       0.988889    0.995238   \n",
       "4          0.040213                   0.066459       0.914024    0.846429   \n",
       "5          0.013793                   0.009524       0.988889    0.995238   \n",
       "6          0.000000                   0.000000       1.000000    1.000000   \n",
       "7          0.000000                   0.000000       1.000000    1.000000   \n",
       "8          0.000000                   0.000000       1.000000    1.000000   \n",
       "9          0.000000                   0.000000       1.000000    1.000000   \n",
       "10         0.017568                   0.030258       0.922631    0.908333   \n",
       "11         0.035136                   0.049187       0.963239    0.959921   \n",
       "12         0.013608                   0.026190       0.914007    0.891667   \n",
       "13         0.051520                   0.071367       0.900661    0.899206   \n",
       "14         0.040825                   0.086345       0.788143    0.764971   \n",
       "15         0.027217                   0.042592       0.956229    0.946429   \n",
       "16         0.028328                   0.049858       0.895779    0.891667   \n",
       "17         0.013608                   0.023987       0.939021    0.936905   \n",
       "18         0.024845                   0.042691       0.916150    0.908333   \n",
       "19         0.020787                   0.034215       0.924471    0.920238   \n",
       "20         0.021830                   0.049921       0.899057    0.883750   \n",
       "21         0.033133                   0.075099       0.948223    0.920357   \n",
       "22         0.018780                   0.036393       0.891526    0.868571   \n",
       "23         0.033180                   0.067836       0.840703    0.819583   \n",
       "24         0.063725                   0.106159       0.726116    0.673788   \n",
       "25         0.037647                   0.078204       0.877716    0.865000   \n",
       "26         0.023380                   0.050142       0.880882    0.871786   \n",
       "27         0.028665                   0.054974       0.890247    0.885536   \n",
       "28         0.028665                   0.058811       0.901497    0.888036   \n",
       "29         0.047426                   0.085550       0.865703    0.870893   \n",
       "\n",
       "    avg_f1_score  \n",
       "0       0.991679  \n",
       "1       0.981764  \n",
       "2       0.981169  \n",
       "3       0.991679  \n",
       "4       0.866599  \n",
       "5       0.991679  \n",
       "6       1.000000  \n",
       "7       1.000000  \n",
       "8       1.000000  \n",
       "9       1.000000  \n",
       "10      0.910077  \n",
       "11      0.960952  \n",
       "12      0.890607  \n",
       "13      0.896072  \n",
       "14      0.764339  \n",
       "15      0.948081  \n",
       "16      0.892894  \n",
       "17      0.936268  \n",
       "18      0.910218  \n",
       "19      0.918254  \n",
       "20      0.880046  \n",
       "21      0.919260  \n",
       "22      0.868618  \n",
       "23      0.814673  \n",
       "24      0.688135  \n",
       "25      0.860729  \n",
       "26      0.868793  \n",
       "27      0.883177  \n",
       "28      0.883724  \n",
       "29      0.862984  "
      ]
     },
     "execution_count": 21,
     "metadata": {},
     "output_type": "execute_result"
    }
   ],
   "source": [
    "overall_catch.head(30)"
   ]
  },
  {
   "cell_type": "code",
   "execution_count": 22,
   "id": "b9d0d644",
   "metadata": {},
   "outputs": [],
   "source": [
    "# plt.figure(figsize = (20,10))\n",
    "# sns.lineplot(data=overall_catch, x=\"num_substrates\", y=\"avg_accuracy\", hue=\"feature_method\",  marker=\"o\")\n",
    "# plt.title(\"Plot of classification metrics by number of substrates in the model\", fontsize = 20 ,weight = \"bold\")\n",
    "# plt.xlabel(\"Number of Substrates\",  weight = \"bold\", fontsize = 20)\n",
    "# plt.ylabel(\"Metric Value\", weight = \"bold\", fontsize = 20)\n",
    "# plt.xticks(range(5,15), weight = \"bold\", fontsize = 15)\n",
    "# plt.yticks(weight = \"bold\", fontsize = 15, rotation = 0)\n",
    "# plt.show()"
   ]
  },
  {
   "cell_type": "code",
   "execution_count": 23,
   "id": "30f990ac",
   "metadata": {},
   "outputs": [
    {
     "data": {
      "image/png": "[encoded data removed]",
      "text/plain": [
       "<Figure size 864x576 with 1 Axes>"
      ]
     },
     "metadata": {
      "needs_background": "light"
     },
     "output_type": "display_data"
    }
   ],
   "source": [
    "plt.figure(figsize = (12,8))\n",
    "# filter_condn = [ \"countvectorizer\"]\n",
    "sns.lineplot(data=overall_catch,  x=\"num_substrates\", y=\"avg_accuracy\", hue=\"feature_method\",  marker=\"o\")\n",
    "plt.title(\"Plot of Average Accuracy by number of substrates for different feature extraction methods.\", fontsize = 20 ,weight = \"bold\")\n",
    "plt.xlabel(\"Number of Substrates\",  weight = \"bold\", fontsize = 20)\n",
    "plt.ylabel(\"Accuracy Value\", weight = \"bold\", fontsize = 20)\n",
    "plt.xticks(range(5,15), weight = \"bold\", fontsize = 15)\n",
    "plt.yticks(weight = \"bold\", fontsize = 15, rotation = 0)\n",
    "plt.show()"
   ]
  },
  {
   "cell_type": "code",
   "execution_count": 24,
   "id": "c6119ada",
   "metadata": {},
   "outputs": [],
   "source": [
    "# K = 3"
   ]
  },
  {
   "cell_type": "code",
   "execution_count": 25,
   "id": "2b195f5e",
   "metadata": {},
   "outputs": [],
   "source": [
    "# overall_catch_dl = []\n",
    "# for top_k in tqdm(range(5,10)):\n",
    "# # for top_k in tqdm(range(9,10)):    \n",
    "#     for featurizer in [\"lstm_with_attention\", \"just_attention\", \"vanilla_lstm\"]:\n",
    "#         print(\"Currently running for featurizer \"+ featurizer + \" with \" + str(top_k) + \" number of classes.\")\n",
    "#         if featurizer == \"countvectorizer\":\n",
    "#             avg_acc, avg_class_acc, std_err_avg_acc, std_err_avg_classwise_acc, overall_report,  model, params_best, fig, fig2, fig3 = run_end_to_end(top_k, data, featurizer, K, known_unknown, None)\n",
    "        \n",
    "#         elif featurizer == \"doc2vec_dbow\":\n",
    "#             avg_acc, avg_class_acc, std_err_avg_acc, std_err_avg_classwise_acc, overall_report,  model, params_best, fig, fig2, fig3 = run_end_to_end(top_k, data, featurizer, K, known_unknown, model_dbow)\n",
    "        \n",
    "#         elif featurizer == \"doc2vec_dm\":\n",
    "#             avg_acc, avg_class_acc, std_err_avg_acc, std_err_avg_classwise_acc, overall_report,  model, params_best, fig, fig2, fig3 = run_end_to_end(top_k, data, featurizer, K, known_unknown, model_dm)\n",
    "        \n",
    "#         elif featurizer == \"word2vec_cbow\":\n",
    "#             avg_acc, avg_class_acc, std_err_avg_acc, std_err_avg_classwise_acc, overall_report,  model, params_best, fig, fig2, fig3 = run_end_to_end(top_k, data, featurizer, K, known_unknown, model_cbow)            \n",
    "        \n",
    "#         elif featurizer == \"word2vec_sg\":\n",
    "#             avg_acc, avg_class_acc, std_err_avg_acc, std_err_avg_classwise_acc, overall_report,  model, params_best, fig, fig2, fig3 = run_end_to_end(top_k, data, featurizer, K, known_unknown, model_sg)\n",
    "        \n",
    "#         elif featurizer == \"fasttext_sg\":\n",
    "#             avg_acc, avg_class_acc, std_err_avg_acc, std_err_avg_classwise_acc, overall_report,  model, params_best, fig, fig2, fig3 = run_end_to_end(top_k, data, featurizer, K, known_unknown, model_fasttext_sg)      \n",
    "        \n",
    "#         elif featurizer == \"fasttext_cbow\":\n",
    "#             avg_acc, avg_class_acc, std_err_avg_acc, std_err_avg_classwise_acc, overall_report,  model, params_best, fig, fig2, fig3 = run_end_to_end(top_k, data, featurizer, K, known_unknown, model_fasttext_cbow)   \n",
    "        \n",
    "#         elif featurizer == \"lstm_with_attention\": \n",
    "#             avg_acc, avg_class_acc, std_err_avg_acc, std_err_avg_classwise_acc, overall_report,  model, params_best, fig, fig2, fig3 = run_end_to_end(top_k, data, featurizer, K, known_unknown, model_sg)\n",
    "        \n",
    "#         elif featurizer == \"just_attention\": \n",
    "#             avg_acc, avg_class_acc, std_err_avg_acc, std_err_avg_classwise_acc, overall_report,  model, params_best, fig, fig2, fig3 = run_end_to_end(top_k, data, featurizer, K, known_unknown, model_sg)        \n",
    "        \n",
    "#         elif featurizer == \"vanilla_lstm\": \n",
    "#             avg_acc, avg_class_acc, std_err_avg_acc, std_err_avg_classwise_acc, overall_report,  model, params_best, fig, fig2, fig3 = run_end_to_end(top_k, data, featurizer, K, known_unknown, model_sg)        \n",
    "        \n",
    "#         else:\n",
    "#             pass\n",
    "        \n",
    "#         overall_catch_dl.append([top_k, featurizer, avg_acc, avg_class_acc, std_err_avg_acc, std_err_avg_classwise_acc, \n",
    "#                              overall_report[\"precision\"], overall_report[\"recall\"], overall_report[\"f1-score\"]])\n",
    "        \n",
    "#         plt.close('all')"
   ]
  },
  {
   "cell_type": "code",
   "execution_count": 26,
   "id": "88fd9c46",
   "metadata": {},
   "outputs": [],
   "source": [
    "# overall_catch_dl = pd.DataFrame(overall_catch_dl)"
   ]
  },
  {
   "cell_type": "code",
   "execution_count": 27,
   "id": "b08acdfa",
   "metadata": {},
   "outputs": [],
   "source": [
    "# overall_catch_dl.columns = [\"num_substrates\", \"feature_method\", \"avg_accuracy\", \"avg_classwise_acc\",\n",
    "#                          \"std_err_avg_acc\", \"std_err_avg_classwise_acc\", \"avg_precision\", \"avg_recall\", \"avg_f1_score\"]"
   ]
  },
  {
   "cell_type": "code",
   "execution_count": 28,
   "id": "d2476c8b",
   "metadata": {},
   "outputs": [],
   "source": [
    "# overall_catch_dl.head(10)"
   ]
  },
  {
   "cell_type": "code",
   "execution_count": 29,
   "id": "a69de907",
   "metadata": {},
   "outputs": [],
   "source": [
    "# overall_catch_dl.to_csv(r\"Data\\Output\\Experiments\\results_by_k_deep_learners_new_sup_new_unsup.csv\", index = False)"
   ]
  },
  {
   "cell_type": "code",
   "execution_count": 30,
   "id": "51532397",
   "metadata": {},
   "outputs": [],
   "source": [
    "# keep_the_best_dl = overall_catch_dl.loc[overall_catch_dl.groupby('num_substrates')['avg_classwise_acc'].idxmax()]"
   ]
  },
  {
   "cell_type": "code",
   "execution_count": 31,
   "id": "c819fd81",
   "metadata": {},
   "outputs": [],
   "source": [
    "# keep_the_best_dl"
   ]
  },
  {
   "cell_type": "code",
   "execution_count": 32,
   "id": "7cfe893c",
   "metadata": {},
   "outputs": [],
   "source": [
    "# melt_best_dl = keep_the_best_dl.melt(id_vars=['num_substrates'], value_vars=['avg_accuracy', 'avg_classwise_acc', \"avg_precision\", \"avg_f1_score\"])"
   ]
  },
  {
   "cell_type": "code",
   "execution_count": 33,
   "id": "aa5b706f",
   "metadata": {},
   "outputs": [],
   "source": [
    "# melt_best = keep_the_best.melt(id_vars=['num_substrates'], value_vars=['avg_accuracy', 'avg_classwise_acc'])"
   ]
  },
  {
   "cell_type": "code",
   "execution_count": 34,
   "id": "deceb0e6",
   "metadata": {},
   "outputs": [],
   "source": [
    "# melt_best_dl.columns = ['num_substrates', 'metric_name', 'metric_value']"
   ]
  },
  {
   "cell_type": "code",
   "execution_count": 35,
   "id": "35117c67",
   "metadata": {},
   "outputs": [],
   "source": [
    "# melt_best_dl"
   ]
  },
  {
   "cell_type": "code",
   "execution_count": 36,
   "id": "1c4bbd88",
   "metadata": {},
   "outputs": [],
   "source": [
    "# plt.figure(figsize = (15,7))\n",
    "# sns.lineplot(data=melt_best_dl, x=\"num_substrates\", y=\"metric_value\", hue=\"metric_name\",  marker=\"o\")\n",
    "# plt.title(\"Plot of classification metrics by number of substrates in the model for best deep learning model\", fontsize = 20 ,weight = \"bold\")\n",
    "# plt.xlabel(\"Number of Substrates\",  weight = \"bold\", fontsize = 20)\n",
    "# plt.ylabel(\"Metric Value\", weight = \"bold\", fontsize = 20)\n",
    "# plt.xticks(range(5,10), weight = \"bold\", fontsize = 15)\n",
    "# plt.yticks(weight = \"bold\", fontsize = 15, rotation = 0)\n",
    "# plt.show()"
   ]
  },
  {
   "cell_type": "code",
   "execution_count": 37,
   "id": "307cdd45",
   "metadata": {},
   "outputs": [],
   "source": [
    "# overall_catch_dl.head()"
   ]
  },
  {
   "cell_type": "code",
   "execution_count": 38,
   "id": "5019e329",
   "metadata": {},
   "outputs": [],
   "source": [
    "# plt.figure(figsize = (20,10))\n",
    "# sns.lineplot(data=overall_catch, x=\"num_substrates\", y=\"avg_accuracy\", hue=\"feature_method\",  marker=\"o\")\n",
    "# plt.title(\"Plot of classification metrics by number of substrates in the model\", fontsize = 20 ,weight = \"bold\")\n",
    "# plt.xlabel(\"Number of Substrates\",  weight = \"bold\", fontsize = 20)\n",
    "# plt.ylabel(\"Metric Value\", weight = \"bold\", fontsize = 20)\n",
    "# plt.xticks(range(5,15), weight = \"bold\", fontsize = 15)\n",
    "# plt.yticks(weight = \"bold\", fontsize = 15, rotation = 0)\n",
    "# plt.show()"
   ]
  },
  {
   "cell_type": "code",
   "execution_count": 39,
   "id": "f95c4be4",
   "metadata": {},
   "outputs": [],
   "source": [
    "# plt.figure(figsize = (12,8))\n",
    "# # filter_condn = [ \"countvectorizer\"]\n",
    "# sns.lineplot(data=overall_catch_dl,  x=\"num_substrates\", y=\"avg_accurlacy\", hue=\"feature_method\",  marker=\"o\")\n",
    "# plt.title(\"Plot of Average Accuracy by number of substrates for different feature extraction methods.\", fontsize = 20 ,weight = \"bold\")\n",
    "# plt.xlabel(\"Number of Substrates\",  weight = \"bold\", fontsize = 20)\n",
    "# plt.ylabel(\"Accuracy Value\", weight = \"bold\", fontsize = 20)\n",
    "# plt.xticks(range(5,10), weight = \"bold\", fontsize = 15)\n",
    "# plt.yticks(weight = \"bold\", fontsize = 15, rotation = 0)\n",
    "# plt.show()"
   ]
  },
  {
   "cell_type": "code",
   "execution_count": 4,
   "id": "bb6d9e24",
   "metadata": {},
   "outputs": [],
   "source": [
    "import pandas as pd"
   ]
  },
  {
   "cell_type": "code",
   "execution_count": 5,
   "id": "8a2c9aeb",
   "metadata": {},
   "outputs": [],
   "source": [
    "methods_and_k = pd.read_csv(r\"Data\\Output\\Experiments\\results_by_k_new_sup_new_unsup.csv\")"
   ]
  },
  {
   "cell_type": "code",
   "execution_count": 6,
   "id": "e3a12f98",
   "metadata": {},
   "outputs": [
    {
     "data": {
      "text/html": [
       "<div>\n",
       "<style scoped>\n",
       "    .dataframe tbody tr th:only-of-type {\n",
       "        vertical-align: middle;\n",
       "    }\n",
       "\n",
       "    .dataframe tbody tr th {\n",
       "        vertical-align: top;\n",
       "    }\n",
       "\n",
       "    .dataframe thead th {\n",
       "        text-align: right;\n",
       "    }\n",
       "</style>\n",
       "<table border=\"1\" class=\"dataframe\">\n",
       "  <thead>\n",
       "    <tr style=\"text-align: right;\">\n",
       "      <th></th>\n",
       "      <th>num_substrates</th>\n",
       "      <th>feature_method</th>\n",
       "      <th>avg_accuracy</th>\n",
       "      <th>avg_classwise_acc</th>\n",
       "      <th>std_err_avg_acc</th>\n",
       "      <th>std_err_avg_classwise_acc</th>\n",
       "      <th>avg_precision</th>\n",
       "      <th>avg_recall</th>\n",
       "      <th>avg_f1_score</th>\n",
       "    </tr>\n",
       "  </thead>\n",
       "  <tbody>\n",
       "    <tr>\n",
       "      <th>0</th>\n",
       "      <td>2</td>\n",
       "      <td>lstm_with_attention</td>\n",
       "      <td>0.993103</td>\n",
       "      <td>0.995238</td>\n",
       "      <td>0.013793</td>\n",
       "      <td>0.009524</td>\n",
       "      <td>0.988889</td>\n",
       "      <td>0.995238</td>\n",
       "      <td>0.991679</td>\n",
       "    </tr>\n",
       "    <tr>\n",
       "      <th>1</th>\n",
       "      <td>2</td>\n",
       "      <td>just_attention</td>\n",
       "      <td>0.986207</td>\n",
       "      <td>0.980952</td>\n",
       "      <td>0.016893</td>\n",
       "      <td>0.027766</td>\n",
       "      <td>0.984541</td>\n",
       "      <td>0.980952</td>\n",
       "      <td>0.981764</td>\n",
       "    </tr>\n",
       "    <tr>\n",
       "      <th>2</th>\n",
       "      <td>2</td>\n",
       "      <td>vanilla_lstm</td>\n",
       "      <td>0.986207</td>\n",
       "      <td>0.975000</td>\n",
       "      <td>0.027586</td>\n",
       "      <td>0.050000</td>\n",
       "      <td>0.991304</td>\n",
       "      <td>0.975000</td>\n",
       "      <td>0.981169</td>\n",
       "    </tr>\n",
       "    <tr>\n",
       "      <th>3</th>\n",
       "      <td>2</td>\n",
       "      <td>countvectorizer</td>\n",
       "      <td>0.993103</td>\n",
       "      <td>0.995238</td>\n",
       "      <td>0.013793</td>\n",
       "      <td>0.009524</td>\n",
       "      <td>0.988889</td>\n",
       "      <td>0.995238</td>\n",
       "      <td>0.991679</td>\n",
       "    </tr>\n",
       "    <tr>\n",
       "      <th>4</th>\n",
       "      <td>2</td>\n",
       "      <td>doc2vec_dbow</td>\n",
       "      <td>0.903448</td>\n",
       "      <td>0.846429</td>\n",
       "      <td>0.040213</td>\n",
       "      <td>0.066459</td>\n",
       "      <td>0.914024</td>\n",
       "      <td>0.846429</td>\n",
       "      <td>0.866599</td>\n",
       "    </tr>\n",
       "  </tbody>\n",
       "</table>\n",
       "</div>"
      ],
      "text/plain": [
       "   num_substrates       feature_method  avg_accuracy  avg_classwise_acc  \\\n",
       "0               2  lstm_with_attention      0.993103           0.995238   \n",
       "1               2       just_attention      0.986207           0.980952   \n",
       "2               2         vanilla_lstm      0.986207           0.975000   \n",
       "3               2      countvectorizer      0.993103           0.995238   \n",
       "4               2         doc2vec_dbow      0.903448           0.846429   \n",
       "\n",
       "   std_err_avg_acc  std_err_avg_classwise_acc  avg_precision  avg_recall  \\\n",
       "0         0.013793                   0.009524       0.988889    0.995238   \n",
       "1         0.016893                   0.027766       0.984541    0.980952   \n",
       "2         0.027586                   0.050000       0.991304    0.975000   \n",
       "3         0.013793                   0.009524       0.988889    0.995238   \n",
       "4         0.040213                   0.066459       0.914024    0.846429   \n",
       "\n",
       "   avg_f1_score  \n",
       "0      0.991679  \n",
       "1      0.981764  \n",
       "2      0.981169  \n",
       "3      0.991679  \n",
       "4      0.866599  "
      ]
     },
     "execution_count": 6,
     "metadata": {},
     "output_type": "execute_result"
    }
   ],
   "source": [
    "methods_and_k.head()"
   ]
  },
  {
   "cell_type": "code",
   "execution_count": null,
   "id": "9380969f",
   "metadata": {},
   "outputs": [],
   "source": [
    "fig.update_xaxes(title_font_family=\"Arial\")"
   ]
  },
  {
   "cell_type": "code",
   "execution_count": 14,
   "id": "24b8bbc7",
   "metadata": {},
   "outputs": [
    {
     "data": {
      "application/vnd.plotly.v1+json": {
       "config": {
        "plotlyServerURL": "https://plot.ly"
       },
       "data": [
        {
         "hovertemplate": "Feature Extraction Method=lstm_with_attention<br>Number of Substrate Categories=%{x}<br>Average Accuracy=%{y}<extra></extra>",
         "legendgroup": "lstm_with_attention",
         "line": {
          "color": "#636efa",
          "dash": "solid",
          "width": 4
         },
         "marker": {
          "size": 8,
          "symbol": "circle"
         },
         "mode": "markers+lines",
         "name": "lstm_with_attention",
         "orientation": "v",
         "showlegend": true,
         "type": "scatter",
         "x": [
          2,
          3,
          4,
          5,
          6,
          7,
          8,
          9,
          10,
          11,
          12,
          13,
          14,
          15
         ],
         "xaxis": "x",
         "y": [
          0.993103448275862,
          0.9444444444444444,
          0.9254878048780488,
          0.9188888888888888,
          0.8795918367346939,
          0.8601055806938159,
          0.8609427609427609,
          0.8369026013309135,
          0.8449726775956284,
          0.8295634920634921,
          0.7902564102564102,
          0.766900790166813,
          0.7607453416149068,
          0.7549295774647887
         ],
         "yaxis": "y"
        },
        {
         "hovertemplate": "Feature Extraction Method=just_attention<br>Number of Substrate Categories=%{x}<br>Average Accuracy=%{y}<extra></extra>",
         "legendgroup": "just_attention",
         "line": {
          "color": "#EF553B",
          "dash": "solid",
          "width": 4
         },
         "marker": {
          "size": 8,
          "symbol": "circle"
         },
         "mode": "markers+lines",
         "name": "just_attention",
         "orientation": "v",
         "showlegend": true,
         "type": "scatter",
         "x": [
          2,
          3,
          4,
          5,
          6,
          7,
          8,
          9,
          10,
          11,
          12,
          13,
          14,
          15
         ],
         "xaxis": "x",
         "y": [
          0.9862068965517242,
          0.972222222222222,
          0.9552439024390244,
          0.9326262626262626,
          0.9171768707482992,
          0.8678733031674207,
          0.8791245791245791,
          0.8369026013309133,
          0.8186885245901638,
          0.8138888888888888,
          0.7598601398601399,
          0.7460491659350307,
          0.7664182194616977,
          0.7549295774647887
         ],
         "yaxis": "y"
        },
        {
         "hovertemplate": "Feature Extraction Method=vanilla_lstm<br>Number of Substrate Categories=%{x}<br>Average Accuracy=%{y}<extra></extra>",
         "legendgroup": "vanilla_lstm",
         "line": {
          "color": "#00cc96",
          "dash": "solid",
          "width": 4
         },
         "marker": {
          "size": 8,
          "symbol": "circle"
         },
         "mode": "markers+lines",
         "name": "vanilla_lstm",
         "orientation": "v",
         "showlegend": true,
         "type": "scatter",
         "x": [
          2,
          3,
          4,
          5,
          6,
          7,
          8,
          9,
          10,
          11,
          12,
          13,
          14,
          15
         ],
         "xaxis": "x",
         "y": [
          0.9862068965517242,
          0.9333333333333332,
          0.915609756097561,
          0.8872727272727273,
          0.9087585034013608,
          0.8754901960784313,
          0.8644444444444443,
          0.8577737447065941,
          0.8446994535519124,
          0.7980158730158731,
          0.7841491841491841,
          0.7460930640913082,
          0.7319254658385094,
          0.7492957746478873
         ],
         "yaxis": "y"
        },
        {
         "hovertemplate": "Feature Extraction Method=countvectorizer<br>Number of Substrate Categories=%{x}<br>Average Accuracy=%{y}<extra></extra>",
         "legendgroup": "countvectorizer",
         "line": {
          "color": "#ab63fa",
          "dash": "solid",
          "width": 4
         },
         "marker": {
          "size": 8,
          "symbol": "circle"
         },
         "mode": "markers+lines",
         "name": "countvectorizer",
         "orientation": "v",
         "showlegend": true,
         "type": "scatter",
         "x": [
          2,
          3,
          4,
          5,
          6,
          7,
          8,
          9,
          10,
          11,
          12,
          13,
          14,
          15
         ],
         "xaxis": "x",
         "y": [
          0.993103448275862,
          0.9333333333333332,
          0.8857317073170732,
          0.8742424242424243,
          0.8590986394557824,
          0.8485671191553544,
          0.8134006734006733,
          0.7673926194797337,
          0.7621311475409837,
          0.7100694444444444,
          0.7293240093240094,
          0.6754609306409132,
          0.7062111801242236,
          0.676056338028169
         ],
         "yaxis": "y"
        },
        {
         "hovertemplate": "Feature Extraction Method=doc2vec_dbow<br>Number of Substrate Categories=%{x}<br>Average Accuracy=%{y}<extra></extra>",
         "legendgroup": "doc2vec_dbow",
         "line": {
          "color": "#FFA15A",
          "dash": "solid",
          "width": 4
         },
         "marker": {
          "size": 8,
          "symbol": "circle"
         },
         "mode": "markers+lines",
         "name": "doc2vec_dbow",
         "orientation": "v",
         "showlegend": true,
         "type": "scatter",
         "x": [
          2,
          3,
          4,
          5,
          6,
          7,
          8,
          9,
          10,
          11,
          12,
          13,
          14,
          15
         ],
         "xaxis": "x",
         "y": [
          0.903448275862069,
          0.8388888888888889,
          0.7960975609756098,
          0.7525252525252524,
          0.7342687074829932,
          0.735444947209653,
          0.6670033670033669,
          0.6670296430732001,
          0.5938251366120219,
          0.5584821428571429,
          0.5136596736596737,
          0.5161106233538191,
          0.5158178053830228,
          0.495774647887324
         ],
         "yaxis": "y"
        },
        {
         "hovertemplate": "Feature Extraction Method=doc2vec_dm<br>Number of Substrate Categories=%{x}<br>Average Accuracy=%{y}<extra></extra>",
         "legendgroup": "doc2vec_dm",
         "line": {
          "color": "#19d3f3",
          "dash": "solid",
          "width": 4
         },
         "marker": {
          "size": 8,
          "symbol": "circle"
         },
         "mode": "markers+lines",
         "name": "doc2vec_dm",
         "orientation": "v",
         "showlegend": true,
         "type": "scatter",
         "x": [
          2,
          3,
          4,
          5,
          6,
          7,
          8,
          9,
          10,
          11,
          12,
          13,
          14,
          15
         ],
         "xaxis": "x",
         "y": [
          0.993103448275862,
          0.9666666666666666,
          0.9152439024390244,
          0.90989898989899,
          0.9087585034013606,
          0.871870286576169,
          0.8792592592592593,
          0.8160919540229884,
          0.7918579234972677,
          0.7697420634920635,
          0.771841491841492,
          0.7256804214223004,
          0.7377639751552796,
          0.7380281690140844
         ],
         "yaxis": "y"
        },
        {
         "hovertemplate": "Feature Extraction Method=word2vec_cbow<br>Number of Substrate Categories=%{x}<br>Average Accuracy=%{y}<extra></extra>",
         "legendgroup": "word2vec_cbow",
         "line": {
          "color": "#FF6692",
          "dash": "solid",
          "width": 4
         },
         "marker": {
          "size": 8,
          "symbol": "circle"
         },
         "mode": "markers+lines",
         "name": "word2vec_cbow",
         "orientation": "v",
         "showlegend": true,
         "type": "scatter",
         "x": [
          2,
          3,
          4,
          5,
          6,
          7,
          8,
          9,
          10,
          11,
          12,
          13,
          14,
          15
         ],
         "xaxis": "x",
         "y": [
          1,
          0.9333333333333332,
          0.9206097560975608,
          0.8921212121212122,
          0.859013605442177,
          0.8444193061840121,
          0.8496969696969698,
          0.8196007259528131,
          0.8018579234972677,
          0.7415178571428571,
          0.7446153846153847,
          0.7137401229148377,
          0.7002898550724638,
          0.6873239436619718
         ],
         "yaxis": "y"
        },
        {
         "hovertemplate": "Feature Extraction Method=word2vec_sg<br>Number of Substrate Categories=%{x}<br>Average Accuracy=%{y}<extra></extra>",
         "legendgroup": "word2vec_sg",
         "line": {
          "color": "#B6E880",
          "dash": "solid",
          "width": 4
         },
         "marker": {
          "size": 8,
          "symbol": "circle"
         },
         "mode": "markers+lines",
         "name": "word2vec_sg",
         "orientation": "v",
         "showlegend": true,
         "type": "scatter",
         "x": [
          2,
          3,
          4,
          5,
          6,
          7,
          8,
          9,
          10,
          11,
          12,
          13,
          14,
          15
         ],
         "xaxis": "x",
         "y": [
          1,
          0.961111111111111,
          0.9304878048780488,
          0.9414141414141414,
          0.9046768707482992,
          0.8795625942684767,
          0.8825589225589227,
          0.8611010284331518,
          0.8346994535519127,
          0.8106646825396826,
          0.7993006993006994,
          0.7667690956979807,
          0.7607867494824017,
          0.7633802816901408
         ],
         "yaxis": "y"
        },
        {
         "hovertemplate": "Feature Extraction Method=fasttext_sg<br>Number of Substrate Categories=%{x}<br>Average Accuracy=%{y}<extra></extra>",
         "legendgroup": "fasttext_sg",
         "line": {
          "color": "#FF97FF",
          "dash": "solid",
          "width": 4
         },
         "marker": {
          "size": 8,
          "symbol": "circle"
         },
         "mode": "markers+lines",
         "name": "fasttext_sg",
         "orientation": "v",
         "showlegend": true,
         "type": "scatter",
         "x": [
          2,
          3,
          4,
          5,
          6,
          7,
          8,
          9,
          10,
          11,
          12,
          13,
          14,
          15
         ],
         "xaxis": "x",
         "y": [
          1,
          0.9444444444444444,
          0.9304878048780488,
          0.9145454545454544,
          0.9003401360544216,
          0.8794871794871796,
          0.8534006734006734,
          0.82994555353902,
          0.8348087431693989,
          0.8107638888888887,
          0.7841025641025642,
          0.7461369622475855,
          0.7406625258799171,
          0.7352112676056337
         ],
         "yaxis": "y"
        },
        {
         "hovertemplate": "Feature Extraction Method=fasttext_cbow<br>Number of Substrate Categories=%{x}<br>Average Accuracy=%{y}<extra></extra>",
         "legendgroup": "fasttext_cbow",
         "line": {
          "color": "#FECB52",
          "dash": "solid",
          "width": 4
         },
         "marker": {
          "size": 8,
          "symbol": "circle"
         },
         "mode": "markers+lines",
         "name": "fasttext_cbow",
         "orientation": "v",
         "showlegend": true,
         "type": "scatter",
         "x": [
          2,
          3,
          4,
          5,
          6,
          7,
          8,
          9,
          10,
          11,
          12,
          13,
          14,
          15
         ],
         "xaxis": "x",
         "y": [
          1,
          0.9499999999999998,
          0.9158536585365856,
          0.9054545454545456,
          0.9005102040816325,
          0.8911010558069382,
          0.8898989898989897,
          0.8612825166364185,
          0.8250273224043717,
          0.7918154761904761,
          0.778088578088578,
          0.7521949078138718,
          0.7203312629399586,
          0.7295774647887323
         ],
         "yaxis": "y"
        }
       ],
       "layout": {
        "font": {
         "family": "Arial Black"
        },
        "legend": {
         "title": {
          "text": "Feature Extraction Method"
         },
         "tracegroupgap": 0
        },
        "template": {
         "data": {
          "bar": [
           {
            "error_x": {
             "color": "#2a3f5f"
            },
            "error_y": {
             "color": "#2a3f5f"
            },
            "marker": {
             "line": {
              "color": "#E5ECF6",
              "width": 0.5
             },
             "pattern": {
              "fillmode": "overlay",
              "size": 10,
              "solidity": 0.2
             }
            },
            "type": "bar"
           }
          ],
          "barpolar": [
           {
            "marker": {
             "line": {
              "color": "#E5ECF6",
              "width": 0.5
             },
             "pattern": {
              "fillmode": "overlay",
              "size": 10,
              "solidity": 0.2
             }
            },
            "type": "barpolar"
           }
          ],
          "carpet": [
           {
            "aaxis": {
             "endlinecolor": "#2a3f5f",
             "gridcolor": "white",
             "linecolor": "white",
             "minorgridcolor": "white",
             "startlinecolor": "#2a3f5f"
            },
            "baxis": {
             "endlinecolor": "#2a3f5f",
             "gridcolor": "white",
             "linecolor": "white",
             "minorgridcolor": "white",
             "startlinecolor": "#2a3f5f"
            },
            "type": "carpet"
           }
          ],
          "choropleth": [
           {
            "colorbar": {
             "outlinewidth": 0,
             "ticks": ""
            },
            "type": "choropleth"
           }
          ],
          "contour": [
           {
            "colorbar": {
             "outlinewidth": 0,
             "ticks": ""
            },
            "colorscale": [
             [
              0,
              "#0d0887"
             ],
             [
              0.1111111111111111,
              "#46039f"
             ],
             [
              0.2222222222222222,
              "#7201a8"
             ],
             [
              0.3333333333333333,
              "#9c179e"
             ],
             [
              0.4444444444444444,
              "#bd3786"
             ],
             [
              0.5555555555555556,
              "#d8576b"
             ],
             [
              0.6666666666666666,
              "#ed7953"
             ],
             [
              0.7777777777777778,
              "#fb9f3a"
             ],
             [
              0.8888888888888888,
              "#fdca26"
             ],
             [
              1,
              "#f0f921"
             ]
            ],
            "type": "contour"
           }
          ],
          "contourcarpet": [
           {
            "colorbar": {
             "outlinewidth": 0,
             "ticks": ""
            },
            "type": "contourcarpet"
           }
          ],
          "heatmap": [
           {
            "colorbar": {
             "outlinewidth": 0,
             "ticks": ""
            },
            "colorscale": [
             [
              0,
              "#0d0887"
             ],
             [
              0.1111111111111111,
              "#46039f"
             ],
             [
              0.2222222222222222,
              "#7201a8"
             ],
             [
              0.3333333333333333,
              "#9c179e"
             ],
             [
              0.4444444444444444,
              "#bd3786"
             ],
             [
              0.5555555555555556,
              "#d8576b"
             ],
             [
              0.6666666666666666,
              "#ed7953"
             ],
             [
              0.7777777777777778,
              "#fb9f3a"
             ],
             [
              0.8888888888888888,
              "#fdca26"
             ],
             [
              1,
              "#f0f921"
             ]
            ],
            "type": "heatmap"
           }
          ],
          "heatmapgl": [
           {
            "colorbar": {
             "outlinewidth": 0,
             "ticks": ""
            },
            "colorscale": [
             [
              0,
              "#0d0887"
             ],
             [
              0.1111111111111111,
              "#46039f"
             ],
             [
              0.2222222222222222,
              "#7201a8"
             ],
             [
              0.3333333333333333,
              "#9c179e"
             ],
             [
              0.4444444444444444,
              "#bd3786"
             ],
             [
              0.5555555555555556,
              "#d8576b"
             ],
             [
              0.6666666666666666,
              "#ed7953"
             ],
             [
              0.7777777777777778,
              "#fb9f3a"
             ],
             [
              0.8888888888888888,
              "#fdca26"
             ],
             [
              1,
              "#f0f921"
             ]
            ],
            "type": "heatmapgl"
           }
          ],
          "histogram": [
           {
            "marker": {
             "pattern": {
              "fillmode": "overlay",
              "size": 10,
              "solidity": 0.2
             }
            },
            "type": "histogram"
           }
          ],
          "histogram2d": [
           {
            "colorbar": {
             "outlinewidth": 0,
             "ticks": ""
            },
            "colorscale": [
             [
              0,
              "#0d0887"
             ],
             [
              0.1111111111111111,
              "#46039f"
             ],
             [
              0.2222222222222222,
              "#7201a8"
             ],
             [
              0.3333333333333333,
              "#9c179e"
             ],
             [
              0.4444444444444444,
              "#bd3786"
             ],
             [
              0.5555555555555556,
              "#d8576b"
             ],
             [
              0.6666666666666666,
              "#ed7953"
             ],
             [
              0.7777777777777778,
              "#fb9f3a"
             ],
             [
              0.8888888888888888,
              "#fdca26"
             ],
             [
              1,
              "#f0f921"
             ]
            ],
            "type": "histogram2d"
           }
          ],
          "histogram2dcontour": [
           {
            "colorbar": {
             "outlinewidth": 0,
             "ticks": ""
            },
            "colorscale": [
             [
              0,
              "#0d0887"
             ],
             [
              0.1111111111111111,
              "#46039f"
             ],
             [
              0.2222222222222222,
              "#7201a8"
             ],
             [
              0.3333333333333333,
              "#9c179e"
             ],
             [
              0.4444444444444444,
              "#bd3786"
             ],
             [
              0.5555555555555556,
              "#d8576b"
             ],
             [
              0.6666666666666666,
              "#ed7953"
             ],
             [
              0.7777777777777778,
              "#fb9f3a"
             ],
             [
              0.8888888888888888,
              "#fdca26"
             ],
             [
              1,
              "#f0f921"
             ]
            ],
            "type": "histogram2dcontour"
           }
          ],
          "mesh3d": [
           {
            "colorbar": {
             "outlinewidth": 0,
             "ticks": ""
            },
            "type": "mesh3d"
           }
          ],
          "parcoords": [
           {
            "line": {
             "colorbar": {
              "outlinewidth": 0,
              "ticks": ""
             }
            },
            "type": "parcoords"
           }
          ],
          "pie": [
           {
            "automargin": true,
            "type": "pie"
           }
          ],
          "scatter": [
           {
            "fillpattern": {
             "fillmode": "overlay",
             "size": 10,
             "solidity": 0.2
            },
            "type": "scatter"
           }
          ],
          "scatter3d": [
           {
            "line": {
             "colorbar": {
              "outlinewidth": 0,
              "ticks": ""
             }
            },
            "marker": {
             "colorbar": {
              "outlinewidth": 0,
              "ticks": ""
             }
            },
            "type": "scatter3d"
           }
          ],
          "scattercarpet": [
           {
            "marker": {
             "colorbar": {
              "outlinewidth": 0,
              "ticks": ""
             }
            },
            "type": "scattercarpet"
           }
          ],
          "scattergeo": [
           {
            "marker": {
             "colorbar": {
              "outlinewidth": 0,
              "ticks": ""
             }
            },
            "type": "scattergeo"
           }
          ],
          "scattergl": [
           {
            "marker": {
             "colorbar": {
              "outlinewidth": 0,
              "ticks": ""
             }
            },
            "type": "scattergl"
           }
          ],
          "scattermapbox": [
           {
            "marker": {
             "colorbar": {
              "outlinewidth": 0,
              "ticks": ""
             }
            },
            "type": "scattermapbox"
           }
          ],
          "scatterpolar": [
           {
            "marker": {
             "colorbar": {
              "outlinewidth": 0,
              "ticks": ""
             }
            },
            "type": "scatterpolar"
           }
          ],
          "scatterpolargl": [
           {
            "marker": {
             "colorbar": {
              "outlinewidth": 0,
              "ticks": ""
             }
            },
            "type": "scatterpolargl"
           }
          ],
          "scatterternary": [
           {
            "marker": {
             "colorbar": {
              "outlinewidth": 0,
              "ticks": ""
             }
            },
            "type": "scatterternary"
           }
          ],
          "surface": [
           {
            "colorbar": {
             "outlinewidth": 0,
             "ticks": ""
            },
            "colorscale": [
             [
              0,
              "#0d0887"
             ],
             [
              0.1111111111111111,
              "#46039f"
             ],
             [
              0.2222222222222222,
              "#7201a8"
             ],
             [
              0.3333333333333333,
              "#9c179e"
             ],
             [
              0.4444444444444444,
              "#bd3786"
             ],
             [
              0.5555555555555556,
              "#d8576b"
             ],
             [
              0.6666666666666666,
              "#ed7953"
             ],
             [
              0.7777777777777778,
              "#fb9f3a"
             ],
             [
              0.8888888888888888,
              "#fdca26"
             ],
             [
              1,
              "#f0f921"
             ]
            ],
            "type": "surface"
           }
          ],
          "table": [
           {
            "cells": {
             "fill": {
              "color": "#EBF0F8"
             },
             "line": {
              "color": "white"
             }
            },
            "header": {
             "fill": {
              "color": "#C8D4E3"
             },
             "line": {
              "color": "white"
             }
            },
            "type": "table"
           }
          ]
         },
         "layout": {
          "annotationdefaults": {
           "arrowcolor": "#2a3f5f",
           "arrowhead": 0,
           "arrowwidth": 1
          },
          "autotypenumbers": "strict",
          "coloraxis": {
           "colorbar": {
            "outlinewidth": 0,
            "ticks": ""
           }
          },
          "colorscale": {
           "diverging": [
            [
             0,
             "#8e0152"
            ],
            [
             0.1,
             "#c51b7d"
            ],
            [
             0.2,
             "#de77ae"
            ],
            [
             0.3,
             "#f1b6da"
            ],
            [
             0.4,
             "#fde0ef"
            ],
            [
             0.5,
             "#f7f7f7"
            ],
            [
             0.6,
             "#e6f5d0"
            ],
            [
             0.7,
             "#b8e186"
            ],
            [
             0.8,
             "#7fbc41"
            ],
            [
             0.9,
             "#4d9221"
            ],
            [
             1,
             "#276419"
            ]
           ],
           "sequential": [
            [
             0,
             "#0d0887"
            ],
            [
             0.1111111111111111,
             "#46039f"
            ],
            [
             0.2222222222222222,
             "#7201a8"
            ],
            [
             0.3333333333333333,
             "#9c179e"
            ],
            [
             0.4444444444444444,
             "#bd3786"
            ],
            [
             0.5555555555555556,
             "#d8576b"
            ],
            [
             0.6666666666666666,
             "#ed7953"
            ],
            [
             0.7777777777777778,
             "#fb9f3a"
            ],
            [
             0.8888888888888888,
             "#fdca26"
            ],
            [
             1,
             "#f0f921"
            ]
           ],
           "sequentialminus": [
            [
             0,
             "#0d0887"
            ],
            [
             0.1111111111111111,
             "#46039f"
            ],
            [
             0.2222222222222222,
             "#7201a8"
            ],
            [
             0.3333333333333333,
             "#9c179e"
            ],
            [
             0.4444444444444444,
             "#bd3786"
            ],
            [
             0.5555555555555556,
             "#d8576b"
            ],
            [
             0.6666666666666666,
             "#ed7953"
            ],
            [
             0.7777777777777778,
             "#fb9f3a"
            ],
            [
             0.8888888888888888,
             "#fdca26"
            ],
            [
             1,
             "#f0f921"
            ]
           ]
          },
          "colorway": [
           "#636efa",
           "#EF553B",
           "#00cc96",
           "#ab63fa",
           "#FFA15A",
           "#19d3f3",
           "#FF6692",
           "#B6E880",
           "#FF97FF",
           "#FECB52"
          ],
          "font": {
           "color": "#2a3f5f"
          },
          "geo": {
           "bgcolor": "white",
           "lakecolor": "white",
           "landcolor": "#E5ECF6",
           "showlakes": true,
           "showland": true,
           "subunitcolor": "white"
          },
          "hoverlabel": {
           "align": "left"
          },
          "hovermode": "closest",
          "mapbox": {
           "style": "light"
          },
          "paper_bgcolor": "white",
          "plot_bgcolor": "#E5ECF6",
          "polar": {
           "angularaxis": {
            "gridcolor": "white",
            "linecolor": "white",
            "ticks": ""
           },
           "bgcolor": "#E5ECF6",
           "radialaxis": {
            "gridcolor": "white",
            "linecolor": "white",
            "ticks": ""
           }
          },
          "scene": {
           "xaxis": {
            "backgroundcolor": "#E5ECF6",
            "gridcolor": "white",
            "gridwidth": 2,
            "linecolor": "white",
            "showbackground": true,
            "ticks": "",
            "zerolinecolor": "white"
           },
           "yaxis": {
            "backgroundcolor": "#E5ECF6",
            "gridcolor": "white",
            "gridwidth": 2,
            "linecolor": "white",
            "showbackground": true,
            "ticks": "",
            "zerolinecolor": "white"
           },
           "zaxis": {
            "backgroundcolor": "#E5ECF6",
            "gridcolor": "white",
            "gridwidth": 2,
            "linecolor": "white",
            "showbackground": true,
            "ticks": "",
            "zerolinecolor": "white"
           }
          },
          "shapedefaults": {
           "line": {
            "color": "#2a3f5f"
           }
          },
          "ternary": {
           "aaxis": {
            "gridcolor": "white",
            "linecolor": "white",
            "ticks": ""
           },
           "baxis": {
            "gridcolor": "white",
            "linecolor": "white",
            "ticks": ""
           },
           "bgcolor": "#E5ECF6",
           "caxis": {
            "gridcolor": "white",
            "linecolor": "white",
            "ticks": ""
           }
          },
          "title": {
           "x": 0.05
          },
          "xaxis": {
           "automargin": true,
           "gridcolor": "white",
           "linecolor": "white",
           "ticks": "",
           "title": {
            "standoff": 15
           },
           "zerolinecolor": "white",
           "zerolinewidth": 2
          },
          "yaxis": {
           "automargin": true,
           "gridcolor": "white",
           "linecolor": "white",
           "ticks": "",
           "title": {
            "standoff": 15
           },
           "zerolinecolor": "white",
           "zerolinewidth": 2
          }
         }
        },
        "title": {
         "font": {
          "family": "Arial Black"
         },
         "text": "PLot of Average Accuracy vs Number of substrate Categories"
        },
        "xaxis": {
         "anchor": "y",
         "domain": [
          0,
          1
         ],
         "tickfont": {
          "family": "Arial Black"
         },
         "title": {
          "font": {
           "family": "Arial Black"
          },
          "text": "Number of Substrate Categories"
         }
        },
        "yaxis": {
         "anchor": "x",
         "domain": [
          0,
          1
         ],
         "tickfont": {
          "family": "Arial Black"
         },
         "title": {
          "font": {
           "family": "Arial Black"
          },
          "text": "Average Accuracy"
         }
        }
       }
      },
      "text/html": [
       "<div>                            <div id=\"c6da488b-1e8f-48b4-ac94-44f9eed52742\" class=\"plotly-graph-div\" style=\"height:525px; width:100%;\"></div>            <script type=\"text/javascript\">                require([\"plotly\"], function(Plotly) {                    window.PLOTLYENV=window.PLOTLYENV || {};                                    if (document.getElementById(\"c6da488b-1e8f-48b4-ac94-44f9eed52742\")) {                    Plotly.newPlot(                        \"c6da488b-1e8f-48b4-ac94-44f9eed52742\",                        [{\"hovertemplate\":\"Feature Extraction Method=lstm_with_attention<br>Number of Substrate Categories=%{x}<br>Average Accuracy=%{y}<extra></extra>\",\"legendgroup\":\"lstm_with_attention\",\"line\":{\"color\":\"#636efa\",\"dash\":\"solid\",\"width\":4},\"marker\":{\"symbol\":\"circle\",\"size\":8},\"mode\":\"markers+lines\",\"name\":\"lstm_with_attention\",\"orientation\":\"v\",\"showlegend\":true,\"x\":[2,3,4,5,6,7,8,9,10,11,12,13,14,15],\"xaxis\":\"x\",\"y\":[0.993103448275862,0.9444444444444444,0.9254878048780488,0.9188888888888888,0.8795918367346939,0.8601055806938159,0.8609427609427609,0.8369026013309135,0.8449726775956284,0.8295634920634921,0.7902564102564102,0.766900790166813,0.7607453416149068,0.7549295774647887],\"yaxis\":\"y\",\"type\":\"scatter\"},{\"hovertemplate\":\"Feature Extraction Method=just_attention<br>Number of Substrate Categories=%{x}<br>Average Accuracy=%{y}<extra></extra>\",\"legendgroup\":\"just_attention\",\"line\":{\"color\":\"#EF553B\",\"dash\":\"solid\",\"width\":4},\"marker\":{\"symbol\":\"circle\",\"size\":8},\"mode\":\"markers+lines\",\"name\":\"just_attention\",\"orientation\":\"v\",\"showlegend\":true,\"x\":[2,3,4,5,6,7,8,9,10,11,12,13,14,15],\"xaxis\":\"x\",\"y\":[0.9862068965517242,0.972222222222222,0.9552439024390244,0.9326262626262626,0.9171768707482992,0.8678733031674207,0.8791245791245791,0.8369026013309133,0.8186885245901638,0.8138888888888888,0.7598601398601399,0.7460491659350307,0.7664182194616977,0.7549295774647887],\"yaxis\":\"y\",\"type\":\"scatter\"},{\"hovertemplate\":\"Feature Extraction Method=vanilla_lstm<br>Number of Substrate Categories=%{x}<br>Average Accuracy=%{y}<extra></extra>\",\"legendgroup\":\"vanilla_lstm\",\"line\":{\"color\":\"#00cc96\",\"dash\":\"solid\",\"width\":4},\"marker\":{\"symbol\":\"circle\",\"size\":8},\"mode\":\"markers+lines\",\"name\":\"vanilla_lstm\",\"orientation\":\"v\",\"showlegend\":true,\"x\":[2,3,4,5,6,7,8,9,10,11,12,13,14,15],\"xaxis\":\"x\",\"y\":[0.9862068965517242,0.9333333333333332,0.915609756097561,0.8872727272727273,0.9087585034013608,0.8754901960784313,0.8644444444444443,0.8577737447065941,0.8446994535519124,0.7980158730158731,0.7841491841491841,0.7460930640913082,0.7319254658385094,0.7492957746478873],\"yaxis\":\"y\",\"type\":\"scatter\"},{\"hovertemplate\":\"Feature Extraction Method=countvectorizer<br>Number of Substrate Categories=%{x}<br>Average Accuracy=%{y}<extra></extra>\",\"legendgroup\":\"countvectorizer\",\"line\":{\"color\":\"#ab63fa\",\"dash\":\"solid\",\"width\":4},\"marker\":{\"symbol\":\"circle\",\"size\":8},\"mode\":\"markers+lines\",\"name\":\"countvectorizer\",\"orientation\":\"v\",\"showlegend\":true,\"x\":[2,3,4,5,6,7,8,9,10,11,12,13,14,15],\"xaxis\":\"x\",\"y\":[0.993103448275862,0.9333333333333332,0.8857317073170732,0.8742424242424243,0.8590986394557824,0.8485671191553544,0.8134006734006733,0.7673926194797337,0.7621311475409837,0.7100694444444444,0.7293240093240094,0.6754609306409132,0.7062111801242236,0.676056338028169],\"yaxis\":\"y\",\"type\":\"scatter\"},{\"hovertemplate\":\"Feature Extraction Method=doc2vec_dbow<br>Number of Substrate Categories=%{x}<br>Average Accuracy=%{y}<extra></extra>\",\"legendgroup\":\"doc2vec_dbow\",\"line\":{\"color\":\"#FFA15A\",\"dash\":\"solid\",\"width\":4},\"marker\":{\"symbol\":\"circle\",\"size\":8},\"mode\":\"markers+lines\",\"name\":\"doc2vec_dbow\",\"orientation\":\"v\",\"showlegend\":true,\"x\":[2,3,4,5,6,7,8,9,10,11,12,13,14,15],\"xaxis\":\"x\",\"y\":[0.903448275862069,0.8388888888888889,0.7960975609756098,0.7525252525252524,0.7342687074829932,0.735444947209653,0.6670033670033669,0.6670296430732001,0.5938251366120219,0.5584821428571429,0.5136596736596737,0.5161106233538191,0.5158178053830228,0.495774647887324],\"yaxis\":\"y\",\"type\":\"scatter\"},{\"hovertemplate\":\"Feature Extraction Method=doc2vec_dm<br>Number of Substrate Categories=%{x}<br>Average Accuracy=%{y}<extra></extra>\",\"legendgroup\":\"doc2vec_dm\",\"line\":{\"color\":\"#19d3f3\",\"dash\":\"solid\",\"width\":4},\"marker\":{\"symbol\":\"circle\",\"size\":8},\"mode\":\"markers+lines\",\"name\":\"doc2vec_dm\",\"orientation\":\"v\",\"showlegend\":true,\"x\":[2,3,4,5,6,7,8,9,10,11,12,13,14,15],\"xaxis\":\"x\",\"y\":[0.993103448275862,0.9666666666666666,0.9152439024390244,0.90989898989899,0.9087585034013606,0.871870286576169,0.8792592592592593,0.8160919540229884,0.7918579234972677,0.7697420634920635,0.771841491841492,0.7256804214223004,0.7377639751552796,0.7380281690140844],\"yaxis\":\"y\",\"type\":\"scatter\"},{\"hovertemplate\":\"Feature Extraction Method=word2vec_cbow<br>Number of Substrate Categories=%{x}<br>Average Accuracy=%{y}<extra></extra>\",\"legendgroup\":\"word2vec_cbow\",\"line\":{\"color\":\"#FF6692\",\"dash\":\"solid\",\"width\":4},\"marker\":{\"symbol\":\"circle\",\"size\":8},\"mode\":\"markers+lines\",\"name\":\"word2vec_cbow\",\"orientation\":\"v\",\"showlegend\":true,\"x\":[2,3,4,5,6,7,8,9,10,11,12,13,14,15],\"xaxis\":\"x\",\"y\":[1.0,0.9333333333333332,0.9206097560975608,0.8921212121212122,0.859013605442177,0.8444193061840121,0.8496969696969698,0.8196007259528131,0.8018579234972677,0.7415178571428571,0.7446153846153847,0.7137401229148377,0.7002898550724638,0.6873239436619718],\"yaxis\":\"y\",\"type\":\"scatter\"},{\"hovertemplate\":\"Feature Extraction Method=word2vec_sg<br>Number of Substrate Categories=%{x}<br>Average Accuracy=%{y}<extra></extra>\",\"legendgroup\":\"word2vec_sg\",\"line\":{\"color\":\"#B6E880\",\"dash\":\"solid\",\"width\":4},\"marker\":{\"symbol\":\"circle\",\"size\":8},\"mode\":\"markers+lines\",\"name\":\"word2vec_sg\",\"orientation\":\"v\",\"showlegend\":true,\"x\":[2,3,4,5,6,7,8,9,10,11,12,13,14,15],\"xaxis\":\"x\",\"y\":[1.0,0.961111111111111,0.9304878048780488,0.9414141414141414,0.9046768707482992,0.8795625942684767,0.8825589225589227,0.8611010284331518,0.8346994535519127,0.8106646825396826,0.7993006993006994,0.7667690956979807,0.7607867494824017,0.7633802816901408],\"yaxis\":\"y\",\"type\":\"scatter\"},{\"hovertemplate\":\"Feature Extraction Method=fasttext_sg<br>Number of Substrate Categories=%{x}<br>Average Accuracy=%{y}<extra></extra>\",\"legendgroup\":\"fasttext_sg\",\"line\":{\"color\":\"#FF97FF\",\"dash\":\"solid\",\"width\":4},\"marker\":{\"symbol\":\"circle\",\"size\":8},\"mode\":\"markers+lines\",\"name\":\"fasttext_sg\",\"orientation\":\"v\",\"showlegend\":true,\"x\":[2,3,4,5,6,7,8,9,10,11,12,13,14,15],\"xaxis\":\"x\",\"y\":[1.0,0.9444444444444444,0.9304878048780488,0.9145454545454544,0.9003401360544216,0.8794871794871796,0.8534006734006734,0.82994555353902,0.8348087431693989,0.8107638888888887,0.7841025641025642,0.7461369622475855,0.7406625258799171,0.7352112676056337],\"yaxis\":\"y\",\"type\":\"scatter\"},{\"hovertemplate\":\"Feature Extraction Method=fasttext_cbow<br>Number of Substrate Categories=%{x}<br>Average Accuracy=%{y}<extra></extra>\",\"legendgroup\":\"fasttext_cbow\",\"line\":{\"color\":\"#FECB52\",\"dash\":\"solid\",\"width\":4},\"marker\":{\"symbol\":\"circle\",\"size\":8},\"mode\":\"markers+lines\",\"name\":\"fasttext_cbow\",\"orientation\":\"v\",\"showlegend\":true,\"x\":[2,3,4,5,6,7,8,9,10,11,12,13,14,15],\"xaxis\":\"x\",\"y\":[1.0,0.9499999999999998,0.9158536585365856,0.9054545454545456,0.9005102040816325,0.8911010558069382,0.8898989898989897,0.8612825166364185,0.8250273224043717,0.7918154761904761,0.778088578088578,0.7521949078138718,0.7203312629399586,0.7295774647887323],\"yaxis\":\"y\",\"type\":\"scatter\"}],                        {\"template\":{\"data\":{\"histogram2dcontour\":[{\"type\":\"histogram2dcontour\",\"colorbar\":{\"outlinewidth\":0,\"ticks\":\"\"},\"colorscale\":[[0.0,\"#0d0887\"],[0.1111111111111111,\"#46039f\"],[0.2222222222222222,\"#7201a8\"],[0.3333333333333333,\"#9c179e\"],[0.4444444444444444,\"#bd3786\"],[0.5555555555555556,\"#d8576b\"],[0.6666666666666666,\"#ed7953\"],[0.7777777777777778,\"#fb9f3a\"],[0.8888888888888888,\"#fdca26\"],[1.0,\"#f0f921\"]]}],\"choropleth\":[{\"type\":\"choropleth\",\"colorbar\":{\"outlinewidth\":0,\"ticks\":\"\"}}],\"histogram2d\":[{\"type\":\"histogram2d\",\"colorbar\":{\"outlinewidth\":0,\"ticks\":\"\"},\"colorscale\":[[0.0,\"#0d0887\"],[0.1111111111111111,\"#46039f\"],[0.2222222222222222,\"#7201a8\"],[0.3333333333333333,\"#9c179e\"],[0.4444444444444444,\"#bd3786\"],[0.5555555555555556,\"#d8576b\"],[0.6666666666666666,\"#ed7953\"],[0.7777777777777778,\"#fb9f3a\"],[0.8888888888888888,\"#fdca26\"],[1.0,\"#f0f921\"]]}],\"heatmap\":[{\"type\":\"heatmap\",\"colorbar\":{\"outlinewidth\":0,\"ticks\":\"\"},\"colorscale\":[[0.0,\"#0d0887\"],[0.1111111111111111,\"#46039f\"],[0.2222222222222222,\"#7201a8\"],[0.3333333333333333,\"#9c179e\"],[0.4444444444444444,\"#bd3786\"],[0.5555555555555556,\"#d8576b\"],[0.6666666666666666,\"#ed7953\"],[0.7777777777777778,\"#fb9f3a\"],[0.8888888888888888,\"#fdca26\"],[1.0,\"#f0f921\"]]}],\"heatmapgl\":[{\"type\":\"heatmapgl\",\"colorbar\":{\"outlinewidth\":0,\"ticks\":\"\"},\"colorscale\":[[0.0,\"#0d0887\"],[0.1111111111111111,\"#46039f\"],[0.2222222222222222,\"#7201a8\"],[0.3333333333333333,\"#9c179e\"],[0.4444444444444444,\"#bd3786\"],[0.5555555555555556,\"#d8576b\"],[0.6666666666666666,\"#ed7953\"],[0.7777777777777778,\"#fb9f3a\"],[0.8888888888888888,\"#fdca26\"],[1.0,\"#f0f921\"]]}],\"contourcarpet\":[{\"type\":\"contourcarpet\",\"colorbar\":{\"outlinewidth\":0,\"ticks\":\"\"}}],\"contour\":[{\"type\":\"contour\",\"colorbar\":{\"outlinewidth\":0,\"ticks\":\"\"},\"colorscale\":[[0.0,\"#0d0887\"],[0.1111111111111111,\"#46039f\"],[0.2222222222222222,\"#7201a8\"],[0.3333333333333333,\"#9c179e\"],[0.4444444444444444,\"#bd3786\"],[0.5555555555555556,\"#d8576b\"],[0.6666666666666666,\"#ed7953\"],[0.7777777777777778,\"#fb9f3a\"],[0.8888888888888888,\"#fdca26\"],[1.0,\"#f0f921\"]]}],\"surface\":[{\"type\":\"surface\",\"colorbar\":{\"outlinewidth\":0,\"ticks\":\"\"},\"colorscale\":[[0.0,\"#0d0887\"],[0.1111111111111111,\"#46039f\"],[0.2222222222222222,\"#7201a8\"],[0.3333333333333333,\"#9c179e\"],[0.4444444444444444,\"#bd3786\"],[0.5555555555555556,\"#d8576b\"],[0.6666666666666666,\"#ed7953\"],[0.7777777777777778,\"#fb9f3a\"],[0.8888888888888888,\"#fdca26\"],[1.0,\"#f0f921\"]]}],\"mesh3d\":[{\"type\":\"mesh3d\",\"colorbar\":{\"outlinewidth\":0,\"ticks\":\"\"}}],\"scatter\":[{\"fillpattern\":{\"fillmode\":\"overlay\",\"size\":10,\"solidity\":0.2},\"type\":\"scatter\"}],\"parcoords\":[{\"type\":\"parcoords\",\"line\":{\"colorbar\":{\"outlinewidth\":0,\"ticks\":\"\"}}}],\"scatterpolargl\":[{\"type\":\"scatterpolargl\",\"marker\":{\"colorbar\":{\"outlinewidth\":0,\"ticks\":\"\"}}}],\"bar\":[{\"error_x\":{\"color\":\"#2a3f5f\"},\"error_y\":{\"color\":\"#2a3f5f\"},\"marker\":{\"line\":{\"color\":\"#E5ECF6\",\"width\":0.5},\"pattern\":{\"fillmode\":\"overlay\",\"size\":10,\"solidity\":0.2}},\"type\":\"bar\"}],\"scattergeo\":[{\"type\":\"scattergeo\",\"marker\":{\"colorbar\":{\"outlinewidth\":0,\"ticks\":\"\"}}}],\"scatterpolar\":[{\"type\":\"scatterpolar\",\"marker\":{\"colorbar\":{\"outlinewidth\":0,\"ticks\":\"\"}}}],\"histogram\":[{\"marker\":{\"pattern\":{\"fillmode\":\"overlay\",\"size\":10,\"solidity\":0.2}},\"type\":\"histogram\"}],\"scattergl\":[{\"type\":\"scattergl\",\"marker\":{\"colorbar\":{\"outlinewidth\":0,\"ticks\":\"\"}}}],\"scatter3d\":[{\"type\":\"scatter3d\",\"line\":{\"colorbar\":{\"outlinewidth\":0,\"ticks\":\"\"}},\"marker\":{\"colorbar\":{\"outlinewidth\":0,\"ticks\":\"\"}}}],\"scattermapbox\":[{\"type\":\"scattermapbox\",\"marker\":{\"colorbar\":{\"outlinewidth\":0,\"ticks\":\"\"}}}],\"scatterternary\":[{\"type\":\"scatterternary\",\"marker\":{\"colorbar\":{\"outlinewidth\":0,\"ticks\":\"\"}}}],\"scattercarpet\":[{\"type\":\"scattercarpet\",\"marker\":{\"colorbar\":{\"outlinewidth\":0,\"ticks\":\"\"}}}],\"carpet\":[{\"aaxis\":{\"endlinecolor\":\"#2a3f5f\",\"gridcolor\":\"white\",\"linecolor\":\"white\",\"minorgridcolor\":\"white\",\"startlinecolor\":\"#2a3f5f\"},\"baxis\":{\"endlinecolor\":\"#2a3f5f\",\"gridcolor\":\"white\",\"linecolor\":\"white\",\"minorgridcolor\":\"white\",\"startlinecolor\":\"#2a3f5f\"},\"type\":\"carpet\"}],\"table\":[{\"cells\":{\"fill\":{\"color\":\"#EBF0F8\"},\"line\":{\"color\":\"white\"}},\"header\":{\"fill\":{\"color\":\"#C8D4E3\"},\"line\":{\"color\":\"white\"}},\"type\":\"table\"}],\"barpolar\":[{\"marker\":{\"line\":{\"color\":\"#E5ECF6\",\"width\":0.5},\"pattern\":{\"fillmode\":\"overlay\",\"size\":10,\"solidity\":0.2}},\"type\":\"barpolar\"}],\"pie\":[{\"automargin\":true,\"type\":\"pie\"}]},\"layout\":{\"autotypenumbers\":\"strict\",\"colorway\":[\"#636efa\",\"#EF553B\",\"#00cc96\",\"#ab63fa\",\"#FFA15A\",\"#19d3f3\",\"#FF6692\",\"#B6E880\",\"#FF97FF\",\"#FECB52\"],\"font\":{\"color\":\"#2a3f5f\"},\"hovermode\":\"closest\",\"hoverlabel\":{\"align\":\"left\"},\"paper_bgcolor\":\"white\",\"plot_bgcolor\":\"#E5ECF6\",\"polar\":{\"bgcolor\":\"#E5ECF6\",\"angularaxis\":{\"gridcolor\":\"white\",\"linecolor\":\"white\",\"ticks\":\"\"},\"radialaxis\":{\"gridcolor\":\"white\",\"linecolor\":\"white\",\"ticks\":\"\"}},\"ternary\":{\"bgcolor\":\"#E5ECF6\",\"aaxis\":{\"gridcolor\":\"white\",\"linecolor\":\"white\",\"ticks\":\"\"},\"baxis\":{\"gridcolor\":\"white\",\"linecolor\":\"white\",\"ticks\":\"\"},\"caxis\":{\"gridcolor\":\"white\",\"linecolor\":\"white\",\"ticks\":\"\"}},\"coloraxis\":{\"colorbar\":{\"outlinewidth\":0,\"ticks\":\"\"}},\"colorscale\":{\"sequential\":[[0.0,\"#0d0887\"],[0.1111111111111111,\"#46039f\"],[0.2222222222222222,\"#7201a8\"],[0.3333333333333333,\"#9c179e\"],[0.4444444444444444,\"#bd3786\"],[0.5555555555555556,\"#d8576b\"],[0.6666666666666666,\"#ed7953\"],[0.7777777777777778,\"#fb9f3a\"],[0.8888888888888888,\"#fdca26\"],[1.0,\"#f0f921\"]],\"sequentialminus\":[[0.0,\"#0d0887\"],[0.1111111111111111,\"#46039f\"],[0.2222222222222222,\"#7201a8\"],[0.3333333333333333,\"#9c179e\"],[0.4444444444444444,\"#bd3786\"],[0.5555555555555556,\"#d8576b\"],[0.6666666666666666,\"#ed7953\"],[0.7777777777777778,\"#fb9f3a\"],[0.8888888888888888,\"#fdca26\"],[1.0,\"#f0f921\"]],\"diverging\":[[0,\"#8e0152\"],[0.1,\"#c51b7d\"],[0.2,\"#de77ae\"],[0.3,\"#f1b6da\"],[0.4,\"#fde0ef\"],[0.5,\"#f7f7f7\"],[0.6,\"#e6f5d0\"],[0.7,\"#b8e186\"],[0.8,\"#7fbc41\"],[0.9,\"#4d9221\"],[1,\"#276419\"]]},\"xaxis\":{\"gridcolor\":\"white\",\"linecolor\":\"white\",\"ticks\":\"\",\"title\":{\"standoff\":15},\"zerolinecolor\":\"white\",\"automargin\":true,\"zerolinewidth\":2},\"yaxis\":{\"gridcolor\":\"white\",\"linecolor\":\"white\",\"ticks\":\"\",\"title\":{\"standoff\":15},\"zerolinecolor\":\"white\",\"automargin\":true,\"zerolinewidth\":2},\"scene\":{\"xaxis\":{\"backgroundcolor\":\"#E5ECF6\",\"gridcolor\":\"white\",\"linecolor\":\"white\",\"showbackground\":true,\"ticks\":\"\",\"zerolinecolor\":\"white\",\"gridwidth\":2},\"yaxis\":{\"backgroundcolor\":\"#E5ECF6\",\"gridcolor\":\"white\",\"linecolor\":\"white\",\"showbackground\":true,\"ticks\":\"\",\"zerolinecolor\":\"white\",\"gridwidth\":2},\"zaxis\":{\"backgroundcolor\":\"#E5ECF6\",\"gridcolor\":\"white\",\"linecolor\":\"white\",\"showbackground\":true,\"ticks\":\"\",\"zerolinecolor\":\"white\",\"gridwidth\":2}},\"shapedefaults\":{\"line\":{\"color\":\"#2a3f5f\"}},\"annotationdefaults\":{\"arrowcolor\":\"#2a3f5f\",\"arrowhead\":0,\"arrowwidth\":1},\"geo\":{\"bgcolor\":\"white\",\"landcolor\":\"#E5ECF6\",\"subunitcolor\":\"white\",\"showland\":true,\"showlakes\":true,\"lakecolor\":\"white\"},\"title\":{\"x\":0.05},\"mapbox\":{\"style\":\"light\"}}},\"xaxis\":{\"anchor\":\"y\",\"domain\":[0.0,1.0],\"title\":{\"text\":\"Number of Substrate Categories\",\"font\":{\"family\":\"Arial Black\"}},\"tickfont\":{\"family\":\"Arial Black\"}},\"yaxis\":{\"anchor\":\"x\",\"domain\":[0.0,1.0],\"title\":{\"text\":\"Average Accuracy\",\"font\":{\"family\":\"Arial Black\"}},\"tickfont\":{\"family\":\"Arial Black\"}},\"legend\":{\"title\":{\"text\":\"Feature Extraction Method\"},\"tracegroupgap\":0},\"title\":{\"text\":\"PLot of Average Accuracy vs Number of substrate Categories\",\"font\":{\"family\":\"Arial Black\"}},\"font\":{\"family\":\"Arial Black\"}},                        {\"responsive\": true}                    ).then(function(){\n",
       "                            \n",
       "var gd = document.getElementById('c6da488b-1e8f-48b4-ac94-44f9eed52742');\n",
       "var x = new MutationObserver(function (mutations, observer) {{\n",
       "        var display = window.getComputedStyle(gd).display;\n",
       "        if (!display || display === 'none') {{\n",
       "            console.log([gd, 'removed!']);\n",
       "            Plotly.purge(gd);\n",
       "            observer.disconnect();\n",
       "        }}\n",
       "}});\n",
       "\n",
       "// Listen for the removal of the full notebook cells\n",
       "var notebookContainer = gd.closest('#notebook-container');\n",
       "if (notebookContainer) {{\n",
       "    x.observe(notebookContainer, {childList: true});\n",
       "}}\n",
       "\n",
       "// Listen for the clearing of the current output cell\n",
       "var outputEl = gd.closest('.output');\n",
       "if (outputEl) {{\n",
       "    x.observe(outputEl, {childList: true});\n",
       "}}\n",
       "\n",
       "                        })                };                });            </script>        </div>"
      ]
     },
     "metadata": {},
     "output_type": "display_data"
    }
   ],
   "source": [
    "fig = px.line(methods_and_k, x=\"num_substrates\", y=\"avg_accuracy\", color='feature_method', \n",
    "              markers=True, \n",
    "              title=\"PLot of Average Accuracy vs Number of substrate Categories\", \n",
    "             labels={\n",
    "                     \"num_substrates\": \"Number of Substrate Categories\",\n",
    "                     \"avg_accuracy\": \"Average Accuracy\",\n",
    "                     \"feature_method\": \"Feature Extraction Method\"\n",
    "                 })\n",
    "fig.update_traces(line=dict(width=4), marker=dict(size=8))\n",
    "fig.write_html(\"results_by_k_new_sup_new_unsup.html\")\n",
    "fig.update_yaxes(tickfont_family=\"Arial Black\", title_font_family=\"Arial Black\")\n",
    "fig.update_xaxes(tickfont_family=\"Arial Black\", title_font_family=\"Arial Black\")\n",
    "fig.update_layout(\n",
    "    font_family=\"Arial Black\",\n",
    "#     font_color=\"blue\",\n",
    "    title_font_family=\"Arial Black\")\n",
    "#     title_font_color=\"red\",\n",
    "#     legend_title_font_color=\"green\"\n",
    "fig.show()"
   ]
  },
  {
   "cell_type": "code",
   "execution_count": 45,
   "id": "2aa25076",
   "metadata": {},
   "outputs": [],
   "source": [
    "keep_the_best = methods_and_k.loc[methods_and_k.groupby('num_substrates')['avg_accuracy'].idxmax()]"
   ]
  },
  {
   "cell_type": "code",
   "execution_count": 49,
   "id": "11f423ae",
   "metadata": {},
   "outputs": [],
   "source": [
    "melt_best = keep_the_best.melt(id_vars=['num_substrates'], value_vars=['avg_accuracy', 'avg_classwise_acc', \"avg_precision\", \"avg_f1_score\"])"
   ]
  },
  {
   "cell_type": "code",
   "execution_count": 18,
   "id": "8f10f94f",
   "metadata": {},
   "outputs": [],
   "source": [
    "# melt_best = keep_the_best.melt(id_vars=['num_substrates'], value_vars=['avg_accuracy', 'avg_classwise_acc'])"
   ]
  },
  {
   "cell_type": "code",
   "execution_count": 50,
   "id": "7d390b51",
   "metadata": {},
   "outputs": [],
   "source": [
    "melt_best.columns = ['num_substrates', 'metric_name', 'metric_value']"
   ]
  },
  {
   "cell_type": "code",
   "execution_count": 52,
   "id": "355f8c5f",
   "metadata": {},
   "outputs": [
    {
     "data": {
      "image/png": "[encoded data removed]",
      "text/plain": [
       "<Figure size 720x360 with 1 Axes>"
      ]
     },
     "metadata": {
      "needs_background": "light"
     },
     "output_type": "display_data"
    }
   ],
   "source": [
    "plt.figure(figsize = (10,5))\n",
    "sns.lineplot(data=melt_best, x=\"num_substrates\", y=\"metric_value\", hue=\"metric_name\",  marker=\"o\")\n",
    "plt.title(\"Classification metrics for best model in each substrate category\", fontsize = 20 ,weight = \"bold\")\n",
    "plt.xlabel(\"Number of Substrates\",  weight = \"bold\", fontsize = 20)\n",
    "plt.ylabel(\"Metric Value\", weight = \"bold\", fontsize = 20)\n",
    "plt.xticks(range(5,15), weight = \"bold\", fontsize = 15)\n",
    "plt.yticks(weight = \"bold\", fontsize = 15, rotation = 0)\n",
    "plt.show()"
   ]
  },
  {
   "cell_type": "code",
   "execution_count": 46,
   "id": "6f39e2b8",
   "metadata": {},
   "outputs": [],
   "source": [
    "winners_podium = keep_the_best[\"feature_method\"].value_counts().reset_index()"
   ]
  },
  {
   "cell_type": "code",
   "execution_count": 47,
   "id": "a8af85b1",
   "metadata": {},
   "outputs": [],
   "source": [
    "winners_podium.columns = [\"Feature_Method\", \"Number_of_Times_Best\"]"
   ]
  },
  {
   "cell_type": "code",
   "execution_count": 48,
   "id": "59e3b483",
   "metadata": {},
   "outputs": [
    {
     "data": {
      "text/html": [
       "<div>\n",
       "<style scoped>\n",
       "    .dataframe tbody tr th:only-of-type {\n",
       "        vertical-align: middle;\n",
       "    }\n",
       "\n",
       "    .dataframe tbody tr th {\n",
       "        vertical-align: top;\n",
       "    }\n",
       "\n",
       "    .dataframe thead th {\n",
       "        text-align: right;\n",
       "    }\n",
       "</style>\n",
       "<table border=\"1\" class=\"dataframe\">\n",
       "  <thead>\n",
       "    <tr style=\"text-align: right;\">\n",
       "      <th></th>\n",
       "      <th>Feature_Method</th>\n",
       "      <th>Number_of_Times_Best</th>\n",
       "    </tr>\n",
       "  </thead>\n",
       "  <tbody>\n",
       "    <tr>\n",
       "      <th>0</th>\n",
       "      <td>just_attention</td>\n",
       "      <td>4</td>\n",
       "    </tr>\n",
       "    <tr>\n",
       "      <th>1</th>\n",
       "      <td>word2vec_sg</td>\n",
       "      <td>3</td>\n",
       "    </tr>\n",
       "    <tr>\n",
       "      <th>2</th>\n",
       "      <td>fasttext_cbow</td>\n",
       "      <td>3</td>\n",
       "    </tr>\n",
       "    <tr>\n",
       "      <th>3</th>\n",
       "      <td>lstm_with_attention</td>\n",
       "      <td>3</td>\n",
       "    </tr>\n",
       "    <tr>\n",
       "      <th>4</th>\n",
       "      <td>word2vec_cbow</td>\n",
       "      <td>1</td>\n",
       "    </tr>\n",
       "  </tbody>\n",
       "</table>\n",
       "</div>"
      ],
      "text/plain": [
       "        Feature_Method  Number_of_Times_Best\n",
       "0       just_attention                     4\n",
       "1          word2vec_sg                     3\n",
       "2        fasttext_cbow                     3\n",
       "3  lstm_with_attention                     3\n",
       "4        word2vec_cbow                     1"
      ]
     },
     "execution_count": 48,
     "metadata": {},
     "output_type": "execute_result"
    }
   ],
   "source": [
    "winners_podium"
   ]
  },
  {
   "cell_type": "code",
   "execution_count": 53,
   "id": "7f04f50a",
   "metadata": {},
   "outputs": [
    {
     "data": {
      "image/png": "[encoded data removed]",
      "text/plain": [
       "<Figure size 720x360 with 1 Axes>"
      ]
     },
     "metadata": {
      "needs_background": "light"
     },
     "output_type": "display_data"
    }
   ],
   "source": [
    "plt.figure(figsize = (10,5))\n",
    "sns.barplot(data=winners_podium, x=\"Feature_Method\", y=\"Number_of_Times_Best\")\n",
    "plt.title(\"Number of times best for each feature extraction method\", fontsize = 20 ,weight = \"bold\")\n",
    "plt.xlabel(\"Feature Extraction Method\",  weight = \"bold\", fontsize = 20)\n",
    "plt.ylabel(\"Number of Times Best\", weight = \"bold\", fontsize = 20)\n",
    "plt.yticks(range(0,5), weight = \"bold\", fontsize = 15)\n",
    "plt.xticks(weight = \"bold\", fontsize = 15, rotation = 90)\n",
    "plt.yticks(weight = \"bold\", fontsize = 15, rotation = 0)\n",
    "plt.show()"
   ]
  },
  {
   "cell_type": "code",
   "execution_count": 54,
   "id": "993556be",
   "metadata": {},
   "outputs": [],
   "source": [
    "K = 5\n",
    "known_unknown = True"
   ]
  },
  {
   "cell_type": "code",
   "execution_count": 55,
   "id": "879856ed",
   "metadata": {
    "scrolled": true
   },
   "outputs": [
    {
     "data": {
      "application/vnd.jupyter.widget-view+json": {
       "model_id": "f8b5b3940b9148c0a2360f2a6d28c3f0",
       "version_major": 2,
       "version_minor": 0
      },
      "text/plain": [
       "  0%|          | 0/15 [00:00<?, ?it/s]"
      ]
     },
     "metadata": {},
     "output_type": "display_data"
    },
    {
     "name": "stdout",
     "output_type": "stream",
     "text": [
      "Currently running for featurizer word2vec_sg with 2 number of classes.\n"
     ]
    },
    {
     "name": "stderr",
     "output_type": "stream",
     "text": [
      "D:\\subFinder\\Codes\\Supervised_Trainer.py:41: SettingWithCopyWarning:\n",
      "\n",
      "\n",
      "A value is trying to be set on a copy of a slice from a DataFrame.\n",
      "Try using .loc[row_indexer,col_indexer] = value instead\n",
      "\n",
      "See the caveats in the documentation: https://pandas.pydata.org/pandas-docs/stable/user_guide/indexing.html#returning-a-view-versus-a-copy\n",
      "\n"
     ]
    },
    {
     "name": "stdout",
     "output_type": "stream",
     "text": [
      "Currently running for featurizer word2vec_sg with 3 number of classes.\n"
     ]
    },
    {
     "name": "stderr",
     "output_type": "stream",
     "text": [
      "D:\\subFinder\\Codes\\Supervised_Trainer.py:41: SettingWithCopyWarning:\n",
      "\n",
      "\n",
      "A value is trying to be set on a copy of a slice from a DataFrame.\n",
      "Try using .loc[row_indexer,col_indexer] = value instead\n",
      "\n",
      "See the caveats in the documentation: https://pandas.pydata.org/pandas-docs/stable/user_guide/indexing.html#returning-a-view-versus-a-copy\n",
      "\n"
     ]
    },
    {
     "name": "stdout",
     "output_type": "stream",
     "text": [
      "Currently running for featurizer word2vec_sg with 4 number of classes.\n"
     ]
    },
    {
     "name": "stderr",
     "output_type": "stream",
     "text": [
      "D:\\subFinder\\Codes\\Supervised_Trainer.py:41: SettingWithCopyWarning:\n",
      "\n",
      "\n",
      "A value is trying to be set on a copy of a slice from a DataFrame.\n",
      "Try using .loc[row_indexer,col_indexer] = value instead\n",
      "\n",
      "See the caveats in the documentation: https://pandas.pydata.org/pandas-docs/stable/user_guide/indexing.html#returning-a-view-versus-a-copy\n",
      "\n"
     ]
    },
    {
     "name": "stdout",
     "output_type": "stream",
     "text": [
      "Currently running for featurizer word2vec_sg with 5 number of classes.\n"
     ]
    },
    {
     "name": "stderr",
     "output_type": "stream",
     "text": [
      "D:\\subFinder\\Codes\\Supervised_Trainer.py:41: SettingWithCopyWarning:\n",
      "\n",
      "\n",
      "A value is trying to be set on a copy of a slice from a DataFrame.\n",
      "Try using .loc[row_indexer,col_indexer] = value instead\n",
      "\n",
      "See the caveats in the documentation: https://pandas.pydata.org/pandas-docs/stable/user_guide/indexing.html#returning-a-view-versus-a-copy\n",
      "\n"
     ]
    },
    {
     "name": "stdout",
     "output_type": "stream",
     "text": [
      "Currently running for featurizer word2vec_sg with 6 number of classes.\n"
     ]
    },
    {
     "name": "stderr",
     "output_type": "stream",
     "text": [
      "D:\\subFinder\\Codes\\Supervised_Trainer.py:41: SettingWithCopyWarning:\n",
      "\n",
      "\n",
      "A value is trying to be set on a copy of a slice from a DataFrame.\n",
      "Try using .loc[row_indexer,col_indexer] = value instead\n",
      "\n",
      "See the caveats in the documentation: https://pandas.pydata.org/pandas-docs/stable/user_guide/indexing.html#returning-a-view-versus-a-copy\n",
      "\n"
     ]
    },
    {
     "name": "stdout",
     "output_type": "stream",
     "text": [
      "Currently running for featurizer word2vec_sg with 7 number of classes.\n"
     ]
    },
    {
     "name": "stderr",
     "output_type": "stream",
     "text": [
      "D:\\subFinder\\Codes\\Supervised_Trainer.py:41: SettingWithCopyWarning:\n",
      "\n",
      "\n",
      "A value is trying to be set on a copy of a slice from a DataFrame.\n",
      "Try using .loc[row_indexer,col_indexer] = value instead\n",
      "\n",
      "See the caveats in the documentation: https://pandas.pydata.org/pandas-docs/stable/user_guide/indexing.html#returning-a-view-versus-a-copy\n",
      "\n"
     ]
    },
    {
     "name": "stdout",
     "output_type": "stream",
     "text": [
      "Currently running for featurizer word2vec_sg with 8 number of classes.\n"
     ]
    },
    {
     "name": "stderr",
     "output_type": "stream",
     "text": [
      "D:\\subFinder\\Codes\\Supervised_Trainer.py:41: SettingWithCopyWarning:\n",
      "\n",
      "\n",
      "A value is trying to be set on a copy of a slice from a DataFrame.\n",
      "Try using .loc[row_indexer,col_indexer] = value instead\n",
      "\n",
      "See the caveats in the documentation: https://pandas.pydata.org/pandas-docs/stable/user_guide/indexing.html#returning-a-view-versus-a-copy\n",
      "\n"
     ]
    },
    {
     "name": "stdout",
     "output_type": "stream",
     "text": [
      "Currently running for featurizer word2vec_sg with 9 number of classes.\n"
     ]
    },
    {
     "name": "stderr",
     "output_type": "stream",
     "text": [
      "D:\\subFinder\\Codes\\Supervised_Trainer.py:41: SettingWithCopyWarning:\n",
      "\n",
      "\n",
      "A value is trying to be set on a copy of a slice from a DataFrame.\n",
      "Try using .loc[row_indexer,col_indexer] = value instead\n",
      "\n",
      "See the caveats in the documentation: https://pandas.pydata.org/pandas-docs/stable/user_guide/indexing.html#returning-a-view-versus-a-copy\n",
      "\n"
     ]
    },
    {
     "name": "stdout",
     "output_type": "stream",
     "text": [
      "Currently running for featurizer word2vec_sg with 10 number of classes.\n"
     ]
    },
    {
     "name": "stderr",
     "output_type": "stream",
     "text": [
      "D:\\subFinder\\Codes\\Supervised_Trainer.py:41: SettingWithCopyWarning:\n",
      "\n",
      "\n",
      "A value is trying to be set on a copy of a slice from a DataFrame.\n",
      "Try using .loc[row_indexer,col_indexer] = value instead\n",
      "\n",
      "See the caveats in the documentation: https://pandas.pydata.org/pandas-docs/stable/user_guide/indexing.html#returning-a-view-versus-a-copy\n",
      "\n"
     ]
    },
    {
     "name": "stdout",
     "output_type": "stream",
     "text": [
      "Currently running for featurizer word2vec_sg with 11 number of classes.\n"
     ]
    },
    {
     "name": "stderr",
     "output_type": "stream",
     "text": [
      "D:\\subFinder\\Codes\\Supervised_Trainer.py:41: SettingWithCopyWarning:\n",
      "\n",
      "\n",
      "A value is trying to be set on a copy of a slice from a DataFrame.\n",
      "Try using .loc[row_indexer,col_indexer] = value instead\n",
      "\n",
      "See the caveats in the documentation: https://pandas.pydata.org/pandas-docs/stable/user_guide/indexing.html#returning-a-view-versus-a-copy\n",
      "\n"
     ]
    },
    {
     "name": "stdout",
     "output_type": "stream",
     "text": [
      "Currently running for featurizer word2vec_sg with 12 number of classes.\n"
     ]
    },
    {
     "name": "stderr",
     "output_type": "stream",
     "text": [
      "D:\\subFinder\\Codes\\Supervised_Trainer.py:41: SettingWithCopyWarning:\n",
      "\n",
      "\n",
      "A value is trying to be set on a copy of a slice from a DataFrame.\n",
      "Try using .loc[row_indexer,col_indexer] = value instead\n",
      "\n",
      "See the caveats in the documentation: https://pandas.pydata.org/pandas-docs/stable/user_guide/indexing.html#returning-a-view-versus-a-copy\n",
      "\n",
      "C:\\Users\\vedpi\\.conda\\envs\\newone1\\lib\\site-packages\\sklearn\\metrics\\_classification.py:1327: UndefinedMetricWarning:\n",
      "\n",
      "Precision and F-score are ill-defined and being set to 0.0 in labels with no predicted samples. Use `zero_division` parameter to control this behavior.\n",
      "\n",
      "C:\\Users\\vedpi\\.conda\\envs\\newone1\\lib\\site-packages\\sklearn\\metrics\\_classification.py:1327: UndefinedMetricWarning:\n",
      "\n",
      "Precision and F-score are ill-defined and being set to 0.0 in labels with no predicted samples. Use `zero_division` parameter to control this behavior.\n",
      "\n",
      "C:\\Users\\vedpi\\.conda\\envs\\newone1\\lib\\site-packages\\sklearn\\metrics\\_classification.py:1327: UndefinedMetricWarning:\n",
      "\n",
      "Precision and F-score are ill-defined and being set to 0.0 in labels with no predicted samples. Use `zero_division` parameter to control this behavior.\n",
      "\n"
     ]
    },
    {
     "name": "stdout",
     "output_type": "stream",
     "text": [
      "Currently running for featurizer word2vec_sg with 13 number of classes.\n"
     ]
    },
    {
     "name": "stderr",
     "output_type": "stream",
     "text": [
      "D:\\subFinder\\Codes\\Supervised_Trainer.py:41: SettingWithCopyWarning:\n",
      "\n",
      "\n",
      "A value is trying to be set on a copy of a slice from a DataFrame.\n",
      "Try using .loc[row_indexer,col_indexer] = value instead\n",
      "\n",
      "See the caveats in the documentation: https://pandas.pydata.org/pandas-docs/stable/user_guide/indexing.html#returning-a-view-versus-a-copy\n",
      "\n"
     ]
    },
    {
     "name": "stdout",
     "output_type": "stream",
     "text": [
      "Currently running for featurizer word2vec_sg with 14 number of classes.\n"
     ]
    },
    {
     "name": "stderr",
     "output_type": "stream",
     "text": [
      "D:\\subFinder\\Codes\\Supervised_Trainer.py:41: SettingWithCopyWarning:\n",
      "\n",
      "\n",
      "A value is trying to be set on a copy of a slice from a DataFrame.\n",
      "Try using .loc[row_indexer,col_indexer] = value instead\n",
      "\n",
      "See the caveats in the documentation: https://pandas.pydata.org/pandas-docs/stable/user_guide/indexing.html#returning-a-view-versus-a-copy\n",
      "\n",
      "C:\\Users\\vedpi\\.conda\\envs\\newone1\\lib\\site-packages\\sklearn\\metrics\\_classification.py:1327: UndefinedMetricWarning:\n",
      "\n",
      "Precision and F-score are ill-defined and being set to 0.0 in labels with no predicted samples. Use `zero_division` parameter to control this behavior.\n",
      "\n",
      "C:\\Users\\vedpi\\.conda\\envs\\newone1\\lib\\site-packages\\sklearn\\metrics\\_classification.py:1327: UndefinedMetricWarning:\n",
      "\n",
      "Precision and F-score are ill-defined and being set to 0.0 in labels with no predicted samples. Use `zero_division` parameter to control this behavior.\n",
      "\n",
      "C:\\Users\\vedpi\\.conda\\envs\\newone1\\lib\\site-packages\\sklearn\\metrics\\_classification.py:1327: UndefinedMetricWarning:\n",
      "\n",
      "Precision and F-score are ill-defined and being set to 0.0 in labels with no predicted samples. Use `zero_division` parameter to control this behavior.\n",
      "\n",
      "C:\\Users\\vedpi\\.conda\\envs\\newone1\\lib\\site-packages\\sklearn\\metrics\\_classification.py:1327: UndefinedMetricWarning:\n",
      "\n",
      "Precision and F-score are ill-defined and being set to 0.0 in labels with no predicted samples. Use `zero_division` parameter to control this behavior.\n",
      "\n",
      "C:\\Users\\vedpi\\.conda\\envs\\newone1\\lib\\site-packages\\sklearn\\metrics\\_classification.py:1327: UndefinedMetricWarning:\n",
      "\n",
      "Precision and F-score are ill-defined and being set to 0.0 in labels with no predicted samples. Use `zero_division` parameter to control this behavior.\n",
      "\n",
      "C:\\Users\\vedpi\\.conda\\envs\\newone1\\lib\\site-packages\\sklearn\\metrics\\_classification.py:1327: UndefinedMetricWarning:\n",
      "\n",
      "Precision and F-score are ill-defined and being set to 0.0 in labels with no predicted samples. Use `zero_division` parameter to control this behavior.\n",
      "\n"
     ]
    },
    {
     "name": "stdout",
     "output_type": "stream",
     "text": [
      "Currently running for featurizer word2vec_sg with 15 number of classes.\n"
     ]
    },
    {
     "name": "stderr",
     "output_type": "stream",
     "text": [
      "D:\\subFinder\\Codes\\Supervised_Trainer.py:41: SettingWithCopyWarning:\n",
      "\n",
      "\n",
      "A value is trying to be set on a copy of a slice from a DataFrame.\n",
      "Try using .loc[row_indexer,col_indexer] = value instead\n",
      "\n",
      "See the caveats in the documentation: https://pandas.pydata.org/pandas-docs/stable/user_guide/indexing.html#returning-a-view-versus-a-copy\n",
      "\n",
      "C:\\Users\\vedpi\\.conda\\envs\\newone1\\lib\\site-packages\\sklearn\\metrics\\_classification.py:1327: UndefinedMetricWarning:\n",
      "\n",
      "Precision and F-score are ill-defined and being set to 0.0 in labels with no predicted samples. Use `zero_division` parameter to control this behavior.\n",
      "\n",
      "C:\\Users\\vedpi\\.conda\\envs\\newone1\\lib\\site-packages\\sklearn\\metrics\\_classification.py:1327: UndefinedMetricWarning:\n",
      "\n",
      "Precision and F-score are ill-defined and being set to 0.0 in labels with no predicted samples. Use `zero_division` parameter to control this behavior.\n",
      "\n",
      "C:\\Users\\vedpi\\.conda\\envs\\newone1\\lib\\site-packages\\sklearn\\metrics\\_classification.py:1327: UndefinedMetricWarning:\n",
      "\n",
      "Precision and F-score are ill-defined and being set to 0.0 in labels with no predicted samples. Use `zero_division` parameter to control this behavior.\n",
      "\n",
      "C:\\Users\\vedpi\\.conda\\envs\\newone1\\lib\\site-packages\\sklearn\\metrics\\_classification.py:1327: UndefinedMetricWarning:\n",
      "\n",
      "Precision and F-score are ill-defined and being set to 0.0 in labels with no predicted samples. Use `zero_division` parameter to control this behavior.\n",
      "\n",
      "C:\\Users\\vedpi\\.conda\\envs\\newone1\\lib\\site-packages\\sklearn\\metrics\\_classification.py:1327: UndefinedMetricWarning:\n",
      "\n",
      "Precision and F-score are ill-defined and being set to 0.0 in labels with no predicted samples. Use `zero_division` parameter to control this behavior.\n",
      "\n",
      "C:\\Users\\vedpi\\.conda\\envs\\newone1\\lib\\site-packages\\sklearn\\metrics\\_classification.py:1327: UndefinedMetricWarning:\n",
      "\n",
      "Precision and F-score are ill-defined and being set to 0.0 in labels with no predicted samples. Use `zero_division` parameter to control this behavior.\n",
      "\n",
      "C:\\Users\\vedpi\\.conda\\envs\\newone1\\lib\\site-packages\\sklearn\\metrics\\_classification.py:1327: UndefinedMetricWarning:\n",
      "\n",
      "Precision and F-score are ill-defined and being set to 0.0 in labels with no predicted samples. Use `zero_division` parameter to control this behavior.\n",
      "\n",
      "C:\\Users\\vedpi\\.conda\\envs\\newone1\\lib\\site-packages\\sklearn\\metrics\\_classification.py:1327: UndefinedMetricWarning:\n",
      "\n",
      "Precision and F-score are ill-defined and being set to 0.0 in labels with no predicted samples. Use `zero_division` parameter to control this behavior.\n",
      "\n",
      "C:\\Users\\vedpi\\.conda\\envs\\newone1\\lib\\site-packages\\sklearn\\metrics\\_classification.py:1327: UndefinedMetricWarning:\n",
      "\n",
      "Precision and F-score are ill-defined and being set to 0.0 in labels with no predicted samples. Use `zero_division` parameter to control this behavior.\n",
      "\n",
      "C:\\Users\\vedpi\\.conda\\envs\\newone1\\lib\\site-packages\\sklearn\\metrics\\_classification.py:1327: UndefinedMetricWarning:\n",
      "\n",
      "Precision and F-score are ill-defined and being set to 0.0 in labels with no predicted samples. Use `zero_division` parameter to control this behavior.\n",
      "\n",
      "C:\\Users\\vedpi\\.conda\\envs\\newone1\\lib\\site-packages\\sklearn\\metrics\\_classification.py:1327: UndefinedMetricWarning:\n",
      "\n",
      "Precision and F-score are ill-defined and being set to 0.0 in labels with no predicted samples. Use `zero_division` parameter to control this behavior.\n",
      "\n",
      "C:\\Users\\vedpi\\.conda\\envs\\newone1\\lib\\site-packages\\sklearn\\metrics\\_classification.py:1327: UndefinedMetricWarning:\n",
      "\n",
      "Precision and F-score are ill-defined and being set to 0.0 in labels with no predicted samples. Use `zero_division` parameter to control this behavior.\n",
      "\n"
     ]
    },
    {
     "name": "stdout",
     "output_type": "stream",
     "text": [
      "Currently running for featurizer word2vec_sg with 16 number of classes.\n"
     ]
    },
    {
     "name": "stderr",
     "output_type": "stream",
     "text": [
      "D:\\subFinder\\Codes\\Supervised_Trainer.py:41: SettingWithCopyWarning:\n",
      "\n",
      "\n",
      "A value is trying to be set on a copy of a slice from a DataFrame.\n",
      "Try using .loc[row_indexer,col_indexer] = value instead\n",
      "\n",
      "See the caveats in the documentation: https://pandas.pydata.org/pandas-docs/stable/user_guide/indexing.html#returning-a-view-versus-a-copy\n",
      "\n",
      "C:\\Users\\vedpi\\.conda\\envs\\newone1\\lib\\site-packages\\sklearn\\metrics\\_classification.py:1327: UndefinedMetricWarning:\n",
      "\n",
      "Precision and F-score are ill-defined and being set to 0.0 in labels with no predicted samples. Use `zero_division` parameter to control this behavior.\n",
      "\n",
      "C:\\Users\\vedpi\\.conda\\envs\\newone1\\lib\\site-packages\\sklearn\\metrics\\_classification.py:1327: UndefinedMetricWarning:\n",
      "\n",
      "Precision and F-score are ill-defined and being set to 0.0 in labels with no predicted samples. Use `zero_division` parameter to control this behavior.\n",
      "\n",
      "C:\\Users\\vedpi\\.conda\\envs\\newone1\\lib\\site-packages\\sklearn\\metrics\\_classification.py:1327: UndefinedMetricWarning:\n",
      "\n",
      "Precision and F-score are ill-defined and being set to 0.0 in labels with no predicted samples. Use `zero_division` parameter to control this behavior.\n",
      "\n",
      "C:\\Users\\vedpi\\.conda\\envs\\newone1\\lib\\site-packages\\sklearn\\metrics\\_classification.py:1327: UndefinedMetricWarning:\n",
      "\n",
      "Precision and F-score are ill-defined and being set to 0.0 in labels with no predicted samples. Use `zero_division` parameter to control this behavior.\n",
      "\n",
      "C:\\Users\\vedpi\\.conda\\envs\\newone1\\lib\\site-packages\\sklearn\\metrics\\_classification.py:1327: UndefinedMetricWarning:\n",
      "\n",
      "Precision and F-score are ill-defined and being set to 0.0 in labels with no predicted samples. Use `zero_division` parameter to control this behavior.\n",
      "\n",
      "C:\\Users\\vedpi\\.conda\\envs\\newone1\\lib\\site-packages\\sklearn\\metrics\\_classification.py:1327: UndefinedMetricWarning:\n",
      "\n",
      "Precision and F-score are ill-defined and being set to 0.0 in labels with no predicted samples. Use `zero_division` parameter to control this behavior.\n",
      "\n"
     ]
    }
   ],
   "source": [
    "overall_catch_word2vec_sg = []\n",
    "for top_k in tqdm(range(2,17)):\n",
    "    for featurizer in [ \"word2vec_sg\"]:\n",
    "        print(\"Currently running for featurizer \"+ featurizer + \" with \" + str(top_k) + \" number of classes.\")\n",
    "        if featurizer == \"countvectorizer\":\n",
    "            avg_acc, avg_class_acc, std_err_avg_acc, std_err_avg_classwise_acc, overall_report,  model, params_best, fig, fig2, fig3 = run_end_to_end(top_k, data, featurizer, K, known_unknown, None)\n",
    "        elif featurizer == \"doc2vec_dbow\":\n",
    "            avg_acc, avg_class_acc, std_err_avg_acc, std_err_avg_classwise_acc, overall_report,  model, params_best, fig, fig2, fig3 = run_end_to_end(top_k, data, featurizer, K, known_unknown, model_dbow)\n",
    "        elif featurizer == \"doc2vec_dm\":\n",
    "            avg_acc, avg_class_acc, std_err_avg_acc, std_err_avg_classwise_acc, overall_report,  model, params_best, fig, fig2, fig3 = run_end_to_end(top_k, data, featurizer, K, known_unknown, model_dm)\n",
    "        elif featurizer == \"word2vec_cbow\":\n",
    "            avg_acc, avg_class_acc, std_err_avg_acc, std_err_avg_classwise_acc, overall_report,  model, params_best, fig, fig2, fig3 = run_end_to_end(top_k, data, featurizer, K, known_unknown, model_cbow)            \n",
    "        elif featurizer == \"word2vec_sg\":\n",
    "            avg_acc, avg_class_acc, std_err_avg_acc, std_err_avg_classwise_acc, overall_report,  model, params_best, fig, fig2, fig3 = run_end_to_end(top_k, data, featurizer, K, known_unknown, model_sg)\n",
    "        elif featurizer == \"fasttext_sg\":\n",
    "            avg_acc, avg_class_acc, std_err_avg_acc, std_err_avg_classwise_acc, overall_report,  model, params_best, fig, fig2, fig3 = run_end_to_end(top_k, data, featurizer, K, known_unknown, model_fasttext_sg)      \n",
    "        elif featurizer == \"fasttext_cbow\":\n",
    "            avg_acc, avg_class_acc, std_err_avg_acc, std_err_avg_classwise_acc, overall_report,  model, params_best, fig, fig2, fig3 = run_end_to_end(top_k, data, featurizer, K, known_unknown, model_fasttext_cbow)  \n",
    "            \n",
    "        elif featurizer == \"lstm_with_attention\": \n",
    "            avg_acc, avg_class_acc, std_err_avg_acc, std_err_avg_classwise_acc, overall_report,  model, params_best, fig, fig2, fig3 = run_end_to_end(top_k, data, featurizer, K, known_unknown, model_sg)\n",
    "        \n",
    "        elif featurizer == \"just_attention\": \n",
    "            avg_acc, avg_class_acc, std_err_avg_acc, std_err_avg_classwise_acc, overall_report,  model, params_best, fig, fig2, fig3 = run_end_to_end(top_k, data, featurizer, K, known_unknown, model_sg)        \n",
    "        \n",
    "        elif featurizer == \"vanilla_lstm\": \n",
    "            avg_acc, avg_class_acc, std_err_avg_acc, std_err_avg_classwise_acc, overall_report,  model, params_best, fig, fig2, fig3 = run_end_to_end(top_k, data, featurizer, K, known_unknown, model_sg)        \n",
    "        \n",
    "        else:\n",
    "            pass\n",
    "        \n",
    "        overall_catch_word2vec_sg.append([top_k, featurizer, avg_acc, avg_class_acc, std_err_avg_acc, std_err_avg_classwise_acc, \n",
    "                             overall_report[\"precision\"], overall_report[\"recall\"], overall_report[\"f1-score\"]])\n",
    "        \n",
    "        plt.close('all')"
   ]
  },
  {
   "cell_type": "code",
   "execution_count": 75,
   "id": "1f795f76",
   "metadata": {},
   "outputs": [],
   "source": [
    "overall_catch_word2vec_sg = pd.read_csv(r\"Data\\Output\\Experiments\\results_by_k_new_sup_new_unsup_for_word2vec_sg_with_others.csv\")"
   ]
  },
  {
   "cell_type": "code",
   "execution_count": 76,
   "id": "3780dda4",
   "metadata": {},
   "outputs": [],
   "source": [
    "overall_catch_word2vec_sg = pd.DataFrame(overall_catch_word2vec_sg)"
   ]
  },
  {
   "cell_type": "code",
   "execution_count": 77,
   "id": "ef195019",
   "metadata": {},
   "outputs": [],
   "source": [
    "overall_catch_word2vec_sg.columns = [\"num_substrates\", \"feature_method\", \"avg_accuracy\", \"avg_classwise_acc\",\n",
    "                         \"std_err_avg_acc\", \"std_err_avg_classwise_acc\", \"avg_precision\", \"avg_recall\", \"avg_f1_score\"]"
   ]
  },
  {
   "cell_type": "code",
   "execution_count": 78,
   "id": "98e913c5",
   "metadata": {},
   "outputs": [],
   "source": [
    "overall_catch_word2vec_sg[\"with_Others\"] = \"Yes\""
   ]
  },
  {
   "cell_type": "code",
   "execution_count": 59,
   "id": "84ee1fd6",
   "metadata": {},
   "outputs": [],
   "source": [
    "# overall_catch_word2vec_sg.to_csv(r\"Data\\Output\\Experiments\\results_by_k_new_sup_new_unsup_for_word2vec_sg_with_others.csv\", index = False)"
   ]
  },
  {
   "cell_type": "code",
   "execution_count": 65,
   "id": "22dfb9a5",
   "metadata": {},
   "outputs": [],
   "source": [
    "K = 5\n",
    "known_unknown = False"
   ]
  },
  {
   "cell_type": "code",
   "execution_count": 67,
   "id": "bfcfc01c",
   "metadata": {
    "scrolled": true
   },
   "outputs": [
    {
     "data": {
      "application/vnd.jupyter.widget-view+json": {
       "model_id": "3ff977a2978147e9b7110ac597bbdaa0",
       "version_major": 2,
       "version_minor": 0
      },
      "text/plain": [
       "  0%|          | 0/15 [00:00<?, ?it/s]"
      ]
     },
     "metadata": {},
     "output_type": "display_data"
    },
    {
     "name": "stdout",
     "output_type": "stream",
     "text": [
      "Currently running for featurizer word2vec_sg with 2 number of classes.\n",
      "Currently running for featurizer word2vec_sg with 3 number of classes.\n",
      "Currently running for featurizer word2vec_sg with 4 number of classes.\n",
      "Currently running for featurizer word2vec_sg with 5 number of classes.\n",
      "Currently running for featurizer word2vec_sg with 6 number of classes.\n",
      "Currently running for featurizer word2vec_sg with 7 number of classes.\n",
      "Currently running for featurizer word2vec_sg with 8 number of classes.\n",
      "Currently running for featurizer word2vec_sg with 9 number of classes.\n",
      "Currently running for featurizer word2vec_sg with 10 number of classes.\n",
      "Currently running for featurizer word2vec_sg with 11 number of classes.\n",
      "Currently running for featurizer word2vec_sg with 12 number of classes.\n"
     ]
    },
    {
     "name": "stderr",
     "output_type": "stream",
     "text": [
      "C:\\Users\\vedpi\\.conda\\envs\\newone1\\lib\\site-packages\\sklearn\\metrics\\_classification.py:1327: UndefinedMetricWarning:\n",
      "\n",
      "Precision and F-score are ill-defined and being set to 0.0 in labels with no predicted samples. Use `zero_division` parameter to control this behavior.\n",
      "\n",
      "C:\\Users\\vedpi\\.conda\\envs\\newone1\\lib\\site-packages\\sklearn\\metrics\\_classification.py:1327: UndefinedMetricWarning:\n",
      "\n",
      "Precision and F-score are ill-defined and being set to 0.0 in labels with no predicted samples. Use `zero_division` parameter to control this behavior.\n",
      "\n",
      "C:\\Users\\vedpi\\.conda\\envs\\newone1\\lib\\site-packages\\sklearn\\metrics\\_classification.py:1327: UndefinedMetricWarning:\n",
      "\n",
      "Precision and F-score are ill-defined and being set to 0.0 in labels with no predicted samples. Use `zero_division` parameter to control this behavior.\n",
      "\n"
     ]
    },
    {
     "name": "stdout",
     "output_type": "stream",
     "text": [
      "Currently running for featurizer word2vec_sg with 13 number of classes.\n"
     ]
    },
    {
     "name": "stderr",
     "output_type": "stream",
     "text": [
      "C:\\Users\\vedpi\\.conda\\envs\\newone1\\lib\\site-packages\\sklearn\\metrics\\_classification.py:1327: UndefinedMetricWarning:\n",
      "\n",
      "Precision and F-score are ill-defined and being set to 0.0 in labels with no predicted samples. Use `zero_division` parameter to control this behavior.\n",
      "\n",
      "C:\\Users\\vedpi\\.conda\\envs\\newone1\\lib\\site-packages\\sklearn\\metrics\\_classification.py:1327: UndefinedMetricWarning:\n",
      "\n",
      "Precision and F-score are ill-defined and being set to 0.0 in labels with no predicted samples. Use `zero_division` parameter to control this behavior.\n",
      "\n",
      "C:\\Users\\vedpi\\.conda\\envs\\newone1\\lib\\site-packages\\sklearn\\metrics\\_classification.py:1327: UndefinedMetricWarning:\n",
      "\n",
      "Precision and F-score are ill-defined and being set to 0.0 in labels with no predicted samples. Use `zero_division` parameter to control this behavior.\n",
      "\n"
     ]
    },
    {
     "name": "stdout",
     "output_type": "stream",
     "text": [
      "Currently running for featurizer word2vec_sg with 14 number of classes.\n"
     ]
    },
    {
     "name": "stderr",
     "output_type": "stream",
     "text": [
      "C:\\Users\\vedpi\\.conda\\envs\\newone1\\lib\\site-packages\\sklearn\\metrics\\_classification.py:1327: UndefinedMetricWarning:\n",
      "\n",
      "Precision and F-score are ill-defined and being set to 0.0 in labels with no predicted samples. Use `zero_division` parameter to control this behavior.\n",
      "\n",
      "C:\\Users\\vedpi\\.conda\\envs\\newone1\\lib\\site-packages\\sklearn\\metrics\\_classification.py:1327: UndefinedMetricWarning:\n",
      "\n",
      "Precision and F-score are ill-defined and being set to 0.0 in labels with no predicted samples. Use `zero_division` parameter to control this behavior.\n",
      "\n",
      "C:\\Users\\vedpi\\.conda\\envs\\newone1\\lib\\site-packages\\sklearn\\metrics\\_classification.py:1327: UndefinedMetricWarning:\n",
      "\n",
      "Precision and F-score are ill-defined and being set to 0.0 in labels with no predicted samples. Use `zero_division` parameter to control this behavior.\n",
      "\n",
      "C:\\Users\\vedpi\\.conda\\envs\\newone1\\lib\\site-packages\\sklearn\\metrics\\_classification.py:1327: UndefinedMetricWarning:\n",
      "\n",
      "Precision and F-score are ill-defined and being set to 0.0 in labels with no predicted samples. Use `zero_division` parameter to control this behavior.\n",
      "\n",
      "C:\\Users\\vedpi\\.conda\\envs\\newone1\\lib\\site-packages\\sklearn\\metrics\\_classification.py:1327: UndefinedMetricWarning:\n",
      "\n",
      "Precision and F-score are ill-defined and being set to 0.0 in labels with no predicted samples. Use `zero_division` parameter to control this behavior.\n",
      "\n",
      "C:\\Users\\vedpi\\.conda\\envs\\newone1\\lib\\site-packages\\sklearn\\metrics\\_classification.py:1327: UndefinedMetricWarning:\n",
      "\n",
      "Precision and F-score are ill-defined and being set to 0.0 in labels with no predicted samples. Use `zero_division` parameter to control this behavior.\n",
      "\n"
     ]
    },
    {
     "name": "stdout",
     "output_type": "stream",
     "text": [
      "Currently running for featurizer word2vec_sg with 15 number of classes.\n"
     ]
    },
    {
     "name": "stderr",
     "output_type": "stream",
     "text": [
      "C:\\Users\\vedpi\\.conda\\envs\\newone1\\lib\\site-packages\\sklearn\\metrics\\_classification.py:1327: UndefinedMetricWarning:\n",
      "\n",
      "Precision and F-score are ill-defined and being set to 0.0 in labels with no predicted samples. Use `zero_division` parameter to control this behavior.\n",
      "\n",
      "C:\\Users\\vedpi\\.conda\\envs\\newone1\\lib\\site-packages\\sklearn\\metrics\\_classification.py:1327: UndefinedMetricWarning:\n",
      "\n",
      "Precision and F-score are ill-defined and being set to 0.0 in labels with no predicted samples. Use `zero_division` parameter to control this behavior.\n",
      "\n",
      "C:\\Users\\vedpi\\.conda\\envs\\newone1\\lib\\site-packages\\sklearn\\metrics\\_classification.py:1327: UndefinedMetricWarning:\n",
      "\n",
      "Precision and F-score are ill-defined and being set to 0.0 in labels with no predicted samples. Use `zero_division` parameter to control this behavior.\n",
      "\n"
     ]
    },
    {
     "name": "stdout",
     "output_type": "stream",
     "text": [
      "Currently running for featurizer word2vec_sg with 16 number of classes.\n"
     ]
    },
    {
     "name": "stderr",
     "output_type": "stream",
     "text": [
      "C:\\Users\\vedpi\\.conda\\envs\\newone1\\lib\\site-packages\\sklearn\\metrics\\_classification.py:1327: UndefinedMetricWarning:\n",
      "\n",
      "Precision and F-score are ill-defined and being set to 0.0 in labels with no predicted samples. Use `zero_division` parameter to control this behavior.\n",
      "\n",
      "C:\\Users\\vedpi\\.conda\\envs\\newone1\\lib\\site-packages\\sklearn\\metrics\\_classification.py:1327: UndefinedMetricWarning:\n",
      "\n",
      "Precision and F-score are ill-defined and being set to 0.0 in labels with no predicted samples. Use `zero_division` parameter to control this behavior.\n",
      "\n",
      "C:\\Users\\vedpi\\.conda\\envs\\newone1\\lib\\site-packages\\sklearn\\metrics\\_classification.py:1327: UndefinedMetricWarning:\n",
      "\n",
      "Precision and F-score are ill-defined and being set to 0.0 in labels with no predicted samples. Use `zero_division` parameter to control this behavior.\n",
      "\n",
      "C:\\Users\\vedpi\\.conda\\envs\\newone1\\lib\\site-packages\\sklearn\\metrics\\_classification.py:1327: UndefinedMetricWarning:\n",
      "\n",
      "Precision and F-score are ill-defined and being set to 0.0 in labels with no predicted samples. Use `zero_division` parameter to control this behavior.\n",
      "\n",
      "C:\\Users\\vedpi\\.conda\\envs\\newone1\\lib\\site-packages\\sklearn\\metrics\\_classification.py:1327: UndefinedMetricWarning:\n",
      "\n",
      "Precision and F-score are ill-defined and being set to 0.0 in labels with no predicted samples. Use `zero_division` parameter to control this behavior.\n",
      "\n",
      "C:\\Users\\vedpi\\.conda\\envs\\newone1\\lib\\site-packages\\sklearn\\metrics\\_classification.py:1327: UndefinedMetricWarning:\n",
      "\n",
      "Precision and F-score are ill-defined and being set to 0.0 in labels with no predicted samples. Use `zero_division` parameter to control this behavior.\n",
      "\n"
     ]
    }
   ],
   "source": [
    "overall_catch_word2vec_sg_known = []\n",
    "for top_k in tqdm(range(2,17)):\n",
    "    for featurizer in [ \"word2vec_sg\"]:\n",
    "        print(\"Currently running for featurizer \"+ featurizer + \" with \" + str(top_k) + \" number of classes.\")\n",
    "        if featurizer == \"countvectorizer\":\n",
    "            avg_acc, avg_class_acc, std_err_avg_acc, std_err_avg_classwise_acc, overall_report,  model, params_best, fig, fig2, fig3 = run_end_to_end(top_k, data, featurizer, K, known_unknown, None)\n",
    "        elif featurizer == \"doc2vec_dbow\":\n",
    "            avg_acc, avg_class_acc, std_err_avg_acc, std_err_avg_classwise_acc, overall_report,  model, params_best, fig, fig2, fig3 = run_end_to_end(top_k, data, featurizer, K, known_unknown, model_dbow)\n",
    "        elif featurizer == \"doc2vec_dm\":\n",
    "            avg_acc, avg_class_acc, std_err_avg_acc, std_err_avg_classwise_acc, overall_report,  model, params_best, fig, fig2, fig3 = run_end_to_end(top_k, data, featurizer, K, known_unknown, model_dm)\n",
    "        elif featurizer == \"word2vec_cbow\":\n",
    "            avg_acc, avg_class_acc, std_err_avg_acc, std_err_avg_classwise_acc, overall_report,  model, params_best, fig, fig2, fig3 = run_end_to_end(top_k, data, featurizer, K, known_unknown, model_cbow)            \n",
    "        elif featurizer == \"word2vec_sg\":\n",
    "            avg_acc, avg_class_acc, std_err_avg_acc, std_err_avg_classwise_acc, overall_report,  model, params_best, fig, fig2, fig3 = run_end_to_end(top_k, data, featurizer, K, known_unknown, model_sg)\n",
    "        elif featurizer == \"fasttext_sg\":\n",
    "            avg_acc, avg_class_acc, std_err_avg_acc, std_err_avg_classwise_acc, overall_report,  model, params_best, fig, fig2, fig3 = run_end_to_end(top_k, data, featurizer, K, known_unknown, model_fasttext_sg)      \n",
    "        elif featurizer == \"fasttext_cbow\":\n",
    "            avg_acc, avg_class_acc, std_err_avg_acc, std_err_avg_classwise_acc, overall_report,  model, params_best, fig, fig2, fig3 = run_end_to_end(top_k, data, featurizer, K, known_unknown, model_fasttext_cbow)  \n",
    "            \n",
    "        elif featurizer == \"lstm_with_attention\": \n",
    "            avg_acc, avg_class_acc, std_err_avg_acc, std_err_avg_classwise_acc, overall_report,  model, params_best, fig, fig2, fig3 = run_end_to_end(top_k, data, featurizer, K, known_unknown, model_sg)\n",
    "        \n",
    "        elif featurizer == \"just_attention\": \n",
    "            avg_acc, avg_class_acc, std_err_avg_acc, std_err_avg_classwise_acc, overall_report,  model, params_best, fig, fig2, fig3 = run_end_to_end(top_k, data, featurizer, K, known_unknown, model_sg)        \n",
    "        \n",
    "        elif featurizer == \"vanilla_lstm\": \n",
    "            avg_acc, avg_class_acc, std_err_avg_acc, std_err_avg_classwise_acc, overall_report,  model, params_best, fig, fig2, fig3 = run_end_to_end(top_k, data, featurizer, K, known_unknown, model_sg)        \n",
    "        \n",
    "        else:\n",
    "            pass\n",
    "        \n",
    "        overall_catch_word2vec_sg_known.append([top_k, featurizer, avg_acc, avg_class_acc, std_err_avg_acc, std_err_avg_classwise_acc, \n",
    "                             overall_report[\"precision\"], overall_report[\"recall\"], overall_report[\"f1-score\"]])\n",
    "        \n",
    "        plt.close('all')"
   ]
  },
  {
   "cell_type": "code",
   "execution_count": 70,
   "id": "65c7482a",
   "metadata": {},
   "outputs": [],
   "source": [
    "overall_catch_word2vec_sg_known = pd.DataFrame(overall_catch_word2vec_sg_known)"
   ]
  },
  {
   "cell_type": "code",
   "execution_count": 71,
   "id": "0bcc6726",
   "metadata": {},
   "outputs": [],
   "source": [
    "overall_catch_word2vec_sg_known.columns = [\"num_substrates\", \"feature_method\", \"avg_accuracy\", \"avg_classwise_acc\",\n",
    "                         \"std_err_avg_acc\", \"std_err_avg_classwise_acc\", \"avg_precision\", \"avg_recall\", \"avg_f1_score\"]"
   ]
  },
  {
   "cell_type": "code",
   "execution_count": 72,
   "id": "e708c8a7",
   "metadata": {},
   "outputs": [],
   "source": [
    "overall_catch_word2vec_sg_known[\"with_Others\"] = \"No\""
   ]
  },
  {
   "cell_type": "code",
   "execution_count": 79,
   "id": "eff7f662",
   "metadata": {},
   "outputs": [],
   "source": [
    "stacked = pd.concat([overall_catch_word2vec_sg, overall_catch_word2vec_sg_known], ignore_index = True)"
   ]
  },
  {
   "cell_type": "code",
   "execution_count": 83,
   "id": "3555272c",
   "metadata": {},
   "outputs": [
    {
     "data": {
      "application/vnd.plotly.v1+json": {
       "config": {
        "plotlyServerURL": "https://plot.ly"
       },
       "data": [
        {
         "hovertemplate": "Others categories Present=Yes<br>Number of Substrate Categories=%{x}<br>Average Accuracy=%{y}<extra></extra>",
         "legendgroup": "Yes",
         "line": {
          "color": "#636efa",
          "dash": "solid",
          "width": 4
         },
         "marker": {
          "size": 8,
          "symbol": "circle"
         },
         "mode": "markers+lines",
         "name": "Yes",
         "orientation": "v",
         "showlegend": true,
         "type": "scatter",
         "x": [
          2,
          3,
          4,
          5,
          6,
          7,
          8,
          9,
          10,
          11,
          12,
          13,
          14,
          15,
          16
         ],
         "xaxis": "x",
         "y": [
          0.9464590067587424,
          0.9027916544225684,
          0.8637672641786658,
          0.8759036144578314,
          0.817631501616221,
          0.8052894504848662,
          0.7931531002057008,
          0.744519541580958,
          0.6934763444019982,
          0.7105789009697325,
          0.6836614751689687,
          0.6910079341757273,
          0.7055245371730825,
          0.6813399941228327,
          0.6885689097854835
         ],
         "yaxis": "y"
        },
        {
         "hovertemplate": "Others categories Present=No<br>Number of Substrate Categories=%{x}<br>Average Accuracy=%{y}<extra></extra>",
         "legendgroup": "No",
         "line": {
          "color": "#EF553B",
          "dash": "solid",
          "width": 4
         },
         "marker": {
          "size": 8,
          "symbol": "circle"
         },
         "mode": "markers+lines",
         "name": "No",
         "orientation": "v",
         "showlegend": true,
         "type": "scatter",
         "x": [
          2,
          3,
          4,
          5,
          6,
          7,
          8,
          9,
          10,
          11,
          12,
          13,
          14,
          15,
          16
         ],
         "xaxis": "x",
         "y": [
          1,
          0.961111111111111,
          0.940487804878049,
          0.9054545454545455,
          0.9130102040816327,
          0.8834841628959277,
          0.9047138047138047,
          0.8542649727767696,
          0.8248087431693989,
          0.8107142857142857,
          0.7961771561771561,
          0.766900790166813,
          0.740703933747412,
          0.7464788732394366,
          0.7551369863013699
         ],
         "yaxis": "y"
        }
       ],
       "layout": {
        "font": {
         "family": "Arial Black"
        },
        "legend": {
         "title": {
          "text": "Others categories Present"
         },
         "tracegroupgap": 0
        },
        "template": {
         "data": {
          "bar": [
           {
            "error_x": {
             "color": "#2a3f5f"
            },
            "error_y": {
             "color": "#2a3f5f"
            },
            "marker": {
             "line": {
              "color": "#E5ECF6",
              "width": 0.5
             },
             "pattern": {
              "fillmode": "overlay",
              "size": 10,
              "solidity": 0.2
             }
            },
            "type": "bar"
           }
          ],
          "barpolar": [
           {
            "marker": {
             "line": {
              "color": "#E5ECF6",
              "width": 0.5
             },
             "pattern": {
              "fillmode": "overlay",
              "size": 10,
              "solidity": 0.2
             }
            },
            "type": "barpolar"
           }
          ],
          "carpet": [
           {
            "aaxis": {
             "endlinecolor": "#2a3f5f",
             "gridcolor": "white",
             "linecolor": "white",
             "minorgridcolor": "white",
             "startlinecolor": "#2a3f5f"
            },
            "baxis": {
             "endlinecolor": "#2a3f5f",
             "gridcolor": "white",
             "linecolor": "white",
             "minorgridcolor": "white",
             "startlinecolor": "#2a3f5f"
            },
            "type": "carpet"
           }
          ],
          "choropleth": [
           {
            "colorbar": {
             "outlinewidth": 0,
             "ticks": ""
            },
            "type": "choropleth"
           }
          ],
          "contour": [
           {
            "colorbar": {
             "outlinewidth": 0,
             "ticks": ""
            },
            "colorscale": [
             [
              0,
              "#0d0887"
             ],
             [
              0.1111111111111111,
              "#46039f"
             ],
             [
              0.2222222222222222,
              "#7201a8"
             ],
             [
              0.3333333333333333,
              "#9c179e"
             ],
             [
              0.4444444444444444,
              "#bd3786"
             ],
             [
              0.5555555555555556,
              "#d8576b"
             ],
             [
              0.6666666666666666,
              "#ed7953"
             ],
             [
              0.7777777777777778,
              "#fb9f3a"
             ],
             [
              0.8888888888888888,
              "#fdca26"
             ],
             [
              1,
              "#f0f921"
             ]
            ],
            "type": "contour"
           }
          ],
          "contourcarpet": [
           {
            "colorbar": {
             "outlinewidth": 0,
             "ticks": ""
            },
            "type": "contourcarpet"
           }
          ],
          "heatmap": [
           {
            "colorbar": {
             "outlinewidth": 0,
             "ticks": ""
            },
            "colorscale": [
             [
              0,
              "#0d0887"
             ],
             [
              0.1111111111111111,
              "#46039f"
             ],
             [
              0.2222222222222222,
              "#7201a8"
             ],
             [
              0.3333333333333333,
              "#9c179e"
             ],
             [
              0.4444444444444444,
              "#bd3786"
             ],
             [
              0.5555555555555556,
              "#d8576b"
             ],
             [
              0.6666666666666666,
              "#ed7953"
             ],
             [
              0.7777777777777778,
              "#fb9f3a"
             ],
             [
              0.8888888888888888,
              "#fdca26"
             ],
             [
              1,
              "#f0f921"
             ]
            ],
            "type": "heatmap"
           }
          ],
          "heatmapgl": [
           {
            "colorbar": {
             "outlinewidth": 0,
             "ticks": ""
            },
            "colorscale": [
             [
              0,
              "#0d0887"
             ],
             [
              0.1111111111111111,
              "#46039f"
             ],
             [
              0.2222222222222222,
              "#7201a8"
             ],
             [
              0.3333333333333333,
              "#9c179e"
             ],
             [
              0.4444444444444444,
              "#bd3786"
             ],
             [
              0.5555555555555556,
              "#d8576b"
             ],
             [
              0.6666666666666666,
              "#ed7953"
             ],
             [
              0.7777777777777778,
              "#fb9f3a"
             ],
             [
              0.8888888888888888,
              "#fdca26"
             ],
             [
              1,
              "#f0f921"
             ]
            ],
            "type": "heatmapgl"
           }
          ],
          "histogram": [
           {
            "marker": {
             "pattern": {
              "fillmode": "overlay",
              "size": 10,
              "solidity": 0.2
             }
            },
            "type": "histogram"
           }
          ],
          "histogram2d": [
           {
            "colorbar": {
             "outlinewidth": 0,
             "ticks": ""
            },
            "colorscale": [
             [
              0,
              "#0d0887"
             ],
             [
              0.1111111111111111,
              "#46039f"
             ],
             [
              0.2222222222222222,
              "#7201a8"
             ],
             [
              0.3333333333333333,
              "#9c179e"
             ],
             [
              0.4444444444444444,
              "#bd3786"
             ],
             [
              0.5555555555555556,
              "#d8576b"
             ],
             [
              0.6666666666666666,
              "#ed7953"
             ],
             [
              0.7777777777777778,
              "#fb9f3a"
             ],
             [
              0.8888888888888888,
              "#fdca26"
             ],
             [
              1,
              "#f0f921"
             ]
            ],
            "type": "histogram2d"
           }
          ],
          "histogram2dcontour": [
           {
            "colorbar": {
             "outlinewidth": 0,
             "ticks": ""
            },
            "colorscale": [
             [
              0,
              "#0d0887"
             ],
             [
              0.1111111111111111,
              "#46039f"
             ],
             [
              0.2222222222222222,
              "#7201a8"
             ],
             [
              0.3333333333333333,
              "#9c179e"
             ],
             [
              0.4444444444444444,
              "#bd3786"
             ],
             [
              0.5555555555555556,
              "#d8576b"
             ],
             [
              0.6666666666666666,
              "#ed7953"
             ],
             [
              0.7777777777777778,
              "#fb9f3a"
             ],
             [
              0.8888888888888888,
              "#fdca26"
             ],
             [
              1,
              "#f0f921"
             ]
            ],
            "type": "histogram2dcontour"
           }
          ],
          "mesh3d": [
           {
            "colorbar": {
             "outlinewidth": 0,
             "ticks": ""
            },
            "type": "mesh3d"
           }
          ],
          "parcoords": [
           {
            "line": {
             "colorbar": {
              "outlinewidth": 0,
              "ticks": ""
             }
            },
            "type": "parcoords"
           }
          ],
          "pie": [
           {
            "automargin": true,
            "type": "pie"
           }
          ],
          "scatter": [
           {
            "fillpattern": {
             "fillmode": "overlay",
             "size": 10,
             "solidity": 0.2
            },
            "type": "scatter"
           }
          ],
          "scatter3d": [
           {
            "line": {
             "colorbar": {
              "outlinewidth": 0,
              "ticks": ""
             }
            },
            "marker": {
             "colorbar": {
              "outlinewidth": 0,
              "ticks": ""
             }
            },
            "type": "scatter3d"
           }
          ],
          "scattercarpet": [
           {
            "marker": {
             "colorbar": {
              "outlinewidth": 0,
              "ticks": ""
             }
            },
            "type": "scattercarpet"
           }
          ],
          "scattergeo": [
           {
            "marker": {
             "colorbar": {
              "outlinewidth": 0,
              "ticks": ""
             }
            },
            "type": "scattergeo"
           }
          ],
          "scattergl": [
           {
            "marker": {
             "colorbar": {
              "outlinewidth": 0,
              "ticks": ""
             }
            },
            "type": "scattergl"
           }
          ],
          "scattermapbox": [
           {
            "marker": {
             "colorbar": {
              "outlinewidth": 0,
              "ticks": ""
             }
            },
            "type": "scattermapbox"
           }
          ],
          "scatterpolar": [
           {
            "marker": {
             "colorbar": {
              "outlinewidth": 0,
              "ticks": ""
             }
            },
            "type": "scatterpolar"
           }
          ],
          "scatterpolargl": [
           {
            "marker": {
             "colorbar": {
              "outlinewidth": 0,
              "ticks": ""
             }
            },
            "type": "scatterpolargl"
           }
          ],
          "scatterternary": [
           {
            "marker": {
             "colorbar": {
              "outlinewidth": 0,
              "ticks": ""
             }
            },
            "type": "scatterternary"
           }
          ],
          "surface": [
           {
            "colorbar": {
             "outlinewidth": 0,
             "ticks": ""
            },
            "colorscale": [
             [
              0,
              "#0d0887"
             ],
             [
              0.1111111111111111,
              "#46039f"
             ],
             [
              0.2222222222222222,
              "#7201a8"
             ],
             [
              0.3333333333333333,
              "#9c179e"
             ],
             [
              0.4444444444444444,
              "#bd3786"
             ],
             [
              0.5555555555555556,
              "#d8576b"
             ],
             [
              0.6666666666666666,
              "#ed7953"
             ],
             [
              0.7777777777777778,
              "#fb9f3a"
             ],
             [
              0.8888888888888888,
              "#fdca26"
             ],
             [
              1,
              "#f0f921"
             ]
            ],
            "type": "surface"
           }
          ],
          "table": [
           {
            "cells": {
             "fill": {
              "color": "#EBF0F8"
             },
             "line": {
              "color": "white"
             }
            },
            "header": {
             "fill": {
              "color": "#C8D4E3"
             },
             "line": {
              "color": "white"
             }
            },
            "type": "table"
           }
          ]
         },
         "layout": {
          "annotationdefaults": {
           "arrowcolor": "#2a3f5f",
           "arrowhead": 0,
           "arrowwidth": 1
          },
          "autotypenumbers": "strict",
          "coloraxis": {
           "colorbar": {
            "outlinewidth": 0,
            "ticks": ""
           }
          },
          "colorscale": {
           "diverging": [
            [
             0,
             "#8e0152"
            ],
            [
             0.1,
             "#c51b7d"
            ],
            [
             0.2,
             "#de77ae"
            ],
            [
             0.3,
             "#f1b6da"
            ],
            [
             0.4,
             "#fde0ef"
            ],
            [
             0.5,
             "#f7f7f7"
            ],
            [
             0.6,
             "#e6f5d0"
            ],
            [
             0.7,
             "#b8e186"
            ],
            [
             0.8,
             "#7fbc41"
            ],
            [
             0.9,
             "#4d9221"
            ],
            [
             1,
             "#276419"
            ]
           ],
           "sequential": [
            [
             0,
             "#0d0887"
            ],
            [
             0.1111111111111111,
             "#46039f"
            ],
            [
             0.2222222222222222,
             "#7201a8"
            ],
            [
             0.3333333333333333,
             "#9c179e"
            ],
            [
             0.4444444444444444,
             "#bd3786"
            ],
            [
             0.5555555555555556,
             "#d8576b"
            ],
            [
             0.6666666666666666,
             "#ed7953"
            ],
            [
             0.7777777777777778,
             "#fb9f3a"
            ],
            [
             0.8888888888888888,
             "#fdca26"
            ],
            [
             1,
             "#f0f921"
            ]
           ],
           "sequentialminus": [
            [
             0,
             "#0d0887"
            ],
            [
             0.1111111111111111,
             "#46039f"
            ],
            [
             0.2222222222222222,
             "#7201a8"
            ],
            [
             0.3333333333333333,
             "#9c179e"
            ],
            [
             0.4444444444444444,
             "#bd3786"
            ],
            [
             0.5555555555555556,
             "#d8576b"
            ],
            [
             0.6666666666666666,
             "#ed7953"
            ],
            [
             0.7777777777777778,
             "#fb9f3a"
            ],
            [
             0.8888888888888888,
             "#fdca26"
            ],
            [
             1,
             "#f0f921"
            ]
           ]
          },
          "colorway": [
           "#636efa",
           "#EF553B",
           "#00cc96",
           "#ab63fa",
           "#FFA15A",
           "#19d3f3",
           "#FF6692",
           "#B6E880",
           "#FF97FF",
           "#FECB52"
          ],
          "font": {
           "color": "#2a3f5f"
          },
          "geo": {
           "bgcolor": "white",
           "lakecolor": "white",
           "landcolor": "#E5ECF6",
           "showlakes": true,
           "showland": true,
           "subunitcolor": "white"
          },
          "hoverlabel": {
           "align": "left"
          },
          "hovermode": "closest",
          "mapbox": {
           "style": "light"
          },
          "paper_bgcolor": "white",
          "plot_bgcolor": "#E5ECF6",
          "polar": {
           "angularaxis": {
            "gridcolor": "white",
            "linecolor": "white",
            "ticks": ""
           },
           "bgcolor": "#E5ECF6",
           "radialaxis": {
            "gridcolor": "white",
            "linecolor": "white",
            "ticks": ""
           }
          },
          "scene": {
           "xaxis": {
            "backgroundcolor": "#E5ECF6",
            "gridcolor": "white",
            "gridwidth": 2,
            "linecolor": "white",
            "showbackground": true,
            "ticks": "",
            "zerolinecolor": "white"
           },
           "yaxis": {
            "backgroundcolor": "#E5ECF6",
            "gridcolor": "white",
            "gridwidth": 2,
            "linecolor": "white",
            "showbackground": true,
            "ticks": "",
            "zerolinecolor": "white"
           },
           "zaxis": {
            "backgroundcolor": "#E5ECF6",
            "gridcolor": "white",
            "gridwidth": 2,
            "linecolor": "white",
            "showbackground": true,
            "ticks": "",
            "zerolinecolor": "white"
           }
          },
          "shapedefaults": {
           "line": {
            "color": "#2a3f5f"
           }
          },
          "ternary": {
           "aaxis": {
            "gridcolor": "white",
            "linecolor": "white",
            "ticks": ""
           },
           "baxis": {
            "gridcolor": "white",
            "linecolor": "white",
            "ticks": ""
           },
           "bgcolor": "#E5ECF6",
           "caxis": {
            "gridcolor": "white",
            "linecolor": "white",
            "ticks": ""
           }
          },
          "title": {
           "x": 0.05
          },
          "xaxis": {
           "automargin": true,
           "gridcolor": "white",
           "linecolor": "white",
           "ticks": "",
           "title": {
            "standoff": 15
           },
           "zerolinecolor": "white",
           "zerolinewidth": 2
          },
          "yaxis": {
           "automargin": true,
           "gridcolor": "white",
           "linecolor": "white",
           "ticks": "",
           "title": {
            "standoff": 15
           },
           "zerolinecolor": "white",
           "zerolinewidth": 2
          }
         }
        },
        "title": {
         "font": {
          "family": "Arial Black"
         },
         "text": "PLot of Average Accuracy vs Number of substrate Categories for Word2Vec_SG method"
        },
        "xaxis": {
         "anchor": "y",
         "domain": [
          0,
          1
         ],
         "tickfont": {
          "family": "Arial Black"
         },
         "title": {
          "font": {
           "family": "Arial Black"
          },
          "text": "Number of Substrate Categories"
         }
        },
        "yaxis": {
         "anchor": "x",
         "domain": [
          0,
          1
         ],
         "tickfont": {
          "family": "Arial Black"
         },
         "title": {
          "font": {
           "family": "Arial Black"
          },
          "text": "Average Accuracy"
         }
        }
       }
      },
      "text/html": [
       "<div>                            <div id=\"eae030d4-bcf7-4c82-b01f-a9160f0357ef\" class=\"plotly-graph-div\" style=\"height:525px; width:100%;\"></div>            <script type=\"text/javascript\">                require([\"plotly\"], function(Plotly) {                    window.PLOTLYENV=window.PLOTLYENV || {};                                    if (document.getElementById(\"eae030d4-bcf7-4c82-b01f-a9160f0357ef\")) {                    Plotly.newPlot(                        \"eae030d4-bcf7-4c82-b01f-a9160f0357ef\",                        [{\"hovertemplate\":\"Others categories Present=Yes<br>Number of Substrate Categories=%{x}<br>Average Accuracy=%{y}<extra></extra>\",\"legendgroup\":\"Yes\",\"line\":{\"color\":\"#636efa\",\"dash\":\"solid\",\"width\":4},\"marker\":{\"symbol\":\"circle\",\"size\":8},\"mode\":\"markers+lines\",\"name\":\"Yes\",\"orientation\":\"v\",\"showlegend\":true,\"x\":[2,3,4,5,6,7,8,9,10,11,12,13,14,15,16],\"xaxis\":\"x\",\"y\":[0.9464590067587424,0.9027916544225684,0.8637672641786658,0.8759036144578314,0.817631501616221,0.8052894504848662,0.7931531002057008,0.744519541580958,0.6934763444019982,0.7105789009697325,0.6836614751689687,0.6910079341757273,0.7055245371730825,0.6813399941228327,0.6885689097854835],\"yaxis\":\"y\",\"type\":\"scatter\"},{\"hovertemplate\":\"Others categories Present=No<br>Number of Substrate Categories=%{x}<br>Average Accuracy=%{y}<extra></extra>\",\"legendgroup\":\"No\",\"line\":{\"color\":\"#EF553B\",\"dash\":\"solid\",\"width\":4},\"marker\":{\"symbol\":\"circle\",\"size\":8},\"mode\":\"markers+lines\",\"name\":\"No\",\"orientation\":\"v\",\"showlegend\":true,\"x\":[2,3,4,5,6,7,8,9,10,11,12,13,14,15,16],\"xaxis\":\"x\",\"y\":[1.0,0.961111111111111,0.940487804878049,0.9054545454545455,0.9130102040816327,0.8834841628959277,0.9047138047138047,0.8542649727767696,0.8248087431693989,0.8107142857142857,0.7961771561771561,0.766900790166813,0.740703933747412,0.7464788732394366,0.7551369863013699],\"yaxis\":\"y\",\"type\":\"scatter\"}],                        {\"template\":{\"data\":{\"histogram2dcontour\":[{\"type\":\"histogram2dcontour\",\"colorbar\":{\"outlinewidth\":0,\"ticks\":\"\"},\"colorscale\":[[0.0,\"#0d0887\"],[0.1111111111111111,\"#46039f\"],[0.2222222222222222,\"#7201a8\"],[0.3333333333333333,\"#9c179e\"],[0.4444444444444444,\"#bd3786\"],[0.5555555555555556,\"#d8576b\"],[0.6666666666666666,\"#ed7953\"],[0.7777777777777778,\"#fb9f3a\"],[0.8888888888888888,\"#fdca26\"],[1.0,\"#f0f921\"]]}],\"choropleth\":[{\"type\":\"choropleth\",\"colorbar\":{\"outlinewidth\":0,\"ticks\":\"\"}}],\"histogram2d\":[{\"type\":\"histogram2d\",\"colorbar\":{\"outlinewidth\":0,\"ticks\":\"\"},\"colorscale\":[[0.0,\"#0d0887\"],[0.1111111111111111,\"#46039f\"],[0.2222222222222222,\"#7201a8\"],[0.3333333333333333,\"#9c179e\"],[0.4444444444444444,\"#bd3786\"],[0.5555555555555556,\"#d8576b\"],[0.6666666666666666,\"#ed7953\"],[0.7777777777777778,\"#fb9f3a\"],[0.8888888888888888,\"#fdca26\"],[1.0,\"#f0f921\"]]}],\"heatmap\":[{\"type\":\"heatmap\",\"colorbar\":{\"outlinewidth\":0,\"ticks\":\"\"},\"colorscale\":[[0.0,\"#0d0887\"],[0.1111111111111111,\"#46039f\"],[0.2222222222222222,\"#7201a8\"],[0.3333333333333333,\"#9c179e\"],[0.4444444444444444,\"#bd3786\"],[0.5555555555555556,\"#d8576b\"],[0.6666666666666666,\"#ed7953\"],[0.7777777777777778,\"#fb9f3a\"],[0.8888888888888888,\"#fdca26\"],[1.0,\"#f0f921\"]]}],\"heatmapgl\":[{\"type\":\"heatmapgl\",\"colorbar\":{\"outlinewidth\":0,\"ticks\":\"\"},\"colorscale\":[[0.0,\"#0d0887\"],[0.1111111111111111,\"#46039f\"],[0.2222222222222222,\"#7201a8\"],[0.3333333333333333,\"#9c179e\"],[0.4444444444444444,\"#bd3786\"],[0.5555555555555556,\"#d8576b\"],[0.6666666666666666,\"#ed7953\"],[0.7777777777777778,\"#fb9f3a\"],[0.8888888888888888,\"#fdca26\"],[1.0,\"#f0f921\"]]}],\"contourcarpet\":[{\"type\":\"contourcarpet\",\"colorbar\":{\"outlinewidth\":0,\"ticks\":\"\"}}],\"contour\":[{\"type\":\"contour\",\"colorbar\":{\"outlinewidth\":0,\"ticks\":\"\"},\"colorscale\":[[0.0,\"#0d0887\"],[0.1111111111111111,\"#46039f\"],[0.2222222222222222,\"#7201a8\"],[0.3333333333333333,\"#9c179e\"],[0.4444444444444444,\"#bd3786\"],[0.5555555555555556,\"#d8576b\"],[0.6666666666666666,\"#ed7953\"],[0.7777777777777778,\"#fb9f3a\"],[0.8888888888888888,\"#fdca26\"],[1.0,\"#f0f921\"]]}],\"surface\":[{\"type\":\"surface\",\"colorbar\":{\"outlinewidth\":0,\"ticks\":\"\"},\"colorscale\":[[0.0,\"#0d0887\"],[0.1111111111111111,\"#46039f\"],[0.2222222222222222,\"#7201a8\"],[0.3333333333333333,\"#9c179e\"],[0.4444444444444444,\"#bd3786\"],[0.5555555555555556,\"#d8576b\"],[0.6666666666666666,\"#ed7953\"],[0.7777777777777778,\"#fb9f3a\"],[0.8888888888888888,\"#fdca26\"],[1.0,\"#f0f921\"]]}],\"mesh3d\":[{\"type\":\"mesh3d\",\"colorbar\":{\"outlinewidth\":0,\"ticks\":\"\"}}],\"scatter\":[{\"fillpattern\":{\"fillmode\":\"overlay\",\"size\":10,\"solidity\":0.2},\"type\":\"scatter\"}],\"parcoords\":[{\"type\":\"parcoords\",\"line\":{\"colorbar\":{\"outlinewidth\":0,\"ticks\":\"\"}}}],\"scatterpolargl\":[{\"type\":\"scatterpolargl\",\"marker\":{\"colorbar\":{\"outlinewidth\":0,\"ticks\":\"\"}}}],\"bar\":[{\"error_x\":{\"color\":\"#2a3f5f\"},\"error_y\":{\"color\":\"#2a3f5f\"},\"marker\":{\"line\":{\"color\":\"#E5ECF6\",\"width\":0.5},\"pattern\":{\"fillmode\":\"overlay\",\"size\":10,\"solidity\":0.2}},\"type\":\"bar\"}],\"scattergeo\":[{\"type\":\"scattergeo\",\"marker\":{\"colorbar\":{\"outlinewidth\":0,\"ticks\":\"\"}}}],\"scatterpolar\":[{\"type\":\"scatterpolar\",\"marker\":{\"colorbar\":{\"outlinewidth\":0,\"ticks\":\"\"}}}],\"histogram\":[{\"marker\":{\"pattern\":{\"fillmode\":\"overlay\",\"size\":10,\"solidity\":0.2}},\"type\":\"histogram\"}],\"scattergl\":[{\"type\":\"scattergl\",\"marker\":{\"colorbar\":{\"outlinewidth\":0,\"ticks\":\"\"}}}],\"scatter3d\":[{\"type\":\"scatter3d\",\"line\":{\"colorbar\":{\"outlinewidth\":0,\"ticks\":\"\"}},\"marker\":{\"colorbar\":{\"outlinewidth\":0,\"ticks\":\"\"}}}],\"scattermapbox\":[{\"type\":\"scattermapbox\",\"marker\":{\"colorbar\":{\"outlinewidth\":0,\"ticks\":\"\"}}}],\"scatterternary\":[{\"type\":\"scatterternary\",\"marker\":{\"colorbar\":{\"outlinewidth\":0,\"ticks\":\"\"}}}],\"scattercarpet\":[{\"type\":\"scattercarpet\",\"marker\":{\"colorbar\":{\"outlinewidth\":0,\"ticks\":\"\"}}}],\"carpet\":[{\"aaxis\":{\"endlinecolor\":\"#2a3f5f\",\"gridcolor\":\"white\",\"linecolor\":\"white\",\"minorgridcolor\":\"white\",\"startlinecolor\":\"#2a3f5f\"},\"baxis\":{\"endlinecolor\":\"#2a3f5f\",\"gridcolor\":\"white\",\"linecolor\":\"white\",\"minorgridcolor\":\"white\",\"startlinecolor\":\"#2a3f5f\"},\"type\":\"carpet\"}],\"table\":[{\"cells\":{\"fill\":{\"color\":\"#EBF0F8\"},\"line\":{\"color\":\"white\"}},\"header\":{\"fill\":{\"color\":\"#C8D4E3\"},\"line\":{\"color\":\"white\"}},\"type\":\"table\"}],\"barpolar\":[{\"marker\":{\"line\":{\"color\":\"#E5ECF6\",\"width\":0.5},\"pattern\":{\"fillmode\":\"overlay\",\"size\":10,\"solidity\":0.2}},\"type\":\"barpolar\"}],\"pie\":[{\"automargin\":true,\"type\":\"pie\"}]},\"layout\":{\"autotypenumbers\":\"strict\",\"colorway\":[\"#636efa\",\"#EF553B\",\"#00cc96\",\"#ab63fa\",\"#FFA15A\",\"#19d3f3\",\"#FF6692\",\"#B6E880\",\"#FF97FF\",\"#FECB52\"],\"font\":{\"color\":\"#2a3f5f\"},\"hovermode\":\"closest\",\"hoverlabel\":{\"align\":\"left\"},\"paper_bgcolor\":\"white\",\"plot_bgcolor\":\"#E5ECF6\",\"polar\":{\"bgcolor\":\"#E5ECF6\",\"angularaxis\":{\"gridcolor\":\"white\",\"linecolor\":\"white\",\"ticks\":\"\"},\"radialaxis\":{\"gridcolor\":\"white\",\"linecolor\":\"white\",\"ticks\":\"\"}},\"ternary\":{\"bgcolor\":\"#E5ECF6\",\"aaxis\":{\"gridcolor\":\"white\",\"linecolor\":\"white\",\"ticks\":\"\"},\"baxis\":{\"gridcolor\":\"white\",\"linecolor\":\"white\",\"ticks\":\"\"},\"caxis\":{\"gridcolor\":\"white\",\"linecolor\":\"white\",\"ticks\":\"\"}},\"coloraxis\":{\"colorbar\":{\"outlinewidth\":0,\"ticks\":\"\"}},\"colorscale\":{\"sequential\":[[0.0,\"#0d0887\"],[0.1111111111111111,\"#46039f\"],[0.2222222222222222,\"#7201a8\"],[0.3333333333333333,\"#9c179e\"],[0.4444444444444444,\"#bd3786\"],[0.5555555555555556,\"#d8576b\"],[0.6666666666666666,\"#ed7953\"],[0.7777777777777778,\"#fb9f3a\"],[0.8888888888888888,\"#fdca26\"],[1.0,\"#f0f921\"]],\"sequentialminus\":[[0.0,\"#0d0887\"],[0.1111111111111111,\"#46039f\"],[0.2222222222222222,\"#7201a8\"],[0.3333333333333333,\"#9c179e\"],[0.4444444444444444,\"#bd3786\"],[0.5555555555555556,\"#d8576b\"],[0.6666666666666666,\"#ed7953\"],[0.7777777777777778,\"#fb9f3a\"],[0.8888888888888888,\"#fdca26\"],[1.0,\"#f0f921\"]],\"diverging\":[[0,\"#8e0152\"],[0.1,\"#c51b7d\"],[0.2,\"#de77ae\"],[0.3,\"#f1b6da\"],[0.4,\"#fde0ef\"],[0.5,\"#f7f7f7\"],[0.6,\"#e6f5d0\"],[0.7,\"#b8e186\"],[0.8,\"#7fbc41\"],[0.9,\"#4d9221\"],[1,\"#276419\"]]},\"xaxis\":{\"gridcolor\":\"white\",\"linecolor\":\"white\",\"ticks\":\"\",\"title\":{\"standoff\":15},\"zerolinecolor\":\"white\",\"automargin\":true,\"zerolinewidth\":2},\"yaxis\":{\"gridcolor\":\"white\",\"linecolor\":\"white\",\"ticks\":\"\",\"title\":{\"standoff\":15},\"zerolinecolor\":\"white\",\"automargin\":true,\"zerolinewidth\":2},\"scene\":{\"xaxis\":{\"backgroundcolor\":\"#E5ECF6\",\"gridcolor\":\"white\",\"linecolor\":\"white\",\"showbackground\":true,\"ticks\":\"\",\"zerolinecolor\":\"white\",\"gridwidth\":2},\"yaxis\":{\"backgroundcolor\":\"#E5ECF6\",\"gridcolor\":\"white\",\"linecolor\":\"white\",\"showbackground\":true,\"ticks\":\"\",\"zerolinecolor\":\"white\",\"gridwidth\":2},\"zaxis\":{\"backgroundcolor\":\"#E5ECF6\",\"gridcolor\":\"white\",\"linecolor\":\"white\",\"showbackground\":true,\"ticks\":\"\",\"zerolinecolor\":\"white\",\"gridwidth\":2}},\"shapedefaults\":{\"line\":{\"color\":\"#2a3f5f\"}},\"annotationdefaults\":{\"arrowcolor\":\"#2a3f5f\",\"arrowhead\":0,\"arrowwidth\":1},\"geo\":{\"bgcolor\":\"white\",\"landcolor\":\"#E5ECF6\",\"subunitcolor\":\"white\",\"showland\":true,\"showlakes\":true,\"lakecolor\":\"white\"},\"title\":{\"x\":0.05},\"mapbox\":{\"style\":\"light\"}}},\"xaxis\":{\"anchor\":\"y\",\"domain\":[0.0,1.0],\"title\":{\"text\":\"Number of Substrate Categories\",\"font\":{\"family\":\"Arial Black\"}},\"tickfont\":{\"family\":\"Arial Black\"}},\"yaxis\":{\"anchor\":\"x\",\"domain\":[0.0,1.0],\"title\":{\"text\":\"Average Accuracy\",\"font\":{\"family\":\"Arial Black\"}},\"tickfont\":{\"family\":\"Arial Black\"}},\"legend\":{\"title\":{\"text\":\"Others categories Present\"},\"tracegroupgap\":0},\"title\":{\"text\":\"PLot of Average Accuracy vs Number of substrate Categories for Word2Vec_SG method\",\"font\":{\"family\":\"Arial Black\"}},\"font\":{\"family\":\"Arial Black\"}},                        {\"responsive\": true}                    ).then(function(){\n",
       "                            \n",
       "var gd = document.getElementById('eae030d4-bcf7-4c82-b01f-a9160f0357ef');\n",
       "var x = new MutationObserver(function (mutations, observer) {{\n",
       "        var display = window.getComputedStyle(gd).display;\n",
       "        if (!display || display === 'none') {{\n",
       "            console.log([gd, 'removed!']);\n",
       "            Plotly.purge(gd);\n",
       "            observer.disconnect();\n",
       "        }}\n",
       "}});\n",
       "\n",
       "// Listen for the removal of the full notebook cells\n",
       "var notebookContainer = gd.closest('#notebook-container');\n",
       "if (notebookContainer) {{\n",
       "    x.observe(notebookContainer, {childList: true});\n",
       "}}\n",
       "\n",
       "// Listen for the clearing of the current output cell\n",
       "var outputEl = gd.closest('.output');\n",
       "if (outputEl) {{\n",
       "    x.observe(outputEl, {childList: true});\n",
       "}}\n",
       "\n",
       "                        })                };                });            </script>        </div>"
      ]
     },
     "metadata": {},
     "output_type": "display_data"
    }
   ],
   "source": [
    "fig = px.line(stacked, x=\"num_substrates\", y=\"avg_accuracy\", color = \"with_Others\",\n",
    "              markers=True, \n",
    "              title=\"PLot of Average Accuracy vs Number of substrate Categories for Word2Vec_SG method\", \n",
    "             labels={\n",
    "                     \"num_substrates\": \"Number of Substrate Categories\",\n",
    "                     \"avg_accuracy\": \"Average Accuracy\",\n",
    "                     \"with_Others\": \"Others categories Present\"\n",
    "                 })\n",
    "fig.update_traces(line=dict(width=4), marker=dict(size=8))\n",
    "# fig.write_html(\"results_by_k_new_sup_new_unsup_for_word2vec_sg.html\")\n",
    "fig.update_yaxes(tickfont_family=\"Arial Black\", title_font_family=\"Arial Black\")\n",
    "fig.update_xaxes(tickfont_family=\"Arial Black\", title_font_family=\"Arial Black\")\n",
    "fig.update_layout(\n",
    "    font_family=\"Arial Black\",\n",
    "#     font_color=\"blue\",\n",
    "    title_font_family=\"Arial Black\")\n",
    "#     title_font_color=\"red\",\n",
    "#     legend_title_font_color=\"green\"\n",
    "fig.show()"
   ]
  }
 ],
 "metadata": {
  "kernelspec": {
   "display_name": "newone1",
   "language": "python",
   "name": "newone1"
  },
  "language_info": {
   "codemirror_mode": {
    "name": "ipython",
    "version": 3
   },
   "file_extension": ".py",
   "mimetype": "text/x-python",
   "name": "python",
   "nbconvert_exporter": "python",
   "pygments_lexer": "ipython3",
   "version": "3.9.12"
  }
 },
 "nbformat": 4,
 "nbformat_minor": 5
}
