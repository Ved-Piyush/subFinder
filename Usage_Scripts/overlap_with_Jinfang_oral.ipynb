{
 "cells": [
  {
   "cell_type": "code",
   "execution_count": 109,
   "id": "d445c7d9",
   "metadata": {},
   "outputs": [],
   "source": [
    "import os\n",
    "\n",
    "os.chdir(r'D:\\subFinder')"
   ]
  },
  {
   "cell_type": "code",
   "execution_count": 110,
   "id": "ee6c814e",
   "metadata": {},
   "outputs": [],
   "source": [
    "import pandas as pd\n",
    "import gensim\n",
    "from Codes.Supervised_Trainer import run_end_to_end\n",
    "import plotly.express as px\n",
    "import matplotlib.pyplot as plt\n",
    "import numpy as np"
   ]
  },
  {
   "cell_type": "code",
   "execution_count": 111,
   "id": "d6251427",
   "metadata": {},
   "outputs": [],
   "source": [
    "# jf_marine = pd.read_csv(r\"D:\\subFinder\\Data\\Jinfang_Preds\\tmp.marine.clean\", sep = \"\\t\", header = None)"
   ]
  },
  {
   "cell_type": "code",
   "execution_count": 112,
   "id": "e2e527b1",
   "metadata": {},
   "outputs": [],
   "source": [
    "# jf_oral = pd.read_csv(r\"D:\\subFinder\\Data\\Jinfang_Preds\\tmp.oral.clean\", sep = \"\\t\", header = None)"
   ]
  },
  {
   "cell_type": "code",
   "execution_count": 113,
   "id": "9ea35372",
   "metadata": {},
   "outputs": [],
   "source": [
    "# jf_rumen = pd.read_csv(r\"D:\\subFinder\\Data\\Jinfang_Preds\\tmp.rumen.clean\", sep = \"\\t\", header = None)"
   ]
  },
  {
   "cell_type": "code",
   "execution_count": 114,
   "id": "8ea5a786",
   "metadata": {},
   "outputs": [],
   "source": [
    "jf_oral = pd.read_csv(r\"D:\\subFinder\\Data\\Jinfang_Preds\\tmp.oral.clean\", sep = \"\\t\", header = None)"
   ]
  },
  {
   "cell_type": "code",
   "execution_count": 115,
   "id": "f2b18a4d",
   "metadata": {},
   "outputs": [
    {
     "data": {
      "text/plain": [
       "(1722, 12)"
      ]
     },
     "execution_count": 115,
     "metadata": {},
     "output_type": "execute_result"
    }
   ],
   "source": [
    "jf_oral.shape"
   ]
  },
  {
   "cell_type": "code",
   "execution_count": 116,
   "id": "cdde4f19",
   "metadata": {},
   "outputs": [],
   "source": [
    "# jf_all = pd.concat([jf_marine, jf_oral, jf_rumen, jf_uhgg], 0, ignore_index = True)"
   ]
  },
  {
   "cell_type": "code",
   "execution_count": 117,
   "id": "bedfabcf",
   "metadata": {},
   "outputs": [],
   "source": [
    "# jf_all = jf_all[[1,2,3,4]]"
   ]
  },
  {
   "cell_type": "code",
   "execution_count": 118,
   "id": "224f899f",
   "metadata": {},
   "outputs": [],
   "source": [
    "jf_oral = jf_oral[[1,2,3,4]]"
   ]
  },
  {
   "cell_type": "code",
   "execution_count": 119,
   "id": "f39a7518",
   "metadata": {},
   "outputs": [],
   "source": [
    "jf_oral.columns = [\"cgc_id\", \"sig_gene_seq\", \"PULid\", \"high_level_substr\"]"
   ]
  },
  {
   "cell_type": "code",
   "execution_count": 120,
   "id": "c029ea05",
   "metadata": {},
   "outputs": [
    {
     "data": {
      "text/html": [
       "<div>\n",
       "<style scoped>\n",
       "    .dataframe tbody tr th:only-of-type {\n",
       "        vertical-align: middle;\n",
       "    }\n",
       "\n",
       "    .dataframe tbody tr th {\n",
       "        vertical-align: top;\n",
       "    }\n",
       "\n",
       "    .dataframe thead th {\n",
       "        text-align: right;\n",
       "    }\n",
       "</style>\n",
       "<table border=\"1\" class=\"dataframe\">\n",
       "  <thead>\n",
       "    <tr style=\"text-align: right;\">\n",
       "      <th></th>\n",
       "      <th>cgc_id</th>\n",
       "      <th>sig_gene_seq</th>\n",
       "      <th>PULid</th>\n",
       "      <th>high_level_substr</th>\n",
       "    </tr>\n",
       "  </thead>\n",
       "  <tbody>\n",
       "    <tr>\n",
       "      <th>0</th>\n",
       "      <td>MGYG000298024_1|CGC6</td>\n",
       "      <td>GT35,null,GH77,GH77,3.A.1.1.20,3.A.1.1.26,3.A....</td>\n",
       "      <td>X</td>\n",
       "      <td>starch</td>\n",
       "    </tr>\n",
       "    <tr>\n",
       "      <th>1</th>\n",
       "      <td>MGYG000298038_1|CGC4</td>\n",
       "      <td>2.A.86.1.3,null,3.A.1.3.15,3.A.1.3.25,3.A.1.3....</td>\n",
       "      <td>X</td>\n",
       "      <td>starch</td>\n",
       "    </tr>\n",
       "    <tr>\n",
       "      <th>2</th>\n",
       "      <td>MGYG000298038_1|CGC7</td>\n",
       "      <td>GH1,GH1,4.A.3.1.1,4.A.3.1.2</td>\n",
       "      <td>X</td>\n",
       "      <td>beta-galactan</td>\n",
       "    </tr>\n",
       "    <tr>\n",
       "      <th>3</th>\n",
       "      <td>MGYG000298045_3|CGC1</td>\n",
       "      <td>GH129,SBP_bac_1,null,3.A.1.1.41,3.A.1.1.11,3.A...</td>\n",
       "      <td>X</td>\n",
       "      <td>sucrose</td>\n",
       "    </tr>\n",
       "    <tr>\n",
       "      <th>4</th>\n",
       "      <td>MGYG000298045_3|CGC17</td>\n",
       "      <td>GH38,GH130,null,3.A.1.1.9,null,3.A.1.1.10,null...</td>\n",
       "      <td>X</td>\n",
       "      <td>host glycan</td>\n",
       "    </tr>\n",
       "  </tbody>\n",
       "</table>\n",
       "</div>"
      ],
      "text/plain": [
       "                  cgc_id                                       sig_gene_seq  \\\n",
       "0   MGYG000298024_1|CGC6  GT35,null,GH77,GH77,3.A.1.1.20,3.A.1.1.26,3.A....   \n",
       "1   MGYG000298038_1|CGC4  2.A.86.1.3,null,3.A.1.3.15,3.A.1.3.25,3.A.1.3....   \n",
       "2   MGYG000298038_1|CGC7                        GH1,GH1,4.A.3.1.1,4.A.3.1.2   \n",
       "3   MGYG000298045_3|CGC1  GH129,SBP_bac_1,null,3.A.1.1.41,3.A.1.1.11,3.A...   \n",
       "4  MGYG000298045_3|CGC17  GH38,GH130,null,3.A.1.1.9,null,3.A.1.1.10,null...   \n",
       "\n",
       "  PULid high_level_substr  \n",
       "0     X            starch  \n",
       "1     X            starch  \n",
       "2     X     beta-galactan  \n",
       "3     X           sucrose  \n",
       "4     X       host glycan  "
      ]
     },
     "execution_count": 120,
     "metadata": {},
     "output_type": "execute_result"
    }
   ],
   "source": [
    "jf_oral.head()"
   ]
  },
  {
   "cell_type": "code",
   "execution_count": 121,
   "id": "ff635a10",
   "metadata": {},
   "outputs": [
    {
     "data": {
      "text/plain": [
       "MGYG000298181_2|CGC13    4\n",
       "MGYG000298341_1|CGC32    4\n",
       "MGYG000298933_1|CGC11    4\n",
       "MGYG000298197_1|CGC11    3\n",
       "MGYG000298933_1|CGC16    3\n",
       "                        ..\n",
       "MGYG000298358_42|CGC1    1\n",
       "MGYG000298358_41|CGC1    1\n",
       "MGYG000298358_40|CGC1    1\n",
       "MGYG000298358_26|CGC1    1\n",
       "MGYG000299272_9|CGC1     1\n",
       "Name: cgc_id, Length: 1446, dtype: int64"
      ]
     },
     "execution_count": 121,
     "metadata": {},
     "output_type": "execute_result"
    }
   ],
   "source": [
    "jf_oral[\"cgc_id\"].value_counts()"
   ]
  },
  {
   "cell_type": "code",
   "execution_count": 122,
   "id": "dd6cc26c",
   "metadata": {},
   "outputs": [],
   "source": [
    "jf_oral = jf_oral.drop_duplicates(\"cgc_id\")"
   ]
  },
  {
   "cell_type": "code",
   "execution_count": 123,
   "id": "ce507303",
   "metadata": {},
   "outputs": [
    {
     "data": {
      "text/plain": [
       "(1446, 4)"
      ]
     },
     "execution_count": 123,
     "metadata": {},
     "output_type": "execute_result"
    }
   ],
   "source": [
    "jf_oral.shape"
   ]
  },
  {
   "cell_type": "code",
   "execution_count": 124,
   "id": "d7a76602",
   "metadata": {},
   "outputs": [],
   "source": [
    "jf_oral.columns = [\"cgc_id\", \"sig_gene_seq\", \"PULid\", \"JF_high_level_substr\"]"
   ]
  },
  {
   "cell_type": "code",
   "execution_count": 125,
   "id": "5007ecfc",
   "metadata": {},
   "outputs": [],
   "source": [
    "## read subfinder output\n",
    "subfinder_oral= pd.read_csv(r\"Data/Output/Predictions/Predictions_oral_with_probability_and_p_values_Blast_Style_new_sup_new_unsup.csv\")"
   ]
  },
  {
   "cell_type": "code",
   "execution_count": 126,
   "id": "0769fd84",
   "metadata": {},
   "outputs": [
    {
     "data": {
      "text/plain": [
       "(31346, 4)"
      ]
     },
     "execution_count": 126,
     "metadata": {},
     "output_type": "execute_result"
    }
   ],
   "source": [
    "subfinder_oral.shape"
   ]
  },
  {
   "cell_type": "code",
   "execution_count": 127,
   "id": "026f17ad",
   "metadata": {},
   "outputs": [
    {
     "data": {
      "text/plain": [
       "4478"
      ]
     },
     "execution_count": 127,
     "metadata": {},
     "output_type": "execute_result"
    }
   ],
   "source": [
    "subfinder_oral[\"sequence\"].nunique()"
   ]
  },
  {
   "cell_type": "code",
   "execution_count": 128,
   "id": "00fea272",
   "metadata": {},
   "outputs": [
    {
     "data": {
      "text/html": [
       "<div>\n",
       "<style scoped>\n",
       "    .dataframe tbody tr th:only-of-type {\n",
       "        vertical-align: middle;\n",
       "    }\n",
       "\n",
       "    .dataframe tbody tr th {\n",
       "        vertical-align: top;\n",
       "    }\n",
       "\n",
       "    .dataframe thead th {\n",
       "        text-align: right;\n",
       "    }\n",
       "</style>\n",
       "<table border=\"1\" class=\"dataframe\">\n",
       "  <thead>\n",
       "    <tr style=\"text-align: right;\">\n",
       "      <th></th>\n",
       "      <th>sequence</th>\n",
       "      <th>substrate</th>\n",
       "      <th>probability_score</th>\n",
       "      <th>p_value</th>\n",
       "    </tr>\n",
       "  </thead>\n",
       "  <tbody>\n",
       "    <tr>\n",
       "      <th>0</th>\n",
       "      <td>1.A.1,9.B.143,GH13_20</td>\n",
       "      <td>alginate</td>\n",
       "      <td>0.201333</td>\n",
       "      <td>0.999969</td>\n",
       "    </tr>\n",
       "    <tr>\n",
       "      <th>1</th>\n",
       "      <td>1.A.1,9.B.143,GH13_20</td>\n",
       "      <td>beta-glucan</td>\n",
       "      <td>0.370667</td>\n",
       "      <td>0.999969</td>\n",
       "    </tr>\n",
       "    <tr>\n",
       "      <th>2</th>\n",
       "      <td>1.A.1,9.B.143,GH13_20</td>\n",
       "      <td>cellulose</td>\n",
       "      <td>0.242000</td>\n",
       "      <td>0.999969</td>\n",
       "    </tr>\n",
       "    <tr>\n",
       "      <th>3</th>\n",
       "      <td>1.A.1,9.B.143,GH13_20</td>\n",
       "      <td>host glycan</td>\n",
       "      <td>0.264000</td>\n",
       "      <td>0.999969</td>\n",
       "    </tr>\n",
       "    <tr>\n",
       "      <th>4</th>\n",
       "      <td>1.A.1,9.B.143,GH13_20</td>\n",
       "      <td>pectin</td>\n",
       "      <td>0.291333</td>\n",
       "      <td>0.999969</td>\n",
       "    </tr>\n",
       "  </tbody>\n",
       "</table>\n",
       "</div>"
      ],
      "text/plain": [
       "                sequence    substrate  probability_score   p_value\n",
       "0  1.A.1,9.B.143,GH13_20     alginate           0.201333  0.999969\n",
       "1  1.A.1,9.B.143,GH13_20  beta-glucan           0.370667  0.999969\n",
       "2  1.A.1,9.B.143,GH13_20    cellulose           0.242000  0.999969\n",
       "3  1.A.1,9.B.143,GH13_20  host glycan           0.264000  0.999969\n",
       "4  1.A.1,9.B.143,GH13_20       pectin           0.291333  0.999969"
      ]
     },
     "execution_count": 128,
     "metadata": {},
     "output_type": "execute_result"
    }
   ],
   "source": [
    "subfinder_oral.head()"
   ]
  },
  {
   "cell_type": "code",
   "execution_count": 129,
   "id": "7a968047",
   "metadata": {},
   "outputs": [],
   "source": [
    "subfinder_oral.columns = [\"sequence\", \"subFinder_high_level_substr\", \"probability_score\", \"p_value\"]"
   ]
  },
  {
   "cell_type": "code",
   "execution_count": 130,
   "id": "b859b868",
   "metadata": {},
   "outputs": [
    {
     "data": {
      "text/plain": [
       "4478"
      ]
     },
     "execution_count": 130,
     "metadata": {},
     "output_type": "execute_result"
    }
   ],
   "source": [
    "len(subfinder_oral.groupby('sequence')['probability_score'].idxmax().values)"
   ]
  },
  {
   "cell_type": "code",
   "execution_count": 131,
   "id": "ec033834",
   "metadata": {},
   "outputs": [],
   "source": [
    "subfinder_oral_preds = subfinder_oral.iloc[subfinder_oral.groupby('sequence')['probability_score'].idxmax().values,:]"
   ]
  },
  {
   "cell_type": "code",
   "execution_count": 132,
   "id": "09cdf2a5",
   "metadata": {},
   "outputs": [],
   "source": [
    "subfinder_oral_preds = subfinder_oral_preds.reset_index(drop = True)"
   ]
  },
  {
   "cell_type": "code",
   "execution_count": 133,
   "id": "6cbfed87",
   "metadata": {},
   "outputs": [
    {
     "data": {
      "text/html": [
       "<div>\n",
       "<style scoped>\n",
       "    .dataframe tbody tr th:only-of-type {\n",
       "        vertical-align: middle;\n",
       "    }\n",
       "\n",
       "    .dataframe tbody tr th {\n",
       "        vertical-align: top;\n",
       "    }\n",
       "\n",
       "    .dataframe thead th {\n",
       "        text-align: right;\n",
       "    }\n",
       "</style>\n",
       "<table border=\"1\" class=\"dataframe\">\n",
       "  <thead>\n",
       "    <tr style=\"text-align: right;\">\n",
       "      <th></th>\n",
       "      <th>sequence</th>\n",
       "      <th>subFinder_high_level_substr</th>\n",
       "      <th>probability_score</th>\n",
       "      <th>p_value</th>\n",
       "    </tr>\n",
       "  </thead>\n",
       "  <tbody>\n",
       "    <tr>\n",
       "      <th>0</th>\n",
       "      <td>1.A.1,9.B.143,GH13_20</td>\n",
       "      <td>starch</td>\n",
       "      <td>0.413333</td>\n",
       "      <td>0.999969</td>\n",
       "    </tr>\n",
       "    <tr>\n",
       "      <th>1</th>\n",
       "      <td>1.A.1,GH49,3.A.1,null,3.A.9</td>\n",
       "      <td>beta-glucan</td>\n",
       "      <td>0.456667</td>\n",
       "      <td>0.999512</td>\n",
       "    </tr>\n",
       "    <tr>\n",
       "      <th>2</th>\n",
       "      <td>1.A.11,1.A.11,3.A.5,TetR_N,GT2</td>\n",
       "      <td>beta-glucan</td>\n",
       "      <td>0.353333</td>\n",
       "      <td>0.999969</td>\n",
       "    </tr>\n",
       "    <tr>\n",
       "      <th>3</th>\n",
       "      <td>1.A.11,2.A.37,3.A.5,TetR_N,GT2</td>\n",
       "      <td>beta-glucan</td>\n",
       "      <td>0.420000</td>\n",
       "      <td>0.999969</td>\n",
       "    </tr>\n",
       "    <tr>\n",
       "      <th>4</th>\n",
       "      <td>1.A.14,GH20</td>\n",
       "      <td>host glycan</td>\n",
       "      <td>0.505333</td>\n",
       "      <td>0.150879</td>\n",
       "    </tr>\n",
       "  </tbody>\n",
       "</table>\n",
       "</div>"
      ],
      "text/plain": [
       "                         sequence subFinder_high_level_substr  \\\n",
       "0           1.A.1,9.B.143,GH13_20                      starch   \n",
       "1     1.A.1,GH49,3.A.1,null,3.A.9                 beta-glucan   \n",
       "2  1.A.11,1.A.11,3.A.5,TetR_N,GT2                 beta-glucan   \n",
       "3  1.A.11,2.A.37,3.A.5,TetR_N,GT2                 beta-glucan   \n",
       "4                     1.A.14,GH20                 host glycan   \n",
       "\n",
       "   probability_score   p_value  \n",
       "0           0.413333  0.999969  \n",
       "1           0.456667  0.999512  \n",
       "2           0.353333  0.999969  \n",
       "3           0.420000  0.999969  \n",
       "4           0.505333  0.150879  "
      ]
     },
     "execution_count": 133,
     "metadata": {},
     "output_type": "execute_result"
    }
   ],
   "source": [
    "subfinder_oral_preds.head()"
   ]
  },
  {
   "cell_type": "code",
   "execution_count": 134,
   "id": "e77aa9d9",
   "metadata": {},
   "outputs": [],
   "source": [
    "to_keep = subfinder_oral_preds[\"subFinder_high_level_substr\"].unique()"
   ]
  },
  {
   "cell_type": "code",
   "execution_count": 135,
   "id": "30678fdd",
   "metadata": {},
   "outputs": [],
   "source": [
    "oral_data = pd.read_csv(r\"Data/Output/Unsupervised_10_12/output_humanoral.csv\")"
   ]
  },
  {
   "cell_type": "code",
   "execution_count": 136,
   "id": "d7153699",
   "metadata": {},
   "outputs": [],
   "source": [
    "oral_data = oral_data.drop_duplicates(\"sequence\")"
   ]
  },
  {
   "cell_type": "code",
   "execution_count": 137,
   "id": "043bbd1f",
   "metadata": {},
   "outputs": [],
   "source": [
    "subfinder_oral_preds = subfinder_oral_preds.merge(oral_data, how = \"left\", on = \"sequence\")"
   ]
  },
  {
   "cell_type": "code",
   "execution_count": 138,
   "id": "c3f885d7",
   "metadata": {},
   "outputs": [
    {
     "data": {
      "text/plain": [
       "(4478, 5)"
      ]
     },
     "execution_count": 138,
     "metadata": {},
     "output_type": "execute_result"
    }
   ],
   "source": [
    "subfinder_oral_preds.shape"
   ]
  },
  {
   "cell_type": "code",
   "execution_count": 139,
   "id": "68572827",
   "metadata": {},
   "outputs": [],
   "source": [
    "# two filtering\n",
    "# form jinfang keep those in top_k of subfinder\n",
    "# and then also the common cgc ids\n",
    "# some cgc ids from jinfang not found in the new data I received\n",
    "# but it is minimal"
   ]
  },
  {
   "cell_type": "code",
   "execution_count": 140,
   "id": "50319094",
   "metadata": {},
   "outputs": [],
   "source": [
    "# basically we cant just do common cgc_ids because our model doesn't see those classes to be able to predict them"
   ]
  },
  {
   "cell_type": "code",
   "execution_count": 141,
   "id": "b04272d4",
   "metadata": {},
   "outputs": [],
   "source": [
    "jf_oral_to_kepp = jf_oral[jf_oral[\"JF_high_level_substr\"].isin(to_keep)]"
   ]
  },
  {
   "cell_type": "code",
   "execution_count": 142,
   "id": "02e4d5d6",
   "metadata": {},
   "outputs": [
    {
     "data": {
      "text/plain": [
       "(486, 4)"
      ]
     },
     "execution_count": 142,
     "metadata": {},
     "output_type": "execute_result"
    }
   ],
   "source": [
    "jf_oral_to_kepp.shape"
   ]
  },
  {
   "cell_type": "code",
   "execution_count": 143,
   "id": "55e4f85a",
   "metadata": {},
   "outputs": [],
   "source": [
    "overlapped = subfinder_oral_preds.merge(jf_oral_to_kepp[[\"cgc_id\", \"JF_high_level_substr\"]], how = \"inner\", on = [\"cgc_id\"])"
   ]
  },
  {
   "cell_type": "code",
   "execution_count": 144,
   "id": "81f15a51",
   "metadata": {},
   "outputs": [
    {
     "data": {
      "text/html": [
       "<div>\n",
       "<style scoped>\n",
       "    .dataframe tbody tr th:only-of-type {\n",
       "        vertical-align: middle;\n",
       "    }\n",
       "\n",
       "    .dataframe tbody tr th {\n",
       "        vertical-align: top;\n",
       "    }\n",
       "\n",
       "    .dataframe thead th {\n",
       "        text-align: right;\n",
       "    }\n",
       "</style>\n",
       "<table border=\"1\" class=\"dataframe\">\n",
       "  <thead>\n",
       "    <tr style=\"text-align: right;\">\n",
       "      <th></th>\n",
       "      <th>sequence</th>\n",
       "      <th>subFinder_high_level_substr</th>\n",
       "      <th>probability_score</th>\n",
       "      <th>p_value</th>\n",
       "      <th>cgc_id</th>\n",
       "      <th>JF_high_level_substr</th>\n",
       "    </tr>\n",
       "  </thead>\n",
       "  <tbody>\n",
       "    <tr>\n",
       "      <th>0</th>\n",
       "      <td>1.A.14,null,GH92,GH92,null,1.B.14</td>\n",
       "      <td>host glycan</td>\n",
       "      <td>0.650667</td>\n",
       "      <td>0.000000</td>\n",
       "      <td>MGYG000299211_40|CGC1</td>\n",
       "      <td>pectin</td>\n",
       "    </tr>\n",
       "    <tr>\n",
       "      <th>1</th>\n",
       "      <td>1.A.23,null,null,GH1,4.A.1,4.A.1,0043669,null,...</td>\n",
       "      <td>starch</td>\n",
       "      <td>0.529333</td>\n",
       "      <td>0.059235</td>\n",
       "      <td>MGYG000298799_6|CGC2</td>\n",
       "      <td>beta-glucan</td>\n",
       "    </tr>\n",
       "    <tr>\n",
       "      <th>2</th>\n",
       "      <td>1.A.26,GH13_31,3.A.1,3.A.1,null,SBP_bac_1,3.A....</td>\n",
       "      <td>starch</td>\n",
       "      <td>0.670667</td>\n",
       "      <td>0.000000</td>\n",
       "      <td>MGYG000298401_1|CGC11</td>\n",
       "      <td>starch</td>\n",
       "    </tr>\n",
       "    <tr>\n",
       "      <th>3</th>\n",
       "      <td>1.A.30,null,GerE,GT35,GH77,PfkB,CBM34|GH13_20</td>\n",
       "      <td>starch</td>\n",
       "      <td>0.598667</td>\n",
       "      <td>0.000031</td>\n",
       "      <td>MGYG000298503_13|CGC1</td>\n",
       "      <td>starch</td>\n",
       "    </tr>\n",
       "    <tr>\n",
       "      <th>4</th>\n",
       "      <td>1.A.43,null,GH97,GH27,GH27,null,8.A.46,1.B.14</td>\n",
       "      <td>starch</td>\n",
       "      <td>0.564667</td>\n",
       "      <td>0.000488</td>\n",
       "      <td>MGYG000298895_66|CGC2</td>\n",
       "      <td>starch</td>\n",
       "    </tr>\n",
       "  </tbody>\n",
       "</table>\n",
       "</div>"
      ],
      "text/plain": [
       "                                            sequence  \\\n",
       "0                  1.A.14,null,GH92,GH92,null,1.B.14   \n",
       "1  1.A.23,null,null,GH1,4.A.1,4.A.1,0043669,null,...   \n",
       "2  1.A.26,GH13_31,3.A.1,3.A.1,null,SBP_bac_1,3.A....   \n",
       "3      1.A.30,null,GerE,GT35,GH77,PfkB,CBM34|GH13_20   \n",
       "4      1.A.43,null,GH97,GH27,GH27,null,8.A.46,1.B.14   \n",
       "\n",
       "  subFinder_high_level_substr  probability_score   p_value  \\\n",
       "0                 host glycan           0.650667  0.000000   \n",
       "1                      starch           0.529333  0.059235   \n",
       "2                      starch           0.670667  0.000000   \n",
       "3                      starch           0.598667  0.000031   \n",
       "4                      starch           0.564667  0.000488   \n",
       "\n",
       "                  cgc_id JF_high_level_substr  \n",
       "0  MGYG000299211_40|CGC1               pectin  \n",
       "1   MGYG000298799_6|CGC2          beta-glucan  \n",
       "2  MGYG000298401_1|CGC11               starch  \n",
       "3  MGYG000298503_13|CGC1               starch  \n",
       "4  MGYG000298895_66|CGC2               starch  "
      ]
     },
     "execution_count": 144,
     "metadata": {},
     "output_type": "execute_result"
    }
   ],
   "source": [
    "overlapped.head()"
   ]
  },
  {
   "cell_type": "code",
   "execution_count": 145,
   "id": "0ed2669e",
   "metadata": {},
   "outputs": [
    {
     "data": {
      "text/plain": [
       "(413, 6)"
      ]
     },
     "execution_count": 145,
     "metadata": {},
     "output_type": "execute_result"
    }
   ],
   "source": [
    "overlapped.shape"
   ]
  },
  {
   "cell_type": "code",
   "execution_count": 146,
   "id": "874452ac",
   "metadata": {},
   "outputs": [],
   "source": [
    "match = overlapped[overlapped[\"subFinder_high_level_substr\"] == overlapped[\"JF_high_level_substr\"]]\n",
    "\n",
    "match = match[[\"cgc_id\", \"sequence\", \"subFinder_high_level_substr\", \"JF_high_level_substr\", \"probability_score\", \"p_value\"]]\n",
    "\n",
    "match.to_csv(r\"Data\\Output\\Predictions\\oral_match_with_JF.csv\", index = False)"
   ]
  },
  {
   "cell_type": "code",
   "execution_count": 159,
   "id": "0883da8d",
   "metadata": {},
   "outputs": [
    {
     "data": {
      "text/plain": [
       "starch         185\n",
       "host glycan     93\n",
       "beta-glucan     19\n",
       "pectin          13\n",
       "xylan           11\n",
       "cellulose        1\n",
       "Name: subFinder_high_level_substr, dtype: int64"
      ]
     },
     "execution_count": 159,
     "metadata": {},
     "output_type": "execute_result"
    }
   ],
   "source": [
    "match[\"subFinder_high_level_substr\"].value_counts()"
   ]
  },
  {
   "cell_type": "code",
   "execution_count": 147,
   "id": "f6c59d2f",
   "metadata": {},
   "outputs": [
    {
     "data": {
      "text/plain": [
       "(322, 6)"
      ]
     },
     "execution_count": 147,
     "metadata": {},
     "output_type": "execute_result"
    }
   ],
   "source": [
    "match.shape"
   ]
  },
  {
   "cell_type": "code",
   "execution_count": 148,
   "id": "0294bdfc",
   "metadata": {},
   "outputs": [
    {
     "data": {
      "text/plain": [
       "486"
      ]
     },
     "execution_count": 148,
     "metadata": {},
     "output_type": "execute_result"
    }
   ],
   "source": [
    "overlapped.shape[0] + len(set(jf_oral_to_kepp[\"cgc_id\"].values).difference(oral_data[\"cgc_id\"].values))"
   ]
  },
  {
   "cell_type": "code",
   "execution_count": 149,
   "id": "7bbb2741",
   "metadata": {},
   "outputs": [
    {
     "data": {
      "text/plain": [
       "(486, 4)"
      ]
     },
     "execution_count": 149,
     "metadata": {},
     "output_type": "execute_result"
    }
   ],
   "source": [
    "jf_oral_to_kepp.shape"
   ]
  },
  {
   "cell_type": "code",
   "execution_count": 150,
   "id": "6f8d7042",
   "metadata": {},
   "outputs": [
    {
     "data": {
      "text/plain": [
       "73"
      ]
     },
     "execution_count": 150,
     "metadata": {},
     "output_type": "execute_result"
    }
   ],
   "source": [
    "len(set(jf_oral_to_kepp[\"cgc_id\"].values).difference(oral_data[\"cgc_id\"].values))"
   ]
  },
  {
   "cell_type": "code",
   "execution_count": 151,
   "id": "8f8c425a",
   "metadata": {},
   "outputs": [
    {
     "data": {
      "text/plain": [
       "0.7796610169491526"
      ]
     },
     "execution_count": 151,
     "metadata": {},
     "output_type": "execute_result"
    }
   ],
   "source": [
    "np.mean(overlapped[\"subFinder_high_level_substr\"] == overlapped[\"JF_high_level_substr\"])"
   ]
  },
  {
   "cell_type": "code",
   "execution_count": 152,
   "id": "9bb67f56",
   "metadata": {},
   "outputs": [
    {
     "data": {
      "image/png": "[encoded data removed]",
      "text/plain": [
       "<Figure size 432x288 with 1 Axes>"
      ]
     },
     "metadata": {
      "needs_background": "light"
     },
     "output_type": "display_data"
    }
   ],
   "source": [
    "plt.hist(overlapped[\"p_value\"])\n",
    "plt.show()"
   ]
  },
  {
   "cell_type": "code",
   "execution_count": 153,
   "id": "73ba85b8",
   "metadata": {},
   "outputs": [],
   "source": [
    "thresholded = subfinder_oral_preds[subfinder_oral_preds[\"p_value\"] <= 0.1]"
   ]
  },
  {
   "cell_type": "code",
   "execution_count": 154,
   "id": "3763fe4d",
   "metadata": {},
   "outputs": [],
   "source": [
    "thresholded_overlapped = thresholded.merge(jf_oral_to_kepp[[\"cgc_id\", \"JF_high_level_substr\"]], how = \"inner\", on = [\"cgc_id\"])"
   ]
  },
  {
   "cell_type": "code",
   "execution_count": 155,
   "id": "083f721e",
   "metadata": {},
   "outputs": [
    {
     "data": {
      "text/plain": [
       "(328, 6)"
      ]
     },
     "execution_count": 155,
     "metadata": {},
     "output_type": "execute_result"
    }
   ],
   "source": [
    "thresholded_overlapped.shape"
   ]
  },
  {
   "cell_type": "code",
   "execution_count": 156,
   "id": "588737f4",
   "metadata": {},
   "outputs": [
    {
     "data": {
      "text/plain": [
       "0.8475609756097561"
      ]
     },
     "execution_count": 156,
     "metadata": {},
     "output_type": "execute_result"
    }
   ],
   "source": [
    "np.mean(thresholded_overlapped[\"subFinder_high_level_substr\"] == thresholded_overlapped[\"JF_high_level_substr\"])"
   ]
  },
  {
   "cell_type": "code",
   "execution_count": 158,
   "id": "979bd8b2",
   "metadata": {},
   "outputs": [
    {
     "data": {
      "text/plain": [
       "starch         228\n",
       "host glycan    127\n",
       "beta-glucan     48\n",
       "xylan           45\n",
       "pectin          35\n",
       "cellulose        3\n",
       "Name: JF_high_level_substr, dtype: int64"
      ]
     },
     "execution_count": 158,
     "metadata": {},
     "output_type": "execute_result"
    }
   ],
   "source": [
    "jf_oral_to_kepp[\"JF_high_level_substr\"].value_counts()"
   ]
  }
 ],
 "metadata": {
  "kernelspec": {
   "display_name": "newone1",
   "language": "python",
   "name": "newone1"
  },
  "language_info": {
   "codemirror_mode": {
    "name": "ipython",
    "version": 3
   },
   "file_extension": ".py",
   "mimetype": "text/x-python",
   "name": "python",
   "nbconvert_exporter": "python",
   "pygments_lexer": "ipython3",
   "version": "3.9.12"
  }
 },
 "nbformat": 4,
 "nbformat_minor": 5
}
