{
 "cells": [
  {
   "cell_type": "code",
   "execution_count": 174,
   "id": "decd049f",
   "metadata": {},
   "outputs": [],
   "source": [
    "import os\n",
    "\n",
    "os.chdir(r'D:\\subFinder')"
   ]
  },
  {
   "cell_type": "code",
   "execution_count": 175,
   "id": "ee6c814e",
   "metadata": {},
   "outputs": [],
   "source": [
    "import pandas as pd\n",
    "import gensim\n",
    "from Codes.Supervised_Trainer import run_end_to_end\n",
    "import plotly.express as px\n",
    "import matplotlib.pyplot as plt\n",
    "import numpy as np"
   ]
  },
  {
   "cell_type": "code",
   "execution_count": 176,
   "id": "d6251427",
   "metadata": {},
   "outputs": [],
   "source": [
    "# jf_marine = pd.read_csv(r\"D:\\subFinder\\Data\\Jinfang_Preds\\tmp.marine.clean\", sep = \"\\t\", header = None)"
   ]
  },
  {
   "cell_type": "code",
   "execution_count": 177,
   "id": "e2e527b1",
   "metadata": {},
   "outputs": [],
   "source": [
    "# jf_oral = pd.read_csv(r\"D:\\subFinder\\Data\\Jinfang_Preds\\tmp.oral.clean\", sep = \"\\t\", header = None)"
   ]
  },
  {
   "cell_type": "code",
   "execution_count": 178,
   "id": "9ea35372",
   "metadata": {},
   "outputs": [],
   "source": [
    "# jf_rumen = pd.read_csv(r\"D:\\subFinder\\Data\\Jinfang_Preds\\tmp.rumen.clean\", sep = \"\\t\", header = None)"
   ]
  },
  {
   "cell_type": "code",
   "execution_count": 179,
   "id": "8ea5a786",
   "metadata": {},
   "outputs": [],
   "source": [
    "jf_marine = pd.read_csv(r\"D:\\subFinder\\Data\\Jinfang_Preds\\tmp.marine.clean\", sep = \"\\t\", header = None)"
   ]
  },
  {
   "cell_type": "code",
   "execution_count": 180,
   "id": "cdde4f19",
   "metadata": {},
   "outputs": [],
   "source": [
    "# jf_all = pd.concat([jf_marine, jf_oral, jf_rumen, jf_uhgg], 0, ignore_index = True)"
   ]
  },
  {
   "cell_type": "code",
   "execution_count": 181,
   "id": "bedfabcf",
   "metadata": {},
   "outputs": [],
   "source": [
    "# jf_all = jf_all[[1,2,3,4]]"
   ]
  },
  {
   "cell_type": "code",
   "execution_count": 182,
   "id": "224f899f",
   "metadata": {},
   "outputs": [],
   "source": [
    "jf_marine = jf_marine[[1,2,3,4]]"
   ]
  },
  {
   "cell_type": "code",
   "execution_count": 183,
   "id": "f39a7518",
   "metadata": {},
   "outputs": [],
   "source": [
    "jf_marine.columns = [\"cgc_id\", \"sig_gene_seq\", \"PULid\", \"high_level_substr\"]"
   ]
  },
  {
   "cell_type": "code",
   "execution_count": 184,
   "id": "c029ea05",
   "metadata": {},
   "outputs": [
    {
     "data": {
      "text/html": [
       "<div>\n",
       "<style scoped>\n",
       "    .dataframe tbody tr th:only-of-type {\n",
       "        vertical-align: middle;\n",
       "    }\n",
       "\n",
       "    .dataframe tbody tr th {\n",
       "        vertical-align: top;\n",
       "    }\n",
       "\n",
       "    .dataframe thead th {\n",
       "        text-align: right;\n",
       "    }\n",
       "</style>\n",
       "<table border=\"1\" class=\"dataframe\">\n",
       "  <thead>\n",
       "    <tr style=\"text-align: right;\">\n",
       "      <th></th>\n",
       "      <th>cgc_id</th>\n",
       "      <th>sig_gene_seq</th>\n",
       "      <th>PULid</th>\n",
       "      <th>high_level_substr</th>\n",
       "    </tr>\n",
       "  </thead>\n",
       "  <tbody>\n",
       "    <tr>\n",
       "      <th>0</th>\n",
       "      <td>MGYG000296011_5|CGC1</td>\n",
       "      <td>GH65,GH13,GH13,null,9.A.24.1.7</td>\n",
       "      <td>X</td>\n",
       "      <td>starch</td>\n",
       "    </tr>\n",
       "    <tr>\n",
       "      <th>1</th>\n",
       "      <td>MGYG000296013_12|CGC1</td>\n",
       "      <td>2.A.2.3.6,GH1,2.A.1.7.10,GH3,1.B.14.12.1,GH16_...</td>\n",
       "      <td>X</td>\n",
       "      <td>beta-glucan</td>\n",
       "    </tr>\n",
       "    <tr>\n",
       "      <th>2</th>\n",
       "      <td>MGYG000296017_51|CGC1</td>\n",
       "      <td>GH115,GH115,GH43|GH43_1,null,2.A.2.3.6</td>\n",
       "      <td>X</td>\n",
       "      <td>xylan</td>\n",
       "    </tr>\n",
       "    <tr>\n",
       "      <th>3</th>\n",
       "      <td>MGYG000296017_60|CGC1</td>\n",
       "      <td>GH67,GH67,8.A.5.1.6</td>\n",
       "      <td>X</td>\n",
       "      <td>xylan</td>\n",
       "    </tr>\n",
       "    <tr>\n",
       "      <th>4</th>\n",
       "      <td>MGYG000296017_84|CGC1</td>\n",
       "      <td>2.A.37.1.1,null,3.A.1.25.7,2.4.1.321|GH94,GH94...</td>\n",
       "      <td>X</td>\n",
       "      <td>cellulose</td>\n",
       "    </tr>\n",
       "  </tbody>\n",
       "</table>\n",
       "</div>"
      ],
      "text/plain": [
       "                  cgc_id                                       sig_gene_seq  \\\n",
       "0   MGYG000296011_5|CGC1                     GH65,GH13,GH13,null,9.A.24.1.7   \n",
       "1  MGYG000296013_12|CGC1  2.A.2.3.6,GH1,2.A.1.7.10,GH3,1.B.14.12.1,GH16_...   \n",
       "2  MGYG000296017_51|CGC1             GH115,GH115,GH43|GH43_1,null,2.A.2.3.6   \n",
       "3  MGYG000296017_60|CGC1                                GH67,GH67,8.A.5.1.6   \n",
       "4  MGYG000296017_84|CGC1  2.A.37.1.1,null,3.A.1.25.7,2.4.1.321|GH94,GH94...   \n",
       "\n",
       "  PULid high_level_substr  \n",
       "0     X            starch  \n",
       "1     X       beta-glucan  \n",
       "2     X             xylan  \n",
       "3     X             xylan  \n",
       "4     X         cellulose  "
      ]
     },
     "execution_count": 184,
     "metadata": {},
     "output_type": "execute_result"
    }
   ],
   "source": [
    "jf_marine.head()"
   ]
  },
  {
   "cell_type": "code",
   "execution_count": 185,
   "id": "b74cbdac",
   "metadata": {},
   "outputs": [
    {
     "data": {
      "text/plain": [
       "MGYG000296188_1|CGC10    3\n",
       "MGYG000296971_56|CGC1    3\n",
       "MGYG000296602_6|CGC1     3\n",
       "MGYG000296075_2|CGC12    3\n",
       "MGYG000296075_2|CGC11    3\n",
       "                        ..\n",
       "MGYG000296424_2|CGC3     1\n",
       "MGYG000296422_5|CGC1     1\n",
       "MGYG000296422_4|CGC2     1\n",
       "MGYG000296422_3|CGC1     1\n",
       "MGYG000297503_2|CGC1     1\n",
       "Name: cgc_id, Length: 2149, dtype: int64"
      ]
     },
     "execution_count": 185,
     "metadata": {},
     "output_type": "execute_result"
    }
   ],
   "source": [
    "jf_marine[\"cgc_id\"].value_counts()"
   ]
  },
  {
   "cell_type": "code",
   "execution_count": 186,
   "id": "dd6cc26c",
   "metadata": {},
   "outputs": [],
   "source": [
    "jf_marine = jf_marine.drop_duplicates(\"cgc_id\")"
   ]
  },
  {
   "cell_type": "code",
   "execution_count": 187,
   "id": "ce507303",
   "metadata": {},
   "outputs": [
    {
     "data": {
      "text/plain": [
       "(2149, 4)"
      ]
     },
     "execution_count": 187,
     "metadata": {},
     "output_type": "execute_result"
    }
   ],
   "source": [
    "jf_marine.shape"
   ]
  },
  {
   "cell_type": "code",
   "execution_count": 188,
   "id": "d7a76602",
   "metadata": {},
   "outputs": [],
   "source": [
    "jf_marine.columns = [\"cgc_id\", \"sig_gene_seq\", \"PULid\", \"JF_high_level_substr\"]"
   ]
  },
  {
   "cell_type": "code",
   "execution_count": 189,
   "id": "5007ecfc",
   "metadata": {},
   "outputs": [],
   "source": [
    "## read subfinder output\n",
    "subfinder_marine = pd.read_csv(r\"Data/Output/Predictions/Predictions_marine_with_probability_and_p_values_Blast_Style_new_sup_new_unsup.csv\")"
   ]
  },
  {
   "cell_type": "code",
   "execution_count": 190,
   "id": "0769fd84",
   "metadata": {},
   "outputs": [
    {
     "data": {
      "text/plain": [
       "(84350, 4)"
      ]
     },
     "execution_count": 190,
     "metadata": {},
     "output_type": "execute_result"
    }
   ],
   "source": [
    "subfinder_marine.shape"
   ]
  },
  {
   "cell_type": "code",
   "execution_count": 191,
   "id": "026f17ad",
   "metadata": {},
   "outputs": [
    {
     "data": {
      "text/plain": [
       "12050"
      ]
     },
     "execution_count": 191,
     "metadata": {},
     "output_type": "execute_result"
    }
   ],
   "source": [
    "subfinder_marine[\"sequence\"].nunique()"
   ]
  },
  {
   "cell_type": "code",
   "execution_count": 192,
   "id": "00fea272",
   "metadata": {},
   "outputs": [
    {
     "data": {
      "text/html": [
       "<div>\n",
       "<style scoped>\n",
       "    .dataframe tbody tr th:only-of-type {\n",
       "        vertical-align: middle;\n",
       "    }\n",
       "\n",
       "    .dataframe tbody tr th {\n",
       "        vertical-align: top;\n",
       "    }\n",
       "\n",
       "    .dataframe thead th {\n",
       "        text-align: right;\n",
       "    }\n",
       "</style>\n",
       "<table border=\"1\" class=\"dataframe\">\n",
       "  <thead>\n",
       "    <tr style=\"text-align: right;\">\n",
       "      <th></th>\n",
       "      <th>sequence</th>\n",
       "      <th>substrate</th>\n",
       "      <th>probability_score</th>\n",
       "      <th>p_value</th>\n",
       "    </tr>\n",
       "  </thead>\n",
       "  <tbody>\n",
       "    <tr>\n",
       "      <th>0</th>\n",
       "      <td>1.A.1,2.A.25,1.I.1,null,Trans_reg_C,2.A.37,GH73</td>\n",
       "      <td>beta-glucan</td>\n",
       "      <td>0.492000</td>\n",
       "      <td>0.696381</td>\n",
       "    </tr>\n",
       "    <tr>\n",
       "      <th>1</th>\n",
       "      <td>1.A.1,2.A.25,1.I.1,null,Trans_reg_C,2.A.37,GH73</td>\n",
       "      <td>starch</td>\n",
       "      <td>0.438000</td>\n",
       "      <td>0.999512</td>\n",
       "    </tr>\n",
       "    <tr>\n",
       "      <th>2</th>\n",
       "      <td>1.A.1,2.A.25,1.I.1,null,Trans_reg_C,2.A.37,GH73</td>\n",
       "      <td>alginate</td>\n",
       "      <td>0.193333</td>\n",
       "      <td>0.999969</td>\n",
       "    </tr>\n",
       "    <tr>\n",
       "      <th>3</th>\n",
       "      <td>1.A.1,2.A.25,1.I.1,null,Trans_reg_C,2.A.37,GH73</td>\n",
       "      <td>cellulose</td>\n",
       "      <td>0.218667</td>\n",
       "      <td>0.999969</td>\n",
       "    </tr>\n",
       "    <tr>\n",
       "      <th>4</th>\n",
       "      <td>1.A.1,2.A.25,1.I.1,null,Trans_reg_C,2.A.37,GH73</td>\n",
       "      <td>host glycan</td>\n",
       "      <td>0.322667</td>\n",
       "      <td>0.999969</td>\n",
       "    </tr>\n",
       "  </tbody>\n",
       "</table>\n",
       "</div>"
      ],
      "text/plain": [
       "                                          sequence    substrate  \\\n",
       "0  1.A.1,2.A.25,1.I.1,null,Trans_reg_C,2.A.37,GH73  beta-glucan   \n",
       "1  1.A.1,2.A.25,1.I.1,null,Trans_reg_C,2.A.37,GH73       starch   \n",
       "2  1.A.1,2.A.25,1.I.1,null,Trans_reg_C,2.A.37,GH73     alginate   \n",
       "3  1.A.1,2.A.25,1.I.1,null,Trans_reg_C,2.A.37,GH73    cellulose   \n",
       "4  1.A.1,2.A.25,1.I.1,null,Trans_reg_C,2.A.37,GH73  host glycan   \n",
       "\n",
       "   probability_score   p_value  \n",
       "0           0.492000  0.696381  \n",
       "1           0.438000  0.999512  \n",
       "2           0.193333  0.999969  \n",
       "3           0.218667  0.999969  \n",
       "4           0.322667  0.999969  "
      ]
     },
     "execution_count": 192,
     "metadata": {},
     "output_type": "execute_result"
    }
   ],
   "source": [
    "subfinder_marine.head()"
   ]
  },
  {
   "cell_type": "code",
   "execution_count": 193,
   "id": "7a968047",
   "metadata": {},
   "outputs": [],
   "source": [
    "subfinder_marine.columns = [\"sequence\", \"subFinder_high_level_substr\", \"probability_score\", \"p_value\"]"
   ]
  },
  {
   "cell_type": "code",
   "execution_count": 194,
   "id": "b859b868",
   "metadata": {},
   "outputs": [
    {
     "data": {
      "text/plain": [
       "12050"
      ]
     },
     "execution_count": 194,
     "metadata": {},
     "output_type": "execute_result"
    }
   ],
   "source": [
    "len(subfinder_marine.groupby('sequence')['probability_score'].idxmax().values)"
   ]
  },
  {
   "cell_type": "code",
   "execution_count": 195,
   "id": "ec033834",
   "metadata": {},
   "outputs": [],
   "source": [
    "subfinder_marine_preds = subfinder_marine.iloc[subfinder_marine.groupby('sequence')['probability_score'].idxmax().values,:]"
   ]
  },
  {
   "cell_type": "code",
   "execution_count": 196,
   "id": "09cdf2a5",
   "metadata": {},
   "outputs": [],
   "source": [
    "subfinder_marine_preds = subfinder_marine_preds.reset_index(drop = True)"
   ]
  },
  {
   "cell_type": "code",
   "execution_count": 197,
   "id": "6cbfed87",
   "metadata": {},
   "outputs": [
    {
     "data": {
      "text/html": [
       "<div>\n",
       "<style scoped>\n",
       "    .dataframe tbody tr th:only-of-type {\n",
       "        vertical-align: middle;\n",
       "    }\n",
       "\n",
       "    .dataframe tbody tr th {\n",
       "        vertical-align: top;\n",
       "    }\n",
       "\n",
       "    .dataframe thead th {\n",
       "        text-align: right;\n",
       "    }\n",
       "</style>\n",
       "<table border=\"1\" class=\"dataframe\">\n",
       "  <thead>\n",
       "    <tr style=\"text-align: right;\">\n",
       "      <th></th>\n",
       "      <th>sequence</th>\n",
       "      <th>subFinder_high_level_substr</th>\n",
       "      <th>probability_score</th>\n",
       "      <th>p_value</th>\n",
       "    </tr>\n",
       "  </thead>\n",
       "  <tbody>\n",
       "    <tr>\n",
       "      <th>0</th>\n",
       "      <td>1.A.1,2.A.25,1.I.1,null,Trans_reg_C,2.A.37,GH73</td>\n",
       "      <td>beta-glucan</td>\n",
       "      <td>0.492000</td>\n",
       "      <td>0.696381</td>\n",
       "    </tr>\n",
       "    <tr>\n",
       "      <th>1</th>\n",
       "      <td>1.A.1,2.A.25,GH19</td>\n",
       "      <td>starch</td>\n",
       "      <td>0.400000</td>\n",
       "      <td>0.999512</td>\n",
       "    </tr>\n",
       "    <tr>\n",
       "      <th>2</th>\n",
       "      <td>1.A.1,2.A.25,null,null,GH13_7</td>\n",
       "      <td>starch</td>\n",
       "      <td>0.516000</td>\n",
       "      <td>0.150879</td>\n",
       "    </tr>\n",
       "    <tr>\n",
       "      <th>3</th>\n",
       "      <td>1.A.1,2.A.28,null,2.A.6,PL42</td>\n",
       "      <td>beta-glucan</td>\n",
       "      <td>0.375333</td>\n",
       "      <td>0.999969</td>\n",
       "    </tr>\n",
       "    <tr>\n",
       "      <th>4</th>\n",
       "      <td>1.A.1,2.A.86,GH3,null,2.A.1</td>\n",
       "      <td>beta-glucan</td>\n",
       "      <td>0.590000</td>\n",
       "      <td>0.000000</td>\n",
       "    </tr>\n",
       "  </tbody>\n",
       "</table>\n",
       "</div>"
      ],
      "text/plain": [
       "                                          sequence  \\\n",
       "0  1.A.1,2.A.25,1.I.1,null,Trans_reg_C,2.A.37,GH73   \n",
       "1                                1.A.1,2.A.25,GH19   \n",
       "2                    1.A.1,2.A.25,null,null,GH13_7   \n",
       "3                     1.A.1,2.A.28,null,2.A.6,PL42   \n",
       "4                      1.A.1,2.A.86,GH3,null,2.A.1   \n",
       "\n",
       "  subFinder_high_level_substr  probability_score   p_value  \n",
       "0                 beta-glucan           0.492000  0.696381  \n",
       "1                      starch           0.400000  0.999512  \n",
       "2                      starch           0.516000  0.150879  \n",
       "3                 beta-glucan           0.375333  0.999969  \n",
       "4                 beta-glucan           0.590000  0.000000  "
      ]
     },
     "execution_count": 197,
     "metadata": {},
     "output_type": "execute_result"
    }
   ],
   "source": [
    "subfinder_marine_preds.head()"
   ]
  },
  {
   "cell_type": "code",
   "execution_count": 198,
   "id": "e77aa9d9",
   "metadata": {},
   "outputs": [],
   "source": [
    "to_keep = subfinder_marine[\"subFinder_high_level_substr\"].unique()"
   ]
  },
  {
   "cell_type": "code",
   "execution_count": 199,
   "id": "30678fdd",
   "metadata": {},
   "outputs": [],
   "source": [
    "marine_data = pd.read_csv(r\"Data/Output/Unsupervised_10_12/output_marine.csv\")"
   ]
  },
  {
   "cell_type": "code",
   "execution_count": 200,
   "id": "d7153699",
   "metadata": {},
   "outputs": [],
   "source": [
    "marine_data = marine_data.drop_duplicates(\"sequence\")"
   ]
  },
  {
   "cell_type": "code",
   "execution_count": 201,
   "id": "043bbd1f",
   "metadata": {},
   "outputs": [],
   "source": [
    "subfinder_marine_preds = subfinder_marine_preds.merge(marine_data, how = \"left\", on = \"sequence\")"
   ]
  },
  {
   "cell_type": "code",
   "execution_count": 202,
   "id": "c3f885d7",
   "metadata": {},
   "outputs": [
    {
     "data": {
      "text/plain": [
       "(12050, 5)"
      ]
     },
     "execution_count": 202,
     "metadata": {},
     "output_type": "execute_result"
    }
   ],
   "source": [
    "subfinder_marine_preds.shape"
   ]
  },
  {
   "cell_type": "code",
   "execution_count": 203,
   "id": "538069d4",
   "metadata": {},
   "outputs": [],
   "source": [
    "# two filtering\n",
    "# form jinfang keep those in top_k of subfinder\n",
    "# and then also the common cgc ids\n",
    "# some cgc ids from jinfang not found in the new data I received\n",
    "# but it is minimal"
   ]
  },
  {
   "cell_type": "code",
   "execution_count": 204,
   "id": "b04272d4",
   "metadata": {},
   "outputs": [],
   "source": [
    "jf_marine_to_kepp = jf_marine[jf_marine[\"JF_high_level_substr\"].isin(to_keep)]"
   ]
  },
  {
   "cell_type": "code",
   "execution_count": 205,
   "id": "c0d9cde2",
   "metadata": {},
   "outputs": [
    {
     "data": {
      "text/plain": [
       "(929, 4)"
      ]
     },
     "execution_count": 205,
     "metadata": {},
     "output_type": "execute_result"
    }
   ],
   "source": [
    "jf_marine_to_kepp.shape"
   ]
  },
  {
   "cell_type": "code",
   "execution_count": 206,
   "id": "55e4f85a",
   "metadata": {},
   "outputs": [],
   "source": [
    "overlapped = subfinder_marine_preds.merge(jf_marine_to_kepp[[\"cgc_id\", \"JF_high_level_substr\"]], how = \"inner\", on = [\"cgc_id\"])"
   ]
  },
  {
   "cell_type": "code",
   "execution_count": 207,
   "id": "81f15a51",
   "metadata": {},
   "outputs": [
    {
     "data": {
      "text/html": [
       "<div>\n",
       "<style scoped>\n",
       "    .dataframe tbody tr th:only-of-type {\n",
       "        vertical-align: middle;\n",
       "    }\n",
       "\n",
       "    .dataframe tbody tr th {\n",
       "        vertical-align: top;\n",
       "    }\n",
       "\n",
       "    .dataframe thead th {\n",
       "        text-align: right;\n",
       "    }\n",
       "</style>\n",
       "<table border=\"1\" class=\"dataframe\">\n",
       "  <thead>\n",
       "    <tr style=\"text-align: right;\">\n",
       "      <th></th>\n",
       "      <th>sequence</th>\n",
       "      <th>subFinder_high_level_substr</th>\n",
       "      <th>probability_score</th>\n",
       "      <th>p_value</th>\n",
       "      <th>cgc_id</th>\n",
       "      <th>JF_high_level_substr</th>\n",
       "    </tr>\n",
       "  </thead>\n",
       "  <tbody>\n",
       "    <tr>\n",
       "      <th>0</th>\n",
       "      <td>1.A.13,Sigma70_r2|Sigma70_r4_2,null,GH5_25|CBM4</td>\n",
       "      <td>beta-glucan</td>\n",
       "      <td>0.463333</td>\n",
       "      <td>0.982422</td>\n",
       "      <td>MGYG000297053_4|CGC4</td>\n",
       "      <td>beta-glucan</td>\n",
       "    </tr>\n",
       "    <tr>\n",
       "      <th>1</th>\n",
       "      <td>1.A.14,8.A.59,LytTR,GH16_3,1.B.14,GH3,GerE,nul...</td>\n",
       "      <td>beta-glucan</td>\n",
       "      <td>0.733333</td>\n",
       "      <td>0.000000</td>\n",
       "      <td>MGYG000297316_8|CGC1</td>\n",
       "      <td>beta-glucan</td>\n",
       "    </tr>\n",
       "    <tr>\n",
       "      <th>2</th>\n",
       "      <td>1.A.23,GH3,3.A.1,3.A.1</td>\n",
       "      <td>beta-glucan</td>\n",
       "      <td>0.484000</td>\n",
       "      <td>0.940765</td>\n",
       "      <td>MGYG000296002_34|CGC1</td>\n",
       "      <td>xylan</td>\n",
       "    </tr>\n",
       "    <tr>\n",
       "      <th>3</th>\n",
       "      <td>1.A.23,GH3,3.A.1,3.A.1,3.A.1</td>\n",
       "      <td>beta-glucan</td>\n",
       "      <td>0.482000</td>\n",
       "      <td>0.940765</td>\n",
       "      <td>MGYG000296398_40|CGC1</td>\n",
       "      <td>xylan</td>\n",
       "    </tr>\n",
       "    <tr>\n",
       "      <th>4</th>\n",
       "      <td>1.A.23,GH3,LexA_DNA_bind,null,3.A.7,null,GH23,...</td>\n",
       "      <td>beta-glucan</td>\n",
       "      <td>0.654000</td>\n",
       "      <td>0.000000</td>\n",
       "      <td>MGYG000297073_6|CGC1</td>\n",
       "      <td>beta-glucan</td>\n",
       "    </tr>\n",
       "  </tbody>\n",
       "</table>\n",
       "</div>"
      ],
      "text/plain": [
       "                                            sequence  \\\n",
       "0    1.A.13,Sigma70_r2|Sigma70_r4_2,null,GH5_25|CBM4   \n",
       "1  1.A.14,8.A.59,LytTR,GH16_3,1.B.14,GH3,GerE,nul...   \n",
       "2                             1.A.23,GH3,3.A.1,3.A.1   \n",
       "3                       1.A.23,GH3,3.A.1,3.A.1,3.A.1   \n",
       "4  1.A.23,GH3,LexA_DNA_bind,null,3.A.7,null,GH23,...   \n",
       "\n",
       "  subFinder_high_level_substr  probability_score   p_value  \\\n",
       "0                 beta-glucan           0.463333  0.982422   \n",
       "1                 beta-glucan           0.733333  0.000000   \n",
       "2                 beta-glucan           0.484000  0.940765   \n",
       "3                 beta-glucan           0.482000  0.940765   \n",
       "4                 beta-glucan           0.654000  0.000000   \n",
       "\n",
       "                  cgc_id JF_high_level_substr  \n",
       "0   MGYG000297053_4|CGC4          beta-glucan  \n",
       "1   MGYG000297316_8|CGC1          beta-glucan  \n",
       "2  MGYG000296002_34|CGC1                xylan  \n",
       "3  MGYG000296398_40|CGC1                xylan  \n",
       "4   MGYG000297073_6|CGC1          beta-glucan  "
      ]
     },
     "execution_count": 207,
     "metadata": {},
     "output_type": "execute_result"
    }
   ],
   "source": [
    "overlapped.head()"
   ]
  },
  {
   "cell_type": "code",
   "execution_count": 208,
   "id": "0ed2669e",
   "metadata": {},
   "outputs": [
    {
     "data": {
      "text/plain": [
       "(845, 6)"
      ]
     },
     "execution_count": 208,
     "metadata": {},
     "output_type": "execute_result"
    }
   ],
   "source": [
    "overlapped.shape"
   ]
  },
  {
   "cell_type": "code",
   "execution_count": 209,
   "id": "77028e14",
   "metadata": {},
   "outputs": [],
   "source": [
    "match = overlapped[overlapped[\"subFinder_high_level_substr\"] == overlapped[\"JF_high_level_substr\"]]\n",
    "\n",
    "match = match[[\"cgc_id\", \"sequence\", \"subFinder_high_level_substr\", \"JF_high_level_substr\", \"probability_score\", \"p_value\"]]\n",
    "\n",
    "match.to_csv(r\"Data\\Output\\Predictions\\marine_match_with_JF.csv\", index = False)"
   ]
  },
  {
   "cell_type": "code",
   "execution_count": 220,
   "id": "b77f44bf",
   "metadata": {},
   "outputs": [
    {
     "data": {
      "text/plain": [
       "beta-glucan    203\n",
       "starch         192\n",
       "pectin          77\n",
       "xylan           65\n",
       "host glycan     54\n",
       "alginate        39\n",
       "cellulose        9\n",
       "Name: subFinder_high_level_substr, dtype: int64"
      ]
     },
     "execution_count": 220,
     "metadata": {},
     "output_type": "execute_result"
    }
   ],
   "source": [
    "match[\"subFinder_high_level_substr\"].value_counts()"
   ]
  },
  {
   "cell_type": "code",
   "execution_count": 210,
   "id": "29758279",
   "metadata": {},
   "outputs": [
    {
     "data": {
      "text/plain": [
       "(639, 6)"
      ]
     },
     "execution_count": 210,
     "metadata": {},
     "output_type": "execute_result"
    }
   ],
   "source": [
    "match.shape"
   ]
  },
  {
   "cell_type": "code",
   "execution_count": 211,
   "id": "8fad2ea7",
   "metadata": {},
   "outputs": [
    {
     "data": {
      "text/plain": [
       "929"
      ]
     },
     "execution_count": 211,
     "metadata": {},
     "output_type": "execute_result"
    }
   ],
   "source": [
    "overlapped.shape[0] + len(set(jf_marine_to_kepp[\"cgc_id\"].values).difference(marine_data[\"cgc_id\"].values))"
   ]
  },
  {
   "cell_type": "code",
   "execution_count": 212,
   "id": "bb08f8a9",
   "metadata": {},
   "outputs": [
    {
     "data": {
      "text/plain": [
       "(929, 4)"
      ]
     },
     "execution_count": 212,
     "metadata": {},
     "output_type": "execute_result"
    }
   ],
   "source": [
    "jf_marine_to_kepp.shape"
   ]
  },
  {
   "cell_type": "code",
   "execution_count": 213,
   "id": "4758bd23",
   "metadata": {},
   "outputs": [
    {
     "data": {
      "text/plain": [
       "84"
      ]
     },
     "execution_count": 213,
     "metadata": {},
     "output_type": "execute_result"
    }
   ],
   "source": [
    "len(set(jf_marine_to_kepp[\"cgc_id\"].values).difference(marine_data[\"cgc_id\"].values))"
   ]
  },
  {
   "cell_type": "code",
   "execution_count": 214,
   "id": "8f8c425a",
   "metadata": {},
   "outputs": [
    {
     "data": {
      "text/plain": [
       "0.7562130177514793"
      ]
     },
     "execution_count": 214,
     "metadata": {},
     "output_type": "execute_result"
    }
   ],
   "source": [
    "np.mean(overlapped[\"subFinder_high_level_substr\"] == overlapped[\"JF_high_level_substr\"])"
   ]
  },
  {
   "cell_type": "code",
   "execution_count": 215,
   "id": "9bb67f56",
   "metadata": {},
   "outputs": [
    {
     "data": {
      "image/png": "[encoded data removed]",
      "text/plain": [
       "<Figure size 432x288 with 1 Axes>"
      ]
     },
     "metadata": {
      "needs_background": "light"
     },
     "output_type": "display_data"
    }
   ],
   "source": [
    "plt.hist(overlapped[\"p_value\"])\n",
    "plt.show()"
   ]
  },
  {
   "cell_type": "code",
   "execution_count": 216,
   "id": "73ba85b8",
   "metadata": {},
   "outputs": [],
   "source": [
    "thresholded = subfinder_marine_preds[subfinder_marine_preds[\"p_value\"] <= 0.1]"
   ]
  },
  {
   "cell_type": "code",
   "execution_count": 217,
   "id": "3763fe4d",
   "metadata": {},
   "outputs": [],
   "source": [
    "thresholded_overlapped = thresholded.merge(jf_marine_to_kepp[[\"cgc_id\", \"JF_high_level_substr\"]], how = \"inner\", on = [\"cgc_id\"])"
   ]
  },
  {
   "cell_type": "code",
   "execution_count": 218,
   "id": "083f721e",
   "metadata": {},
   "outputs": [
    {
     "data": {
      "text/plain": [
       "(718, 6)"
      ]
     },
     "execution_count": 218,
     "metadata": {},
     "output_type": "execute_result"
    }
   ],
   "source": [
    "thresholded_overlapped.shape"
   ]
  },
  {
   "cell_type": "code",
   "execution_count": 219,
   "id": "588737f4",
   "metadata": {},
   "outputs": [
    {
     "data": {
      "text/plain": [
       "0.775766016713092"
      ]
     },
     "execution_count": 219,
     "metadata": {},
     "output_type": "execute_result"
    }
   ],
   "source": [
    "np.mean(thresholded_overlapped[\"subFinder_high_level_substr\"] == thresholded_overlapped[\"JF_high_level_substr\"])"
   ]
  }
 ],
 "metadata": {
  "kernelspec": {
   "display_name": "newone1",
   "language": "python",
   "name": "newone1"
  },
  "language_info": {
   "codemirror_mode": {
    "name": "ipython",
    "version": 3
   },
   "file_extension": ".py",
   "mimetype": "text/x-python",
   "name": "python",
   "nbconvert_exporter": "python",
   "pygments_lexer": "ipython3",
   "version": "3.9.12"
  }
 },
 "nbformat": 4,
 "nbformat_minor": 5
}
