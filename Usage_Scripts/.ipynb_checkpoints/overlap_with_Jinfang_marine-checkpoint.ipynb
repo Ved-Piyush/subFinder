{
 "cells": [
  {
   "cell_type": "code",
   "execution_count": 1,
   "id": "decd049f",
   "metadata": {},
   "outputs": [],
   "source": [
    "import os\n",
    "\n",
    "os.chdir(r'D:\\subFinder')"
   ]
  },
  {
   "cell_type": "code",
   "execution_count": null,
   "id": "ee6c814e",
   "metadata": {},
   "outputs": [],
   "source": [
    "import pandas as pd\n",
    "import gensim\n",
    "from Codes.Supervised_Trainer import run_end_to_end\n",
    "import plotly.express as px\n",
    "import matplotlib.pyplot as plt\n",
    "import numpy as np"
   ]
  },
  {
   "cell_type": "code",
   "execution_count": null,
   "id": "d6251427",
   "metadata": {},
   "outputs": [],
   "source": [
    "# jf_marine = pd.read_csv(r\"D:\\subFinder\\Data\\Jinfang_Preds\\tmp.marine.clean\", sep = \"\\t\", header = None)"
   ]
  },
  {
   "cell_type": "code",
   "execution_count": null,
   "id": "e2e527b1",
   "metadata": {},
   "outputs": [],
   "source": [
    "# jf_oral = pd.read_csv(r\"D:\\subFinder\\Data\\Jinfang_Preds\\tmp.oral.clean\", sep = \"\\t\", header = None)"
   ]
  },
  {
   "cell_type": "code",
   "execution_count": null,
   "id": "9ea35372",
   "metadata": {},
   "outputs": [],
   "source": [
    "# jf_rumen = pd.read_csv(r\"D:\\subFinder\\Data\\Jinfang_Preds\\tmp.rumen.clean\", sep = \"\\t\", header = None)"
   ]
  },
  {
   "cell_type": "code",
   "execution_count": null,
   "id": "8ea5a786",
   "metadata": {},
   "outputs": [],
   "source": [
    "jf_marine = pd.read_csv(r\"D:\\subFinder\\Data\\Jinfang_Preds\\tmp.marine.clean\", sep = \"\\t\", header = None)"
   ]
  },
  {
   "cell_type": "code",
   "execution_count": null,
   "id": "cdde4f19",
   "metadata": {},
   "outputs": [],
   "source": [
    "# jf_all = pd.concat([jf_marine, jf_oral, jf_rumen, jf_uhgg], 0, ignore_index = True)"
   ]
  },
  {
   "cell_type": "code",
   "execution_count": null,
   "id": "bedfabcf",
   "metadata": {},
   "outputs": [],
   "source": [
    "# jf_all = jf_all[[1,2,3,4]]"
   ]
  },
  {
   "cell_type": "code",
   "execution_count": null,
   "id": "224f899f",
   "metadata": {},
   "outputs": [],
   "source": [
    "jf_marine = jf_marine[[1,2,3,4]]"
   ]
  },
  {
   "cell_type": "code",
   "execution_count": null,
   "id": "f39a7518",
   "metadata": {},
   "outputs": [],
   "source": [
    "jf_marine.columns = [\"cgc_id\", \"sig_gene_seq\", \"PULid\", \"high_level_substr\"]"
   ]
  },
  {
   "cell_type": "code",
   "execution_count": null,
   "id": "c029ea05",
   "metadata": {},
   "outputs": [],
   "source": [
    "jf_marine.head()"
   ]
  },
  {
   "cell_type": "code",
   "execution_count": null,
   "id": "b74cbdac",
   "metadata": {},
   "outputs": [],
   "source": [
    "jf_marine[\"cgc_id\"].value_counts()"
   ]
  },
  {
   "cell_type": "code",
   "execution_count": null,
   "id": "dd6cc26c",
   "metadata": {},
   "outputs": [],
   "source": [
    "jf_marine = jf_marine.drop_duplicates(\"cgc_id\")"
   ]
  },
  {
   "cell_type": "code",
   "execution_count": null,
   "id": "ce507303",
   "metadata": {},
   "outputs": [],
   "source": [
    "jf_marine.shape"
   ]
  },
  {
   "cell_type": "code",
   "execution_count": null,
   "id": "d7a76602",
   "metadata": {},
   "outputs": [],
   "source": [
    "jf_marine.columns = [\"cgc_id\", \"sig_gene_seq\", \"PULid\", \"JF_high_level_substr\"]"
   ]
  },
  {
   "cell_type": "code",
   "execution_count": null,
   "id": "5007ecfc",
   "metadata": {},
   "outputs": [],
   "source": [
    "## read subfinder output\n",
    "subfinder_marine = pd.read_csv(r\"Data/Output/Predictions/Predictions_marine_with_probability_and_p_values_Blast_Style_new_sup_new_unsup.csv\")"
   ]
  },
  {
   "cell_type": "code",
   "execution_count": null,
   "id": "0769fd84",
   "metadata": {},
   "outputs": [],
   "source": [
    "subfinder_marine.shape"
   ]
  },
  {
   "cell_type": "code",
   "execution_count": null,
   "id": "026f17ad",
   "metadata": {},
   "outputs": [],
   "source": [
    "subfinder_marine[\"sequence\"].nunique()"
   ]
  },
  {
   "cell_type": "code",
   "execution_count": null,
   "id": "00fea272",
   "metadata": {},
   "outputs": [],
   "source": [
    "subfinder_marine.head()"
   ]
  },
  {
   "cell_type": "code",
   "execution_count": null,
   "id": "7a968047",
   "metadata": {},
   "outputs": [],
   "source": [
    "subfinder_marine.columns = [\"sequence\", \"subFinder_high_level_substr\", \"probability_score\", \"p_value\"]"
   ]
  },
  {
   "cell_type": "code",
   "execution_count": null,
   "id": "b859b868",
   "metadata": {},
   "outputs": [],
   "source": [
    "len(subfinder_marine.groupby('sequence')['probability_score'].idxmax().values)"
   ]
  },
  {
   "cell_type": "code",
   "execution_count": null,
   "id": "ec033834",
   "metadata": {},
   "outputs": [],
   "source": [
    "subfinder_marine_preds = subfinder_marine.iloc[subfinder_marine.groupby('sequence')['probability_score'].idxmax().values,:]"
   ]
  },
  {
   "cell_type": "code",
   "execution_count": null,
   "id": "09cdf2a5",
   "metadata": {},
   "outputs": [],
   "source": [
    "subfinder_marine_preds = subfinder_marine_preds.reset_index(drop = True)"
   ]
  },
  {
   "cell_type": "code",
   "execution_count": null,
   "id": "6cbfed87",
   "metadata": {},
   "outputs": [],
   "source": [
    "subfinder_marine_preds.head()"
   ]
  },
  {
   "cell_type": "code",
   "execution_count": null,
   "id": "e77aa9d9",
   "metadata": {},
   "outputs": [],
   "source": [
    "to_keep = subfinder_marine[\"subFinder_high_level_substr\"].unique()"
   ]
  },
  {
   "cell_type": "code",
   "execution_count": null,
   "id": "30678fdd",
   "metadata": {},
   "outputs": [],
   "source": [
    "marine_data = pd.read_csv(r\"Data/Output/Unsupervised_10_12/output_marine.csv\")"
   ]
  },
  {
   "cell_type": "code",
   "execution_count": null,
   "id": "d7153699",
   "metadata": {},
   "outputs": [],
   "source": [
    "marine_data = marine_data.drop_duplicates(\"sequence\")"
   ]
  },
  {
   "cell_type": "code",
   "execution_count": null,
   "id": "043bbd1f",
   "metadata": {},
   "outputs": [],
   "source": [
    "subfinder_marine_preds = subfinder_marine_preds.merge(marine_data, how = \"left\", on = \"sequence\")"
   ]
  },
  {
   "cell_type": "code",
   "execution_count": null,
   "id": "c3f885d7",
   "metadata": {},
   "outputs": [],
   "source": [
    "subfinder_marine_preds.shape"
   ]
  },
  {
   "cell_type": "code",
   "execution_count": null,
   "id": "538069d4",
   "metadata": {},
   "outputs": [],
   "source": [
    "# two filtering\n",
    "# form jinfang keep those in top_k of subfinder\n",
    "# and then also the common cgc ids\n",
    "# some cgc ids from jinfang not found in the new data I received\n",
    "# but it is minimal"
   ]
  },
  {
   "cell_type": "code",
   "execution_count": null,
   "id": "b04272d4",
   "metadata": {},
   "outputs": [],
   "source": [
    "jf_marine_to_kepp = jf_marine[jf_marine[\"JF_high_level_substr\"].isin(to_keep)]"
   ]
  },
  {
   "cell_type": "code",
   "execution_count": null,
   "id": "c0d9cde2",
   "metadata": {},
   "outputs": [],
   "source": [
    "jf_marine_to_kepp.shape"
   ]
  },
  {
   "cell_type": "code",
   "execution_count": null,
   "id": "55e4f85a",
   "metadata": {},
   "outputs": [],
   "source": [
    "overlapped = subfinder_marine_preds.merge(jf_marine_to_kepp[[\"cgc_id\", \"JF_high_level_substr\"]], how = \"inner\", on = [\"cgc_id\"])"
   ]
  },
  {
   "cell_type": "code",
   "execution_count": null,
   "id": "81f15a51",
   "metadata": {},
   "outputs": [],
   "source": [
    "overlapped.head()"
   ]
  },
  {
   "cell_type": "code",
   "execution_count": null,
   "id": "0ed2669e",
   "metadata": {},
   "outputs": [],
   "source": [
    "overlapped.shape"
   ]
  },
  {
   "cell_type": "code",
   "execution_count": null,
   "id": "77028e14",
   "metadata": {},
   "outputs": [],
   "source": [
    "match = overlapped[overlapped[\"subFinder_high_level_substr\"] == overlapped[\"JF_high_level_substr\"]]\n",
    "\n",
    "match = match[[\"cgc_id\", \"sequence\", \"subFinder_high_level_substr\", \"JF_high_level_substr\", \"probability_score\", \"p_value\"]]"
   ]
  },
  {
   "cell_type": "code",
   "execution_count": null,
   "id": "b77f44bf",
   "metadata": {},
   "outputs": [],
   "source": [
    "match[\"subFinder_high_level_substr\"].value_counts()"
   ]
  },
  {
   "cell_type": "code",
   "execution_count": null,
   "id": "ef5fbab2",
   "metadata": {},
   "outputs": [],
   "source": [
    "match =  match.sort_values(\"p_value\").reset_index(drop = True)"
   ]
  },
  {
   "cell_type": "code",
   "execution_count": null,
   "id": "72560eb0",
   "metadata": {},
   "outputs": [],
   "source": [
    "match"
   ]
  },
  {
   "cell_type": "code",
   "execution_count": null,
   "id": "8d5c76e9",
   "metadata": {},
   "outputs": [],
   "source": [
    "match.to_csv(r\"Data\\Output\\Predictions\\marine_match_with_JF.csv\", index = False)"
   ]
  },
  {
   "cell_type": "code",
   "execution_count": null,
   "id": "4663637c",
   "metadata": {},
   "outputs": [],
   "source": [
    "plt.hist(match[\"p_value\"].values)\n",
    "plt.show()"
   ]
  },
  {
   "cell_type": "code",
   "execution_count": null,
   "id": "04558726",
   "metadata": {},
   "outputs": [],
   "source": [
    "np.percentile(match[\"p_value\"], np.arange(80,90))"
   ]
  },
  {
   "cell_type": "code",
   "execution_count": null,
   "id": "64de573b",
   "metadata": {},
   "outputs": [],
   "source": [
    "match.to_csv(r\"Data\\Output\\Predictions\\marine_match_with_JF.csv\", index = False)"
   ]
  },
  {
   "cell_type": "code",
   "execution_count": null,
   "id": "29758279",
   "metadata": {},
   "outputs": [],
   "source": [
    "match.shape"
   ]
  },
  {
   "cell_type": "code",
   "execution_count": null,
   "id": "8fad2ea7",
   "metadata": {},
   "outputs": [],
   "source": [
    "overlapped.shape[0] + len(set(jf_marine_to_kepp[\"cgc_id\"].values).difference(marine_data[\"cgc_id\"].values))"
   ]
  },
  {
   "cell_type": "code",
   "execution_count": null,
   "id": "bb08f8a9",
   "metadata": {},
   "outputs": [],
   "source": [
    "jf_marine_to_kepp.shape"
   ]
  },
  {
   "cell_type": "code",
   "execution_count": null,
   "id": "4758bd23",
   "metadata": {},
   "outputs": [],
   "source": [
    "len(set(jf_marine_to_kepp[\"cgc_id\"].values).difference(marine_data[\"cgc_id\"].values))"
   ]
  },
  {
   "cell_type": "code",
   "execution_count": null,
   "id": "8f8c425a",
   "metadata": {},
   "outputs": [],
   "source": [
    "np.mean(overlapped[\"subFinder_high_level_substr\"] == overlapped[\"JF_high_level_substr\"])"
   ]
  },
  {
   "cell_type": "code",
   "execution_count": null,
   "id": "9bb67f56",
   "metadata": {},
   "outputs": [],
   "source": [
    "plt.hist(overlapped[\"p_value\"])\n",
    "plt.show()"
   ]
  },
  {
   "cell_type": "code",
   "execution_count": null,
   "id": "73ba85b8",
   "metadata": {},
   "outputs": [],
   "source": [
    "thresholded = subfinder_marine_preds[subfinder_marine_preds[\"p_value\"] <= 0.1]"
   ]
  },
  {
   "cell_type": "code",
   "execution_count": null,
   "id": "3763fe4d",
   "metadata": {},
   "outputs": [],
   "source": [
    "thresholded_overlapped = thresholded.merge(jf_marine_to_kepp[[\"cgc_id\", \"JF_high_level_substr\"]], how = \"inner\", on = [\"cgc_id\"])"
   ]
  },
  {
   "cell_type": "code",
   "execution_count": null,
   "id": "083f721e",
   "metadata": {},
   "outputs": [],
   "source": [
    "thresholded_overlapped.shape"
   ]
  },
  {
   "cell_type": "code",
   "execution_count": null,
   "id": "588737f4",
   "metadata": {},
   "outputs": [],
   "source": [
    "np.mean(thresholded_overlapped[\"subFinder_high_level_substr\"] == thresholded_overlapped[\"JF_high_level_substr\"])"
   ]
  }
 ],
 "metadata": {
  "kernelspec": {
   "display_name": "newone1",
   "language": "python",
   "name": "newone1"
  },
  "language_info": {
   "codemirror_mode": {
    "name": "ipython",
    "version": 3
   },
   "file_extension": ".py",
   "mimetype": "text/x-python",
   "name": "python",
   "nbconvert_exporter": "python",
   "pygments_lexer": "ipython3",
   "version": "3.9.12"
  }
 },
 "nbformat": 4,
 "nbformat_minor": 5
}
