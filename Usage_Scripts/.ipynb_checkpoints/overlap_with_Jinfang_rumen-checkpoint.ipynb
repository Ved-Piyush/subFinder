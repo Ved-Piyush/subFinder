{
 "cells": [
  {
   "cell_type": "code",
   "execution_count": 2,
   "id": "d445c7d9",
   "metadata": {},
   "outputs": [],
   "source": [
    "import os\n",
    "\n",
    "os.chdir(r'D:\\subFinder')"
   ]
  },
  {
   "cell_type": "code",
   "execution_count": 3,
   "id": "ee6c814e",
   "metadata": {},
   "outputs": [],
   "source": [
    "import pandas as pd\n",
    "import gensim\n",
    "from Codes.Supervised_Trainer import run_end_to_end\n",
    "import plotly.express as px\n",
    "import matplotlib.pyplot as plt\n",
    "import numpy as np"
   ]
  },
  {
   "cell_type": "code",
   "execution_count": 4,
   "id": "d6251427",
   "metadata": {},
   "outputs": [],
   "source": [
    "# jf_marine = pd.read_csv(r\"D:\\subFinder\\Data\\Jinfang_Preds\\tmp.marine.clean\", sep = \"\\t\", header = None)"
   ]
  },
  {
   "cell_type": "code",
   "execution_count": 5,
   "id": "e2e527b1",
   "metadata": {},
   "outputs": [],
   "source": [
    "# jf_oral = pd.read_csv(r\"D:\\subFinder\\Data\\Jinfang_Preds\\tmp.oral.clean\", sep = \"\\t\", header = None)"
   ]
  },
  {
   "cell_type": "code",
   "execution_count": 6,
   "id": "9ea35372",
   "metadata": {},
   "outputs": [],
   "source": [
    "# jf_rumen = pd.read_csv(r\"D:\\subFinder\\Data\\Jinfang_Preds\\tmp.rumen.clean\", sep = \"\\t\", header = None)"
   ]
  },
  {
   "cell_type": "code",
   "execution_count": 7,
   "id": "8ea5a786",
   "metadata": {},
   "outputs": [],
   "source": [
    "jf_rumen = pd.read_csv(r\"D:\\subFinder\\Data\\Jinfang_Preds\\tmp.rumen.clean\", sep = \"\\t\", header = None)"
   ]
  },
  {
   "cell_type": "code",
   "execution_count": 8,
   "id": "cdde4f19",
   "metadata": {},
   "outputs": [],
   "source": [
    "# jf_all = pd.concat([jf_marine, jf_oral, jf_rumen, jf_uhgg], 0, ignore_index = True)"
   ]
  },
  {
   "cell_type": "code",
   "execution_count": 9,
   "id": "bedfabcf",
   "metadata": {},
   "outputs": [],
   "source": [
    "# jf_all = jf_all[[1,2,3,4]]"
   ]
  },
  {
   "cell_type": "code",
   "execution_count": 10,
   "id": "224f899f",
   "metadata": {},
   "outputs": [],
   "source": [
    "jf_rumen = jf_rumen[[1,2,3,4]]"
   ]
  },
  {
   "cell_type": "code",
   "execution_count": 11,
   "id": "f39a7518",
   "metadata": {},
   "outputs": [],
   "source": [
    "jf_rumen.columns = [\"cgc_id\", \"sig_gene_seq\", \"PULid\", \"high_level_substr\"]"
   ]
  },
  {
   "cell_type": "code",
   "execution_count": 12,
   "id": "c029ea05",
   "metadata": {},
   "outputs": [
    {
     "data": {
      "text/html": [
       "<div>\n",
       "<style scoped>\n",
       "    .dataframe tbody tr th:only-of-type {\n",
       "        vertical-align: middle;\n",
       "    }\n",
       "\n",
       "    .dataframe tbody tr th {\n",
       "        vertical-align: top;\n",
       "    }\n",
       "\n",
       "    .dataframe thead th {\n",
       "        text-align: right;\n",
       "    }\n",
       "</style>\n",
       "<table border=\"1\" class=\"dataframe\">\n",
       "  <thead>\n",
       "    <tr style=\"text-align: right;\">\n",
       "      <th></th>\n",
       "      <th>cgc_id</th>\n",
       "      <th>sig_gene_seq</th>\n",
       "      <th>PULid</th>\n",
       "      <th>high_level_substr</th>\n",
       "    </tr>\n",
       "  </thead>\n",
       "  <tbody>\n",
       "    <tr>\n",
       "      <th>0</th>\n",
       "      <td>MGYG000290000_2|CGC1</td>\n",
       "      <td>2.A.115.1.1,null,1.A.30.1.4,null,2.A.51.1.5,2....</td>\n",
       "      <td>X</td>\n",
       "      <td>starch</td>\n",
       "    </tr>\n",
       "    <tr>\n",
       "      <th>1</th>\n",
       "      <td>MGYG000290000_4|CGC1</td>\n",
       "      <td>1.A.34.1.3,GH2,GH31,GH5|GH26|GH5_4</td>\n",
       "      <td>X</td>\n",
       "      <td>xyloglucan</td>\n",
       "    </tr>\n",
       "    <tr>\n",
       "      <th>2</th>\n",
       "      <td>MGYG000290000_6|CGC2</td>\n",
       "      <td>PL1|PL1_2,HTH_AraC+HTH_AraC,GH2,null,GH106,GH2...</td>\n",
       "      <td>X</td>\n",
       "      <td>pectin</td>\n",
       "    </tr>\n",
       "    <tr>\n",
       "      <th>3</th>\n",
       "      <td>MGYG000290000_32|CGC1</td>\n",
       "      <td>CBM13|CBM2|GH95,GH10|CBM48|CE1|CE0,1.B.14.6.1,...</td>\n",
       "      <td>X</td>\n",
       "      <td>xylan</td>\n",
       "    </tr>\n",
       "    <tr>\n",
       "      <th>4</th>\n",
       "      <td>MGYG000290011_5|CGC1</td>\n",
       "      <td>2.A.2.3.5,null,GH3,2.A.1.1.3,null,null,3.2.1.1...</td>\n",
       "      <td>X</td>\n",
       "      <td>beta-mannan</td>\n",
       "    </tr>\n",
       "  </tbody>\n",
       "</table>\n",
       "</div>"
      ],
      "text/plain": [
       "                  cgc_id                                       sig_gene_seq  \\\n",
       "0   MGYG000290000_2|CGC1  2.A.115.1.1,null,1.A.30.1.4,null,2.A.51.1.5,2....   \n",
       "1   MGYG000290000_4|CGC1                 1.A.34.1.3,GH2,GH31,GH5|GH26|GH5_4   \n",
       "2   MGYG000290000_6|CGC2  PL1|PL1_2,HTH_AraC+HTH_AraC,GH2,null,GH106,GH2...   \n",
       "3  MGYG000290000_32|CGC1  CBM13|CBM2|GH95,GH10|CBM48|CE1|CE0,1.B.14.6.1,...   \n",
       "4   MGYG000290011_5|CGC1  2.A.2.3.5,null,GH3,2.A.1.1.3,null,null,3.2.1.1...   \n",
       "\n",
       "  PULid high_level_substr  \n",
       "0     X            starch  \n",
       "1     X        xyloglucan  \n",
       "2     X            pectin  \n",
       "3     X             xylan  \n",
       "4     X       beta-mannan  "
      ]
     },
     "execution_count": 12,
     "metadata": {},
     "output_type": "execute_result"
    }
   ],
   "source": [
    "jf_rumen.head()"
   ]
  },
  {
   "cell_type": "code",
   "execution_count": 13,
   "id": "ff635a10",
   "metadata": {},
   "outputs": [
    {
     "data": {
      "text/plain": [
       "MGYG000293263_19|CGC1    4\n",
       "MGYG000293137_4|CGC2     4\n",
       "MGYG000291194_9|CGC1     4\n",
       "MGYG000293901_6|CGC1     4\n",
       "MGYG000293270_23|CGC1    4\n",
       "                        ..\n",
       "MGYG000291553_2|CGC2     1\n",
       "MGYG000291553_2|CGC3     1\n",
       "MGYG000291554_10|CGC2    1\n",
       "MGYG000291555_13|CGC1    1\n",
       "MGYG000295581_64|CGC1    1\n",
       "Name: cgc_id, Length: 10972, dtype: int64"
      ]
     },
     "execution_count": 13,
     "metadata": {},
     "output_type": "execute_result"
    }
   ],
   "source": [
    "jf_rumen[\"cgc_id\"].value_counts()"
   ]
  },
  {
   "cell_type": "code",
   "execution_count": 14,
   "id": "dd6cc26c",
   "metadata": {},
   "outputs": [],
   "source": [
    "jf_rumen = jf_rumen.drop_duplicates(\"cgc_id\")"
   ]
  },
  {
   "cell_type": "code",
   "execution_count": 15,
   "id": "ce507303",
   "metadata": {},
   "outputs": [
    {
     "data": {
      "text/plain": [
       "(10972, 4)"
      ]
     },
     "execution_count": 15,
     "metadata": {},
     "output_type": "execute_result"
    }
   ],
   "source": [
    "jf_rumen.shape"
   ]
  },
  {
   "cell_type": "code",
   "execution_count": 16,
   "id": "d7a76602",
   "metadata": {},
   "outputs": [],
   "source": [
    "jf_rumen.columns = [\"cgc_id\", \"sig_gene_seq\", \"PULid\", \"JF_high_level_substr\"]"
   ]
  },
  {
   "cell_type": "code",
   "execution_count": 17,
   "id": "5007ecfc",
   "metadata": {},
   "outputs": [],
   "source": [
    "## read subfinder output\n",
    "subfinder_rumen= pd.read_csv(r\"Data/Output/Predictions/Predictions_rumen_with_probability_and_p_values_Blast_Style_new_sup_new_unsup.csv\")"
   ]
  },
  {
   "cell_type": "code",
   "execution_count": 18,
   "id": "0769fd84",
   "metadata": {},
   "outputs": [
    {
     "data": {
      "text/plain": [
       "(245441, 4)"
      ]
     },
     "execution_count": 18,
     "metadata": {},
     "output_type": "execute_result"
    }
   ],
   "source": [
    "subfinder_rumen.shape"
   ]
  },
  {
   "cell_type": "code",
   "execution_count": 19,
   "id": "026f17ad",
   "metadata": {},
   "outputs": [
    {
     "data": {
      "text/plain": [
       "35063"
      ]
     },
     "execution_count": 19,
     "metadata": {},
     "output_type": "execute_result"
    }
   ],
   "source": [
    "subfinder_rumen[\"sequence\"].nunique()"
   ]
  },
  {
   "cell_type": "code",
   "execution_count": 20,
   "id": "00fea272",
   "metadata": {},
   "outputs": [
    {
     "data": {
      "text/html": [
       "<div>\n",
       "<style scoped>\n",
       "    .dataframe tbody tr th:only-of-type {\n",
       "        vertical-align: middle;\n",
       "    }\n",
       "\n",
       "    .dataframe tbody tr th {\n",
       "        vertical-align: top;\n",
       "    }\n",
       "\n",
       "    .dataframe thead th {\n",
       "        text-align: right;\n",
       "    }\n",
       "</style>\n",
       "<table border=\"1\" class=\"dataframe\">\n",
       "  <thead>\n",
       "    <tr style=\"text-align: right;\">\n",
       "      <th></th>\n",
       "      <th>sequence</th>\n",
       "      <th>substrate</th>\n",
       "      <th>probability_score</th>\n",
       "      <th>p_value</th>\n",
       "    </tr>\n",
       "  </thead>\n",
       "  <tbody>\n",
       "    <tr>\n",
       "      <th>0</th>\n",
       "      <td>1.A.1,2.A.23,null,9.B.125,3.A.11,null,GT2,9.B.18</td>\n",
       "      <td>beta-glucan</td>\n",
       "      <td>0.525333</td>\n",
       "      <td>0.059235</td>\n",
       "    </tr>\n",
       "    <tr>\n",
       "      <th>1</th>\n",
       "      <td>1.A.1,2.A.23,null,9.B.125,3.A.11,null,GT2,9.B.18</td>\n",
       "      <td>alginate</td>\n",
       "      <td>0.224667</td>\n",
       "      <td>0.999969</td>\n",
       "    </tr>\n",
       "    <tr>\n",
       "      <th>2</th>\n",
       "      <td>1.A.1,2.A.23,null,9.B.125,3.A.11,null,GT2,9.B.18</td>\n",
       "      <td>cellulose</td>\n",
       "      <td>0.315333</td>\n",
       "      <td>0.999969</td>\n",
       "    </tr>\n",
       "    <tr>\n",
       "      <th>3</th>\n",
       "      <td>1.A.1,2.A.23,null,9.B.125,3.A.11,null,GT2,9.B.18</td>\n",
       "      <td>host glycan</td>\n",
       "      <td>0.343333</td>\n",
       "      <td>0.999969</td>\n",
       "    </tr>\n",
       "    <tr>\n",
       "      <th>4</th>\n",
       "      <td>1.A.1,2.A.23,null,9.B.125,3.A.11,null,GT2,9.B.18</td>\n",
       "      <td>pectin</td>\n",
       "      <td>0.324667</td>\n",
       "      <td>0.999969</td>\n",
       "    </tr>\n",
       "  </tbody>\n",
       "</table>\n",
       "</div>"
      ],
      "text/plain": [
       "                                           sequence    substrate  \\\n",
       "0  1.A.1,2.A.23,null,9.B.125,3.A.11,null,GT2,9.B.18  beta-glucan   \n",
       "1  1.A.1,2.A.23,null,9.B.125,3.A.11,null,GT2,9.B.18     alginate   \n",
       "2  1.A.1,2.A.23,null,9.B.125,3.A.11,null,GT2,9.B.18    cellulose   \n",
       "3  1.A.1,2.A.23,null,9.B.125,3.A.11,null,GT2,9.B.18  host glycan   \n",
       "4  1.A.1,2.A.23,null,9.B.125,3.A.11,null,GT2,9.B.18       pectin   \n",
       "\n",
       "   probability_score   p_value  \n",
       "0           0.525333  0.059235  \n",
       "1           0.224667  0.999969  \n",
       "2           0.315333  0.999969  \n",
       "3           0.343333  0.999969  \n",
       "4           0.324667  0.999969  "
      ]
     },
     "execution_count": 20,
     "metadata": {},
     "output_type": "execute_result"
    }
   ],
   "source": [
    "subfinder_rumen.head()"
   ]
  },
  {
   "cell_type": "code",
   "execution_count": 21,
   "id": "7a968047",
   "metadata": {},
   "outputs": [],
   "source": [
    "subfinder_rumen.columns = [\"sequence\", \"subFinder_high_level_substr\", \"probability_score\", \"p_value\"]"
   ]
  },
  {
   "cell_type": "code",
   "execution_count": 22,
   "id": "b859b868",
   "metadata": {},
   "outputs": [
    {
     "data": {
      "text/plain": [
       "35063"
      ]
     },
     "execution_count": 22,
     "metadata": {},
     "output_type": "execute_result"
    }
   ],
   "source": [
    "len(subfinder_rumen.groupby('sequence')['probability_score'].idxmax().values)"
   ]
  },
  {
   "cell_type": "code",
   "execution_count": 23,
   "id": "ec033834",
   "metadata": {},
   "outputs": [],
   "source": [
    "subfinder_rumen_preds = subfinder_rumen.iloc[subfinder_rumen.groupby('sequence')['probability_score'].idxmax().values,:]"
   ]
  },
  {
   "cell_type": "code",
   "execution_count": 24,
   "id": "09cdf2a5",
   "metadata": {},
   "outputs": [],
   "source": [
    "subfinder_rumen_preds = subfinder_rumen_preds.reset_index(drop = True)"
   ]
  },
  {
   "cell_type": "code",
   "execution_count": 25,
   "id": "6cbfed87",
   "metadata": {},
   "outputs": [
    {
     "data": {
      "text/html": [
       "<div>\n",
       "<style scoped>\n",
       "    .dataframe tbody tr th:only-of-type {\n",
       "        vertical-align: middle;\n",
       "    }\n",
       "\n",
       "    .dataframe tbody tr th {\n",
       "        vertical-align: top;\n",
       "    }\n",
       "\n",
       "    .dataframe thead th {\n",
       "        text-align: right;\n",
       "    }\n",
       "</style>\n",
       "<table border=\"1\" class=\"dataframe\">\n",
       "  <thead>\n",
       "    <tr style=\"text-align: right;\">\n",
       "      <th></th>\n",
       "      <th>sequence</th>\n",
       "      <th>subFinder_high_level_substr</th>\n",
       "      <th>probability_score</th>\n",
       "      <th>p_value</th>\n",
       "    </tr>\n",
       "  </thead>\n",
       "  <tbody>\n",
       "    <tr>\n",
       "      <th>0</th>\n",
       "      <td>1.A.1,2.A.23,null,9.B.125,3.A.11,null,GT2,9.B.18</td>\n",
       "      <td>beta-glucan</td>\n",
       "      <td>0.525333</td>\n",
       "      <td>0.059235</td>\n",
       "    </tr>\n",
       "    <tr>\n",
       "      <th>1</th>\n",
       "      <td>1.A.1,2.A.25,CYTH,GH13_14,GH13_14</td>\n",
       "      <td>starch</td>\n",
       "      <td>0.491333</td>\n",
       "      <td>0.303619</td>\n",
       "    </tr>\n",
       "    <tr>\n",
       "      <th>2</th>\n",
       "      <td>1.A.1,2.A.25,GH9</td>\n",
       "      <td>cellulose</td>\n",
       "      <td>0.458000</td>\n",
       "      <td>0.996307</td>\n",
       "    </tr>\n",
       "    <tr>\n",
       "      <th>3</th>\n",
       "      <td>1.A.1,2.A.28,GT2</td>\n",
       "      <td>starch</td>\n",
       "      <td>0.418000</td>\n",
       "      <td>0.999969</td>\n",
       "    </tr>\n",
       "    <tr>\n",
       "      <th>4</th>\n",
       "      <td>1.A.1,8.A.9,SpoIIE,STAS,GH13_11</td>\n",
       "      <td>starch</td>\n",
       "      <td>0.624000</td>\n",
       "      <td>0.000000</td>\n",
       "    </tr>\n",
       "  </tbody>\n",
       "</table>\n",
       "</div>"
      ],
      "text/plain": [
       "                                           sequence  \\\n",
       "0  1.A.1,2.A.23,null,9.B.125,3.A.11,null,GT2,9.B.18   \n",
       "1                 1.A.1,2.A.25,CYTH,GH13_14,GH13_14   \n",
       "2                                  1.A.1,2.A.25,GH9   \n",
       "3                                  1.A.1,2.A.28,GT2   \n",
       "4                   1.A.1,8.A.9,SpoIIE,STAS,GH13_11   \n",
       "\n",
       "  subFinder_high_level_substr  probability_score   p_value  \n",
       "0                 beta-glucan           0.525333  0.059235  \n",
       "1                      starch           0.491333  0.303619  \n",
       "2                   cellulose           0.458000  0.996307  \n",
       "3                      starch           0.418000  0.999969  \n",
       "4                      starch           0.624000  0.000000  "
      ]
     },
     "execution_count": 25,
     "metadata": {},
     "output_type": "execute_result"
    }
   ],
   "source": [
    "subfinder_rumen_preds.head()"
   ]
  },
  {
   "cell_type": "code",
   "execution_count": 26,
   "id": "e77aa9d9",
   "metadata": {},
   "outputs": [],
   "source": [
    "to_keep = subfinder_rumen[\"subFinder_high_level_substr\"].unique()"
   ]
  },
  {
   "cell_type": "code",
   "execution_count": 27,
   "id": "30678fdd",
   "metadata": {},
   "outputs": [],
   "source": [
    "rumen_data = pd.read_csv(r\"Data/Output/Unsupervised_10_12/output_cowrumen.csv\")"
   ]
  },
  {
   "cell_type": "code",
   "execution_count": 28,
   "id": "d7153699",
   "metadata": {},
   "outputs": [],
   "source": [
    "rumen_data = rumen_data.drop_duplicates(\"sequence\")"
   ]
  },
  {
   "cell_type": "code",
   "execution_count": 29,
   "id": "043bbd1f",
   "metadata": {},
   "outputs": [],
   "source": [
    "subfinder_rumen_preds = subfinder_rumen_preds.merge(rumen_data, how = \"left\", on = \"sequence\")"
   ]
  },
  {
   "cell_type": "code",
   "execution_count": 30,
   "id": "c3f885d7",
   "metadata": {},
   "outputs": [
    {
     "data": {
      "text/plain": [
       "(35063, 5)"
      ]
     },
     "execution_count": 30,
     "metadata": {},
     "output_type": "execute_result"
    }
   ],
   "source": [
    "subfinder_rumen_preds.shape"
   ]
  },
  {
   "cell_type": "code",
   "execution_count": 31,
   "id": "68572827",
   "metadata": {},
   "outputs": [],
   "source": [
    "# two filtering\n",
    "# form jinfang keep those in top_k of subfinder\n",
    "# and then also the common cgc ids\n",
    "# some cgc ids from jinfang not found in the new data I received\n",
    "# but it is minimal"
   ]
  },
  {
   "cell_type": "code",
   "execution_count": 32,
   "id": "b04272d4",
   "metadata": {},
   "outputs": [],
   "source": [
    "jf_rumen_to_kepp = jf_rumen[jf_rumen[\"JF_high_level_substr\"].isin(to_keep)]"
   ]
  },
  {
   "cell_type": "code",
   "execution_count": 33,
   "id": "02e4d5d6",
   "metadata": {},
   "outputs": [
    {
     "data": {
      "text/plain": [
       "(4938, 4)"
      ]
     },
     "execution_count": 33,
     "metadata": {},
     "output_type": "execute_result"
    }
   ],
   "source": [
    "jf_rumen_to_kepp.shape"
   ]
  },
  {
   "cell_type": "code",
   "execution_count": 34,
   "id": "55e4f85a",
   "metadata": {},
   "outputs": [],
   "source": [
    "overlapped = subfinder_rumen_preds.merge(jf_rumen_to_kepp[[\"cgc_id\", \"JF_high_level_substr\"]], how = \"inner\", on = [\"cgc_id\"])"
   ]
  },
  {
   "cell_type": "code",
   "execution_count": 35,
   "id": "81f15a51",
   "metadata": {},
   "outputs": [
    {
     "data": {
      "text/html": [
       "<div>\n",
       "<style scoped>\n",
       "    .dataframe tbody tr th:only-of-type {\n",
       "        vertical-align: middle;\n",
       "    }\n",
       "\n",
       "    .dataframe tbody tr th {\n",
       "        vertical-align: top;\n",
       "    }\n",
       "\n",
       "    .dataframe thead th {\n",
       "        text-align: right;\n",
       "    }\n",
       "</style>\n",
       "<table border=\"1\" class=\"dataframe\">\n",
       "  <thead>\n",
       "    <tr style=\"text-align: right;\">\n",
       "      <th></th>\n",
       "      <th>sequence</th>\n",
       "      <th>subFinder_high_level_substr</th>\n",
       "      <th>probability_score</th>\n",
       "      <th>p_value</th>\n",
       "      <th>cgc_id</th>\n",
       "      <th>JF_high_level_substr</th>\n",
       "    </tr>\n",
       "  </thead>\n",
       "  <tbody>\n",
       "    <tr>\n",
       "      <th>0</th>\n",
       "      <td>1.A.1,2.A.25,CYTH,GH13_14,GH13_14</td>\n",
       "      <td>starch</td>\n",
       "      <td>0.491333</td>\n",
       "      <td>0.303619</td>\n",
       "      <td>MGYG000292574_6|CGC2</td>\n",
       "      <td>starch</td>\n",
       "    </tr>\n",
       "    <tr>\n",
       "      <th>1</th>\n",
       "      <td>1.A.1,Aminotran_1_2,GH13_36,3.A.1,3.A.1</td>\n",
       "      <td>starch</td>\n",
       "      <td>0.660667</td>\n",
       "      <td>0.000000</td>\n",
       "      <td>MGYG000294754_34|CGC1</td>\n",
       "      <td>starch</td>\n",
       "    </tr>\n",
       "    <tr>\n",
       "      <th>2</th>\n",
       "      <td>1.A.1,null,null,GH31,3.A.1,3.A.1,SBP_bac_1,9.B.28</td>\n",
       "      <td>starch</td>\n",
       "      <td>0.572000</td>\n",
       "      <td>0.000488</td>\n",
       "      <td>MGYG000291361_23|CGC1</td>\n",
       "      <td>starch</td>\n",
       "    </tr>\n",
       "    <tr>\n",
       "      <th>3</th>\n",
       "      <td>1.A.11,3.A.1,3.A.1,3.A.1,3.A.1,3.A.1,3.A.1,3.A...</td>\n",
       "      <td>starch</td>\n",
       "      <td>0.590667</td>\n",
       "      <td>0.000031</td>\n",
       "      <td>MGYG000292800_24|CGC1</td>\n",
       "      <td>starch</td>\n",
       "    </tr>\n",
       "    <tr>\n",
       "      <th>4</th>\n",
       "      <td>1.A.11,3.A.1,3.A.1,3.A.1,3.A.1,HTH_AraC|HTH_Ar...</td>\n",
       "      <td>pectin</td>\n",
       "      <td>0.651333</td>\n",
       "      <td>0.000000</td>\n",
       "      <td>MGYG000294342_2|CGC2</td>\n",
       "      <td>pectin</td>\n",
       "    </tr>\n",
       "  </tbody>\n",
       "</table>\n",
       "</div>"
      ],
      "text/plain": [
       "                                            sequence  \\\n",
       "0                  1.A.1,2.A.25,CYTH,GH13_14,GH13_14   \n",
       "1            1.A.1,Aminotran_1_2,GH13_36,3.A.1,3.A.1   \n",
       "2  1.A.1,null,null,GH31,3.A.1,3.A.1,SBP_bac_1,9.B.28   \n",
       "3  1.A.11,3.A.1,3.A.1,3.A.1,3.A.1,3.A.1,3.A.1,3.A...   \n",
       "4  1.A.11,3.A.1,3.A.1,3.A.1,3.A.1,HTH_AraC|HTH_Ar...   \n",
       "\n",
       "  subFinder_high_level_substr  probability_score   p_value  \\\n",
       "0                      starch           0.491333  0.303619   \n",
       "1                      starch           0.660667  0.000000   \n",
       "2                      starch           0.572000  0.000488   \n",
       "3                      starch           0.590667  0.000031   \n",
       "4                      pectin           0.651333  0.000000   \n",
       "\n",
       "                  cgc_id JF_high_level_substr  \n",
       "0   MGYG000292574_6|CGC2               starch  \n",
       "1  MGYG000294754_34|CGC1               starch  \n",
       "2  MGYG000291361_23|CGC1               starch  \n",
       "3  MGYG000292800_24|CGC1               starch  \n",
       "4   MGYG000294342_2|CGC2               pectin  "
      ]
     },
     "execution_count": 35,
     "metadata": {},
     "output_type": "execute_result"
    }
   ],
   "source": [
    "overlapped.head()"
   ]
  },
  {
   "cell_type": "code",
   "execution_count": 36,
   "id": "0ed2669e",
   "metadata": {},
   "outputs": [
    {
     "data": {
      "text/plain": [
       "(4130, 6)"
      ]
     },
     "execution_count": 36,
     "metadata": {},
     "output_type": "execute_result"
    }
   ],
   "source": [
    "overlapped.shape"
   ]
  },
  {
   "cell_type": "code",
   "execution_count": 37,
   "id": "44ef5164",
   "metadata": {},
   "outputs": [],
   "source": [
    "match = overlapped[overlapped[\"subFinder_high_level_substr\"] == overlapped[\"JF_high_level_substr\"]]\n",
    "\n",
    "match = match[[\"cgc_id\", \"sequence\", \"subFinder_high_level_substr\", \"JF_high_level_substr\", \"probability_score\", \"p_value\"]]\n",
    "\n",
    "match = match.sort_values(\"p_value\").reset_index(drop = True)"
   ]
  },
  {
   "cell_type": "code",
   "execution_count": 38,
   "id": "a703f607",
   "metadata": {},
   "outputs": [
    {
     "data": {
      "text/html": [
       "<div>\n",
       "<style scoped>\n",
       "    .dataframe tbody tr th:only-of-type {\n",
       "        vertical-align: middle;\n",
       "    }\n",
       "\n",
       "    .dataframe tbody tr th {\n",
       "        vertical-align: top;\n",
       "    }\n",
       "\n",
       "    .dataframe thead th {\n",
       "        text-align: right;\n",
       "    }\n",
       "</style>\n",
       "<table border=\"1\" class=\"dataframe\">\n",
       "  <thead>\n",
       "    <tr style=\"text-align: right;\">\n",
       "      <th></th>\n",
       "      <th>cgc_id</th>\n",
       "      <th>sequence</th>\n",
       "      <th>subFinder_high_level_substr</th>\n",
       "      <th>JF_high_level_substr</th>\n",
       "      <th>probability_score</th>\n",
       "      <th>p_value</th>\n",
       "    </tr>\n",
       "  </thead>\n",
       "  <tbody>\n",
       "    <tr>\n",
       "      <th>0</th>\n",
       "      <td>MGYG000294100_31|CGC1</td>\n",
       "      <td>8.A.46,1.B.14,LacI,null,2.A.2,CBM20|GH77,GH97,...</td>\n",
       "      <td>starch</td>\n",
       "      <td>starch</td>\n",
       "      <td>0.888667</td>\n",
       "      <td>0.0</td>\n",
       "    </tr>\n",
       "    <tr>\n",
       "      <th>1</th>\n",
       "      <td>MGYG000290886_2|CGC1</td>\n",
       "      <td>PL6|PL6_1,PL17_2|PL17_2,null,2.A.1</td>\n",
       "      <td>alginate</td>\n",
       "      <td>alginate</td>\n",
       "      <td>0.984667</td>\n",
       "      <td>0.0</td>\n",
       "    </tr>\n",
       "    <tr>\n",
       "      <th>2</th>\n",
       "      <td>MGYG000294044_6|CGC1</td>\n",
       "      <td>GH3,null,null,1.B.14,null,PL1_2,GH139|CBM67|GH...</td>\n",
       "      <td>pectin</td>\n",
       "      <td>pectin</td>\n",
       "      <td>0.700667</td>\n",
       "      <td>0.0</td>\n",
       "    </tr>\n",
       "    <tr>\n",
       "      <th>3</th>\n",
       "      <td>MGYG000292154_6|CGC2</td>\n",
       "      <td>9.B.33,SBP_bac_1,3.A.1,3.A.1,GH66,null,GH13_31</td>\n",
       "      <td>starch</td>\n",
       "      <td>starch</td>\n",
       "      <td>0.678000</td>\n",
       "      <td>0.0</td>\n",
       "    </tr>\n",
       "    <tr>\n",
       "      <th>4</th>\n",
       "      <td>MGYG000293433_3|CGC4</td>\n",
       "      <td>9.B.33,HTH_AraC|HTH_AraC,3.A.1,3.A.1,3.A.1,GH8...</td>\n",
       "      <td>xylan</td>\n",
       "      <td>xylan</td>\n",
       "      <td>0.808000</td>\n",
       "      <td>0.0</td>\n",
       "    </tr>\n",
       "  </tbody>\n",
       "</table>\n",
       "</div>"
      ],
      "text/plain": [
       "                  cgc_id                                           sequence  \\\n",
       "0  MGYG000294100_31|CGC1  8.A.46,1.B.14,LacI,null,2.A.2,CBM20|GH77,GH97,...   \n",
       "1   MGYG000290886_2|CGC1                 PL6|PL6_1,PL17_2|PL17_2,null,2.A.1   \n",
       "2   MGYG000294044_6|CGC1  GH3,null,null,1.B.14,null,PL1_2,GH139|CBM67|GH...   \n",
       "3   MGYG000292154_6|CGC2     9.B.33,SBP_bac_1,3.A.1,3.A.1,GH66,null,GH13_31   \n",
       "4   MGYG000293433_3|CGC4  9.B.33,HTH_AraC|HTH_AraC,3.A.1,3.A.1,3.A.1,GH8...   \n",
       "\n",
       "  subFinder_high_level_substr JF_high_level_substr  probability_score  p_value  \n",
       "0                      starch               starch           0.888667      0.0  \n",
       "1                    alginate             alginate           0.984667      0.0  \n",
       "2                      pectin               pectin           0.700667      0.0  \n",
       "3                      starch               starch           0.678000      0.0  \n",
       "4                       xylan                xylan           0.808000      0.0  "
      ]
     },
     "execution_count": 38,
     "metadata": {},
     "output_type": "execute_result"
    }
   ],
   "source": [
    "match.head()"
   ]
  },
  {
   "cell_type": "code",
   "execution_count": 52,
   "id": "5f5fb32e",
   "metadata": {},
   "outputs": [
    {
     "data": {
      "text/plain": [
       "array([0.00048828, 0.00369263, 0.00369263, 0.00369263, 0.01757812])"
      ]
     },
     "execution_count": 52,
     "metadata": {},
     "output_type": "execute_result"
    }
   ],
   "source": [
    "np.percentile(match[\"p_value\"], np.arange(80,85))"
   ]
  },
  {
   "cell_type": "code",
   "execution_count": 39,
   "id": "028d72ef",
   "metadata": {},
   "outputs": [],
   "source": [
    "match.to_csv(r\"Data\\Output\\Predictions\\rumen_match_with_JF.csv\", index = False)"
   ]
  },
  {
   "cell_type": "code",
   "execution_count": 40,
   "id": "67d4f804",
   "metadata": {},
   "outputs": [
    {
     "data": {
      "text/plain": [
       "(3096, 6)"
      ]
     },
     "execution_count": 40,
     "metadata": {},
     "output_type": "execute_result"
    }
   ],
   "source": [
    "match.shape"
   ]
  },
  {
   "cell_type": "code",
   "execution_count": 41,
   "id": "be2ce18b",
   "metadata": {},
   "outputs": [
    {
     "data": {
      "text/plain": [
       "starch         1129\n",
       "xylan           660\n",
       "pectin          651\n",
       "beta-glucan     399\n",
       "host glycan     207\n",
       "cellulose        35\n",
       "alginate         15\n",
       "Name: subFinder_high_level_substr, dtype: int64"
      ]
     },
     "execution_count": 41,
     "metadata": {},
     "output_type": "execute_result"
    }
   ],
   "source": [
    "match[\"subFinder_high_level_substr\"].value_counts()"
   ]
  },
  {
   "cell_type": "code",
   "execution_count": 42,
   "id": "0294bdfc",
   "metadata": {},
   "outputs": [
    {
     "data": {
      "text/plain": [
       "4938"
      ]
     },
     "execution_count": 42,
     "metadata": {},
     "output_type": "execute_result"
    }
   ],
   "source": [
    "overlapped.shape[0] + len(set(jf_rumen_to_kepp[\"cgc_id\"].values).difference(rumen_data[\"cgc_id\"].values))"
   ]
  },
  {
   "cell_type": "code",
   "execution_count": 43,
   "id": "7bbb2741",
   "metadata": {},
   "outputs": [
    {
     "data": {
      "text/plain": [
       "(4938, 4)"
      ]
     },
     "execution_count": 43,
     "metadata": {},
     "output_type": "execute_result"
    }
   ],
   "source": [
    "jf_rumen_to_kepp.shape"
   ]
  },
  {
   "cell_type": "code",
   "execution_count": 44,
   "id": "6f8d7042",
   "metadata": {},
   "outputs": [
    {
     "data": {
      "text/plain": [
       "808"
      ]
     },
     "execution_count": 44,
     "metadata": {},
     "output_type": "execute_result"
    }
   ],
   "source": [
    "len(set(jf_rumen_to_kepp[\"cgc_id\"].values).difference(rumen_data[\"cgc_id\"].values))"
   ]
  },
  {
   "cell_type": "code",
   "execution_count": 45,
   "id": "8f8c425a",
   "metadata": {},
   "outputs": [
    {
     "data": {
      "text/plain": [
       "0.749636803874092"
      ]
     },
     "execution_count": 45,
     "metadata": {},
     "output_type": "execute_result"
    }
   ],
   "source": [
    "np.mean(overlapped[\"subFinder_high_level_substr\"] == overlapped[\"JF_high_level_substr\"])"
   ]
  },
  {
   "cell_type": "code",
   "execution_count": 46,
   "id": "9bb67f56",
   "metadata": {},
   "outputs": [
    {
     "data": {
      "image/png": "[encoded data removed]",
      "text/plain": [
       "<Figure size 432x288 with 1 Axes>"
      ]
     },
     "metadata": {
      "needs_background": "light"
     },
     "output_type": "display_data"
    }
   ],
   "source": [
    "plt.hist(overlapped[\"p_value\"])\n",
    "plt.show()"
   ]
  },
  {
   "cell_type": "code",
   "execution_count": 47,
   "id": "73ba85b8",
   "metadata": {},
   "outputs": [],
   "source": [
    "thresholded = subfinder_rumen_preds[subfinder_rumen_preds[\"p_value\"] <= 0.1]"
   ]
  },
  {
   "cell_type": "code",
   "execution_count": 48,
   "id": "3763fe4d",
   "metadata": {},
   "outputs": [],
   "source": [
    "thresholded_overlapped = thresholded.merge(jf_rumen_to_kepp[[\"cgc_id\", \"JF_high_level_substr\"]], how = \"inner\", on = [\"cgc_id\"])"
   ]
  },
  {
   "cell_type": "code",
   "execution_count": 49,
   "id": "083f721e",
   "metadata": {},
   "outputs": [
    {
     "data": {
      "text/plain": [
       "(3413, 6)"
      ]
     },
     "execution_count": 49,
     "metadata": {},
     "output_type": "execute_result"
    }
   ],
   "source": [
    "thresholded_overlapped.shape"
   ]
  },
  {
   "cell_type": "code",
   "execution_count": 50,
   "id": "588737f4",
   "metadata": {},
   "outputs": [
    {
     "data": {
      "text/plain": [
       "0.7925578669791972"
      ]
     },
     "execution_count": 50,
     "metadata": {},
     "output_type": "execute_result"
    }
   ],
   "source": [
    "np.mean(thresholded_overlapped[\"subFinder_high_level_substr\"] == thresholded_overlapped[\"JF_high_level_substr\"])"
   ]
  },
  {
   "cell_type": "code",
   "execution_count": 51,
   "id": "147a37a8",
   "metadata": {},
   "outputs": [
    {
     "data": {
      "text/plain": [
       "starch         1554\n",
       "pectin         1118\n",
       "xylan          1044\n",
       "beta-glucan     699\n",
       "host glycan     379\n",
       "cellulose       124\n",
       "alginate         20\n",
       "Name: JF_high_level_substr, dtype: int64"
      ]
     },
     "execution_count": 51,
     "metadata": {},
     "output_type": "execute_result"
    }
   ],
   "source": [
    "jf_rumen_to_kepp[\"JF_high_level_substr\"].value_counts()"
   ]
  }
 ],
 "metadata": {
  "kernelspec": {
   "display_name": "newone1",
   "language": "python",
   "name": "newone1"
  },
  "language_info": {
   "codemirror_mode": {
    "name": "ipython",
    "version": 3
   },
   "file_extension": ".py",
   "mimetype": "text/x-python",
   "name": "python",
   "nbconvert_exporter": "python",
   "pygments_lexer": "ipython3",
   "version": "3.9.12"
  }
 },
 "nbformat": 4,
 "nbformat_minor": 5
}
