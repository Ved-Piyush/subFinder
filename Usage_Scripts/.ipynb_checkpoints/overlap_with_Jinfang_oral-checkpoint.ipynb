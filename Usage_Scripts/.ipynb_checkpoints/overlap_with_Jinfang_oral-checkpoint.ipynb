{
 "cells": [
  {
   "cell_type": "code",
   "execution_count": 1,
   "id": "d445c7d9",
   "metadata": {},
   "outputs": [],
   "source": [
    "import os\n",
    "\n",
    "os.chdir(r'D:\\subFinder')"
   ]
  },
  {
   "cell_type": "code",
   "execution_count": 2,
   "id": "ee6c814e",
   "metadata": {},
   "outputs": [],
   "source": [
    "import pandas as pd\n",
    "import gensim\n",
    "from Codes.Supervised_Trainer import run_end_to_end\n",
    "import plotly.express as px\n",
    "import matplotlib.pyplot as plt\n",
    "import numpy as np"
   ]
  },
  {
   "cell_type": "code",
   "execution_count": 3,
   "id": "d6251427",
   "metadata": {},
   "outputs": [],
   "source": [
    "# jf_marine = pd.read_csv(r\"D:\\subFinder\\Data\\Jinfang_Preds\\tmp.marine.clean\", sep = \"\\t\", header = None)"
   ]
  },
  {
   "cell_type": "code",
   "execution_count": 4,
   "id": "e2e527b1",
   "metadata": {},
   "outputs": [],
   "source": [
    "# jf_oral = pd.read_csv(r\"D:\\subFinder\\Data\\Jinfang_Preds\\tmp.oral.clean\", sep = \"\\t\", header = None)"
   ]
  },
  {
   "cell_type": "code",
   "execution_count": 5,
   "id": "9ea35372",
   "metadata": {},
   "outputs": [],
   "source": [
    "# jf_rumen = pd.read_csv(r\"D:\\subFinder\\Data\\Jinfang_Preds\\tmp.rumen.clean\", sep = \"\\t\", header = None)"
   ]
  },
  {
   "cell_type": "code",
   "execution_count": 6,
   "id": "8ea5a786",
   "metadata": {},
   "outputs": [],
   "source": [
    "jf_oral = pd.read_csv(r\"D:\\subFinder\\Data\\Jinfang_Preds\\tmp.oral.clean\", sep = \"\\t\", header = None)"
   ]
  },
  {
   "cell_type": "code",
   "execution_count": 7,
   "id": "f2b18a4d",
   "metadata": {},
   "outputs": [
    {
     "data": {
      "text/plain": [
       "(1722, 12)"
      ]
     },
     "execution_count": 7,
     "metadata": {},
     "output_type": "execute_result"
    }
   ],
   "source": [
    "jf_oral.shape"
   ]
  },
  {
   "cell_type": "code",
   "execution_count": 8,
   "id": "cdde4f19",
   "metadata": {},
   "outputs": [],
   "source": [
    "# jf_all = pd.concat([jf_marine, jf_oral, jf_rumen, jf_uhgg], 0, ignore_index = True)"
   ]
  },
  {
   "cell_type": "code",
   "execution_count": 9,
   "id": "bedfabcf",
   "metadata": {},
   "outputs": [],
   "source": [
    "# jf_all = jf_all[[1,2,3,4]]"
   ]
  },
  {
   "cell_type": "code",
   "execution_count": 10,
   "id": "224f899f",
   "metadata": {},
   "outputs": [],
   "source": [
    "jf_oral = jf_oral[[1,2,3,4]]"
   ]
  },
  {
   "cell_type": "code",
   "execution_count": 11,
   "id": "f39a7518",
   "metadata": {},
   "outputs": [],
   "source": [
    "jf_oral.columns = [\"cgc_id\", \"sig_gene_seq\", \"PULid\", \"high_level_substr\"]"
   ]
  },
  {
   "cell_type": "code",
   "execution_count": 12,
   "id": "c029ea05",
   "metadata": {},
   "outputs": [
    {
     "data": {
      "text/html": [
       "<div>\n",
       "<style scoped>\n",
       "    .dataframe tbody tr th:only-of-type {\n",
       "        vertical-align: middle;\n",
       "    }\n",
       "\n",
       "    .dataframe tbody tr th {\n",
       "        vertical-align: top;\n",
       "    }\n",
       "\n",
       "    .dataframe thead th {\n",
       "        text-align: right;\n",
       "    }\n",
       "</style>\n",
       "<table border=\"1\" class=\"dataframe\">\n",
       "  <thead>\n",
       "    <tr style=\"text-align: right;\">\n",
       "      <th></th>\n",
       "      <th>cgc_id</th>\n",
       "      <th>sig_gene_seq</th>\n",
       "      <th>PULid</th>\n",
       "      <th>high_level_substr</th>\n",
       "    </tr>\n",
       "  </thead>\n",
       "  <tbody>\n",
       "    <tr>\n",
       "      <th>0</th>\n",
       "      <td>MGYG000298024_1|CGC6</td>\n",
       "      <td>GT35,null,GH77,GH77,3.A.1.1.20,3.A.1.1.26,3.A....</td>\n",
       "      <td>X</td>\n",
       "      <td>starch</td>\n",
       "    </tr>\n",
       "    <tr>\n",
       "      <th>1</th>\n",
       "      <td>MGYG000298038_1|CGC4</td>\n",
       "      <td>2.A.86.1.3,null,3.A.1.3.15,3.A.1.3.25,3.A.1.3....</td>\n",
       "      <td>X</td>\n",
       "      <td>starch</td>\n",
       "    </tr>\n",
       "    <tr>\n",
       "      <th>2</th>\n",
       "      <td>MGYG000298038_1|CGC7</td>\n",
       "      <td>GH1,GH1,4.A.3.1.1,4.A.3.1.2</td>\n",
       "      <td>X</td>\n",
       "      <td>beta-galactan</td>\n",
       "    </tr>\n",
       "    <tr>\n",
       "      <th>3</th>\n",
       "      <td>MGYG000298045_3|CGC1</td>\n",
       "      <td>GH129,SBP_bac_1,null,3.A.1.1.41,3.A.1.1.11,3.A...</td>\n",
       "      <td>X</td>\n",
       "      <td>sucrose</td>\n",
       "    </tr>\n",
       "    <tr>\n",
       "      <th>4</th>\n",
       "      <td>MGYG000298045_3|CGC17</td>\n",
       "      <td>GH38,GH130,null,3.A.1.1.9,null,3.A.1.1.10,null...</td>\n",
       "      <td>X</td>\n",
       "      <td>host glycan</td>\n",
       "    </tr>\n",
       "  </tbody>\n",
       "</table>\n",
       "</div>"
      ],
      "text/plain": [
       "                  cgc_id                                       sig_gene_seq  \\\n",
       "0   MGYG000298024_1|CGC6  GT35,null,GH77,GH77,3.A.1.1.20,3.A.1.1.26,3.A....   \n",
       "1   MGYG000298038_1|CGC4  2.A.86.1.3,null,3.A.1.3.15,3.A.1.3.25,3.A.1.3....   \n",
       "2   MGYG000298038_1|CGC7                        GH1,GH1,4.A.3.1.1,4.A.3.1.2   \n",
       "3   MGYG000298045_3|CGC1  GH129,SBP_bac_1,null,3.A.1.1.41,3.A.1.1.11,3.A...   \n",
       "4  MGYG000298045_3|CGC17  GH38,GH130,null,3.A.1.1.9,null,3.A.1.1.10,null...   \n",
       "\n",
       "  PULid high_level_substr  \n",
       "0     X            starch  \n",
       "1     X            starch  \n",
       "2     X     beta-galactan  \n",
       "3     X           sucrose  \n",
       "4     X       host glycan  "
      ]
     },
     "execution_count": 12,
     "metadata": {},
     "output_type": "execute_result"
    }
   ],
   "source": [
    "jf_oral.head()"
   ]
  },
  {
   "cell_type": "code",
   "execution_count": 13,
   "id": "ff635a10",
   "metadata": {},
   "outputs": [
    {
     "data": {
      "text/plain": [
       "MGYG000298181_2|CGC13    4\n",
       "MGYG000298341_1|CGC32    4\n",
       "MGYG000298933_1|CGC11    4\n",
       "MGYG000298197_1|CGC11    3\n",
       "MGYG000298933_1|CGC16    3\n",
       "                        ..\n",
       "MGYG000298358_42|CGC1    1\n",
       "MGYG000298358_41|CGC1    1\n",
       "MGYG000298358_40|CGC1    1\n",
       "MGYG000298358_26|CGC1    1\n",
       "MGYG000299272_9|CGC1     1\n",
       "Name: cgc_id, Length: 1446, dtype: int64"
      ]
     },
     "execution_count": 13,
     "metadata": {},
     "output_type": "execute_result"
    }
   ],
   "source": [
    "jf_oral[\"cgc_id\"].value_counts()"
   ]
  },
  {
   "cell_type": "code",
   "execution_count": 14,
   "id": "dd6cc26c",
   "metadata": {},
   "outputs": [],
   "source": [
    "jf_oral = jf_oral.drop_duplicates(\"cgc_id\")"
   ]
  },
  {
   "cell_type": "code",
   "execution_count": 15,
   "id": "ce507303",
   "metadata": {},
   "outputs": [
    {
     "data": {
      "text/plain": [
       "(1446, 4)"
      ]
     },
     "execution_count": 15,
     "metadata": {},
     "output_type": "execute_result"
    }
   ],
   "source": [
    "jf_oral.shape"
   ]
  },
  {
   "cell_type": "code",
   "execution_count": 16,
   "id": "d7a76602",
   "metadata": {},
   "outputs": [],
   "source": [
    "jf_oral.columns = [\"cgc_id\", \"sig_gene_seq\", \"PULid\", \"JF_high_level_substr\"]"
   ]
  },
  {
   "cell_type": "code",
   "execution_count": 17,
   "id": "5007ecfc",
   "metadata": {},
   "outputs": [],
   "source": [
    "## read subfinder output\n",
    "subfinder_oral= pd.read_csv(r\"Data/Output/Predictions/Predictions_oral_with_probability_and_p_values_Blast_Style_new_sup_new_unsup.csv\")"
   ]
  },
  {
   "cell_type": "code",
   "execution_count": 18,
   "id": "0769fd84",
   "metadata": {},
   "outputs": [
    {
     "data": {
      "text/plain": [
       "(31346, 4)"
      ]
     },
     "execution_count": 18,
     "metadata": {},
     "output_type": "execute_result"
    }
   ],
   "source": [
    "subfinder_oral.shape"
   ]
  },
  {
   "cell_type": "code",
   "execution_count": 19,
   "id": "026f17ad",
   "metadata": {},
   "outputs": [
    {
     "data": {
      "text/plain": [
       "4478"
      ]
     },
     "execution_count": 19,
     "metadata": {},
     "output_type": "execute_result"
    }
   ],
   "source": [
    "subfinder_oral[\"sequence\"].nunique()"
   ]
  },
  {
   "cell_type": "code",
   "execution_count": 20,
   "id": "00fea272",
   "metadata": {},
   "outputs": [
    {
     "data": {
      "text/html": [
       "<div>\n",
       "<style scoped>\n",
       "    .dataframe tbody tr th:only-of-type {\n",
       "        vertical-align: middle;\n",
       "    }\n",
       "\n",
       "    .dataframe tbody tr th {\n",
       "        vertical-align: top;\n",
       "    }\n",
       "\n",
       "    .dataframe thead th {\n",
       "        text-align: right;\n",
       "    }\n",
       "</style>\n",
       "<table border=\"1\" class=\"dataframe\">\n",
       "  <thead>\n",
       "    <tr style=\"text-align: right;\">\n",
       "      <th></th>\n",
       "      <th>sequence</th>\n",
       "      <th>substrate</th>\n",
       "      <th>probability_score</th>\n",
       "      <th>p_value</th>\n",
       "    </tr>\n",
       "  </thead>\n",
       "  <tbody>\n",
       "    <tr>\n",
       "      <th>0</th>\n",
       "      <td>1.A.1,9.B.143,GH13_20</td>\n",
       "      <td>alginate</td>\n",
       "      <td>0.201333</td>\n",
       "      <td>0.999969</td>\n",
       "    </tr>\n",
       "    <tr>\n",
       "      <th>1</th>\n",
       "      <td>1.A.1,9.B.143,GH13_20</td>\n",
       "      <td>beta-glucan</td>\n",
       "      <td>0.370667</td>\n",
       "      <td>0.999969</td>\n",
       "    </tr>\n",
       "    <tr>\n",
       "      <th>2</th>\n",
       "      <td>1.A.1,9.B.143,GH13_20</td>\n",
       "      <td>cellulose</td>\n",
       "      <td>0.242000</td>\n",
       "      <td>0.999969</td>\n",
       "    </tr>\n",
       "    <tr>\n",
       "      <th>3</th>\n",
       "      <td>1.A.1,9.B.143,GH13_20</td>\n",
       "      <td>host glycan</td>\n",
       "      <td>0.264000</td>\n",
       "      <td>0.999969</td>\n",
       "    </tr>\n",
       "    <tr>\n",
       "      <th>4</th>\n",
       "      <td>1.A.1,9.B.143,GH13_20</td>\n",
       "      <td>pectin</td>\n",
       "      <td>0.291333</td>\n",
       "      <td>0.999969</td>\n",
       "    </tr>\n",
       "  </tbody>\n",
       "</table>\n",
       "</div>"
      ],
      "text/plain": [
       "                sequence    substrate  probability_score   p_value\n",
       "0  1.A.1,9.B.143,GH13_20     alginate           0.201333  0.999969\n",
       "1  1.A.1,9.B.143,GH13_20  beta-glucan           0.370667  0.999969\n",
       "2  1.A.1,9.B.143,GH13_20    cellulose           0.242000  0.999969\n",
       "3  1.A.1,9.B.143,GH13_20  host glycan           0.264000  0.999969\n",
       "4  1.A.1,9.B.143,GH13_20       pectin           0.291333  0.999969"
      ]
     },
     "execution_count": 20,
     "metadata": {},
     "output_type": "execute_result"
    }
   ],
   "source": [
    "subfinder_oral.head()"
   ]
  },
  {
   "cell_type": "code",
   "execution_count": 21,
   "id": "7a968047",
   "metadata": {},
   "outputs": [],
   "source": [
    "subfinder_oral.columns = [\"sequence\", \"subFinder_high_level_substr\", \"probability_score\", \"p_value\"]"
   ]
  },
  {
   "cell_type": "code",
   "execution_count": 22,
   "id": "b859b868",
   "metadata": {},
   "outputs": [
    {
     "data": {
      "text/plain": [
       "4478"
      ]
     },
     "execution_count": 22,
     "metadata": {},
     "output_type": "execute_result"
    }
   ],
   "source": [
    "len(subfinder_oral.groupby('sequence')['probability_score'].idxmax().values)"
   ]
  },
  {
   "cell_type": "code",
   "execution_count": 23,
   "id": "ec033834",
   "metadata": {},
   "outputs": [],
   "source": [
    "subfinder_oral_preds = subfinder_oral.iloc[subfinder_oral.groupby('sequence')['probability_score'].idxmax().values,:]"
   ]
  },
  {
   "cell_type": "code",
   "execution_count": 24,
   "id": "09cdf2a5",
   "metadata": {},
   "outputs": [],
   "source": [
    "subfinder_oral_preds = subfinder_oral_preds.reset_index(drop = True)"
   ]
  },
  {
   "cell_type": "code",
   "execution_count": 25,
   "id": "6cbfed87",
   "metadata": {},
   "outputs": [
    {
     "data": {
      "text/html": [
       "<div>\n",
       "<style scoped>\n",
       "    .dataframe tbody tr th:only-of-type {\n",
       "        vertical-align: middle;\n",
       "    }\n",
       "\n",
       "    .dataframe tbody tr th {\n",
       "        vertical-align: top;\n",
       "    }\n",
       "\n",
       "    .dataframe thead th {\n",
       "        text-align: right;\n",
       "    }\n",
       "</style>\n",
       "<table border=\"1\" class=\"dataframe\">\n",
       "  <thead>\n",
       "    <tr style=\"text-align: right;\">\n",
       "      <th></th>\n",
       "      <th>sequence</th>\n",
       "      <th>subFinder_high_level_substr</th>\n",
       "      <th>probability_score</th>\n",
       "      <th>p_value</th>\n",
       "    </tr>\n",
       "  </thead>\n",
       "  <tbody>\n",
       "    <tr>\n",
       "      <th>0</th>\n",
       "      <td>1.A.1,9.B.143,GH13_20</td>\n",
       "      <td>starch</td>\n",
       "      <td>0.413333</td>\n",
       "      <td>0.999969</td>\n",
       "    </tr>\n",
       "    <tr>\n",
       "      <th>1</th>\n",
       "      <td>1.A.1,GH49,3.A.1,null,3.A.9</td>\n",
       "      <td>beta-glucan</td>\n",
       "      <td>0.456667</td>\n",
       "      <td>0.999512</td>\n",
       "    </tr>\n",
       "    <tr>\n",
       "      <th>2</th>\n",
       "      <td>1.A.11,1.A.11,3.A.5,TetR_N,GT2</td>\n",
       "      <td>beta-glucan</td>\n",
       "      <td>0.353333</td>\n",
       "      <td>0.999969</td>\n",
       "    </tr>\n",
       "    <tr>\n",
       "      <th>3</th>\n",
       "      <td>1.A.11,2.A.37,3.A.5,TetR_N,GT2</td>\n",
       "      <td>beta-glucan</td>\n",
       "      <td>0.420000</td>\n",
       "      <td>0.999969</td>\n",
       "    </tr>\n",
       "    <tr>\n",
       "      <th>4</th>\n",
       "      <td>1.A.14,GH20</td>\n",
       "      <td>host glycan</td>\n",
       "      <td>0.505333</td>\n",
       "      <td>0.150879</td>\n",
       "    </tr>\n",
       "  </tbody>\n",
       "</table>\n",
       "</div>"
      ],
      "text/plain": [
       "                         sequence subFinder_high_level_substr  \\\n",
       "0           1.A.1,9.B.143,GH13_20                      starch   \n",
       "1     1.A.1,GH49,3.A.1,null,3.A.9                 beta-glucan   \n",
       "2  1.A.11,1.A.11,3.A.5,TetR_N,GT2                 beta-glucan   \n",
       "3  1.A.11,2.A.37,3.A.5,TetR_N,GT2                 beta-glucan   \n",
       "4                     1.A.14,GH20                 host glycan   \n",
       "\n",
       "   probability_score   p_value  \n",
       "0           0.413333  0.999969  \n",
       "1           0.456667  0.999512  \n",
       "2           0.353333  0.999969  \n",
       "3           0.420000  0.999969  \n",
       "4           0.505333  0.150879  "
      ]
     },
     "execution_count": 25,
     "metadata": {},
     "output_type": "execute_result"
    }
   ],
   "source": [
    "subfinder_oral_preds.head()"
   ]
  },
  {
   "cell_type": "code",
   "execution_count": 26,
   "id": "e77aa9d9",
   "metadata": {},
   "outputs": [],
   "source": [
    "to_keep = subfinder_oral_preds[\"subFinder_high_level_substr\"].unique()"
   ]
  },
  {
   "cell_type": "code",
   "execution_count": 27,
   "id": "30678fdd",
   "metadata": {},
   "outputs": [],
   "source": [
    "oral_data = pd.read_csv(r\"Data/Output/Unsupervised_10_12/output_humanoral.csv\")"
   ]
  },
  {
   "cell_type": "code",
   "execution_count": 28,
   "id": "d7153699",
   "metadata": {},
   "outputs": [],
   "source": [
    "oral_data = oral_data.drop_duplicates(\"sequence\")"
   ]
  },
  {
   "cell_type": "code",
   "execution_count": 29,
   "id": "043bbd1f",
   "metadata": {},
   "outputs": [],
   "source": [
    "subfinder_oral_preds = subfinder_oral_preds.merge(oral_data, how = \"left\", on = \"sequence\")"
   ]
  },
  {
   "cell_type": "code",
   "execution_count": 30,
   "id": "c3f885d7",
   "metadata": {},
   "outputs": [
    {
     "data": {
      "text/plain": [
       "(4478, 5)"
      ]
     },
     "execution_count": 30,
     "metadata": {},
     "output_type": "execute_result"
    }
   ],
   "source": [
    "subfinder_oral_preds.shape"
   ]
  },
  {
   "cell_type": "code",
   "execution_count": 31,
   "id": "68572827",
   "metadata": {},
   "outputs": [],
   "source": [
    "# two filtering\n",
    "# form jinfang keep those in top_k of subfinder\n",
    "# and then also the common cgc ids\n",
    "# some cgc ids from jinfang not found in the new data I received\n",
    "# but it is minimal"
   ]
  },
  {
   "cell_type": "code",
   "execution_count": 32,
   "id": "50319094",
   "metadata": {},
   "outputs": [],
   "source": [
    "# basically we cant just do common cgc_ids because our model doesn't see those classes to be able to predict them"
   ]
  },
  {
   "cell_type": "code",
   "execution_count": 33,
   "id": "b04272d4",
   "metadata": {},
   "outputs": [],
   "source": [
    "jf_oral_to_kepp = jf_oral[jf_oral[\"JF_high_level_substr\"].isin(to_keep)]"
   ]
  },
  {
   "cell_type": "code",
   "execution_count": 34,
   "id": "02e4d5d6",
   "metadata": {},
   "outputs": [
    {
     "data": {
      "text/plain": [
       "(486, 4)"
      ]
     },
     "execution_count": 34,
     "metadata": {},
     "output_type": "execute_result"
    }
   ],
   "source": [
    "jf_oral_to_kepp.shape"
   ]
  },
  {
   "cell_type": "code",
   "execution_count": 35,
   "id": "55e4f85a",
   "metadata": {},
   "outputs": [],
   "source": [
    "overlapped = subfinder_oral_preds.merge(jf_oral_to_kepp[[\"cgc_id\", \"JF_high_level_substr\"]], how = \"inner\", on = [\"cgc_id\"])"
   ]
  },
  {
   "cell_type": "code",
   "execution_count": 36,
   "id": "81f15a51",
   "metadata": {},
   "outputs": [
    {
     "data": {
      "text/html": [
       "<div>\n",
       "<style scoped>\n",
       "    .dataframe tbody tr th:only-of-type {\n",
       "        vertical-align: middle;\n",
       "    }\n",
       "\n",
       "    .dataframe tbody tr th {\n",
       "        vertical-align: top;\n",
       "    }\n",
       "\n",
       "    .dataframe thead th {\n",
       "        text-align: right;\n",
       "    }\n",
       "</style>\n",
       "<table border=\"1\" class=\"dataframe\">\n",
       "  <thead>\n",
       "    <tr style=\"text-align: right;\">\n",
       "      <th></th>\n",
       "      <th>sequence</th>\n",
       "      <th>subFinder_high_level_substr</th>\n",
       "      <th>probability_score</th>\n",
       "      <th>p_value</th>\n",
       "      <th>cgc_id</th>\n",
       "      <th>JF_high_level_substr</th>\n",
       "    </tr>\n",
       "  </thead>\n",
       "  <tbody>\n",
       "    <tr>\n",
       "      <th>0</th>\n",
       "      <td>1.A.14,null,GH92,GH92,null,1.B.14</td>\n",
       "      <td>host glycan</td>\n",
       "      <td>0.650667</td>\n",
       "      <td>0.000000</td>\n",
       "      <td>MGYG000299211_40|CGC1</td>\n",
       "      <td>pectin</td>\n",
       "    </tr>\n",
       "    <tr>\n",
       "      <th>1</th>\n",
       "      <td>1.A.23,null,null,GH1,4.A.1,4.A.1,0043669,null,...</td>\n",
       "      <td>starch</td>\n",
       "      <td>0.529333</td>\n",
       "      <td>0.059235</td>\n",
       "      <td>MGYG000298799_6|CGC2</td>\n",
       "      <td>beta-glucan</td>\n",
       "    </tr>\n",
       "    <tr>\n",
       "      <th>2</th>\n",
       "      <td>1.A.26,GH13_31,3.A.1,3.A.1,null,SBP_bac_1,3.A....</td>\n",
       "      <td>starch</td>\n",
       "      <td>0.670667</td>\n",
       "      <td>0.000000</td>\n",
       "      <td>MGYG000298401_1|CGC11</td>\n",
       "      <td>starch</td>\n",
       "    </tr>\n",
       "    <tr>\n",
       "      <th>3</th>\n",
       "      <td>1.A.30,null,GerE,GT35,GH77,PfkB,CBM34|GH13_20</td>\n",
       "      <td>starch</td>\n",
       "      <td>0.598667</td>\n",
       "      <td>0.000031</td>\n",
       "      <td>MGYG000298503_13|CGC1</td>\n",
       "      <td>starch</td>\n",
       "    </tr>\n",
       "    <tr>\n",
       "      <th>4</th>\n",
       "      <td>1.A.43,null,GH97,GH27,GH27,null,8.A.46,1.B.14</td>\n",
       "      <td>starch</td>\n",
       "      <td>0.564667</td>\n",
       "      <td>0.000488</td>\n",
       "      <td>MGYG000298895_66|CGC2</td>\n",
       "      <td>starch</td>\n",
       "    </tr>\n",
       "  </tbody>\n",
       "</table>\n",
       "</div>"
      ],
      "text/plain": [
       "                                            sequence  \\\n",
       "0                  1.A.14,null,GH92,GH92,null,1.B.14   \n",
       "1  1.A.23,null,null,GH1,4.A.1,4.A.1,0043669,null,...   \n",
       "2  1.A.26,GH13_31,3.A.1,3.A.1,null,SBP_bac_1,3.A....   \n",
       "3      1.A.30,null,GerE,GT35,GH77,PfkB,CBM34|GH13_20   \n",
       "4      1.A.43,null,GH97,GH27,GH27,null,8.A.46,1.B.14   \n",
       "\n",
       "  subFinder_high_level_substr  probability_score   p_value  \\\n",
       "0                 host glycan           0.650667  0.000000   \n",
       "1                      starch           0.529333  0.059235   \n",
       "2                      starch           0.670667  0.000000   \n",
       "3                      starch           0.598667  0.000031   \n",
       "4                      starch           0.564667  0.000488   \n",
       "\n",
       "                  cgc_id JF_high_level_substr  \n",
       "0  MGYG000299211_40|CGC1               pectin  \n",
       "1   MGYG000298799_6|CGC2          beta-glucan  \n",
       "2  MGYG000298401_1|CGC11               starch  \n",
       "3  MGYG000298503_13|CGC1               starch  \n",
       "4  MGYG000298895_66|CGC2               starch  "
      ]
     },
     "execution_count": 36,
     "metadata": {},
     "output_type": "execute_result"
    }
   ],
   "source": [
    "overlapped.head()"
   ]
  },
  {
   "cell_type": "code",
   "execution_count": 37,
   "id": "0ed2669e",
   "metadata": {},
   "outputs": [
    {
     "data": {
      "text/plain": [
       "(413, 6)"
      ]
     },
     "execution_count": 37,
     "metadata": {},
     "output_type": "execute_result"
    }
   ],
   "source": [
    "overlapped.shape"
   ]
  },
  {
   "cell_type": "code",
   "execution_count": 38,
   "id": "874452ac",
   "metadata": {},
   "outputs": [],
   "source": [
    "match = overlapped[overlapped[\"subFinder_high_level_substr\"] == overlapped[\"JF_high_level_substr\"]]\n",
    "\n",
    "match = match[[\"cgc_id\", \"sequence\", \"subFinder_high_level_substr\", \"JF_high_level_substr\", \"probability_score\", \"p_value\"]]\n",
    "\n"
   ]
  },
  {
   "cell_type": "code",
   "execution_count": 39,
   "id": "0fa62cd2",
   "metadata": {},
   "outputs": [],
   "source": [
    "match = match.sort_values(\"p_value\").reset_index(drop = True)"
   ]
  },
  {
   "cell_type": "code",
   "execution_count": 40,
   "id": "d8ba074a",
   "metadata": {},
   "outputs": [
    {
     "data": {
      "text/html": [
       "<div>\n",
       "<style scoped>\n",
       "    .dataframe tbody tr th:only-of-type {\n",
       "        vertical-align: middle;\n",
       "    }\n",
       "\n",
       "    .dataframe tbody tr th {\n",
       "        vertical-align: top;\n",
       "    }\n",
       "\n",
       "    .dataframe thead th {\n",
       "        text-align: right;\n",
       "    }\n",
       "</style>\n",
       "<table border=\"1\" class=\"dataframe\">\n",
       "  <thead>\n",
       "    <tr style=\"text-align: right;\">\n",
       "      <th></th>\n",
       "      <th>cgc_id</th>\n",
       "      <th>sequence</th>\n",
       "      <th>subFinder_high_level_substr</th>\n",
       "      <th>JF_high_level_substr</th>\n",
       "      <th>probability_score</th>\n",
       "      <th>p_value</th>\n",
       "    </tr>\n",
       "  </thead>\n",
       "  <tbody>\n",
       "    <tr>\n",
       "      <th>0</th>\n",
       "      <td>MGYG000298401_1|CGC11</td>\n",
       "      <td>1.A.26,GH13_31,3.A.1,3.A.1,null,SBP_bac_1,3.A....</td>\n",
       "      <td>starch</td>\n",
       "      <td>starch</td>\n",
       "      <td>0.670667</td>\n",
       "      <td>0.0</td>\n",
       "    </tr>\n",
       "    <tr>\n",
       "      <th>1</th>\n",
       "      <td>MGYG000298341_1|CGC26</td>\n",
       "      <td>GH13_14,3.A.1,3.A.1,SBP_bac_1,GH13,GH77</td>\n",
       "      <td>starch</td>\n",
       "      <td>starch</td>\n",
       "      <td>0.758667</td>\n",
       "      <td>0.0</td>\n",
       "    </tr>\n",
       "    <tr>\n",
       "      <th>2</th>\n",
       "      <td>MGYG000299054_93|CGC1</td>\n",
       "      <td>GH13_14,3.A.1,CBM34|GH13_20,3.A.1,3.A.1</td>\n",
       "      <td>starch</td>\n",
       "      <td>starch</td>\n",
       "      <td>0.650000</td>\n",
       "      <td>0.0</td>\n",
       "    </tr>\n",
       "    <tr>\n",
       "      <th>3</th>\n",
       "      <td>MGYG000298749_1|CGC2</td>\n",
       "      <td>GH13_20,null,3.A.1,3.A.1</td>\n",
       "      <td>starch</td>\n",
       "      <td>starch</td>\n",
       "      <td>0.640000</td>\n",
       "      <td>0.0</td>\n",
       "    </tr>\n",
       "    <tr>\n",
       "      <th>4</th>\n",
       "      <td>MGYG000298111_35|CGC1</td>\n",
       "      <td>GH13_30,null,9.B.28,LacI,GH32,3.A.1,GH31,LacI,...</td>\n",
       "      <td>starch</td>\n",
       "      <td>starch</td>\n",
       "      <td>0.742000</td>\n",
       "      <td>0.0</td>\n",
       "    </tr>\n",
       "  </tbody>\n",
       "</table>\n",
       "</div>"
      ],
      "text/plain": [
       "                  cgc_id                                           sequence  \\\n",
       "0  MGYG000298401_1|CGC11  1.A.26,GH13_31,3.A.1,3.A.1,null,SBP_bac_1,3.A....   \n",
       "1  MGYG000298341_1|CGC26            GH13_14,3.A.1,3.A.1,SBP_bac_1,GH13,GH77   \n",
       "2  MGYG000299054_93|CGC1            GH13_14,3.A.1,CBM34|GH13_20,3.A.1,3.A.1   \n",
       "3   MGYG000298749_1|CGC2                           GH13_20,null,3.A.1,3.A.1   \n",
       "4  MGYG000298111_35|CGC1  GH13_30,null,9.B.28,LacI,GH32,3.A.1,GH31,LacI,...   \n",
       "\n",
       "  subFinder_high_level_substr JF_high_level_substr  probability_score  p_value  \n",
       "0                      starch               starch           0.670667      0.0  \n",
       "1                      starch               starch           0.758667      0.0  \n",
       "2                      starch               starch           0.650000      0.0  \n",
       "3                      starch               starch           0.640000      0.0  \n",
       "4                      starch               starch           0.742000      0.0  "
      ]
     },
     "execution_count": 40,
     "metadata": {},
     "output_type": "execute_result"
    }
   ],
   "source": [
    "match.head()"
   ]
  },
  {
   "cell_type": "code",
   "execution_count": 41,
   "id": "9f04fdbd",
   "metadata": {},
   "outputs": [
    {
     "data": {
      "text/plain": [
       "array([0.00369263, 0.01757812, 0.01757812, 0.01757812, 0.01757812])"
      ]
     },
     "execution_count": 41,
     "metadata": {},
     "output_type": "execute_result"
    }
   ],
   "source": [
    "np.percentile(match[\"p_value\"], np.arange(80,85))"
   ]
  },
  {
   "cell_type": "code",
   "execution_count": 42,
   "id": "0995a549",
   "metadata": {},
   "outputs": [],
   "source": [
    "match.to_csv(r\"Data\\Output\\Predictions\\oral_match_with_JF.csv\", index = False)"
   ]
  },
  {
   "cell_type": "code",
   "execution_count": 43,
   "id": "0883da8d",
   "metadata": {},
   "outputs": [
    {
     "data": {
      "text/plain": [
       "starch         185\n",
       "host glycan     93\n",
       "beta-glucan     19\n",
       "pectin          13\n",
       "xylan           11\n",
       "cellulose        1\n",
       "Name: subFinder_high_level_substr, dtype: int64"
      ]
     },
     "execution_count": 43,
     "metadata": {},
     "output_type": "execute_result"
    }
   ],
   "source": [
    "match[\"subFinder_high_level_substr\"].value_counts()"
   ]
  },
  {
   "cell_type": "code",
   "execution_count": 44,
   "id": "f6c59d2f",
   "metadata": {},
   "outputs": [
    {
     "data": {
      "text/plain": [
       "(322, 6)"
      ]
     },
     "execution_count": 44,
     "metadata": {},
     "output_type": "execute_result"
    }
   ],
   "source": [
    "match.shape"
   ]
  },
  {
   "cell_type": "code",
   "execution_count": 45,
   "id": "87f7f850",
   "metadata": {},
   "outputs": [],
   "source": [
    "cgc_id_seqs = match[\"cgc_id\"].values"
   ]
  },
  {
   "cell_type": "code",
   "execution_count": 46,
   "id": "0a4a041f",
   "metadata": {},
   "outputs": [],
   "source": [
    "# rep_seq = np.repeat(cgc_id_seqs, subfinder_oral[\"subFinder_high_level_substr\"].nunique())"
   ]
  },
  {
   "cell_type": "code",
   "execution_count": 47,
   "id": "7eaf17f2",
   "metadata": {},
   "outputs": [],
   "source": [
    "subfinder_oral = subfinder_oral.merge(oral_data, how = \"left\", on = \"sequence\")"
   ]
  },
  {
   "cell_type": "code",
   "execution_count": 48,
   "id": "cb000067",
   "metadata": {},
   "outputs": [],
   "source": [
    "# subfinder_marine.head()"
   ]
  },
  {
   "cell_type": "code",
   "execution_count": 49,
   "id": "0b3be8f8",
   "metadata": {},
   "outputs": [],
   "source": [
    "match_full_output = subfinder_oral[subfinder_oral[\"cgc_id\"].isin(cgc_id_seqs)]"
   ]
  },
  {
   "cell_type": "code",
   "execution_count": 50,
   "id": "135ba236",
   "metadata": {},
   "outputs": [],
   "source": [
    "match_full_output = match_full_output.reset_index(drop = True)"
   ]
  },
  {
   "cell_type": "code",
   "execution_count": 51,
   "id": "04813d30",
   "metadata": {},
   "outputs": [],
   "source": [
    "match_full_output = match_full_output.set_index(\"cgc_id\")"
   ]
  },
  {
   "cell_type": "code",
   "execution_count": 52,
   "id": "96d62a5b",
   "metadata": {},
   "outputs": [],
   "source": [
    "match_full_output = match_full_output.loc[cgc_id_seqs].reset_index()"
   ]
  },
  {
   "cell_type": "code",
   "execution_count": 53,
   "id": "fcdb42eb",
   "metadata": {},
   "outputs": [
    {
     "data": {
      "text/html": [
       "<div>\n",
       "<style scoped>\n",
       "    .dataframe tbody tr th:only-of-type {\n",
       "        vertical-align: middle;\n",
       "    }\n",
       "\n",
       "    .dataframe tbody tr th {\n",
       "        vertical-align: top;\n",
       "    }\n",
       "\n",
       "    .dataframe thead th {\n",
       "        text-align: right;\n",
       "    }\n",
       "</style>\n",
       "<table border=\"1\" class=\"dataframe\">\n",
       "  <thead>\n",
       "    <tr style=\"text-align: right;\">\n",
       "      <th></th>\n",
       "      <th>cgc_id</th>\n",
       "      <th>sequence</th>\n",
       "      <th>subFinder_high_level_substr</th>\n",
       "      <th>probability_score</th>\n",
       "      <th>p_value</th>\n",
       "    </tr>\n",
       "  </thead>\n",
       "  <tbody>\n",
       "    <tr>\n",
       "      <th>0</th>\n",
       "      <td>MGYG000298401_1|CGC11</td>\n",
       "      <td>1.A.26,GH13_31,3.A.1,3.A.1,null,SBP_bac_1,3.A....</td>\n",
       "      <td>starch</td>\n",
       "      <td>0.670667</td>\n",
       "      <td>0.000000</td>\n",
       "    </tr>\n",
       "    <tr>\n",
       "      <th>1</th>\n",
       "      <td>MGYG000298401_1|CGC11</td>\n",
       "      <td>1.A.26,GH13_31,3.A.1,3.A.1,null,SBP_bac_1,3.A....</td>\n",
       "      <td>beta-glucan</td>\n",
       "      <td>0.436000</td>\n",
       "      <td>0.999512</td>\n",
       "    </tr>\n",
       "    <tr>\n",
       "      <th>2</th>\n",
       "      <td>MGYG000298401_1|CGC11</td>\n",
       "      <td>1.A.26,GH13_31,3.A.1,3.A.1,null,SBP_bac_1,3.A....</td>\n",
       "      <td>alginate</td>\n",
       "      <td>0.213333</td>\n",
       "      <td>0.999969</td>\n",
       "    </tr>\n",
       "    <tr>\n",
       "      <th>3</th>\n",
       "      <td>MGYG000298401_1|CGC11</td>\n",
       "      <td>1.A.26,GH13_31,3.A.1,3.A.1,null,SBP_bac_1,3.A....</td>\n",
       "      <td>cellulose</td>\n",
       "      <td>0.226667</td>\n",
       "      <td>0.999969</td>\n",
       "    </tr>\n",
       "    <tr>\n",
       "      <th>4</th>\n",
       "      <td>MGYG000298401_1|CGC11</td>\n",
       "      <td>1.A.26,GH13_31,3.A.1,3.A.1,null,SBP_bac_1,3.A....</td>\n",
       "      <td>host glycan</td>\n",
       "      <td>0.364667</td>\n",
       "      <td>0.999969</td>\n",
       "    </tr>\n",
       "  </tbody>\n",
       "</table>\n",
       "</div>"
      ],
      "text/plain": [
       "                  cgc_id                                           sequence  \\\n",
       "0  MGYG000298401_1|CGC11  1.A.26,GH13_31,3.A.1,3.A.1,null,SBP_bac_1,3.A....   \n",
       "1  MGYG000298401_1|CGC11  1.A.26,GH13_31,3.A.1,3.A.1,null,SBP_bac_1,3.A....   \n",
       "2  MGYG000298401_1|CGC11  1.A.26,GH13_31,3.A.1,3.A.1,null,SBP_bac_1,3.A....   \n",
       "3  MGYG000298401_1|CGC11  1.A.26,GH13_31,3.A.1,3.A.1,null,SBP_bac_1,3.A....   \n",
       "4  MGYG000298401_1|CGC11  1.A.26,GH13_31,3.A.1,3.A.1,null,SBP_bac_1,3.A....   \n",
       "\n",
       "  subFinder_high_level_substr  probability_score   p_value  \n",
       "0                      starch           0.670667  0.000000  \n",
       "1                 beta-glucan           0.436000  0.999512  \n",
       "2                    alginate           0.213333  0.999969  \n",
       "3                   cellulose           0.226667  0.999969  \n",
       "4                 host glycan           0.364667  0.999969  "
      ]
     },
     "execution_count": 53,
     "metadata": {},
     "output_type": "execute_result"
    }
   ],
   "source": [
    "match_full_output.head()"
   ]
  },
  {
   "cell_type": "code",
   "execution_count": 54,
   "id": "cab32d09",
   "metadata": {},
   "outputs": [],
   "source": [
    "match_full_output.to_csv(r\"Data\\Output\\Predictions\\oral_match_with_JF_Blast.csv\", index = False)"
   ]
  },
  {
   "cell_type": "code",
   "execution_count": 55,
   "id": "0294bdfc",
   "metadata": {},
   "outputs": [
    {
     "data": {
      "text/plain": [
       "486"
      ]
     },
     "execution_count": 55,
     "metadata": {},
     "output_type": "execute_result"
    }
   ],
   "source": [
    "overlapped.shape[0] + len(set(jf_oral_to_kepp[\"cgc_id\"].values).difference(oral_data[\"cgc_id\"].values))"
   ]
  },
  {
   "cell_type": "code",
   "execution_count": 56,
   "id": "7bbb2741",
   "metadata": {},
   "outputs": [
    {
     "data": {
      "text/plain": [
       "(486, 4)"
      ]
     },
     "execution_count": 56,
     "metadata": {},
     "output_type": "execute_result"
    }
   ],
   "source": [
    "jf_oral_to_kepp.shape"
   ]
  },
  {
   "cell_type": "code",
   "execution_count": 57,
   "id": "6f8d7042",
   "metadata": {},
   "outputs": [
    {
     "data": {
      "text/plain": [
       "73"
      ]
     },
     "execution_count": 57,
     "metadata": {},
     "output_type": "execute_result"
    }
   ],
   "source": [
    "len(set(jf_oral_to_kepp[\"cgc_id\"].values).difference(oral_data[\"cgc_id\"].values))"
   ]
  },
  {
   "cell_type": "code",
   "execution_count": 58,
   "id": "8f8c425a",
   "metadata": {},
   "outputs": [
    {
     "data": {
      "text/plain": [
       "0.7796610169491526"
      ]
     },
     "execution_count": 58,
     "metadata": {},
     "output_type": "execute_result"
    }
   ],
   "source": [
    "np.mean(overlapped[\"subFinder_high_level_substr\"] == overlapped[\"JF_high_level_substr\"])"
   ]
  },
  {
   "cell_type": "code",
   "execution_count": 59,
   "id": "9bb67f56",
   "metadata": {},
   "outputs": [
    {
     "data": {
      "image/png": "[encoded data removed]",
      "text/plain": [
       "<Figure size 432x288 with 1 Axes>"
      ]
     },
     "metadata": {
      "needs_background": "light"
     },
     "output_type": "display_data"
    }
   ],
   "source": [
    "plt.hist(overlapped[\"p_value\"])\n",
    "plt.show()"
   ]
  },
  {
   "cell_type": "code",
   "execution_count": 60,
   "id": "73ba85b8",
   "metadata": {},
   "outputs": [],
   "source": [
    "thresholded = subfinder_oral_preds[subfinder_oral_preds[\"p_value\"] <= 0.1]"
   ]
  },
  {
   "cell_type": "code",
   "execution_count": 61,
   "id": "3763fe4d",
   "metadata": {},
   "outputs": [],
   "source": [
    "thresholded_overlapped = thresholded.merge(jf_oral_to_kepp[[\"cgc_id\", \"JF_high_level_substr\"]], how = \"inner\", on = [\"cgc_id\"])"
   ]
  },
  {
   "cell_type": "code",
   "execution_count": 62,
   "id": "083f721e",
   "metadata": {},
   "outputs": [
    {
     "data": {
      "text/plain": [
       "(328, 6)"
      ]
     },
     "execution_count": 62,
     "metadata": {},
     "output_type": "execute_result"
    }
   ],
   "source": [
    "thresholded_overlapped.shape"
   ]
  },
  {
   "cell_type": "code",
   "execution_count": 63,
   "id": "588737f4",
   "metadata": {},
   "outputs": [
    {
     "data": {
      "text/plain": [
       "0.8475609756097561"
      ]
     },
     "execution_count": 63,
     "metadata": {},
     "output_type": "execute_result"
    }
   ],
   "source": [
    "np.mean(thresholded_overlapped[\"subFinder_high_level_substr\"] == thresholded_overlapped[\"JF_high_level_substr\"])"
   ]
  },
  {
   "cell_type": "code",
   "execution_count": 64,
   "id": "979bd8b2",
   "metadata": {},
   "outputs": [
    {
     "data": {
      "text/plain": [
       "starch         228\n",
       "host glycan    127\n",
       "beta-glucan     48\n",
       "xylan           45\n",
       "pectin          35\n",
       "cellulose        3\n",
       "Name: JF_high_level_substr, dtype: int64"
      ]
     },
     "execution_count": 64,
     "metadata": {},
     "output_type": "execute_result"
    }
   ],
   "source": [
    "jf_oral_to_kepp[\"JF_high_level_substr\"].value_counts()"
   ]
  }
 ],
 "metadata": {
  "kernelspec": {
   "display_name": "newone1",
   "language": "python",
   "name": "newone1"
  },
  "language_info": {
   "codemirror_mode": {
    "name": "ipython",
    "version": 3
   },
   "file_extension": ".py",
   "mimetype": "text/x-python",
   "name": "python",
   "nbconvert_exporter": "python",
   "pygments_lexer": "ipython3",
   "version": "3.9.12"
  }
 },
 "nbformat": 4,
 "nbformat_minor": 5
}
