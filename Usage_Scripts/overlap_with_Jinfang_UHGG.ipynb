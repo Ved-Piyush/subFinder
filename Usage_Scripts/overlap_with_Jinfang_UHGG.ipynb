{
 "cells": [
  {
   "cell_type": "code",
   "execution_count": 247,
   "id": "26c956c1",
   "metadata": {},
   "outputs": [],
   "source": [
    "import os\n",
    "\n",
    "os.chdir(r'D:\\subFinder')"
   ]
  },
  {
   "cell_type": "code",
   "execution_count": 248,
   "id": "ee6c814e",
   "metadata": {},
   "outputs": [],
   "source": [
    "import pandas as pd\n",
    "import gensim\n",
    "from Codes.Supervised_Trainer import run_end_to_end\n",
    "import plotly.express as px\n",
    "import matplotlib.pyplot as plt\n",
    "import numpy as np"
   ]
  },
  {
   "cell_type": "code",
   "execution_count": 249,
   "id": "d6251427",
   "metadata": {},
   "outputs": [],
   "source": [
    "# jf_marine = pd.read_csv(r\"D:\\subFinder\\Data\\Jinfang_Preds\\tmp.marine.clean\", sep = \"\\t\", header = None)"
   ]
  },
  {
   "cell_type": "code",
   "execution_count": 250,
   "id": "e2e527b1",
   "metadata": {},
   "outputs": [],
   "source": [
    "# jf_oral = pd.read_csv(r\"D:\\subFinder\\Data\\Jinfang_Preds\\tmp.oral.clean\", sep = \"\\t\", header = None)"
   ]
  },
  {
   "cell_type": "code",
   "execution_count": 251,
   "id": "9ea35372",
   "metadata": {},
   "outputs": [],
   "source": [
    "# jf_rumen = pd.read_csv(r\"D:\\subFinder\\Data\\Jinfang_Preds\\tmp.rumen.clean\", sep = \"\\t\", header = None)"
   ]
  },
  {
   "cell_type": "code",
   "execution_count": 252,
   "id": "8ea5a786",
   "metadata": {},
   "outputs": [],
   "source": [
    "jf_uhgg = pd.read_csv(r\"D:\\subFinder\\Data\\Jinfang_Preds\\tmp.uhgg.clean\", sep = \"\\t\", header = None)"
   ]
  },
  {
   "cell_type": "code",
   "execution_count": 253,
   "id": "cdde4f19",
   "metadata": {},
   "outputs": [],
   "source": [
    "# jf_all = pd.concat([jf_marine, jf_oral, jf_rumen, jf_uhgg], 0, ignore_index = True)"
   ]
  },
  {
   "cell_type": "code",
   "execution_count": 254,
   "id": "bedfabcf",
   "metadata": {},
   "outputs": [],
   "source": [
    "# jf_all = jf_all[[1,2,3,4]]"
   ]
  },
  {
   "cell_type": "code",
   "execution_count": 255,
   "id": "224f899f",
   "metadata": {},
   "outputs": [],
   "source": [
    "jf_uhgg = jf_uhgg[[1,2,3,4]]"
   ]
  },
  {
   "cell_type": "code",
   "execution_count": 256,
   "id": "f39a7518",
   "metadata": {},
   "outputs": [],
   "source": [
    "jf_uhgg.columns = [\"cgc_id\", \"sig_gene_seq\", \"PULid\", \"high_level_substr\"]"
   ]
  },
  {
   "cell_type": "code",
   "execution_count": 257,
   "id": "c029ea05",
   "metadata": {},
   "outputs": [
    {
     "data": {
      "text/html": [
       "<div>\n",
       "<style scoped>\n",
       "    .dataframe tbody tr th:only-of-type {\n",
       "        vertical-align: middle;\n",
       "    }\n",
       "\n",
       "    .dataframe tbody tr th {\n",
       "        vertical-align: top;\n",
       "    }\n",
       "\n",
       "    .dataframe thead th {\n",
       "        text-align: right;\n",
       "    }\n",
       "</style>\n",
       "<table border=\"1\" class=\"dataframe\">\n",
       "  <thead>\n",
       "    <tr style=\"text-align: right;\">\n",
       "      <th></th>\n",
       "      <th>cgc_id</th>\n",
       "      <th>sig_gene_seq</th>\n",
       "      <th>PULid</th>\n",
       "      <th>high_level_substr</th>\n",
       "    </tr>\n",
       "  </thead>\n",
       "  <tbody>\n",
       "    <tr>\n",
       "      <th>0</th>\n",
       "      <td>MGYG000000001_14|CGC1</td>\n",
       "      <td>CBM34|GH77|GH13|GH13_39,GT35,GT5,null,null,GH1...</td>\n",
       "      <td>X</td>\n",
       "      <td>alpha-glucan</td>\n",
       "    </tr>\n",
       "    <tr>\n",
       "      <th>1</th>\n",
       "      <td>MGYG000000002_3|CGC1</td>\n",
       "      <td>9.A.11.1.1,9.A.11.1.1,null,9.A.11.1.1,Aminotra...</td>\n",
       "      <td>X</td>\n",
       "      <td>starch</td>\n",
       "    </tr>\n",
       "    <tr>\n",
       "      <th>2</th>\n",
       "      <td>MGYG000000003_2|CGC3</td>\n",
       "      <td>1.B.14.6.1,GH130,2.A.21.3.19,HTH_AraC+HTH_AraC...</td>\n",
       "      <td>X</td>\n",
       "      <td>beta-mannan</td>\n",
       "    </tr>\n",
       "    <tr>\n",
       "      <th>3</th>\n",
       "      <td>MGYG000000003_2|CGC11</td>\n",
       "      <td>PL12|PL12_2,PL12|PL12_2,PL13,null,1.B.14.6.1,n...</td>\n",
       "      <td>X</td>\n",
       "      <td>host glycan</td>\n",
       "    </tr>\n",
       "    <tr>\n",
       "      <th>4</th>\n",
       "      <td>MGYG000000007_1|CGC1</td>\n",
       "      <td>GH13_31|GH13,GH13|CBM34|GH13_20,3.A.1.1.20,3.A...</td>\n",
       "      <td>X</td>\n",
       "      <td>starch</td>\n",
       "    </tr>\n",
       "  </tbody>\n",
       "</table>\n",
       "</div>"
      ],
      "text/plain": [
       "                  cgc_id                                       sig_gene_seq  \\\n",
       "0  MGYG000000001_14|CGC1  CBM34|GH77|GH13|GH13_39,GT35,GT5,null,null,GH1...   \n",
       "1   MGYG000000002_3|CGC1  9.A.11.1.1,9.A.11.1.1,null,9.A.11.1.1,Aminotra...   \n",
       "2   MGYG000000003_2|CGC3  1.B.14.6.1,GH130,2.A.21.3.19,HTH_AraC+HTH_AraC...   \n",
       "3  MGYG000000003_2|CGC11  PL12|PL12_2,PL12|PL12_2,PL13,null,1.B.14.6.1,n...   \n",
       "4   MGYG000000007_1|CGC1  GH13_31|GH13,GH13|CBM34|GH13_20,3.A.1.1.20,3.A...   \n",
       "\n",
       "  PULid high_level_substr  \n",
       "0     X      alpha-glucan  \n",
       "1     X            starch  \n",
       "2     X       beta-mannan  \n",
       "3     X       host glycan  \n",
       "4     X            starch  "
      ]
     },
     "execution_count": 257,
     "metadata": {},
     "output_type": "execute_result"
    }
   ],
   "source": [
    "jf_uhgg.head()"
   ]
  },
  {
   "cell_type": "code",
   "execution_count": 258,
   "id": "dd6cc26c",
   "metadata": {},
   "outputs": [],
   "source": [
    "jf_uhgg = jf_uhgg.drop_duplicates(\"cgc_id\")"
   ]
  },
  {
   "cell_type": "code",
   "execution_count": 259,
   "id": "ce507303",
   "metadata": {},
   "outputs": [
    {
     "data": {
      "text/plain": [
       "(27195, 4)"
      ]
     },
     "execution_count": 259,
     "metadata": {},
     "output_type": "execute_result"
    }
   ],
   "source": [
    "jf_uhgg.shape"
   ]
  },
  {
   "cell_type": "code",
   "execution_count": 260,
   "id": "548ae1ba",
   "metadata": {},
   "outputs": [
    {
     "data": {
      "text/plain": [
       "27195"
      ]
     },
     "execution_count": 260,
     "metadata": {},
     "output_type": "execute_result"
    }
   ],
   "source": [
    "jf_uhgg[\"cgc_id\"].nunique()"
   ]
  },
  {
   "cell_type": "code",
   "execution_count": 261,
   "id": "d7a76602",
   "metadata": {},
   "outputs": [],
   "source": [
    "jf_uhgg.columns = [\"cgc_id\", \"sig_gene_seq\", \"PULid\", \"JF_high_level_substr\"]"
   ]
  },
  {
   "cell_type": "code",
   "execution_count": 262,
   "id": "5007ecfc",
   "metadata": {},
   "outputs": [],
   "source": [
    "## read subfinder output\n",
    "subfinder_uhgg = pd.read_csv(r\"Data/Output/Predictions/Predictions_UHGG_with_probability_and_p_values_Blast_Style_new_sup_new_unsup.csv\")"
   ]
  },
  {
   "cell_type": "code",
   "execution_count": 263,
   "id": "0769fd84",
   "metadata": {},
   "outputs": [
    {
     "data": {
      "text/plain": [
       "(412027, 4)"
      ]
     },
     "execution_count": 263,
     "metadata": {},
     "output_type": "execute_result"
    }
   ],
   "source": [
    "subfinder_uhgg.shape"
   ]
  },
  {
   "cell_type": "code",
   "execution_count": 264,
   "id": "026f17ad",
   "metadata": {},
   "outputs": [
    {
     "data": {
      "text/plain": [
       "58861"
      ]
     },
     "execution_count": 264,
     "metadata": {},
     "output_type": "execute_result"
    }
   ],
   "source": [
    "subfinder_uhgg[\"sequence\"].nunique()"
   ]
  },
  {
   "cell_type": "code",
   "execution_count": 265,
   "id": "00fea272",
   "metadata": {},
   "outputs": [
    {
     "data": {
      "text/html": [
       "<div>\n",
       "<style scoped>\n",
       "    .dataframe tbody tr th:only-of-type {\n",
       "        vertical-align: middle;\n",
       "    }\n",
       "\n",
       "    .dataframe tbody tr th {\n",
       "        vertical-align: top;\n",
       "    }\n",
       "\n",
       "    .dataframe thead th {\n",
       "        text-align: right;\n",
       "    }\n",
       "</style>\n",
       "<table border=\"1\" class=\"dataframe\">\n",
       "  <thead>\n",
       "    <tr style=\"text-align: right;\">\n",
       "      <th></th>\n",
       "      <th>sequence</th>\n",
       "      <th>substrate</th>\n",
       "      <th>probability_score</th>\n",
       "      <th>p_value</th>\n",
       "    </tr>\n",
       "  </thead>\n",
       "  <tbody>\n",
       "    <tr>\n",
       "      <th>0</th>\n",
       "      <td>1.A.1,2.A.9,null,9.B.168,1.A.62,GT51,9.B.186</td>\n",
       "      <td>alginate</td>\n",
       "      <td>0.200667</td>\n",
       "      <td>0.999969</td>\n",
       "    </tr>\n",
       "    <tr>\n",
       "      <th>1</th>\n",
       "      <td>1.A.1,2.A.9,null,9.B.168,1.A.62,GT51,9.B.186</td>\n",
       "      <td>beta-glucan</td>\n",
       "      <td>0.352000</td>\n",
       "      <td>0.999969</td>\n",
       "    </tr>\n",
       "    <tr>\n",
       "      <th>2</th>\n",
       "      <td>1.A.1,2.A.9,null,9.B.168,1.A.62,GT51,9.B.186</td>\n",
       "      <td>cellulose</td>\n",
       "      <td>0.297333</td>\n",
       "      <td>0.999969</td>\n",
       "    </tr>\n",
       "    <tr>\n",
       "      <th>3</th>\n",
       "      <td>1.A.1,2.A.9,null,9.B.168,1.A.62,GT51,9.B.186</td>\n",
       "      <td>host glycan</td>\n",
       "      <td>0.417333</td>\n",
       "      <td>0.999969</td>\n",
       "    </tr>\n",
       "    <tr>\n",
       "      <th>4</th>\n",
       "      <td>1.A.1,2.A.9,null,9.B.168,1.A.62,GT51,9.B.186</td>\n",
       "      <td>pectin</td>\n",
       "      <td>0.369333</td>\n",
       "      <td>0.999969</td>\n",
       "    </tr>\n",
       "  </tbody>\n",
       "</table>\n",
       "</div>"
      ],
      "text/plain": [
       "                                       sequence    substrate  \\\n",
       "0  1.A.1,2.A.9,null,9.B.168,1.A.62,GT51,9.B.186     alginate   \n",
       "1  1.A.1,2.A.9,null,9.B.168,1.A.62,GT51,9.B.186  beta-glucan   \n",
       "2  1.A.1,2.A.9,null,9.B.168,1.A.62,GT51,9.B.186    cellulose   \n",
       "3  1.A.1,2.A.9,null,9.B.168,1.A.62,GT51,9.B.186  host glycan   \n",
       "4  1.A.1,2.A.9,null,9.B.168,1.A.62,GT51,9.B.186       pectin   \n",
       "\n",
       "   probability_score   p_value  \n",
       "0           0.200667  0.999969  \n",
       "1           0.352000  0.999969  \n",
       "2           0.297333  0.999969  \n",
       "3           0.417333  0.999969  \n",
       "4           0.369333  0.999969  "
      ]
     },
     "execution_count": 265,
     "metadata": {},
     "output_type": "execute_result"
    }
   ],
   "source": [
    "subfinder_uhgg.head()"
   ]
  },
  {
   "cell_type": "code",
   "execution_count": 266,
   "id": "7a968047",
   "metadata": {},
   "outputs": [],
   "source": [
    "subfinder_uhgg.columns = [\"sequence\", \"subFinder_high_level_substr\", \"probability_score\", \"p_value\"]"
   ]
  },
  {
   "cell_type": "code",
   "execution_count": 267,
   "id": "b859b868",
   "metadata": {},
   "outputs": [
    {
     "data": {
      "text/plain": [
       "58861"
      ]
     },
     "execution_count": 267,
     "metadata": {},
     "output_type": "execute_result"
    }
   ],
   "source": [
    "len(subfinder_uhgg.groupby('sequence')['probability_score'].idxmax().values)"
   ]
  },
  {
   "cell_type": "code",
   "execution_count": 268,
   "id": "ec033834",
   "metadata": {},
   "outputs": [],
   "source": [
    "subfinder_uhgg_preds = subfinder_uhgg.iloc[subfinder_uhgg.groupby('sequence')['probability_score'].idxmax().values,:]"
   ]
  },
  {
   "cell_type": "code",
   "execution_count": 269,
   "id": "09cdf2a5",
   "metadata": {},
   "outputs": [],
   "source": [
    "subfinder_uhgg_preds = subfinder_uhgg_preds.reset_index(drop = True)"
   ]
  },
  {
   "cell_type": "code",
   "execution_count": 270,
   "id": "6cbfed87",
   "metadata": {},
   "outputs": [
    {
     "data": {
      "text/html": [
       "<div>\n",
       "<style scoped>\n",
       "    .dataframe tbody tr th:only-of-type {\n",
       "        vertical-align: middle;\n",
       "    }\n",
       "\n",
       "    .dataframe tbody tr th {\n",
       "        vertical-align: top;\n",
       "    }\n",
       "\n",
       "    .dataframe thead th {\n",
       "        text-align: right;\n",
       "    }\n",
       "</style>\n",
       "<table border=\"1\" class=\"dataframe\">\n",
       "  <thead>\n",
       "    <tr style=\"text-align: right;\">\n",
       "      <th></th>\n",
       "      <th>sequence</th>\n",
       "      <th>subFinder_high_level_substr</th>\n",
       "      <th>probability_score</th>\n",
       "      <th>p_value</th>\n",
       "    </tr>\n",
       "  </thead>\n",
       "  <tbody>\n",
       "    <tr>\n",
       "      <th>0</th>\n",
       "      <td>1.A.1,2.A.9,null,9.B.168,1.A.62,GT51,9.B.186</td>\n",
       "      <td>host glycan</td>\n",
       "      <td>0.417333</td>\n",
       "      <td>0.999969</td>\n",
       "    </tr>\n",
       "    <tr>\n",
       "      <th>1</th>\n",
       "      <td>1.A.1,2.A.9,null,null,9.B.168,1.A.62,GT51,9.B.186</td>\n",
       "      <td>host glycan</td>\n",
       "      <td>0.425333</td>\n",
       "      <td>0.999969</td>\n",
       "    </tr>\n",
       "    <tr>\n",
       "      <th>2</th>\n",
       "      <td>1.A.1,9.B.10,null,null,AA10</td>\n",
       "      <td>beta-glucan</td>\n",
       "      <td>0.480667</td>\n",
       "      <td>0.849121</td>\n",
       "    </tr>\n",
       "    <tr>\n",
       "      <th>3</th>\n",
       "      <td>1.A.1,9.B.143,GH13_20</td>\n",
       "      <td>starch</td>\n",
       "      <td>0.439333</td>\n",
       "      <td>0.996307</td>\n",
       "    </tr>\n",
       "    <tr>\n",
       "      <th>4</th>\n",
       "      <td>1.A.1,9.B.23,null,9.A.40,GH12</td>\n",
       "      <td>starch</td>\n",
       "      <td>0.309333</td>\n",
       "      <td>0.999969</td>\n",
       "    </tr>\n",
       "  </tbody>\n",
       "</table>\n",
       "</div>"
      ],
      "text/plain": [
       "                                            sequence  \\\n",
       "0       1.A.1,2.A.9,null,9.B.168,1.A.62,GT51,9.B.186   \n",
       "1  1.A.1,2.A.9,null,null,9.B.168,1.A.62,GT51,9.B.186   \n",
       "2                        1.A.1,9.B.10,null,null,AA10   \n",
       "3                              1.A.1,9.B.143,GH13_20   \n",
       "4                      1.A.1,9.B.23,null,9.A.40,GH12   \n",
       "\n",
       "  subFinder_high_level_substr  probability_score   p_value  \n",
       "0                 host glycan           0.417333  0.999969  \n",
       "1                 host glycan           0.425333  0.999969  \n",
       "2                 beta-glucan           0.480667  0.849121  \n",
       "3                      starch           0.439333  0.996307  \n",
       "4                      starch           0.309333  0.999969  "
      ]
     },
     "execution_count": 270,
     "metadata": {},
     "output_type": "execute_result"
    }
   ],
   "source": [
    "subfinder_uhgg_preds.head()"
   ]
  },
  {
   "cell_type": "code",
   "execution_count": 271,
   "id": "e77aa9d9",
   "metadata": {},
   "outputs": [],
   "source": [
    "to_keep = subfinder_uhgg_preds[\"subFinder_high_level_substr\"].unique()"
   ]
  },
  {
   "cell_type": "code",
   "execution_count": 272,
   "id": "30678fdd",
   "metadata": {},
   "outputs": [],
   "source": [
    "uhgg_data = pd.read_csv(r\"Data/Output/Unsupervised_10_12/output_UHGG.csv\")"
   ]
  },
  {
   "cell_type": "code",
   "execution_count": 273,
   "id": "d7153699",
   "metadata": {},
   "outputs": [],
   "source": [
    "uhgg_data = uhgg_data.drop_duplicates(\"sequence\")"
   ]
  },
  {
   "cell_type": "code",
   "execution_count": 274,
   "id": "043bbd1f",
   "metadata": {},
   "outputs": [],
   "source": [
    "subfinder_uhgg_preds = subfinder_uhgg_preds.merge(uhgg_data, how = \"left\", on = \"sequence\")"
   ]
  },
  {
   "cell_type": "code",
   "execution_count": 275,
   "id": "c3f885d7",
   "metadata": {},
   "outputs": [
    {
     "data": {
      "text/plain": [
       "(58861, 5)"
      ]
     },
     "execution_count": 275,
     "metadata": {},
     "output_type": "execute_result"
    }
   ],
   "source": [
    "subfinder_uhgg_preds.shape"
   ]
  },
  {
   "cell_type": "code",
   "execution_count": 276,
   "id": "4a1d50c6",
   "metadata": {},
   "outputs": [
    {
     "data": {
      "text/html": [
       "<div>\n",
       "<style scoped>\n",
       "    .dataframe tbody tr th:only-of-type {\n",
       "        vertical-align: middle;\n",
       "    }\n",
       "\n",
       "    .dataframe tbody tr th {\n",
       "        vertical-align: top;\n",
       "    }\n",
       "\n",
       "    .dataframe thead th {\n",
       "        text-align: right;\n",
       "    }\n",
       "</style>\n",
       "<table border=\"1\" class=\"dataframe\">\n",
       "  <thead>\n",
       "    <tr style=\"text-align: right;\">\n",
       "      <th></th>\n",
       "      <th>sequence</th>\n",
       "      <th>subFinder_high_level_substr</th>\n",
       "      <th>probability_score</th>\n",
       "      <th>p_value</th>\n",
       "      <th>cgc_id</th>\n",
       "    </tr>\n",
       "  </thead>\n",
       "  <tbody>\n",
       "    <tr>\n",
       "      <th>0</th>\n",
       "      <td>1.A.1,2.A.9,null,9.B.168,1.A.62,GT51,9.B.186</td>\n",
       "      <td>host glycan</td>\n",
       "      <td>0.417333</td>\n",
       "      <td>0.999969</td>\n",
       "      <td>MGYG000001364_9|CGC5</td>\n",
       "    </tr>\n",
       "    <tr>\n",
       "      <th>1</th>\n",
       "      <td>1.A.1,2.A.9,null,null,9.B.168,1.A.62,GT51,9.B.186</td>\n",
       "      <td>host glycan</td>\n",
       "      <td>0.425333</td>\n",
       "      <td>0.999969</td>\n",
       "      <td>MGYG000003693_29|CGC2</td>\n",
       "    </tr>\n",
       "    <tr>\n",
       "      <th>2</th>\n",
       "      <td>1.A.1,9.B.10,null,null,AA10</td>\n",
       "      <td>beta-glucan</td>\n",
       "      <td>0.480667</td>\n",
       "      <td>0.849121</td>\n",
       "      <td>MGYG000001436_2|CGC28</td>\n",
       "    </tr>\n",
       "    <tr>\n",
       "      <th>3</th>\n",
       "      <td>1.A.1,9.B.143,GH13_20</td>\n",
       "      <td>starch</td>\n",
       "      <td>0.439333</td>\n",
       "      <td>0.996307</td>\n",
       "      <td>MGYG000000173_1|CGC1</td>\n",
       "    </tr>\n",
       "    <tr>\n",
       "      <th>4</th>\n",
       "      <td>1.A.1,9.B.23,null,9.A.40,GH12</td>\n",
       "      <td>starch</td>\n",
       "      <td>0.309333</td>\n",
       "      <td>0.999969</td>\n",
       "      <td>MGYG000000227_6|CGC6</td>\n",
       "    </tr>\n",
       "  </tbody>\n",
       "</table>\n",
       "</div>"
      ],
      "text/plain": [
       "                                            sequence  \\\n",
       "0       1.A.1,2.A.9,null,9.B.168,1.A.62,GT51,9.B.186   \n",
       "1  1.A.1,2.A.9,null,null,9.B.168,1.A.62,GT51,9.B.186   \n",
       "2                        1.A.1,9.B.10,null,null,AA10   \n",
       "3                              1.A.1,9.B.143,GH13_20   \n",
       "4                      1.A.1,9.B.23,null,9.A.40,GH12   \n",
       "\n",
       "  subFinder_high_level_substr  probability_score   p_value  \\\n",
       "0                 host glycan           0.417333  0.999969   \n",
       "1                 host glycan           0.425333  0.999969   \n",
       "2                 beta-glucan           0.480667  0.849121   \n",
       "3                      starch           0.439333  0.996307   \n",
       "4                      starch           0.309333  0.999969   \n",
       "\n",
       "                  cgc_id  \n",
       "0   MGYG000001364_9|CGC5  \n",
       "1  MGYG000003693_29|CGC2  \n",
       "2  MGYG000001436_2|CGC28  \n",
       "3   MGYG000000173_1|CGC1  \n",
       "4   MGYG000000227_6|CGC6  "
      ]
     },
     "execution_count": 276,
     "metadata": {},
     "output_type": "execute_result"
    }
   ],
   "source": [
    "subfinder_uhgg_preds.head()"
   ]
  },
  {
   "cell_type": "code",
   "execution_count": 277,
   "id": "b04272d4",
   "metadata": {},
   "outputs": [],
   "source": [
    "jf_uhgg_to_kepp = jf_uhgg[jf_uhgg[\"JF_high_level_substr\"].isin(to_keep)]"
   ]
  },
  {
   "cell_type": "code",
   "execution_count": 278,
   "id": "55e4f85a",
   "metadata": {},
   "outputs": [],
   "source": [
    "overlapped = subfinder_uhgg_preds.merge(jf_uhgg_to_kepp[[\"cgc_id\", \"JF_high_level_substr\"]], how = \"inner\", on = [\"cgc_id\"])"
   ]
  },
  {
   "cell_type": "code",
   "execution_count": 279,
   "id": "81f15a51",
   "metadata": {},
   "outputs": [
    {
     "data": {
      "text/html": [
       "<div>\n",
       "<style scoped>\n",
       "    .dataframe tbody tr th:only-of-type {\n",
       "        vertical-align: middle;\n",
       "    }\n",
       "\n",
       "    .dataframe tbody tr th {\n",
       "        vertical-align: top;\n",
       "    }\n",
       "\n",
       "    .dataframe thead th {\n",
       "        text-align: right;\n",
       "    }\n",
       "</style>\n",
       "<table border=\"1\" class=\"dataframe\">\n",
       "  <thead>\n",
       "    <tr style=\"text-align: right;\">\n",
       "      <th></th>\n",
       "      <th>sequence</th>\n",
       "      <th>subFinder_high_level_substr</th>\n",
       "      <th>probability_score</th>\n",
       "      <th>p_value</th>\n",
       "      <th>cgc_id</th>\n",
       "      <th>JF_high_level_substr</th>\n",
       "    </tr>\n",
       "  </thead>\n",
       "  <tbody>\n",
       "    <tr>\n",
       "      <th>0</th>\n",
       "      <td>1.A.1,GH13_31,HTH_AraC,8.A.59,SBP_bac_1,3.A.1,...</td>\n",
       "      <td>starch</td>\n",
       "      <td>0.697333</td>\n",
       "      <td>0.000000</td>\n",
       "      <td>MGYG000000735_30|CGC1</td>\n",
       "      <td>starch</td>\n",
       "    </tr>\n",
       "    <tr>\n",
       "      <th>1</th>\n",
       "      <td>1.A.11,3.A.1,3.A.1,3.A.1,GH77,LacI,9.B.28</td>\n",
       "      <td>starch</td>\n",
       "      <td>0.593333</td>\n",
       "      <td>0.000000</td>\n",
       "      <td>MGYG000000204_6|CGC5</td>\n",
       "      <td>starch</td>\n",
       "    </tr>\n",
       "    <tr>\n",
       "      <th>2</th>\n",
       "      <td>1.A.11,CbiA,null,3.A.1,3.A.1,3.A.1,GH105</td>\n",
       "      <td>beta-glucan</td>\n",
       "      <td>0.460000</td>\n",
       "      <td>0.982422</td>\n",
       "      <td>MGYG000003005_11|CGC1</td>\n",
       "      <td>pectin</td>\n",
       "    </tr>\n",
       "    <tr>\n",
       "      <th>3</th>\n",
       "      <td>1.A.11,null,3.A.1,3.A.1,3.A.1,GH13_36</td>\n",
       "      <td>starch</td>\n",
       "      <td>0.660000</td>\n",
       "      <td>0.000000</td>\n",
       "      <td>MGYG000002263_13|CGC1</td>\n",
       "      <td>starch</td>\n",
       "    </tr>\n",
       "    <tr>\n",
       "      <th>4</th>\n",
       "      <td>1.A.13,1.B.14,null,GH97,null,Sigma70_r2|Sigma7...</td>\n",
       "      <td>host glycan</td>\n",
       "      <td>0.594000</td>\n",
       "      <td>0.000000</td>\n",
       "      <td>MGYG000000265_5|CGC1</td>\n",
       "      <td>xylan</td>\n",
       "    </tr>\n",
       "  </tbody>\n",
       "</table>\n",
       "</div>"
      ],
      "text/plain": [
       "                                            sequence  \\\n",
       "0  1.A.1,GH13_31,HTH_AraC,8.A.59,SBP_bac_1,3.A.1,...   \n",
       "1          1.A.11,3.A.1,3.A.1,3.A.1,GH77,LacI,9.B.28   \n",
       "2           1.A.11,CbiA,null,3.A.1,3.A.1,3.A.1,GH105   \n",
       "3              1.A.11,null,3.A.1,3.A.1,3.A.1,GH13_36   \n",
       "4  1.A.13,1.B.14,null,GH97,null,Sigma70_r2|Sigma7...   \n",
       "\n",
       "  subFinder_high_level_substr  probability_score   p_value  \\\n",
       "0                      starch           0.697333  0.000000   \n",
       "1                      starch           0.593333  0.000000   \n",
       "2                 beta-glucan           0.460000  0.982422   \n",
       "3                      starch           0.660000  0.000000   \n",
       "4                 host glycan           0.594000  0.000000   \n",
       "\n",
       "                  cgc_id JF_high_level_substr  \n",
       "0  MGYG000000735_30|CGC1               starch  \n",
       "1   MGYG000000204_6|CGC5               starch  \n",
       "2  MGYG000003005_11|CGC1               pectin  \n",
       "3  MGYG000002263_13|CGC1               starch  \n",
       "4   MGYG000000265_5|CGC1                xylan  "
      ]
     },
     "execution_count": 279,
     "metadata": {},
     "output_type": "execute_result"
    }
   ],
   "source": [
    "overlapped.head()"
   ]
  },
  {
   "cell_type": "code",
   "execution_count": 280,
   "id": "0ed2669e",
   "metadata": {},
   "outputs": [
    {
     "data": {
      "text/plain": [
       "(7694, 6)"
      ]
     },
     "execution_count": 280,
     "metadata": {},
     "output_type": "execute_result"
    }
   ],
   "source": [
    "overlapped.shape"
   ]
  },
  {
   "cell_type": "code",
   "execution_count": 281,
   "id": "6260db14",
   "metadata": {},
   "outputs": [],
   "source": [
    "match = overlapped[overlapped[\"subFinder_high_level_substr\"] == overlapped[\"JF_high_level_substr\"]]"
   ]
  },
  {
   "cell_type": "code",
   "execution_count": 282,
   "id": "6c5720f4",
   "metadata": {},
   "outputs": [],
   "source": [
    "match = match[[\"cgc_id\", \"sequence\", \"subFinder_high_level_substr\", \"JF_high_level_substr\", \"probability_score\", \"p_value\"]]"
   ]
  },
  {
   "cell_type": "code",
   "execution_count": 283,
   "id": "ebfe27af",
   "metadata": {},
   "outputs": [],
   "source": [
    "match.to_csv(r\"Data\\Output\\Predictions\\UHGG_match_with_JF.csv\", index = False)"
   ]
  },
  {
   "cell_type": "code",
   "execution_count": 284,
   "id": "05cc22d0",
   "metadata": {},
   "outputs": [
    {
     "data": {
      "text/plain": [
       "(5297, 6)"
      ]
     },
     "execution_count": 284,
     "metadata": {},
     "output_type": "execute_result"
    }
   ],
   "source": [
    "match.shape"
   ]
  },
  {
   "cell_type": "code",
   "execution_count": 294,
   "id": "58b674e9",
   "metadata": {},
   "outputs": [
    {
     "data": {
      "text/plain": [
       "starch         1846\n",
       "pectin         1042\n",
       "host glycan     948\n",
       "beta-glucan     737\n",
       "xylan           638\n",
       "cellulose        62\n",
       "alginate         24\n",
       "Name: subFinder_high_level_substr, dtype: int64"
      ]
     },
     "execution_count": 294,
     "metadata": {},
     "output_type": "execute_result"
    }
   ],
   "source": [
    "match[\"subFinder_high_level_substr\"].value_counts()"
   ]
  },
  {
   "cell_type": "code",
   "execution_count": 285,
   "id": "8f8c425a",
   "metadata": {},
   "outputs": [
    {
     "data": {
      "text/plain": [
       "0.6884585391213933"
      ]
     },
     "execution_count": 285,
     "metadata": {},
     "output_type": "execute_result"
    }
   ],
   "source": [
    "np.mean(overlapped[\"subFinder_high_level_substr\"] == overlapped[\"JF_high_level_substr\"])"
   ]
  },
  {
   "cell_type": "code",
   "execution_count": 286,
   "id": "9bb67f56",
   "metadata": {},
   "outputs": [
    {
     "data": {
      "image/png": "[encoded data removed]",
      "text/plain": [
       "<Figure size 432x288 with 1 Axes>"
      ]
     },
     "metadata": {
      "needs_background": "light"
     },
     "output_type": "display_data"
    }
   ],
   "source": [
    "plt.hist(overlapped[\"p_value\"])\n",
    "plt.show()"
   ]
  },
  {
   "cell_type": "code",
   "execution_count": 287,
   "id": "73ba85b8",
   "metadata": {},
   "outputs": [],
   "source": [
    "thresholded = subfinder_uhgg_preds[subfinder_uhgg_preds[\"p_value\"] <= 0.1]"
   ]
  },
  {
   "cell_type": "code",
   "execution_count": 288,
   "id": "3763fe4d",
   "metadata": {},
   "outputs": [],
   "source": [
    "thresholded_overlapped = thresholded.merge(jf_uhgg_to_kepp[[\"cgc_id\", \"JF_high_level_substr\"]], how = \"inner\", on = [\"cgc_id\"])"
   ]
  },
  {
   "cell_type": "code",
   "execution_count": 289,
   "id": "083f721e",
   "metadata": {},
   "outputs": [
    {
     "data": {
      "text/plain": [
       "(6007, 6)"
      ]
     },
     "execution_count": 289,
     "metadata": {},
     "output_type": "execute_result"
    }
   ],
   "source": [
    "thresholded_overlapped.shape"
   ]
  },
  {
   "cell_type": "code",
   "execution_count": 290,
   "id": "4a65e410",
   "metadata": {},
   "outputs": [
    {
     "data": {
      "text/html": [
       "<div>\n",
       "<style scoped>\n",
       "    .dataframe tbody tr th:only-of-type {\n",
       "        vertical-align: middle;\n",
       "    }\n",
       "\n",
       "    .dataframe tbody tr th {\n",
       "        vertical-align: top;\n",
       "    }\n",
       "\n",
       "    .dataframe thead th {\n",
       "        text-align: right;\n",
       "    }\n",
       "</style>\n",
       "<table border=\"1\" class=\"dataframe\">\n",
       "  <thead>\n",
       "    <tr style=\"text-align: right;\">\n",
       "      <th></th>\n",
       "      <th>sequence</th>\n",
       "      <th>subFinder_high_level_substr</th>\n",
       "      <th>probability_score</th>\n",
       "      <th>p_value</th>\n",
       "      <th>cgc_id</th>\n",
       "      <th>JF_high_level_substr</th>\n",
       "    </tr>\n",
       "  </thead>\n",
       "  <tbody>\n",
       "    <tr>\n",
       "      <th>0</th>\n",
       "      <td>1.A.1,GH13_31,HTH_AraC,8.A.59,SBP_bac_1,3.A.1,...</td>\n",
       "      <td>starch</td>\n",
       "      <td>0.697333</td>\n",
       "      <td>0.000000</td>\n",
       "      <td>MGYG000000735_30|CGC1</td>\n",
       "      <td>starch</td>\n",
       "    </tr>\n",
       "    <tr>\n",
       "      <th>1</th>\n",
       "      <td>1.A.11,3.A.1,3.A.1,3.A.1,GH77,LacI,9.B.28</td>\n",
       "      <td>starch</td>\n",
       "      <td>0.593333</td>\n",
       "      <td>0.000000</td>\n",
       "      <td>MGYG000000204_6|CGC5</td>\n",
       "      <td>starch</td>\n",
       "    </tr>\n",
       "    <tr>\n",
       "      <th>2</th>\n",
       "      <td>1.A.11,null,3.A.1,3.A.1,3.A.1,GH13_36</td>\n",
       "      <td>starch</td>\n",
       "      <td>0.660000</td>\n",
       "      <td>0.000000</td>\n",
       "      <td>MGYG000002263_13|CGC1</td>\n",
       "      <td>starch</td>\n",
       "    </tr>\n",
       "    <tr>\n",
       "      <th>3</th>\n",
       "      <td>1.A.13,1.B.14,null,GH97,null,Sigma70_r2|Sigma7...</td>\n",
       "      <td>host glycan</td>\n",
       "      <td>0.594000</td>\n",
       "      <td>0.000000</td>\n",
       "      <td>MGYG000000265_5|CGC1</td>\n",
       "      <td>xylan</td>\n",
       "    </tr>\n",
       "    <tr>\n",
       "      <th>4</th>\n",
       "      <td>1.A.13,HTH_AraC|HTH_AraC,null,3.A.1,3.A.1,3.A....</td>\n",
       "      <td>pectin</td>\n",
       "      <td>0.716667</td>\n",
       "      <td>0.000000</td>\n",
       "      <td>MGYG000003381_58|CGC1</td>\n",
       "      <td>pectin</td>\n",
       "    </tr>\n",
       "    <tr>\n",
       "      <th>...</th>\n",
       "      <td>...</td>\n",
       "      <td>...</td>\n",
       "      <td>...</td>\n",
       "      <td>...</td>\n",
       "      <td>...</td>\n",
       "      <td>...</td>\n",
       "    </tr>\n",
       "    <tr>\n",
       "      <th>6002</th>\n",
       "      <td>PL8_3,GH105|PL33_2,GH89,GH95,GH88,GH154,null,n...</td>\n",
       "      <td>pectin</td>\n",
       "      <td>0.624000</td>\n",
       "      <td>0.000000</td>\n",
       "      <td>MGYG000000273_17|CGC2</td>\n",
       "      <td>host glycan</td>\n",
       "    </tr>\n",
       "    <tr>\n",
       "      <th>6003</th>\n",
       "      <td>PL8_3|CBM67|GH78,GH28,GH88,GH2,PL8_3,8.A.46,1....</td>\n",
       "      <td>pectin</td>\n",
       "      <td>0.574667</td>\n",
       "      <td>0.000488</td>\n",
       "      <td>MGYG000004899_32|CGC1</td>\n",
       "      <td>pectin</td>\n",
       "    </tr>\n",
       "    <tr>\n",
       "      <th>6004</th>\n",
       "      <td>PL8|CBM32|CBM32,4.A.6,4.A.6,4.A.6</td>\n",
       "      <td>host glycan</td>\n",
       "      <td>0.737333</td>\n",
       "      <td>0.000000</td>\n",
       "      <td>MGYG000000192_10|CGC2</td>\n",
       "      <td>host glycan</td>\n",
       "    </tr>\n",
       "    <tr>\n",
       "      <th>6005</th>\n",
       "      <td>PL9_1,GH133,null,3.A.1,3.A.1,HTH_AraC|HTH_AraC...</td>\n",
       "      <td>xylan</td>\n",
       "      <td>0.584667</td>\n",
       "      <td>0.000488</td>\n",
       "      <td>MGYG000003512_69|CGC1</td>\n",
       "      <td>pectin</td>\n",
       "    </tr>\n",
       "    <tr>\n",
       "      <th>6006</th>\n",
       "      <td>PL9_1,GH28,PL11_1,HTH_AraC,GH2,null,1.B.14</td>\n",
       "      <td>pectin</td>\n",
       "      <td>0.790000</td>\n",
       "      <td>0.000000</td>\n",
       "      <td>MGYG000000029_3|CGC3</td>\n",
       "      <td>pectin</td>\n",
       "    </tr>\n",
       "  </tbody>\n",
       "</table>\n",
       "<p>6007 rows × 6 columns</p>\n",
       "</div>"
      ],
      "text/plain": [
       "                                               sequence  \\\n",
       "0     1.A.1,GH13_31,HTH_AraC,8.A.59,SBP_bac_1,3.A.1,...   \n",
       "1             1.A.11,3.A.1,3.A.1,3.A.1,GH77,LacI,9.B.28   \n",
       "2                 1.A.11,null,3.A.1,3.A.1,3.A.1,GH13_36   \n",
       "3     1.A.13,1.B.14,null,GH97,null,Sigma70_r2|Sigma7...   \n",
       "4     1.A.13,HTH_AraC|HTH_AraC,null,3.A.1,3.A.1,3.A....   \n",
       "...                                                 ...   \n",
       "6002  PL8_3,GH105|PL33_2,GH89,GH95,GH88,GH154,null,n...   \n",
       "6003  PL8_3|CBM67|GH78,GH28,GH88,GH2,PL8_3,8.A.46,1....   \n",
       "6004                  PL8|CBM32|CBM32,4.A.6,4.A.6,4.A.6   \n",
       "6005  PL9_1,GH133,null,3.A.1,3.A.1,HTH_AraC|HTH_AraC...   \n",
       "6006         PL9_1,GH28,PL11_1,HTH_AraC,GH2,null,1.B.14   \n",
       "\n",
       "     subFinder_high_level_substr  probability_score   p_value  \\\n",
       "0                         starch           0.697333  0.000000   \n",
       "1                         starch           0.593333  0.000000   \n",
       "2                         starch           0.660000  0.000000   \n",
       "3                    host glycan           0.594000  0.000000   \n",
       "4                         pectin           0.716667  0.000000   \n",
       "...                          ...                ...       ...   \n",
       "6002                      pectin           0.624000  0.000000   \n",
       "6003                      pectin           0.574667  0.000488   \n",
       "6004                 host glycan           0.737333  0.000000   \n",
       "6005                       xylan           0.584667  0.000488   \n",
       "6006                      pectin           0.790000  0.000000   \n",
       "\n",
       "                     cgc_id JF_high_level_substr  \n",
       "0     MGYG000000735_30|CGC1               starch  \n",
       "1      MGYG000000204_6|CGC5               starch  \n",
       "2     MGYG000002263_13|CGC1               starch  \n",
       "3      MGYG000000265_5|CGC1                xylan  \n",
       "4     MGYG000003381_58|CGC1               pectin  \n",
       "...                     ...                  ...  \n",
       "6002  MGYG000000273_17|CGC2          host glycan  \n",
       "6003  MGYG000004899_32|CGC1               pectin  \n",
       "6004  MGYG000000192_10|CGC2          host glycan  \n",
       "6005  MGYG000003512_69|CGC1               pectin  \n",
       "6006   MGYG000000029_3|CGC3               pectin  \n",
       "\n",
       "[6007 rows x 6 columns]"
      ]
     },
     "execution_count": 290,
     "metadata": {},
     "output_type": "execute_result"
    }
   ],
   "source": [
    "thresholded_overlapped"
   ]
  },
  {
   "cell_type": "code",
   "execution_count": 291,
   "id": "588737f4",
   "metadata": {},
   "outputs": [
    {
     "data": {
      "text/plain": [
       "0.7284834359913435"
      ]
     },
     "execution_count": 291,
     "metadata": {},
     "output_type": "execute_result"
    }
   ],
   "source": [
    "np.mean(thresholded_overlapped[\"subFinder_high_level_substr\"] == thresholded_overlapped[\"JF_high_level_substr\"])"
   ]
  },
  {
   "cell_type": "code",
   "execution_count": 292,
   "id": "91b01089",
   "metadata": {},
   "outputs": [
    {
     "data": {
      "text/plain": [
       "(6007, 6)"
      ]
     },
     "execution_count": 292,
     "metadata": {},
     "output_type": "execute_result"
    }
   ],
   "source": [
    "thresholded_overlapped.shape"
   ]
  }
 ],
 "metadata": {
  "kernelspec": {
   "display_name": "newone1",
   "language": "python",
   "name": "newone1"
  },
  "language_info": {
   "codemirror_mode": {
    "name": "ipython",
    "version": 3
   },
   "file_extension": ".py",
   "mimetype": "text/x-python",
   "name": "python",
   "nbconvert_exporter": "python",
   "pygments_lexer": "ipython3",
   "version": "3.9.12"
  }
 },
 "nbformat": 4,
 "nbformat_minor": 5
}
