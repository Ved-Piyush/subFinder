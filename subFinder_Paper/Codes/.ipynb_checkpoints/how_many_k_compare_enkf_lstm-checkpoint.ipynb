{
 "cells": [
  {
   "cell_type": "code",
   "execution_count": 1,
   "id": "23659b5e",
   "metadata": {},
   "outputs": [],
   "source": [
    "import os"
   ]
  },
  {
   "cell_type": "code",
   "execution_count": 2,
   "id": "5226ae22",
   "metadata": {},
   "outputs": [],
   "source": [
    "os.chdir(r'D:\\subFinder')"
   ]
  },
  {
   "cell_type": "code",
   "execution_count": 3,
   "id": "d7aa97e5",
   "metadata": {},
   "outputs": [],
   "source": [
    "## In this script we will train supervised models\n",
    "# library imports\n",
    "import pandas as pd\n",
    "import gensim\n",
    "from Codes.Supervised_Trainer import run_end_to_end\n",
    "from sklearn.model_selection import StratifiedKFold\n",
    "from tqdm.notebook import tqdm\n",
    "from imblearn.ensemble import BalancedRandomForestClassifier\n",
    "from sklearn.metrics import confusion_matrix, accuracy_score\n",
    "from sklearn.metrics import classification_report\n",
    "import numpy as np\n",
    "from sklearn.pipeline import Pipeline\n",
    "from sklearn.feature_extraction.text import CountVectorizer\n",
    "from sklearn.model_selection import GridSearchCV\n",
    "import pandas as pd\n",
    "import matplotlib.pyplot as plt\n",
    "import seaborn as sns\n",
    "from sklearn.multiclass import OneVsRestClassifier\n",
    "import plotly.express as px"
   ]
  },
  {
   "cell_type": "code",
   "execution_count": 4,
   "id": "a1e84f28",
   "metadata": {},
   "outputs": [],
   "source": [
    "\n",
    "## read the data\n",
    "# sup_data_path = r\"Data/Supervised_Sequences/dbCAN-PUL_07-01-2022.xlsx\"\n",
    "# new_path = r\"D:\\subFinder\\Data\\Supervised_Sequences\\Table S1.xls\"\n",
    "# data = pd.read_excel(new_path)\n",
    "# data[\"updated_substrate (09/01/2022)\"] = data[\"updated_substrate (09/01/2022)\"].str.strip()\n",
    "# data[\"updated_substrate (09/01/2022)\"] = data[\"updated_substrate (09/01/2022)\"].str.strip()\n",
    "\n",
    "\n",
    "# ## removing the catch all classes\n",
    "# ## for example multiple substrates and others \n",
    "# old_data = pd.read_csv('Data/Supervised_Sequences/pul_seq_low_high_substr_year_corrected.tsv', sep = \"\\t\")\n",
    "\n",
    "# old_data[\"high_level_substr\"] = old_data[\"high_level_substr\"].str.strip()\n",
    "\n",
    "# bad_puls = old_data[old_data[\"high_level_substr\"].isin([\"multiple_substrates\", \"mono/di/trisaccharide\", \"-\", \"human milk oligosaccharide\", \n",
    "#                                             \"glycoprotein\", \"plant polysaccharide\", \"cellobiose\"])][\"PULid\"].values\n",
    "\n",
    "\n",
    "# data = data[~data[\"PUL ID\"].isin(bad_puls)]\n",
    "\n",
    "# data = data[[\"PUL ID\", \"updated_substrate (09/01/2022)\"]]\n",
    "# data = pd.merge(data, old_data[[\"PULid\",\"sig_gene_seq\"]], left_on = [\"PUL ID\"], right_on = [\"PULid\"], how = \"left\")\n",
    "# data.columns = [\"PUL ID\", \"high_level_substr\", \"PULid\", \"sig_gene_seq\"]\n",
    "\n",
    "# data = data[~data[\"PUL ID\"].isin(bad_puls)]\n"
   ]
  },
  {
   "cell_type": "code",
   "execution_count": 5,
   "id": "21b2f9ce",
   "metadata": {},
   "outputs": [],
   "source": [
    "## read the data\n",
    "# sup_data_path = r\"Data/Supervised_Sequences/dbCAN-PUL_07-01-2022.xlsx\"\n",
    "# new_sup_data_with_nulls = pd.read_csv(r\"D:\\subFinder\\Data\\Supervised_Sequences\\supervised_seq_with_null.tsv\", sep = \"\\t\", \n",
    "#                                       header = None)\n",
    "# new_sup_data_with_nulls.columns = [\"PUL ID\", \"sequence\"]"
   ]
  },
  {
   "cell_type": "code",
   "execution_count": 6,
   "id": "e908e9f2",
   "metadata": {},
   "outputs": [],
   "source": [
    "# data = pd.merge(data, new_sup_data_with_nulls, on = [\"PUL ID\"], how = \"left\")\n",
    "# data = data.drop([\"sig_gene_seq\"],1)\n",
    "# data.columns = ['PUL ID', 'high_level_substr', 'PULid', 'sig_gene_seq']"
   ]
  },
  {
   "cell_type": "code",
   "execution_count": 7,
   "id": "1ef9f663",
   "metadata": {},
   "outputs": [],
   "source": [
    "# data.to_csv(r\"Data/Supervised_Sequences/updated_data_filtered.csv\", index = False)"
   ]
  },
  {
   "cell_type": "code",
   "execution_count": 8,
   "id": "868e6c8f",
   "metadata": {},
   "outputs": [],
   "source": [
    "data = pd.read_csv(r\"D:\\subFinder\\Data\\Supervised_Sequences\\updated_data_filtered.csv\")"
   ]
  },
  {
   "cell_type": "code",
   "execution_count": 9,
   "id": "9c3135ca",
   "metadata": {},
   "outputs": [
    {
     "data": {
      "text/plain": [
       "capsule polysaccharide synthesis      106\n",
       "pectin                                 39\n",
       "xylan                                  35\n",
       "beta-glucan                            21\n",
       "alginate                               21\n",
       "host glycan                            19\n",
       "cellulose                              16\n",
       "starch                                 16\n",
       "chitin                                 15\n",
       "galactomannan                          15\n",
       "glycosaminoglycan                      14\n",
       "arabinan                               12\n",
       "galactan                               10\n",
       "alpha-mannan                            8\n",
       "beta-mannan                             8\n",
       "carrageenan                             8\n",
       "xyloglucan                              7\n",
       "fructan                                 7\n",
       "arabinoxylan                            6\n",
       "agarose                                 6\n",
       "arabinogalactan                         5\n",
       "capsule polysaccharide degradation      4\n",
       "beta-galactooligosaccharide             4\n",
       "glucomannan                             3\n",
       "glycogen                                3\n",
       "alpha-glucan                            3\n",
       "Name: high_level_substr, dtype: int64"
      ]
     },
     "execution_count": 9,
     "metadata": {},
     "output_type": "execute_result"
    }
   ],
   "source": [
    "data[\"high_level_substr\"].value_counts()"
   ]
  },
  {
   "cell_type": "code",
   "execution_count": 10,
   "id": "e97d90d5",
   "metadata": {},
   "outputs": [],
   "source": [
    "data = data[data[\"high_level_substr\"] != \"capsule polysaccharide synthesis\"]"
   ]
  },
  {
   "cell_type": "code",
   "execution_count": 11,
   "id": "5d081d85",
   "metadata": {},
   "outputs": [
    {
     "data": {
      "text/plain": [
       "pectin                                39\n",
       "xylan                                 35\n",
       "beta-glucan                           21\n",
       "alginate                              21\n",
       "host glycan                           19\n",
       "cellulose                             16\n",
       "starch                                16\n",
       "chitin                                15\n",
       "galactomannan                         15\n",
       "glycosaminoglycan                     14\n",
       "arabinan                              12\n",
       "galactan                              10\n",
       "alpha-mannan                           8\n",
       "beta-mannan                            8\n",
       "carrageenan                            8\n",
       "xyloglucan                             7\n",
       "fructan                                7\n",
       "arabinoxylan                           6\n",
       "agarose                                6\n",
       "arabinogalactan                        5\n",
       "capsule polysaccharide degradation     4\n",
       "beta-galactooligosaccharide            4\n",
       "glucomannan                            3\n",
       "glycogen                               3\n",
       "alpha-glucan                           3\n",
       "Name: high_level_substr, dtype: int64"
      ]
     },
     "execution_count": 11,
     "metadata": {},
     "output_type": "execute_result"
    }
   ],
   "source": [
    "data[\"high_level_substr\"].value_counts()"
   ]
  },
  {
   "cell_type": "code",
   "execution_count": 12,
   "id": "21372f4c",
   "metadata": {},
   "outputs": [
    {
     "data": {
      "text/html": [
       "<div>\n",
       "<style scoped>\n",
       "    .dataframe tbody tr th:only-of-type {\n",
       "        vertical-align: middle;\n",
       "    }\n",
       "\n",
       "    .dataframe tbody tr th {\n",
       "        vertical-align: top;\n",
       "    }\n",
       "\n",
       "    .dataframe thead th {\n",
       "        text-align: right;\n",
       "    }\n",
       "</style>\n",
       "<table border=\"1\" class=\"dataframe\">\n",
       "  <thead>\n",
       "    <tr style=\"text-align: right;\">\n",
       "      <th></th>\n",
       "      <th>PUL ID</th>\n",
       "      <th>high_level_substr</th>\n",
       "      <th>PULid</th>\n",
       "      <th>sig_gene_seq</th>\n",
       "    </tr>\n",
       "  </thead>\n",
       "  <tbody>\n",
       "    <tr>\n",
       "      <th>406</th>\n",
       "      <td>PUL0065</td>\n",
       "      <td>xyloglucan</td>\n",
       "      <td>PUL0065</td>\n",
       "      <td>1.B.14,8.A.46,null,null,GH43_12,null,GH5_4,HTH...</td>\n",
       "    </tr>\n",
       "    <tr>\n",
       "      <th>407</th>\n",
       "      <td>PUL0066</td>\n",
       "      <td>xyloglucan</td>\n",
       "      <td>PUL0066</td>\n",
       "      <td>null,1.B.14,null,null,GH43_12,GH5_4,null,HTH_A...</td>\n",
       "    </tr>\n",
       "    <tr>\n",
       "      <th>408</th>\n",
       "      <td>PUL0067</td>\n",
       "      <td>xyloglucan</td>\n",
       "      <td>PUL0067</td>\n",
       "      <td>GH2,GH5_4,null,8.A.46,1.B.14,GH31,HTH_AraC,GH9...</td>\n",
       "    </tr>\n",
       "    <tr>\n",
       "      <th>409</th>\n",
       "      <td>PUL0215</td>\n",
       "      <td>xyloglucan</td>\n",
       "      <td>PUL0215</td>\n",
       "      <td>GH31,GH35,1.B.14,GH95</td>\n",
       "    </tr>\n",
       "    <tr>\n",
       "      <th>410</th>\n",
       "      <td>PUL0527</td>\n",
       "      <td>xyloglucan</td>\n",
       "      <td>PUL0527</td>\n",
       "      <td>null,HATPase_c,null,9.B.174,GH3,GH2,GH31,HTH_A...</td>\n",
       "    </tr>\n",
       "  </tbody>\n",
       "</table>\n",
       "</div>"
      ],
      "text/plain": [
       "      PUL ID high_level_substr    PULid  \\\n",
       "406  PUL0065        xyloglucan  PUL0065   \n",
       "407  PUL0066        xyloglucan  PUL0066   \n",
       "408  PUL0067        xyloglucan  PUL0067   \n",
       "409  PUL0215        xyloglucan  PUL0215   \n",
       "410  PUL0527        xyloglucan  PUL0527   \n",
       "\n",
       "                                          sig_gene_seq  \n",
       "406  1.B.14,8.A.46,null,null,GH43_12,null,GH5_4,HTH...  \n",
       "407  null,1.B.14,null,null,GH43_12,GH5_4,null,HTH_A...  \n",
       "408  GH2,GH5_4,null,8.A.46,1.B.14,GH31,HTH_AraC,GH9...  \n",
       "409                              GH31,GH35,1.B.14,GH95  \n",
       "410  null,HATPase_c,null,9.B.174,GH3,GH2,GH31,HTH_A...  "
      ]
     },
     "execution_count": 12,
     "metadata": {},
     "output_type": "execute_result"
    }
   ],
   "source": [
    "data.tail()"
   ]
  },
  {
   "cell_type": "code",
   "execution_count": 13,
   "id": "9963c3de",
   "metadata": {},
   "outputs": [],
   "source": [
    "\n",
    "# top_k = 10\n",
    "K = 10\n",
    "known_unknown = False\n",
    "\n",
    "\n",
    "## Doc2Vec_DM model\n",
    "# model_dm =  gensim.models.doc2vec.Doc2Vec.load(r\"Embedding_Models_10_12//doc2vec_dm\") \n",
    "# model_dbow = gensim.models.doc2vec.Doc2Vec.load(r\"Embedding_Models_10_12//doc2vec_dbow\") \n",
    "# model_cbow =gensim.models.word2vec.Word2Vec.load(r\"Embedding_Models_10_12//word2vec_cbow\") \n",
    "# model_sg =gensim.models.word2vec.Word2Vec.load(r\"Embedding_Models_10_12//word2vec_sg\") \n",
    "# model_fasttext_sg =gensim.models.word2vec.Word2Vec.load(r\"Embedding_Models_10_12//fasttext_sg\") \n",
    "# model_fasttext_cbow =gensim.models.word2vec.Word2Vec.load(r\"Embedding_Models_10_12//fasttext_cbow\") \n"
   ]
  },
  {
   "cell_type": "code",
   "execution_count": 14,
   "id": "d8abf86d",
   "metadata": {},
   "outputs": [],
   "source": [
    "model_sg_50 = gensim.models.word2vec.Word2Vec.load(r\"Embedding_Models_10_12//word2vec_sg_vec_50\") "
   ]
  },
  {
   "cell_type": "code",
   "execution_count": 15,
   "id": "9e8a43cd",
   "metadata": {},
   "outputs": [],
   "source": [
    "og = [\"lstm_with_attention\"]"
   ]
  },
  {
   "cell_type": "code",
   "execution_count": 16,
   "id": "a0adb0d7",
   "metadata": {
    "scrolled": true
   },
   "outputs": [
    {
     "data": {
      "application/vnd.jupyter.widget-view+json": {
       "model_id": "138e714c374643729e7f2cee3af48ab4",
       "version_major": 2,
       "version_minor": 0
      },
      "text/plain": [
       "  0%|          | 0/1 [00:00<?, ?it/s]"
      ]
     },
     "metadata": {},
     "output_type": "display_data"
    },
    {
     "name": "stdout",
     "output_type": "stream",
     "text": [
      "Currently running for featurizer lstm_with_attention with 4 number of classes.\n"
     ]
    },
    {
     "name": "stderr",
     "output_type": "stream",
     "text": [
      "\n",
      "0it [00:00, ?it/s]\u001b[A\n",
      "1it [00:59, 59.04s/it]\u001b[A\n",
      "2it [01:39, 47.96s/it]\u001b[A\n",
      "3it [03:04, 64.76s/it]\u001b[A\n",
      "4it [04:09, 64.97s/it]\u001b[A\n",
      "5it [04:58, 59.35s/it]\u001b[A\n",
      "6it [05:37, 52.35s/it]\u001b[A\n",
      "7it [06:19, 48.96s/it]\u001b[A\n",
      "8it [07:02, 47.18s/it]\u001b[A\n",
      "9it [07:43, 45.01s/it]\u001b[A\n",
      "10it [08:26, 50.70s/it]\u001b[A\n"
     ]
    },
    {
     "name": "stdout",
     "output_type": "stream",
     "text": [
      "Currently running for featurizer just_attention with 4 number of classes.\n"
     ]
    },
    {
     "name": "stderr",
     "output_type": "stream",
     "text": [
      "\n",
      "0it [00:30, ?it/s]\u001b[A\n",
      "\n",
      "KeyboardInterrupt\n",
      "\n"
     ]
    }
   ],
   "source": [
    "overall_catch = []\n",
    "for top_k in tqdm(range(4,5)):\n",
    "    for featurizer in og:\n",
    "        print(\"Currently running for featurizer \"+ featurizer + \" with \" + str(top_k) + \" number of classes.\")\n",
    "        if featurizer == \"countvectorizer\":\n",
    "            avg_acc, avg_class_acc, std_err_avg_acc, std_err_avg_classwise_acc, overall_report,  model, params_best, fig, fig2, fig3 = run_end_to_end(top_k, data, featurizer, K, known_unknown, None)\n",
    "        elif featurizer == \"doc2vec_dbow\":\n",
    "            avg_acc, avg_class_acc, std_err_avg_acc, std_err_avg_classwise_acc, overall_report,  model, params_best, fig, fig2, fig3 = run_end_to_end(top_k, data, featurizer, K, known_unknown, model_dbow)\n",
    "        elif featurizer == \"doc2vec_dm\":\n",
    "            avg_acc, avg_class_acc, std_err_avg_acc, std_err_avg_classwise_acc, overall_report,  model, params_best, fig, fig2, fig3 = run_end_to_end(top_k, data, featurizer, K, known_unknown, model_dm)\n",
    "        elif featurizer == \"word2vec_cbow\":\n",
    "            avg_acc, avg_class_acc, std_err_avg_acc, std_err_avg_classwise_acc, overall_report,  model, params_best, fig, fig2, fig3 = run_end_to_end(top_k, data, featurizer, K, known_unknown, model_cbow)            \n",
    "        elif featurizer == \"word2vec_sg\":\n",
    "            avg_acc, avg_class_acc, std_err_avg_acc, std_err_avg_classwise_acc, overall_report,  model, params_best, fig, fig2, fig3 = run_end_to_end(top_k, data, featurizer, K, known_unknown, model_sg)\n",
    "        elif featurizer == \"fasttext_sg\":\n",
    "            avg_acc, avg_class_acc, std_err_avg_acc, std_err_avg_classwise_acc, overall_report,  model, params_best, fig, fig2, fig3 = run_end_to_end(top_k, data, featurizer, K, known_unknown, model_fasttext_sg)      \n",
    "        elif featurizer == \"fasttext_cbow\":\n",
    "            avg_acc, avg_class_acc, std_err_avg_acc, std_err_avg_classwise_acc, overall_report,  model, params_best, fig, fig2, fig3 = run_end_to_end(top_k, data, featurizer, K, known_unknown, model_fasttext_cbow)  \n",
    "            \n",
    "        elif featurizer == \"lstm_with_attention\": \n",
    "            avg_acc, avg_class_acc, std_err_avg_acc, std_err_avg_classwise_acc, overall_report,  model, params_best, fig, fig2, fig3 = run_end_to_end(top_k, data, featurizer, K, known_unknown, model_sg_50)\n",
    "        \n",
    "        elif featurizer == \"just_attention\": \n",
    "            avg_acc, avg_class_acc, std_err_avg_acc, std_err_avg_classwise_acc, overall_report,  model, params_best, fig, fig2, fig3 = run_end_to_end(top_k, data, featurizer, K, known_unknown, model_sg_50)        \n",
    "        \n",
    "        elif featurizer == \"vanilla_lstm\": \n",
    "            avg_acc, avg_class_acc, std_err_avg_acc, std_err_avg_classwise_acc, overall_report,  model, params_best, fig, fig2, fig3 = run_end_to_end(top_k, data, featurizer, K, known_unknown, model_sg_50)        \n",
    "        \n",
    "        else:\n",
    "            pass\n",
    "        \n",
    "        overall_catch.append([top_k, featurizer, avg_acc, avg_class_acc, std_err_avg_acc, std_err_avg_classwise_acc, \n",
    "                             overall_report[\"precision\"], overall_report[\"recall\"], overall_report[\"f1-score\"]])\n",
    "#         print(avg_acc, avg_class_acc)\n",
    "        plt.close('all')"
   ]
  },
  {
   "cell_type": "code",
   "execution_count": 17,
   "id": "ea8ed398",
   "metadata": {},
   "outputs": [],
   "source": [
    "overall_catch = pd.DataFrame(overall_catch)"
   ]
  },
  {
   "cell_type": "code",
   "execution_count": 18,
   "id": "4820e44e",
   "metadata": {},
   "outputs": [],
   "source": [
    "overall_catch.columns = [\"num_substrates\", \"feature_method\", \"avg_accuracy\", \"avg_classwise_acc\",\n",
    "                         \"std_err_avg_acc\", \"std_err_avg_classwise_acc\", \"avg_precision\", \"avg_recall\", \"avg_f1_score\"]"
   ]
  },
  {
   "cell_type": "code",
   "execution_count": 19,
   "id": "7b7fc225",
   "metadata": {},
   "outputs": [
    {
     "data": {
      "text/html": [
       "<div>\n",
       "<style scoped>\n",
       "    .dataframe tbody tr th:only-of-type {\n",
       "        vertical-align: middle;\n",
       "    }\n",
       "\n",
       "    .dataframe tbody tr th {\n",
       "        vertical-align: top;\n",
       "    }\n",
       "\n",
       "    .dataframe thead th {\n",
       "        text-align: right;\n",
       "    }\n",
       "</style>\n",
       "<table border=\"1\" class=\"dataframe\">\n",
       "  <thead>\n",
       "    <tr style=\"text-align: right;\">\n",
       "      <th></th>\n",
       "      <th>num_substrates</th>\n",
       "      <th>feature_method</th>\n",
       "      <th>avg_accuracy</th>\n",
       "      <th>avg_classwise_acc</th>\n",
       "      <th>std_err_avg_acc</th>\n",
       "      <th>std_err_avg_classwise_acc</th>\n",
       "      <th>avg_precision</th>\n",
       "      <th>avg_recall</th>\n",
       "      <th>avg_f1_score</th>\n",
       "    </tr>\n",
       "  </thead>\n",
       "  <tbody>\n",
       "    <tr>\n",
       "      <th>0</th>\n",
       "      <td>4</td>\n",
       "      <td>lstm_with_attention</td>\n",
       "      <td>0.914394</td>\n",
       "      <td>0.920833</td>\n",
       "      <td>0.084974</td>\n",
       "      <td>0.085797</td>\n",
       "      <td>0.942917</td>\n",
       "      <td>0.920833</td>\n",
       "      <td>0.922996</td>\n",
       "    </tr>\n",
       "  </tbody>\n",
       "</table>\n",
       "</div>"
      ],
      "text/plain": [
       "   num_substrates       feature_method  avg_accuracy  avg_classwise_acc  \\\n",
       "0               4  lstm_with_attention      0.914394           0.920833   \n",
       "\n",
       "   std_err_avg_acc  std_err_avg_classwise_acc  avg_precision  avg_recall  \\\n",
       "0         0.084974                   0.085797       0.942917    0.920833   \n",
       "\n",
       "   avg_f1_score  \n",
       "0      0.922996  "
      ]
     },
     "execution_count": 19,
     "metadata": {},
     "output_type": "execute_result"
    }
   ],
   "source": [
    "overall_catch.head(10)"
   ]
  },
  {
   "cell_type": "code",
   "execution_count": 20,
   "id": "72c8c9a9",
   "metadata": {},
   "outputs": [],
   "source": [
    "enkf_k_fold_metrics = pd.read_csv(r\"D:\\Proposal_Defense\\kf_probit\\enkf_subFinder_validation_accuracies_over_folds.csv\")"
   ]
  },
  {
   "cell_type": "code",
   "execution_count": 21,
   "id": "64ac7a68",
   "metadata": {},
   "outputs": [
    {
     "data": {
      "text/html": [
       "<div>\n",
       "<style scoped>\n",
       "    .dataframe tbody tr th:only-of-type {\n",
       "        vertical-align: middle;\n",
       "    }\n",
       "\n",
       "    .dataframe tbody tr th {\n",
       "        vertical-align: top;\n",
       "    }\n",
       "\n",
       "    .dataframe thead th {\n",
       "        text-align: right;\n",
       "    }\n",
       "</style>\n",
       "<table border=\"1\" class=\"dataframe\">\n",
       "  <thead>\n",
       "    <tr style=\"text-align: right;\">\n",
       "      <th></th>\n",
       "      <th>fold_update_index</th>\n",
       "      <th>variable</th>\n",
       "      <th>value</th>\n",
       "    </tr>\n",
       "  </thead>\n",
       "  <tbody>\n",
       "    <tr>\n",
       "      <th>0</th>\n",
       "      <td>1</td>\n",
       "      <td>acc_enkf_15_20</td>\n",
       "      <td>1.000000</td>\n",
       "    </tr>\n",
       "    <tr>\n",
       "      <th>1</th>\n",
       "      <td>2</td>\n",
       "      <td>acc_enkf_15_20</td>\n",
       "      <td>0.916667</td>\n",
       "    </tr>\n",
       "    <tr>\n",
       "      <th>2</th>\n",
       "      <td>3</td>\n",
       "      <td>acc_enkf_15_20</td>\n",
       "      <td>0.833333</td>\n",
       "    </tr>\n",
       "    <tr>\n",
       "      <th>3</th>\n",
       "      <td>4</td>\n",
       "      <td>acc_enkf_15_20</td>\n",
       "      <td>0.916667</td>\n",
       "    </tr>\n",
       "    <tr>\n",
       "      <th>4</th>\n",
       "      <td>5</td>\n",
       "      <td>acc_enkf_15_20</td>\n",
       "      <td>0.750000</td>\n",
       "    </tr>\n",
       "  </tbody>\n",
       "</table>\n",
       "</div>"
      ],
      "text/plain": [
       "   fold_update_index        variable     value\n",
       "0                  1  acc_enkf_15_20  1.000000\n",
       "1                  2  acc_enkf_15_20  0.916667\n",
       "2                  3  acc_enkf_15_20  0.833333\n",
       "3                  4  acc_enkf_15_20  0.916667\n",
       "4                  5  acc_enkf_15_20  0.750000"
      ]
     },
     "execution_count": 21,
     "metadata": {},
     "output_type": "execute_result"
    }
   ],
   "source": [
    "enkf_k_fold_metrics.head()"
   ]
  },
  {
   "cell_type": "code",
   "execution_count": 22,
   "id": "a20cac4c",
   "metadata": {},
   "outputs": [],
   "source": [
    "enkf_k_fold_metrics.columns = [\"fold_update_index\", \"model\", \"Accuracy\"]"
   ]
  },
  {
   "cell_type": "code",
   "execution_count": 23,
   "id": "9ff8791d",
   "metadata": {},
   "outputs": [
    {
     "data": {
      "text/plain": [
       "model\n",
       "acc_ann_15        0.915909\n",
       "acc_ann_20        0.915152\n",
       "acc_enkf_15_20    0.879545\n",
       "Name: Accuracy, dtype: float64"
      ]
     },
     "execution_count": 23,
     "metadata": {},
     "output_type": "execute_result"
    }
   ],
   "source": [
    "enkf_k_fold_metrics.groupby([\"model\"])[\"Accuracy\"].mean()"
   ]
  },
  {
   "cell_type": "code",
   "execution_count": 24,
   "id": "0deee2bc",
   "metadata": {},
   "outputs": [
    {
     "data": {
      "text/plain": [
       "model\n",
       "acc_ann_15        0.087874\n",
       "acc_ann_20        0.080476\n",
       "acc_enkf_15_20    0.092952\n",
       "Name: Accuracy, dtype: float64"
      ]
     },
     "execution_count": 24,
     "metadata": {},
     "output_type": "execute_result"
    }
   ],
   "source": [
    "enkf_k_fold_metrics.groupby([\"model\"])[\"Accuracy\"].std()"
   ]
  }
 ],
 "metadata": {
  "kernelspec": {
   "display_name": "newone1",
   "language": "python",
   "name": "newone1"
  },
  "language_info": {
   "codemirror_mode": {
    "name": "ipython",
    "version": 3
   },
   "file_extension": ".py",
   "mimetype": "text/x-python",
   "name": "python",
   "nbconvert_exporter": "python",
   "pygments_lexer": "ipython3",
   "version": "3.9.12"
  }
 },
 "nbformat": 4,
 "nbformat_minor": 5
}
