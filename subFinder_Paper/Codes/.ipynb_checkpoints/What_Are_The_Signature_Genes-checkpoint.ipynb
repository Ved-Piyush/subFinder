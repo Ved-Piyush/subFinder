{
 "cells": [
  {
   "cell_type": "code",
   "execution_count": 1,
   "id": "36ba083f",
   "metadata": {},
   "outputs": [],
   "source": [
    "# set the directory to where the data is\n",
    "# import os\n",
    "\n",
    "# os.chdir(r\"D:\\Gene_Project\")"
   ]
  },
  {
   "cell_type": "code",
   "execution_count": 2,
   "id": "107d9e3e",
   "metadata": {},
   "outputs": [],
   "source": [
    "# import warnings\n",
    "# warnings.filterwarnings('ignore')"
   ]
  },
  {
   "cell_type": "code",
   "execution_count": 3,
   "id": "f5a706ea",
   "metadata": {},
   "outputs": [],
   "source": [
    "import os"
   ]
  },
  {
   "cell_type": "code",
   "execution_count": 4,
   "id": "339b1217",
   "metadata": {},
   "outputs": [
    {
     "data": {
      "text/plain": [
       "'D:\\\\subFinder\\\\subFinder_Paper\\\\Codes'"
      ]
     },
     "execution_count": 4,
     "metadata": {},
     "output_type": "execute_result"
    }
   ],
   "source": [
    "os.getcwd()"
   ]
  },
  {
   "cell_type": "code",
   "execution_count": 5,
   "id": "3036d839",
   "metadata": {},
   "outputs": [],
   "source": [
    "os.chdir(r'D:\\\\subFinder')"
   ]
  },
  {
   "cell_type": "code",
   "execution_count": 6,
   "id": "90373575",
   "metadata": {},
   "outputs": [],
   "source": [
    "# pandas for dealing with the data\n",
    "import pandas as pd\n",
    "# setting for seeing the entire string\n",
    "# pd.options.display.max_colwidth = None\n",
    "# pd.set_option('display.max_rows', 500)\n",
    "# pd.set_option('display.max_columns', 500)"
   ]
  },
  {
   "cell_type": "code",
   "execution_count": 7,
   "id": "acfdd191",
   "metadata": {},
   "outputs": [],
   "source": [
    "data = pd.read_csv(r\"Data/Supervised_Sequences/updated_data_filtered.csv\")"
   ]
  },
  {
   "cell_type": "code",
   "execution_count": 8,
   "id": "78297f2c",
   "metadata": {},
   "outputs": [],
   "source": [
    "data = data[data[\"high_level_substr\"] != \"capsule polysaccharide synthesis\"]"
   ]
  },
  {
   "cell_type": "code",
   "execution_count": 9,
   "id": "bfc31ef5",
   "metadata": {},
   "outputs": [],
   "source": [
    "# new_path = \"D:\\Gene_Project\\dbCAN-PUL_07-01-2022.xlsx\""
   ]
  },
  {
   "cell_type": "code",
   "execution_count": 10,
   "id": "aa8381aa",
   "metadata": {},
   "outputs": [],
   "source": [
    "## load the word2vec module"
   ]
  },
  {
   "cell_type": "code",
   "execution_count": 11,
   "id": "a869fb75",
   "metadata": {},
   "outputs": [],
   "source": [
    "import gensim"
   ]
  },
  {
   "cell_type": "code",
   "execution_count": 12,
   "id": "fe15bfc3",
   "metadata": {},
   "outputs": [],
   "source": [
    "model_cbow = gensim.models.word2vec.Word2Vec.load(r\"D:\\subFinder\\Embedding_Models_10_12\\word2vec_sg\") "
   ]
  },
  {
   "cell_type": "code",
   "execution_count": 13,
   "id": "3825230b",
   "metadata": {},
   "outputs": [],
   "source": [
    "# model_cbow = gensim.models.word2vec.Word2Vec.load(r\"D:\\Gene_Project\\word2vec_sg_sig_gene_seq\") "
   ]
  },
  {
   "cell_type": "code",
   "execution_count": 14,
   "id": "6bd09d81",
   "metadata": {},
   "outputs": [],
   "source": [
    "# model_fasttext_sg = gensim.models.word2vec.Word2Vec.load(r\"D:\\Gene_Project\\model_fasttext_sg\") "
   ]
  },
  {
   "cell_type": "code",
   "execution_count": 15,
   "id": "1661d40d",
   "metadata": {},
   "outputs": [],
   "source": [
    "# model_fasttext_cbow = gensim.models.word2vec.Word2Vec.load(r\"D:\\Gene_Project\\model_fasttext_cbow\") "
   ]
  },
  {
   "cell_type": "code",
   "execution_count": 16,
   "id": "e99149f1",
   "metadata": {},
   "outputs": [],
   "source": [
    "import tensorflow as tf"
   ]
  },
  {
   "cell_type": "code",
   "execution_count": 17,
   "id": "44bc5bbc",
   "metadata": {},
   "outputs": [],
   "source": [
    "sequences = [item.replace(\"|\", \",\").replace(\",\", \" \") for item in data[\"sig_gene_seq\"].values]"
   ]
  },
  {
   "cell_type": "code",
   "execution_count": 18,
   "id": "ae7496d3",
   "metadata": {},
   "outputs": [],
   "source": [
    "data[\"sig_gene_seq\"] = sequences"
   ]
  },
  {
   "cell_type": "code",
   "execution_count": 19,
   "id": "5151800f",
   "metadata": {},
   "outputs": [],
   "source": [
    "from Codes.Model_architectures import non_recurrent_attention_model"
   ]
  },
  {
   "cell_type": "code",
   "execution_count": 20,
   "id": "70ba52b5",
   "metadata": {},
   "outputs": [],
   "source": [
    "from Codes.Supervised_Trainer import run_end_to_end"
   ]
  },
  {
   "cell_type": "code",
   "execution_count": 21,
   "id": "7879cb6d",
   "metadata": {},
   "outputs": [],
   "source": [
    "featurizer = \"just_attention\""
   ]
  },
  {
   "cell_type": "code",
   "execution_count": 22,
   "id": "4934ee3e",
   "metadata": {},
   "outputs": [],
   "source": [
    "top_k = 7"
   ]
  },
  {
   "cell_type": "code",
   "execution_count": 23,
   "id": "49b012b1",
   "metadata": {},
   "outputs": [],
   "source": [
    "known_unknown = False"
   ]
  },
  {
   "cell_type": "code",
   "execution_count": 24,
   "id": "738519e1",
   "metadata": {},
   "outputs": [],
   "source": [
    "K = 10"
   ]
  },
  {
   "cell_type": "code",
   "execution_count": 25,
   "id": "11d8dc16",
   "metadata": {},
   "outputs": [],
   "source": [
    "model_sg = model_cbow"
   ]
  },
  {
   "cell_type": "code",
   "execution_count": 30,
   "id": "05608c71",
   "metadata": {},
   "outputs": [
    {
     "data": {
      "text/plain": [
       "pectin                                39\n",
       "xylan                                 35\n",
       "beta-glucan                           21\n",
       "alginate                              21\n",
       "host glycan                           19\n",
       "cellulose                             16\n",
       "starch                                16\n",
       "chitin                                15\n",
       "galactomannan                         15\n",
       "glycosaminoglycan                     14\n",
       "arabinan                              12\n",
       "galactan                              10\n",
       "alpha-mannan                           8\n",
       "beta-mannan                            8\n",
       "carrageenan                            8\n",
       "xyloglucan                             7\n",
       "fructan                                7\n",
       "arabinoxylan                           6\n",
       "agarose                                6\n",
       "arabinogalactan                        5\n",
       "capsule polysaccharide degradation     4\n",
       "beta-galactooligosaccharide            4\n",
       "glucomannan                            3\n",
       "glycogen                               3\n",
       "alpha-glucan                           3\n",
       "Name: high_level_substr, dtype: int64"
      ]
     },
     "execution_count": 30,
     "metadata": {},
     "output_type": "execute_result"
    }
   ],
   "source": [
    "data[\"high_level_substr\"].value_counts()"
   ]
  },
  {
   "cell_type": "code",
   "execution_count": 26,
   "id": "5e5024d3",
   "metadata": {},
   "outputs": [
    {
     "name": "stderr",
     "output_type": "stream",
     "text": [
      "C:\\Users\\vedpi\\.conda\\envs\\newone1\\lib\\site-packages\\sklearn\\metrics\\_classification.py:1327: UndefinedMetricWarning: Precision and F-score are ill-defined and being set to 0.0 in labels with no predicted samples. Use `zero_division` parameter to control this behavior.\n",
      "  _warn_prf(average, modifier, msg_start, len(result))\n",
      "C:\\Users\\vedpi\\.conda\\envs\\newone1\\lib\\site-packages\\sklearn\\metrics\\_classification.py:1327: UndefinedMetricWarning: Precision and F-score are ill-defined and being set to 0.0 in labels with no predicted samples. Use `zero_division` parameter to control this behavior.\n",
      "  _warn_prf(average, modifier, msg_start, len(result))\n",
      "C:\\Users\\vedpi\\.conda\\envs\\newone1\\lib\\site-packages\\sklearn\\metrics\\_classification.py:1327: UndefinedMetricWarning: Precision and F-score are ill-defined and being set to 0.0 in labels with no predicted samples. Use `zero_division` parameter to control this behavior.\n",
      "  _warn_prf(average, modifier, msg_start, len(result))\n",
      "C:\\Users\\vedpi\\.conda\\envs\\newone1\\lib\\site-packages\\sklearn\\metrics\\_classification.py:1327: UndefinedMetricWarning: Precision and F-score are ill-defined and being set to 0.0 in labels with no predicted samples. Use `zero_division` parameter to control this behavior.\n",
      "  _warn_prf(average, modifier, msg_start, len(result))\n",
      "C:\\Users\\vedpi\\.conda\\envs\\newone1\\lib\\site-packages\\sklearn\\metrics\\_classification.py:1327: UndefinedMetricWarning: Precision and F-score are ill-defined and being set to 0.0 in labels with no predicted samples. Use `zero_division` parameter to control this behavior.\n",
      "  _warn_prf(average, modifier, msg_start, len(result))\n",
      "C:\\Users\\vedpi\\.conda\\envs\\newone1\\lib\\site-packages\\sklearn\\metrics\\_classification.py:1327: UndefinedMetricWarning: Precision and F-score are ill-defined and being set to 0.0 in labels with no predicted samples. Use `zero_division` parameter to control this behavior.\n",
      "  _warn_prf(average, modifier, msg_start, len(result))\n",
      "C:\\Users\\vedpi\\.conda\\envs\\newone1\\lib\\site-packages\\sklearn\\metrics\\_classification.py:1327: UndefinedMetricWarning: Precision and F-score are ill-defined and being set to 0.0 in labels with no predicted samples. Use `zero_division` parameter to control this behavior.\n",
      "  _warn_prf(average, modifier, msg_start, len(result))\n",
      "C:\\Users\\vedpi\\.conda\\envs\\newone1\\lib\\site-packages\\sklearn\\metrics\\_classification.py:1327: UndefinedMetricWarning: Precision and F-score are ill-defined and being set to 0.0 in labels with no predicted samples. Use `zero_division` parameter to control this behavior.\n",
      "  _warn_prf(average, modifier, msg_start, len(result))\n",
      "C:\\Users\\vedpi\\.conda\\envs\\newone1\\lib\\site-packages\\sklearn\\metrics\\_classification.py:1327: UndefinedMetricWarning: Precision and F-score are ill-defined and being set to 0.0 in labels with no predicted samples. Use `zero_division` parameter to control this behavior.\n",
      "  _warn_prf(average, modifier, msg_start, len(result))\n",
      "C:\\Users\\vedpi\\.conda\\envs\\newone1\\lib\\site-packages\\sklearn\\metrics\\_classification.py:1327: UndefinedMetricWarning: Precision and F-score are ill-defined and being set to 0.0 in labels with no predicted samples. Use `zero_division` parameter to control this behavior.\n",
      "  _warn_prf(average, modifier, msg_start, len(result))\n",
      "C:\\Users\\vedpi\\.conda\\envs\\newone1\\lib\\site-packages\\sklearn\\metrics\\_classification.py:1327: UndefinedMetricWarning: Precision and F-score are ill-defined and being set to 0.0 in labels with no predicted samples. Use `zero_division` parameter to control this behavior.\n",
      "  _warn_prf(average, modifier, msg_start, len(result))\n",
      "C:\\Users\\vedpi\\.conda\\envs\\newone1\\lib\\site-packages\\sklearn\\metrics\\_classification.py:1327: UndefinedMetricWarning: Precision and F-score are ill-defined and being set to 0.0 in labels with no predicted samples. Use `zero_division` parameter to control this behavior.\n",
      "  _warn_prf(average, modifier, msg_start, len(result))\n"
     ]
    },
    {
     "data": {
      "image/png": "[encoded data removed]",
      "text/plain": [
       "<Figure size 720x720 with 2 Axes>"
      ]
     },
     "metadata": {
      "needs_background": "light"
     },
     "output_type": "display_data"
    },
    {
     "data": {
      "image/png": "[encoded data removed]",
      "text/plain": [
       "<Figure size 720x720 with 2 Axes>"
      ]
     },
     "metadata": {
      "needs_background": "light"
     },
     "output_type": "display_data"
    },
    {
     "data": {
      "image/png": "[encoded data removed]",
      "text/plain": [
       "<Figure size 720x720 with 2 Axes>"
      ]
     },
     "metadata": {
      "needs_background": "light"
     },
     "output_type": "display_data"
    }
   ],
   "source": [
    "avg_acc, avg_class_acc, std_err_avg_acc, std_err_avg_classwise_acc, overall_report,  model, params_best, fig, fig2, fig3 = run_end_to_end(top_k, data, featurizer, K, known_unknown, model_sg)        "
   ]
  },
  {
   "cell_type": "code",
   "execution_count": 28,
   "id": "1c5f1b7d",
   "metadata": {},
   "outputs": [
    {
     "data": {
      "text/plain": [
       "(0.8327205882352942, 0.819047619047619)"
      ]
     },
     "execution_count": 28,
     "metadata": {},
     "output_type": "execute_result"
    }
   ],
   "source": [
    "avg_acc, avg_class_acc"
   ]
  },
  {
   "cell_type": "code",
   "execution_count": 27,
   "id": "23ecec1d",
   "metadata": {},
   "outputs": [
    {
     "data": {
      "image/png": "[encoded data removed]",
      "text/plain": [
       "<Figure size 720x720 with 2 Axes>"
      ]
     },
     "execution_count": 27,
     "metadata": {},
     "output_type": "execute_result"
    }
   ],
   "source": [
    "fig"
   ]
  },
  {
   "cell_type": "code",
   "execution_count": 31,
   "id": "cd1c7039",
   "metadata": {},
   "outputs": [],
   "source": [
    "order = list(data[\"high_level_substr\"].value_counts()[:7].index)"
   ]
  },
  {
   "cell_type": "code",
   "execution_count": 32,
   "id": "9fc4abda",
   "metadata": {},
   "outputs": [
    {
     "data": {
      "text/plain": [
       "pectin                                39\n",
       "xylan                                 35\n",
       "beta-glucan                           21\n",
       "alginate                              21\n",
       "host glycan                           19\n",
       "cellulose                             16\n",
       "starch                                16\n",
       "chitin                                15\n",
       "galactomannan                         15\n",
       "glycosaminoglycan                     14\n",
       "arabinan                              12\n",
       "galactan                              10\n",
       "alpha-mannan                           8\n",
       "beta-mannan                            8\n",
       "carrageenan                            8\n",
       "xyloglucan                             7\n",
       "fructan                                7\n",
       "arabinoxylan                           6\n",
       "agarose                                6\n",
       "arabinogalactan                        5\n",
       "capsule polysaccharide degradation     4\n",
       "beta-galactooligosaccharide            4\n",
       "glucomannan                            3\n",
       "glycogen                               3\n",
       "alpha-glucan                           3\n",
       "Name: high_level_substr, dtype: int64"
      ]
     },
     "execution_count": 32,
     "metadata": {},
     "output_type": "execute_result"
    }
   ],
   "source": [
    "data[\"high_level_substr\"].value_counts()"
   ]
  },
  {
   "cell_type": "code",
   "execution_count": 33,
   "id": "cb75ab91",
   "metadata": {},
   "outputs": [],
   "source": [
    "data = data[data[\"high_level_substr\"].isin(order)]"
   ]
  },
  {
   "cell_type": "code",
   "execution_count": 34,
   "id": "d32181d0",
   "metadata": {},
   "outputs": [],
   "source": [
    "from sklearn.model_selection import train_test_split"
   ]
  },
  {
   "cell_type": "code",
   "execution_count": 35,
   "id": "95c20821",
   "metadata": {},
   "outputs": [],
   "source": [
    "from sklearn.preprocessing import LabelEncoder"
   ]
  },
  {
   "cell_type": "code",
   "execution_count": 36,
   "id": "838a18c5",
   "metadata": {},
   "outputs": [],
   "source": [
    "le =  LabelEncoder()"
   ]
  },
  {
   "cell_type": "code",
   "execution_count": 37,
   "id": "fe12840b",
   "metadata": {},
   "outputs": [
    {
     "data": {
      "text/html": [
       "<style>#sk-container-id-1 {color: black;background-color: white;}#sk-container-id-1 pre{padding: 0;}#sk-container-id-1 div.sk-toggleable {background-color: white;}#sk-container-id-1 label.sk-toggleable__label {cursor: pointer;display: block;width: 100%;margin-bottom: 0;padding: 0.3em;box-sizing: border-box;text-align: center;}#sk-container-id-1 label.sk-toggleable__label-arrow:before {content: \"▸\";float: left;margin-right: 0.25em;color: #696969;}#sk-container-id-1 label.sk-toggleable__label-arrow:hover:before {color: black;}#sk-container-id-1 div.sk-estimator:hover label.sk-toggleable__label-arrow:before {color: black;}#sk-container-id-1 div.sk-toggleable__content {max-height: 0;max-width: 0;overflow: hidden;text-align: left;background-color: #f0f8ff;}#sk-container-id-1 div.sk-toggleable__content pre {margin: 0.2em;color: black;border-radius: 0.25em;background-color: #f0f8ff;}#sk-container-id-1 input.sk-toggleable__control:checked~div.sk-toggleable__content {max-height: 200px;max-width: 100%;overflow: auto;}#sk-container-id-1 input.sk-toggleable__control:checked~label.sk-toggleable__label-arrow:before {content: \"▾\";}#sk-container-id-1 div.sk-estimator input.sk-toggleable__control:checked~label.sk-toggleable__label {background-color: #d4ebff;}#sk-container-id-1 div.sk-label input.sk-toggleable__control:checked~label.sk-toggleable__label {background-color: #d4ebff;}#sk-container-id-1 input.sk-hidden--visually {border: 0;clip: rect(1px 1px 1px 1px);clip: rect(1px, 1px, 1px, 1px);height: 1px;margin: -1px;overflow: hidden;padding: 0;position: absolute;width: 1px;}#sk-container-id-1 div.sk-estimator {font-family: monospace;background-color: #f0f8ff;border: 1px dotted black;border-radius: 0.25em;box-sizing: border-box;margin-bottom: 0.5em;}#sk-container-id-1 div.sk-estimator:hover {background-color: #d4ebff;}#sk-container-id-1 div.sk-parallel-item::after {content: \"\";width: 100%;border-bottom: 1px solid gray;flex-grow: 1;}#sk-container-id-1 div.sk-label:hover label.sk-toggleable__label {background-color: #d4ebff;}#sk-container-id-1 div.sk-serial::before {content: \"\";position: absolute;border-left: 1px solid gray;box-sizing: border-box;top: 0;bottom: 0;left: 50%;z-index: 0;}#sk-container-id-1 div.sk-serial {display: flex;flex-direction: column;align-items: center;background-color: white;padding-right: 0.2em;padding-left: 0.2em;position: relative;}#sk-container-id-1 div.sk-item {position: relative;z-index: 1;}#sk-container-id-1 div.sk-parallel {display: flex;align-items: stretch;justify-content: center;background-color: white;position: relative;}#sk-container-id-1 div.sk-item::before, #sk-container-id-1 div.sk-parallel-item::before {content: \"\";position: absolute;border-left: 1px solid gray;box-sizing: border-box;top: 0;bottom: 0;left: 50%;z-index: -1;}#sk-container-id-1 div.sk-parallel-item {display: flex;flex-direction: column;z-index: 1;position: relative;background-color: white;}#sk-container-id-1 div.sk-parallel-item:first-child::after {align-self: flex-end;width: 50%;}#sk-container-id-1 div.sk-parallel-item:last-child::after {align-self: flex-start;width: 50%;}#sk-container-id-1 div.sk-parallel-item:only-child::after {width: 0;}#sk-container-id-1 div.sk-dashed-wrapped {border: 1px dashed gray;margin: 0 0.4em 0.5em 0.4em;box-sizing: border-box;padding-bottom: 0.4em;background-color: white;}#sk-container-id-1 div.sk-label label {font-family: monospace;font-weight: bold;display: inline-block;line-height: 1.2em;}#sk-container-id-1 div.sk-label-container {text-align: center;}#sk-container-id-1 div.sk-container {/* jupyter's `normalize.less` sets `[hidden] { display: none; }` but bootstrap.min.css set `[hidden] { display: none !important; }` so we also need the `!important` here to be able to override the default hidden behavior on the sphinx rendered scikit-learn.org. See: https://github.com/scikit-learn/scikit-learn/issues/21755 */display: inline-block !important;position: relative;}#sk-container-id-1 div.sk-text-repr-fallback {display: none;}</style><div id=\"sk-container-id-1\" class=\"sk-top-container\"><div class=\"sk-text-repr-fallback\"><pre>LabelEncoder()</pre><b>In a Jupyter environment, please rerun this cell to show the HTML representation or trust the notebook. <br />On GitHub, the HTML representation is unable to render, please try loading this page with nbviewer.org.</b></div><div class=\"sk-container\" hidden><div class=\"sk-item\"><div class=\"sk-estimator sk-toggleable\"><input class=\"sk-toggleable__control sk-hidden--visually\" id=\"sk-estimator-id-1\" type=\"checkbox\" checked><label for=\"sk-estimator-id-1\" class=\"sk-toggleable__label sk-toggleable__label-arrow\">LabelEncoder</label><div class=\"sk-toggleable__content\"><pre>LabelEncoder()</pre></div></div></div></div></div>"
      ],
      "text/plain": [
       "LabelEncoder()"
      ]
     },
     "execution_count": 37,
     "metadata": {},
     "output_type": "execute_result"
    }
   ],
   "source": [
    "le.fit(data[\"high_level_substr\"].values)"
   ]
  },
  {
   "cell_type": "code",
   "execution_count": 38,
   "id": "4fdeebd2",
   "metadata": {},
   "outputs": [
    {
     "name": "stderr",
     "output_type": "stream",
     "text": [
      "C:\\Users\\vedpi\\AppData\\Local\\Temp\\ipykernel_62136\\1281172400.py:1: SettingWithCopyWarning: \n",
      "A value is trying to be set on a copy of a slice from a DataFrame.\n",
      "Try using .loc[row_indexer,col_indexer] = value instead\n",
      "\n",
      "See the caveats in the documentation: https://pandas.pydata.org/pandas-docs/stable/user_guide/indexing.html#returning-a-view-versus-a-copy\n",
      "  data[\"high_level_substr\"] = le.transform(data[\"high_level_substr\"].values)\n"
     ]
    }
   ],
   "source": [
    "data[\"high_level_substr\"] = le.transform(data[\"high_level_substr\"].values)"
   ]
  },
  {
   "cell_type": "code",
   "execution_count": 39,
   "id": "d37b7992",
   "metadata": {},
   "outputs": [],
   "source": [
    "X_train, X_valid, y_train, y_valid = train_test_split(data[\"sig_gene_seq\"].values, \n",
    "                                                     data[\"high_level_substr\"].values, \n",
    "                                                    stratify= data[\"high_level_substr\"], test_size= 0.4)"
   ]
  },
  {
   "cell_type": "code",
   "execution_count": 40,
   "id": "6fe95843",
   "metadata": {},
   "outputs": [],
   "source": [
    "imp_model = non_recurrent_attention_model(len(order), False, model_cbow)"
   ]
  },
  {
   "cell_type": "code",
   "execution_count": null,
   "id": "21af8df3",
   "metadata": {},
   "outputs": [],
   "source": [
    "# imp_model.compile(loss = tf.keras.losses.SparseCategoricalCrossentropy(), \n",
    "#                  optimizer = tf.keras.optimizers.Adam(learning_rate = 1e-4), \n",
    "#                  metrics= \"accuracy\")"
   ]
  },
  {
   "cell_type": "code",
   "execution_count": 41,
   "id": "c339f194",
   "metadata": {},
   "outputs": [],
   "source": [
    "weights = 1/(data[\"high_level_substr\"].value_counts()/data[\"high_level_substr\"].value_counts().sum())"
   ]
  },
  {
   "cell_type": "code",
   "execution_count": 42,
   "id": "bc3c4fda",
   "metadata": {},
   "outputs": [],
   "source": [
    "weights = dict(weights)"
   ]
  },
  {
   "cell_type": "code",
   "execution_count": 43,
   "id": "5ec52313",
   "metadata": {
    "scrolled": false
   },
   "outputs": [
    {
     "name": "stdout",
     "output_type": "stream",
     "text": [
      "Epoch 1/1000\n",
      "100/100 [==============================] - 2s 19ms/step - loss: 11.8881 - accuracy: 0.3900 - val_loss: 1.4314 - val_accuracy: 0.6567\n",
      "Epoch 2/1000\n",
      "100/100 [==============================] - 2s 16ms/step - loss: 6.7814 - accuracy: 0.9000 - val_loss: 1.1060 - val_accuracy: 0.7463\n",
      "Epoch 3/1000\n",
      "100/100 [==============================] - 1s 15ms/step - loss: 4.1073 - accuracy: 0.9600 - val_loss: 0.9936 - val_accuracy: 0.7313\n",
      "Epoch 4/1000\n",
      "100/100 [==============================] - 1s 15ms/step - loss: 2.8087 - accuracy: 0.9700 - val_loss: 0.9439 - val_accuracy: 0.7463\n",
      "Epoch 5/1000\n",
      "100/100 [==============================] - 2s 15ms/step - loss: 2.0493 - accuracy: 0.9800 - val_loss: 0.9062 - val_accuracy: 0.7761\n",
      "Epoch 6/1000\n",
      "100/100 [==============================] - 1s 15ms/step - loss: 1.5673 - accuracy: 0.9800 - val_loss: 0.8838 - val_accuracy: 0.7761\n",
      "Epoch 7/1000\n",
      "100/100 [==============================] - 2s 15ms/step - loss: 1.2320 - accuracy: 0.9900 - val_loss: 0.8798 - val_accuracy: 0.7910\n",
      "Epoch 8/1000\n",
      "100/100 [==============================] - 1s 15ms/step - loss: 1.0034 - accuracy: 0.9900 - val_loss: 0.8865 - val_accuracy: 0.7761\n",
      "Epoch 9/1000\n",
      "100/100 [==============================] - 2s 16ms/step - loss: 0.8274 - accuracy: 0.9900 - val_loss: 0.8877 - val_accuracy: 0.8060\n",
      "Epoch 10/1000\n",
      "100/100 [==============================] - 1s 15ms/step - loss: 0.7059 - accuracy: 0.9900 - val_loss: 0.8875 - val_accuracy: 0.8060\n",
      "Epoch 11/1000\n",
      "100/100 [==============================] - 1s 14ms/step - loss: 0.6025 - accuracy: 0.9900 - val_loss: 0.8918 - val_accuracy: 0.8209\n",
      "Epoch 12/1000\n",
      "100/100 [==============================] - 2s 15ms/step - loss: 0.5279 - accuracy: 0.9900 - val_loss: 0.8977 - val_accuracy: 0.8209\n",
      "Epoch 13/1000\n",
      "100/100 [==============================] - 2s 15ms/step - loss: 0.4606 - accuracy: 0.9900 - val_loss: 0.9059 - val_accuracy: 0.7761\n",
      "Epoch 14/1000\n",
      "100/100 [==============================] - 1s 15ms/step - loss: 0.4134 - accuracy: 0.9900 - val_loss: 0.9265 - val_accuracy: 0.8358\n",
      "Epoch 15/1000\n",
      "100/100 [==============================] - 2s 17ms/step - loss: 0.4030 - accuracy: 0.9900 - val_loss: 0.9442 - val_accuracy: 0.7313\n",
      "Epoch 16/1000\n",
      "100/100 [==============================] - 2s 15ms/step - loss: 0.3499 - accuracy: 0.9900 - val_loss: 0.9643 - val_accuracy: 0.7463\n",
      "Epoch 17/1000\n",
      "100/100 [==============================] - 2s 15ms/step - loss: 0.3298 - accuracy: 0.9900 - val_loss: 0.9724 - val_accuracy: 0.7463\n",
      "Epoch 18/1000\n",
      "100/100 [==============================] - 2s 16ms/step - loss: 0.2968 - accuracy: 0.9900 - val_loss: 0.9823 - val_accuracy: 0.7463\n",
      "Epoch 19/1000\n",
      "100/100 [==============================] - 2s 16ms/step - loss: 0.2871 - accuracy: 0.9900 - val_loss: 0.9916 - val_accuracy: 0.7761\n",
      "Epoch 20/1000\n",
      "100/100 [==============================] - 2s 15ms/step - loss: 0.2652 - accuracy: 0.9900 - val_loss: 0.9999 - val_accuracy: 0.7910\n",
      "Epoch 21/1000\n",
      "100/100 [==============================] - 1s 15ms/step - loss: 0.2496 - accuracy: 0.9900 - val_loss: 1.0035 - val_accuracy: 0.7761\n",
      "Epoch 22/1000\n",
      "100/100 [==============================] - 1s 14ms/step - loss: 0.2295 - accuracy: 0.9900 - val_loss: 1.0795 - val_accuracy: 0.7164\n",
      "Epoch 23/1000\n",
      "100/100 [==============================] - 1s 15ms/step - loss: 0.2323 - accuracy: 0.9900 - val_loss: 1.0856 - val_accuracy: 0.7164\n",
      "Epoch 24/1000\n",
      "100/100 [==============================] - 1s 15ms/step - loss: 0.2097 - accuracy: 0.9900 - val_loss: 1.0920 - val_accuracy: 0.7164\n"
     ]
    },
    {
     "data": {
      "text/plain": [
       "<keras.callbacks.History at 0x21169093850>"
      ]
     },
     "execution_count": 43,
     "metadata": {},
     "output_type": "execute_result"
    }
   ],
   "source": [
    "imp_model.fit(X_train, y_train, epochs = 1000, \n",
    "             validation_data=(X_valid, y_valid), \n",
    "             batch_size = 1, \n",
    "             callbacks=tf.keras.callbacks.EarlyStopping(monitor=\"val_accuracy\", patience = 10, \n",
    "                                                       mode = \"max\", restore_best_weights=True), \n",
    "             class_weight=weights)"
   ]
  },
  {
   "cell_type": "code",
   "execution_count": null,
   "id": "a96156db",
   "metadata": {
    "scrolled": false
   },
   "outputs": [],
   "source": [
    "# imp_model.fit(X_train, y_train, epochs = 1000, \n",
    "#              validation_data=(X_valid, y_valid), \n",
    "#              batch_size = 1, \n",
    "#              callbacks=tf.keras.callbacks.EarlyStopping(monitor=\"val_loss\", patience = 10, \n",
    "#                                                        mode = \"min\", restore_best_weights=True))"
   ]
  },
  {
   "cell_type": "code",
   "execution_count": 44,
   "id": "f942b584",
   "metadata": {},
   "outputs": [
    {
     "name": "stdout",
     "output_type": "stream",
     "text": [
      "3/3 [==============================] - 0s 12ms/step\n"
     ]
    }
   ],
   "source": [
    "y_valid_preds = imp_model.predict(X_valid)"
   ]
  },
  {
   "cell_type": "code",
   "execution_count": 45,
   "id": "22e74616",
   "metadata": {},
   "outputs": [],
   "source": [
    "y_valid_preds = y_valid_preds.argmax(axis = 1)"
   ]
  },
  {
   "cell_type": "code",
   "execution_count": 46,
   "id": "512b01e3",
   "metadata": {},
   "outputs": [],
   "source": [
    "from sklearn.metrics import balanced_accuracy_score"
   ]
  },
  {
   "cell_type": "code",
   "execution_count": 47,
   "id": "5b5b58d5",
   "metadata": {},
   "outputs": [
    {
     "data": {
      "text/plain": [
       "0.8218537414965986"
      ]
     },
     "execution_count": 47,
     "metadata": {},
     "output_type": "execute_result"
    }
   ],
   "source": [
    "balanced_accuracy_score(y_valid, y_valid_preds)"
   ]
  },
  {
   "cell_type": "code",
   "execution_count": 48,
   "id": "7d253965",
   "metadata": {},
   "outputs": [
    {
     "data": {
      "text/plain": [
       "array(['alginate', 'beta-glucan', 'cellulose', 'host glycan', 'pectin',\n",
       "       'starch', 'xylan'], dtype=object)"
      ]
     },
     "execution_count": 48,
     "metadata": {},
     "output_type": "execute_result"
    }
   ],
   "source": [
    "le.classes_"
   ]
  },
  {
   "cell_type": "code",
   "execution_count": 49,
   "id": "ca10fe31",
   "metadata": {},
   "outputs": [],
   "source": [
    "y_valid_preds = le.inverse_transform(y_valid_preds)"
   ]
  },
  {
   "cell_type": "code",
   "execution_count": 50,
   "id": "59179422",
   "metadata": {},
   "outputs": [],
   "source": [
    "y_valid = le.inverse_transform(y_valid)"
   ]
  },
  {
   "cell_type": "code",
   "execution_count": 51,
   "id": "da349860",
   "metadata": {},
   "outputs": [],
   "source": [
    "import matplotlib.pyplot as plt"
   ]
  },
  {
   "cell_type": "code",
   "execution_count": 52,
   "id": "309fe060",
   "metadata": {},
   "outputs": [],
   "source": [
    "import seaborn as sns"
   ]
  },
  {
   "cell_type": "code",
   "execution_count": 53,
   "id": "3fe16614",
   "metadata": {},
   "outputs": [],
   "source": [
    "from sklearn.metrics import confusion_matrix"
   ]
  },
  {
   "cell_type": "code",
   "execution_count": 54,
   "id": "8adda199",
   "metadata": {},
   "outputs": [],
   "source": [
    "df_cm = confusion_matrix(y_valid, y_valid_preds,  normalize = 'true', labels = order)"
   ]
  },
  {
   "cell_type": "code",
   "execution_count": 55,
   "id": "df23b6d8",
   "metadata": {},
   "outputs": [],
   "source": [
    "df_cm = pd.DataFrame(df_cm, index = order,columns = order)"
   ]
  },
  {
   "cell_type": "code",
   "execution_count": 56,
   "id": "94e4092c",
   "metadata": {
    "scrolled": false
   },
   "outputs": [
    {
     "data": {
      "image/png": "[encoded data removed]",
      "text/plain": [
       "<Figure size 720x720 with 2 Axes>"
      ]
     },
     "metadata": {
      "needs_background": "light"
     },
     "output_type": "display_data"
    }
   ],
   "source": [
    "# make the plot\n",
    "fig = plt.figure(figsize = (10, 10))\n",
    "sns.heatmap(df_cm, annot = True,  annot_kws={\"fontsize\":12, \"weight\":\"bold\"})\n",
    "plt.title(\"10-fold averaged confusion matrix for BOW BRF model\", fontsize = 20 ,weight = \"bold\")\n",
    "plt.xlabel(\"Predicted Label\",  weight = \"bold\", fontsize = 20)\n",
    "plt.ylabel(\"True Label\", weight = \"bold\", fontsize = 20)\n",
    "plt.xticks(weight = \"bold\", fontsize = 15)\n",
    "plt.yticks(weight = \"bold\", fontsize = 15, rotation = 0)\n",
    "plt.show()"
   ]
  },
  {
   "cell_type": "code",
   "execution_count": 57,
   "id": "4827e28c",
   "metadata": {},
   "outputs": [
    {
     "name": "stdout",
     "output_type": "stream",
     "text": [
      "Model: \"model_10\"\n",
      "__________________________________________________________________________________________________\n",
      " Layer (type)                   Output Shape         Param #     Connected to                     \n",
      "==================================================================================================\n",
      " input_11 (InputLayer)          [(None, 1)]          0           []                               \n",
      "                                                                                                  \n",
      " text_vectorization_10 (TextVec  (None, None)        0           ['input_11[0][0]']               \n",
      " torization)                                                                                      \n",
      "                                                                                                  \n",
      " embedding_10 (Embedding)       (None, None, 300)    417000      ['text_vectorization_10[0][0]']  \n",
      "                                                                                                  \n",
      " tanh_mlp (Dense)               (None, None, 150)    45150       ['embedding_10[0][0]']           \n",
      "                                                                                                  \n",
      " dropout_20 (Dropout)           (None, None, 150)    0           ['tanh_mlp[0][0]']               \n",
      "                                                                                                  \n",
      " word-level_context (Dense)     (None, None, 1)      151         ['dropout_20[0][0]']             \n",
      "                                                                                                  \n",
      " flatten_10 (Flatten)           (None, None)         0           ['word-level_context[0][0]']     \n",
      "                                                                                                  \n",
      " activation_10 (Activation)     (None, None)         0           ['flatten_10[0][0]']             \n",
      "                                                                                                  \n",
      " repeat_vector_10 (RepeatVector  (None, 300, None)   0           ['activation_10[0][0]']          \n",
      " )                                                                                                \n",
      "                                                                                                  \n",
      " permute_10 (Permute)           (None, None, 300)    0           ['repeat_vector_10[0][0]']       \n",
      "                                                                                                  \n",
      " multiply_10 (Multiply)         (None, None, 300)    0           ['embedding_10[0][0]',           \n",
      "                                                                  'permute_10[0][0]']             \n",
      "                                                                                                  \n",
      " expectation_over_words (Lambda  (None, 300)         0           ['multiply_10[0][0]']            \n",
      " )                                                                                                \n",
      "                                                                                                  \n",
      " dropout_21 (Dropout)           (None, 300)          0           ['expectation_over_words[0][0]'] \n",
      "                                                                                                  \n",
      " dense_10 (Dense)               (None, 7)            2107        ['dropout_21[0][0]']             \n",
      "                                                                                                  \n",
      "==================================================================================================\n",
      "Total params: 464,408\n",
      "Trainable params: 47,408\n",
      "Non-trainable params: 417,000\n",
      "__________________________________________________________________________________________________\n"
     ]
    }
   ],
   "source": [
    "imp_model.summary()"
   ]
  },
  {
   "cell_type": "code",
   "execution_count": 58,
   "id": "f7cd0cee",
   "metadata": {},
   "outputs": [],
   "source": [
    "attention_out_model = tf.keras.models.Model(imp_model.input, imp_model.layers[7].output)"
   ]
  },
  {
   "cell_type": "code",
   "execution_count": 59,
   "id": "34968750",
   "metadata": {},
   "outputs": [
    {
     "name": "stdout",
     "output_type": "stream",
     "text": [
      "Model: \"model_11\"\n",
      "_________________________________________________________________\n",
      " Layer (type)                Output Shape              Param #   \n",
      "=================================================================\n",
      " input_11 (InputLayer)       [(None, 1)]               0         \n",
      "                                                                 \n",
      " text_vectorization_10 (Text  (None, None)             0         \n",
      " Vectorization)                                                  \n",
      "                                                                 \n",
      " embedding_10 (Embedding)    (None, None, 300)         417000    \n",
      "                                                                 \n",
      " tanh_mlp (Dense)            (None, None, 150)         45150     \n",
      "                                                                 \n",
      " dropout_20 (Dropout)        (None, None, 150)         0         \n",
      "                                                                 \n",
      " word-level_context (Dense)  (None, None, 1)           151       \n",
      "                                                                 \n",
      " flatten_10 (Flatten)        (None, None)              0         \n",
      "                                                                 \n",
      " activation_10 (Activation)  (None, None)              0         \n",
      "                                                                 \n",
      "=================================================================\n",
      "Total params: 462,301\n",
      "Trainable params: 45,301\n",
      "Non-trainable params: 417,000\n",
      "_________________________________________________________________\n"
     ]
    }
   ],
   "source": [
    "attention_out_model.summary()"
   ]
  },
  {
   "cell_type": "code",
   "execution_count": null,
   "id": "cc4e18ce",
   "metadata": {},
   "outputs": [],
   "source": [
    "# correct_indexes = [i for i, item in enumerate(y_valid) if item in ['capsule polysaccharide synthesis', 'xylan']]"
   ]
  },
  {
   "cell_type": "code",
   "execution_count": null,
   "id": "986d1f21",
   "metadata": {},
   "outputs": [],
   "source": [
    "# xylan_cap_poly_seqs = X_valid[correct_indexes]"
   ]
  },
  {
   "cell_type": "code",
   "execution_count": null,
   "id": "fdca8aa1",
   "metadata": {},
   "outputs": [],
   "source": [
    "# xylan_cap_poly_target = y_valid[correct_indexes]"
   ]
  },
  {
   "cell_type": "code",
   "execution_count": 62,
   "id": "b056db24",
   "metadata": {},
   "outputs": [],
   "source": [
    "correct_idx = y_valid == y_valid_preds"
   ]
  },
  {
   "cell_type": "code",
   "execution_count": 64,
   "id": "6d3e64b2",
   "metadata": {},
   "outputs": [],
   "source": [
    "import numpy as np"
   ]
  },
  {
   "cell_type": "code",
   "execution_count": 68,
   "id": "5835f23a",
   "metadata": {},
   "outputs": [
    {
     "data": {
      "text/plain": [
       "67"
      ]
     },
     "execution_count": 68,
     "metadata": {},
     "output_type": "execute_result"
    }
   ],
   "source": [
    "len(y_valid)"
   ]
  },
  {
   "cell_type": "code",
   "execution_count": 70,
   "id": "f6fd74b7",
   "metadata": {},
   "outputs": [],
   "source": [
    "correct_idx = np.where(y_valid == y_valid_preds)[0]"
   ]
  },
  {
   "cell_type": "code",
   "execution_count": 71,
   "id": "854db8e7",
   "metadata": {},
   "outputs": [
    {
     "data": {
      "text/plain": [
       "array([ 0,  1,  2,  3,  4,  5,  6,  9, 10, 11, 12, 13, 14, 16, 17, 18, 19,\n",
       "       20, 22, 23, 24, 26, 27, 28, 29, 30, 31, 32, 33, 34, 35, 37, 39, 41,\n",
       "       42, 43, 44, 45, 46, 48, 49, 50, 52, 53, 54, 55, 57, 58, 59, 60, 61,\n",
       "       62, 63, 64, 65, 66], dtype=int64)"
      ]
     },
     "execution_count": 71,
     "metadata": {},
     "output_type": "execute_result"
    }
   ],
   "source": [
    "correct_idx"
   ]
  },
  {
   "cell_type": "code",
   "execution_count": 74,
   "id": "2d008277",
   "metadata": {},
   "outputs": [],
   "source": [
    "# get the correct sequences\n",
    "X_valid_correct = X_valid[correct_idx]"
   ]
  },
  {
   "cell_type": "code",
   "execution_count": 75,
   "id": "1c524747",
   "metadata": {},
   "outputs": [],
   "source": [
    "# get the correct targets\n",
    "correct_targets = y_valid[correct_idx]"
   ]
  },
  {
   "cell_type": "code",
   "execution_count": 76,
   "id": "f76b1f22",
   "metadata": {},
   "outputs": [
    {
     "data": {
      "text/plain": [
       "array(['host glycan', 'alginate', 'pectin', 'xylan', 'starch', 'xylan',\n",
       "       'cellulose', 'cellulose', 'alginate', 'beta-glucan', 'beta-glucan',\n",
       "       'alginate', 'beta-glucan', 'xylan', 'xylan', 'xylan',\n",
       "       'host glycan', 'alginate', 'host glycan', 'pectin', 'host glycan',\n",
       "       'xylan', 'xylan', 'xylan', 'pectin', 'starch', 'pectin',\n",
       "       'beta-glucan', 'alginate', 'xylan', 'host glycan', 'starch',\n",
       "       'alginate', 'starch', 'beta-glucan', 'xylan', 'pectin',\n",
       "       'host glycan', 'host glycan', 'pectin', 'pectin', 'pectin',\n",
       "       'xylan', 'pectin', 'xylan', 'beta-glucan', 'pectin', 'beta-glucan',\n",
       "       'starch', 'alginate', 'pectin', 'alginate', 'pectin', 'starch',\n",
       "       'alginate', 'pectin'], dtype=object)"
      ]
     },
     "execution_count": 76,
     "metadata": {},
     "output_type": "execute_result"
    }
   ],
   "source": [
    "correct_targets"
   ]
  },
  {
   "cell_type": "code",
   "execution_count": 79,
   "id": "ca648d85",
   "metadata": {},
   "outputs": [
    {
     "name": "stdout",
     "output_type": "stream",
     "text": [
      "56/56 [==============================] - 1s 7ms/step\n"
     ]
    }
   ],
   "source": [
    "attention_scores = attention_out_model.predict(X_valid_correct, batch_size=1)"
   ]
  },
  {
   "cell_type": "code",
   "execution_count": 80,
   "id": "52752025",
   "metadata": {},
   "outputs": [],
   "source": [
    "import numpy as np"
   ]
  },
  {
   "cell_type": "code",
   "execution_count": 82,
   "id": "625a6175",
   "metadata": {},
   "outputs": [],
   "source": [
    "# scores.numpy()"
   ]
  },
  {
   "cell_type": "code",
   "execution_count": 83,
   "id": "a657b7b9",
   "metadata": {},
   "outputs": [],
   "source": [
    "top_3_genes = []\n",
    "top_3_scores = []\n",
    "for idx, seq in enumerate(X_valid_correct): \n",
    "    genes = seq.split()\n",
    "    genes = np.array(genes)\n",
    "    scores = attention_scores[idx].numpy()\n",
    "    order = scores.argsort()[::-1]\n",
    "    top_3 = order[:3].tolist()\n",
    "    genes_top_3 = genes[top_3]\n",
    "    scores_top_3 = scores[top_3]\n",
    "    top_3_scores.append(scores_top_3.tolist())\n",
    "    top_3_genes.append(genes_top_3.tolist())"
   ]
  },
  {
   "cell_type": "code",
   "execution_count": 84,
   "id": "e3ea8aef",
   "metadata": {},
   "outputs": [
    {
     "data": {
      "text/plain": [
       "array(['alginate', 'beta-glucan', 'cellulose', 'host glycan', 'pectin',\n",
       "       'starch', 'xylan'], dtype=object)"
      ]
     },
     "execution_count": 84,
     "metadata": {},
     "output_type": "execute_result"
    }
   ],
   "source": [
    "le.classes_"
   ]
  },
  {
   "cell_type": "code",
   "execution_count": 87,
   "id": "bd0dfae0",
   "metadata": {},
   "outputs": [
    {
     "name": "stderr",
     "output_type": "stream",
     "text": [
      "C:\\Users\\vedpi\\AppData\\Local\\Temp\\ipykernel_62136\\3186910887.py:1: FutureWarning: In a future version of pandas all arguments of concat except for the argument 'objs' will be keyword-only.\n",
      "  importances_df = pd.concat([pd.DataFrame(X_valid_correct), pd.DataFrame(correct_targets) , pd.DataFrame(top_3_genes),\n"
     ]
    }
   ],
   "source": [
    "importances_df = pd.concat([pd.DataFrame(X_valid_correct), pd.DataFrame(correct_targets) , pd.DataFrame(top_3_genes),\n",
    "           pd.DataFrame(top_3_scores)], 1, ignore_index = True)"
   ]
  },
  {
   "cell_type": "code",
   "execution_count": null,
   "id": "180d2cc5",
   "metadata": {},
   "outputs": [],
   "source": [
    "# importances_df.columns = [\"cazymes_predicted_dbcan\", \"ground_truth_high_level_substrates\" ,\n",
    "#                          \"first_most_imp_gene\", \"score_first_most_imp_gene\"]"
   ]
  },
  {
   "cell_type": "code",
   "execution_count": 89,
   "id": "b6363892",
   "metadata": {},
   "outputs": [],
   "source": [
    "importances_df.columns = [\"cazymes_predicted_dbcan\", \"ground_truth_high_level_substrates\" ,\n",
    "                         \"first_most_imp_gene\", \"second_most_imp_gene\", \"third_most_imp_gene\", \n",
    "                         \"score_first_most_imp_gene\", \"score_second_most_imp_gene\", \"score_third_most_imp_gene\"]"
   ]
  },
  {
   "cell_type": "code",
   "execution_count": 165,
   "id": "a2d9e1ef",
   "metadata": {},
   "outputs": [
    {
     "data": {
      "text/html": [
       "<div>\n",
       "<style scoped>\n",
       "    .dataframe tbody tr th:only-of-type {\n",
       "        vertical-align: middle;\n",
       "    }\n",
       "\n",
       "    .dataframe tbody tr th {\n",
       "        vertical-align: top;\n",
       "    }\n",
       "\n",
       "    .dataframe thead th {\n",
       "        text-align: right;\n",
       "    }\n",
       "</style>\n",
       "<table border=\"1\" class=\"dataframe\">\n",
       "  <thead>\n",
       "    <tr style=\"text-align: right;\">\n",
       "      <th></th>\n",
       "      <th>cazymes_predicted_dbcan</th>\n",
       "      <th>ground_truth_high_level_substrates</th>\n",
       "      <th>first_most_imp_gene</th>\n",
       "      <th>second_most_imp_gene</th>\n",
       "      <th>third_most_imp_gene</th>\n",
       "      <th>score_first_most_imp_gene</th>\n",
       "      <th>score_second_most_imp_gene</th>\n",
       "      <th>score_third_most_imp_gene</th>\n",
       "    </tr>\n",
       "  </thead>\n",
       "  <tbody>\n",
       "    <tr>\n",
       "      <th>0</th>\n",
       "      <td>PL8 null null null PfkB null GH88 4.A.6 4.A.6 ...</td>\n",
       "      <td>host glycan</td>\n",
       "      <td>PL8</td>\n",
       "      <td>GH88</td>\n",
       "      <td>PfkB</td>\n",
       "      <td>0.748871</td>\n",
       "      <td>0.248819</td>\n",
       "      <td>0.001039</td>\n",
       "    </tr>\n",
       "    <tr>\n",
       "      <th>1</th>\n",
       "      <td>PL6 PL6_1 PL7_5 PL6 PL6_1</td>\n",
       "      <td>alginate</td>\n",
       "      <td>PL6_1</td>\n",
       "      <td>PL6_1</td>\n",
       "      <td>PL6</td>\n",
       "      <td>0.479648</td>\n",
       "      <td>0.479648</td>\n",
       "      <td>0.014396</td>\n",
       "    </tr>\n",
       "    <tr>\n",
       "      <th>2</th>\n",
       "      <td>HTH_AraC null GH2 GH139 null GH106 null 3.A.3 ...</td>\n",
       "      <td>pectin</td>\n",
       "      <td>GH28</td>\n",
       "      <td>PL1_2</td>\n",
       "      <td>GH139</td>\n",
       "      <td>0.983418</td>\n",
       "      <td>0.009693</td>\n",
       "      <td>0.001557</td>\n",
       "    </tr>\n",
       "    <tr>\n",
       "      <th>3</th>\n",
       "      <td>null null null null null null GH10 3.A.12 ATPa...</td>\n",
       "      <td>xylan</td>\n",
       "      <td>GH10</td>\n",
       "      <td>GH10</td>\n",
       "      <td>ATPase_2</td>\n",
       "      <td>0.416738</td>\n",
       "      <td>0.416738</td>\n",
       "      <td>0.105152</td>\n",
       "    </tr>\n",
       "    <tr>\n",
       "      <th>4</th>\n",
       "      <td>GH13_10 null null 8.A.46 1.B.14 GH97 GH13</td>\n",
       "      <td>starch</td>\n",
       "      <td>GH13</td>\n",
       "      <td>GH13_10</td>\n",
       "      <td>GH97</td>\n",
       "      <td>0.972986</td>\n",
       "      <td>0.026256</td>\n",
       "      <td>0.000314</td>\n",
       "    </tr>\n",
       "  </tbody>\n",
       "</table>\n",
       "</div>"
      ],
      "text/plain": [
       "                             cazymes_predicted_dbcan  \\\n",
       "0  PL8 null null null PfkB null GH88 4.A.6 4.A.6 ...   \n",
       "1                          PL6 PL6_1 PL7_5 PL6 PL6_1   \n",
       "2  HTH_AraC null GH2 GH139 null GH106 null 3.A.3 ...   \n",
       "3  null null null null null null GH10 3.A.12 ATPa...   \n",
       "4          GH13_10 null null 8.A.46 1.B.14 GH97 GH13   \n",
       "\n",
       "  ground_truth_high_level_substrates first_most_imp_gene second_most_imp_gene  \\\n",
       "0                        host glycan                 PL8                 GH88   \n",
       "1                           alginate               PL6_1                PL6_1   \n",
       "2                             pectin                GH28                PL1_2   \n",
       "3                              xylan                GH10                 GH10   \n",
       "4                             starch                GH13              GH13_10   \n",
       "\n",
       "  third_most_imp_gene  score_first_most_imp_gene  score_second_most_imp_gene  \\\n",
       "0                PfkB                   0.748871                    0.248819   \n",
       "1                 PL6                   0.479648                    0.479648   \n",
       "2               GH139                   0.983418                    0.009693   \n",
       "3            ATPase_2                   0.416738                    0.416738   \n",
       "4                GH97                   0.972986                    0.026256   \n",
       "\n",
       "   score_third_most_imp_gene  \n",
       "0                   0.001039  \n",
       "1                   0.014396  \n",
       "2                   0.001557  \n",
       "3                   0.105152  \n",
       "4                   0.000314  "
      ]
     },
     "execution_count": 165,
     "metadata": {},
     "output_type": "execute_result"
    }
   ],
   "source": [
    "importances_df.head()"
   ]
  },
  {
   "cell_type": "code",
   "execution_count": null,
   "id": "3234c2ba",
   "metadata": {},
   "outputs": [],
   "source": [
    "# importances_df.to_csv(\"signature_genes_with_scores_for_SOME_xylan_capsule_poly_sequences_for_train_set.csv\", index = False)"
   ]
  },
  {
   "cell_type": "code",
   "execution_count": 189,
   "id": "eee6380c",
   "metadata": {},
   "outputs": [],
   "source": [
    "first_story = importances_df.groupby([\"ground_truth_high_level_substrates\", \"first_most_imp_gene\"])[\"score_first_most_imp_gene\"].aggregate({\"count\", \"mean\"})"
   ]
  },
  {
   "cell_type": "code",
   "execution_count": 190,
   "id": "f5fe1005",
   "metadata": {},
   "outputs": [],
   "source": [
    "first_story = first_story[[\"count\", \"mean\"]]"
   ]
  },
  {
   "cell_type": "code",
   "execution_count": 191,
   "id": "552e3b9c",
   "metadata": {},
   "outputs": [],
   "source": [
    "first_story.columns = [\"count_first_most_imp_gene\", \"avg_importance_score_first_most_imp_gene\"]"
   ]
  },
  {
   "cell_type": "code",
   "execution_count": 192,
   "id": "b59eaa91",
   "metadata": {},
   "outputs": [],
   "source": [
    "first_story = first_story.reset_index()"
   ]
  },
  {
   "cell_type": "code",
   "execution_count": 193,
   "id": "2668d1a8",
   "metadata": {},
   "outputs": [],
   "source": [
    "first_story = first_story.sort_values([\"ground_truth_high_level_substrates\", \"count_first_most_imp_gene\", \"avg_importance_score_first_most_imp_gene\"], \n",
    "                       ascending = [True, False, False])"
   ]
  },
  {
   "cell_type": "code",
   "execution_count": 194,
   "id": "e18e3247",
   "metadata": {},
   "outputs": [],
   "source": [
    "count_correct = pd.DataFrame(correct_targets)[0].value_counts().reset_index()"
   ]
  },
  {
   "cell_type": "code",
   "execution_count": 195,
   "id": "6132d4cc",
   "metadata": {},
   "outputs": [],
   "source": [
    "count_correct.columns = [\"ground_truth_high_level_substrates\", \"count\"]"
   ]
  },
  {
   "cell_type": "code",
   "execution_count": 196,
   "id": "677075a4",
   "metadata": {},
   "outputs": [],
   "source": [
    "first_story = first_story.merge(count_correct, on  = [\"ground_truth_high_level_substrates\"], how = \"left\")"
   ]
  },
  {
   "cell_type": "code",
   "execution_count": 197,
   "id": "ac0c66b2",
   "metadata": {},
   "outputs": [],
   "source": [
    "first_story[\"proportion\"] = first_story[\"count_first_most_imp_gene\"]/first_story[\"count\"]"
   ]
  },
  {
   "cell_type": "code",
   "execution_count": 198,
   "id": "655161e1",
   "metadata": {},
   "outputs": [
    {
     "data": {
      "text/html": [
       "<div>\n",
       "<style scoped>\n",
       "    .dataframe tbody tr th:only-of-type {\n",
       "        vertical-align: middle;\n",
       "    }\n",
       "\n",
       "    .dataframe tbody tr th {\n",
       "        vertical-align: top;\n",
       "    }\n",
       "\n",
       "    .dataframe thead th {\n",
       "        text-align: right;\n",
       "    }\n",
       "</style>\n",
       "<table border=\"1\" class=\"dataframe\">\n",
       "  <thead>\n",
       "    <tr style=\"text-align: right;\">\n",
       "      <th></th>\n",
       "      <th>ground_truth_high_level_substrates</th>\n",
       "      <th>first_most_imp_gene</th>\n",
       "      <th>count_first_most_imp_gene</th>\n",
       "      <th>avg_importance_score_first_most_imp_gene</th>\n",
       "      <th>count</th>\n",
       "      <th>proportion</th>\n",
       "    </tr>\n",
       "  </thead>\n",
       "  <tbody>\n",
       "    <tr>\n",
       "      <th>0</th>\n",
       "      <td>alginate</td>\n",
       "      <td>PL17</td>\n",
       "      <td>6</td>\n",
       "      <td>0.867791</td>\n",
       "      <td>9</td>\n",
       "      <td>0.666667</td>\n",
       "    </tr>\n",
       "    <tr>\n",
       "      <th>1</th>\n",
       "      <td>alginate</td>\n",
       "      <td>PL7</td>\n",
       "      <td>1</td>\n",
       "      <td>0.943209</td>\n",
       "      <td>9</td>\n",
       "      <td>0.111111</td>\n",
       "    </tr>\n",
       "    <tr>\n",
       "      <th>2</th>\n",
       "      <td>alginate</td>\n",
       "      <td>PL5_1</td>\n",
       "      <td>1</td>\n",
       "      <td>0.679251</td>\n",
       "      <td>9</td>\n",
       "      <td>0.111111</td>\n",
       "    </tr>\n",
       "    <tr>\n",
       "      <th>3</th>\n",
       "      <td>alginate</td>\n",
       "      <td>PL6_1</td>\n",
       "      <td>1</td>\n",
       "      <td>0.479648</td>\n",
       "      <td>9</td>\n",
       "      <td>0.111111</td>\n",
       "    </tr>\n",
       "    <tr>\n",
       "      <th>4</th>\n",
       "      <td>beta-glucan</td>\n",
       "      <td>GH16</td>\n",
       "      <td>2</td>\n",
       "      <td>0.749974</td>\n",
       "      <td>7</td>\n",
       "      <td>0.285714</td>\n",
       "    </tr>\n",
       "    <tr>\n",
       "      <th>5</th>\n",
       "      <td>beta-glucan</td>\n",
       "      <td>GH30_3</td>\n",
       "      <td>2</td>\n",
       "      <td>0.633315</td>\n",
       "      <td>7</td>\n",
       "      <td>0.285714</td>\n",
       "    </tr>\n",
       "    <tr>\n",
       "      <th>6</th>\n",
       "      <td>beta-glucan</td>\n",
       "      <td>Peripla_BP_3</td>\n",
       "      <td>1</td>\n",
       "      <td>0.998213</td>\n",
       "      <td>7</td>\n",
       "      <td>0.142857</td>\n",
       "    </tr>\n",
       "    <tr>\n",
       "      <th>7</th>\n",
       "      <td>beta-glucan</td>\n",
       "      <td>GH158</td>\n",
       "      <td>1</td>\n",
       "      <td>0.562459</td>\n",
       "      <td>7</td>\n",
       "      <td>0.142857</td>\n",
       "    </tr>\n",
       "    <tr>\n",
       "      <th>8</th>\n",
       "      <td>beta-glucan</td>\n",
       "      <td>CBM4</td>\n",
       "      <td>1</td>\n",
       "      <td>0.167258</td>\n",
       "      <td>7</td>\n",
       "      <td>0.142857</td>\n",
       "    </tr>\n",
       "    <tr>\n",
       "      <th>9</th>\n",
       "      <td>cellulose</td>\n",
       "      <td>GH5_7</td>\n",
       "      <td>1</td>\n",
       "      <td>0.992431</td>\n",
       "      <td>2</td>\n",
       "      <td>0.500000</td>\n",
       "    </tr>\n",
       "    <tr>\n",
       "      <th>10</th>\n",
       "      <td>cellulose</td>\n",
       "      <td>GH5_4</td>\n",
       "      <td>1</td>\n",
       "      <td>0.886826</td>\n",
       "      <td>2</td>\n",
       "      <td>0.500000</td>\n",
       "    </tr>\n",
       "    <tr>\n",
       "      <th>11</th>\n",
       "      <td>host glycan</td>\n",
       "      <td>GH20</td>\n",
       "      <td>3</td>\n",
       "      <td>0.769360</td>\n",
       "      <td>7</td>\n",
       "      <td>0.428571</td>\n",
       "    </tr>\n",
       "    <tr>\n",
       "      <th>12</th>\n",
       "      <td>host glycan</td>\n",
       "      <td>FecR</td>\n",
       "      <td>2</td>\n",
       "      <td>0.817595</td>\n",
       "      <td>7</td>\n",
       "      <td>0.285714</td>\n",
       "    </tr>\n",
       "    <tr>\n",
       "      <th>13</th>\n",
       "      <td>host glycan</td>\n",
       "      <td>GH163</td>\n",
       "      <td>1</td>\n",
       "      <td>0.999175</td>\n",
       "      <td>7</td>\n",
       "      <td>0.142857</td>\n",
       "    </tr>\n",
       "    <tr>\n",
       "      <th>14</th>\n",
       "      <td>host glycan</td>\n",
       "      <td>PL8</td>\n",
       "      <td>1</td>\n",
       "      <td>0.748871</td>\n",
       "      <td>7</td>\n",
       "      <td>0.142857</td>\n",
       "    </tr>\n",
       "    <tr>\n",
       "      <th>15</th>\n",
       "      <td>pectin</td>\n",
       "      <td>CE12</td>\n",
       "      <td>4</td>\n",
       "      <td>0.489499</td>\n",
       "      <td>13</td>\n",
       "      <td>0.307692</td>\n",
       "    </tr>\n",
       "    <tr>\n",
       "      <th>16</th>\n",
       "      <td>pectin</td>\n",
       "      <td>GH28</td>\n",
       "      <td>2</td>\n",
       "      <td>0.991708</td>\n",
       "      <td>13</td>\n",
       "      <td>0.153846</td>\n",
       "    </tr>\n",
       "    <tr>\n",
       "      <th>17</th>\n",
       "      <td>pectin</td>\n",
       "      <td>GH53</td>\n",
       "      <td>2</td>\n",
       "      <td>0.936298</td>\n",
       "      <td>13</td>\n",
       "      <td>0.153846</td>\n",
       "    </tr>\n",
       "    <tr>\n",
       "      <th>18</th>\n",
       "      <td>pectin</td>\n",
       "      <td>PL1_2</td>\n",
       "      <td>2</td>\n",
       "      <td>0.932493</td>\n",
       "      <td>13</td>\n",
       "      <td>0.153846</td>\n",
       "    </tr>\n",
       "    <tr>\n",
       "      <th>19</th>\n",
       "      <td>pectin</td>\n",
       "      <td>PL9_1</td>\n",
       "      <td>1</td>\n",
       "      <td>0.979678</td>\n",
       "      <td>13</td>\n",
       "      <td>0.076923</td>\n",
       "    </tr>\n",
       "    <tr>\n",
       "      <th>20</th>\n",
       "      <td>pectin</td>\n",
       "      <td>CE8</td>\n",
       "      <td>1</td>\n",
       "      <td>0.942077</td>\n",
       "      <td>13</td>\n",
       "      <td>0.076923</td>\n",
       "    </tr>\n",
       "    <tr>\n",
       "      <th>21</th>\n",
       "      <td>pectin</td>\n",
       "      <td>GH3</td>\n",
       "      <td>1</td>\n",
       "      <td>0.657381</td>\n",
       "      <td>13</td>\n",
       "      <td>0.076923</td>\n",
       "    </tr>\n",
       "    <tr>\n",
       "      <th>22</th>\n",
       "      <td>starch</td>\n",
       "      <td>8.A.9</td>\n",
       "      <td>3</td>\n",
       "      <td>0.663195</td>\n",
       "      <td>6</td>\n",
       "      <td>0.500000</td>\n",
       "    </tr>\n",
       "    <tr>\n",
       "      <th>23</th>\n",
       "      <td>starch</td>\n",
       "      <td>GH13</td>\n",
       "      <td>1</td>\n",
       "      <td>0.972986</td>\n",
       "      <td>6</td>\n",
       "      <td>0.166667</td>\n",
       "    </tr>\n",
       "    <tr>\n",
       "      <th>24</th>\n",
       "      <td>starch</td>\n",
       "      <td>GH13_10</td>\n",
       "      <td>1</td>\n",
       "      <td>0.968755</td>\n",
       "      <td>6</td>\n",
       "      <td>0.166667</td>\n",
       "    </tr>\n",
       "    <tr>\n",
       "      <th>25</th>\n",
       "      <td>starch</td>\n",
       "      <td>GH13_41</td>\n",
       "      <td>1</td>\n",
       "      <td>0.799940</td>\n",
       "      <td>6</td>\n",
       "      <td>0.166667</td>\n",
       "    </tr>\n",
       "    <tr>\n",
       "      <th>26</th>\n",
       "      <td>xylan</td>\n",
       "      <td>GH67</td>\n",
       "      <td>3</td>\n",
       "      <td>0.999481</td>\n",
       "      <td>12</td>\n",
       "      <td>0.250000</td>\n",
       "    </tr>\n",
       "    <tr>\n",
       "      <th>27</th>\n",
       "      <td>xylan</td>\n",
       "      <td>GH43_10</td>\n",
       "      <td>2</td>\n",
       "      <td>0.956900</td>\n",
       "      <td>12</td>\n",
       "      <td>0.166667</td>\n",
       "    </tr>\n",
       "    <tr>\n",
       "      <th>28</th>\n",
       "      <td>xylan</td>\n",
       "      <td>GH43_1</td>\n",
       "      <td>2</td>\n",
       "      <td>0.875857</td>\n",
       "      <td>12</td>\n",
       "      <td>0.166667</td>\n",
       "    </tr>\n",
       "    <tr>\n",
       "      <th>29</th>\n",
       "      <td>xylan</td>\n",
       "      <td>GH10</td>\n",
       "      <td>2</td>\n",
       "      <td>0.623783</td>\n",
       "      <td>12</td>\n",
       "      <td>0.166667</td>\n",
       "    </tr>\n",
       "    <tr>\n",
       "      <th>30</th>\n",
       "      <td>xylan</td>\n",
       "      <td>GH51</td>\n",
       "      <td>1</td>\n",
       "      <td>0.986269</td>\n",
       "      <td>12</td>\n",
       "      <td>0.083333</td>\n",
       "    </tr>\n",
       "    <tr>\n",
       "      <th>31</th>\n",
       "      <td>xylan</td>\n",
       "      <td>GH43_7</td>\n",
       "      <td>1</td>\n",
       "      <td>0.806098</td>\n",
       "      <td>12</td>\n",
       "      <td>0.083333</td>\n",
       "    </tr>\n",
       "    <tr>\n",
       "      <th>32</th>\n",
       "      <td>xylan</td>\n",
       "      <td>GH43_11</td>\n",
       "      <td>1</td>\n",
       "      <td>0.585377</td>\n",
       "      <td>12</td>\n",
       "      <td>0.083333</td>\n",
       "    </tr>\n",
       "  </tbody>\n",
       "</table>\n",
       "</div>"
      ],
      "text/plain": [
       "   ground_truth_high_level_substrates first_most_imp_gene  \\\n",
       "0                            alginate                PL17   \n",
       "1                            alginate                 PL7   \n",
       "2                            alginate               PL5_1   \n",
       "3                            alginate               PL6_1   \n",
       "4                         beta-glucan                GH16   \n",
       "5                         beta-glucan              GH30_3   \n",
       "6                         beta-glucan        Peripla_BP_3   \n",
       "7                         beta-glucan               GH158   \n",
       "8                         beta-glucan                CBM4   \n",
       "9                           cellulose               GH5_7   \n",
       "10                          cellulose               GH5_4   \n",
       "11                        host glycan                GH20   \n",
       "12                        host glycan                FecR   \n",
       "13                        host glycan               GH163   \n",
       "14                        host glycan                 PL8   \n",
       "15                             pectin                CE12   \n",
       "16                             pectin                GH28   \n",
       "17                             pectin                GH53   \n",
       "18                             pectin               PL1_2   \n",
       "19                             pectin               PL9_1   \n",
       "20                             pectin                 CE8   \n",
       "21                             pectin                 GH3   \n",
       "22                             starch               8.A.9   \n",
       "23                             starch                GH13   \n",
       "24                             starch             GH13_10   \n",
       "25                             starch             GH13_41   \n",
       "26                              xylan                GH67   \n",
       "27                              xylan             GH43_10   \n",
       "28                              xylan              GH43_1   \n",
       "29                              xylan                GH10   \n",
       "30                              xylan                GH51   \n",
       "31                              xylan              GH43_7   \n",
       "32                              xylan             GH43_11   \n",
       "\n",
       "    count_first_most_imp_gene  avg_importance_score_first_most_imp_gene  \\\n",
       "0                           6                                  0.867791   \n",
       "1                           1                                  0.943209   \n",
       "2                           1                                  0.679251   \n",
       "3                           1                                  0.479648   \n",
       "4                           2                                  0.749974   \n",
       "5                           2                                  0.633315   \n",
       "6                           1                                  0.998213   \n",
       "7                           1                                  0.562459   \n",
       "8                           1                                  0.167258   \n",
       "9                           1                                  0.992431   \n",
       "10                          1                                  0.886826   \n",
       "11                          3                                  0.769360   \n",
       "12                          2                                  0.817595   \n",
       "13                          1                                  0.999175   \n",
       "14                          1                                  0.748871   \n",
       "15                          4                                  0.489499   \n",
       "16                          2                                  0.991708   \n",
       "17                          2                                  0.936298   \n",
       "18                          2                                  0.932493   \n",
       "19                          1                                  0.979678   \n",
       "20                          1                                  0.942077   \n",
       "21                          1                                  0.657381   \n",
       "22                          3                                  0.663195   \n",
       "23                          1                                  0.972986   \n",
       "24                          1                                  0.968755   \n",
       "25                          1                                  0.799940   \n",
       "26                          3                                  0.999481   \n",
       "27                          2                                  0.956900   \n",
       "28                          2                                  0.875857   \n",
       "29                          2                                  0.623783   \n",
       "30                          1                                  0.986269   \n",
       "31                          1                                  0.806098   \n",
       "32                          1                                  0.585377   \n",
       "\n",
       "    count  proportion  \n",
       "0       9    0.666667  \n",
       "1       9    0.111111  \n",
       "2       9    0.111111  \n",
       "3       9    0.111111  \n",
       "4       7    0.285714  \n",
       "5       7    0.285714  \n",
       "6       7    0.142857  \n",
       "7       7    0.142857  \n",
       "8       7    0.142857  \n",
       "9       2    0.500000  \n",
       "10      2    0.500000  \n",
       "11      7    0.428571  \n",
       "12      7    0.285714  \n",
       "13      7    0.142857  \n",
       "14      7    0.142857  \n",
       "15     13    0.307692  \n",
       "16     13    0.153846  \n",
       "17     13    0.153846  \n",
       "18     13    0.153846  \n",
       "19     13    0.076923  \n",
       "20     13    0.076923  \n",
       "21     13    0.076923  \n",
       "22      6    0.500000  \n",
       "23      6    0.166667  \n",
       "24      6    0.166667  \n",
       "25      6    0.166667  \n",
       "26     12    0.250000  \n",
       "27     12    0.166667  \n",
       "28     12    0.166667  \n",
       "29     12    0.166667  \n",
       "30     12    0.083333  \n",
       "31     12    0.083333  \n",
       "32     12    0.083333  "
      ]
     },
     "execution_count": 198,
     "metadata": {},
     "output_type": "execute_result"
    }
   ],
   "source": [
    "first_story"
   ]
  },
  {
   "cell_type": "code",
   "execution_count": 199,
   "id": "893587d1",
   "metadata": {},
   "outputs": [],
   "source": [
    "first_story = first_story.sort_values([\"ground_truth_high_level_substrates\", \"proportion\", \"avg_importance_score_first_most_imp_gene\"], \n",
    "                                     ascending = [True, False, False])"
   ]
  },
  {
   "cell_type": "code",
   "execution_count": 200,
   "id": "b863150f",
   "metadata": {},
   "outputs": [],
   "source": [
    "first_story = first_story.groupby('ground_truth_high_level_substrates').head(2).reset_index(drop=True)"
   ]
  },
  {
   "cell_type": "code",
   "execution_count": 201,
   "id": "4e4689e1",
   "metadata": {},
   "outputs": [
    {
     "data": {
      "text/html": [
       "<div>\n",
       "<style scoped>\n",
       "    .dataframe tbody tr th:only-of-type {\n",
       "        vertical-align: middle;\n",
       "    }\n",
       "\n",
       "    .dataframe tbody tr th {\n",
       "        vertical-align: top;\n",
       "    }\n",
       "\n",
       "    .dataframe thead th {\n",
       "        text-align: right;\n",
       "    }\n",
       "</style>\n",
       "<table border=\"1\" class=\"dataframe\">\n",
       "  <thead>\n",
       "    <tr style=\"text-align: right;\">\n",
       "      <th></th>\n",
       "      <th>ground_truth_high_level_substrates</th>\n",
       "      <th>first_most_imp_gene</th>\n",
       "      <th>count_first_most_imp_gene</th>\n",
       "      <th>avg_importance_score_first_most_imp_gene</th>\n",
       "      <th>count</th>\n",
       "      <th>proportion</th>\n",
       "    </tr>\n",
       "  </thead>\n",
       "  <tbody>\n",
       "    <tr>\n",
       "      <th>0</th>\n",
       "      <td>alginate</td>\n",
       "      <td>PL17</td>\n",
       "      <td>6</td>\n",
       "      <td>0.867791</td>\n",
       "      <td>9</td>\n",
       "      <td>0.666667</td>\n",
       "    </tr>\n",
       "    <tr>\n",
       "      <th>1</th>\n",
       "      <td>alginate</td>\n",
       "      <td>PL7</td>\n",
       "      <td>1</td>\n",
       "      <td>0.943209</td>\n",
       "      <td>9</td>\n",
       "      <td>0.111111</td>\n",
       "    </tr>\n",
       "    <tr>\n",
       "      <th>2</th>\n",
       "      <td>beta-glucan</td>\n",
       "      <td>GH16</td>\n",
       "      <td>2</td>\n",
       "      <td>0.749974</td>\n",
       "      <td>7</td>\n",
       "      <td>0.285714</td>\n",
       "    </tr>\n",
       "    <tr>\n",
       "      <th>3</th>\n",
       "      <td>beta-glucan</td>\n",
       "      <td>GH30_3</td>\n",
       "      <td>2</td>\n",
       "      <td>0.633315</td>\n",
       "      <td>7</td>\n",
       "      <td>0.285714</td>\n",
       "    </tr>\n",
       "    <tr>\n",
       "      <th>4</th>\n",
       "      <td>cellulose</td>\n",
       "      <td>GH5_7</td>\n",
       "      <td>1</td>\n",
       "      <td>0.992431</td>\n",
       "      <td>2</td>\n",
       "      <td>0.500000</td>\n",
       "    </tr>\n",
       "    <tr>\n",
       "      <th>5</th>\n",
       "      <td>cellulose</td>\n",
       "      <td>GH5_4</td>\n",
       "      <td>1</td>\n",
       "      <td>0.886826</td>\n",
       "      <td>2</td>\n",
       "      <td>0.500000</td>\n",
       "    </tr>\n",
       "    <tr>\n",
       "      <th>6</th>\n",
       "      <td>host glycan</td>\n",
       "      <td>GH20</td>\n",
       "      <td>3</td>\n",
       "      <td>0.769360</td>\n",
       "      <td>7</td>\n",
       "      <td>0.428571</td>\n",
       "    </tr>\n",
       "    <tr>\n",
       "      <th>7</th>\n",
       "      <td>host glycan</td>\n",
       "      <td>FecR</td>\n",
       "      <td>2</td>\n",
       "      <td>0.817595</td>\n",
       "      <td>7</td>\n",
       "      <td>0.285714</td>\n",
       "    </tr>\n",
       "    <tr>\n",
       "      <th>8</th>\n",
       "      <td>pectin</td>\n",
       "      <td>CE12</td>\n",
       "      <td>4</td>\n",
       "      <td>0.489499</td>\n",
       "      <td>13</td>\n",
       "      <td>0.307692</td>\n",
       "    </tr>\n",
       "    <tr>\n",
       "      <th>9</th>\n",
       "      <td>pectin</td>\n",
       "      <td>GH28</td>\n",
       "      <td>2</td>\n",
       "      <td>0.991708</td>\n",
       "      <td>13</td>\n",
       "      <td>0.153846</td>\n",
       "    </tr>\n",
       "    <tr>\n",
       "      <th>10</th>\n",
       "      <td>starch</td>\n",
       "      <td>8.A.9</td>\n",
       "      <td>3</td>\n",
       "      <td>0.663195</td>\n",
       "      <td>6</td>\n",
       "      <td>0.500000</td>\n",
       "    </tr>\n",
       "    <tr>\n",
       "      <th>11</th>\n",
       "      <td>starch</td>\n",
       "      <td>GH13</td>\n",
       "      <td>1</td>\n",
       "      <td>0.972986</td>\n",
       "      <td>6</td>\n",
       "      <td>0.166667</td>\n",
       "    </tr>\n",
       "    <tr>\n",
       "      <th>12</th>\n",
       "      <td>xylan</td>\n",
       "      <td>GH67</td>\n",
       "      <td>3</td>\n",
       "      <td>0.999481</td>\n",
       "      <td>12</td>\n",
       "      <td>0.250000</td>\n",
       "    </tr>\n",
       "    <tr>\n",
       "      <th>13</th>\n",
       "      <td>xylan</td>\n",
       "      <td>GH43_10</td>\n",
       "      <td>2</td>\n",
       "      <td>0.956900</td>\n",
       "      <td>12</td>\n",
       "      <td>0.166667</td>\n",
       "    </tr>\n",
       "  </tbody>\n",
       "</table>\n",
       "</div>"
      ],
      "text/plain": [
       "   ground_truth_high_level_substrates first_most_imp_gene  \\\n",
       "0                            alginate                PL17   \n",
       "1                            alginate                 PL7   \n",
       "2                         beta-glucan                GH16   \n",
       "3                         beta-glucan              GH30_3   \n",
       "4                           cellulose               GH5_7   \n",
       "5                           cellulose               GH5_4   \n",
       "6                         host glycan                GH20   \n",
       "7                         host glycan                FecR   \n",
       "8                              pectin                CE12   \n",
       "9                              pectin                GH28   \n",
       "10                             starch               8.A.9   \n",
       "11                             starch                GH13   \n",
       "12                              xylan                GH67   \n",
       "13                              xylan             GH43_10   \n",
       "\n",
       "    count_first_most_imp_gene  avg_importance_score_first_most_imp_gene  \\\n",
       "0                           6                                  0.867791   \n",
       "1                           1                                  0.943209   \n",
       "2                           2                                  0.749974   \n",
       "3                           2                                  0.633315   \n",
       "4                           1                                  0.992431   \n",
       "5                           1                                  0.886826   \n",
       "6                           3                                  0.769360   \n",
       "7                           2                                  0.817595   \n",
       "8                           4                                  0.489499   \n",
       "9                           2                                  0.991708   \n",
       "10                          3                                  0.663195   \n",
       "11                          1                                  0.972986   \n",
       "12                          3                                  0.999481   \n",
       "13                          2                                  0.956900   \n",
       "\n",
       "    count  proportion  \n",
       "0       9    0.666667  \n",
       "1       9    0.111111  \n",
       "2       7    0.285714  \n",
       "3       7    0.285714  \n",
       "4       2    0.500000  \n",
       "5       2    0.500000  \n",
       "6       7    0.428571  \n",
       "7       7    0.285714  \n",
       "8      13    0.307692  \n",
       "9      13    0.153846  \n",
       "10      6    0.500000  \n",
       "11      6    0.166667  \n",
       "12     12    0.250000  \n",
       "13     12    0.166667  "
      ]
     },
     "execution_count": 201,
     "metadata": {},
     "output_type": "execute_result"
    }
   ],
   "source": [
    "first_story"
   ]
  },
  {
   "cell_type": "code",
   "execution_count": 202,
   "id": "a62adc72",
   "metadata": {},
   "outputs": [],
   "source": [
    "import plotly.express as px"
   ]
  },
  {
   "cell_type": "code",
   "execution_count": 203,
   "id": "0a35051b",
   "metadata": {},
   "outputs": [
    {
     "data": {
      "text/html": [
       "<div>\n",
       "<style scoped>\n",
       "    .dataframe tbody tr th:only-of-type {\n",
       "        vertical-align: middle;\n",
       "    }\n",
       "\n",
       "    .dataframe tbody tr th {\n",
       "        vertical-align: top;\n",
       "    }\n",
       "\n",
       "    .dataframe thead th {\n",
       "        text-align: right;\n",
       "    }\n",
       "</style>\n",
       "<table border=\"1\" class=\"dataframe\">\n",
       "  <thead>\n",
       "    <tr style=\"text-align: right;\">\n",
       "      <th></th>\n",
       "      <th>ground_truth_high_level_substrates</th>\n",
       "      <th>first_most_imp_gene</th>\n",
       "      <th>count_first_most_imp_gene</th>\n",
       "      <th>avg_importance_score_first_most_imp_gene</th>\n",
       "      <th>count</th>\n",
       "      <th>proportion</th>\n",
       "    </tr>\n",
       "  </thead>\n",
       "  <tbody>\n",
       "    <tr>\n",
       "      <th>0</th>\n",
       "      <td>alginate</td>\n",
       "      <td>PL17</td>\n",
       "      <td>6</td>\n",
       "      <td>0.867791</td>\n",
       "      <td>9</td>\n",
       "      <td>0.666667</td>\n",
       "    </tr>\n",
       "    <tr>\n",
       "      <th>1</th>\n",
       "      <td>alginate</td>\n",
       "      <td>PL7</td>\n",
       "      <td>1</td>\n",
       "      <td>0.943209</td>\n",
       "      <td>9</td>\n",
       "      <td>0.111111</td>\n",
       "    </tr>\n",
       "    <tr>\n",
       "      <th>2</th>\n",
       "      <td>beta-glucan</td>\n",
       "      <td>GH16</td>\n",
       "      <td>2</td>\n",
       "      <td>0.749974</td>\n",
       "      <td>7</td>\n",
       "      <td>0.285714</td>\n",
       "    </tr>\n",
       "    <tr>\n",
       "      <th>3</th>\n",
       "      <td>beta-glucan</td>\n",
       "      <td>GH30_3</td>\n",
       "      <td>2</td>\n",
       "      <td>0.633315</td>\n",
       "      <td>7</td>\n",
       "      <td>0.285714</td>\n",
       "    </tr>\n",
       "    <tr>\n",
       "      <th>4</th>\n",
       "      <td>cellulose</td>\n",
       "      <td>GH5_7</td>\n",
       "      <td>1</td>\n",
       "      <td>0.992431</td>\n",
       "      <td>2</td>\n",
       "      <td>0.500000</td>\n",
       "    </tr>\n",
       "    <tr>\n",
       "      <th>5</th>\n",
       "      <td>cellulose</td>\n",
       "      <td>GH5_4</td>\n",
       "      <td>1</td>\n",
       "      <td>0.886826</td>\n",
       "      <td>2</td>\n",
       "      <td>0.500000</td>\n",
       "    </tr>\n",
       "    <tr>\n",
       "      <th>6</th>\n",
       "      <td>host glycan</td>\n",
       "      <td>GH20</td>\n",
       "      <td>3</td>\n",
       "      <td>0.769360</td>\n",
       "      <td>7</td>\n",
       "      <td>0.428571</td>\n",
       "    </tr>\n",
       "    <tr>\n",
       "      <th>7</th>\n",
       "      <td>host glycan</td>\n",
       "      <td>FecR</td>\n",
       "      <td>2</td>\n",
       "      <td>0.817595</td>\n",
       "      <td>7</td>\n",
       "      <td>0.285714</td>\n",
       "    </tr>\n",
       "    <tr>\n",
       "      <th>8</th>\n",
       "      <td>pectin</td>\n",
       "      <td>CE12</td>\n",
       "      <td>4</td>\n",
       "      <td>0.489499</td>\n",
       "      <td>13</td>\n",
       "      <td>0.307692</td>\n",
       "    </tr>\n",
       "    <tr>\n",
       "      <th>9</th>\n",
       "      <td>pectin</td>\n",
       "      <td>GH28</td>\n",
       "      <td>2</td>\n",
       "      <td>0.991708</td>\n",
       "      <td>13</td>\n",
       "      <td>0.153846</td>\n",
       "    </tr>\n",
       "    <tr>\n",
       "      <th>10</th>\n",
       "      <td>starch</td>\n",
       "      <td>8.A.9</td>\n",
       "      <td>3</td>\n",
       "      <td>0.663195</td>\n",
       "      <td>6</td>\n",
       "      <td>0.500000</td>\n",
       "    </tr>\n",
       "    <tr>\n",
       "      <th>11</th>\n",
       "      <td>starch</td>\n",
       "      <td>GH13</td>\n",
       "      <td>1</td>\n",
       "      <td>0.972986</td>\n",
       "      <td>6</td>\n",
       "      <td>0.166667</td>\n",
       "    </tr>\n",
       "    <tr>\n",
       "      <th>12</th>\n",
       "      <td>xylan</td>\n",
       "      <td>GH67</td>\n",
       "      <td>3</td>\n",
       "      <td>0.999481</td>\n",
       "      <td>12</td>\n",
       "      <td>0.250000</td>\n",
       "    </tr>\n",
       "    <tr>\n",
       "      <th>13</th>\n",
       "      <td>xylan</td>\n",
       "      <td>GH43_10</td>\n",
       "      <td>2</td>\n",
       "      <td>0.956900</td>\n",
       "      <td>12</td>\n",
       "      <td>0.166667</td>\n",
       "    </tr>\n",
       "  </tbody>\n",
       "</table>\n",
       "</div>"
      ],
      "text/plain": [
       "   ground_truth_high_level_substrates first_most_imp_gene  \\\n",
       "0                            alginate                PL17   \n",
       "1                            alginate                 PL7   \n",
       "2                         beta-glucan                GH16   \n",
       "3                         beta-glucan              GH30_3   \n",
       "4                           cellulose               GH5_7   \n",
       "5                           cellulose               GH5_4   \n",
       "6                         host glycan                GH20   \n",
       "7                         host glycan                FecR   \n",
       "8                              pectin                CE12   \n",
       "9                              pectin                GH28   \n",
       "10                             starch               8.A.9   \n",
       "11                             starch                GH13   \n",
       "12                              xylan                GH67   \n",
       "13                              xylan             GH43_10   \n",
       "\n",
       "    count_first_most_imp_gene  avg_importance_score_first_most_imp_gene  \\\n",
       "0                           6                                  0.867791   \n",
       "1                           1                                  0.943209   \n",
       "2                           2                                  0.749974   \n",
       "3                           2                                  0.633315   \n",
       "4                           1                                  0.992431   \n",
       "5                           1                                  0.886826   \n",
       "6                           3                                  0.769360   \n",
       "7                           2                                  0.817595   \n",
       "8                           4                                  0.489499   \n",
       "9                           2                                  0.991708   \n",
       "10                          3                                  0.663195   \n",
       "11                          1                                  0.972986   \n",
       "12                          3                                  0.999481   \n",
       "13                          2                                  0.956900   \n",
       "\n",
       "    count  proportion  \n",
       "0       9    0.666667  \n",
       "1       9    0.111111  \n",
       "2       7    0.285714  \n",
       "3       7    0.285714  \n",
       "4       2    0.500000  \n",
       "5       2    0.500000  \n",
       "6       7    0.428571  \n",
       "7       7    0.285714  \n",
       "8      13    0.307692  \n",
       "9      13    0.153846  \n",
       "10      6    0.500000  \n",
       "11      6    0.166667  \n",
       "12     12    0.250000  \n",
       "13     12    0.166667  "
      ]
     },
     "execution_count": 203,
     "metadata": {},
     "output_type": "execute_result"
    }
   ],
   "source": [
    "first_story"
   ]
  },
  {
   "cell_type": "code",
   "execution_count": 224,
   "id": "f738e418",
   "metadata": {},
   "outputs": [
    {
     "data": {
      "application/vnd.plotly.v1+json": {
       "config": {
        "plotlyServerURL": "https://plot.ly"
       },
       "data": [
        {
         "hovertemplate": "color=alginate<br>x=%{x}<br>y=%{y}<br>text=%{text}<extra></extra>",
         "legendgroup": "alginate",
         "marker": {
          "color": "#636efa",
          "size": 15,
          "symbol": "circle"
         },
         "mode": "markers+text",
         "name": "alginate",
         "orientation": "v",
         "showlegend": true,
         "text": [
          "PL17",
          "PL7"
         ],
         "textfont": {
          "size": 12
         },
         "textposition": "top right",
         "type": "scatter",
         "x": [
          0.6666666666666666,
          0.1111111111111111
         ],
         "xaxis": "x",
         "y": [
          0.8677912056446075,
          0.9432090520858765
         ],
         "yaxis": "y"
        },
        {
         "hovertemplate": "color=beta-glucan<br>x=%{x}<br>y=%{y}<br>text=%{text}<extra></extra>",
         "legendgroup": "beta-glucan",
         "marker": {
          "color": "#EF553B",
          "size": 15,
          "symbol": "circle"
         },
         "mode": "markers+text",
         "name": "beta-glucan",
         "orientation": "v",
         "showlegend": true,
         "text": [
          "GH16",
          "GH30_3"
         ],
         "textfont": {
          "size": 12
         },
         "textposition": "top right",
         "type": "scatter",
         "x": [
          0.2857142857142857,
          0.2857142857142857
         ],
         "xaxis": "x",
         "y": [
          0.7499744594097137,
          0.6333151459693909
         ],
         "yaxis": "y"
        },
        {
         "hovertemplate": "color=cellulose<br>x=%{x}<br>y=%{y}<br>text=%{text}<extra></extra>",
         "legendgroup": "cellulose",
         "marker": {
          "color": "#00cc96",
          "size": 15,
          "symbol": "circle"
         },
         "mode": "markers+text",
         "name": "cellulose",
         "orientation": "v",
         "showlegend": true,
         "text": [
          "GH5_7",
          "GH5_4"
         ],
         "textfont": {
          "size": 12
         },
         "textposition": "top right",
         "type": "scatter",
         "x": [
          0.5,
          0.5
         ],
         "xaxis": "x",
         "y": [
          0.9924308657646179,
          0.8868257403373718
         ],
         "yaxis": "y"
        },
        {
         "hovertemplate": "color=host glycan<br>x=%{x}<br>y=%{y}<br>text=%{text}<extra></extra>",
         "legendgroup": "host glycan",
         "marker": {
          "color": "#ab63fa",
          "size": 15,
          "symbol": "circle"
         },
         "mode": "markers+text",
         "name": "host glycan",
         "orientation": "v",
         "showlegend": true,
         "text": [
          "GH20",
          "FecR"
         ],
         "textfont": {
          "size": 12
         },
         "textposition": "top right",
         "type": "scatter",
         "x": [
          0.42857142857142855,
          0.2857142857142857
         ],
         "xaxis": "x",
         "y": [
          0.7693601846694946,
          0.8175953030586243
         ],
         "yaxis": "y"
        },
        {
         "hovertemplate": "color=pectin<br>x=%{x}<br>y=%{y}<br>text=%{text}<extra></extra>",
         "legendgroup": "pectin",
         "marker": {
          "color": "#FFA15A",
          "size": 15,
          "symbol": "circle"
         },
         "mode": "markers+text",
         "name": "pectin",
         "orientation": "v",
         "showlegend": true,
         "text": [
          "CE12",
          "GH28"
         ],
         "textfont": {
          "size": 12
         },
         "textposition": "top right",
         "type": "scatter",
         "x": [
          0.3076923076923077,
          0.15384615384615385
         ],
         "xaxis": "x",
         "y": [
          0.48949896544218063,
          0.9917077720165253
         ],
         "yaxis": "y"
        },
        {
         "hovertemplate": "color=starch<br>x=%{x}<br>y=%{y}<br>text=%{text}<extra></extra>",
         "legendgroup": "starch",
         "marker": {
          "color": "#19d3f3",
          "size": 15,
          "symbol": "circle"
         },
         "mode": "markers+text",
         "name": "starch",
         "orientation": "v",
         "showlegend": true,
         "text": [
          "8.A.9",
          "GH13"
         ],
         "textfont": {
          "size": 12
         },
         "textposition": "top right",
         "type": "scatter",
         "x": [
          0.5,
          0.16666666666666666
         ],
         "xaxis": "x",
         "y": [
          0.6631952325503031,
          0.9729859232902527
         ],
         "yaxis": "y"
        },
        {
         "hovertemplate": "color=xylan<br>x=%{x}<br>y=%{y}<br>text=%{text}<extra></extra>",
         "legendgroup": "xylan",
         "marker": {
          "color": "#FF6692",
          "size": 15,
          "symbol": "circle"
         },
         "mode": "markers+text",
         "name": "xylan",
         "orientation": "v",
         "showlegend": true,
         "text": [
          "GH67",
          "GH43_10"
         ],
         "textfont": {
          "size": 12
         },
         "textposition": "top right",
         "type": "scatter",
         "x": [
          0.25,
          0.16666666666666666
         ],
         "xaxis": "x",
         "y": [
          0.9994805852572123,
          0.9569000005722046
         ],
         "yaxis": "y"
        }
       ],
       "layout": {
        "font": {
         "color": "Black",
         "size": 18
        },
        "legend": {
         "title": {
          "text": "High Level Substrate"
         },
         "tracegroupgap": 0
        },
        "margin": {
         "t": 60
        },
        "template": {
         "data": {
          "bar": [
           {
            "error_x": {
             "color": "#2a3f5f"
            },
            "error_y": {
             "color": "#2a3f5f"
            },
            "marker": {
             "line": {
              "color": "#E5ECF6",
              "width": 0.5
             },
             "pattern": {
              "fillmode": "overlay",
              "size": 10,
              "solidity": 0.2
             }
            },
            "type": "bar"
           }
          ],
          "barpolar": [
           {
            "marker": {
             "line": {
              "color": "#E5ECF6",
              "width": 0.5
             },
             "pattern": {
              "fillmode": "overlay",
              "size": 10,
              "solidity": 0.2
             }
            },
            "type": "barpolar"
           }
          ],
          "carpet": [
           {
            "aaxis": {
             "endlinecolor": "#2a3f5f",
             "gridcolor": "white",
             "linecolor": "white",
             "minorgridcolor": "white",
             "startlinecolor": "#2a3f5f"
            },
            "baxis": {
             "endlinecolor": "#2a3f5f",
             "gridcolor": "white",
             "linecolor": "white",
             "minorgridcolor": "white",
             "startlinecolor": "#2a3f5f"
            },
            "type": "carpet"
           }
          ],
          "choropleth": [
           {
            "colorbar": {
             "outlinewidth": 0,
             "ticks": ""
            },
            "type": "choropleth"
           }
          ],
          "contour": [
           {
            "colorbar": {
             "outlinewidth": 0,
             "ticks": ""
            },
            "colorscale": [
             [
              0,
              "#0d0887"
             ],
             [
              0.1111111111111111,
              "#46039f"
             ],
             [
              0.2222222222222222,
              "#7201a8"
             ],
             [
              0.3333333333333333,
              "#9c179e"
             ],
             [
              0.4444444444444444,
              "#bd3786"
             ],
             [
              0.5555555555555556,
              "#d8576b"
             ],
             [
              0.6666666666666666,
              "#ed7953"
             ],
             [
              0.7777777777777778,
              "#fb9f3a"
             ],
             [
              0.8888888888888888,
              "#fdca26"
             ],
             [
              1,
              "#f0f921"
             ]
            ],
            "type": "contour"
           }
          ],
          "contourcarpet": [
           {
            "colorbar": {
             "outlinewidth": 0,
             "ticks": ""
            },
            "type": "contourcarpet"
           }
          ],
          "heatmap": [
           {
            "colorbar": {
             "outlinewidth": 0,
             "ticks": ""
            },
            "colorscale": [
             [
              0,
              "#0d0887"
             ],
             [
              0.1111111111111111,
              "#46039f"
             ],
             [
              0.2222222222222222,
              "#7201a8"
             ],
             [
              0.3333333333333333,
              "#9c179e"
             ],
             [
              0.4444444444444444,
              "#bd3786"
             ],
             [
              0.5555555555555556,
              "#d8576b"
             ],
             [
              0.6666666666666666,
              "#ed7953"
             ],
             [
              0.7777777777777778,
              "#fb9f3a"
             ],
             [
              0.8888888888888888,
              "#fdca26"
             ],
             [
              1,
              "#f0f921"
             ]
            ],
            "type": "heatmap"
           }
          ],
          "heatmapgl": [
           {
            "colorbar": {
             "outlinewidth": 0,
             "ticks": ""
            },
            "colorscale": [
             [
              0,
              "#0d0887"
             ],
             [
              0.1111111111111111,
              "#46039f"
             ],
             [
              0.2222222222222222,
              "#7201a8"
             ],
             [
              0.3333333333333333,
              "#9c179e"
             ],
             [
              0.4444444444444444,
              "#bd3786"
             ],
             [
              0.5555555555555556,
              "#d8576b"
             ],
             [
              0.6666666666666666,
              "#ed7953"
             ],
             [
              0.7777777777777778,
              "#fb9f3a"
             ],
             [
              0.8888888888888888,
              "#fdca26"
             ],
             [
              1,
              "#f0f921"
             ]
            ],
            "type": "heatmapgl"
           }
          ],
          "histogram": [
           {
            "marker": {
             "pattern": {
              "fillmode": "overlay",
              "size": 10,
              "solidity": 0.2
             }
            },
            "type": "histogram"
           }
          ],
          "histogram2d": [
           {
            "colorbar": {
             "outlinewidth": 0,
             "ticks": ""
            },
            "colorscale": [
             [
              0,
              "#0d0887"
             ],
             [
              0.1111111111111111,
              "#46039f"
             ],
             [
              0.2222222222222222,
              "#7201a8"
             ],
             [
              0.3333333333333333,
              "#9c179e"
             ],
             [
              0.4444444444444444,
              "#bd3786"
             ],
             [
              0.5555555555555556,
              "#d8576b"
             ],
             [
              0.6666666666666666,
              "#ed7953"
             ],
             [
              0.7777777777777778,
              "#fb9f3a"
             ],
             [
              0.8888888888888888,
              "#fdca26"
             ],
             [
              1,
              "#f0f921"
             ]
            ],
            "type": "histogram2d"
           }
          ],
          "histogram2dcontour": [
           {
            "colorbar": {
             "outlinewidth": 0,
             "ticks": ""
            },
            "colorscale": [
             [
              0,
              "#0d0887"
             ],
             [
              0.1111111111111111,
              "#46039f"
             ],
             [
              0.2222222222222222,
              "#7201a8"
             ],
             [
              0.3333333333333333,
              "#9c179e"
             ],
             [
              0.4444444444444444,
              "#bd3786"
             ],
             [
              0.5555555555555556,
              "#d8576b"
             ],
             [
              0.6666666666666666,
              "#ed7953"
             ],
             [
              0.7777777777777778,
              "#fb9f3a"
             ],
             [
              0.8888888888888888,
              "#fdca26"
             ],
             [
              1,
              "#f0f921"
             ]
            ],
            "type": "histogram2dcontour"
           }
          ],
          "mesh3d": [
           {
            "colorbar": {
             "outlinewidth": 0,
             "ticks": ""
            },
            "type": "mesh3d"
           }
          ],
          "parcoords": [
           {
            "line": {
             "colorbar": {
              "outlinewidth": 0,
              "ticks": ""
             }
            },
            "type": "parcoords"
           }
          ],
          "pie": [
           {
            "automargin": true,
            "type": "pie"
           }
          ],
          "scatter": [
           {
            "fillpattern": {
             "fillmode": "overlay",
             "size": 10,
             "solidity": 0.2
            },
            "type": "scatter"
           }
          ],
          "scatter3d": [
           {
            "line": {
             "colorbar": {
              "outlinewidth": 0,
              "ticks": ""
             }
            },
            "marker": {
             "colorbar": {
              "outlinewidth": 0,
              "ticks": ""
             }
            },
            "type": "scatter3d"
           }
          ],
          "scattercarpet": [
           {
            "marker": {
             "colorbar": {
              "outlinewidth": 0,
              "ticks": ""
             }
            },
            "type": "scattercarpet"
           }
          ],
          "scattergeo": [
           {
            "marker": {
             "colorbar": {
              "outlinewidth": 0,
              "ticks": ""
             }
            },
            "type": "scattergeo"
           }
          ],
          "scattergl": [
           {
            "marker": {
             "colorbar": {
              "outlinewidth": 0,
              "ticks": ""
             }
            },
            "type": "scattergl"
           }
          ],
          "scattermapbox": [
           {
            "marker": {
             "colorbar": {
              "outlinewidth": 0,
              "ticks": ""
             }
            },
            "type": "scattermapbox"
           }
          ],
          "scatterpolar": [
           {
            "marker": {
             "colorbar": {
              "outlinewidth": 0,
              "ticks": ""
             }
            },
            "type": "scatterpolar"
           }
          ],
          "scatterpolargl": [
           {
            "marker": {
             "colorbar": {
              "outlinewidth": 0,
              "ticks": ""
             }
            },
            "type": "scatterpolargl"
           }
          ],
          "scatterternary": [
           {
            "marker": {
             "colorbar": {
              "outlinewidth": 0,
              "ticks": ""
             }
            },
            "type": "scatterternary"
           }
          ],
          "surface": [
           {
            "colorbar": {
             "outlinewidth": 0,
             "ticks": ""
            },
            "colorscale": [
             [
              0,
              "#0d0887"
             ],
             [
              0.1111111111111111,
              "#46039f"
             ],
             [
              0.2222222222222222,
              "#7201a8"
             ],
             [
              0.3333333333333333,
              "#9c179e"
             ],
             [
              0.4444444444444444,
              "#bd3786"
             ],
             [
              0.5555555555555556,
              "#d8576b"
             ],
             [
              0.6666666666666666,
              "#ed7953"
             ],
             [
              0.7777777777777778,
              "#fb9f3a"
             ],
             [
              0.8888888888888888,
              "#fdca26"
             ],
             [
              1,
              "#f0f921"
             ]
            ],
            "type": "surface"
           }
          ],
          "table": [
           {
            "cells": {
             "fill": {
              "color": "#EBF0F8"
             },
             "line": {
              "color": "white"
             }
            },
            "header": {
             "fill": {
              "color": "#C8D4E3"
             },
             "line": {
              "color": "white"
             }
            },
            "type": "table"
           }
          ]
         },
         "layout": {
          "annotationdefaults": {
           "arrowcolor": "#2a3f5f",
           "arrowhead": 0,
           "arrowwidth": 1
          },
          "autotypenumbers": "strict",
          "coloraxis": {
           "colorbar": {
            "outlinewidth": 0,
            "ticks": ""
           }
          },
          "colorscale": {
           "diverging": [
            [
             0,
             "#8e0152"
            ],
            [
             0.1,
             "#c51b7d"
            ],
            [
             0.2,
             "#de77ae"
            ],
            [
             0.3,
             "#f1b6da"
            ],
            [
             0.4,
             "#fde0ef"
            ],
            [
             0.5,
             "#f7f7f7"
            ],
            [
             0.6,
             "#e6f5d0"
            ],
            [
             0.7,
             "#b8e186"
            ],
            [
             0.8,
             "#7fbc41"
            ],
            [
             0.9,
             "#4d9221"
            ],
            [
             1,
             "#276419"
            ]
           ],
           "sequential": [
            [
             0,
             "#0d0887"
            ],
            [
             0.1111111111111111,
             "#46039f"
            ],
            [
             0.2222222222222222,
             "#7201a8"
            ],
            [
             0.3333333333333333,
             "#9c179e"
            ],
            [
             0.4444444444444444,
             "#bd3786"
            ],
            [
             0.5555555555555556,
             "#d8576b"
            ],
            [
             0.6666666666666666,
             "#ed7953"
            ],
            [
             0.7777777777777778,
             "#fb9f3a"
            ],
            [
             0.8888888888888888,
             "#fdca26"
            ],
            [
             1,
             "#f0f921"
            ]
           ],
           "sequentialminus": [
            [
             0,
             "#0d0887"
            ],
            [
             0.1111111111111111,
             "#46039f"
            ],
            [
             0.2222222222222222,
             "#7201a8"
            ],
            [
             0.3333333333333333,
             "#9c179e"
            ],
            [
             0.4444444444444444,
             "#bd3786"
            ],
            [
             0.5555555555555556,
             "#d8576b"
            ],
            [
             0.6666666666666666,
             "#ed7953"
            ],
            [
             0.7777777777777778,
             "#fb9f3a"
            ],
            [
             0.8888888888888888,
             "#fdca26"
            ],
            [
             1,
             "#f0f921"
            ]
           ]
          },
          "colorway": [
           "#636efa",
           "#EF553B",
           "#00cc96",
           "#ab63fa",
           "#FFA15A",
           "#19d3f3",
           "#FF6692",
           "#B6E880",
           "#FF97FF",
           "#FECB52"
          ],
          "font": {
           "color": "#2a3f5f"
          },
          "geo": {
           "bgcolor": "white",
           "lakecolor": "white",
           "landcolor": "#E5ECF6",
           "showlakes": true,
           "showland": true,
           "subunitcolor": "white"
          },
          "hoverlabel": {
           "align": "left"
          },
          "hovermode": "closest",
          "mapbox": {
           "style": "light"
          },
          "paper_bgcolor": "white",
          "plot_bgcolor": "#E5ECF6",
          "polar": {
           "angularaxis": {
            "gridcolor": "white",
            "linecolor": "white",
            "ticks": ""
           },
           "bgcolor": "#E5ECF6",
           "radialaxis": {
            "gridcolor": "white",
            "linecolor": "white",
            "ticks": ""
           }
          },
          "scene": {
           "xaxis": {
            "backgroundcolor": "#E5ECF6",
            "gridcolor": "white",
            "gridwidth": 2,
            "linecolor": "white",
            "showbackground": true,
            "ticks": "",
            "zerolinecolor": "white"
           },
           "yaxis": {
            "backgroundcolor": "#E5ECF6",
            "gridcolor": "white",
            "gridwidth": 2,
            "linecolor": "white",
            "showbackground": true,
            "ticks": "",
            "zerolinecolor": "white"
           },
           "zaxis": {
            "backgroundcolor": "#E5ECF6",
            "gridcolor": "white",
            "gridwidth": 2,
            "linecolor": "white",
            "showbackground": true,
            "ticks": "",
            "zerolinecolor": "white"
           }
          },
          "shapedefaults": {
           "line": {
            "color": "#2a3f5f"
           }
          },
          "ternary": {
           "aaxis": {
            "gridcolor": "white",
            "linecolor": "white",
            "ticks": ""
           },
           "baxis": {
            "gridcolor": "white",
            "linecolor": "white",
            "ticks": ""
           },
           "bgcolor": "#E5ECF6",
           "caxis": {
            "gridcolor": "white",
            "linecolor": "white",
            "ticks": ""
           }
          },
          "title": {
           "x": 0.05
          },
          "xaxis": {
           "automargin": true,
           "gridcolor": "white",
           "linecolor": "white",
           "ticks": "",
           "title": {
            "standoff": 15
           },
           "zerolinecolor": "white",
           "zerolinewidth": 2
          },
          "yaxis": {
           "automargin": true,
           "gridcolor": "white",
           "linecolor": "white",
           "ticks": "",
           "title": {
            "standoff": 15
           },
           "zerolinecolor": "white",
           "zerolinewidth": 2
          }
         }
        },
        "xaxis": {
         "anchor": "y",
         "domain": [
          0,
          1
         ],
         "title": {
          "text": "Proportion of Samples"
         }
        },
        "yaxis": {
         "anchor": "x",
         "domain": [
          0,
          1
         ],
         "title": {
          "text": "Average Importance Score"
         }
        }
       }
      },
      "text/html": [
       "<div>                            <div id=\"3877ddbb-cbed-4212-bf31-a20c98b56598\" class=\"plotly-graph-div\" style=\"height:525px; width:100%;\"></div>            <script type=\"text/javascript\">                require([\"plotly\"], function(Plotly) {                    window.PLOTLYENV=window.PLOTLYENV || {};                                    if (document.getElementById(\"3877ddbb-cbed-4212-bf31-a20c98b56598\")) {                    Plotly.newPlot(                        \"3877ddbb-cbed-4212-bf31-a20c98b56598\",                        [{\"hovertemplate\":\"color=alginate<br>x=%{x}<br>y=%{y}<br>text=%{text}<extra></extra>\",\"legendgroup\":\"alginate\",\"marker\":{\"color\":\"#636efa\",\"symbol\":\"circle\",\"size\":15},\"mode\":\"markers+text\",\"name\":\"alginate\",\"orientation\":\"v\",\"showlegend\":true,\"text\":[\"PL17\",\"PL7\"],\"x\":[0.6666666666666666,0.1111111111111111],\"xaxis\":\"x\",\"y\":[0.8677912056446075,0.9432090520858765],\"yaxis\":\"y\",\"type\":\"scatter\",\"textfont\":{\"size\":12},\"textposition\":\"top right\"},{\"hovertemplate\":\"color=beta-glucan<br>x=%{x}<br>y=%{y}<br>text=%{text}<extra></extra>\",\"legendgroup\":\"beta-glucan\",\"marker\":{\"color\":\"#EF553B\",\"symbol\":\"circle\",\"size\":15},\"mode\":\"markers+text\",\"name\":\"beta-glucan\",\"orientation\":\"v\",\"showlegend\":true,\"text\":[\"GH16\",\"GH30_3\"],\"x\":[0.2857142857142857,0.2857142857142857],\"xaxis\":\"x\",\"y\":[0.7499744594097137,0.6333151459693909],\"yaxis\":\"y\",\"type\":\"scatter\",\"textfont\":{\"size\":12},\"textposition\":\"top right\"},{\"hovertemplate\":\"color=cellulose<br>x=%{x}<br>y=%{y}<br>text=%{text}<extra></extra>\",\"legendgroup\":\"cellulose\",\"marker\":{\"color\":\"#00cc96\",\"symbol\":\"circle\",\"size\":15},\"mode\":\"markers+text\",\"name\":\"cellulose\",\"orientation\":\"v\",\"showlegend\":true,\"text\":[\"GH5_7\",\"GH5_4\"],\"x\":[0.5,0.5],\"xaxis\":\"x\",\"y\":[0.9924308657646179,0.8868257403373718],\"yaxis\":\"y\",\"type\":\"scatter\",\"textfont\":{\"size\":12},\"textposition\":\"top right\"},{\"hovertemplate\":\"color=host glycan<br>x=%{x}<br>y=%{y}<br>text=%{text}<extra></extra>\",\"legendgroup\":\"host glycan\",\"marker\":{\"color\":\"#ab63fa\",\"symbol\":\"circle\",\"size\":15},\"mode\":\"markers+text\",\"name\":\"host glycan\",\"orientation\":\"v\",\"showlegend\":true,\"text\":[\"GH20\",\"FecR\"],\"x\":[0.42857142857142855,0.2857142857142857],\"xaxis\":\"x\",\"y\":[0.7693601846694946,0.8175953030586243],\"yaxis\":\"y\",\"type\":\"scatter\",\"textfont\":{\"size\":12},\"textposition\":\"top right\"},{\"hovertemplate\":\"color=pectin<br>x=%{x}<br>y=%{y}<br>text=%{text}<extra></extra>\",\"legendgroup\":\"pectin\",\"marker\":{\"color\":\"#FFA15A\",\"symbol\":\"circle\",\"size\":15},\"mode\":\"markers+text\",\"name\":\"pectin\",\"orientation\":\"v\",\"showlegend\":true,\"text\":[\"CE12\",\"GH28\"],\"x\":[0.3076923076923077,0.15384615384615385],\"xaxis\":\"x\",\"y\":[0.48949896544218063,0.9917077720165253],\"yaxis\":\"y\",\"type\":\"scatter\",\"textfont\":{\"size\":12},\"textposition\":\"top right\"},{\"hovertemplate\":\"color=starch<br>x=%{x}<br>y=%{y}<br>text=%{text}<extra></extra>\",\"legendgroup\":\"starch\",\"marker\":{\"color\":\"#19d3f3\",\"symbol\":\"circle\",\"size\":15},\"mode\":\"markers+text\",\"name\":\"starch\",\"orientation\":\"v\",\"showlegend\":true,\"text\":[\"8.A.9\",\"GH13\"],\"x\":[0.5,0.16666666666666666],\"xaxis\":\"x\",\"y\":[0.6631952325503031,0.9729859232902527],\"yaxis\":\"y\",\"type\":\"scatter\",\"textfont\":{\"size\":12},\"textposition\":\"top right\"},{\"hovertemplate\":\"color=xylan<br>x=%{x}<br>y=%{y}<br>text=%{text}<extra></extra>\",\"legendgroup\":\"xylan\",\"marker\":{\"color\":\"#FF6692\",\"symbol\":\"circle\",\"size\":15},\"mode\":\"markers+text\",\"name\":\"xylan\",\"orientation\":\"v\",\"showlegend\":true,\"text\":[\"GH67\",\"GH43_10\"],\"x\":[0.25,0.16666666666666666],\"xaxis\":\"x\",\"y\":[0.9994805852572123,0.9569000005722046],\"yaxis\":\"y\",\"type\":\"scatter\",\"textfont\":{\"size\":12},\"textposition\":\"top right\"}],                        {\"template\":{\"data\":{\"histogram2dcontour\":[{\"type\":\"histogram2dcontour\",\"colorbar\":{\"outlinewidth\":0,\"ticks\":\"\"},\"colorscale\":[[0.0,\"#0d0887\"],[0.1111111111111111,\"#46039f\"],[0.2222222222222222,\"#7201a8\"],[0.3333333333333333,\"#9c179e\"],[0.4444444444444444,\"#bd3786\"],[0.5555555555555556,\"#d8576b\"],[0.6666666666666666,\"#ed7953\"],[0.7777777777777778,\"#fb9f3a\"],[0.8888888888888888,\"#fdca26\"],[1.0,\"#f0f921\"]]}],\"choropleth\":[{\"type\":\"choropleth\",\"colorbar\":{\"outlinewidth\":0,\"ticks\":\"\"}}],\"histogram2d\":[{\"type\":\"histogram2d\",\"colorbar\":{\"outlinewidth\":0,\"ticks\":\"\"},\"colorscale\":[[0.0,\"#0d0887\"],[0.1111111111111111,\"#46039f\"],[0.2222222222222222,\"#7201a8\"],[0.3333333333333333,\"#9c179e\"],[0.4444444444444444,\"#bd3786\"],[0.5555555555555556,\"#d8576b\"],[0.6666666666666666,\"#ed7953\"],[0.7777777777777778,\"#fb9f3a\"],[0.8888888888888888,\"#fdca26\"],[1.0,\"#f0f921\"]]}],\"heatmap\":[{\"type\":\"heatmap\",\"colorbar\":{\"outlinewidth\":0,\"ticks\":\"\"},\"colorscale\":[[0.0,\"#0d0887\"],[0.1111111111111111,\"#46039f\"],[0.2222222222222222,\"#7201a8\"],[0.3333333333333333,\"#9c179e\"],[0.4444444444444444,\"#bd3786\"],[0.5555555555555556,\"#d8576b\"],[0.6666666666666666,\"#ed7953\"],[0.7777777777777778,\"#fb9f3a\"],[0.8888888888888888,\"#fdca26\"],[1.0,\"#f0f921\"]]}],\"heatmapgl\":[{\"type\":\"heatmapgl\",\"colorbar\":{\"outlinewidth\":0,\"ticks\":\"\"},\"colorscale\":[[0.0,\"#0d0887\"],[0.1111111111111111,\"#46039f\"],[0.2222222222222222,\"#7201a8\"],[0.3333333333333333,\"#9c179e\"],[0.4444444444444444,\"#bd3786\"],[0.5555555555555556,\"#d8576b\"],[0.6666666666666666,\"#ed7953\"],[0.7777777777777778,\"#fb9f3a\"],[0.8888888888888888,\"#fdca26\"],[1.0,\"#f0f921\"]]}],\"contourcarpet\":[{\"type\":\"contourcarpet\",\"colorbar\":{\"outlinewidth\":0,\"ticks\":\"\"}}],\"contour\":[{\"type\":\"contour\",\"colorbar\":{\"outlinewidth\":0,\"ticks\":\"\"},\"colorscale\":[[0.0,\"#0d0887\"],[0.1111111111111111,\"#46039f\"],[0.2222222222222222,\"#7201a8\"],[0.3333333333333333,\"#9c179e\"],[0.4444444444444444,\"#bd3786\"],[0.5555555555555556,\"#d8576b\"],[0.6666666666666666,\"#ed7953\"],[0.7777777777777778,\"#fb9f3a\"],[0.8888888888888888,\"#fdca26\"],[1.0,\"#f0f921\"]]}],\"surface\":[{\"type\":\"surface\",\"colorbar\":{\"outlinewidth\":0,\"ticks\":\"\"},\"colorscale\":[[0.0,\"#0d0887\"],[0.1111111111111111,\"#46039f\"],[0.2222222222222222,\"#7201a8\"],[0.3333333333333333,\"#9c179e\"],[0.4444444444444444,\"#bd3786\"],[0.5555555555555556,\"#d8576b\"],[0.6666666666666666,\"#ed7953\"],[0.7777777777777778,\"#fb9f3a\"],[0.8888888888888888,\"#fdca26\"],[1.0,\"#f0f921\"]]}],\"mesh3d\":[{\"type\":\"mesh3d\",\"colorbar\":{\"outlinewidth\":0,\"ticks\":\"\"}}],\"scatter\":[{\"fillpattern\":{\"fillmode\":\"overlay\",\"size\":10,\"solidity\":0.2},\"type\":\"scatter\"}],\"parcoords\":[{\"type\":\"parcoords\",\"line\":{\"colorbar\":{\"outlinewidth\":0,\"ticks\":\"\"}}}],\"scatterpolargl\":[{\"type\":\"scatterpolargl\",\"marker\":{\"colorbar\":{\"outlinewidth\":0,\"ticks\":\"\"}}}],\"bar\":[{\"error_x\":{\"color\":\"#2a3f5f\"},\"error_y\":{\"color\":\"#2a3f5f\"},\"marker\":{\"line\":{\"color\":\"#E5ECF6\",\"width\":0.5},\"pattern\":{\"fillmode\":\"overlay\",\"size\":10,\"solidity\":0.2}},\"type\":\"bar\"}],\"scattergeo\":[{\"type\":\"scattergeo\",\"marker\":{\"colorbar\":{\"outlinewidth\":0,\"ticks\":\"\"}}}],\"scatterpolar\":[{\"type\":\"scatterpolar\",\"marker\":{\"colorbar\":{\"outlinewidth\":0,\"ticks\":\"\"}}}],\"histogram\":[{\"marker\":{\"pattern\":{\"fillmode\":\"overlay\",\"size\":10,\"solidity\":0.2}},\"type\":\"histogram\"}],\"scattergl\":[{\"type\":\"scattergl\",\"marker\":{\"colorbar\":{\"outlinewidth\":0,\"ticks\":\"\"}}}],\"scatter3d\":[{\"type\":\"scatter3d\",\"line\":{\"colorbar\":{\"outlinewidth\":0,\"ticks\":\"\"}},\"marker\":{\"colorbar\":{\"outlinewidth\":0,\"ticks\":\"\"}}}],\"scattermapbox\":[{\"type\":\"scattermapbox\",\"marker\":{\"colorbar\":{\"outlinewidth\":0,\"ticks\":\"\"}}}],\"scatterternary\":[{\"type\":\"scatterternary\",\"marker\":{\"colorbar\":{\"outlinewidth\":0,\"ticks\":\"\"}}}],\"scattercarpet\":[{\"type\":\"scattercarpet\",\"marker\":{\"colorbar\":{\"outlinewidth\":0,\"ticks\":\"\"}}}],\"carpet\":[{\"aaxis\":{\"endlinecolor\":\"#2a3f5f\",\"gridcolor\":\"white\",\"linecolor\":\"white\",\"minorgridcolor\":\"white\",\"startlinecolor\":\"#2a3f5f\"},\"baxis\":{\"endlinecolor\":\"#2a3f5f\",\"gridcolor\":\"white\",\"linecolor\":\"white\",\"minorgridcolor\":\"white\",\"startlinecolor\":\"#2a3f5f\"},\"type\":\"carpet\"}],\"table\":[{\"cells\":{\"fill\":{\"color\":\"#EBF0F8\"},\"line\":{\"color\":\"white\"}},\"header\":{\"fill\":{\"color\":\"#C8D4E3\"},\"line\":{\"color\":\"white\"}},\"type\":\"table\"}],\"barpolar\":[{\"marker\":{\"line\":{\"color\":\"#E5ECF6\",\"width\":0.5},\"pattern\":{\"fillmode\":\"overlay\",\"size\":10,\"solidity\":0.2}},\"type\":\"barpolar\"}],\"pie\":[{\"automargin\":true,\"type\":\"pie\"}]},\"layout\":{\"autotypenumbers\":\"strict\",\"colorway\":[\"#636efa\",\"#EF553B\",\"#00cc96\",\"#ab63fa\",\"#FFA15A\",\"#19d3f3\",\"#FF6692\",\"#B6E880\",\"#FF97FF\",\"#FECB52\"],\"font\":{\"color\":\"#2a3f5f\"},\"hovermode\":\"closest\",\"hoverlabel\":{\"align\":\"left\"},\"paper_bgcolor\":\"white\",\"plot_bgcolor\":\"#E5ECF6\",\"polar\":{\"bgcolor\":\"#E5ECF6\",\"angularaxis\":{\"gridcolor\":\"white\",\"linecolor\":\"white\",\"ticks\":\"\"},\"radialaxis\":{\"gridcolor\":\"white\",\"linecolor\":\"white\",\"ticks\":\"\"}},\"ternary\":{\"bgcolor\":\"#E5ECF6\",\"aaxis\":{\"gridcolor\":\"white\",\"linecolor\":\"white\",\"ticks\":\"\"},\"baxis\":{\"gridcolor\":\"white\",\"linecolor\":\"white\",\"ticks\":\"\"},\"caxis\":{\"gridcolor\":\"white\",\"linecolor\":\"white\",\"ticks\":\"\"}},\"coloraxis\":{\"colorbar\":{\"outlinewidth\":0,\"ticks\":\"\"}},\"colorscale\":{\"sequential\":[[0.0,\"#0d0887\"],[0.1111111111111111,\"#46039f\"],[0.2222222222222222,\"#7201a8\"],[0.3333333333333333,\"#9c179e\"],[0.4444444444444444,\"#bd3786\"],[0.5555555555555556,\"#d8576b\"],[0.6666666666666666,\"#ed7953\"],[0.7777777777777778,\"#fb9f3a\"],[0.8888888888888888,\"#fdca26\"],[1.0,\"#f0f921\"]],\"sequentialminus\":[[0.0,\"#0d0887\"],[0.1111111111111111,\"#46039f\"],[0.2222222222222222,\"#7201a8\"],[0.3333333333333333,\"#9c179e\"],[0.4444444444444444,\"#bd3786\"],[0.5555555555555556,\"#d8576b\"],[0.6666666666666666,\"#ed7953\"],[0.7777777777777778,\"#fb9f3a\"],[0.8888888888888888,\"#fdca26\"],[1.0,\"#f0f921\"]],\"diverging\":[[0,\"#8e0152\"],[0.1,\"#c51b7d\"],[0.2,\"#de77ae\"],[0.3,\"#f1b6da\"],[0.4,\"#fde0ef\"],[0.5,\"#f7f7f7\"],[0.6,\"#e6f5d0\"],[0.7,\"#b8e186\"],[0.8,\"#7fbc41\"],[0.9,\"#4d9221\"],[1,\"#276419\"]]},\"xaxis\":{\"gridcolor\":\"white\",\"linecolor\":\"white\",\"ticks\":\"\",\"title\":{\"standoff\":15},\"zerolinecolor\":\"white\",\"automargin\":true,\"zerolinewidth\":2},\"yaxis\":{\"gridcolor\":\"white\",\"linecolor\":\"white\",\"ticks\":\"\",\"title\":{\"standoff\":15},\"zerolinecolor\":\"white\",\"automargin\":true,\"zerolinewidth\":2},\"scene\":{\"xaxis\":{\"backgroundcolor\":\"#E5ECF6\",\"gridcolor\":\"white\",\"linecolor\":\"white\",\"showbackground\":true,\"ticks\":\"\",\"zerolinecolor\":\"white\",\"gridwidth\":2},\"yaxis\":{\"backgroundcolor\":\"#E5ECF6\",\"gridcolor\":\"white\",\"linecolor\":\"white\",\"showbackground\":true,\"ticks\":\"\",\"zerolinecolor\":\"white\",\"gridwidth\":2},\"zaxis\":{\"backgroundcolor\":\"#E5ECF6\",\"gridcolor\":\"white\",\"linecolor\":\"white\",\"showbackground\":true,\"ticks\":\"\",\"zerolinecolor\":\"white\",\"gridwidth\":2}},\"shapedefaults\":{\"line\":{\"color\":\"#2a3f5f\"}},\"annotationdefaults\":{\"arrowcolor\":\"#2a3f5f\",\"arrowhead\":0,\"arrowwidth\":1},\"geo\":{\"bgcolor\":\"white\",\"landcolor\":\"#E5ECF6\",\"subunitcolor\":\"white\",\"showland\":true,\"showlakes\":true,\"lakecolor\":\"white\"},\"title\":{\"x\":0.05},\"mapbox\":{\"style\":\"light\"}}},\"xaxis\":{\"anchor\":\"y\",\"domain\":[0.0,1.0],\"title\":{\"text\":\"Proportion of Samples\"}},\"yaxis\":{\"anchor\":\"x\",\"domain\":[0.0,1.0],\"title\":{\"text\":\"Average Importance Score\"}},\"legend\":{\"title\":{\"text\":\"High Level Substrate\"},\"tracegroupgap\":0},\"margin\":{\"t\":60},\"font\":{\"size\":18,\"color\":\"Black\"}},                        {\"responsive\": true}                    ).then(function(){\n",
       "                            \n",
       "var gd = document.getElementById('3877ddbb-cbed-4212-bf31-a20c98b56598');\n",
       "var x = new MutationObserver(function (mutations, observer) {{\n",
       "        var display = window.getComputedStyle(gd).display;\n",
       "        if (!display || display === 'none') {{\n",
       "            console.log([gd, 'removed!']);\n",
       "            Plotly.purge(gd);\n",
       "            observer.disconnect();\n",
       "        }}\n",
       "}});\n",
       "\n",
       "// Listen for the removal of the full notebook cells\n",
       "var notebookContainer = gd.closest('#notebook-container');\n",
       "if (notebookContainer) {{\n",
       "    x.observe(notebookContainer, {childList: true});\n",
       "}}\n",
       "\n",
       "// Listen for the clearing of the current output cell\n",
       "var outputEl = gd.closest('.output');\n",
       "if (outputEl) {{\n",
       "    x.observe(outputEl, {childList: true});\n",
       "}}\n",
       "\n",
       "                        })                };                });            </script>        </div>"
      ]
     },
     "metadata": {},
     "output_type": "display_data"
    }
   ],
   "source": [
    "fig = px.scatter(x = first_story[\"proportion\"], y = first_story[\"avg_importance_score_first_most_imp_gene\"], \n",
    "          text = first_story[\"first_most_imp_gene\"], color=first_story[\"ground_truth_high_level_substrates\"])\n",
    "\n",
    "fig.update_layout(\n",
    "    xaxis_title=\"Proportion of Samples\",\n",
    "    yaxis_title=\"Average Importance Score\",\n",
    "    legend_title=\"High Level Substrate\",\n",
    "    font=dict(\n",
    "#         family=\"Arial\",\n",
    "        size=18,  # Set the font size here\n",
    "        color=\"Black\"\n",
    "    )\n",
    ")\n",
    "\n",
    "fig.update_traces(marker=dict(size=15))\n",
    "fig.update_traces(textfont_size=12, textposition='top right')"
   ]
  },
  {
   "cell_type": "code",
   "execution_count": 225,
   "id": "3efa174b",
   "metadata": {},
   "outputs": [],
   "source": [
    "check = pd.read_csv(r\"D:\\subFinder\\Data\\Literature_Data\\fam-substrate-mapping-08252022.tsv\", sep = \"\\t\")"
   ]
  },
  {
   "cell_type": "code",
   "execution_count": 238,
   "id": "ded94d33",
   "metadata": {},
   "outputs": [
    {
     "data": {
      "text/html": [
       "<div>\n",
       "<style scoped>\n",
       "    .dataframe tbody tr th:only-of-type {\n",
       "        vertical-align: middle;\n",
       "    }\n",
       "\n",
       "    .dataframe tbody tr th {\n",
       "        vertical-align: top;\n",
       "    }\n",
       "\n",
       "    .dataframe thead th {\n",
       "        text-align: right;\n",
       "    }\n",
       "</style>\n",
       "<table border=\"1\" class=\"dataframe\">\n",
       "  <thead>\n",
       "    <tr style=\"text-align: right;\">\n",
       "      <th></th>\n",
       "      <th>Substrate_high_level</th>\n",
       "      <th>Substrate_Simple</th>\n",
       "      <th>Family</th>\n",
       "      <th>Name</th>\n",
       "      <th>EC_Number</th>\n",
       "    </tr>\n",
       "  </thead>\n",
       "  <tbody>\n",
       "    <tr>\n",
       "      <th>593</th>\n",
       "      <td>xylan</td>\n",
       "      <td>xylan side chain</td>\n",
       "      <td>GH67</td>\n",
       "      <td>xylan alpha-1,2-glucuronidase</td>\n",
       "      <td>3.2.1.131</td>\n",
       "    </tr>\n",
       "    <tr>\n",
       "      <th>594</th>\n",
       "      <td>xylan</td>\n",
       "      <td>xylan side chain</td>\n",
       "      <td>GH67</td>\n",
       "      <td>alpha-glucuronidase</td>\n",
       "      <td>3.2.1.139</td>\n",
       "    </tr>\n",
       "  </tbody>\n",
       "</table>\n",
       "</div>"
      ],
      "text/plain": [
       "    Substrate_high_level  Substrate_Simple Family  \\\n",
       "593                xylan  xylan side chain   GH67   \n",
       "594                xylan  xylan side chain   GH67   \n",
       "\n",
       "                              Name  EC_Number  \n",
       "593  xylan alpha-1,2-glucuronidase  3.2.1.131  \n",
       "594            alpha-glucuronidase  3.2.1.139  "
      ]
     },
     "execution_count": 238,
     "metadata": {},
     "output_type": "execute_result"
    }
   ],
   "source": [
    "check[check[\"Family\"] == \"GH67\"]"
   ]
  },
  {
   "cell_type": "code",
   "execution_count": 98,
   "id": "7d706664",
   "metadata": {},
   "outputs": [],
   "source": [
    "# pd.DataFrame(correct_targets)[0].value_counts()"
   ]
  },
  {
   "cell_type": "code",
   "execution_count": 99,
   "id": "d790e00a",
   "metadata": {},
   "outputs": [],
   "source": [
    "second_story = importances_df.groupby([\"ground_truth_high_level_substrates\", \"second_most_imp_gene\"])[\"score_second_most_imp_gene\"].aggregate({\"count\", \"mean\"})"
   ]
  },
  {
   "cell_type": "code",
   "execution_count": 100,
   "id": "c99285e4",
   "metadata": {},
   "outputs": [],
   "source": [
    "second_story = second_story[[\"count\", \"mean\"]]"
   ]
  },
  {
   "cell_type": "code",
   "execution_count": 101,
   "id": "ac2be567",
   "metadata": {},
   "outputs": [],
   "source": [
    "second_story.columns = [\"count_second_most_imp_gene\", \"avg_importance_score_second_most_imp_gene\"]"
   ]
  },
  {
   "cell_type": "code",
   "execution_count": 102,
   "id": "64611c23",
   "metadata": {},
   "outputs": [],
   "source": [
    "second_story = second_story.reset_index()\n",
    "\n",
    "second_story = second_story.sort_values([\"ground_truth_high_level_substrates\", \"count_second_most_imp_gene\", \"avg_importance_score_second_most_imp_gene\"], \n",
    "                       ascending = [True, False, False])"
   ]
  },
  {
   "cell_type": "code",
   "execution_count": 103,
   "id": "81c78cc3",
   "metadata": {},
   "outputs": [],
   "source": [
    "third_story = importances_df.groupby([\"ground_truth_high_level_substrates\", \"third_most_imp_gene\"])[\"score_third_most_imp_gene\"].aggregate({\"count\", \"mean\"})"
   ]
  },
  {
   "cell_type": "code",
   "execution_count": 104,
   "id": "c2c99106",
   "metadata": {},
   "outputs": [],
   "source": [
    "third_story = third_story[[\"count\", \"mean\"]]"
   ]
  },
  {
   "cell_type": "code",
   "execution_count": 105,
   "id": "8e766f2c",
   "metadata": {},
   "outputs": [],
   "source": [
    "third_story.columns = [\"count_third_most_imp_gene\", \"avg_importance_score_third_most_imp_gene\"]"
   ]
  },
  {
   "cell_type": "code",
   "execution_count": 106,
   "id": "2b95db89",
   "metadata": {},
   "outputs": [],
   "source": [
    "third_story = third_story.reset_index()\n",
    "\n",
    "third_story = third_story.sort_values([\"ground_truth_high_level_substrates\", \"count_third_most_imp_gene\", \"avg_importance_score_third_most_imp_gene\"], \n",
    "                       ascending = [True, False, False])"
   ]
  },
  {
   "cell_type": "code",
   "execution_count": 108,
   "id": "44b89bad",
   "metadata": {},
   "outputs": [],
   "source": [
    "first_second = first_story.merge(second_story, how = \"left\", left_on = [\"ground_truth_high_level_substrates\", \"first_most_imp_gene\"], \n",
    "                                             right_on = [\"ground_truth_high_level_substrates\", \"second_most_imp_gene\"])"
   ]
  },
  {
   "cell_type": "code",
   "execution_count": 109,
   "id": "8b12ff81",
   "metadata": {},
   "outputs": [],
   "source": [
    "first_second_third = first_second.merge(third_story, how = \"left\", left_on = [\"ground_truth_high_level_substrates\", \"first_most_imp_gene\"], \n",
    "                                             right_on = [\"ground_truth_high_level_substrates\", \"third_most_imp_gene\"])"
   ]
  },
  {
   "cell_type": "code",
   "execution_count": null,
   "id": "ea83a10b",
   "metadata": {},
   "outputs": [],
   "source": [
    "# first_second_third = first_second_third.fillna(0)"
   ]
  },
  {
   "cell_type": "code",
   "execution_count": 110,
   "id": "a4876d0e",
   "metadata": {},
   "outputs": [],
   "source": [
    "first_second_third[\"overall_count\"] = first_second_third[\"count_first_most_imp_gene\"] + first_second_third[\"count_second_most_imp_gene\"].fillna(0) + first_second_third[\"count_third_most_imp_gene\"].fillna(0)"
   ]
  },
  {
   "cell_type": "code",
   "execution_count": 111,
   "id": "71dfec5b",
   "metadata": {},
   "outputs": [],
   "source": [
    "first_second_third = first_second_third.sort_values([\"ground_truth_high_level_substrates\", \"overall_count\"],\n",
    "                                                    ascending = [True, False])"
   ]
  },
  {
   "cell_type": "code",
   "execution_count": 112,
   "id": "050a593a",
   "metadata": {},
   "outputs": [],
   "source": [
    "first_second_third = first_second_third.reset_index(drop = True)"
   ]
  },
  {
   "cell_type": "code",
   "execution_count": 113,
   "id": "45321744",
   "metadata": {},
   "outputs": [
    {
     "data": {
      "text/html": [
       "<div>\n",
       "<style scoped>\n",
       "    .dataframe tbody tr th:only-of-type {\n",
       "        vertical-align: middle;\n",
       "    }\n",
       "\n",
       "    .dataframe tbody tr th {\n",
       "        vertical-align: top;\n",
       "    }\n",
       "\n",
       "    .dataframe thead th {\n",
       "        text-align: right;\n",
       "    }\n",
       "</style>\n",
       "<table border=\"1\" class=\"dataframe\">\n",
       "  <thead>\n",
       "    <tr style=\"text-align: right;\">\n",
       "      <th></th>\n",
       "      <th>ground_truth_high_level_substrates</th>\n",
       "      <th>first_most_imp_gene</th>\n",
       "      <th>count_first_most_imp_gene</th>\n",
       "      <th>avg_importance_score_first_most_imp_gene</th>\n",
       "      <th>second_most_imp_gene</th>\n",
       "      <th>count_second_most_imp_gene</th>\n",
       "      <th>avg_importance_score_second_most_imp_gene</th>\n",
       "      <th>third_most_imp_gene</th>\n",
       "      <th>count_third_most_imp_gene</th>\n",
       "      <th>avg_importance_score_third_most_imp_gene</th>\n",
       "      <th>overall_count</th>\n",
       "    </tr>\n",
       "  </thead>\n",
       "  <tbody>\n",
       "    <tr>\n",
       "      <th>0</th>\n",
       "      <td>alginate</td>\n",
       "      <td>PL17</td>\n",
       "      <td>6</td>\n",
       "      <td>0.867791</td>\n",
       "      <td>NaN</td>\n",
       "      <td>NaN</td>\n",
       "      <td>NaN</td>\n",
       "      <td>NaN</td>\n",
       "      <td>NaN</td>\n",
       "      <td>NaN</td>\n",
       "      <td>6.0</td>\n",
       "    </tr>\n",
       "    <tr>\n",
       "      <th>1</th>\n",
       "      <td>alginate</td>\n",
       "      <td>PL6_1</td>\n",
       "      <td>1</td>\n",
       "      <td>0.479648</td>\n",
       "      <td>PL6_1</td>\n",
       "      <td>1.0</td>\n",
       "      <td>0.479648</td>\n",
       "      <td>PL6_1</td>\n",
       "      <td>3.0</td>\n",
       "      <td>0.001520</td>\n",
       "      <td>5.0</td>\n",
       "    </tr>\n",
       "    <tr>\n",
       "      <th>2</th>\n",
       "      <td>alginate</td>\n",
       "      <td>PL7</td>\n",
       "      <td>1</td>\n",
       "      <td>0.943209</td>\n",
       "      <td>NaN</td>\n",
       "      <td>NaN</td>\n",
       "      <td>NaN</td>\n",
       "      <td>PL7</td>\n",
       "      <td>1.0</td>\n",
       "      <td>0.083578</td>\n",
       "      <td>2.0</td>\n",
       "    </tr>\n",
       "    <tr>\n",
       "      <th>3</th>\n",
       "      <td>alginate</td>\n",
       "      <td>PL5_1</td>\n",
       "      <td>1</td>\n",
       "      <td>0.679251</td>\n",
       "      <td>NaN</td>\n",
       "      <td>NaN</td>\n",
       "      <td>NaN</td>\n",
       "      <td>NaN</td>\n",
       "      <td>NaN</td>\n",
       "      <td>NaN</td>\n",
       "      <td>1.0</td>\n",
       "    </tr>\n",
       "    <tr>\n",
       "      <th>4</th>\n",
       "      <td>beta-glucan</td>\n",
       "      <td>GH16</td>\n",
       "      <td>2</td>\n",
       "      <td>0.749974</td>\n",
       "      <td>GH16</td>\n",
       "      <td>1.0</td>\n",
       "      <td>0.500000</td>\n",
       "      <td>NaN</td>\n",
       "      <td>NaN</td>\n",
       "      <td>NaN</td>\n",
       "      <td>3.0</td>\n",
       "    </tr>\n",
       "  </tbody>\n",
       "</table>\n",
       "</div>"
      ],
      "text/plain": [
       "  ground_truth_high_level_substrates first_most_imp_gene  \\\n",
       "0                           alginate                PL17   \n",
       "1                           alginate               PL6_1   \n",
       "2                           alginate                 PL7   \n",
       "3                           alginate               PL5_1   \n",
       "4                        beta-glucan                GH16   \n",
       "\n",
       "   count_first_most_imp_gene  avg_importance_score_first_most_imp_gene  \\\n",
       "0                          6                                  0.867791   \n",
       "1                          1                                  0.479648   \n",
       "2                          1                                  0.943209   \n",
       "3                          1                                  0.679251   \n",
       "4                          2                                  0.749974   \n",
       "\n",
       "  second_most_imp_gene  count_second_most_imp_gene  \\\n",
       "0                  NaN                         NaN   \n",
       "1                PL6_1                         1.0   \n",
       "2                  NaN                         NaN   \n",
       "3                  NaN                         NaN   \n",
       "4                 GH16                         1.0   \n",
       "\n",
       "   avg_importance_score_second_most_imp_gene third_most_imp_gene  \\\n",
       "0                                        NaN                 NaN   \n",
       "1                                   0.479648               PL6_1   \n",
       "2                                        NaN                 PL7   \n",
       "3                                        NaN                 NaN   \n",
       "4                                   0.500000                 NaN   \n",
       "\n",
       "   count_third_most_imp_gene  avg_importance_score_third_most_imp_gene  \\\n",
       "0                        NaN                                       NaN   \n",
       "1                        3.0                                  0.001520   \n",
       "2                        1.0                                  0.083578   \n",
       "3                        NaN                                       NaN   \n",
       "4                        NaN                                       NaN   \n",
       "\n",
       "   overall_count  \n",
       "0            6.0  \n",
       "1            5.0  \n",
       "2            2.0  \n",
       "3            1.0  \n",
       "4            3.0  "
      ]
     },
     "execution_count": 113,
     "metadata": {},
     "output_type": "execute_result"
    }
   ],
   "source": [
    "first_second_third.head()"
   ]
  },
  {
   "cell_type": "code",
   "execution_count": null,
   "id": "3faebb09",
   "metadata": {},
   "outputs": [],
   "source": [
    "# first_second_third.to_csv(\"summary_for_important_signature_genes_by_substrate.csv\", index = False)"
   ]
  },
  {
   "cell_type": "code",
   "execution_count": 115,
   "id": "4eea8725",
   "metadata": {},
   "outputs": [],
   "source": [
    "check = pd.read_csv(r\"D:\\subFinder\\Data\\Literature_Data\\fam-substrate-mapping-08252022.tsv\", sep = \"\\t\")"
   ]
  },
  {
   "cell_type": "code",
   "execution_count": 145,
   "id": "a6f7fdc6",
   "metadata": {},
   "outputs": [
    {
     "data": {
      "text/html": [
       "<div>\n",
       "<style scoped>\n",
       "    .dataframe tbody tr th:only-of-type {\n",
       "        vertical-align: middle;\n",
       "    }\n",
       "\n",
       "    .dataframe tbody tr th {\n",
       "        vertical-align: top;\n",
       "    }\n",
       "\n",
       "    .dataframe thead th {\n",
       "        text-align: right;\n",
       "    }\n",
       "</style>\n",
       "<table border=\"1\" class=\"dataframe\">\n",
       "  <thead>\n",
       "    <tr style=\"text-align: right;\">\n",
       "      <th></th>\n",
       "      <th>Substrate_high_level</th>\n",
       "      <th>Substrate_Simple</th>\n",
       "      <th>Family</th>\n",
       "      <th>Name</th>\n",
       "      <th>EC_Number</th>\n",
       "    </tr>\n",
       "  </thead>\n",
       "  <tbody>\n",
       "    <tr>\n",
       "      <th>142</th>\n",
       "      <td>pectin</td>\n",
       "      <td>pectin</td>\n",
       "      <td>CE12</td>\n",
       "      <td>pectin acetylesterase</td>\n",
       "      <td>3.1.1.-</td>\n",
       "    </tr>\n",
       "    <tr>\n",
       "      <th>143</th>\n",
       "      <td>pectin</td>\n",
       "      <td>pectin</td>\n",
       "      <td>CE12</td>\n",
       "      <td>rhamnogalacturonan acetylesterase</td>\n",
       "      <td>3.1.1.-</td>\n",
       "    </tr>\n",
       "    <tr>\n",
       "      <th>144</th>\n",
       "      <td>xylan</td>\n",
       "      <td>acetyl xylan</td>\n",
       "      <td>CE12</td>\n",
       "      <td>acetyl xylan esterase</td>\n",
       "      <td>3.1.1.72</td>\n",
       "    </tr>\n",
       "  </tbody>\n",
       "</table>\n",
       "</div>"
      ],
      "text/plain": [
       "    Substrate_high_level  Substrate_Simple Family  \\\n",
       "142               pectin            pectin   CE12   \n",
       "143               pectin            pectin   CE12   \n",
       "144                xylan      acetyl xylan   CE12   \n",
       "\n",
       "                                  Name EC_Number  \n",
       "142              pectin acetylesterase   3.1.1.-  \n",
       "143  rhamnogalacturonan acetylesterase   3.1.1.-  \n",
       "144              acetyl xylan esterase  3.1.1.72  "
      ]
     },
     "execution_count": 145,
     "metadata": {},
     "output_type": "execute_result"
    }
   ],
   "source": [
    "check[check[\"Family\"] == \"CE12\"]"
   ]
  }
 ],
 "metadata": {
  "kernelspec": {
   "display_name": "newone1",
   "language": "python",
   "name": "newone1"
  },
  "language_info": {
   "codemirror_mode": {
    "name": "ipython",
    "version": 3
   },
   "file_extension": ".py",
   "mimetype": "text/x-python",
   "name": "python",
   "nbconvert_exporter": "python",
   "pygments_lexer": "ipython3",
   "version": "3.9.12"
  }
 },
 "nbformat": 4,
 "nbformat_minor": 5
}
