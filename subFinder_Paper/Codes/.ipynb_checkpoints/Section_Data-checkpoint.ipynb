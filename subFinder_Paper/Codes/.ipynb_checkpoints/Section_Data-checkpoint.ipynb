{
 "cells": [
  {
   "cell_type": "code",
   "execution_count": 1,
   "id": "2dc1d09b",
   "metadata": {},
   "outputs": [],
   "source": [
    "import os"
   ]
  },
  {
   "cell_type": "code",
   "execution_count": 2,
   "id": "c0ecaa6a",
   "metadata": {},
   "outputs": [
    {
     "data": {
      "text/plain": [
       "'D:\\\\subFinder\\\\subFinder_Paper\\\\Codes'"
      ]
     },
     "execution_count": 2,
     "metadata": {},
     "output_type": "execute_result"
    }
   ],
   "source": [
    "os.getcwd()"
   ]
  },
  {
   "cell_type": "code",
   "execution_count": null,
   "id": "04e7e23f",
   "metadata": {},
   "outputs": [],
   "source": [
    "import pandas as pd\n",
    "import matplotlib.pyplot as plt\n",
    "import matplotlib as mpl\n",
    "import seaborn as sns\n",
    "from collections import Counter\n",
    "import tensorflow as tf"
   ]
  },
  {
   "cell_type": "code",
   "execution_count": null,
   "id": "b37dadb9",
   "metadata": {},
   "outputs": [],
   "source": [
    "# read in the supervised dataset"
   ]
  },
  {
   "cell_type": "code",
   "execution_count": null,
   "id": "42f0ffb7",
   "metadata": {},
   "outputs": [],
   "source": [
    "data = pd.read_csv(r\"D://subFinder//Data//Supervised_Sequences//reduced_sup_data.csv\")"
   ]
  },
  {
   "cell_type": "code",
   "execution_count": null,
   "id": "66dfa9df",
   "metadata": {},
   "outputs": [],
   "source": [
    "data.shape"
   ]
  },
  {
   "cell_type": "code",
   "execution_count": null,
   "id": "a72f17c7",
   "metadata": {},
   "outputs": [],
   "source": [
    "data.head()"
   ]
  },
  {
   "cell_type": "code",
   "execution_count": null,
   "id": "668b8260",
   "metadata": {},
   "outputs": [],
   "source": [
    "data = data[[\"PULid\", 'updated_substrate (09/01/2022)', \"sig_gene_seq\"]]"
   ]
  },
  {
   "cell_type": "code",
   "execution_count": null,
   "id": "88c38eb4",
   "metadata": {},
   "outputs": [],
   "source": [
    "data.columns = [\"PUL_ID\", \"high_level_substr\", \"sig_gene_seq\"]"
   ]
  },
  {
   "cell_type": "code",
   "execution_count": null,
   "id": "9a10a822",
   "metadata": {},
   "outputs": [],
   "source": [
    "D = dict(data.high_level_substr.value_counts())\n",
    "\n",
    "count_df = pd.DataFrame(data.high_level_substr.value_counts()).reset_index()\n",
    "\n",
    "count_df.columns = [\"High Level Substrate\", \"Number of PULs\"]\n",
    "\n",
    "# count_df"
   ]
  },
  {
   "cell_type": "code",
   "execution_count": null,
   "id": "dbcafbf5",
   "metadata": {},
   "outputs": [],
   "source": [
    "len(D)"
   ]
  },
  {
   "cell_type": "code",
   "execution_count": null,
   "id": "35cbb772",
   "metadata": {},
   "outputs": [],
   "source": [
    "# some parameters for improved plotting aesthetics\n",
    "# mpl.rcParams['xtick.labelsize'] = 15 \n",
    "plt.rcParams[\"font.weight\"] = \"bold\"\n",
    "\n",
    "plt.figure(figsize = (10,10))\n",
    "ax = sns.barplot(y=\"High Level Substrate\", x=\"Number of PULs\", data=count_df)\n",
    "# put the labels but rotate them\n",
    "plt.yticks(range(len(D)), list(D.keys()), weight = \"bold\", fontsize=14)\n",
    "# increase the ticks on y\n",
    "plt.xticks(fontsize=14)\n",
    "# give labels to x\n",
    "plt.xlabel(\"Number of PULs\", weight = \"bold\", fontsize = 20)\n",
    "# give labels to y\n",
    "plt.ylabel(\"High Level Substrate\", weight = \"bold\", fontsize = 20)\n",
    "# put the title\n",
    "# plt.title(\"Frequencies for the High Level Substrates\", weight = \"bold\", fontsize = 20)\n",
    "plt.savefig('cgc_frequencies.png', \n",
    "           bbox_inches='tight', facecolor =\"w\")\n",
    "plt.show()"
   ]
  },
  {
   "cell_type": "code",
   "execution_count": null,
   "id": "14c62c53",
   "metadata": {},
   "outputs": [],
   "source": [
    "unfiltered_data = pd.read_excel(\"D:\\subFinder\\Data\\Supervised_Sequences\\dbCAN-PUL_07-01-2022.xlsx\")"
   ]
  },
  {
   "cell_type": "code",
   "execution_count": null,
   "id": "f28a4059",
   "metadata": {},
   "outputs": [],
   "source": [
    "unfiltered_data = unfiltered_data[[\"ID\", \"organism_name\"]]"
   ]
  },
  {
   "cell_type": "code",
   "execution_count": null,
   "id": "92bdb76d",
   "metadata": {},
   "outputs": [],
   "source": [
    "unfiltered_data[\"Genera\"] = pd.DataFrame(unfiltered_data[\"organism_name\"].str.split(\" \").tolist())[0]"
   ]
  },
  {
   "cell_type": "code",
   "execution_count": null,
   "id": "ea1a0746",
   "metadata": {},
   "outputs": [],
   "source": [
    "# merge to bring in the genera information\n",
    "data = data.merge(unfiltered_data[[\"ID\",\"Genera\"]], how = \"left\", left_on = \"PUL_ID\",right_on = \"ID\")"
   ]
  },
  {
   "cell_type": "code",
   "execution_count": null,
   "id": "5f05d2ee",
   "metadata": {},
   "outputs": [],
   "source": [
    "count_df_Genera = pd.DataFrame(data.Genera.value_counts()).reset_index()\n",
    "\n",
    "count_df_Genera.columns = [\"Genera\", \"Number of PULs\"]\n",
    "\n",
    "# count_df_Genera.head(20)"
   ]
  },
  {
   "cell_type": "code",
   "execution_count": null,
   "id": "705b5fcf",
   "metadata": {},
   "outputs": [],
   "source": [
    "threshold = 3"
   ]
  },
  {
   "cell_type": "code",
   "execution_count": null,
   "id": "005b20e5",
   "metadata": {},
   "outputs": [],
   "source": [
    "count_df_Genera = count_df_Genera[count_df_Genera[\"Number of PULs\"] >= threshold]"
   ]
  },
  {
   "cell_type": "code",
   "execution_count": null,
   "id": "eae51da9",
   "metadata": {},
   "outputs": [],
   "source": [
    "plt.figure(figsize = (10,10))\n",
    "ax = sns.barplot(y=\"Genera\", x=\"Number of PULs\", data=count_df_Genera)\n",
    "# put the labels but rotate them\n",
    "plt.yticks(range(len(count_df_Genera)), list(count_df_Genera[\"Genera\"]), weight = \"bold\", fontsize=14)\n",
    "# increase the ticks on y\n",
    "plt.xticks(fontsize=14)\n",
    "# give labels to x\n",
    "plt.xlabel(\"Number of PULs\", weight = \"bold\", fontsize = 20)\n",
    "# give labels to y\n",
    "plt.ylabel(\"Genera\", weight = \"bold\", fontsize = 20)\n",
    "# put the title\n",
    "# plt.title(\"Frequencies for the Genera\", weight = \"bold\", fontsize = 20)\n",
    "plt.savefig('genera_frequencies.png', \n",
    "           bbox_inches='tight', facecolor =\"w\")\n",
    "plt.show()"
   ]
  },
  {
   "cell_type": "code",
   "execution_count": null,
   "id": "9e7c8892",
   "metadata": {},
   "outputs": [],
   "source": [
    "temp2 = data.copy()"
   ]
  },
  {
   "cell_type": "code",
   "execution_count": null,
   "id": "653d44cf",
   "metadata": {},
   "outputs": [],
   "source": [
    "temp2[\"sig_gene_seq\"] = [seq.replace(\"|\", \",\").replace(\",\", \" \") for seq in temp2[\"sig_gene_seq\"] ]"
   ]
  },
  {
   "cell_type": "code",
   "execution_count": null,
   "id": "6b49df75",
   "metadata": {},
   "outputs": [],
   "source": [
    "outer_catch = []\n",
    "for seq in temp2[\"sig_gene_seq\"]:\n",
    "    inner_catch = []\n",
    "    for gene in seq.split(\" \"):\n",
    "        items = gene.split(\"_\")\n",
    "        if len(items) == 2: \n",
    "            if items[1].isdigit():\n",
    "                inner_catch.append(items[0])\n",
    "            else: \n",
    "                inner_catch.append(gene)      \n",
    "        else: \n",
    "            inner_catch.append(gene)\n",
    "    outer_catch.append(\" \".join(inner_catch))\n",
    "    "
   ]
  },
  {
   "cell_type": "code",
   "execution_count": null,
   "id": "3311beb7",
   "metadata": {},
   "outputs": [],
   "source": [
    "temp2[\"sig_gene_seq\"] = outer_catch"
   ]
  },
  {
   "cell_type": "code",
   "execution_count": null,
   "id": "34333435",
   "metadata": {},
   "outputs": [],
   "source": [
    "all_genes = [gene for seq in temp2[\"sig_gene_seq\"].values for gene in seq.split(\" \")]"
   ]
  },
  {
   "cell_type": "code",
   "execution_count": null,
   "id": "4d7351c9",
   "metadata": {},
   "outputs": [],
   "source": [
    "all_genes = [item for item in all_genes]"
   ]
  },
  {
   "cell_type": "code",
   "execution_count": null,
   "id": "33f32bf4",
   "metadata": {},
   "outputs": [],
   "source": [
    "## some investigation on the genes let's do\n",
    "counter_dict = Counter(all_genes)"
   ]
  },
  {
   "cell_type": "code",
   "execution_count": null,
   "id": "a21978b0",
   "metadata": {},
   "outputs": [],
   "source": [
    "# sort in descending order\n",
    "counter_dict =dict(sorted(counter_dict.items(), key=lambda item: item[1], reverse = True))"
   ]
  },
  {
   "cell_type": "code",
   "execution_count": null,
   "id": "f78e0a2e",
   "metadata": {},
   "outputs": [],
   "source": [
    "# manipulate for plotting\n",
    "first2pairs = {k: counter_dict[k] for k in list(counter_dict)}"
   ]
  },
  {
   "cell_type": "code",
   "execution_count": null,
   "id": "71e49e33",
   "metadata": {},
   "outputs": [],
   "source": [
    "gene_count_df = pd.DataFrame(first2pairs, index = [0]).T.reset_index()"
   ]
  },
  {
   "cell_type": "code",
   "execution_count": null,
   "id": "b6cac1b9",
   "metadata": {},
   "outputs": [],
   "source": [
    "gene_count_df.columns = [\"Gene\", \"Frequency\"]"
   ]
  },
  {
   "cell_type": "code",
   "execution_count": null,
   "id": "b78ff040",
   "metadata": {},
   "outputs": [],
   "source": [
    "sig_gene = pd.read_csv(r\"D:\\subFinder\\Data\\Supervised_Sequences\\signature_gene_reference.tsv\", sep = \"\\t\", header = None)\n",
    "\n",
    "sig_gene.columns = [\"Gene_Type\", \"Gene\"]"
   ]
  },
  {
   "cell_type": "code",
   "execution_count": null,
   "id": "b9b949b9",
   "metadata": {},
   "outputs": [],
   "source": [
    "missing_mapping = {'8.A.49': \"TC\",\n",
    " 'CBM82': \"CAZyme\",\n",
    " 'CBM83': \"CAZyme\",\n",
    " 'CE10': \"CAZyme\",\n",
    " 'GH150': \"CAZyme\",\n",
    " 'GH157': \"CAZyme\",\n",
    " 'GH5_42': \"CAZyme\",\n",
    " 'GH96': \"CAZyme\",\n",
    " 'PL12_2': \"CAZyme\",\n",
    " 'PL15_1': \"CAZyme\",\n",
    " 'PL15_2': \"CAZyme\",\n",
    " 'PL18': \"CAZyme\",\n",
    " 'PRD_Mga': \"CAZyme\"}\n",
    "\n",
    "missing_mapping = pd.DataFrame(missing_mapping, index = [0])\n",
    "\n",
    "missing_mapping = missing_mapping.T.reset_index()\n",
    "\n",
    "missing_mapping.columns = [ \"Gene\", \"Gene_Type\"]\n",
    "\n",
    "sig_gene = pd.concat([missing_mapping, sig_gene], 0, ignore_index = True)\n",
    "\n",
    "# sig_gene.shape"
   ]
  },
  {
   "cell_type": "code",
   "execution_count": null,
   "id": "d1587c40",
   "metadata": {},
   "outputs": [],
   "source": [
    "gene_count_df = gene_count_df.merge(sig_gene, how = \"left\", on = \"Gene\").sort_values([\"Gene_Type\", \"Frequency\"], ascending = [True, False])"
   ]
  },
  {
   "cell_type": "code",
   "execution_count": null,
   "id": "3170f283",
   "metadata": {},
   "outputs": [],
   "source": [
    "gene_count_df.head()"
   ]
  },
  {
   "cell_type": "code",
   "execution_count": null,
   "id": "49cebc2d",
   "metadata": {},
   "outputs": [],
   "source": [
    "temp_data = data.copy()"
   ]
  },
  {
   "cell_type": "code",
   "execution_count": null,
   "id": "b65383f3",
   "metadata": {},
   "outputs": [],
   "source": [
    "temp_data[\"sig_gene_seq\"] = [seq.replace(\"|\", \",\").replace(\",\", \" \") for seq in temp_data[\"sig_gene_seq\"] ]"
   ]
  },
  {
   "cell_type": "code",
   "execution_count": null,
   "id": "1265374a",
   "metadata": {},
   "outputs": [],
   "source": [
    "outer_catch = []\n",
    "for seq in temp_data[\"sig_gene_seq\"]:\n",
    "    inner_catch = []\n",
    "    for gene in seq.split(\" \"):\n",
    "        items = gene.split(\"_\")\n",
    "        if len(items) == 2: \n",
    "            if items[1].isdigit():\n",
    "                inner_catch.append(items[0])\n",
    "            else: \n",
    "                inner_catch.append(gene)      \n",
    "        else: \n",
    "            inner_catch.append(gene)\n",
    "    outer_catch.append(\" \".join(inner_catch))\n",
    "    "
   ]
  },
  {
   "cell_type": "code",
   "execution_count": null,
   "id": "b2d9d881",
   "metadata": {},
   "outputs": [],
   "source": [
    "temp_data[\"sig_gene_seq\"] = outer_catch"
   ]
  },
  {
   "cell_type": "code",
   "execution_count": null,
   "id": "892ab31f",
   "metadata": {},
   "outputs": [],
   "source": [
    "def make_heatmaps(gene_type, vectorization_type, figsize = (15, 5), threshold = 25, label = 1):\n",
    "    temp1 = temp_data.copy()\n",
    "    # select the genes first\n",
    "#     selected_genes = sig_gene[sig_gene[\"Gene_Type\"] == gene_type]\n",
    "#     vocabulary = selected_genes[\"Gene\"].values\n",
    "    vocabulary_df = gene_count_df[gene_count_df[\"Gene_Type\"] == gene_type]\n",
    "    vocabulary = vocabulary_df[vocabulary_df[\"Frequency\"] >= threshold][\"Gene\"].values\n",
    "    \n",
    "    \n",
    "    removed_catch = []\n",
    "    for seq in temp1[\"sig_gene_seq\"]: \n",
    "        removed_catch.append(\" \".join([gene for gene in seq.split(\" \") if gene in vocabulary]))\n",
    "    \n",
    "    temp1[\"sig_gene_seq\"] = removed_catch\n",
    "    \n",
    "    \n",
    "    current_all_genes = [gene for seq in temp1[\"sig_gene_seq\"] for gene in seq.split(\" \")]\n",
    "    \n",
    "    \n",
    "    vocabulary = list(set(current_all_genes).intersection(vocabulary))\n",
    "    \n",
    "    \n",
    "    # instantiate the text vectorization layer\n",
    "    text_vec = tf.keras.layers.TextVectorization(standardize=None, output_mode = vectorization_type, \n",
    "                                                vocabulary =vocabulary)\n",
    "    \n",
    "    transformed_seqs = text_vec(temp1[\"sig_gene_seq\"])\n",
    "    transformed_gene_seqs_df = pd.DataFrame(transformed_seqs)\n",
    "    transformed_gene_seqs_df = transformed_gene_seqs_df.iloc[:,1:]\n",
    "    transformed_gene_seqs_df.columns = vocabulary\n",
    "    transformed_gene_seqs_df[\"high_level_substr\"] = temp_data[[\"high_level_substr\"]].values\n",
    "    heatmap = transformed_gene_seqs_df.groupby(\"high_level_substr\").sum()\n",
    "    heatmap = heatmap.reindex(sorted(heatmap.columns), axis=1)\n",
    "    fig = plt.figure(figsize = figsize)\n",
    "    fig = sns.heatmap(heatmap,cbar_kws={'label': 'Number of PULs'})\n",
    "    cbar_axes = fig.figure.axes[-1]\n",
    "    plt.xlabel(gene_type + \"_\" + \"Genes\", weight = \"bold\", fontsize = 20)\n",
    "\n",
    "    plt.ylabel(\"High level substrates\", weight = \"bold\", fontsize = 20)\n",
    "    fig.figure.axes[-1].yaxis.label.set_size(20)\n",
    "    plt.xticks(rotation = 90)\n",
    "    return fig, vocabulary"
   ]
  },
  {
   "cell_type": "code",
   "execution_count": null,
   "id": "6ee885f0",
   "metadata": {},
   "outputs": [],
   "source": [
    "gene_count_df[gene_count_df[\"Gene_Type\"] == \"CAZyme\"].head(20)"
   ]
  },
  {
   "cell_type": "code",
   "execution_count": null,
   "id": "d8dd566d",
   "metadata": {},
   "outputs": [],
   "source": [
    "# plt.figure(figsize = (10, 5))\n",
    "fig, vocab = make_heatmaps(\"CAZyme\", \"multi_hot\", (7, 7), 35)\n",
    "plt.savefig('CAZyme_heatmap.png', \n",
    "           bbox_inches='tight', facecolor =\"w\")\n",
    "plt.show()"
   ]
  },
  {
   "cell_type": "code",
   "execution_count": null,
   "id": "b295d40d",
   "metadata": {},
   "outputs": [],
   "source": [
    "gene_count_df[gene_count_df[\"Gene_Type\"] == \"TC\"].head(25)"
   ]
  },
  {
   "cell_type": "code",
   "execution_count": null,
   "id": "bba66493",
   "metadata": {},
   "outputs": [],
   "source": [
    "# plt.figure(figsize = (10, 5))\n",
    "make_heatmaps(\"TC\", \"multi_hot\", (7,7), 15)\n",
    "plt.savefig('TC_heatmap.png', \n",
    "           bbox_inches='tight', facecolor =\"w\")\n",
    "plt.show()"
   ]
  },
  {
   "cell_type": "code",
   "execution_count": null,
   "id": "8224ba59",
   "metadata": {},
   "outputs": [],
   "source": [
    "gene_count_df[gene_count_df[\"Gene_Type\"] == \"STP\"].head(15)"
   ]
  },
  {
   "cell_type": "code",
   "execution_count": null,
   "id": "4931db87",
   "metadata": {},
   "outputs": [],
   "source": [
    "# plt.figure(figsize = (10, 5))\n",
    "make_heatmaps(\"STP\", \"multi_hot\", (7,7), 14)\n",
    "plt.savefig('STP_heatmap.png', \n",
    "           bbox_inches='tight', facecolor =\"w\")\n",
    "plt.show()"
   ]
  },
  {
   "cell_type": "code",
   "execution_count": null,
   "id": "a5052534",
   "metadata": {},
   "outputs": [],
   "source": [
    "gene_count_df[gene_count_df[\"Gene_Type\"] == \"TF\"].head(25)\n"
   ]
  },
  {
   "cell_type": "code",
   "execution_count": null,
   "id": "37896c6f",
   "metadata": {},
   "outputs": [],
   "source": [
    "# plt.figure(figsize = (10, 5))\n",
    "make_heatmaps(\"TF\", \"multi_hot\", (7,7), 11)\n",
    "plt.savefig('TF_heatmap.png', \n",
    "           bbox_inches='tight', facecolor =\"w\")\n",
    "plt.show()"
   ]
  },
  {
   "cell_type": "code",
   "execution_count": null,
   "id": "794b5bc8",
   "metadata": {},
   "outputs": [],
   "source": [
    "## One last plot comparing the number of sequences of supervised with unsupervised\n",
    "data.shape"
   ]
  },
  {
   "cell_type": "code",
   "execution_count": null,
   "id": "896a05eb",
   "metadata": {},
   "outputs": [],
   "source": [
    "rumen = pd.read_csv(r\"D:\\subFinder\\Data\\Output\\Unsupervised_10_12\\output_cowrumen.csv\").drop_duplicates(\"sequence\").shape[0]"
   ]
  },
  {
   "cell_type": "code",
   "execution_count": null,
   "id": "bb9ef958",
   "metadata": {},
   "outputs": [],
   "source": [
    "earlier = pd.read_csv(r\"D:\\subFinder\\Data\\Output\\Unsupervised_10_12\\output_earlier.csv\").drop_duplicates(\"sequence\").shape[0]"
   ]
  },
  {
   "cell_type": "code",
   "execution_count": null,
   "id": "58ea5dd9",
   "metadata": {},
   "outputs": [],
   "source": [
    "oral = pd.read_csv(r\"D:\\subFinder\\Data\\Output\\Unsupervised_10_12\\output_humanoral.csv\").drop_duplicates(\"sequence\").shape[0]"
   ]
  },
  {
   "cell_type": "code",
   "execution_count": null,
   "id": "131c99a5",
   "metadata": {},
   "outputs": [],
   "source": [
    "marine = pd.read_csv(r\"D:\\subFinder\\Data\\Output\\Unsupervised_10_12\\output_marine.csv\").drop_duplicates(\"sequence\").shape[0]"
   ]
  },
  {
   "cell_type": "code",
   "execution_count": null,
   "id": "74910f73",
   "metadata": {},
   "outputs": [],
   "source": [
    "uhgg = pd.read_csv(r\"D:\\subFinder\\Data\\Output\\Unsupervised_10_12\\output_UHGG.csv\").drop_duplicates(\"sequence\").shape[0]"
   ]
  },
  {
   "cell_type": "code",
   "execution_count": null,
   "id": "a04d54b0",
   "metadata": {},
   "outputs": [],
   "source": [
    "unsup_samples = {\"Cow Rumen\": rumen, \n",
    " \"Unsupervised\": earlier, \n",
    " \"Human Oral\": oral, \n",
    " \"Marine\": marine, \n",
    " \"UHGG\": uhgg}"
   ]
  },
  {
   "cell_type": "code",
   "execution_count": null,
   "id": "11fd2d1e",
   "metadata": {},
   "outputs": [],
   "source": [
    "sample_counts = pd.DataFrame(unsup_samples, index = [0]).T.reset_index()"
   ]
  },
  {
   "cell_type": "code",
   "execution_count": null,
   "id": "77bed16e",
   "metadata": {},
   "outputs": [],
   "source": [
    "sample_counts = sample_counts.sort_values([0], ascending = False)"
   ]
  },
  {
   "cell_type": "code",
   "execution_count": null,
   "id": "11676355",
   "metadata": {},
   "outputs": [],
   "source": [
    "sample_counts.columns = [\"Domain Type\", \"Number of PULs\"]"
   ]
  },
  {
   "cell_type": "code",
   "execution_count": null,
   "id": "02a8dcd2",
   "metadata": {},
   "outputs": [],
   "source": [
    "plt.figure(figsize = (10,10))\n",
    "ax = sns.barplot(y=\"Domain Type\", x=\"Number of PULs\", data=sample_counts)\n",
    "# put the labels but rotate them\n",
    "# plt.yticks(range(len(count_df_Genera)), list(count_df_Genera[\"Genera\"]), weight = \"bold\", fontsize=14)\n",
    "# increase the ticks on y\n",
    "plt.xticks(fontsize=14)\n",
    "# give labels to x\n",
    "plt.xlabel(\"Number of PULs\", weight = \"bold\", fontsize = 20)\n",
    "# give labels to y\n",
    "plt.ylabel(\"Unsupervised Seqences Domain Type\", weight = \"bold\", fontsize = 20)\n",
    "# put the title\n",
    "# plt.title(\"Number of unsupervised PULs by domain type\", weight = \"bold\", fontsize = 20)\n",
    "plt.savefig('Unsupervised_Domain_frequencies.png', \n",
    "           bbox_inches='tight', facecolor =\"w\")\n",
    "plt.show()"
   ]
  }
 ],
 "metadata": {
  "kernelspec": {
   "display_name": "newone1",
   "language": "python",
   "name": "newone1"
  },
  "language_info": {
   "codemirror_mode": {
    "name": "ipython",
    "version": 3
   },
   "file_extension": ".py",
   "mimetype": "text/x-python",
   "name": "python",
   "nbconvert_exporter": "python",
   "pygments_lexer": "ipython3",
   "version": "3.9.12"
  }
 },
 "nbformat": 4,
 "nbformat_minor": 5
}
